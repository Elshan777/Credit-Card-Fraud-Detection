{
 "cells": [
  {
   "cell_type": "markdown",
   "metadata": {},
   "source": [
    "# In this notebook I will present my models which used for predictions"
   ]
  },
  {
   "cell_type": "code",
   "execution_count": 1,
   "metadata": {},
   "outputs": [],
   "source": [
    "import pandas as pd\n",
    "import numpy as np\n",
    "import seaborn as sns\n",
    "import matplotlib.pyplot as plt\n",
    "import statsmodels.api as sm\n",
    "from collections import Counter\n",
    "from imblearn.under_sampling import RandomUnderSampler"
   ]
  },
  {
   "cell_type": "code",
   "execution_count": 2,
   "metadata": {},
   "outputs": [],
   "source": [
    "df = pd.read_csv('../creditcard.csv')"
   ]
  },
  {
   "cell_type": "code",
   "execution_count": 3,
   "metadata": {},
   "outputs": [],
   "source": [
    "X = df.iloc[:, :-1]\n",
    "y = df['Class']"
   ]
  },
  {
   "cell_type": "code",
   "execution_count": 4,
   "metadata": {},
   "outputs": [],
   "source": [
    "und = RandomUnderSampler()\n",
    "X_und, y_und = und.fit_resample(X, y)"
   ]
  },
  {
   "cell_type": "code",
   "execution_count": 5,
   "metadata": {},
   "outputs": [
    {
     "data": {
      "text/plain": [
       "Counter({0: 492, 1: 492})"
      ]
     },
     "execution_count": 5,
     "metadata": {},
     "output_type": "execute_result"
    }
   ],
   "source": [
    "Counter(y_und)"
   ]
  },
  {
   "cell_type": "code",
   "execution_count": 6,
   "metadata": {},
   "outputs": [
    {
     "data": {
      "text/html": [
       "<div>\n",
       "<style scoped>\n",
       "    .dataframe tbody tr th:only-of-type {\n",
       "        vertical-align: middle;\n",
       "    }\n",
       "\n",
       "    .dataframe tbody tr th {\n",
       "        vertical-align: top;\n",
       "    }\n",
       "\n",
       "    .dataframe thead th {\n",
       "        text-align: right;\n",
       "    }\n",
       "</style>\n",
       "<table border=\"1\" class=\"dataframe\">\n",
       "  <thead>\n",
       "    <tr style=\"text-align: right;\">\n",
       "      <th></th>\n",
       "      <th>Time</th>\n",
       "      <th>V1</th>\n",
       "      <th>V2</th>\n",
       "      <th>V3</th>\n",
       "      <th>V4</th>\n",
       "      <th>V5</th>\n",
       "      <th>V6</th>\n",
       "      <th>V7</th>\n",
       "      <th>V8</th>\n",
       "      <th>V9</th>\n",
       "      <th>...</th>\n",
       "      <th>V21</th>\n",
       "      <th>V22</th>\n",
       "      <th>V23</th>\n",
       "      <th>V24</th>\n",
       "      <th>V25</th>\n",
       "      <th>V26</th>\n",
       "      <th>V27</th>\n",
       "      <th>V28</th>\n",
       "      <th>Amount</th>\n",
       "      <th>Class</th>\n",
       "    </tr>\n",
       "  </thead>\n",
       "  <tbody>\n",
       "    <tr>\n",
       "      <th>0</th>\n",
       "      <td>43472.0</td>\n",
       "      <td>-2.703379</td>\n",
       "      <td>-2.765187</td>\n",
       "      <td>1.634296</td>\n",
       "      <td>-0.921596</td>\n",
       "      <td>2.548505</td>\n",
       "      <td>-3.138880</td>\n",
       "      <td>-1.394357</td>\n",
       "      <td>0.030538</td>\n",
       "      <td>-1.443436</td>\n",
       "      <td>...</td>\n",
       "      <td>-0.143472</td>\n",
       "      <td>-0.962849</td>\n",
       "      <td>0.347564</td>\n",
       "      <td>0.374059</td>\n",
       "      <td>0.456712</td>\n",
       "      <td>0.924996</td>\n",
       "      <td>-0.174454</td>\n",
       "      <td>0.102622</td>\n",
       "      <td>13.94</td>\n",
       "      <td>0</td>\n",
       "    </tr>\n",
       "    <tr>\n",
       "      <th>1</th>\n",
       "      <td>133456.0</td>\n",
       "      <td>2.128006</td>\n",
       "      <td>-1.815790</td>\n",
       "      <td>-0.232000</td>\n",
       "      <td>-1.739638</td>\n",
       "      <td>-1.561162</td>\n",
       "      <td>0.581367</td>\n",
       "      <td>-1.903957</td>\n",
       "      <td>0.244592</td>\n",
       "      <td>-0.915388</td>\n",
       "      <td>...</td>\n",
       "      <td>-0.043637</td>\n",
       "      <td>0.246593</td>\n",
       "      <td>0.268189</td>\n",
       "      <td>0.200817</td>\n",
       "      <td>-0.532771</td>\n",
       "      <td>-0.256869</td>\n",
       "      <td>0.052548</td>\n",
       "      <td>-0.027736</td>\n",
       "      <td>64.30</td>\n",
       "      <td>0</td>\n",
       "    </tr>\n",
       "    <tr>\n",
       "      <th>2</th>\n",
       "      <td>61869.0</td>\n",
       "      <td>-0.805320</td>\n",
       "      <td>-0.979016</td>\n",
       "      <td>2.281645</td>\n",
       "      <td>-1.474275</td>\n",
       "      <td>-0.873525</td>\n",
       "      <td>0.729081</td>\n",
       "      <td>-0.033706</td>\n",
       "      <td>0.185215</td>\n",
       "      <td>0.171499</td>\n",
       "      <td>...</td>\n",
       "      <td>0.287699</td>\n",
       "      <td>0.896826</td>\n",
       "      <td>-0.069809</td>\n",
       "      <td>-0.419164</td>\n",
       "      <td>0.306186</td>\n",
       "      <td>-0.117887</td>\n",
       "      <td>-0.093309</td>\n",
       "      <td>-0.124221</td>\n",
       "      <td>145.59</td>\n",
       "      <td>0</td>\n",
       "    </tr>\n",
       "    <tr>\n",
       "      <th>3</th>\n",
       "      <td>12443.0</td>\n",
       "      <td>1.105762</td>\n",
       "      <td>-0.616627</td>\n",
       "      <td>0.816607</td>\n",
       "      <td>0.339242</td>\n",
       "      <td>-0.900344</td>\n",
       "      <td>0.138514</td>\n",
       "      <td>-0.719458</td>\n",
       "      <td>0.063580</td>\n",
       "      <td>2.698915</td>\n",
       "      <td>...</td>\n",
       "      <td>-0.399295</td>\n",
       "      <td>-0.884769</td>\n",
       "      <td>-0.075285</td>\n",
       "      <td>-0.466664</td>\n",
       "      <td>0.157056</td>\n",
       "      <td>0.950496</td>\n",
       "      <td>-0.084727</td>\n",
       "      <td>0.012128</td>\n",
       "      <td>94.85</td>\n",
       "      <td>0</td>\n",
       "    </tr>\n",
       "    <tr>\n",
       "      <th>4</th>\n",
       "      <td>49506.0</td>\n",
       "      <td>-1.305315</td>\n",
       "      <td>-0.801638</td>\n",
       "      <td>2.517726</td>\n",
       "      <td>-0.561589</td>\n",
       "      <td>-1.311136</td>\n",
       "      <td>0.589640</td>\n",
       "      <td>0.660796</td>\n",
       "      <td>-0.744293</td>\n",
       "      <td>0.225922</td>\n",
       "      <td>...</td>\n",
       "      <td>-0.110095</td>\n",
       "      <td>0.694828</td>\n",
       "      <td>0.140696</td>\n",
       "      <td>0.437557</td>\n",
       "      <td>-0.223559</td>\n",
       "      <td>-0.281383</td>\n",
       "      <td>-0.974422</td>\n",
       "      <td>-0.238621</td>\n",
       "      <td>160.00</td>\n",
       "      <td>0</td>\n",
       "    </tr>\n",
       "  </tbody>\n",
       "</table>\n",
       "<p>5 rows × 31 columns</p>\n",
       "</div>"
      ],
      "text/plain": [
       "       Time        V1        V2        V3        V4        V5        V6  \\\n",
       "0   43472.0 -2.703379 -2.765187  1.634296 -0.921596  2.548505 -3.138880   \n",
       "1  133456.0  2.128006 -1.815790 -0.232000 -1.739638 -1.561162  0.581367   \n",
       "2   61869.0 -0.805320 -0.979016  2.281645 -1.474275 -0.873525  0.729081   \n",
       "3   12443.0  1.105762 -0.616627  0.816607  0.339242 -0.900344  0.138514   \n",
       "4   49506.0 -1.305315 -0.801638  2.517726 -0.561589 -1.311136  0.589640   \n",
       "\n",
       "         V7        V8        V9  ...       V21       V22       V23       V24  \\\n",
       "0 -1.394357  0.030538 -1.443436  ... -0.143472 -0.962849  0.347564  0.374059   \n",
       "1 -1.903957  0.244592 -0.915388  ... -0.043637  0.246593  0.268189  0.200817   \n",
       "2 -0.033706  0.185215  0.171499  ...  0.287699  0.896826 -0.069809 -0.419164   \n",
       "3 -0.719458  0.063580  2.698915  ... -0.399295 -0.884769 -0.075285 -0.466664   \n",
       "4  0.660796 -0.744293  0.225922  ... -0.110095  0.694828  0.140696  0.437557   \n",
       "\n",
       "        V25       V26       V27       V28  Amount  Class  \n",
       "0  0.456712  0.924996 -0.174454  0.102622   13.94      0  \n",
       "1 -0.532771 -0.256869  0.052548 -0.027736   64.30      0  \n",
       "2  0.306186 -0.117887 -0.093309 -0.124221  145.59      0  \n",
       "3  0.157056  0.950496 -0.084727  0.012128   94.85      0  \n",
       "4 -0.223559 -0.281383 -0.974422 -0.238621  160.00      0  \n",
       "\n",
       "[5 rows x 31 columns]"
      ]
     },
     "execution_count": 6,
     "metadata": {},
     "output_type": "execute_result"
    }
   ],
   "source": [
    "# Lets concat undersampled X and y\n",
    "df_und = pd.concat([X_und, y_und], axis=1)\n",
    "df_und.head()"
   ]
  },
  {
   "cell_type": "markdown",
   "metadata": {},
   "source": [
    "## Lets build our first Pipeline"
   ]
  },
  {
   "cell_type": "code",
   "execution_count": 8,
   "metadata": {},
   "outputs": [],
   "source": [
    "from sklearn.tree import DecisionTreeClassifier\n",
    "from sklearn.ensemble import GradientBoostingClassifier\n",
    "from catboost import CatBoostClassifier\n",
    "from sklearn.ensemble import GradientBoostingClassifier\n",
    "from sklearn.neighbors import KNeighborsClassifier\n",
    "from sklearn.ensemble import RandomForestClassifier\n",
    "from sklearn.linear_model import LogisticRegression\n",
    "from sklearn.svm import SVC\n",
    "from xgboost import XGBClassifier\n",
    "from sklearn.naive_bayes import GaussianNB\n",
    "from sklearn.neighbors import KNeighborsClassifier\n",
    "from sklearn.pipeline import Pipeline\n",
    "from sklearn.compose import ColumnTransformer\n",
    "from sklearn.metrics import roc_auc_score, f1_score, recall_score\n",
    "from sklearn.model_selection import train_test_split\n",
    "from sklearn.linear_model import LogisticRegression\n",
    "from lightgbm import LGBMClassifier\n",
    "from sklearn.ensemble import BaggingClassifier"
   ]
  },
  {
   "cell_type": "code",
   "execution_count": 15,
   "metadata": {},
   "outputs": [],
   "source": [
    "algos = {\n",
    "    'DecisionTreeClassifier' : DecisionTreeClassifier(),\n",
    "    'KNeighborsClassifier': KNeighborsClassifier(),\n",
    "    'GaussianNB' : GaussianNB(),\n",
    "    'LogisticRegression' : LogisticRegression(max_iter=200),\n",
    "#     'BaggingClassifier' : BaggingClassifier(base_estimator=DecisionTreeClassifier(), n_estimators=50)\n",
    "}"
   ]
  },
  {
   "cell_type": "code",
   "execution_count": 16,
   "metadata": {},
   "outputs": [],
   "source": [
    "X_train, X_test, y_train, y_test = train_test_split(X_und, y_und)"
   ]
  },
  {
   "cell_type": "code",
   "execution_count": 17,
   "metadata": {},
   "outputs": [
    {
     "name": "stdout",
     "output_type": "stream",
     "text": [
      "DecisionTreeClassifier ROC SCORE 0.8937520661157025\n",
      "KNeighborsClassifier ROC SCORE 0.668198347107438\n",
      "GaussianNB ROC SCORE 0.9586776859504131\n",
      "LogisticRegression ROC SCORE 0.969785123966942\n"
     ]
    }
   ],
   "source": [
    "for name, classifier in algos.items():\n",
    "    pipeline = Pipeline(steps=[\n",
    "        ('classifier', classifier)\n",
    "    ])\n",
    "    pipeline.fit(X_train, y_train)\n",
    "    y_predicted=pipeline.predict_proba(X_test)\n",
    "    print(name,'ROC SCORE', roc_auc_score(y_test, y_predicted[:, 1]))"
   ]
  },
  {
   "cell_type": "markdown",
   "metadata": {},
   "source": [
    "### As we can see Gaussian Naive Bayes along side with Logistic regression performed well on the data\n",
    "### Now I will try ensemble methods"
   ]
  },
  {
   "cell_type": "code",
   "execution_count": 18,
   "metadata": {},
   "outputs": [],
   "source": [
    "ensem = {\n",
    "    'RandomForestClassifier' : RandomForestClassifier(),\n",
    "    'GradientBoostingClassifier': GradientBoostingClassifier(),\n",
    "    'LGBMClassifier' : LGBMClassifier(),\n",
    "    'CatBoostClassifier' : CatBoostClassifier(verbose=False),\n",
    "}"
   ]
  },
  {
   "cell_type": "code",
   "execution_count": 19,
   "metadata": {
    "scrolled": true
   },
   "outputs": [
    {
     "name": "stdout",
     "output_type": "stream",
     "text": [
      "RandomForestClassifier ROC SCORE 0.9723305785123966\n",
      "GradientBoostingClassifier ROC SCORE 0.9738181818181818\n",
      "LGBMClassifier ROC SCORE 0.979702479338843\n",
      "CatBoostClassifier ROC SCORE 0.9795702479338844\n"
     ]
    }
   ],
   "source": [
    "for name, classifier in ensem.items():\n",
    "    pipe_en = Pipeline(steps=[\n",
    "        ('classifier', classifier)\n",
    "    ])\n",
    "    pipe_en.fit(X_train, y_train)\n",
    "    y_predicted=pipe_en.predict_proba(X_test)\n",
    "    print(name,'ROC SCORE', roc_auc_score(y_test, y_predicted[:, 1]))"
   ]
  },
  {
   "cell_type": "markdown",
   "metadata": {},
   "source": [
    "## The accuracy might change depending on train test split so we will try cross validation "
   ]
  },
  {
   "cell_type": "code",
   "execution_count": 20,
   "metadata": {},
   "outputs": [],
   "source": [
    "from sklearn.model_selection import StratifiedKFold\n",
    "from sklearn.model_selection import KFold\n",
    "from sklearn.model_selection import cross_val_score"
   ]
  },
  {
   "cell_type": "code",
   "execution_count": 22,
   "metadata": {},
   "outputs": [],
   "source": [
    "models = {\n",
    "    'LogisticRegression' : LogisticRegression(max_iter=200 ),\n",
    "    'RandomForestClassifier' : RandomForestClassifier(),\n",
    "    'GradientBoostingClassifier': GradientBoostingClassifier(),\n",
    "    'LGBMClassifier' : LGBMClassifier(),\n",
    "    'CatBoostClassifier' : CatBoostClassifier(verbose=False),\n",
    "    'BaggingClassifier': BaggingClassifier(base_estimator=DecisionTreeClassifier(), n_estimators=50)\n",
    "}"
   ]
  },
  {
   "cell_type": "code",
   "execution_count": 23,
   "metadata": {},
   "outputs": [
    {
     "name": "stdout",
     "output_type": "stream",
     "text": [
      "LogisticRegression: 0.960918 (0.040008)\n",
      "RandomForestClassifier: 0.970503 (0.029596)\n",
      "GradientBoostingClassifier: 0.962829 (0.031238)\n",
      "LGBMClassifier: 0.968870 (0.029562)\n",
      "CatBoostClassifier: 0.973272 (0.027171)\n",
      "BaggingClassifier: 0.968474 (0.031461)\n"
     ]
    }
   ],
   "source": [
    "results = []\n",
    "names = []\n",
    "\n",
    "for name, model in models.items():\n",
    "    skfold = StratifiedKFold(n_splits=10)\n",
    "    cv_results = cross_val_score(model, X_und, y_und, cv=skfold, scoring='roc_auc')\n",
    "    results.append(cv_results)\n",
    "    names.append(name)\n",
    "    msg = '%s: %f (%f)' % (name, cv_results.mean(), cv_results.std())\n",
    "    print(msg)"
   ]
  },
  {
   "cell_type": "code",
   "execution_count": null,
   "metadata": {},
   "outputs": [],
   "source": []
  },
  {
   "cell_type": "code",
   "execution_count": null,
   "metadata": {},
   "outputs": [],
   "source": []
  },
  {
   "cell_type": "code",
   "execution_count": 25,
   "metadata": {},
   "outputs": [],
   "source": [
    "from sklearn.manifold import TSNE\n",
    "from sklearn.decomposition import PCA"
   ]
  },
  {
   "cell_type": "markdown",
   "metadata": {},
   "source": [
    "## In the EDA notebook we saw that dimensionality reduction techniques were useful. Let's try predicting on them"
   ]
  },
  {
   "cell_type": "code",
   "execution_count": 17,
   "metadata": {},
   "outputs": [],
   "source": [
    "X_new = df_und[['V12', 'V14', 'V10', 'V11', 'V17']]\n",
    "y_new = df_und.iloc[:, -1]"
   ]
  },
  {
   "cell_type": "code",
   "execution_count": 18,
   "metadata": {},
   "outputs": [
    {
     "name": "stdout",
     "output_type": "stream",
     "text": [
      "GaussianNB: 0.959539 (0.032323)\n"
     ]
    },
    {
     "name": "stderr",
     "output_type": "stream",
     "text": [
      "C:\\Users\\egadi\\anaconda3\\lib\\site-packages\\sklearn\\linear_model\\_logistic.py:763: ConvergenceWarning: lbfgs failed to converge (status=1):\n",
      "STOP: TOTAL NO. of ITERATIONS REACHED LIMIT.\n",
      "\n",
      "Increase the number of iterations (max_iter) or scale the data as shown in:\n",
      "    https://scikit-learn.org/stable/modules/preprocessing.html\n",
      "Please also refer to the documentation for alternative solver options:\n",
      "    https://scikit-learn.org/stable/modules/linear_model.html#logistic-regression\n",
      "  n_iter_i = _check_optimize_result(\n"
     ]
    },
    {
     "name": "stdout",
     "output_type": "stream",
     "text": [
      "LogisticRegression: 0.955950 (0.026540)\n",
      "RandomForestClassifier: 0.957468 (0.035475)\n",
      "GradientBoostingClassifier: 0.948928 (0.036886)\n",
      "LGBMClassifier: 0.952370 (0.031205)\n",
      "CatBoostClassifier: 0.955455 (0.028704)\n"
     ]
    }
   ],
   "source": [
    "results = []\n",
    "names = []\n",
    "\n",
    "for name, model in models.items():\n",
    "    skfold = StratifiedKFold(n_splits=10)\n",
    "    pipeline = Pipeline(steps=[\n",
    "        ('dim_red', PCA()),\n",
    "        ('classifier', model)\n",
    "    ])\n",
    "    pipeline.fit(X_train, y_train)\n",
    "    cv_results = cross_val_score(pipeline, X_new, y_new, cv=skfold, scoring='roc_auc')\n",
    "    results.append(cv_results)\n",
    "    names.append(name)\n",
    "    msg = '%s: %f (%f)' % (name, cv_results.mean(), cv_results.std())\n",
    "    print(msg)"
   ]
  },
  {
   "cell_type": "code",
   "execution_count": 19,
   "metadata": {},
   "outputs": [
    {
     "name": "stdout",
     "output_type": "stream",
     "text": [
      "GaussianNB: 0.959539 (0.032323)\n"
     ]
    },
    {
     "name": "stderr",
     "output_type": "stream",
     "text": [
      "C:\\Users\\egadi\\anaconda3\\lib\\site-packages\\sklearn\\linear_model\\_logistic.py:763: ConvergenceWarning: lbfgs failed to converge (status=1):\n",
      "STOP: TOTAL NO. of ITERATIONS REACHED LIMIT.\n",
      "\n",
      "Increase the number of iterations (max_iter) or scale the data as shown in:\n",
      "    https://scikit-learn.org/stable/modules/preprocessing.html\n",
      "Please also refer to the documentation for alternative solver options:\n",
      "    https://scikit-learn.org/stable/modules/linear_model.html#logistic-regression\n",
      "  n_iter_i = _check_optimize_result(\n"
     ]
    },
    {
     "name": "stdout",
     "output_type": "stream",
     "text": [
      "LogisticRegression: 0.955950 (0.026540)\n",
      "RandomForestClassifier: 0.958044 (0.034374)\n",
      "GradientBoostingClassifier: 0.949633 (0.037050)\n",
      "LGBMClassifier: 0.952370 (0.031205)\n",
      "CatBoostClassifier: 0.955455 (0.028704)\n"
     ]
    }
   ],
   "source": [
    "results = []\n",
    "names = []\n",
    "\n",
    "for name, model in models.items():\n",
    "    skfold = StratifiedKFold(n_splits=10)\n",
    "    pipeline = Pipeline(steps=[\n",
    "        ('dim_red', PCA()),\n",
    "        ('classifier', model)\n",
    "    ])\n",
    "    pipeline.fit(X_train, y_train)\n",
    "    cv_results = cross_val_score(pipeline, X_new, y_new, cv=skfold, scoring='roc_auc')\n",
    "    results.append(cv_results)\n",
    "    names.append(name)\n",
    "    msg = '%s: %f (%f)' % (name, cv_results.mean(), cv_results.std())\n",
    "    print(msg)"
   ]
  },
  {
   "cell_type": "code",
   "execution_count": null,
   "metadata": {},
   "outputs": [],
   "source": []
  },
  {
   "cell_type": "markdown",
   "metadata": {},
   "source": [
    "## Now try neural networks using tensorflow"
   ]
  },
  {
   "cell_type": "code",
   "execution_count": 87,
   "metadata": {},
   "outputs": [],
   "source": [
    "import tensorflow as tf\n",
    "from tensorflow import keras\n",
    "from tensorflow.keras import layers\n",
    "from tensorflow.keras.layers import Dropout\n",
    "from tensorflow.keras.models import Sequential\n",
    "from tensorflow.keras.layers import Dense\n",
    "from tensorflow.keras.layers import BatchNormalization\n",
    "from sklearn import metrics\n",
    "from sklearn.preprocessing import StandardScaler\n",
    "from tensorflow.keras.callbacks import EarlyStopping\n",
    "from sklearn import preprocessing\n",
    "from sklearn.metrics import confusion_matrix"
   ]
  },
  {
   "cell_type": "code",
   "execution_count": null,
   "metadata": {},
   "outputs": [],
   "source": []
  },
  {
   "cell_type": "markdown",
   "metadata": {},
   "source": [
    "## Before applying tensorflow lets scale the data"
   ]
  },
  {
   "cell_type": "code",
   "execution_count": 54,
   "metadata": {},
   "outputs": [],
   "source": [
    "X=df.drop(columns=[\"Class\"])\n",
    "y=df[\"Class\"]"
   ]
  },
  {
   "cell_type": "code",
   "execution_count": 55,
   "metadata": {},
   "outputs": [
    {
     "data": {
      "text/html": [
       "<div>\n",
       "<style scoped>\n",
       "    .dataframe tbody tr th:only-of-type {\n",
       "        vertical-align: middle;\n",
       "    }\n",
       "\n",
       "    .dataframe tbody tr th {\n",
       "        vertical-align: top;\n",
       "    }\n",
       "\n",
       "    .dataframe thead th {\n",
       "        text-align: right;\n",
       "    }\n",
       "</style>\n",
       "<table border=\"1\" class=\"dataframe\">\n",
       "  <thead>\n",
       "    <tr style=\"text-align: right;\">\n",
       "      <th></th>\n",
       "      <th>Time</th>\n",
       "      <th>V1</th>\n",
       "      <th>V2</th>\n",
       "      <th>V3</th>\n",
       "      <th>V4</th>\n",
       "      <th>V5</th>\n",
       "      <th>V6</th>\n",
       "      <th>V7</th>\n",
       "      <th>V8</th>\n",
       "      <th>V9</th>\n",
       "      <th>...</th>\n",
       "      <th>V20</th>\n",
       "      <th>V21</th>\n",
       "      <th>V22</th>\n",
       "      <th>V23</th>\n",
       "      <th>V24</th>\n",
       "      <th>V25</th>\n",
       "      <th>V26</th>\n",
       "      <th>V27</th>\n",
       "      <th>V28</th>\n",
       "      <th>Amount</th>\n",
       "    </tr>\n",
       "  </thead>\n",
       "  <tbody>\n",
       "    <tr>\n",
       "      <th>0</th>\n",
       "      <td>-1.996583</td>\n",
       "      <td>-0.694242</td>\n",
       "      <td>-0.044075</td>\n",
       "      <td>1.672773</td>\n",
       "      <td>0.973366</td>\n",
       "      <td>-0.245117</td>\n",
       "      <td>0.347068</td>\n",
       "      <td>0.193679</td>\n",
       "      <td>0.082637</td>\n",
       "      <td>0.331128</td>\n",
       "      <td>...</td>\n",
       "      <td>0.326118</td>\n",
       "      <td>-0.024923</td>\n",
       "      <td>0.382854</td>\n",
       "      <td>-0.176911</td>\n",
       "      <td>0.110507</td>\n",
       "      <td>0.246585</td>\n",
       "      <td>-0.392170</td>\n",
       "      <td>0.330892</td>\n",
       "      <td>-0.063781</td>\n",
       "      <td>0.244964</td>\n",
       "    </tr>\n",
       "    <tr>\n",
       "      <th>1</th>\n",
       "      <td>-1.996583</td>\n",
       "      <td>0.608496</td>\n",
       "      <td>0.161176</td>\n",
       "      <td>0.109797</td>\n",
       "      <td>0.316523</td>\n",
       "      <td>0.043483</td>\n",
       "      <td>-0.061820</td>\n",
       "      <td>-0.063700</td>\n",
       "      <td>0.071253</td>\n",
       "      <td>-0.232494</td>\n",
       "      <td>...</td>\n",
       "      <td>-0.089611</td>\n",
       "      <td>-0.307377</td>\n",
       "      <td>-0.880077</td>\n",
       "      <td>0.162201</td>\n",
       "      <td>-0.561131</td>\n",
       "      <td>0.320694</td>\n",
       "      <td>0.261069</td>\n",
       "      <td>-0.022256</td>\n",
       "      <td>0.044608</td>\n",
       "      <td>-0.342475</td>\n",
       "    </tr>\n",
       "    <tr>\n",
       "      <th>2</th>\n",
       "      <td>-1.996562</td>\n",
       "      <td>-0.693500</td>\n",
       "      <td>-0.811578</td>\n",
       "      <td>1.169468</td>\n",
       "      <td>0.268231</td>\n",
       "      <td>-0.364572</td>\n",
       "      <td>1.351454</td>\n",
       "      <td>0.639776</td>\n",
       "      <td>0.207373</td>\n",
       "      <td>-1.378675</td>\n",
       "      <td>...</td>\n",
       "      <td>0.680975</td>\n",
       "      <td>0.337632</td>\n",
       "      <td>1.063358</td>\n",
       "      <td>1.456320</td>\n",
       "      <td>-1.138092</td>\n",
       "      <td>-0.628537</td>\n",
       "      <td>-0.288447</td>\n",
       "      <td>-0.137137</td>\n",
       "      <td>-0.181021</td>\n",
       "      <td>1.160686</td>\n",
       "    </tr>\n",
       "    <tr>\n",
       "      <th>3</th>\n",
       "      <td>-1.996562</td>\n",
       "      <td>-0.493325</td>\n",
       "      <td>-0.112169</td>\n",
       "      <td>1.182516</td>\n",
       "      <td>-0.609727</td>\n",
       "      <td>-0.007469</td>\n",
       "      <td>0.936150</td>\n",
       "      <td>0.192071</td>\n",
       "      <td>0.316018</td>\n",
       "      <td>-1.262503</td>\n",
       "      <td>...</td>\n",
       "      <td>-0.269855</td>\n",
       "      <td>-0.147443</td>\n",
       "      <td>0.007267</td>\n",
       "      <td>-0.304777</td>\n",
       "      <td>-1.941027</td>\n",
       "      <td>1.241904</td>\n",
       "      <td>-0.460217</td>\n",
       "      <td>0.155396</td>\n",
       "      <td>0.186189</td>\n",
       "      <td>0.140534</td>\n",
       "    </tr>\n",
       "    <tr>\n",
       "      <th>4</th>\n",
       "      <td>-1.996541</td>\n",
       "      <td>-0.591330</td>\n",
       "      <td>0.531541</td>\n",
       "      <td>1.021412</td>\n",
       "      <td>0.284655</td>\n",
       "      <td>-0.295015</td>\n",
       "      <td>0.071999</td>\n",
       "      <td>0.479302</td>\n",
       "      <td>-0.226510</td>\n",
       "      <td>0.744326</td>\n",
       "      <td>...</td>\n",
       "      <td>0.529939</td>\n",
       "      <td>-0.012839</td>\n",
       "      <td>1.100011</td>\n",
       "      <td>-0.220123</td>\n",
       "      <td>0.233250</td>\n",
       "      <td>-0.395202</td>\n",
       "      <td>1.041611</td>\n",
       "      <td>0.543620</td>\n",
       "      <td>0.651816</td>\n",
       "      <td>-0.073403</td>\n",
       "    </tr>\n",
       "  </tbody>\n",
       "</table>\n",
       "<p>5 rows × 30 columns</p>\n",
       "</div>"
      ],
      "text/plain": [
       "       Time        V1        V2        V3        V4        V5        V6  \\\n",
       "0 -1.996583 -0.694242 -0.044075  1.672773  0.973366 -0.245117  0.347068   \n",
       "1 -1.996583  0.608496  0.161176  0.109797  0.316523  0.043483 -0.061820   \n",
       "2 -1.996562 -0.693500 -0.811578  1.169468  0.268231 -0.364572  1.351454   \n",
       "3 -1.996562 -0.493325 -0.112169  1.182516 -0.609727 -0.007469  0.936150   \n",
       "4 -1.996541 -0.591330  0.531541  1.021412  0.284655 -0.295015  0.071999   \n",
       "\n",
       "         V7        V8        V9  ...       V20       V21       V22       V23  \\\n",
       "0  0.193679  0.082637  0.331128  ...  0.326118 -0.024923  0.382854 -0.176911   \n",
       "1 -0.063700  0.071253 -0.232494  ... -0.089611 -0.307377 -0.880077  0.162201   \n",
       "2  0.639776  0.207373 -1.378675  ...  0.680975  0.337632  1.063358  1.456320   \n",
       "3  0.192071  0.316018 -1.262503  ... -0.269855 -0.147443  0.007267 -0.304777   \n",
       "4  0.479302 -0.226510  0.744326  ...  0.529939 -0.012839  1.100011 -0.220123   \n",
       "\n",
       "        V24       V25       V26       V27       V28    Amount  \n",
       "0  0.110507  0.246585 -0.392170  0.330892 -0.063781  0.244964  \n",
       "1 -0.561131  0.320694  0.261069 -0.022256  0.044608 -0.342475  \n",
       "2 -1.138092 -0.628537 -0.288447 -0.137137 -0.181021  1.160686  \n",
       "3 -1.941027  1.241904 -0.460217  0.155396  0.186189  0.140534  \n",
       "4  0.233250 -0.395202  1.041611  0.543620  0.651816 -0.073403  \n",
       "\n",
       "[5 rows x 30 columns]"
      ]
     },
     "execution_count": 55,
     "metadata": {},
     "output_type": "execute_result"
    }
   ],
   "source": [
    "names=X.columns\n",
    "scaled_df = preprocessing.scale(X)\n",
    "scaled_df = pd.DataFrame(scaled_df,columns=names)\n",
    "scaled_df.head(5)"
   ]
  },
  {
   "cell_type": "code",
   "execution_count": null,
   "metadata": {},
   "outputs": [],
   "source": []
  },
  {
   "cell_type": "code",
   "execution_count": 73,
   "metadata": {},
   "outputs": [
    {
     "data": {
      "text/plain": [
       "(284807, 30)"
      ]
     },
     "execution_count": 73,
     "metadata": {},
     "output_type": "execute_result"
    }
   ],
   "source": [
    "scaled_df.shape"
   ]
  },
  {
   "cell_type": "code",
   "execution_count": 104,
   "metadata": {},
   "outputs": [],
   "source": [
    "under = RandomUnderSampler()\n",
    "X_under, y_under = under.fit_resample(scaled_df, y)\n",
    "X_train, X_test, y_train, y_test = train_test_split(X_under, y_under)"
   ]
  },
  {
   "cell_type": "code",
   "execution_count": 105,
   "metadata": {},
   "outputs": [
    {
     "data": {
      "text/plain": [
       "Counter({0: 492, 1: 492})"
      ]
     },
     "execution_count": 105,
     "metadata": {},
     "output_type": "execute_result"
    }
   ],
   "source": [
    "Counter(y_under)"
   ]
  },
  {
   "cell_type": "code",
   "execution_count": 106,
   "metadata": {},
   "outputs": [
    {
     "data": {
      "text/plain": [
       "(984, 30)"
      ]
     },
     "execution_count": 106,
     "metadata": {},
     "output_type": "execute_result"
    }
   ],
   "source": [
    "X_under.shape"
   ]
  },
  {
   "cell_type": "code",
   "execution_count": 77,
   "metadata": {},
   "outputs": [
    {
     "name": "stdout",
     "output_type": "stream",
     "text": [
      "0.9756679077666732\n"
     ]
    }
   ],
   "source": [
    "clf = LogisticRegression(solver = 'lbfgs')\n",
    "clf.fit(X_train, y_train)\n",
    "test_pred = clf.predict_proba(X_test)[:, 1]\n",
    "print(roc_auc_score(y_test, test_pred))"
   ]
  },
  {
   "cell_type": "code",
   "execution_count": null,
   "metadata": {},
   "outputs": [],
   "source": []
  },
  {
   "cell_type": "code",
   "execution_count": 78,
   "metadata": {},
   "outputs": [],
   "source": [
    "model = Sequential()\n",
    "model.add(Dense(X_train.shape[1], activation = 'relu', input_dim = X_train.shape[1]))\n",
    "model.add(BatchNormalization())\n",
    "\n",
    "model.add(Dense(64, activation = 'relu'))\n",
    "model.add(BatchNormalization())\n",
    "model.add(Dropout(0.5))\n",
    "\n",
    "model.add(Dense(64, activation = 'relu'))\n",
    "model.add(BatchNormalization())\n",
    "model.add(Dropout(0.5))\n",
    "\n",
    "model.add(Dense(64, activation = 'relu'))\n",
    "model.add(BatchNormalization())\n",
    "model.add(Dropout(0.5))\n",
    "\n",
    "model.add(Dense(1, activation = 'sigmoid'))"
   ]
  },
  {
   "cell_type": "code",
   "execution_count": 79,
   "metadata": {},
   "outputs": [],
   "source": [
    "optimizer = keras.optimizers.Adam(lr=0.0001)\n",
    "model.compile(optimizer = optimizer, loss = 'binary_crossentropy')"
   ]
  },
  {
   "cell_type": "code",
   "execution_count": 80,
   "metadata": {},
   "outputs": [],
   "source": [
    "early_stop = EarlyStopping(monitor='val_loss', mode='min', verbose=1, patience = 10)"
   ]
  },
  {
   "cell_type": "code",
   "execution_count": 81,
   "metadata": {
    "scrolled": true
   },
   "outputs": [
    {
     "name": "stdout",
     "output_type": "stream",
     "text": [
      "Epoch 1/200\n",
      "5/5 [==============================] - 2s 82ms/step - loss: 1.0621 - val_loss: 1.0231\n",
      "Epoch 2/200\n",
      "5/5 [==============================] - 0s 17ms/step - loss: 0.9871 - val_loss: 0.9470\n",
      "Epoch 3/200\n",
      "5/5 [==============================] - 0s 17ms/step - loss: 0.9411 - val_loss: 0.8886\n",
      "Epoch 4/200\n",
      "5/5 [==============================] - 0s 20ms/step - loss: 0.9846 - val_loss: 0.8449\n",
      "Epoch 5/200\n",
      "5/5 [==============================] - 0s 20ms/step - loss: 0.9701 - val_loss: 0.8089\n",
      "Epoch 6/200\n",
      "5/5 [==============================] - 0s 19ms/step - loss: 0.9275 - val_loss: 0.7781\n",
      "Epoch 7/200\n",
      "5/5 [==============================] - 0s 19ms/step - loss: 0.9082 - val_loss: 0.7509\n",
      "Epoch 8/200\n",
      "5/5 [==============================] - 0s 18ms/step - loss: 0.8619 - val_loss: 0.7251\n",
      "Epoch 9/200\n",
      "5/5 [==============================] - 0s 17ms/step - loss: 0.8809 - val_loss: 0.7022\n",
      "Epoch 10/200\n",
      "5/5 [==============================] - 0s 20ms/step - loss: 0.8441 - val_loss: 0.6810\n",
      "Epoch 11/200\n",
      "5/5 [==============================] - 0s 19ms/step - loss: 0.8401 - val_loss: 0.6606\n",
      "Epoch 12/200\n",
      "5/5 [==============================] - 0s 14ms/step - loss: 0.8592 - val_loss: 0.6425\n",
      "Epoch 13/200\n",
      "5/5 [==============================] - 0s 16ms/step - loss: 0.7983 - val_loss: 0.6232\n",
      "Epoch 14/200\n",
      "5/5 [==============================] - 0s 17ms/step - loss: 0.7318 - val_loss: 0.6067\n",
      "Epoch 15/200\n",
      "5/5 [==============================] - 0s 18ms/step - loss: 0.7704 - val_loss: 0.5899\n",
      "Epoch 16/200\n",
      "5/5 [==============================] - 0s 14ms/step - loss: 0.6992 - val_loss: 0.5724\n",
      "Epoch 17/200\n",
      "5/5 [==============================] - 0s 16ms/step - loss: 0.7289 - val_loss: 0.5562\n",
      "Epoch 18/200\n",
      "5/5 [==============================] - 0s 17ms/step - loss: 0.6996 - val_loss: 0.5399\n",
      "Epoch 19/200\n",
      "5/5 [==============================] - 0s 18ms/step - loss: 0.7261 - val_loss: 0.5248\n",
      "Epoch 20/200\n",
      "5/5 [==============================] - 0s 18ms/step - loss: 0.7677 - val_loss: 0.5097\n",
      "Epoch 21/200\n",
      "5/5 [==============================] - 0s 17ms/step - loss: 0.6502 - val_loss: 0.4954\n",
      "Epoch 22/200\n",
      "5/5 [==============================] - 0s 15ms/step - loss: 0.6842 - val_loss: 0.4813\n",
      "Epoch 23/200\n",
      "5/5 [==============================] - 0s 15ms/step - loss: 0.6906 - val_loss: 0.4683\n",
      "Epoch 24/200\n",
      "5/5 [==============================] - 0s 16ms/step - loss: 0.6519 - val_loss: 0.4562\n",
      "Epoch 25/200\n",
      "5/5 [==============================] - 0s 15ms/step - loss: 0.6168 - val_loss: 0.4440\n",
      "Epoch 26/200\n",
      "5/5 [==============================] - 0s 19ms/step - loss: 0.6509 - val_loss: 0.4331\n",
      "Epoch 27/200\n",
      "5/5 [==============================] - 0s 20ms/step - loss: 0.5967 - val_loss: 0.4223\n",
      "Epoch 28/200\n",
      "5/5 [==============================] - 0s 19ms/step - loss: 0.6016 - val_loss: 0.4122\n",
      "Epoch 29/200\n",
      "5/5 [==============================] - 0s 18ms/step - loss: 0.6145 - val_loss: 0.4015\n",
      "Epoch 30/200\n",
      "5/5 [==============================] - 0s 19ms/step - loss: 0.6002 - val_loss: 0.3915\n",
      "Epoch 31/200\n",
      "5/5 [==============================] - 0s 19ms/step - loss: 0.5736 - val_loss: 0.3816\n",
      "Epoch 32/200\n",
      "5/5 [==============================] - 0s 19ms/step - loss: 0.5652 - val_loss: 0.3727\n",
      "Epoch 33/200\n",
      "5/5 [==============================] - 0s 18ms/step - loss: 0.5910 - val_loss: 0.3641\n",
      "Epoch 34/200\n",
      "5/5 [==============================] - 0s 19ms/step - loss: 0.5832 - val_loss: 0.3552\n",
      "Epoch 35/200\n",
      "5/5 [==============================] - 0s 19ms/step - loss: 0.5523 - val_loss: 0.3468\n",
      "Epoch 36/200\n",
      "5/5 [==============================] - 0s 19ms/step - loss: 0.5289 - val_loss: 0.3391\n",
      "Epoch 37/200\n",
      "5/5 [==============================] - 0s 19ms/step - loss: 0.5328 - val_loss: 0.3313\n",
      "Epoch 38/200\n",
      "5/5 [==============================] - 0s 18ms/step - loss: 0.5138 - val_loss: 0.3246\n",
      "Epoch 39/200\n",
      "5/5 [==============================] - 0s 21ms/step - loss: 0.5155 - val_loss: 0.3178\n",
      "Epoch 40/200\n",
      "5/5 [==============================] - 0s 20ms/step - loss: 0.5317 - val_loss: 0.3114\n",
      "Epoch 41/200\n",
      "5/5 [==============================] - 0s 21ms/step - loss: 0.5144 - val_loss: 0.3057\n",
      "Epoch 42/200\n",
      "5/5 [==============================] - 0s 18ms/step - loss: 0.5078 - val_loss: 0.3002\n",
      "Epoch 43/200\n",
      "5/5 [==============================] - 0s 19ms/step - loss: 0.5041 - val_loss: 0.2946\n",
      "Epoch 44/200\n",
      "5/5 [==============================] - 0s 17ms/step - loss: 0.4896 - val_loss: 0.2896\n",
      "Epoch 45/200\n",
      "5/5 [==============================] - 0s 17ms/step - loss: 0.5014 - val_loss: 0.2850\n",
      "Epoch 46/200\n",
      "5/5 [==============================] - 0s 22ms/step - loss: 0.4475 - val_loss: 0.2808\n",
      "Epoch 47/200\n",
      "5/5 [==============================] - 0s 24ms/step - loss: 0.4854 - val_loss: 0.2765\n",
      "Epoch 48/200\n",
      "5/5 [==============================] - 0s 24ms/step - loss: 0.4921 - val_loss: 0.2722\n",
      "Epoch 49/200\n",
      "5/5 [==============================] - 0s 20ms/step - loss: 0.4532 - val_loss: 0.2682\n",
      "Epoch 50/200\n",
      "5/5 [==============================] - 0s 21ms/step - loss: 0.4744 - val_loss: 0.2641\n",
      "Epoch 51/200\n",
      "5/5 [==============================] - 0s 23ms/step - loss: 0.4643 - val_loss: 0.2603\n",
      "Epoch 52/200\n",
      "5/5 [==============================] - 0s 23ms/step - loss: 0.4613 - val_loss: 0.2565\n",
      "Epoch 53/200\n",
      "5/5 [==============================] - 0s 25ms/step - loss: 0.4166 - val_loss: 0.2532\n",
      "Epoch 54/200\n",
      "5/5 [==============================] - 0s 22ms/step - loss: 0.4557 - val_loss: 0.2503\n",
      "Epoch 55/200\n",
      "5/5 [==============================] - 0s 23ms/step - loss: 0.4277 - val_loss: 0.2473\n",
      "Epoch 56/200\n",
      "5/5 [==============================] - 0s 22ms/step - loss: 0.4812 - val_loss: 0.2445\n",
      "Epoch 57/200\n",
      "5/5 [==============================] - 0s 24ms/step - loss: 0.4904 - val_loss: 0.2418\n",
      "Epoch 58/200\n",
      "5/5 [==============================] - 0s 21ms/step - loss: 0.3994 - val_loss: 0.2389\n",
      "Epoch 59/200\n",
      "5/5 [==============================] - 0s 21ms/step - loss: 0.4254 - val_loss: 0.2363\n",
      "Epoch 60/200\n",
      "5/5 [==============================] - 0s 22ms/step - loss: 0.4135 - val_loss: 0.2334\n",
      "Epoch 61/200\n",
      "5/5 [==============================] - 0s 21ms/step - loss: 0.4264 - val_loss: 0.2312\n",
      "Epoch 62/200\n",
      "5/5 [==============================] - 0s 17ms/step - loss: 0.3909 - val_loss: 0.2290\n",
      "Epoch 63/200\n",
      "5/5 [==============================] - 0s 17ms/step - loss: 0.3857 - val_loss: 0.2267\n",
      "Epoch 64/200\n",
      "5/5 [==============================] - 0s 17ms/step - loss: 0.3856 - val_loss: 0.2245\n",
      "Epoch 65/200\n",
      "5/5 [==============================] - 0s 17ms/step - loss: 0.3885 - val_loss: 0.2224\n",
      "Epoch 66/200\n",
      "5/5 [==============================] - 0s 14ms/step - loss: 0.4084 - val_loss: 0.2203\n",
      "Epoch 67/200\n",
      "5/5 [==============================] - 0s 16ms/step - loss: 0.3710 - val_loss: 0.2185\n",
      "Epoch 68/200\n",
      "5/5 [==============================] - 0s 18ms/step - loss: 0.3552 - val_loss: 0.2167\n",
      "Epoch 69/200\n",
      "5/5 [==============================] - 0s 18ms/step - loss: 0.3647 - val_loss: 0.2149\n",
      "Epoch 70/200\n",
      "5/5 [==============================] - 0s 17ms/step - loss: 0.3681 - val_loss: 0.2133\n",
      "Epoch 71/200\n",
      "5/5 [==============================] - 0s 18ms/step - loss: 0.3523 - val_loss: 0.2115\n",
      "Epoch 72/200\n",
      "5/5 [==============================] - 0s 17ms/step - loss: 0.3800 - val_loss: 0.2100\n",
      "Epoch 73/200\n",
      "5/5 [==============================] - 0s 18ms/step - loss: 0.3442 - val_loss: 0.2085\n",
      "Epoch 74/200\n",
      "5/5 [==============================] - 0s 17ms/step - loss: 0.3611 - val_loss: 0.2069\n",
      "Epoch 75/200\n",
      "5/5 [==============================] - 0s 18ms/step - loss: 0.3691 - val_loss: 0.2056\n",
      "Epoch 76/200\n",
      "5/5 [==============================] - 0s 18ms/step - loss: 0.3502 - val_loss: 0.2043\n",
      "Epoch 77/200\n",
      "5/5 [==============================] - 0s 19ms/step - loss: 0.3715 - val_loss: 0.2032\n",
      "Epoch 78/200\n",
      "5/5 [==============================] - 0s 27ms/step - loss: 0.3440 - val_loss: 0.2019\n",
      "Epoch 79/200\n",
      "5/5 [==============================] - 0s 20ms/step - loss: 0.3787 - val_loss: 0.2006\n",
      "Epoch 80/200\n",
      "5/5 [==============================] - 0s 17ms/step - loss: 0.3576 - val_loss: 0.1994\n",
      "Epoch 81/200\n",
      "5/5 [==============================] - 0s 18ms/step - loss: 0.3641 - val_loss: 0.1983\n",
      "Epoch 82/200\n",
      "5/5 [==============================] - 0s 22ms/step - loss: 0.3395 - val_loss: 0.1973\n",
      "Epoch 83/200\n",
      "5/5 [==============================] - 0s 23ms/step - loss: 0.3251 - val_loss: 0.1963\n"
     ]
    },
    {
     "name": "stdout",
     "output_type": "stream",
     "text": [
      "Epoch 84/200\n",
      "5/5 [==============================] - 0s 23ms/step - loss: 0.3313 - val_loss: 0.1952\n",
      "Epoch 85/200\n",
      "5/5 [==============================] - 0s 22ms/step - loss: 0.3158 - val_loss: 0.1943\n",
      "Epoch 86/200\n",
      "5/5 [==============================] - 0s 23ms/step - loss: 0.3038 - val_loss: 0.1933\n",
      "Epoch 87/200\n",
      "5/5 [==============================] - 0s 23ms/step - loss: 0.3510 - val_loss: 0.1925\n",
      "Epoch 88/200\n",
      "5/5 [==============================] - 0s 28ms/step - loss: 0.2942 - val_loss: 0.1916\n",
      "Epoch 89/200\n",
      "5/5 [==============================] - 0s 22ms/step - loss: 0.2850 - val_loss: 0.1907\n",
      "Epoch 90/200\n",
      "5/5 [==============================] - 0s 22ms/step - loss: 0.3413 - val_loss: 0.1897\n",
      "Epoch 91/200\n",
      "5/5 [==============================] - 0s 21ms/step - loss: 0.3230 - val_loss: 0.1887\n",
      "Epoch 92/200\n",
      "5/5 [==============================] - 0s 21ms/step - loss: 0.3076 - val_loss: 0.1879\n",
      "Epoch 93/200\n",
      "5/5 [==============================] - 0s 22ms/step - loss: 0.3036 - val_loss: 0.1872\n",
      "Epoch 94/200\n",
      "5/5 [==============================] - 0s 21ms/step - loss: 0.3061 - val_loss: 0.1864\n",
      "Epoch 95/200\n",
      "5/5 [==============================] - 0s 21ms/step - loss: 0.3218 - val_loss: 0.1856\n",
      "Epoch 96/200\n",
      "5/5 [==============================] - 0s 19ms/step - loss: 0.3159 - val_loss: 0.1848\n",
      "Epoch 97/200\n",
      "5/5 [==============================] - 0s 18ms/step - loss: 0.3220 - val_loss: 0.1841\n",
      "Epoch 98/200\n",
      "5/5 [==============================] - 0s 15ms/step - loss: 0.3192 - val_loss: 0.1833\n",
      "Epoch 99/200\n",
      "5/5 [==============================] - 0s 15ms/step - loss: 0.2951 - val_loss: 0.1826\n",
      "Epoch 100/200\n",
      "5/5 [==============================] - 0s 16ms/step - loss: 0.2947 - val_loss: 0.1821\n",
      "Epoch 101/200\n",
      "5/5 [==============================] - 0s 17ms/step - loss: 0.3041 - val_loss: 0.1815\n",
      "Epoch 102/200\n",
      "5/5 [==============================] - 0s 14ms/step - loss: 0.3031 - val_loss: 0.1809\n",
      "Epoch 103/200\n",
      "5/5 [==============================] - 0s 15ms/step - loss: 0.2668 - val_loss: 0.1803\n",
      "Epoch 104/200\n",
      "5/5 [==============================] - 0s 16ms/step - loss: 0.2955 - val_loss: 0.1797\n",
      "Epoch 105/200\n",
      "5/5 [==============================] - 0s 17ms/step - loss: 0.2794 - val_loss: 0.1790\n",
      "Epoch 106/200\n",
      "5/5 [==============================] - 0s 18ms/step - loss: 0.2931 - val_loss: 0.1783\n",
      "Epoch 107/200\n",
      "5/5 [==============================] - 0s 14ms/step - loss: 0.2667 - val_loss: 0.1776\n",
      "Epoch 108/200\n",
      "5/5 [==============================] - 0s 16ms/step - loss: 0.3121 - val_loss: 0.1770\n",
      "Epoch 109/200\n",
      "5/5 [==============================] - 0s 20ms/step - loss: 0.2815 - val_loss: 0.1763\n",
      "Epoch 110/200\n",
      "5/5 [==============================] - 0s 19ms/step - loss: 0.2891 - val_loss: 0.1758\n",
      "Epoch 111/200\n",
      "5/5 [==============================] - 0s 15ms/step - loss: 0.2668 - val_loss: 0.1752\n",
      "Epoch 112/200\n",
      "5/5 [==============================] - 0s 17ms/step - loss: 0.2900 - val_loss: 0.1746\n",
      "Epoch 113/200\n",
      "5/5 [==============================] - 0s 17ms/step - loss: 0.2665 - val_loss: 0.1741\n",
      "Epoch 114/200\n",
      "5/5 [==============================] - 0s 14ms/step - loss: 0.2794 - val_loss: 0.1736\n",
      "Epoch 115/200\n",
      "5/5 [==============================] - 0s 22ms/step - loss: 0.2684 - val_loss: 0.1732\n",
      "Epoch 116/200\n",
      "5/5 [==============================] - 0s 22ms/step - loss: 0.3002 - val_loss: 0.1727\n",
      "Epoch 117/200\n",
      "5/5 [==============================] - 0s 35ms/step - loss: 0.2509 - val_loss: 0.1722\n",
      "Epoch 118/200\n",
      "5/5 [==============================] - 0s 34ms/step - loss: 0.2599 - val_loss: 0.1718\n",
      "Epoch 119/200\n",
      "5/5 [==============================] - 0s 28ms/step - loss: 0.2447 - val_loss: 0.1713\n",
      "Epoch 120/200\n",
      "5/5 [==============================] - 0s 22ms/step - loss: 0.2826 - val_loss: 0.1708\n",
      "Epoch 121/200\n",
      "5/5 [==============================] - 0s 23ms/step - loss: 0.2594 - val_loss: 0.1702\n",
      "Epoch 122/200\n",
      "5/5 [==============================] - 0s 24ms/step - loss: 0.2794 - val_loss: 0.1698\n",
      "Epoch 123/200\n",
      "5/5 [==============================] - 0s 23ms/step - loss: 0.2561 - val_loss: 0.1694\n",
      "Epoch 124/200\n",
      "5/5 [==============================] - 0s 24ms/step - loss: 0.2457 - val_loss: 0.1691\n",
      "Epoch 125/200\n",
      "5/5 [==============================] - 0s 23ms/step - loss: 0.2875 - val_loss: 0.1686\n",
      "Epoch 126/200\n",
      "5/5 [==============================] - 0s 23ms/step - loss: 0.2747 - val_loss: 0.1682\n",
      "Epoch 127/200\n",
      "5/5 [==============================] - 0s 23ms/step - loss: 0.2515 - val_loss: 0.1678\n",
      "Epoch 128/200\n",
      "5/5 [==============================] - 0s 24ms/step - loss: 0.2752 - val_loss: 0.1672\n",
      "Epoch 129/200\n",
      "5/5 [==============================] - 0s 23ms/step - loss: 0.2599 - val_loss: 0.1669\n",
      "Epoch 130/200\n",
      "5/5 [==============================] - 0s 22ms/step - loss: 0.2438 - val_loss: 0.1665\n",
      "Epoch 131/200\n",
      "5/5 [==============================] - 0s 22ms/step - loss: 0.2530 - val_loss: 0.1662\n",
      "Epoch 132/200\n",
      "5/5 [==============================] - 0s 22ms/step - loss: 0.2455 - val_loss: 0.1659\n",
      "Epoch 133/200\n",
      "5/5 [==============================] - 0s 22ms/step - loss: 0.2692 - val_loss: 0.1655\n",
      "Epoch 134/200\n",
      "5/5 [==============================] - 0s 22ms/step - loss: 0.2472 - val_loss: 0.1650\n",
      "Epoch 135/200\n",
      "5/5 [==============================] - 0s 21ms/step - loss: 0.2476 - val_loss: 0.1648\n",
      "Epoch 136/200\n",
      "5/5 [==============================] - 0s 18ms/step - loss: 0.2594 - val_loss: 0.1646\n",
      "Epoch 137/200\n",
      "5/5 [==============================] - 0s 18ms/step - loss: 0.2350 - val_loss: 0.1643\n",
      "Epoch 138/200\n",
      "5/5 [==============================] - 0s 15ms/step - loss: 0.2480 - val_loss: 0.1640\n",
      "Epoch 139/200\n",
      "5/5 [==============================] - 0s 19ms/step - loss: 0.2559 - val_loss: 0.1638\n",
      "Epoch 140/200\n",
      "5/5 [==============================] - 0s 16ms/step - loss: 0.2216 - val_loss: 0.1635\n",
      "Epoch 141/200\n",
      "5/5 [==============================] - 0s 16ms/step - loss: 0.2443 - val_loss: 0.1633\n",
      "Epoch 142/200\n",
      "5/5 [==============================] - 0s 18ms/step - loss: 0.2646 - val_loss: 0.1632\n",
      "Epoch 143/200\n",
      "5/5 [==============================] - 0s 19ms/step - loss: 0.2478 - val_loss: 0.1629\n",
      "Epoch 144/200\n",
      "5/5 [==============================] - 0s 18ms/step - loss: 0.2478 - val_loss: 0.1626\n",
      "Epoch 145/200\n",
      "5/5 [==============================] - 0s 17ms/step - loss: 0.2297 - val_loss: 0.1622\n",
      "Epoch 146/200\n",
      "5/5 [==============================] - 0s 17ms/step - loss: 0.2513 - val_loss: 0.1619\n",
      "Epoch 147/200\n",
      "5/5 [==============================] - 0s 19ms/step - loss: 0.2193 - val_loss: 0.1617\n",
      "Epoch 148/200\n",
      "5/5 [==============================] - 0s 18ms/step - loss: 0.2383 - val_loss: 0.1615\n",
      "Epoch 149/200\n",
      "5/5 [==============================] - 0s 18ms/step - loss: 0.2544 - val_loss: 0.1611\n",
      "Epoch 150/200\n",
      "5/5 [==============================] - 0s 19ms/step - loss: 0.2272 - val_loss: 0.1609\n",
      "Epoch 151/200\n",
      "5/5 [==============================] - 0s 23ms/step - loss: 0.2595 - val_loss: 0.1607\n",
      "Epoch 152/200\n",
      "5/5 [==============================] - 0s 26ms/step - loss: 0.2463 - val_loss: 0.1605\n",
      "Epoch 153/200\n",
      "5/5 [==============================] - 0s 19ms/step - loss: 0.2347 - val_loss: 0.1603\n",
      "Epoch 154/200\n",
      "5/5 [==============================] - 0s 16ms/step - loss: 0.2318 - val_loss: 0.1601\n",
      "Epoch 155/200\n",
      "5/5 [==============================] - 0s 16ms/step - loss: 0.2457 - val_loss: 0.1599\n",
      "Epoch 156/200\n",
      "5/5 [==============================] - 0s 16ms/step - loss: 0.2214 - val_loss: 0.1598\n",
      "Epoch 157/200\n",
      "5/5 [==============================] - 0s 17ms/step - loss: 0.2064 - val_loss: 0.1598\n",
      "Epoch 158/200\n",
      "5/5 [==============================] - 0s 17ms/step - loss: 0.2222 - val_loss: 0.1597\n",
      "Epoch 159/200\n",
      "5/5 [==============================] - 0s 21ms/step - loss: 0.2298 - val_loss: 0.1596\n",
      "Epoch 160/200\n",
      "5/5 [==============================] - 0s 19ms/step - loss: 0.2371 - val_loss: 0.1595\n",
      "Epoch 161/200\n",
      "5/5 [==============================] - 0s 24ms/step - loss: 0.2182 - val_loss: 0.1592\n",
      "Epoch 162/200\n",
      "5/5 [==============================] - 0s 22ms/step - loss: 0.2577 - val_loss: 0.1591\n",
      "Epoch 163/200\n",
      "5/5 [==============================] - 0s 19ms/step - loss: 0.2607 - val_loss: 0.1588\n",
      "Epoch 164/200\n",
      "5/5 [==============================] - 0s 18ms/step - loss: 0.2186 - val_loss: 0.1587\n",
      "Epoch 165/200\n",
      "5/5 [==============================] - 0s 16ms/step - loss: 0.1921 - val_loss: 0.1584\n",
      "Epoch 166/200\n"
     ]
    },
    {
     "name": "stdout",
     "output_type": "stream",
     "text": [
      "5/5 [==============================] - 0s 16ms/step - loss: 0.2257 - val_loss: 0.1583\n",
      "Epoch 167/200\n",
      "5/5 [==============================] - 0s 20ms/step - loss: 0.2103 - val_loss: 0.1582\n",
      "Epoch 168/200\n",
      "5/5 [==============================] - 0s 21ms/step - loss: 0.2113 - val_loss: 0.1581\n",
      "Epoch 169/200\n",
      "5/5 [==============================] - 0s 19ms/step - loss: 0.2260 - val_loss: 0.1580\n",
      "Epoch 170/200\n",
      "5/5 [==============================] - 0s 15ms/step - loss: 0.2260 - val_loss: 0.1578\n",
      "Epoch 171/200\n",
      "5/5 [==============================] - 0s 23ms/step - loss: 0.2034 - val_loss: 0.1576\n",
      "Epoch 172/200\n",
      "5/5 [==============================] - 0s 20ms/step - loss: 0.1972 - val_loss: 0.1574\n",
      "Epoch 173/200\n",
      "5/5 [==============================] - 0s 17ms/step - loss: 0.1902 - val_loss: 0.1573\n",
      "Epoch 174/200\n",
      "5/5 [==============================] - 0s 18ms/step - loss: 0.2217 - val_loss: 0.1574\n",
      "Epoch 175/200\n",
      "5/5 [==============================] - 0s 14ms/step - loss: 0.2297 - val_loss: 0.1572\n",
      "Epoch 176/200\n",
      "5/5 [==============================] - 0s 16ms/step - loss: 0.2133 - val_loss: 0.1570\n",
      "Epoch 177/200\n",
      "5/5 [==============================] - 0s 16ms/step - loss: 0.2289 - val_loss: 0.1570\n",
      "Epoch 178/200\n",
      "5/5 [==============================] - 0s 17ms/step - loss: 0.1993 - val_loss: 0.1569\n",
      "Epoch 179/200\n",
      "5/5 [==============================] - 0s 17ms/step - loss: 0.2264 - val_loss: 0.1568\n",
      "Epoch 180/200\n",
      "5/5 [==============================] - 0s 17ms/step - loss: 0.1987 - val_loss: 0.1566\n",
      "Epoch 181/200\n",
      "5/5 [==============================] - 0s 16ms/step - loss: 0.2096 - val_loss: 0.1567\n",
      "Epoch 182/200\n",
      "5/5 [==============================] - 0s 17ms/step - loss: 0.2198 - val_loss: 0.1567\n",
      "Epoch 183/200\n",
      "5/5 [==============================] - 0s 20ms/step - loss: 0.2062 - val_loss: 0.1567\n",
      "Epoch 184/200\n",
      "5/5 [==============================] - 0s 17ms/step - loss: 0.2127 - val_loss: 0.1565\n",
      "Epoch 185/200\n",
      "5/5 [==============================] - 0s 17ms/step - loss: 0.2229 - val_loss: 0.1566\n",
      "Epoch 186/200\n",
      "5/5 [==============================] - 0s 17ms/step - loss: 0.2382 - val_loss: 0.1566\n",
      "Epoch 187/200\n",
      "5/5 [==============================] - 0s 17ms/step - loss: 0.1923 - val_loss: 0.1565\n",
      "Epoch 188/200\n",
      "5/5 [==============================] - 0s 18ms/step - loss: 0.2167 - val_loss: 0.1563\n",
      "Epoch 189/200\n",
      "5/5 [==============================] - 0s 20ms/step - loss: 0.2238 - val_loss: 0.1563\n",
      "Epoch 190/200\n",
      "5/5 [==============================] - 0s 22ms/step - loss: 0.1970 - val_loss: 0.1563\n",
      "Epoch 191/200\n",
      "5/5 [==============================] - 0s 23ms/step - loss: 0.2105 - val_loss: 0.1563\n",
      "Epoch 192/200\n",
      "5/5 [==============================] - 0s 23ms/step - loss: 0.2202 - val_loss: 0.1563\n",
      "Epoch 193/200\n",
      "5/5 [==============================] - 0s 22ms/step - loss: 0.1965 - val_loss: 0.1563\n",
      "Epoch 194/200\n",
      "5/5 [==============================] - 0s 22ms/step - loss: 0.2265 - val_loss: 0.1561\n",
      "Epoch 195/200\n",
      "5/5 [==============================] - 0s 22ms/step - loss: 0.2034 - val_loss: 0.1561\n",
      "Epoch 196/200\n",
      "5/5 [==============================] - 0s 24ms/step - loss: 0.2062 - val_loss: 0.1561\n",
      "Epoch 197/200\n",
      "5/5 [==============================] - 0s 23ms/step - loss: 0.2060 - val_loss: 0.1562\n",
      "Epoch 198/200\n",
      "5/5 [==============================] - 0s 28ms/step - loss: 0.1964 - val_loss: 0.1561\n",
      "Epoch 199/200\n",
      "5/5 [==============================] - 0s 28ms/step - loss: 0.1967 - val_loss: 0.1561\n",
      "Epoch 200/200\n",
      "5/5 [==============================] - 0s 23ms/step - loss: 0.2012 - val_loss: 0.1560\n"
     ]
    }
   ],
   "source": [
    "history = model.fit(x=X_train, y=y_train, batch_size = 256, epochs=200,\n",
    "          validation_data=(X_test, y_test), verbose=1,\n",
    "          callbacks=[early_stop])"
   ]
  },
  {
   "cell_type": "code",
   "execution_count": 82,
   "metadata": {},
   "outputs": [
    {
     "data": {
      "text/plain": [
       "Text(0.5, 1.0, 'Loss for both Training and Validation')"
      ]
     },
     "execution_count": 82,
     "metadata": {},
     "output_type": "execute_result"
    },
    {
     "data": {
      "image/png": "[encoded data removed]",
      "text/plain": [
       "<Figure size 720x360 with 1 Axes>"
      ]
     },
     "metadata": {
      "needs_background": "light"
     },
     "output_type": "display_data"
    }
   ],
   "source": [
    "evaluation_metrics=pd.DataFrame(model.history.history)\n",
    "evaluation_metrics.plot(figsize=(10,5))\n",
    "plt.title(\"Loss for both Training and Validation\", size = 20)"
   ]
  },
  {
   "cell_type": "code",
   "execution_count": 83,
   "metadata": {},
   "outputs": [
    {
     "name": "stdout",
     "output_type": "stream",
     "text": [
      "0.9772682735645699\n"
     ]
    }
   ],
   "source": [
    "test_pred = model.predict(X_test)\n",
    "print(roc_auc_score(y_test, test_pred))"
   ]
  },
  {
   "cell_type": "code",
   "execution_count": 70,
   "metadata": {},
   "outputs": [
    {
     "name": "stdout",
     "output_type": "stream",
     "text": [
      "0.9772245762711864\n"
     ]
    }
   ],
   "source": [
    "test_pred = model.predict(X_test)\n",
    "print(roc_auc_score(y_test, test_pred))"
   ]
  },
  {
   "cell_type": "code",
   "execution_count": 89,
   "metadata": {},
   "outputs": [
    {
     "name": "stderr",
     "output_type": "stream",
     "text": [
      "C:\\Users\\egadi\\anaconda3\\lib\\site-packages\\tensorflow\\python\\keras\\engine\\sequential.py:450: UserWarning: `model.predict_classes()` is deprecated and will be removed after 2021-01-01. Please use instead:* `np.argmax(model.predict(x), axis=-1)`,   if your model does multi-class classification   (e.g. if it uses a `softmax` last-layer activation).* `(model.predict(x) > 0.5).astype(\"int32\")`,   if your model does binary classification   (e.g. if it uses a `sigmoid` last-layer activation).\n",
      "  warnings.warn('`model.predict_classes()` is deprecated and '\n"
     ]
    }
   ],
   "source": [
    "y_pred = model.predict_classes(X_test)"
   ]
  },
  {
   "cell_type": "code",
   "execution_count": 90,
   "metadata": {},
   "outputs": [
    {
     "data": {
      "text/plain": [
       "array([[240,   3],\n",
       "       [ 18, 108]], dtype=int64)"
      ]
     },
     "execution_count": 90,
     "metadata": {},
     "output_type": "execute_result"
    }
   ],
   "source": [
    "cm_nn=confusion_matrix(y_test, y_pred)\n",
    "cm_nn"
   ]
  },
  {
   "cell_type": "code",
   "execution_count": 91,
   "metadata": {},
   "outputs": [
    {
     "data": {
      "text/plain": [
       "Text(0.5, 1.0, 'Confusion Matrix Plotting for Neural Network model')"
      ]
     },
     "execution_count": 91,
     "metadata": {},
     "output_type": "execute_result"
    },
    {
     "data": {
      "image/png": "[encoded data removed]",
      "text/plain": [
       "<Figure size 576x432 with 1 Axes>"
      ]
     },
     "metadata": {
      "needs_background": "light"
     },
     "output_type": "display_data"
    }
   ],
   "source": [
    "plt.figure(figsize=(8,6))\n",
    "sns.set(font_scale=1.2)\n",
    "sns.heatmap(cm_nn, annot=True, fmt = 'g', cmap=\"winter\", cbar = False)\n",
    "plt.xlabel(\"Predicted Label\", size = 18)\n",
    "plt.ylabel(\"True Label\", size = 18)\n",
    "plt.title(\"Confusion Matrix Plotting for Neural Network model\", size = 20)"
   ]
  },
  {
   "cell_type": "code",
   "execution_count": null,
   "metadata": {},
   "outputs": [],
   "source": []
  },
  {
   "cell_type": "code",
   "execution_count": null,
   "metadata": {},
   "outputs": [],
   "source": []
  },
  {
   "cell_type": "code",
   "execution_count": null,
   "metadata": {},
   "outputs": [],
   "source": []
  },
  {
   "cell_type": "markdown",
   "metadata": {},
   "source": [
    "# Hyperparameter optimization with Optuna library "
   ]
  },
  {
   "cell_type": "code",
   "execution_count": 120,
   "metadata": {},
   "outputs": [],
   "source": [
    "import optuna\n",
    "import sklearn.datasets\n",
    "import sklearn.ensemble\n",
    "import sklearn.model_selection\n",
    "import sklearn.svm\n",
    "import lightgbm as lgb\n",
    "import catboost as cb"
   ]
  },
  {
   "cell_type": "code",
   "execution_count": 114,
   "metadata": {},
   "outputs": [],
   "source": [
    "# FYI: Objective functions can take additional arguments\n",
    "# (https://optuna.readthedocs.io/en/stable/faq.html#objective-func-additional-args).\n",
    "def objective(trial):\n",
    "#     iris = sklearn.datasets.load_iris()\n",
    "#     x, y = iris.data, iris.target\n",
    "\n",
    "    classifier_name = trial.suggest_categorical(\"classifier\", [\"SVC\", \"RandomForest\"])\n",
    "    if classifier_name == \"SVC\":\n",
    "        svc_c = trial.suggest_float(\"svc_c\", 1e-10, 1e10, log=True)\n",
    "        classifier_obj = sklearn.svm.SVC(C=svc_c, gamma=\"auto\")\n",
    "    else:\n",
    "        rf_max_depth = trial.suggest_int(\"rf_max_depth\", 2, 32, log=True)\n",
    "        classifier_obj = sklearn.ensemble.RandomForestClassifier(\n",
    "            max_depth=rf_max_depth, n_estimators=10\n",
    "        )\n",
    "\n",
    "    score = sklearn.model_selection.cross_val_score(classifier_obj, X_under, y_under, n_jobs=-1, cv=3, scoring='roc_auc')\n",
    "    accuracy = score.mean()\n",
    "    return accuracy\n"
   ]
  },
  {
   "cell_type": "code",
   "execution_count": 115,
   "metadata": {
    "scrolled": true
   },
   "outputs": [
    {
     "name": "stderr",
     "output_type": "stream",
     "text": [
      "\u001b[32m[I 2021-04-23 10:55:23,432]\u001b[0m A new study created in memory with name: no-name-6216e590-8a33-4bbf-8f7f-ed1f29566523\u001b[0m\n",
      "\u001b[32m[I 2021-04-23 10:55:23,551]\u001b[0m Trial 0 finished with value: 0.956028157842554 and parameters: {'classifier': 'RandomForest', 'rf_max_depth': 5}. Best is trial 0 with value: 0.956028157842554.\u001b[0m\n",
      "\u001b[32m[I 2021-04-23 10:55:23,669]\u001b[0m Trial 1 finished with value: 0.9557059290105095 and parameters: {'classifier': 'RandomForest', 'rf_max_depth': 19}. Best is trial 0 with value: 0.956028157842554.\u001b[0m\n",
      "\u001b[32m[I 2021-04-23 10:55:23,793]\u001b[0m Trial 2 finished with value: 0.9528926234384295 and parameters: {'classifier': 'SVC', 'svc_c': 31.569817286180786}. Best is trial 0 with value: 0.956028157842554.\u001b[0m\n",
      "\u001b[32m[I 2021-04-23 10:55:23,917]\u001b[0m Trial 3 finished with value: 0.9609049672813802 and parameters: {'classifier': 'RandomForest', 'rf_max_depth': 7}. Best is trial 3 with value: 0.9609049672813802.\u001b[0m\n",
      "\u001b[32m[I 2021-04-23 10:55:24,019]\u001b[0m Trial 4 finished with value: 0.9603038865754511 and parameters: {'classifier': 'RandomForest', 'rf_max_depth': 6}. Best is trial 3 with value: 0.9609049672813802.\u001b[0m\n",
      "\u001b[32m[I 2021-04-23 10:55:24,094]\u001b[0m Trial 5 finished with value: 0.965360400555225 and parameters: {'classifier': 'RandomForest', 'rf_max_depth': 8}. Best is trial 5 with value: 0.965360400555225.\u001b[0m\n",
      "\u001b[32m[I 2021-04-23 10:55:24,227]\u001b[0m Trial 6 finished with value: 0.9578004164187983 and parameters: {'classifier': 'SVC', 'svc_c': 0.001109529500421868}. Best is trial 5 with value: 0.965360400555225.\u001b[0m\n",
      "\u001b[32m[I 2021-04-23 10:55:24,314]\u001b[0m Trial 7 finished with value: 0.9606818857822724 and parameters: {'classifier': 'RandomForest', 'rf_max_depth': 8}. Best is trial 5 with value: 0.965360400555225.\u001b[0m\n",
      "\u001b[32m[I 2021-04-23 10:55:24,390]\u001b[0m Trial 8 finished with value: 0.9656826293872696 and parameters: {'classifier': 'RandomForest', 'rf_max_depth': 6}. Best is trial 8 with value: 0.9656826293872696.\u001b[0m\n",
      "\u001b[32m[I 2021-04-23 10:55:24,489]\u001b[0m Trial 9 finished with value: 0.9522481657743406 and parameters: {'classifier': 'SVC', 'svc_c': 7211.441017077912}. Best is trial 8 with value: 0.9656826293872696.\u001b[0m\n",
      "\u001b[32m[I 2021-04-23 10:55:24,568]\u001b[0m Trial 10 finished with value: 0.9520498711084672 and parameters: {'classifier': 'RandomForest', 'rf_max_depth': 2}. Best is trial 8 with value: 0.9656826293872696.\u001b[0m\n",
      "\u001b[32m[I 2021-04-23 10:55:24,644]\u001b[0m Trial 11 finished with value: 0.9582527761253222 and parameters: {'classifier': 'RandomForest', 'rf_max_depth': 16}. Best is trial 8 with value: 0.9656826293872696.\u001b[0m\n",
      "\u001b[32m[I 2021-04-23 10:55:24,712]\u001b[0m Trial 12 finished with value: 0.9584014971247273 and parameters: {'classifier': 'RandomForest', 'rf_max_depth': 3}. Best is trial 8 with value: 0.9656826293872696.\u001b[0m\n",
      "\u001b[32m[I 2021-04-23 10:55:24,803]\u001b[0m Trial 13 finished with value: 0.9627887666071783 and parameters: {'classifier': 'RandomForest', 'rf_max_depth': 11}. Best is trial 8 with value: 0.9656826293872696.\u001b[0m\n",
      "\u001b[32m[I 2021-04-23 10:55:24,875]\u001b[0m Trial 14 finished with value: 0.962683422565933 and parameters: {'classifier': 'RandomForest', 'rf_max_depth': 3}. Best is trial 8 with value: 0.9656826293872696.\u001b[0m\n",
      "\u001b[32m[I 2021-04-23 10:55:24,970]\u001b[0m Trial 15 finished with value: 0.9544541939321833 and parameters: {'classifier': 'RandomForest', 'rf_max_depth': 4}. Best is trial 8 with value: 0.9656826293872696.\u001b[0m\n",
      "\u001b[32m[I 2021-04-23 10:55:25,088]\u001b[0m Trial 16 finished with value: 0.9522233789411064 and parameters: {'classifier': 'RandomForest', 'rf_max_depth': 31}. Best is trial 8 with value: 0.9656826293872696.\u001b[0m\n",
      "\u001b[32m[I 2021-04-23 10:55:25,264]\u001b[0m Trial 17 finished with value: 0.9578004164187983 and parameters: {'classifier': 'SVC', 'svc_c': 3.1507444629332437e-10}. Best is trial 8 with value: 0.9656826293872696.\u001b[0m\n",
      "\u001b[32m[I 2021-04-23 10:55:25,387]\u001b[0m Trial 18 finished with value: 0.9564061570493753 and parameters: {'classifier': 'RandomForest', 'rf_max_depth': 11}. Best is trial 8 with value: 0.9656826293872696.\u001b[0m\n",
      "\u001b[32m[I 2021-04-23 10:55:25,477]\u001b[0m Trial 19 finished with value: 0.9576331052944677 and parameters: {'classifier': 'RandomForest', 'rf_max_depth': 2}. Best is trial 8 with value: 0.9656826293872696.\u001b[0m\n",
      "\u001b[32m[I 2021-04-23 10:55:25,577]\u001b[0m Trial 20 finished with value: 0.9522481657743406 and parameters: {'classifier': 'SVC', 'svc_c': 3328978536.2048206}. Best is trial 8 with value: 0.9656826293872696.\u001b[0m\n",
      "\u001b[32m[I 2021-04-23 10:55:25,662]\u001b[0m Trial 21 finished with value: 0.9622992266508031 and parameters: {'classifier': 'RandomForest', 'rf_max_depth': 11}. Best is trial 8 with value: 0.9656826293872696.\u001b[0m\n",
      "\u001b[32m[I 2021-04-23 10:55:25,728]\u001b[0m Trial 22 finished with value: 0.9600374281181837 and parameters: {'classifier': 'RandomForest', 'rf_max_depth': 10}. Best is trial 8 with value: 0.9656826293872696.\u001b[0m\n",
      "\u001b[32m[I 2021-04-23 10:55:25,811]\u001b[0m Trial 23 finished with value: 0.9575029744199881 and parameters: {'classifier': 'RandomForest', 'rf_max_depth': 16}. Best is trial 8 with value: 0.9656826293872696.\u001b[0m\n",
      "\u001b[32m[I 2021-04-23 10:55:25,895]\u001b[0m Trial 24 finished with value: 0.9506184314891929 and parameters: {'classifier': 'RandomForest', 'rf_max_depth': 9}. Best is trial 8 with value: 0.9656826293872696.\u001b[0m\n",
      "\u001b[32m[I 2021-04-23 10:55:25,960]\u001b[0m Trial 25 finished with value: 0.9573790402538171 and parameters: {'classifier': 'RandomForest', 'rf_max_depth': 5}. Best is trial 8 with value: 0.9656826293872696.\u001b[0m\n",
      "\u001b[32m[I 2021-04-23 10:55:26,043]\u001b[0m Trial 26 finished with value: 0.9609297541146143 and parameters: {'classifier': 'RandomForest', 'rf_max_depth': 13}. Best is trial 8 with value: 0.9656826293872696.\u001b[0m\n",
      "\u001b[32m[I 2021-04-23 10:55:26,126]\u001b[0m Trial 27 finished with value: 0.9648646638905415 and parameters: {'classifier': 'RandomForest', 'rf_max_depth': 6}. Best is trial 8 with value: 0.9656826293872696.\u001b[0m\n",
      "\u001b[32m[I 2021-04-23 10:55:26,195]\u001b[0m Trial 28 finished with value: 0.9631605691056911 and parameters: {'classifier': 'RandomForest', 'rf_max_depth': 4}. Best is trial 8 with value: 0.9656826293872696.\u001b[0m\n",
      "\u001b[32m[I 2021-04-23 10:55:26,258]\u001b[0m Trial 29 finished with value: 0.9650071881816379 and parameters: {'classifier': 'RandomForest', 'rf_max_depth': 6}. Best is trial 8 with value: 0.9656826293872696.\u001b[0m\n",
      "\u001b[32m[I 2021-04-23 10:55:26,348]\u001b[0m Trial 30 finished with value: 0.9579987110846719 and parameters: {'classifier': 'RandomForest', 'rf_max_depth': 3}. Best is trial 8 with value: 0.9656826293872696.\u001b[0m\n",
      "\u001b[32m[I 2021-04-23 10:55:26,454]\u001b[0m Trial 31 finished with value: 0.9565053043823122 and parameters: {'classifier': 'RandomForest', 'rf_max_depth': 6}. Best is trial 8 with value: 0.9656826293872696.\u001b[0m\n",
      "\u001b[32m[I 2021-04-23 10:55:26,554]\u001b[0m Trial 32 finished with value: 0.9552287824707516 and parameters: {'classifier': 'RandomForest', 'rf_max_depth': 7}. Best is trial 8 with value: 0.9656826293872696.\u001b[0m\n",
      "\u001b[32m[I 2021-04-23 10:55:26,644]\u001b[0m Trial 33 finished with value: 0.9606880824905809 and parameters: {'classifier': 'RandomForest', 'rf_max_depth': 5}. Best is trial 8 with value: 0.9656826293872696.\u001b[0m\n",
      "\u001b[32m[I 2021-04-23 10:55:26,713]\u001b[0m Trial 34 finished with value: 0.9669839381320641 and parameters: {'classifier': 'RandomForest', 'rf_max_depth': 4}. Best is trial 34 with value: 0.9669839381320641.\u001b[0m\n",
      "\u001b[32m[I 2021-04-23 10:55:26,777]\u001b[0m Trial 35 finished with value: 0.9563132064247472 and parameters: {'classifier': 'RandomForest', 'rf_max_depth': 4}. Best is trial 34 with value: 0.9669839381320641.\u001b[0m\n",
      "\u001b[32m[I 2021-04-23 10:55:26,845]\u001b[0m Trial 36 finished with value: 0.9662527265516557 and parameters: {'classifier': 'RandomForest', 'rf_max_depth': 5}. Best is trial 34 with value: 0.9669839381320641.\u001b[0m\n",
      "\u001b[32m[I 2021-04-23 10:55:26,993]\u001b[0m Trial 37 finished with value: 0.9578004164187983 and parameters: {'classifier': 'SVC', 'svc_c': 1.0721871959988908e-10}. Best is trial 34 with value: 0.9669839381320641.\u001b[0m\n",
      "\u001b[32m[I 2021-04-23 10:55:27,062]\u001b[0m Trial 38 finished with value: 0.9607934265318264 and parameters: {'classifier': 'RandomForest', 'rf_max_depth': 3}. Best is trial 34 with value: 0.9669839381320641.\u001b[0m\n",
      "\u001b[32m[I 2021-04-23 10:55:27,127]\u001b[0m Trial 39 finished with value: 0.9684587547094984 and parameters: {'classifier': 'RandomForest', 'rf_max_depth': 5}. Best is trial 39 with value: 0.9684587547094984.\u001b[0m\n"
     ]
    },
    {
     "name": "stderr",
     "output_type": "stream",
     "text": [
      "\u001b[32m[I 2021-04-23 10:55:27,209]\u001b[0m Trial 40 finished with value: 0.9661225956771763 and parameters: {'classifier': 'RandomForest', 'rf_max_depth': 4}. Best is trial 39 with value: 0.9684587547094984.\u001b[0m\n",
      "\u001b[32m[I 2021-04-23 10:55:27,280]\u001b[0m Trial 41 finished with value: 0.9565424846321634 and parameters: {'classifier': 'RandomForest', 'rf_max_depth': 4}. Best is trial 39 with value: 0.9684587547094984.\u001b[0m\n",
      "\u001b[32m[I 2021-04-23 10:55:27,371]\u001b[0m Trial 42 finished with value: 0.9515417410271664 and parameters: {'classifier': 'RandomForest', 'rf_max_depth': 2}. Best is trial 39 with value: 0.9684587547094984.\u001b[0m\n",
      "\u001b[32m[I 2021-04-23 10:55:27,488]\u001b[0m Trial 43 finished with value: 0.9574224172119769 and parameters: {'classifier': 'RandomForest', 'rf_max_depth': 5}. Best is trial 39 with value: 0.9684587547094984.\u001b[0m\n",
      "\u001b[32m[I 2021-04-23 10:55:27,560]\u001b[0m Trial 44 finished with value: 0.9525394110648424 and parameters: {'classifier': 'RandomForest', 'rf_max_depth': 3}. Best is trial 39 with value: 0.9684587547094984.\u001b[0m\n",
      "\u001b[32m[I 2021-04-23 10:55:27,628]\u001b[0m Trial 45 finished with value: 0.9449174598453302 and parameters: {'classifier': 'RandomForest', 'rf_max_depth': 2}. Best is trial 39 with value: 0.9684587547094984.\u001b[0m\n",
      "\u001b[32m[I 2021-04-23 10:55:27,694]\u001b[0m Trial 46 finished with value: 0.9695679654967281 and parameters: {'classifier': 'RandomForest', 'rf_max_depth': 4}. Best is trial 46 with value: 0.9695679654967281.\u001b[0m\n",
      "\u001b[32m[I 2021-04-23 10:55:27,758]\u001b[0m Trial 47 finished with value: 0.9586989391235375 and parameters: {'classifier': 'RandomForest', 'rf_max_depth': 2}. Best is trial 46 with value: 0.9695679654967281.\u001b[0m\n",
      "\u001b[32m[I 2021-04-23 10:55:27,891]\u001b[0m Trial 48 finished with value: 0.9578004164187983 and parameters: {'classifier': 'SVC', 'svc_c': 7.696102679867397e-05}. Best is trial 46 with value: 0.9695679654967281.\u001b[0m\n",
      "\u001b[32m[I 2021-04-23 10:55:27,944]\u001b[0m Trial 49 finished with value: 0.9581722189173112 and parameters: {'classifier': 'RandomForest', 'rf_max_depth': 2}. Best is trial 46 with value: 0.9695679654967281.\u001b[0m\n",
      "\u001b[32m[I 2021-04-23 10:55:28,028]\u001b[0m Trial 50 finished with value: 0.9528864267301209 and parameters: {'classifier': 'RandomForest', 'rf_max_depth': 3}. Best is trial 46 with value: 0.9695679654967281.\u001b[0m\n",
      "\u001b[32m[I 2021-04-23 10:55:28,106]\u001b[0m Trial 51 finished with value: 0.9580111045012888 and parameters: {'classifier': 'RandomForest', 'rf_max_depth': 4}. Best is trial 46 with value: 0.9695679654967281.\u001b[0m\n",
      "\u001b[32m[I 2021-04-23 10:55:28,181]\u001b[0m Trial 52 finished with value: 0.960210935950823 and parameters: {'classifier': 'RandomForest', 'rf_max_depth': 5}. Best is trial 46 with value: 0.9695679654967281.\u001b[0m\n",
      "\u001b[32m[I 2021-04-23 10:55:28,244]\u001b[0m Trial 53 finished with value: 0.9609669343644655 and parameters: {'classifier': 'RandomForest', 'rf_max_depth': 4}. Best is trial 46 with value: 0.9695679654967281.\u001b[0m\n",
      "\u001b[32m[I 2021-04-23 10:55:28,311]\u001b[0m Trial 54 finished with value: 0.9545223577235772 and parameters: {'classifier': 'RandomForest', 'rf_max_depth': 2}. Best is trial 46 with value: 0.9695679654967281.\u001b[0m\n",
      "\u001b[32m[I 2021-04-23 10:55:28,384]\u001b[0m Trial 55 finished with value: 0.9401150109062066 and parameters: {'classifier': 'RandomForest', 'rf_max_depth': 2}. Best is trial 46 with value: 0.9695679654967281.\u001b[0m\n",
      "\u001b[32m[I 2021-04-23 10:55:28,472]\u001b[0m Trial 56 finished with value: 0.9640528951021216 and parameters: {'classifier': 'RandomForest', 'rf_max_depth': 3}. Best is trial 46 with value: 0.9695679654967281.\u001b[0m\n",
      "\u001b[32m[I 2021-04-23 10:55:28,560]\u001b[0m Trial 57 finished with value: 0.9584386773745787 and parameters: {'classifier': 'RandomForest', 'rf_max_depth': 2}. Best is trial 46 with value: 0.9695679654967281.\u001b[0m\n",
      "\u001b[32m[I 2021-04-23 10:55:28,675]\u001b[0m Trial 58 finished with value: 0.9522481657743406 and parameters: {'classifier': 'SVC', 'svc_c': 220292339.93377998}. Best is trial 46 with value: 0.9695679654967281.\u001b[0m\n",
      "\u001b[32m[I 2021-04-23 10:55:28,769]\u001b[0m Trial 59 finished with value: 0.9609421475312314 and parameters: {'classifier': 'RandomForest', 'rf_max_depth': 3}. Best is trial 46 with value: 0.9695679654967281.\u001b[0m\n",
      "\u001b[32m[I 2021-04-23 10:55:28,856]\u001b[0m Trial 60 finished with value: 0.966810430299425 and parameters: {'classifier': 'RandomForest', 'rf_max_depth': 3}. Best is trial 46 with value: 0.9695679654967281.\u001b[0m\n",
      "\u001b[32m[I 2021-04-23 10:55:28,942]\u001b[0m Trial 61 finished with value: 0.9575029744199881 and parameters: {'classifier': 'RandomForest', 'rf_max_depth': 2}. Best is trial 46 with value: 0.9695679654967281.\u001b[0m\n",
      "\u001b[32m[I 2021-04-23 10:55:29,035]\u001b[0m Trial 62 finished with value: 0.9615680150703945 and parameters: {'classifier': 'RandomForest', 'rf_max_depth': 3}. Best is trial 46 with value: 0.9695679654967281.\u001b[0m\n",
      "\u001b[32m[I 2021-04-23 10:55:29,121]\u001b[0m Trial 63 finished with value: 0.9618592603608963 and parameters: {'classifier': 'RandomForest', 'rf_max_depth': 3}. Best is trial 46 with value: 0.9695679654967281.\u001b[0m\n",
      "\u001b[32m[I 2021-04-23 10:55:29,207]\u001b[0m Trial 64 finished with value: 0.9664882014673806 and parameters: {'classifier': 'RandomForest', 'rf_max_depth': 2}. Best is trial 46 with value: 0.9695679654967281.\u001b[0m\n",
      "\u001b[32m[I 2021-04-23 10:55:29,305]\u001b[0m Trial 65 finished with value: 0.9594921177870314 and parameters: {'classifier': 'RandomForest', 'rf_max_depth': 3}. Best is trial 46 with value: 0.9695679654967281.\u001b[0m\n",
      "\u001b[32m[I 2021-04-23 10:55:29,392]\u001b[0m Trial 66 finished with value: 0.9499367935752527 and parameters: {'classifier': 'RandomForest', 'rf_max_depth': 2}. Best is trial 46 with value: 0.9695679654967281.\u001b[0m\n",
      "\u001b[32m[I 2021-04-23 10:55:29,468]\u001b[0m Trial 67 finished with value: 0.9486974519135435 and parameters: {'classifier': 'RandomForest', 'rf_max_depth': 2}. Best is trial 46 with value: 0.9695679654967281.\u001b[0m\n",
      "\u001b[32m[I 2021-04-23 10:55:29,538]\u001b[0m Trial 68 finished with value: 0.9577818262938727 and parameters: {'classifier': 'RandomForest', 'rf_max_depth': 3}. Best is trial 46 with value: 0.9695679654967281.\u001b[0m\n",
      "\u001b[32m[I 2021-04-23 10:55:29,606]\u001b[0m Trial 69 finished with value: 0.9610041146143168 and parameters: {'classifier': 'RandomForest', 'rf_max_depth': 3}. Best is trial 46 with value: 0.9695679654967281.\u001b[0m\n",
      "\u001b[32m[I 2021-04-23 10:55:29,674]\u001b[0m Trial 70 finished with value: 0.9499801705334127 and parameters: {'classifier': 'RandomForest', 'rf_max_depth': 3}. Best is trial 46 with value: 0.9695679654967281.\u001b[0m\n",
      "\u001b[32m[I 2021-04-23 10:55:29,747]\u001b[0m Trial 71 finished with value: 0.9675912155463018 and parameters: {'classifier': 'RandomForest', 'rf_max_depth': 4}. Best is trial 46 with value: 0.9695679654967281.\u001b[0m\n",
      "\u001b[32m[I 2021-04-23 10:55:29,817]\u001b[0m Trial 72 finished with value: 0.9617167360697997 and parameters: {'classifier': 'RandomForest', 'rf_max_depth': 2}. Best is trial 46 with value: 0.9695679654967281.\u001b[0m\n",
      "\u001b[32m[I 2021-04-23 10:55:29,887]\u001b[0m Trial 73 finished with value: 0.9493481062859409 and parameters: {'classifier': 'RandomForest', 'rf_max_depth': 2}. Best is trial 46 with value: 0.9695679654967281.\u001b[0m\n",
      "\u001b[32m[I 2021-04-23 10:55:29,955]\u001b[0m Trial 74 finished with value: 0.9563937636327582 and parameters: {'classifier': 'RandomForest', 'rf_max_depth': 2}. Best is trial 46 with value: 0.9695679654967281.\u001b[0m\n",
      "\u001b[32m[I 2021-04-23 10:55:30,030]\u001b[0m Trial 75 finished with value: 0.9647097461828279 and parameters: {'classifier': 'RandomForest', 'rf_max_depth': 4}. Best is trial 46 with value: 0.9695679654967281.\u001b[0m\n",
      "\u001b[32m[I 2021-04-23 10:55:30,113]\u001b[0m Trial 76 finished with value: 0.9644370910172517 and parameters: {'classifier': 'RandomForest', 'rf_max_depth': 3}. Best is trial 46 with value: 0.9695679654967281.\u001b[0m\n",
      "\u001b[32m[I 2021-04-23 10:55:30,181]\u001b[0m Trial 77 finished with value: 0.9555014376363276 and parameters: {'classifier': 'RandomForest', 'rf_max_depth': 2}. Best is trial 46 with value: 0.9695679654967281.\u001b[0m\n",
      "\u001b[32m[I 2021-04-23 10:55:30,248]\u001b[0m Trial 78 finished with value: 0.9631109954392229 and parameters: {'classifier': 'RandomForest', 'rf_max_depth': 2}. Best is trial 46 with value: 0.9695679654967281.\u001b[0m\n",
      "\u001b[32m[I 2021-04-23 10:55:30,342]\u001b[0m Trial 79 finished with value: 0.9522481657743406 and parameters: {'classifier': 'SVC', 'svc_c': 792506.5214156588}. Best is trial 46 with value: 0.9695679654967281.\u001b[0m\n"
     ]
    },
    {
     "name": "stderr",
     "output_type": "stream",
     "text": [
      "\u001b[32m[I 2021-04-23 10:55:30,409]\u001b[0m Trial 80 finished with value: 0.9370724271267102 and parameters: {'classifier': 'RandomForest', 'rf_max_depth': 2}. Best is trial 46 with value: 0.9695679654967281.\u001b[0m\n",
      "\u001b[32m[I 2021-04-23 10:55:30,480]\u001b[0m Trial 81 finished with value: 0.9697414733293673 and parameters: {'classifier': 'RandomForest', 'rf_max_depth': 3}. Best is trial 81 with value: 0.9697414733293673.\u001b[0m\n",
      "\u001b[32m[I 2021-04-23 10:55:30,544]\u001b[0m Trial 82 finished with value: 0.9577322526274044 and parameters: {'classifier': 'RandomForest', 'rf_max_depth': 3}. Best is trial 81 with value: 0.9697414733293673.\u001b[0m\n",
      "\u001b[32m[I 2021-04-23 10:55:30,593]\u001b[0m Trial 83 finished with value: 0.9488399762046401 and parameters: {'classifier': 'RandomForest', 'rf_max_depth': 2}. Best is trial 81 with value: 0.9697414733293673.\u001b[0m\n",
      "\u001b[32m[I 2021-04-23 10:55:30,660]\u001b[0m Trial 84 finished with value: 0.9655958754709499 and parameters: {'classifier': 'RandomForest', 'rf_max_depth': 2}. Best is trial 81 with value: 0.9697414733293673.\u001b[0m\n",
      "\u001b[32m[I 2021-04-23 10:55:30,727]\u001b[0m Trial 85 finished with value: 0.9619274241522903 and parameters: {'classifier': 'RandomForest', 'rf_max_depth': 4}. Best is trial 81 with value: 0.9697414733293673.\u001b[0m\n",
      "\u001b[32m[I 2021-04-23 10:55:30,808]\u001b[0m Trial 86 finished with value: 0.9626028653579218 and parameters: {'classifier': 'RandomForest', 'rf_max_depth': 3}. Best is trial 81 with value: 0.9697414733293673.\u001b[0m\n",
      "\u001b[32m[I 2021-04-23 10:55:30,884]\u001b[0m Trial 87 finished with value: 0.9574595974618282 and parameters: {'classifier': 'RandomForest', 'rf_max_depth': 4}. Best is trial 81 with value: 0.9697414733293673.\u001b[0m\n",
      "\u001b[32m[I 2021-04-23 10:55:30,944]\u001b[0m Trial 88 finished with value: 0.9587299226650803 and parameters: {'classifier': 'RandomForest', 'rf_max_depth': 3}. Best is trial 81 with value: 0.9697414733293673.\u001b[0m\n",
      "\u001b[32m[I 2021-04-23 10:55:31,011]\u001b[0m Trial 89 finished with value: 0.9589034304977195 and parameters: {'classifier': 'RandomForest', 'rf_max_depth': 4}. Best is trial 81 with value: 0.9697414733293673.\u001b[0m\n",
      "\u001b[32m[I 2021-04-23 10:55:31,077]\u001b[0m Trial 90 finished with value: 0.9627577830656356 and parameters: {'classifier': 'RandomForest', 'rf_max_depth': 3}. Best is trial 81 with value: 0.9697414733293673.\u001b[0m\n",
      "\u001b[32m[I 2021-04-23 10:55:31,144]\u001b[0m Trial 91 finished with value: 0.952694328772556 and parameters: {'classifier': 'RandomForest', 'rf_max_depth': 4}. Best is trial 81 with value: 0.9697414733293673.\u001b[0m\n",
      "\u001b[32m[I 2021-04-23 10:55:31,211]\u001b[0m Trial 92 finished with value: 0.9617848998611938 and parameters: {'classifier': 'RandomForest', 'rf_max_depth': 4}. Best is trial 81 with value: 0.9697414733293673.\u001b[0m\n",
      "\u001b[32m[I 2021-04-23 10:55:31,325]\u001b[0m Trial 93 finished with value: 0.952434067023597 and parameters: {'classifier': 'RandomForest', 'rf_max_depth': 3}. Best is trial 81 with value: 0.9697414733293673.\u001b[0m\n",
      "\u001b[32m[I 2021-04-23 10:55:31,393]\u001b[0m Trial 94 finished with value: 0.9575029744199881 and parameters: {'classifier': 'RandomForest', 'rf_max_depth': 3}. Best is trial 81 with value: 0.9697414733293673.\u001b[0m\n",
      "\u001b[32m[I 2021-04-23 10:55:31,461]\u001b[0m Trial 95 finished with value: 0.949279942494547 and parameters: {'classifier': 'RandomForest', 'rf_max_depth': 3}. Best is trial 81 with value: 0.9697414733293673.\u001b[0m\n",
      "\u001b[32m[I 2021-04-23 10:55:31,526]\u001b[0m Trial 96 finished with value: 0.9589096272060281 and parameters: {'classifier': 'RandomForest', 'rf_max_depth': 4}. Best is trial 81 with value: 0.9697414733293673.\u001b[0m\n",
      "\u001b[32m[I 2021-04-23 10:55:31,611]\u001b[0m Trial 97 finished with value: 0.9634456176878842 and parameters: {'classifier': 'RandomForest', 'rf_max_depth': 4}. Best is trial 81 with value: 0.9697414733293673.\u001b[0m\n",
      "\u001b[32m[I 2021-04-23 10:55:31,692]\u001b[0m Trial 98 finished with value: 0.9476749950426333 and parameters: {'classifier': 'RandomForest', 'rf_max_depth': 4}. Best is trial 81 with value: 0.9697414733293673.\u001b[0m\n",
      "\u001b[32m[I 2021-04-23 10:55:31,846]\u001b[0m Trial 99 finished with value: 0.9578004164187983 and parameters: {'classifier': 'SVC', 'svc_c': 7.88037162572165e-07}. Best is trial 81 with value: 0.9697414733293673.\u001b[0m\n"
     ]
    },
    {
     "name": "stdout",
     "output_type": "stream",
     "text": [
      "FrozenTrial(number=81, values=[0.9697414733293673], datetime_start=datetime.datetime(2021, 4, 23, 10, 55, 30, 410471), datetime_complete=datetime.datetime(2021, 4, 23, 10, 55, 30, 480150), params={'classifier': 'RandomForest', 'rf_max_depth': 3}, distributions={'classifier': CategoricalDistribution(choices=('SVC', 'RandomForest')), 'rf_max_depth': IntLogUniformDistribution(high=32, low=2, step=1)}, user_attrs={}, system_attrs={}, intermediate_values={}, trial_id=81, state=TrialState.COMPLETE, value=None)\n"
     ]
    }
   ],
   "source": [
    "study = optuna.create_study(direction=\"maximize\")\n",
    "study.optimize(objective, n_trials=100)\n",
    "print(study.best_trial)"
   ]
  },
  {
   "cell_type": "code",
   "execution_count": null,
   "metadata": {},
   "outputs": [],
   "source": []
  },
  {
   "cell_type": "code",
   "execution_count": null,
   "metadata": {},
   "outputs": [],
   "source": []
  },
  {
   "cell_type": "code",
   "execution_count": 112,
   "metadata": {},
   "outputs": [],
   "source": [
    "def objective(trial):\n",
    "#     data, target = sklearn.datasets.load_breast_cancer(return_X_y=True)\n",
    "    train_x, valid_x, train_y, valid_y = train_test_split(X_under, y_under, test_size=0.25)\n",
    "    dtrain = lgb.Dataset(train_x, label=train_y)\n",
    "\n",
    "    param = {\n",
    "        \"objective\": \"binary\",\n",
    "        \"metric\": \"binary_logloss\",\n",
    "        \"verbosity\": -1,\n",
    "        \"boosting_type\": \"gbdt\",\n",
    "        \"lambda_l1\": trial.suggest_float(\"lambda_l1\", 1e-8, 10.0, log=True),\n",
    "        \"lambda_l2\": trial.suggest_float(\"lambda_l2\", 1e-8, 10.0, log=True),\n",
    "        \"num_leaves\": trial.suggest_int(\"num_leaves\", 2, 256),\n",
    "        \"feature_fraction\": trial.suggest_float(\"feature_fraction\", 0.4, 1.0),\n",
    "        \"bagging_fraction\": trial.suggest_float(\"bagging_fraction\", 0.4, 1.0),\n",
    "        \"bagging_freq\": trial.suggest_int(\"bagging_freq\", 1, 7),\n",
    "        \"min_child_samples\": trial.suggest_int(\"min_child_samples\", 5, 100),\n",
    "    }\n",
    "\n",
    "    gbm = lgb.train(param, dtrain)\n",
    "    preds = gbm.predict(valid_x)\n",
    "    pred_labels = np.rint(preds)\n",
    "    accuracy = sklearn.metrics.roc_auc_score(valid_y, pred_labels)\n",
    "    return accuracy"
   ]
  },
  {
   "cell_type": "code",
   "execution_count": 113,
   "metadata": {
    "scrolled": true
   },
   "outputs": [
    {
     "name": "stderr",
     "output_type": "stream",
     "text": [
      "\u001b[32m[I 2021-04-23 10:55:04,321]\u001b[0m A new study created in memory with name: no-name-d81cec3d-3e25-4c38-a46a-384a477548f8\u001b[0m\n",
      "\u001b[32m[I 2021-04-23 10:55:04,459]\u001b[0m Trial 0 finished with value: 0.9473162347964039 and parameters: {'lambda_l1': 2.5465877373876843e-05, 'lambda_l2': 5.742957237112198e-06, 'num_leaves': 18, 'feature_fraction': 0.4483095415869452, 'bagging_fraction': 0.8921931291642664, 'bagging_freq': 6, 'min_child_samples': 41}. Best is trial 0 with value: 0.9473162347964039.\u001b[0m\n",
      "\u001b[32m[I 2021-04-23 10:55:04,530]\u001b[0m Trial 1 finished with value: 0.9130880698736188 and parameters: {'lambda_l1': 0.06178762384353401, 'lambda_l2': 7.726522412129233, 'num_leaves': 210, 'feature_fraction': 0.6567211724073977, 'bagging_fraction': 0.42967073039394565, 'bagging_freq': 6, 'min_child_samples': 84}. Best is trial 0 with value: 0.9473162347964039.\u001b[0m\n",
      "\u001b[32m[I 2021-04-23 10:55:04,646]\u001b[0m Trial 2 finished with value: 0.9432539682539682 and parameters: {'lambda_l1': 1.6797050879539614e-08, 'lambda_l2': 0.4630844497497064, 'num_leaves': 56, 'feature_fraction': 0.6662431896290828, 'bagging_fraction': 0.628002966012794, 'bagging_freq': 4, 'min_child_samples': 23}. Best is trial 0 with value: 0.9473162347964039.\u001b[0m\n",
      "\u001b[32m[I 2021-04-23 10:55:04,791]\u001b[0m Trial 3 finished with value: 0.9346776859504131 and parameters: {'lambda_l1': 0.3159516671990648, 'lambda_l2': 0.08580496920990725, 'num_leaves': 60, 'feature_fraction': 0.7732102900360508, 'bagging_fraction': 0.6988299037703007, 'bagging_freq': 6, 'min_child_samples': 9}. Best is trial 0 with value: 0.9473162347964039.\u001b[0m\n",
      "\u001b[32m[I 2021-04-23 10:55:04,915]\u001b[0m Trial 4 finished with value: 0.9080699662095011 and parameters: {'lambda_l1': 5.183383358702004e-05, 'lambda_l2': 0.0016540591325255225, 'num_leaves': 138, 'feature_fraction': 0.5930183030841372, 'bagging_fraction': 0.7862899483012172, 'bagging_freq': 7, 'min_child_samples': 55}. Best is trial 0 with value: 0.9473162347964039.\u001b[0m\n",
      "\u001b[32m[I 2021-04-23 10:55:04,992]\u001b[0m Trial 5 finished with value: 0.9257936507936508 and parameters: {'lambda_l1': 0.014087825119297017, 'lambda_l2': 1.4853379744908482e-08, 'num_leaves': 187, 'feature_fraction': 0.7862342432560934, 'bagging_fraction': 0.5830685117007095, 'bagging_freq': 1, 'min_child_samples': 95}. Best is trial 0 with value: 0.9473162347964039.\u001b[0m\n",
      "\u001b[32m[I 2021-04-23 10:55:05,143]\u001b[0m Trial 6 finished with value: 0.955579058699101 and parameters: {'lambda_l1': 3.4690410574153455e-07, 'lambda_l2': 7.455513133580727e-07, 'num_leaves': 13, 'feature_fraction': 0.8604334112275684, 'bagging_fraction': 0.7167617269795721, 'bagging_freq': 2, 'min_child_samples': 29}. Best is trial 6 with value: 0.955579058699101.\u001b[0m\n",
      "\u001b[32m[I 2021-04-23 10:55:05,260]\u001b[0m Trial 7 finished with value: 0.9390243902439025 and parameters: {'lambda_l1': 1.0637154068631705e-06, 'lambda_l2': 0.0022113089626015076, 'num_leaves': 216, 'feature_fraction': 0.49028768180307564, 'bagging_fraction': 0.9163478565010498, 'bagging_freq': 2, 'min_child_samples': 65}. Best is trial 6 with value: 0.955579058699101.\u001b[0m\n",
      "\u001b[32m[I 2021-04-23 10:55:05,349]\u001b[0m Trial 8 finished with value: 0.9308943089430894 and parameters: {'lambda_l1': 0.007515266764764848, 'lambda_l2': 1.928304905133964e-05, 'num_leaves': 15, 'feature_fraction': 0.9736777646240489, 'bagging_fraction': 0.6673808206519165, 'bagging_freq': 7, 'min_child_samples': 85}. Best is trial 6 with value: 0.955579058699101.\u001b[0m\n",
      "\u001b[32m[I 2021-04-23 10:55:05,750]\u001b[0m Trial 9 finished with value: 0.9586202330508475 and parameters: {'lambda_l1': 1.6346128871861952e-05, 'lambda_l2': 1.2883920927463749e-05, 'num_leaves': 82, 'feature_fraction': 0.7559843335308214, 'bagging_fraction': 0.781220198435697, 'bagging_freq': 1, 'min_child_samples': 9}. Best is trial 9 with value: 0.9586202330508475.\u001b[0m\n",
      "\u001b[32m[I 2021-04-23 10:55:05,893]\u001b[0m Trial 10 finished with value: 0.918958223162348 and parameters: {'lambda_l1': 5.898673503853065, 'lambda_l2': 1.2433271402072933e-08, 'num_leaves': 117, 'feature_fraction': 0.9693083281917786, 'bagging_fraction': 0.9862738992790032, 'bagging_freq': 4, 'min_child_samples': 5}. Best is trial 9 with value: 0.9586202330508475.\u001b[0m\n",
      "\u001b[32m[I 2021-04-23 10:55:06,273]\u001b[0m Trial 11 finished with value: 0.9183632998413538 and parameters: {'lambda_l1': 1.47838679984546e-07, 'lambda_l2': 9.753331300519264e-07, 'num_leaves': 80, 'feature_fraction': 0.8618100549220513, 'bagging_fraction': 0.7996323785459755, 'bagging_freq': 2, 'min_child_samples': 27}. Best is trial 9 with value: 0.9586202330508475.\u001b[0m\n",
      "\u001b[32m[I 2021-04-23 10:55:06,562]\u001b[0m Trial 12 finished with value: 0.9401924991702623 and parameters: {'lambda_l1': 1.7650411214412025e-06, 'lambda_l2': 2.969534464821602e-07, 'num_leaves': 106, 'feature_fraction': 0.8650560473778792, 'bagging_fraction': 0.5408670549060702, 'bagging_freq': 1, 'min_child_samples': 22}. Best is trial 9 with value: 0.9586202330508475.\u001b[0m\n",
      "\u001b[32m[I 2021-04-23 10:55:06,807]\u001b[0m Trial 13 finished with value: 0.9526053767009626 and parameters: {'lambda_l1': 1.3233419518770513e-08, 'lambda_l2': 0.00010205077256407608, 'num_leaves': 13, 'feature_fraction': 0.8719153708044055, 'bagging_fraction': 0.7818464498594968, 'bagging_freq': 2, 'min_child_samples': 36}. Best is trial 9 with value: 0.9586202330508475.\u001b[0m\n",
      "\u001b[32m[I 2021-04-23 10:55:07,252]\u001b[0m Trial 14 finished with value: 0.9179253443342872 and parameters: {'lambda_l1': 0.0006799579024035482, 'lambda_l2': 2.9077799404140873e-07, 'num_leaves': 153, 'feature_fraction': 0.7537950757351342, 'bagging_fraction': 0.8506525641671, 'bagging_freq': 3, 'min_child_samples': 5}. Best is trial 9 with value: 0.9586202330508475.\u001b[0m\n",
      "\u001b[32m[I 2021-04-23 10:55:07,573]\u001b[0m Trial 15 finished with value: 0.9246021220159151 and parameters: {'lambda_l1': 3.977433161895794e-06, 'lambda_l2': 0.0001038037705692142, 'num_leaves': 45, 'feature_fraction': 0.9125413850916482, 'bagging_fraction': 0.7250044268787865, 'bagging_freq': 1, 'min_child_samples': 16}. Best is trial 9 with value: 0.9586202330508475.\u001b[0m\n",
      "\u001b[32m[I 2021-04-23 10:55:07,761]\u001b[0m Trial 16 finished with value: 0.9429436422915697 and parameters: {'lambda_l1': 9.569628700569564e-08, 'lambda_l2': 4.7806492419716865e-08, 'num_leaves': 89, 'feature_fraction': 0.567488393029522, 'bagging_fraction': 0.5249694517329533, 'bagging_freq': 3, 'min_child_samples': 40}. Best is trial 9 with value: 0.9586202330508475.\u001b[0m\n",
      "\u001b[32m[I 2021-04-23 10:55:07,888]\u001b[0m Trial 17 finished with value: 0.9248257550614006 and parameters: {'lambda_l1': 0.00035316043093312646, 'lambda_l2': 8.182621721712789e-06, 'num_leaves': 2, 'feature_fraction': 0.7186270095714573, 'bagging_fraction': 0.986702108176291, 'bagging_freq': 3, 'min_child_samples': 52}. Best is trial 9 with value: 0.9586202330508475.\u001b[0m\n",
      "\u001b[32m[I 2021-04-23 10:55:08,259]\u001b[0m Trial 18 finished with value: 0.9372326203208557 and parameters: {'lambda_l1': 4.054215908073763e-05, 'lambda_l2': 1.2806409486321985e-06, 'num_leaves': 254, 'feature_fraction': 0.8050654030518454, 'bagging_fraction': 0.7383876020137017, 'bagging_freq': 1, 'min_child_samples': 14}. Best is trial 9 with value: 0.9586202330508475.\u001b[0m\n",
      "\u001b[32m[I 2021-04-23 10:55:08,504]\u001b[0m Trial 19 finished with value: 0.9264939185616077 and parameters: {'lambda_l1': 2.4555305678569e-07, 'lambda_l2': 0.0013799666899032019, 'num_leaves': 37, 'feature_fraction': 0.9110385076404859, 'bagging_fraction': 0.6588367986507343, 'bagging_freq': 2, 'min_child_samples': 31}. Best is trial 9 with value: 0.9586202330508475.\u001b[0m\n",
      "\u001b[32m[I 2021-04-23 10:55:08,710]\u001b[0m Trial 20 finished with value: 0.9497970590192295 and parameters: {'lambda_l1': 6.958430664822433e-06, 'lambda_l2': 0.019513932065595457, 'num_leaves': 81, 'feature_fraction': 0.8200897850651336, 'bagging_fraction': 0.8502466042632741, 'bagging_freq': 5, 'min_child_samples': 49}. Best is trial 9 with value: 0.9586202330508475.\u001b[0m\n",
      "\u001b[32m[I 2021-04-23 10:55:08,890]\u001b[0m Trial 21 finished with value: 0.9355158730158729 and parameters: {'lambda_l1': 1.2513142339674674e-08, 'lambda_l2': 9.29496818396543e-05, 'num_leaves': 22, 'feature_fraction': 0.9055203823772398, 'bagging_fraction': 0.775952943583505, 'bagging_freq': 2, 'min_child_samples': 36}. Best is trial 9 with value: 0.9586202330508475.\u001b[0m\n"
     ]
    },
    {
     "name": "stderr",
     "output_type": "stream",
     "text": [
      "\u001b[32m[I 2021-04-23 10:55:09,012]\u001b[0m Trial 22 finished with value: 0.9244570974576272 and parameters: {'lambda_l1': 1.0837318058419702e-08, 'lambda_l2': 3.84544168467629e-05, 'num_leaves': 4, 'feature_fraction': 0.85578629917114, 'bagging_fraction': 0.8330608476598809, 'bagging_freq': 2, 'min_child_samples': 18}. Best is trial 9 with value: 0.9586202330508475.\u001b[0m\n",
      "\u001b[32m[I 2021-04-23 10:55:09,268]\u001b[0m Trial 23 finished with value: 0.9431517715494447 and parameters: {'lambda_l1': 2.8127459040575e-07, 'lambda_l2': 0.000334102791166042, 'num_leaves': 37, 'feature_fraction': 0.7399099669686995, 'bagging_fraction': 0.7515500714666219, 'bagging_freq': 3, 'min_child_samples': 35}. Best is trial 9 with value: 0.9586202330508475.\u001b[0m\n",
      "\u001b[32m[I 2021-04-23 10:55:09,428]\u001b[0m Trial 24 finished with value: 0.9339285714285713 and parameters: {'lambda_l1': 6.233675781745595e-08, 'lambda_l2': 2.7344145414972593e-06, 'num_leaves': 66, 'feature_fraction': 0.9519973746312201, 'bagging_fraction': 0.9025983463703291, 'bagging_freq': 1, 'min_child_samples': 62}. Best is trial 9 with value: 0.9586202330508475.\u001b[0m\n",
      "\u001b[32m[I 2021-04-23 10:55:09,560]\u001b[0m Trial 25 finished with value: 0.9577483531838447 and parameters: {'lambda_l1': 1.326897209033559e-06, 'lambda_l2': 1.7272097308167506e-07, 'num_leaves': 5, 'feature_fraction': 0.8304769861835584, 'bagging_fraction': 0.7015800866802989, 'bagging_freq': 2, 'min_child_samples': 44}. Best is trial 9 with value: 0.9586202330508475.\u001b[0m\n",
      "\u001b[32m[I 2021-04-23 10:55:09,694]\u001b[0m Trial 26 finished with value: 0.9440476190476189 and parameters: {'lambda_l1': 8.64829621642774e-06, 'lambda_l2': 7.152308851470555e-08, 'num_leaves': 154, 'feature_fraction': 0.688631542044509, 'bagging_fraction': 0.6119338485178787, 'bagging_freq': 3, 'min_child_samples': 49}. Best is trial 9 with value: 0.9586202330508475.\u001b[0m\n",
      "\u001b[32m[I 2021-04-23 10:55:09,827]\u001b[0m Trial 27 finished with value: 0.9153846153846155 and parameters: {'lambda_l1': 1.088354957118442e-06, 'lambda_l2': 2.2213344615887074e-07, 'num_leaves': 28, 'feature_fraction': 0.8162910229945938, 'bagging_fraction': 0.6976579603276575, 'bagging_freq': 1, 'min_child_samples': 68}. Best is trial 9 with value: 0.9586202330508475.\u001b[0m\n",
      "\u001b[32m[I 2021-04-23 10:55:10,022]\u001b[0m Trial 28 finished with value: 0.9495798319327731 and parameters: {'lambda_l1': 0.00010472070079416558, 'lambda_l2': 5.921627493360227e-08, 'num_leaves': 105, 'feature_fraction': 0.7135784018256596, 'bagging_fraction': 0.6852636101894357, 'bagging_freq': 2, 'min_child_samples': 27}. Best is trial 9 with value: 0.9586202330508475.\u001b[0m\n",
      "\u001b[32m[I 2021-04-23 10:55:10,176]\u001b[0m Trial 29 finished with value: 0.9342809917355372 and parameters: {'lambda_l1': 1.9091519152450962e-05, 'lambda_l2': 4.968790470180337e-06, 'num_leaves': 5, 'feature_fraction': 0.6317770283681665, 'bagging_fraction': 0.9314980459553435, 'bagging_freq': 4, 'min_child_samples': 43}. Best is trial 9 with value: 0.9586202330508475.\u001b[0m\n",
      "\u001b[32m[I 2021-04-23 10:55:10,405]\u001b[0m Trial 30 finished with value: 0.9362138556209885 and parameters: {'lambda_l1': 6.660419004927179e-07, 'lambda_l2': 8.482772068457464e-07, 'num_leaves': 56, 'feature_fraction': 0.8291482237042369, 'bagging_fraction': 0.6319589505750266, 'bagging_freq': 1, 'min_child_samples': 44}. Best is trial 9 with value: 0.9586202330508475.\u001b[0m\n",
      "\u001b[32m[I 2021-04-23 10:55:10,590]\u001b[0m Trial 31 finished with value: 0.937885112303717 and parameters: {'lambda_l1': 4.12271432684061e-08, 'lambda_l2': 1.4544797095188396e-05, 'num_leaves': 13, 'feature_fraction': 0.8829668465285986, 'bagging_fraction': 0.8211608631652159, 'bagging_freq': 2, 'min_child_samples': 35}. Best is trial 9 with value: 0.9586202330508475.\u001b[0m\n",
      "\u001b[32m[I 2021-04-23 10:55:10,679]\u001b[0m Trial 32 finished with value: 0.943089430894309 and parameters: {'lambda_l1': 5.1811420102921865e-06, 'lambda_l2': 0.0003687032097173288, 'num_leaves': 2, 'feature_fraction': 0.932976026311022, 'bagging_fraction': 0.7661887828262663, 'bagging_freq': 2, 'min_child_samples': 56}. Best is trial 9 with value: 0.9586202330508475.\u001b[0m\n",
      "\u001b[32m[I 2021-04-23 10:55:10,902]\u001b[0m Trial 33 finished with value: 0.9152970922882427 and parameters: {'lambda_l1': 3.624026146782681e-08, 'lambda_l2': 6.486745235585606e-05, 'num_leaves': 23, 'feature_fraction': 0.7847946365563608, 'bagging_fraction': 0.7344587760737848, 'bagging_freq': 3, 'min_child_samples': 29}. Best is trial 9 with value: 0.9586202330508475.\u001b[0m\n",
      "\u001b[32m[I 2021-04-23 10:55:11,151]\u001b[0m Trial 34 finished with value: 0.9627142195460862 and parameters: {'lambda_l1': 4.890423608233627e-07, 'lambda_l2': 2.787315089531009e-06, 'num_leaves': 46, 'feature_fraction': 0.8503105694227951, 'bagging_fraction': 0.8657372655094373, 'bagging_freq': 5, 'min_child_samples': 23}. Best is trial 34 with value: 0.9627142195460862.\u001b[0m\n",
      "\u001b[32m[I 2021-04-23 10:55:11,511]\u001b[0m Trial 35 finished with value: 0.9535145888594165 and parameters: {'lambda_l1': 4.2881041710648566e-07, 'lambda_l2': 3.0384219411510512e-06, 'num_leaves': 68, 'feature_fraction': 0.7517810956556162, 'bagging_fraction': 0.8559179007368436, 'bagging_freq': 5, 'min_child_samples': 10}. Best is trial 34 with value: 0.9627142195460862.\u001b[0m\n",
      "\u001b[32m[I 2021-04-23 10:55:11,705]\u001b[0m Trial 36 finished with value: 0.9345584346906399 and parameters: {'lambda_l1': 1.945448893908486e-06, 'lambda_l2': 2.0440879115820916e-07, 'num_leaves': 46, 'feature_fraction': 0.8341506331134981, 'bagging_fraction': 0.42536268215376194, 'bagging_freq': 5, 'min_child_samples': 20}. Best is trial 34 with value: 0.9627142195460862.\u001b[0m\n",
      "\u001b[32m[I 2021-04-23 10:55:11,997]\u001b[0m Trial 37 finished with value: 0.941976127320955 and parameters: {'lambda_l1': 0.00012244737755329335, 'lambda_l2': 1.0993426605684366e-06, 'num_leaves': 91, 'feature_fraction': 0.6681790760396883, 'bagging_fraction': 0.9541552818966809, 'bagging_freq': 6, 'min_child_samples': 10}. Best is trial 34 with value: 0.9627142195460862.\u001b[0m\n",
      "\u001b[32m[I 2021-04-23 10:55:12,157]\u001b[0m Trial 38 finished with value: 0.9430856689582232 and parameters: {'lambda_l1': 1.601271922411204e-05, 'lambda_l2': 7.4114197818541445, 'num_leaves': 36, 'feature_fraction': 0.7809576665658473, 'bagging_fraction': 0.8119811447580327, 'bagging_freq': 5, 'min_child_samples': 23}. Best is trial 34 with value: 0.9627142195460862.\u001b[0m\n",
      "\u001b[32m[I 2021-04-23 10:55:12,416]\u001b[0m Trial 39 finished with value: 0.9305922792173453 and parameters: {'lambda_l1': 0.003066946468494825, 'lambda_l2': 1.875386592901829e-08, 'num_leaves': 47, 'feature_fraction': 0.9903221910964888, 'bagging_fraction': 0.8770062869443853, 'bagging_freq': 6, 'min_child_samples': 14}. Best is trial 34 with value: 0.9627142195460862.\u001b[0m\n",
      "\u001b[32m[I 2021-04-23 10:55:12,590]\u001b[0m Trial 40 finished with value: 0.9443193855932203 and parameters: {'lambda_l1': 3.2636391966801195e-06, 'lambda_l2': 1.8346169504286292e-05, 'num_leaves': 130, 'feature_fraction': 0.4237828753258782, 'bagging_fraction': 0.7088343343167629, 'bagging_freq': 4, 'min_child_samples': 24}. Best is trial 34 with value: 0.9627142195460862.\u001b[0m\n",
      "\u001b[32m[I 2021-04-23 10:55:12,959]\u001b[0m Trial 41 finished with value: 0.9517355371900826 and parameters: {'lambda_l1': 4.155856063595642e-07, 'lambda_l2': 2.60447893856535e-06, 'num_leaves': 71, 'feature_fraction': 0.7519600387028971, 'bagging_fraction': 0.876219736524413, 'bagging_freq': 5, 'min_child_samples': 9}. Best is trial 34 with value: 0.9627142195460862.\u001b[0m\n",
      "\u001b[32m[I 2021-04-23 10:55:13,310]\u001b[0m Trial 42 finished with value: 0.9573365231259968 and parameters: {'lambda_l1': 6.315583679729839e-07, 'lambda_l2': 4.8107669271365635e-06, 'num_leaves': 65, 'feature_fraction': 0.7626839225912809, 'bagging_fraction': 0.8587451592603123, 'bagging_freq': 5, 'min_child_samples': 10}. Best is trial 34 with value: 0.9627142195460862.\u001b[0m\n",
      "\u001b[32m[I 2021-04-23 10:55:13,676]\u001b[0m Trial 43 finished with value: 0.9146341463414633 and parameters: {'lambda_l1': 1.1596881483137934e-06, 'lambda_l2': 5.453674168721998e-07, 'num_leaves': 59, 'feature_fraction': 0.842837148701773, 'bagging_fraction': 0.9455592517464497, 'bagging_freq': 4, 'min_child_samples': 7}. Best is trial 34 with value: 0.9627142195460862.\u001b[0m\n",
      "\u001b[32m[I 2021-04-23 10:55:13,873]\u001b[0m Trial 44 finished with value: 0.9354177683765204 and parameters: {'lambda_l1': 9.48709406994873e-06, 'lambda_l2': 9.93825667173164e-06, 'num_leaves': 100, 'feature_fraction': 0.7966804251963558, 'bagging_fraction': 0.8075316910031396, 'bagging_freq': 5, 'min_child_samples': 32}. Best is trial 34 with value: 0.9627142195460862.\u001b[0m\n"
     ]
    },
    {
     "name": "stderr",
     "output_type": "stream",
     "text": [
      "\u001b[32m[I 2021-04-23 10:55:14,181]\u001b[0m Trial 45 finished with value: 0.9190904283447912 and parameters: {'lambda_l1': 1.2900401677414448e-07, 'lambda_l2': 2.0269841435321205e-06, 'num_leaves': 115, 'feature_fraction': 0.8819573035191441, 'bagging_fraction': 0.6537890933719718, 'bagging_freq': 6, 'min_child_samples': 14}. Best is trial 34 with value: 0.9627142195460862.\u001b[0m\n",
      "\u001b[32m[I 2021-04-23 10:55:14,403]\u001b[0m Trial 46 finished with value: 0.926829268292683 and parameters: {'lambda_l1': 2.320124266644594e-06, 'lambda_l2': 1.19047702908117e-07, 'num_leaves': 31, 'feature_fraction': 0.7274568817318257, 'bagging_fraction': 0.5915529790637152, 'bagging_freq': 6, 'min_child_samples': 19}. Best is trial 34 with value: 0.9627142195460862.\u001b[0m\n",
      "\u001b[32m[I 2021-04-23 10:55:14,618]\u001b[0m Trial 47 finished with value: 0.934690639873083 and parameters: {'lambda_l1': 3.7994099390207763e-05, 'lambda_l2': 2.4611224611642914e-08, 'num_leaves': 78, 'feature_fraction': 0.7689248205302663, 'bagging_fraction': 0.758918637144562, 'bagging_freq': 7, 'min_child_samples': 24}. Best is trial 34 with value: 0.9627142195460862.\u001b[0m\n",
      "\u001b[32m[I 2021-04-23 10:55:14,789]\u001b[0m Trial 48 finished with value: 0.928211085297046 and parameters: {'lambda_l1': 1.7817236534381437e-07, 'lambda_l2': 3.169049462208019e-05, 'num_leaves': 49, 'feature_fraction': 0.6800705398147001, 'bagging_fraction': 0.8850984881897865, 'bagging_freq': 5, 'min_child_samples': 41}. Best is trial 34 with value: 0.9627142195460862.\u001b[0m\n",
      "\u001b[32m[I 2021-04-23 10:55:15,035]\u001b[0m Trial 49 finished with value: 0.9474484399788471 and parameters: {'lambda_l1': 3.10068695867531e-08, 'lambda_l2': 3.9499179895072204e-07, 'num_leaves': 18, 'feature_fraction': 0.6129477540824257, 'bagging_fraction': 0.7884222683881076, 'bagging_freq': 4, 'min_child_samples': 5}. Best is trial 34 with value: 0.9627142195460862.\u001b[0m\n",
      "\u001b[32m[I 2021-04-23 10:55:15,315]\u001b[0m Trial 50 finished with value: 0.9473823373876256 and parameters: {'lambda_l1': 6.883317324582816e-07, 'lambda_l2': 7.697291413855262e-06, 'num_leaves': 55, 'feature_fraction': 0.7040385139706564, 'bagging_fraction': 0.7085847096550092, 'bagging_freq': 1, 'min_child_samples': 12}. Best is trial 34 with value: 0.9627142195460862.\u001b[0m\n",
      "\u001b[32m[I 2021-04-23 10:55:15,582]\u001b[0m Trial 51 finished with value: 0.9109598096245373 and parameters: {'lambda_l1': 4.1843798451137896e-07, 'lambda_l2': 3.338520204555027e-06, 'num_leaves': 67, 'feature_fraction': 0.7634186226746638, 'bagging_fraction': 0.8450579843044722, 'bagging_freq': 5, 'min_child_samples': 17}. Best is trial 34 with value: 0.9627142195460862.\u001b[0m\n",
      "\u001b[32m[I 2021-04-23 10:55:15,942]\u001b[0m Trial 52 finished with value: 0.9377688083107258 and parameters: {'lambda_l1': 1.1926390072708592e-07, 'lambda_l2': 5.936209915986228e-07, 'num_leaves': 94, 'feature_fraction': 0.8028964541053625, 'bagging_fraction': 0.8527695549111222, 'bagging_freq': 5, 'min_child_samples': 10}. Best is trial 34 with value: 0.9627142195460862.\u001b[0m\n",
      "\u001b[32m[I 2021-04-23 10:55:16,377]\u001b[0m Trial 53 finished with value: 0.9404155362932574 and parameters: {'lambda_l1': 5.735239163667772e-07, 'lambda_l2': 5.850560324361007e-06, 'num_leaves': 77, 'feature_fraction': 0.8531455438044593, 'bagging_fraction': 0.9186400771901557, 'bagging_freq': 4, 'min_child_samples': 5}. Best is trial 34 with value: 0.9627142195460862.\u001b[0m\n",
      "\u001b[32m[I 2021-04-23 10:55:16,522]\u001b[0m Trial 54 finished with value: 0.9303542673107892 and parameters: {'lambda_l1': 1.6676633263712333, 'lambda_l2': 1.428560426899831e-06, 'num_leaves': 85, 'feature_fraction': 0.7472082015570394, 'bagging_fraction': 0.8633342190893929, 'bagging_freq': 5, 'min_child_samples': 27}. Best is trial 34 with value: 0.9627142195460862.\u001b[0m\n",
      "\u001b[32m[I 2021-04-23 10:55:16,944]\u001b[0m Trial 55 finished with value: 0.9349593495934958 and parameters: {'lambda_l1': 1.7994726644014795e-06, 'lambda_l2': 1.4031900812887458e-07, 'num_leaves': 41, 'feature_fraction': 0.9002720362405918, 'bagging_fraction': 0.7914210275929892, 'bagging_freq': 6, 'min_child_samples': 16}. Best is trial 34 with value: 0.9627142195460862.\u001b[0m\n",
      "\u001b[32m[I 2021-04-23 10:55:17,206]\u001b[0m Trial 56 finished with value: 0.9146341463414634 and parameters: {'lambda_l1': 2.5848549011308163e-07, 'lambda_l2': 3.4278839779555634e-05, 'num_leaves': 66, 'feature_fraction': 0.8042391918463879, 'bagging_fraction': 0.8983159190598682, 'bagging_freq': 6, 'min_child_samples': 20}. Best is trial 34 with value: 0.9627142195460862.\u001b[0m\n",
      "\u001b[32m[I 2021-04-23 10:55:17,381]\u001b[0m Trial 57 finished with value: 0.9228582760444209 and parameters: {'lambda_l1': 3.861801710697006e-06, 'lambda_l2': 0.0001513861045120255, 'num_leaves': 116, 'feature_fraction': 0.939808883151041, 'bagging_fraction': 0.8285206405331936, 'bagging_freq': 4, 'min_child_samples': 76}. Best is trial 34 with value: 0.9627142195460862.\u001b[0m\n",
      "\u001b[32m[I 2021-04-23 10:55:17,493]\u001b[0m Trial 58 finished with value: 0.9527511961722488 and parameters: {'lambda_l1': 6.66770739642558e-08, 'lambda_l2': 0.0008429867328853596, 'num_leaves': 28, 'feature_fraction': 0.730887556280428, 'bagging_fraction': 0.6732621285474818, 'bagging_freq': 3, 'min_child_samples': 98}. Best is trial 34 with value: 0.9627142195460862.\u001b[0m\n",
      "\u001b[32m[I 2021-04-23 10:55:17,672]\u001b[0m Trial 59 finished with value: 0.9347567424643046 and parameters: {'lambda_l1': 1.281180957258246e-05, 'lambda_l2': 0.009037559372268448, 'num_leaves': 12, 'feature_fraction': 0.826399749959177, 'bagging_fraction': 0.967653944373791, 'bagging_freq': 5, 'min_child_samples': 33}. Best is trial 34 with value: 0.9627142195460862.\u001b[0m\n",
      "\u001b[32m[I 2021-04-23 10:55:17,839]\u001b[0m Trial 60 finished with value: 0.9230155033601704 and parameters: {'lambda_l1': 8.63268014123266e-05, 'lambda_l2': 1.7989822250002135e-06, 'num_leaves': 143, 'feature_fraction': 0.6455759150826885, 'bagging_fraction': 0.74293597104311, 'bagging_freq': 7, 'min_child_samples': 38}. Best is trial 34 with value: 0.9627142195460862.\u001b[0m\n",
      "\u001b[32m[I 2021-04-23 10:55:17,962]\u001b[0m Trial 61 finished with value: 0.9473162347964039 and parameters: {'lambda_l1': 8.554537065629207e-08, 'lambda_l2': 0.0013543237624006005, 'num_leaves': 29, 'feature_fraction': 0.731700214539807, 'bagging_fraction': 0.6820189179491863, 'bagging_freq': 3, 'min_child_samples': 92}. Best is trial 34 with value: 0.9627142195460862.\u001b[0m\n",
      "\u001b[32m[I 2021-04-23 10:55:18,113]\u001b[0m Trial 62 finished with value: 0.9554468535166578 and parameters: {'lambda_l1': 5.922980224015524e-08, 'lambda_l2': 0.0007278088693694909, 'num_leaves': 50, 'feature_fraction': 0.7725459427136713, 'bagging_fraction': 0.641766846153188, 'bagging_freq': 2, 'min_child_samples': 48}. Best is trial 34 with value: 0.9627142195460862.\u001b[0m\n",
      "\u001b[32m[I 2021-04-23 10:55:18,243]\u001b[0m Trial 63 finished with value: 0.9180988894764676 and parameters: {'lambda_l1': 1.0206194188024506e-06, 'lambda_l2': 0.005331959535649107, 'num_leaves': 54, 'feature_fraction': 0.7729419132551065, 'bagging_fraction': 0.5316938071848677, 'bagging_freq': 2, 'min_child_samples': 50}. Best is trial 34 with value: 0.9627142195460862.\u001b[0m\n",
      "\u001b[32m[I 2021-04-23 10:55:18,391]\u001b[0m Trial 64 finished with value: 0.9422809917355373 and parameters: {'lambda_l1': 1.7158770381340084e-08, 'lambda_l2': 0.00018826020004427007, 'num_leaves': 62, 'feature_fraction': 0.8461040437232185, 'bagging_fraction': 0.643801047402071, 'bagging_freq': 2, 'min_child_samples': 46}. Best is trial 34 with value: 0.9627142195460862.\u001b[0m\n",
      "\u001b[32m[I 2021-04-23 10:55:18,524]\u001b[0m Trial 65 finished with value: 0.9503738503275326 and parameters: {'lambda_l1': 2.818668650665995e-07, 'lambda_l2': 5.1193198934001006e-06, 'num_leaves': 72, 'feature_fraction': 0.8747052943871058, 'bagging_fraction': 0.5594707023711913, 'bagging_freq': 1, 'min_child_samples': 58}. Best is trial 34 with value: 0.9627142195460862.\u001b[0m\n",
      "\u001b[32m[I 2021-04-23 10:55:18,681]\u001b[0m Trial 66 finished with value: 0.9488987956617209 and parameters: {'lambda_l1': 2.3159883412970883e-08, 'lambda_l2': 0.05793107438018725, 'num_leaves': 172, 'feature_fraction': 0.7909556601237123, 'bagging_fraction': 0.7224792889269265, 'bagging_freq': 2, 'min_child_samples': 46}. Best is trial 34 with value: 0.9627142195460862.\u001b[0m\n",
      "\u001b[32m[I 2021-04-23 10:55:18,807]\u001b[0m Trial 67 finished with value: 0.9553146483342146 and parameters: {'lambda_l1': 1.349659999752401e-06, 'lambda_l2': 1.2917160779833496e-05, 'num_leaves': 39, 'feature_fraction': 0.6968197635694509, 'bagging_fraction': 0.6216699523453811, 'bagging_freq': 1, 'min_child_samples': 58}. Best is trial 34 with value: 0.9627142195460862.\u001b[0m\n"
     ]
    },
    {
     "name": "stderr",
     "output_type": "stream",
     "text": [
      "\u001b[32m[I 2021-04-23 10:55:18,926]\u001b[0m Trial 68 finished with value: 0.9634146341463417 and parameters: {'lambda_l1': 5.739258906689734e-06, 'lambda_l2': 1.266488971587882e-05, 'num_leaves': 11, 'feature_fraction': 0.6985910297159353, 'bagging_fraction': 0.50236305624781, 'bagging_freq': 1, 'min_child_samples': 62}. Best is trial 68 with value: 0.9634146341463417.\u001b[0m\n",
      "\u001b[32m[I 2021-04-23 10:55:19,045]\u001b[0m Trial 69 finished with value: 0.9471544715447154 and parameters: {'lambda_l1': 7.052275450294143e-06, 'lambda_l2': 5.713218137763786e-05, 'num_leaves': 12, 'feature_fraction': 0.580787223358135, 'bagging_fraction': 0.593430249437928, 'bagging_freq': 1, 'min_child_samples': 71}. Best is trial 68 with value: 0.9634146341463417.\u001b[0m\n",
      "\u001b[32m[I 2021-04-23 10:55:19,169]\u001b[0m Trial 70 finished with value: 0.9246411483253589 and parameters: {'lambda_l1': 3.542876844612373e-05, 'lambda_l2': 3.49014903848342e-08, 'num_leaves': 6, 'feature_fraction': 0.5126953113161011, 'bagging_fraction': 0.5096002831682639, 'bagging_freq': 1, 'min_child_samples': 61}. Best is trial 68 with value: 0.9634146341463417.\u001b[0m\n",
      "\u001b[32m[I 2021-04-23 10:55:19,277]\u001b[0m Trial 71 finished with value: 0.9791666666666667 and parameters: {'lambda_l1': 1.04810668964607e-06, 'lambda_l2': 1.4411405545636064e-05, 'num_leaves': 21, 'feature_fraction': 0.695262536856741, 'bagging_fraction': 0.44244030459382727, 'bagging_freq': 1, 'min_child_samples': 54}. Best is trial 71 with value: 0.9791666666666667.\u001b[0m\n",
      "\u001b[32m[I 2021-04-23 10:55:19,413]\u001b[0m Trial 72 finished with value: 0.9466776859504132 and parameters: {'lambda_l1': 3.3079950448346423e-06, 'lambda_l2': 9.61808444856984e-07, 'num_leaves': 24, 'feature_fraction': 0.7125731841983457, 'bagging_fraction': 0.47798885391872575, 'bagging_freq': 2, 'min_child_samples': 54}. Best is trial 71 with value: 0.9791666666666667.\u001b[0m\n",
      "\u001b[32m[I 2021-04-23 10:55:19,527]\u001b[0m Trial 73 finished with value: 0.9556342221928141 and parameters: {'lambda_l1': 9.775085538182825e-07, 'lambda_l2': 1.0187523907329186e-08, 'num_leaves': 18, 'feature_fraction': 0.6663039470985705, 'bagging_fraction': 0.40478580080446436, 'bagging_freq': 1, 'min_child_samples': 63}. Best is trial 71 with value: 0.9791666666666667.\u001b[0m\n",
      "\u001b[32m[I 2021-04-23 10:55:19,625]\u001b[0m Trial 74 finished with value: 0.9332137161084529 and parameters: {'lambda_l1': 8.225702484127415e-07, 'lambda_l2': 2.2866208286505015e-05, 'num_leaves': 16, 'feature_fraction': 0.6670349800189488, 'bagging_fraction': 0.4090563592267507, 'bagging_freq': 1, 'min_child_samples': 64}. Best is trial 71 with value: 0.9791666666666667.\u001b[0m\n",
      "\u001b[32m[I 2021-04-23 10:55:19,750]\u001b[0m Trial 75 finished with value: 0.9401508634950042 and parameters: {'lambda_l1': 0.0002765578265945883, 'lambda_l2': 9.283752420635523e-08, 'num_leaves': 3, 'feature_fraction': 0.6425557095495822, 'bagging_fraction': 0.46355755638381324, 'bagging_freq': 1, 'min_child_samples': 71}. Best is trial 71 with value: 0.9791666666666667.\u001b[0m\n",
      "\u001b[32m[I 2021-04-23 10:55:19,860]\u001b[0m Trial 76 finished with value: 0.9236088136041818 and parameters: {'lambda_l1': 2.105333254309427e-05, 'lambda_l2': 3.950129027539288e-07, 'num_leaves': 35, 'feature_fraction': 0.6301272595199144, 'bagging_fraction': 0.4663525903024909, 'bagging_freq': 1, 'min_child_samples': 69}. Best is trial 71 with value: 0.9791666666666667.\u001b[0m\n",
      "\u001b[32m[I 2021-04-23 10:55:19,978]\u001b[0m Trial 77 finished with value: 0.952491232713558 and parameters: {'lambda_l1': 1.7874309393810957e-06, 'lambda_l2': 3.995498462248863e-06, 'num_leaves': 20, 'feature_fraction': 0.6809404991513106, 'bagging_fraction': 0.4287770166682699, 'bagging_freq': 1, 'min_child_samples': 78}. Best is trial 71 with value: 0.9791666666666667.\u001b[0m\n",
      "\u001b[32m[I 2021-04-23 10:55:20,093]\u001b[0m Trial 78 finished with value: 0.9310549973558963 and parameters: {'lambda_l1': 5.804316348982248e-06, 'lambda_l2': 1.7573114556744363e-05, 'num_leaves': 9, 'feature_fraction': 0.8950821290091288, 'bagging_fraction': 0.4466012442943487, 'bagging_freq': 1, 'min_child_samples': 62}. Best is trial 71 with value: 0.9791666666666667.\u001b[0m\n",
      "\u001b[32m[I 2021-04-23 10:55:20,209]\u001b[0m Trial 79 finished with value: 0.938921205711264 and parameters: {'lambda_l1': 2.058470669180029e-07, 'lambda_l2': 7.58748468749096e-06, 'num_leaves': 25, 'feature_fraction': 0.6115665364544225, 'bagging_fraction': 0.4021261225188074, 'bagging_freq': 1, 'min_child_samples': 52}. Best is trial 71 with value: 0.9791666666666667.\u001b[0m\n",
      "\u001b[32m[I 2021-04-23 10:55:20,328]\u001b[0m Trial 80 finished with value: 0.9346346346346348 and parameters: {'lambda_l1': 3.267113234469979e-06, 'lambda_l2': 5.740236365190736e-05, 'num_leaves': 41, 'feature_fraction': 0.8126440909421029, 'bagging_fraction': 0.49247629611014765, 'bagging_freq': 2, 'min_child_samples': 59}. Best is trial 71 with value: 0.9791666666666667.\u001b[0m\n",
      "\u001b[32m[I 2021-04-23 10:55:20,473]\u001b[0m Trial 81 finished with value: 0.9269056503198295 and parameters: {'lambda_l1': 3.873237682905952e-07, 'lambda_l2': 1.0516223101514169e-08, 'num_leaves': 51, 'feature_fraction': 0.7145082534592448, 'bagging_fraction': 0.7668547734175097, 'bagging_freq': 2, 'min_child_samples': 56}. Best is trial 71 with value: 0.9791666666666667.\u001b[0m\n",
      "\u001b[32m[I 2021-04-23 10:55:20,593]\u001b[0m Trial 82 finished with value: 0.9342809917355372 and parameters: {'lambda_l1': 7.088739864329536e-07, 'lambda_l2': 1.7427671330774973e-06, 'num_leaves': 34, 'feature_fraction': 0.7619219041810587, 'bagging_fraction': 0.4451368477405017, 'bagging_freq': 2, 'min_child_samples': 67}. Best is trial 71 with value: 0.9791666666666667.\u001b[0m\n",
      "\u001b[32m[I 2021-04-23 10:55:20,693]\u001b[0m Trial 83 finished with value: 0.915185676392573 and parameters: {'lambda_l1': 4.5228068906131596e-08, 'lambda_l2': 6.167823059447162e-07, 'num_leaves': 2, 'feature_fraction': 0.7824873964827013, 'bagging_fraction': 0.5671924565017304, 'bagging_freq': 2, 'min_child_samples': 49}. Best is trial 71 with value: 0.9791666666666667.\u001b[0m\n",
      "\u001b[32m[I 2021-04-23 10:55:20,876]\u001b[0m Trial 84 finished with value: 0.9102987837123215 and parameters: {'lambda_l1': 1.354678906684508e-07, 'lambda_l2': 0.00011776217770287154, 'num_leaves': 242, 'feature_fraction': 0.8601824317648169, 'bagging_fraction': 0.6974971576167608, 'bagging_freq': 1, 'min_child_samples': 44}. Best is trial 71 with value: 0.9791666666666667.\u001b[0m\n",
      "\u001b[32m[I 2021-04-23 10:55:20,995]\u001b[0m Trial 85 finished with value: 0.9519841269841269 and parameters: {'lambda_l1': 1.0284464484290421e-05, 'lambda_l2': 0.0002893250699746784, 'num_leaves': 46, 'feature_fraction': 0.6954008129722206, 'bagging_fraction': 0.4168202602503271, 'bagging_freq': 2, 'min_child_samples': 39}. Best is trial 71 with value: 0.9791666666666667.\u001b[0m\n",
      "\u001b[32m[I 2021-04-23 10:55:21,142]\u001b[0m Trial 86 finished with value: 0.9238830667402097 and parameters: {'lambda_l1': 1.234480391675202e-06, 'lambda_l2': 0.0007629209855023923, 'num_leaves': 19, 'feature_fraction': 0.7394266038509378, 'bagging_fraction': 0.7140566459594022, 'bagging_freq': 3, 'min_child_samples': 51}. Best is trial 71 with value: 0.9791666666666667.\u001b[0m\n",
      "\u001b[32m[I 2021-04-23 10:55:21,322]\u001b[0m Trial 87 finished with value: 0.9362732095490717 and parameters: {'lambda_l1': 2.291742161454197e-06, 'lambda_l2': 3.11274640389988e-07, 'num_leaves': 62, 'feature_fraction': 0.8357513835607648, 'bagging_fraction': 0.8329200267343813, 'bagging_freq': 1, 'min_child_samples': 47}. Best is trial 71 with value: 0.9791666666666667.\u001b[0m\n",
      "\u001b[32m[I 2021-04-23 10:55:21,488]\u001b[0m Trial 88 finished with value: 0.9470238095238095 and parameters: {'lambda_l1': 3.968326664291158e-07, 'lambda_l2': 1.0965507013478637e-05, 'num_leaves': 31, 'feature_fraction': 0.656096793412712, 'bagging_fraction': 0.8020647878956455, 'bagging_freq': 2, 'min_child_samples': 42}. Best is trial 71 with value: 0.9791666666666667.\u001b[0m\n",
      "\u001b[32m[I 2021-04-23 10:55:21,641]\u001b[0m Trial 89 finished with value: 0.935844809322034 and parameters: {'lambda_l1': 4.959649547663106e-06, 'lambda_l2': 2.7818412880075988e-06, 'num_leaves': 9, 'feature_fraction': 0.8183777719100207, 'bagging_fraction': 0.912986207056952, 'bagging_freq': 1, 'min_child_samples': 54}. Best is trial 71 with value: 0.9791666666666667.\u001b[0m\n",
      "\u001b[32m[I 2021-04-23 10:55:21,795]\u001b[0m Trial 90 finished with value: 0.9473823373876256 and parameters: {'lambda_l1': 2.210799553145815e-07, 'lambda_l2': 2.7046785222772686e-05, 'num_leaves': 17, 'feature_fraction': 0.6786117665274193, 'bagging_fraction': 0.7470595829945671, 'bagging_freq': 1, 'min_child_samples': 63}. Best is trial 71 with value: 0.9791666666666667.\u001b[0m\n"
     ]
    },
    {
     "name": "stderr",
     "output_type": "stream",
     "text": [
      "\u001b[32m[I 2021-04-23 10:55:21,942]\u001b[0m Trial 91 finished with value: 0.9300239234449761 and parameters: {'lambda_l1': 1.2927827857494518e-06, 'lambda_l2': 1.1966232604605025e-05, 'num_leaves': 43, 'feature_fraction': 0.6966249685566004, 'bagging_fraction': 0.633900923869775, 'bagging_freq': 1, 'min_child_samples': 59}. Best is trial 71 with value: 0.9791666666666667.\u001b[0m\n",
      "\u001b[32m[I 2021-04-23 10:55:22,075]\u001b[0m Trial 92 finished with value: 0.9255730277185501 and parameters: {'lambda_l1': 5.895601698702159e-07, 'lambda_l2': 4.7955316639052805e-05, 'num_leaves': 38, 'feature_fraction': 0.7103048438333033, 'bagging_fraction': 0.6151857179228062, 'bagging_freq': 1, 'min_child_samples': 66}. Best is trial 71 with value: 0.9791666666666667.\u001b[0m\n",
      "\u001b[32m[I 2021-04-23 10:55:22,231]\u001b[0m Trial 93 finished with value: 0.9390743801652892 and parameters: {'lambda_l1': 2.5306617353044965e-06, 'lambda_l2': 5.234758115369286e-06, 'num_leaves': 52, 'feature_fraction': 0.7270688906663989, 'bagging_fraction': 0.6585842519507898, 'bagging_freq': 1, 'min_child_samples': 58}. Best is trial 71 with value: 0.9791666666666667.\u001b[0m\n",
      "\u001b[32m[I 2021-04-23 10:55:22,406]\u001b[0m Trial 94 finished with value: 0.9345584346906399 and parameters: {'lambda_l1': 1.4070552591302877e-06, 'lambda_l2': 1.6559280114619263e-05, 'num_leaves': 25, 'feature_fraction': 0.7573303687409983, 'bagging_fraction': 0.690577047230891, 'bagging_freq': 1, 'min_child_samples': 29}. Best is trial 71 with value: 0.9791666666666667.\u001b[0m\n",
      "\u001b[32m[I 2021-04-23 10:55:22,541]\u001b[0m Trial 95 finished with value: 0.9338585805084746 and parameters: {'lambda_l1': 6.378666407275567e-08, 'lambda_l2': 1.932375990135333e-07, 'num_leaves': 59, 'feature_fraction': 0.6977412493708041, 'bagging_fraction': 0.6148764267160425, 'bagging_freq': 3, 'min_child_samples': 55}. Best is trial 71 with value: 0.9791666666666667.\u001b[0m\n",
      "\u001b[32m[I 2021-04-23 10:55:22,691]\u001b[0m Trial 96 finished with value: 0.9397926634768741 and parameters: {'lambda_l1': 8.081879435248066e-07, 'lambda_l2': 9.319790570386216e-07, 'num_leaves': 74, 'feature_fraction': 0.7408500374943965, 'bagging_fraction': 0.7319233531165041, 'bagging_freq': 2, 'min_child_samples': 60}. Best is trial 71 with value: 0.9791666666666667.\u001b[0m\n",
      "\u001b[32m[I 2021-04-23 10:55:22,949]\u001b[0m Trial 97 finished with value: 0.9448960554371003 and parameters: {'lambda_l1': 1.1735558502497027e-07, 'lambda_l2': 0.003132953441983713, 'num_leaves': 41, 'feature_fraction': 0.6872622043542509, 'bagging_fraction': 0.44246685291484683, 'bagging_freq': 1, 'min_child_samples': 8}. Best is trial 71 with value: 0.9791666666666667.\u001b[0m\n",
      "\u001b[32m[I 2021-04-23 10:55:23,169]\u001b[0m Trial 98 finished with value: 0.894169751454257 and parameters: {'lambda_l1': 3.5421197801649885e-07, 'lambda_l2': 9.417131717402713e-06, 'num_leaves': 33, 'feature_fraction': 0.658945302210059, 'bagging_fraction': 0.7782939750511542, 'bagging_freq': 5, 'min_child_samples': 22}. Best is trial 71 with value: 0.9791666666666667.\u001b[0m\n",
      "\u001b[32m[I 2021-04-23 10:55:23,332]\u001b[0m Trial 99 finished with value: 0.936175847457627 and parameters: {'lambda_l1': 1.885218133253467e-07, 'lambda_l2': 0.00047755496753902285, 'num_leaves': 49, 'feature_fraction': 0.7917497701503989, 'bagging_fraction': 0.671775652174427, 'bagging_freq': 2, 'min_child_samples': 56}. Best is trial 71 with value: 0.9791666666666667.\u001b[0m\n"
     ]
    },
    {
     "name": "stdout",
     "output_type": "stream",
     "text": [
      "Number of finished trials: 100\n",
      "Best trial:\n",
      "  Value: 0.9791666666666667\n",
      "  Params: \n",
      "    lambda_l1: 1.04810668964607e-06\n",
      "    lambda_l2: 1.4411405545636064e-05\n",
      "    num_leaves: 21\n",
      "    feature_fraction: 0.695262536856741\n",
      "    bagging_fraction: 0.44244030459382727\n",
      "    bagging_freq: 1\n",
      "    min_child_samples: 54\n"
     ]
    }
   ],
   "source": [
    "study = optuna.create_study(direction=\"maximize\")\n",
    "study.optimize(objective, n_trials=100)\n",
    "\n",
    "print(\"Number of finished trials: {}\".format(len(study.trials)))\n",
    "\n",
    "print(\"Best trial:\")\n",
    "trial = study.best_trial\n",
    "\n",
    "print(\"  Value: {}\".format(trial.value))\n",
    "\n",
    "print(\"  Params: \")\n",
    "for key, value in trial.params.items():\n",
    "    print(\"    {}: {}\".format(key, value))"
   ]
  },
  {
   "cell_type": "code",
   "execution_count": null,
   "metadata": {},
   "outputs": [],
   "source": []
  },
  {
   "cell_type": "code",
   "execution_count": null,
   "metadata": {},
   "outputs": [],
   "source": []
  },
  {
   "cell_type": "code",
   "execution_count": 140,
   "metadata": {},
   "outputs": [],
   "source": [
    "import xgboost as xgb\n",
    "\n",
    "def objective(trial):\n",
    "    (data, target) = sklearn.datasets.load_breast_cancer(return_X_y=True)\n",
    "    train_x, valid_x, train_y, valid_y = train_test_split(X_under, y_under, test_size=0.25)\n",
    "    dtrain = xgb.DMatrix(train_x, label=train_y)\n",
    "    dvalid = xgb.DMatrix(valid_x, label=valid_y)\n",
    "\n",
    "    param = {\n",
    "        \"verbosity\": 0,\n",
    "        \"objective\": \"binary:logistic\",\n",
    "        # use exact for small dataset.\n",
    "        \"tree_method\": \"exact\",\n",
    "        # defines booster, gblinear for linear functions.\n",
    "        \"booster\": trial.suggest_categorical(\"booster\", [\"gbtree\", \"gblinear\", \"dart\"]),\n",
    "        # L2 regularization weight.\n",
    "        \"lambda\": trial.suggest_float(\"lambda\", 1e-8, 1.0, log=True),\n",
    "        # L1 regularization weight.\n",
    "        \"alpha\": trial.suggest_float(\"alpha\", 1e-8, 1.0, log=True),\n",
    "        # sampling ratio for training data.\n",
    "        \"subsample\": trial.suggest_float(\"subsample\", 0.2, 1.0),\n",
    "        # sampling according to each tree.\n",
    "        \"colsample_bytree\": trial.suggest_float(\"colsample_bytree\", 0.2, 1.0),\n",
    "    }\n",
    "\n",
    "    if param[\"booster\"] in [\"gbtree\", \"dart\"]:\n",
    "        # maximum depth of the tree, signifies complexity of the tree.\n",
    "        param[\"max_depth\"] = trial.suggest_int(\"max_depth\", 3, 9, step=2)\n",
    "        # minimum child weight, larger the term more conservative the tree.\n",
    "        param[\"min_child_weight\"] = trial.suggest_int(\"min_child_weight\", 2, 10)\n",
    "        param[\"eta\"] = trial.suggest_float(\"eta\", 1e-8, 1.0, log=True)\n",
    "        # defines how selective algorithm is.\n",
    "        param[\"gamma\"] = trial.suggest_float(\"gamma\", 1e-8, 1.0, log=True)\n",
    "        param[\"grow_policy\"] = trial.suggest_categorical(\"grow_policy\", [\"depthwise\", \"lossguide\"])\n",
    "\n",
    "    if param[\"booster\"] == \"dart\":\n",
    "        param[\"sample_type\"] = trial.suggest_categorical(\"sample_type\", [\"uniform\", \"weighted\"])\n",
    "        param[\"normalize_type\"] = trial.suggest_categorical(\"normalize_type\", [\"tree\", \"forest\"])\n",
    "        param[\"rate_drop\"] = trial.suggest_float(\"rate_drop\", 1e-8, 1.0, log=True)\n",
    "        param[\"skip_drop\"] = trial.suggest_float(\"skip_drop\", 1e-8, 1.0, log=True)\n",
    "\n",
    "    bst = xgb.train(param, dtrain)\n",
    "    preds = bst.predict(dvalid)\n",
    "    pred_labels = np.rint(preds)\n",
    "    accuracy = sklearn.metrics.roc_auc_score(valid_y, pred_labels)\n",
    "    return accuracy"
   ]
  },
  {
   "cell_type": "code",
   "execution_count": 141,
   "metadata": {
    "scrolled": true
   },
   "outputs": [
    {
     "name": "stderr",
     "output_type": "stream",
     "text": [
      "\u001b[32m[I 2021-04-23 12:51:19,165]\u001b[0m A new study created in memory with name: no-name-6e77cf8d-5a25-4140-9897-a3239dc743c9\u001b[0m\n",
      "\u001b[32m[I 2021-04-23 12:51:19,226]\u001b[0m Trial 0 finished with value: 0.9274193548387097 and parameters: {'booster': 'gbtree', 'lambda': 0.004232780397760567, 'alpha': 0.05625341322765816, 'subsample': 0.41070179668702933, 'colsample_bytree': 0.31291040444108065, 'max_depth': 3, 'min_child_weight': 9, 'eta': 0.009673621121734066, 'gamma': 8.48946051907885e-05, 'grow_policy': 'depthwise'}. Best is trial 0 with value: 0.9274193548387097.\u001b[0m\n",
      "\u001b[32m[I 2021-04-23 12:51:19,299]\u001b[0m Trial 1 finished with value: 0.9196859903381642 and parameters: {'booster': 'dart', 'lambda': 0.0003704179574451095, 'alpha': 0.0016409313455948201, 'subsample': 0.3037193355381385, 'colsample_bytree': 0.9071376645283278, 'max_depth': 5, 'min_child_weight': 9, 'eta': 0.000550293449712148, 'gamma': 0.7866042236287456, 'grow_policy': 'depthwise', 'sample_type': 'uniform', 'normalize_type': 'tree', 'rate_drop': 4.514447540906817e-08, 'skip_drop': 1.207119047618962e-06}. Best is trial 0 with value: 0.9274193548387097.\u001b[0m\n",
      "\u001b[32m[I 2021-04-23 12:51:19,368]\u001b[0m Trial 2 finished with value: 0.9126984126984128 and parameters: {'booster': 'dart', 'lambda': 0.0004596013601328014, 'alpha': 0.0005866938511520508, 'subsample': 0.2634707595220963, 'colsample_bytree': 0.4381306805844279, 'max_depth': 7, 'min_child_weight': 8, 'eta': 0.011516119507947866, 'gamma': 0.2754524435598232, 'grow_policy': 'depthwise', 'sample_type': 'uniform', 'normalize_type': 'tree', 'rate_drop': 5.47814155642122e-05, 'skip_drop': 5.141820837449822e-06}. Best is trial 0 with value: 0.9274193548387097.\u001b[0m\n",
      "\u001b[32m[I 2021-04-23 12:51:19,435]\u001b[0m Trial 3 finished with value: 0.9062727453185999 and parameters: {'booster': 'dart', 'lambda': 1.9965828222826468e-07, 'alpha': 1.7668856392254805e-06, 'subsample': 0.2120019223429103, 'colsample_bytree': 0.507190081084839, 'max_depth': 5, 'min_child_weight': 7, 'eta': 0.571635290953438, 'gamma': 8.98889944075806e-06, 'grow_policy': 'depthwise', 'sample_type': 'weighted', 'normalize_type': 'forest', 'rate_drop': 1.468929524463017e-08, 'skip_drop': 0.005738161526117052}. Best is trial 0 with value: 0.9274193548387097.\u001b[0m\n",
      "\u001b[32m[I 2021-04-23 12:51:19,512]\u001b[0m Trial 4 finished with value: 0.9201543682214386 and parameters: {'booster': 'dart', 'lambda': 0.00022589853159755012, 'alpha': 1.3672543668005722e-06, 'subsample': 0.8240491144182605, 'colsample_bytree': 0.9747043735311094, 'max_depth': 5, 'min_child_weight': 7, 'eta': 0.07838656734776603, 'gamma': 0.00037712997334475476, 'grow_policy': 'depthwise', 'sample_type': 'uniform', 'normalize_type': 'forest', 'rate_drop': 3.3509951438211874e-08, 'skip_drop': 2.4913635450723986e-06}. Best is trial 0 with value: 0.9274193548387097.\u001b[0m\n",
      "\u001b[32m[I 2021-04-23 12:51:19,610]\u001b[0m Trial 5 finished with value: 0.9282282282282284 and parameters: {'booster': 'gbtree', 'lambda': 0.006344330852983286, 'alpha': 5.437602978738209e-05, 'subsample': 0.8802670958725543, 'colsample_bytree': 0.9282709111689516, 'max_depth': 7, 'min_child_weight': 7, 'eta': 0.03374691216818802, 'gamma': 2.9953517630674397e-05, 'grow_policy': 'lossguide'}. Best is trial 5 with value: 0.9282282282282284.\u001b[0m\n",
      "\u001b[32m[I 2021-04-23 12:51:19,678]\u001b[0m Trial 6 finished with value: 0.9032995428344266 and parameters: {'booster': 'gbtree', 'lambda': 0.0022313719965820623, 'alpha': 0.0001243026754574542, 'subsample': 0.27296040079343253, 'colsample_bytree': 0.5610957784673577, 'max_depth': 3, 'min_child_weight': 5, 'eta': 2.234974789013913e-05, 'gamma': 4.4679391538652214e-08, 'grow_policy': 'depthwise'}. Best is trial 5 with value: 0.9282282282282284.\u001b[0m\n",
      "\u001b[32m[I 2021-04-23 12:51:19,744]\u001b[0m Trial 7 finished with value: 0.9210193625657062 and parameters: {'booster': 'gbtree', 'lambda': 1.68460415849596e-08, 'alpha': 2.321545842358995e-05, 'subsample': 0.21213293755892026, 'colsample_bytree': 0.6514140167135973, 'max_depth': 9, 'min_child_weight': 4, 'eta': 0.004778012420951885, 'gamma': 0.0020059757054432747, 'grow_policy': 'depthwise'}. Best is trial 5 with value: 0.9282282282282284.\u001b[0m\n",
      "\u001b[32m[I 2021-04-23 12:51:19,811]\u001b[0m Trial 8 finished with value: 0.907419808477868 and parameters: {'booster': 'gbtree', 'lambda': 0.0005909706628405955, 'alpha': 2.9671336532704603e-07, 'subsample': 0.43785851407856724, 'colsample_bytree': 0.870603927461522, 'max_depth': 5, 'min_child_weight': 8, 'eta': 2.2494255295175075e-08, 'gamma': 0.0008537441824781768, 'grow_policy': 'depthwise'}. Best is trial 5 with value: 0.9282282282282284.\u001b[0m\n",
      "\u001b[32m[I 2021-04-23 12:51:19,894]\u001b[0m Trial 9 finished with value: 0.8970238095238096 and parameters: {'booster': 'gbtree', 'lambda': 0.040243810591000545, 'alpha': 0.0547825553005578, 'subsample': 0.38245082296569355, 'colsample_bytree': 0.7757603084178786, 'max_depth': 9, 'min_child_weight': 10, 'eta': 0.0023304887490959232, 'gamma': 0.42798503531756155, 'grow_policy': 'lossguide'}. Best is trial 5 with value: 0.9282282282282284.\u001b[0m\n",
      "\u001b[32m[I 2021-04-23 12:51:19,976]\u001b[0m Trial 10 finished with value: 0.9144632469592808 and parameters: {'booster': 'gblinear', 'lambda': 2.588650004470519e-06, 'alpha': 1.0688147349200549e-08, 'subsample': 0.959361013470619, 'colsample_bytree': 0.7167830745480885}. Best is trial 5 with value: 0.9282282282282284.\u001b[0m\n",
      "\u001b[32m[I 2021-04-23 12:51:20,108]\u001b[0m Trial 11 finished with value: 0.9090909090909092 and parameters: {'booster': 'gbtree', 'lambda': 0.5144105763924733, 'alpha': 0.21884592827396296, 'subsample': 0.6190487533259069, 'colsample_bytree': 0.23964573732998712, 'max_depth': 7, 'min_child_weight': 2, 'eta': 1.4820689279022028e-05, 'gamma': 9.622513316206099e-06, 'grow_policy': 'lossguide'}. Best is trial 5 with value: 0.9282282282282284.\u001b[0m\n",
      "\u001b[32m[I 2021-04-23 12:51:20,193]\u001b[0m Trial 12 finished with value: 0.9414629298350229 and parameters: {'booster': 'gblinear', 'lambda': 0.0301098008750168, 'alpha': 0.006008232360044599, 'subsample': 0.5918048133224199, 'colsample_bytree': 0.20251833661168062}. Best is trial 12 with value: 0.9414629298350229.\u001b[0m\n",
      "\u001b[32m[I 2021-04-23 12:51:20,262]\u001b[0m Trial 13 finished with value: 0.907563025210084 and parameters: {'booster': 'gblinear', 'lambda': 0.9482913181064738, 'alpha': 0.006752899461696218, 'subsample': 0.6543566368566328, 'colsample_bytree': 0.3553440045128703}. Best is trial 12 with value: 0.9414629298350229.\u001b[0m\n",
      "\u001b[32m[I 2021-04-23 12:51:20,356]\u001b[0m Trial 14 finished with value: 0.9615231259968101 and parameters: {'booster': 'gblinear', 'lambda': 0.02682489146622053, 'alpha': 4.8090586180727644e-05, 'subsample': 0.8049478552120503, 'colsample_bytree': 0.8157691802441502}. Best is trial 14 with value: 0.9615231259968101.\u001b[0m\n",
      "\u001b[32m[I 2021-04-23 12:51:20,457]\u001b[0m Trial 15 finished with value: 0.8985507246376812 and parameters: {'booster': 'gblinear', 'lambda': 0.12378699778126062, 'alpha': 0.9165075384877581, 'subsample': 0.7401753513854228, 'colsample_bytree': 0.777969264451805}. Best is trial 14 with value: 0.9615231259968101.\u001b[0m\n",
      "\u001b[32m[I 2021-04-23 12:51:20,542]\u001b[0m Trial 16 finished with value: 0.930614406779661 and parameters: {'booster': 'gblinear', 'lambda': 1.0852174746834392e-05, 'alpha': 0.00395668535392078, 'subsample': 0.5501690494639759, 'colsample_bytree': 0.20064881073342725}. Best is trial 14 with value: 0.9615231259968101.\u001b[0m\n",
      "\u001b[32m[I 2021-04-23 12:51:20,628]\u001b[0m Trial 17 finished with value: 0.9453748006379585 and parameters: {'booster': 'gblinear', 'lambda': 0.021634709953195063, 'alpha': 8.884270174760236e-06, 'subsample': 0.7348727570409564, 'colsample_bytree': 0.6315465782207856}. Best is trial 14 with value: 0.9615231259968101.\u001b[0m\n",
      "\u001b[32m[I 2021-04-23 12:51:20,712]\u001b[0m Trial 18 finished with value: 0.9400793650793651 and parameters: {'booster': 'gblinear', 'lambda': 0.31277824395037196, 'alpha': 8.71132056517501e-06, 'subsample': 0.7552218996542531, 'colsample_bytree': 0.6371152139723558}. Best is trial 14 with value: 0.9615231259968101.\u001b[0m\n",
      "\u001b[32m[I 2021-04-23 12:51:20,808]\u001b[0m Trial 19 finished with value: 0.9162194394752534 and parameters: {'booster': 'gblinear', 'lambda': 0.0274036022254889, 'alpha': 2.8328901584114582e-08, 'subsample': 0.9521526469075386, 'colsample_bytree': 0.7961829636671911}. Best is trial 14 with value: 0.9615231259968101.\u001b[0m\n"
     ]
    },
    {
     "name": "stderr",
     "output_type": "stream",
     "text": [
      "\u001b[32m[I 2021-04-23 12:51:20,904]\u001b[0m Trial 20 finished with value: 0.9262224574869318 and parameters: {'booster': 'gblinear', 'lambda': 4.982239607599668e-05, 'alpha': 2.904258552676597e-07, 'subsample': 0.7435650274462017, 'colsample_bytree': 0.7002379388885744}. Best is trial 14 with value: 0.9615231259968101.\u001b[0m\n",
      "\u001b[32m[I 2021-04-23 12:51:20,997]\u001b[0m Trial 21 finished with value: 0.9507936507936509 and parameters: {'booster': 'gblinear', 'lambda': 0.026486521776716496, 'alpha': 0.00027849212306549657, 'subsample': 0.5365034855797968, 'colsample_bytree': 0.5615658747864946}. Best is trial 14 with value: 0.9615231259968101.\u001b[0m\n",
      "\u001b[32m[I 2021-04-23 12:51:21,077]\u001b[0m Trial 22 finished with value: 0.9587301587301588 and parameters: {'booster': 'gblinear', 'lambda': 0.00877938146126747, 'alpha': 0.00019498575127666642, 'subsample': 0.5199959917888061, 'colsample_bytree': 0.5428373239340997}. Best is trial 14 with value: 0.9615231259968101.\u001b[0m\n",
      "\u001b[32m[I 2021-04-23 12:51:21,173]\u001b[0m Trial 23 finished with value: 0.9492042440318303 and parameters: {'booster': 'gblinear', 'lambda': 0.11360293936737613, 'alpha': 0.00032688519094460156, 'subsample': 0.46160163091048906, 'colsample_bytree': 0.5153117158346612}. Best is trial 14 with value: 0.9615231259968101.\u001b[0m\n",
      "\u001b[32m[I 2021-04-23 12:51:21,260]\u001b[0m Trial 24 finished with value: 0.9416860272154 and parameters: {'booster': 'gblinear', 'lambda': 0.0027971301452182403, 'alpha': 0.00017949637959688682, 'subsample': 0.5100340153564933, 'colsample_bytree': 0.4487957340044012}. Best is trial 14 with value: 0.9615231259968101.\u001b[0m\n",
      "\u001b[32m[I 2021-04-23 12:51:21,349]\u001b[0m Trial 25 finished with value: 0.9442460317460317 and parameters: {'booster': 'gblinear', 'lambda': 0.00681055084443043, 'alpha': 0.000719370621038109, 'subsample': 0.6646261978167122, 'colsample_bytree': 0.56643109063316}. Best is trial 14 with value: 0.9615231259968101.\u001b[0m\n",
      "\u001b[32m[I 2021-04-23 12:51:21,438]\u001b[0m Trial 26 finished with value: 0.9058355437665784 and parameters: {'booster': 'gblinear', 'lambda': 0.1507905626146638, 'alpha': 3.249977988049286e-05, 'subsample': 0.5078242938542836, 'colsample_bytree': 0.43014833093844046}. Best is trial 14 with value: 0.9615231259968101.\u001b[0m\n",
      "\u001b[32m[I 2021-04-23 12:51:21,533]\u001b[0m Trial 27 finished with value: 0.9236033057851238 and parameters: {'booster': 'gblinear', 'lambda': 6.207450194553635e-05, 'alpha': 4.952938487548646e-06, 'subsample': 0.33753193323232655, 'colsample_bytree': 0.5069300309701835}. Best is trial 14 with value: 0.9615231259968101.\u001b[0m\n",
      "\u001b[32m[I 2021-04-23 12:51:21,634]\u001b[0m Trial 28 finished with value: 0.9088650367720135 and parameters: {'booster': 'gblinear', 'lambda': 0.0012307927558527021, 'alpha': 0.002260716799925374, 'subsample': 0.558290931833212, 'colsample_bytree': 0.7180110646241749}. Best is trial 14 with value: 0.9615231259968101.\u001b[0m\n",
      "\u001b[32m[I 2021-04-23 12:51:21,725]\u001b[0m Trial 29 finished with value: 0.8890873015873016 and parameters: {'booster': 'gblinear', 'lambda': 0.009090341488573154, 'alpha': 5.619233267552023e-05, 'subsample': 0.401217736030112, 'colsample_bytree': 0.3641473403667542}. Best is trial 14 with value: 0.9615231259968101.\u001b[0m\n",
      "\u001b[32m[I 2021-04-23 12:51:21,813]\u001b[0m Trial 30 finished with value: 0.9406779661016949 and parameters: {'booster': 'gblinear', 'lambda': 0.1082112793315819, 'alpha': 0.00015607411520623645, 'subsample': 0.6846265689301306, 'colsample_bytree': 0.5712029108546264}. Best is trial 14 with value: 0.9615231259968101.\u001b[0m\n",
      "\u001b[32m[I 2021-04-23 12:51:21,906]\u001b[0m Trial 31 finished with value: 0.907258064516129 and parameters: {'booster': 'gblinear', 'lambda': 0.7902658602729689, 'alpha': 0.01859181124184497, 'subsample': 0.47628384654798983, 'colsample_bytree': 0.5022373954031975}. Best is trial 14 with value: 0.9615231259968101.\u001b[0m\n",
      "\u001b[32m[I 2021-04-23 12:51:22,088]\u001b[0m Trial 32 finished with value: 0.9192887361184559 and parameters: {'booster': 'gblinear', 'lambda': 0.07063371382612546, 'alpha': 0.0004305913707973302, 'subsample': 0.4634925582699545, 'colsample_bytree': 0.527345138736221}. Best is trial 14 with value: 0.9615231259968101.\u001b[0m\n",
      "\u001b[32m[I 2021-04-23 12:51:22,190]\u001b[0m Trial 33 finished with value: 0.9488881513441753 and parameters: {'booster': 'gblinear', 'lambda': 0.010417414885618783, 'alpha': 0.0003658467415380524, 'subsample': 0.549177307266904, 'colsample_bytree': 0.4485235977657297}. Best is trial 14 with value: 0.9615231259968101.\u001b[0m\n",
      "\u001b[32m[I 2021-04-23 12:51:22,370]\u001b[0m Trial 34 finished with value: 0.9141055426485231 and parameters: {'booster': 'dart', 'lambda': 0.2518778117684144, 'alpha': 0.001565154199474212, 'subsample': 0.3453382627937848, 'colsample_bytree': 0.6067245195448607, 'max_depth': 9, 'min_child_weight': 2, 'eta': 1.3330443027824471e-08, 'gamma': 1.118445891282988e-08, 'grow_policy': 'lossguide', 'sample_type': 'weighted', 'normalize_type': 'forest', 'rate_drop': 0.8227685387525548, 'skip_drop': 0.22425736185460163}. Best is trial 14 with value: 0.9615231259968101.\u001b[0m\n",
      "\u001b[32m[I 2021-04-23 12:51:22,466]\u001b[0m Trial 35 finished with value: 0.9548290740126121 and parameters: {'booster': 'gblinear', 'lambda': 0.0008290466575577964, 'alpha': 0.001079146920960186, 'subsample': 0.5996045119192079, 'colsample_bytree': 0.3735689508179345}. Best is trial 14 with value: 0.9615231259968101.\u001b[0m\n",
      "\u001b[32m[I 2021-04-23 12:51:22,611]\u001b[0m Trial 36 finished with value: 0.8992981991525424 and parameters: {'booster': 'dart', 'lambda': 0.0001724151165559864, 'alpha': 2.054572759335199e-05, 'subsample': 0.603371288640903, 'colsample_bytree': 0.30588834239681834, 'max_depth': 3, 'min_child_weight': 4, 'eta': 4.194663536065457e-07, 'gamma': 1.8588446390153238e-07, 'grow_policy': 'lossguide', 'sample_type': 'weighted', 'normalize_type': 'tree', 'rate_drop': 0.7490514394878556, 'skip_drop': 1.1837963986433942e-08}. Best is trial 14 with value: 0.9615231259968101.\u001b[0m\n",
      "\u001b[32m[I 2021-04-23 12:51:22,706]\u001b[0m Trial 37 finished with value: 0.9272811486799445 and parameters: {'booster': 'gblinear', 'lambda': 0.0008610675766994053, 'alpha': 0.0010098445509853532, 'subsample': 0.8183383849623385, 'colsample_bytree': 0.3856201909770106}. Best is trial 14 with value: 0.9615231259968101.\u001b[0m\n",
      "\u001b[32m[I 2021-04-23 12:51:22,873]\u001b[0m Trial 38 finished with value: 0.938400265516097 and parameters: {'booster': 'dart', 'lambda': 0.001378496637983483, 'alpha': 5.3467219091798016e-05, 'subsample': 0.8858196354669159, 'colsample_bytree': 0.30366972962373123, 'max_depth': 7, 'min_child_weight': 3, 'eta': 4.7115076661496647e-07, 'gamma': 1.1779633394866394e-06, 'grow_policy': 'lossguide', 'sample_type': 'uniform', 'normalize_type': 'forest', 'rate_drop': 0.0009564457069345401, 'skip_drop': 0.6647199785323419}. Best is trial 14 with value: 0.9615231259968101.\u001b[0m\n",
      "\u001b[32m[I 2021-04-23 12:51:22,960]\u001b[0m Trial 39 finished with value: 0.9328912466843502 and parameters: {'booster': 'gblinear', 'lambda': 0.003911330051006894, 'alpha': 0.01782827051833555, 'subsample': 0.504948538881615, 'colsample_bytree': 0.8499511870209178}. Best is trial 14 with value: 0.9615231259968101.\u001b[0m\n",
      "\u001b[32m[I 2021-04-23 12:51:23,046]\u001b[0m Trial 40 finished with value: 0.9273388429752066 and parameters: {'booster': 'gblinear', 'lambda': 0.0003227352209856533, 'alpha': 1.3123373598051844e-06, 'subsample': 0.6864418888545001, 'colsample_bytree': 0.6708671060093733}. Best is trial 14 with value: 0.9615231259968101.\u001b[0m\n",
      "\u001b[32m[I 2021-04-23 12:51:23,132]\u001b[0m Trial 41 finished with value: 0.9328165374677002 and parameters: {'booster': 'gblinear', 'lambda': 0.013682872723940873, 'alpha': 0.0002870660189498137, 'subsample': 0.4372413925727743, 'colsample_bytree': 0.4725220576417576}. Best is trial 14 with value: 0.9615231259968101.\u001b[0m\n",
      "\u001b[32m[I 2021-04-23 12:51:23,229]\u001b[0m Trial 42 finished with value: 0.9159814323607427 and parameters: {'booster': 'gblinear', 'lambda': 0.05104146954969593, 'alpha': 0.0001346743013911588, 'subsample': 0.5680140570468757, 'colsample_bytree': 0.5414679747418185}. Best is trial 14 with value: 0.9615231259968101.\u001b[0m\n",
      "\u001b[32m[I 2021-04-23 12:51:23,307]\u001b[0m Trial 43 finished with value: 0.9302809917355372 and parameters: {'booster': 'gblinear', 'lambda': 0.0029436053308666906, 'alpha': 0.0005188884128314691, 'subsample': 0.6153728741463297, 'colsample_bytree': 0.5941432843597607}. Best is trial 14 with value: 0.9615231259968101.\u001b[0m\n"
     ]
    },
    {
     "name": "stderr",
     "output_type": "stream",
     "text": [
      "\u001b[32m[I 2021-04-23 12:51:23,401]\u001b[0m Trial 44 finished with value: 0.934126984126984 and parameters: {'booster': 'gblinear', 'lambda': 0.017561200547739693, 'alpha': 8.815049310874722e-05, 'subsample': 0.47237672043878987, 'colsample_bytree': 0.41634962695891287}. Best is trial 14 with value: 0.9615231259968101.\u001b[0m\n",
      "\u001b[32m[I 2021-04-23 12:51:23,544]\u001b[0m Trial 45 finished with value: 0.928032309322034 and parameters: {'booster': 'gbtree', 'lambda': 0.3040825136394797, 'alpha': 0.0022361868865228163, 'subsample': 0.5259985551792206, 'colsample_bytree': 0.5006677132662593, 'max_depth': 3, 'min_child_weight': 5, 'eta': 0.4127339656888837, 'gamma': 0.011833389486211628, 'grow_policy': 'lossguide'}. Best is trial 14 with value: 0.9615231259968101.\u001b[0m\n",
      "\u001b[32m[I 2021-04-23 12:51:23,643]\u001b[0m Trial 46 finished with value: 0.936111111111111 and parameters: {'booster': 'gblinear', 'lambda': 0.054435235279657816, 'alpha': 0.0010079351322524034, 'subsample': 0.37847650815577316, 'colsample_bytree': 0.27656967494368756}. Best is trial 14 with value: 0.9615231259968101.\u001b[0m\n",
      "\u001b[32m[I 2021-04-23 12:51:23,747]\u001b[0m Trial 47 finished with value: 0.9287287287287288 and parameters: {'booster': 'gblinear', 'lambda': 0.0006639564145800916, 'alpha': 0.011575372272906509, 'subsample': 0.42245752231580924, 'colsample_bytree': 0.47206315684611166}. Best is trial 14 with value: 0.9615231259968101.\u001b[0m\n",
      "\u001b[32m[I 2021-04-23 12:51:23,837]\u001b[0m Trial 48 finished with value: 0.9149786780383794 and parameters: {'booster': 'gblinear', 'lambda': 0.006613147953853842, 'alpha': 1.4545487020908833e-05, 'subsample': 0.5933756267781374, 'colsample_bytree': 0.9428928275158026}. Best is trial 14 with value: 0.9615231259968101.\u001b[0m\n",
      "\u001b[32m[I 2021-04-23 12:51:24,060]\u001b[0m Trial 49 finished with value: 0.9410752118644069 and parameters: {'booster': 'dart', 'lambda': 1.57376144338005e-08, 'alpha': 0.0811562928088497, 'subsample': 0.6407023439455066, 'colsample_bytree': 0.39093390583509136, 'max_depth': 9, 'min_child_weight': 10, 'eta': 6.625308090747731e-07, 'gamma': 0.02360291804704731, 'grow_policy': 'lossguide', 'sample_type': 'weighted', 'normalize_type': 'tree', 'rate_drop': 1.0099658962944657e-05, 'skip_drop': 1.0297363806484975e-08}. Best is trial 14 with value: 0.9615231259968101.\u001b[0m\n",
      "\u001b[32m[I 2021-04-23 12:51:24,237]\u001b[0m Trial 50 finished with value: 0.942821258593337 and parameters: {'booster': 'gbtree', 'lambda': 0.0019369899434729637, 'alpha': 5.938247980070559e-05, 'subsample': 0.7101449720361304, 'colsample_bytree': 0.587230136571977, 'max_depth': 7, 'min_child_weight': 6, 'eta': 5.922321277012987e-05, 'gamma': 7.586641505134777e-07, 'grow_policy': 'depthwise'}. Best is trial 14 with value: 0.9615231259968101.\u001b[0m\n",
      "\u001b[32m[I 2021-04-23 12:51:24,334]\u001b[0m Trial 51 finished with value: 0.9266776859504132 and parameters: {'booster': 'gblinear', 'lambda': 0.011002003935731055, 'alpha': 0.00032521937718770725, 'subsample': 0.5458027605331741, 'colsample_bytree': 0.4677957646048674}. Best is trial 14 with value: 0.9615231259968101.\u001b[0m\n",
      "\u001b[32m[I 2021-04-23 12:51:24,535]\u001b[0m Trial 52 finished with value: 0.9310549973558963 and parameters: {'booster': 'gblinear', 'lambda': 0.026505925495363455, 'alpha': 0.0002274852108576869, 'subsample': 0.47337854283742165, 'colsample_bytree': 0.5344613339435748}. Best is trial 14 with value: 0.9615231259968101.\u001b[0m\n",
      "\u001b[32m[I 2021-04-23 12:51:24,635]\u001b[0m Trial 53 finished with value: 0.9016393442622951 and parameters: {'booster': 'gblinear', 'lambda': 0.09670077985001703, 'alpha': 0.0035966586538804467, 'subsample': 0.5715778142540977, 'colsample_bytree': 0.35070299929987503}. Best is trial 14 with value: 0.9615231259968101.\u001b[0m\n",
      "\u001b[32m[I 2021-04-23 12:51:24,721]\u001b[0m Trial 54 finished with value: 0.924346263889813 and parameters: {'booster': 'gblinear', 'lambda': 0.005253047969936134, 'alpha': 0.0007803553850397668, 'subsample': 0.5319549872774579, 'colsample_bytree': 0.4091701671656747}. Best is trial 14 with value: 0.9615231259968101.\u001b[0m\n",
      "\u001b[32m[I 2021-04-23 12:51:24,807]\u001b[0m Trial 55 finished with value: 0.926774901856411 and parameters: {'booster': 'gblinear', 'lambda': 0.03704651047502542, 'alpha': 9.474461685344168e-05, 'subsample': 0.6376308910776355, 'colsample_bytree': 0.451940460075465}. Best is trial 14 with value: 0.9615231259968101.\u001b[0m\n",
      "\u001b[32m[I 2021-04-23 12:51:24,900]\u001b[0m Trial 56 finished with value: 0.9529914529914529 and parameters: {'booster': 'gblinear', 'lambda': 0.18605463565779692, 'alpha': 3.00686715358488e-06, 'subsample': 0.9939106703717772, 'colsample_bytree': 0.6221611570924483}. Best is trial 14 with value: 0.9615231259968101.\u001b[0m\n",
      "\u001b[32m[I 2021-04-23 12:51:24,993]\u001b[0m Trial 57 finished with value: 0.9126984126984127 and parameters: {'booster': 'gblinear', 'lambda': 0.4641698567292447, 'alpha': 1.896186433933716e-06, 'subsample': 0.9838370755560402, 'colsample_bytree': 0.9891983021753104}. Best is trial 14 with value: 0.9615231259968101.\u001b[0m\n",
      "\u001b[32m[I 2021-04-23 12:51:25,079]\u001b[0m Trial 58 finished with value: 0.927638592750533 and parameters: {'booster': 'gblinear', 'lambda': 0.1806262906492843, 'alpha': 4.177217971756763e-06, 'subsample': 0.7950775540772148, 'colsample_bytree': 0.7418174476908533}. Best is trial 14 with value: 0.9615231259968101.\u001b[0m\n",
      "\u001b[32m[I 2021-04-23 12:51:25,156]\u001b[0m Trial 59 finished with value: 0.933702025586354 and parameters: {'booster': 'gblinear', 'lambda': 1.0781309641543021e-07, 'alpha': 3.4200427422807697e-07, 'subsample': 0.8673598229320764, 'colsample_bytree': 0.6805416109311956}. Best is trial 14 with value: 0.9615231259968101.\u001b[0m\n",
      "\u001b[32m[I 2021-04-23 12:51:25,241]\u001b[0m Trial 60 finished with value: 0.9330708661417323 and parameters: {'booster': 'gblinear', 'lambda': 0.50191219837175, 'alpha': 3.617594333066659e-05, 'subsample': 0.8924651054943957, 'colsample_bytree': 0.6292728345630919}. Best is trial 14 with value: 0.9615231259968101.\u001b[0m\n",
      "\u001b[32m[I 2021-04-23 12:51:25,330]\u001b[0m Trial 61 finished with value: 0.9584575631087258 and parameters: {'booster': 'gblinear', 'lambda': 0.01741731443921035, 'alpha': 0.00044281404419463935, 'subsample': 0.49247109808125233, 'colsample_bytree': 0.5504179273536511}. Best is trial 14 with value: 0.9615231259968101.\u001b[0m\n",
      "\u001b[32m[I 2021-04-23 12:51:25,419]\u001b[0m Trial 62 finished with value: 0.9703389830508475 and parameters: {'booster': 'gblinear', 'lambda': 0.020632276413994743, 'alpha': 0.0013057102417475502, 'subsample': 0.49450288106225965, 'colsample_bytree': 0.5604334985970185}. Best is trial 62 with value: 0.9703389830508475.\u001b[0m\n",
      "\u001b[32m[I 2021-04-23 12:51:25,506]\u001b[0m Trial 63 finished with value: 0.9378968253968255 and parameters: {'booster': 'gblinear', 'lambda': 0.022555248603909003, 'alpha': 0.001420824794934683, 'subsample': 0.4980747611889593, 'colsample_bytree': 0.6172453149173681}. Best is trial 62 with value: 0.9703389830508475.\u001b[0m\n",
      "\u001b[32m[I 2021-04-23 12:51:25,621]\u001b[0m Trial 64 finished with value: 0.9291007741679349 and parameters: {'booster': 'gblinear', 'lambda': 0.004213274868065781, 'alpha': 0.004062170946803714, 'subsample': 0.5806507469044053, 'colsample_bytree': 0.8302017813434737}. Best is trial 62 with value: 0.9703389830508475.\u001b[0m\n",
      "\u001b[32m[I 2021-04-23 12:51:25,725]\u001b[0m Trial 65 finished with value: 0.9322768477469727 and parameters: {'booster': 'gblinear', 'lambda': 0.039583842004003084, 'alpha': 1.1462040968740222e-05, 'subsample': 0.49555865728956106, 'colsample_bytree': 0.5512576089523965}. Best is trial 62 with value: 0.9703389830508475.\u001b[0m\n",
      "\u001b[32m[I 2021-04-23 12:51:25,831]\u001b[0m Trial 66 finished with value: 0.9382045088566827 and parameters: {'booster': 'gblinear', 'lambda': 2.6164263432686447e-05, 'alpha': 0.007831554464338614, 'subsample': 0.9312117001888892, 'colsample_bytree': 0.8937267704743799}. Best is trial 62 with value: 0.9703389830508475.\u001b[0m\n",
      "\u001b[32m[I 2021-04-23 12:51:26,000]\u001b[0m Trial 67 finished with value: 0.9154967063676891 and parameters: {'booster': 'gbtree', 'lambda': 0.07025581127378121, 'alpha': 0.0006096966295217748, 'subsample': 0.44444805393977793, 'colsample_bytree': 0.6606080754484615, 'max_depth': 5, 'min_child_weight': 3, 'eta': 3.5270487029912963e-06, 'gamma': 0.04558216219604793, 'grow_policy': 'lossguide'}. Best is trial 62 with value: 0.9703389830508475.\u001b[0m\n"
     ]
    },
    {
     "name": "stderr",
     "output_type": "stream",
     "text": [
      "\u001b[32m[I 2021-04-23 12:51:26,109]\u001b[0m Trial 68 finished with value: 0.9281746031746032 and parameters: {'booster': 'gblinear', 'lambda': 0.0177070385177365, 'alpha': 0.00018613342283065883, 'subsample': 0.4026101899419554, 'colsample_bytree': 0.5787780451674249}. Best is trial 62 with value: 0.9703389830508475.\u001b[0m\n",
      "\u001b[32m[I 2021-04-23 12:51:26,197]\u001b[0m Trial 69 finished with value: 0.9466776859504132 and parameters: {'booster': 'gblinear', 'lambda': 0.008387262643902828, 'alpha': 1.2921437711595712e-07, 'subsample': 0.5236918027138493, 'colsample_bytree': 0.7642688935997832}. Best is trial 62 with value: 0.9703389830508475.\u001b[0m\n",
      "\u001b[32m[I 2021-04-23 12:51:26,289]\u001b[0m Trial 70 finished with value: 0.9422619047619046 and parameters: {'booster': 'gblinear', 'lambda': 0.0016819840470642315, 'alpha': 0.0029330494176785155, 'subsample': 0.6170841587495469, 'colsample_bytree': 0.6954442678318513}. Best is trial 62 with value: 0.9703389830508475.\u001b[0m\n",
      "\u001b[32m[I 2021-04-23 12:51:26,393]\u001b[0m Trial 71 finished with value: 0.946031746031746 and parameters: {'booster': 'gblinear', 'lambda': 0.15580887220002385, 'alpha': 0.0012718697056949106, 'subsample': 0.3706312584675336, 'colsample_bytree': 0.5140831100255987}. Best is trial 62 with value: 0.9703389830508475.\u001b[0m\n",
      "\u001b[32m[I 2021-04-23 12:51:26,480]\u001b[0m Trial 72 finished with value: 0.9244570974576272 and parameters: {'booster': 'gblinear', 'lambda': 0.0831129917228411, 'alpha': 0.000515221652940439, 'subsample': 0.45015216180027123, 'colsample_bytree': 0.49054746041459024}. Best is trial 62 with value: 0.9703389830508475.\u001b[0m\n",
      "\u001b[32m[I 2021-04-23 12:51:26,588]\u001b[0m Trial 73 finished with value: 0.9185185185185185 and parameters: {'booster': 'gblinear', 'lambda': 0.9053371342249522, 'alpha': 0.00023579351128890185, 'subsample': 0.49066049821305774, 'colsample_bytree': 0.5495538246811832}. Best is trial 62 with value: 0.9703389830508475.\u001b[0m\n",
      "\u001b[32m[I 2021-04-23 12:51:26,703]\u001b[0m Trial 74 finished with value: 0.9222488038277512 and parameters: {'booster': 'gblinear', 'lambda': 0.2232520171687051, 'alpha': 3.502765650289261e-05, 'subsample': 0.4195663370723686, 'colsample_bytree': 0.6411294164375527}. Best is trial 62 with value: 0.9703389830508475.\u001b[0m\n",
      "\u001b[32m[I 2021-04-23 12:51:26,787]\u001b[0m Trial 75 finished with value: 0.9533819628647214 and parameters: {'booster': 'gblinear', 'lambda': 0.015593614036755113, 'alpha': 8.952086443268588e-05, 'subsample': 0.5346761388700084, 'colsample_bytree': 0.610216578740575}. Best is trial 62 with value: 0.9703389830508475.\u001b[0m\n",
      "\u001b[32m[I 2021-04-23 12:51:26,884]\u001b[0m Trial 76 finished with value: 0.8993388429752066 and parameters: {'booster': 'gblinear', 'lambda': 0.014207401868587025, 'alpha': 0.00010024531886008196, 'subsample': 0.5262094930061014, 'colsample_bytree': 0.612380720595634}. Best is trial 62 with value: 0.9703389830508475.\u001b[0m\n",
      "\u001b[32m[I 2021-04-23 12:51:26,997]\u001b[0m Trial 77 finished with value: 0.9390889830508475 and parameters: {'booster': 'gblinear', 'lambda': 0.003290542953382573, 'alpha': 2.3276446793090754e-05, 'subsample': 0.5635486536232944, 'colsample_bytree': 0.5687619059502536}. Best is trial 62 with value: 0.9703389830508475.\u001b[0m\n",
      "\u001b[32m[I 2021-04-23 12:51:27,094]\u001b[0m Trial 78 finished with value: 0.9424465240641711 and parameters: {'booster': 'gblinear', 'lambda': 0.028972655166642276, 'alpha': 5.0956465693541155e-06, 'subsample': 0.5943802055030015, 'colsample_bytree': 0.6463207287689741}. Best is trial 62 with value: 0.9703389830508475.\u001b[0m\n",
      "\u001b[32m[I 2021-04-23 12:51:27,262]\u001b[0m Trial 79 finished with value: 0.9047619047619048 and parameters: {'booster': 'dart', 'lambda': 0.0004368385160701838, 'alpha': 6.086033477307201e-05, 'subsample': 0.5435205963579797, 'colsample_bytree': 0.22301673615632908, 'max_depth': 3, 'min_child_weight': 6, 'eta': 0.00045055563745044486, 'gamma': 3.24314100566432e-08, 'grow_policy': 'depthwise', 'sample_type': 'uniform', 'normalize_type': 'forest', 'rate_drop': 0.017663232837389096, 'skip_drop': 0.005670800734382787}. Best is trial 62 with value: 0.9703389830508475.\u001b[0m\n",
      "\u001b[32m[I 2021-04-23 12:51:27,354]\u001b[0m Trial 80 finished with value: 0.9215399933620976 and parameters: {'booster': 'gblinear', 'lambda': 0.0001450814981738362, 'alpha': 0.00012368627896620056, 'subsample': 0.7784540170151498, 'colsample_bytree': 0.5958517032114445}. Best is trial 62 with value: 0.9703389830508475.\u001b[0m\n",
      "\u001b[32m[I 2021-04-23 12:51:27,452]\u001b[0m Trial 81 finished with value: 0.9610742705570292 and parameters: {'booster': 'gblinear', 'lambda': 0.05046993366883758, 'alpha': 0.00030791138136676696, 'subsample': 0.4819580702266588, 'colsample_bytree': 0.5225480500753374}. Best is trial 62 with value: 0.9703389830508475.\u001b[0m\n",
      "\u001b[32m[I 2021-04-23 12:51:27,553]\u001b[0m Trial 82 finished with value: 0.9132936507936509 and parameters: {'booster': 'gblinear', 'lambda': 0.05039700507965813, 'alpha': 0.0008520444121052768, 'subsample': 0.48049503088317974, 'colsample_bytree': 0.5219442984578033}. Best is trial 62 with value: 0.9703389830508475.\u001b[0m\n",
      "\u001b[32m[I 2021-04-23 12:51:27,649]\u001b[0m Trial 83 finished with value: 0.9433500793231094 and parameters: {'booster': 'gblinear', 'lambda': 0.007619719666158512, 'alpha': 0.002114349154259497, 'subsample': 0.5122332769888921, 'colsample_bytree': 0.561403308499004}. Best is trial 62 with value: 0.9703389830508475.\u001b[0m\n",
      "\u001b[32m[I 2021-04-23 12:51:27,743]\u001b[0m Trial 84 finished with value: 0.9180837689406471 and parameters: {'booster': 'gblinear', 'lambda': 0.01645500564861422, 'alpha': 0.00037564220213572995, 'subsample': 0.4564394898028218, 'colsample_bytree': 0.48927178342744404}. Best is trial 62 with value: 0.9703389830508475.\u001b[0m\n",
      "\u001b[32m[I 2021-04-23 12:51:27,826]\u001b[0m Trial 85 finished with value: 0.9580152671755725 and parameters: {'booster': 'gblinear', 'lambda': 0.12071633893574184, 'alpha': 0.00020458663655091572, 'subsample': 0.5424171214117485, 'colsample_bytree': 0.5432400186318007}. Best is trial 62 with value: 0.9703389830508475.\u001b[0m\n",
      "\u001b[32m[I 2021-04-23 12:51:27,923]\u001b[0m Trial 86 finished with value: 0.934959349593496 and parameters: {'booster': 'gblinear', 'lambda': 0.10411579968628838, 'alpha': 0.00015275140882367686, 'subsample': 0.5566093303887606, 'colsample_bytree': 0.5398794288970608}. Best is trial 62 with value: 0.9703389830508475.\u001b[0m\n",
      "\u001b[32m[I 2021-04-23 12:51:28,026]\u001b[0m Trial 87 finished with value: 0.9274193548387097 and parameters: {'booster': 'gblinear', 'lambda': 0.3696840383390362, 'alpha': 0.0005596458129060287, 'subsample': 0.6655498192301761, 'colsample_bytree': 0.6142372417849528}. Best is trial 62 with value: 0.9703389830508475.\u001b[0m\n",
      "\u001b[32m[I 2021-04-23 12:51:28,121]\u001b[0m Trial 88 finished with value: 0.9122940514788593 and parameters: {'booster': 'gblinear', 'lambda': 0.06221224233724053, 'alpha': 8.814840186734185e-05, 'subsample': 0.5820263979226781, 'colsample_bytree': 0.5306501607323328}. Best is trial 62 with value: 0.9703389830508475.\u001b[0m\n",
      "\u001b[32m[I 2021-04-23 12:51:28,274]\u001b[0m Trial 89 finished with value: 0.9495412844036697 and parameters: {'booster': 'gbtree', 'lambda': 0.03621832698889558, 'alpha': 2.078519227075778e-05, 'subsample': 0.6356870792790154, 'colsample_bytree': 0.3395792131492967, 'max_depth': 9, 'min_child_weight': 3, 'eta': 6.019054513997719e-08, 'gamma': 0.004157992433308962, 'grow_policy': 'lossguide'}. Best is trial 62 with value: 0.9703389830508475.\u001b[0m\n",
      "\u001b[32m[I 2021-04-23 12:51:28,378]\u001b[0m Trial 90 finished with value: 0.9179770788912581 and parameters: {'booster': 'gblinear', 'lambda': 0.0011125813561517594, 'alpha': 0.0002366734716092495, 'subsample': 0.4326721118421848, 'colsample_bytree': 0.5877927005878705}. Best is trial 62 with value: 0.9703389830508475.\u001b[0m\n",
      "\u001b[32m[I 2021-04-23 12:51:28,479]\u001b[0m Trial 91 finished with value: 0.9218253968253968 and parameters: {'booster': 'gblinear', 'lambda': 0.011821717776416414, 'alpha': 0.0003608671082524493, 'subsample': 0.5138012682469334, 'colsample_bytree': 0.5639387826878609}. Best is trial 62 with value: 0.9703389830508475.\u001b[0m\n",
      "\u001b[32m[I 2021-04-23 12:51:28,577]\u001b[0m Trial 92 finished with value: 0.9362898396433562 and parameters: {'booster': 'gblinear', 'lambda': 0.02300166376015831, 'alpha': 0.0010232764500751038, 'subsample': 0.5428690661650026, 'colsample_bytree': 0.48478521557907306}. Best is trial 62 with value: 0.9703389830508475.\u001b[0m\n"
     ]
    },
    {
     "name": "stderr",
     "output_type": "stream",
     "text": [
      "\u001b[32m[I 2021-04-23 12:51:28,667]\u001b[0m Trial 93 finished with value: 0.9385188635305076 and parameters: {'booster': 'gblinear', 'lambda': 0.19763833806247974, 'alpha': 7.025872723156978e-05, 'subsample': 0.4861570081449068, 'colsample_bytree': 0.5126082826383682}. Best is trial 62 with value: 0.9703389830508475.\u001b[0m\n",
      "\u001b[32m[I 2021-04-23 12:51:28,762]\u001b[0m Trial 94 finished with value: 0.9279761904761904 and parameters: {'booster': 'gblinear', 'lambda': 0.004981615967715825, 'alpha': 0.0017057386700246068, 'subsample': 0.6096899271089424, 'colsample_bytree': 0.7244678556730636}. Best is trial 62 with value: 0.9703389830508475.\u001b[0m\n",
      "\u001b[32m[I 2021-04-23 12:51:28,868]\u001b[0m Trial 95 finished with value: 0.9059409226684367 and parameters: {'booster': 'gblinear', 'lambda': 0.11248179701957961, 'alpha': 0.00016767178985825426, 'subsample': 0.528630574020562, 'colsample_bytree': 0.2743644321753475}. Best is trial 62 with value: 0.9703389830508475.\u001b[0m\n",
      "\u001b[32m[I 2021-04-23 12:51:28,978]\u001b[0m Trial 96 finished with value: 0.9628575211864407 and parameters: {'booster': 'gblinear', 'lambda': 0.002335055854998068, 'alpha': 4.412812149204704e-05, 'subsample': 0.5575851296834213, 'colsample_bytree': 0.5779311068491716}. Best is trial 62 with value: 0.9703389830508475.\u001b[0m\n",
      "\u001b[32m[I 2021-04-23 12:51:29,081]\u001b[0m Trial 97 finished with value: 0.9488987956617209 and parameters: {'booster': 'gblinear', 'lambda': 0.002249323770747192, 'alpha': 4.3650303255754096e-05, 'subsample': 0.5694664556968186, 'colsample_bytree': 0.5806716205768623}. Best is trial 62 with value: 0.9703389830508475.\u001b[0m\n",
      "\u001b[32m[I 2021-04-23 12:51:29,175]\u001b[0m Trial 98 finished with value: 0.9262224574869318 and parameters: {'booster': 'gblinear', 'lambda': 0.006400753016892908, 'alpha': 5.807996686765078e-07, 'subsample': 0.5069253922406846, 'colsample_bytree': 0.6026080782696812}. Best is trial 62 with value: 0.9703389830508475.\u001b[0m\n",
      "\u001b[32m[I 2021-04-23 12:51:29,271]\u001b[0m Trial 99 finished with value: 0.9227642276422764 and parameters: {'booster': 'gblinear', 'lambda': 0.010409595003679885, 'alpha': 1.3772719533379117e-05, 'subsample': 0.9942527758058171, 'colsample_bytree': 0.6307218179309948}. Best is trial 62 with value: 0.9703389830508475.\u001b[0m\n"
     ]
    },
    {
     "name": "stdout",
     "output_type": "stream",
     "text": [
      "Number of finished trials:  100\n",
      "Best trial:\n",
      "  Value: 0.9703389830508475\n",
      "  Params: \n",
      "    booster: gblinear\n",
      "    lambda: 0.020632276413994743\n",
      "    alpha: 0.0013057102417475502\n",
      "    subsample: 0.49450288106225965\n",
      "    colsample_bytree: 0.5604334985970185\n"
     ]
    }
   ],
   "source": [
    "lgb_study = optuna.create_study(direction=\"maximize\")\n",
    "lgb_study.optimize(objective, n_trials=100, timeout=600)\n",
    "\n",
    "print(\"Number of finished trials: \", len(study.trials))\n",
    "print(\"Best trial:\")\n",
    "trial = lgb_study.best_trial\n",
    "\n",
    "print(\"  Value: {}\".format(trial.value))\n",
    "print(\"  Params: \")\n",
    "for key, value in trial.params.items():\n",
    "    print(\"    {}: {}\".format(key, value))"
   ]
  },
  {
   "cell_type": "markdown",
   "metadata": {},
   "source": [
    "### Still Light Boost Classifier with hyperparamet optimization in optuna performs better than XGBoost"
   ]
  },
  {
   "cell_type": "markdown",
   "metadata": {},
   "source": [
    "## Now use Cat Boost"
   ]
  },
  {
   "cell_type": "code",
   "execution_count": 138,
   "metadata": {},
   "outputs": [],
   "source": [
    "def objective(trial):\n",
    "#     data, target = load_breast_cancer(return_X_y=True)\n",
    "    train_x, valid_x, train_y, valid_y = train_test_split(X_under, y_under, test_size=0.3)\n",
    "\n",
    "    param = {\n",
    "        \"objective\": trial.suggest_categorical(\"objective\", [\"Logloss\", \"CrossEntropy\"]),\n",
    "        \"colsample_bylevel\": trial.suggest_float(\"colsample_bylevel\", 0.01, 0.1),\n",
    "        \"depth\": trial.suggest_int(\"depth\", 1, 12),\n",
    "        \"boosting_type\": trial.suggest_categorical(\"boosting_type\", [\"Ordered\", \"Plain\"]),\n",
    "        \"bootstrap_type\": trial.suggest_categorical(\n",
    "            \"bootstrap_type\", [\"Bayesian\", \"Bernoulli\", \"MVS\"]\n",
    "        ),\n",
    "        \"used_ram_limit\": \"3gb\",\n",
    "    }\n",
    "\n",
    "    if param[\"bootstrap_type\"] == \"Bayesian\":\n",
    "        param[\"bagging_temperature\"] = trial.suggest_float(\"bagging_temperature\", 0, 10)\n",
    "    elif param[\"bootstrap_type\"] == \"Bernoulli\":\n",
    "        param[\"subsample\"] = trial.suggest_float(\"subsample\", 0.1, 1)\n",
    "\n",
    "    gbm = cb.CatBoostClassifier(**param)\n",
    "\n",
    "    gbm.fit(train_x, train_y, eval_set=[(valid_x, valid_y)], verbose=0, early_stopping_rounds=100)\n",
    "\n",
    "    preds = gbm.predict(valid_x)\n",
    "    pred_labels = np.rint(preds)\n",
    "    accuracy = sklearn.metrics.roc_auc_score(valid_y, pred_labels)\n",
    "    return accuracy\n"
   ]
  },
  {
   "cell_type": "code",
   "execution_count": 139,
   "metadata": {
    "scrolled": true
   },
   "outputs": [
    {
     "name": "stderr",
     "output_type": "stream",
     "text": [
      "\u001b[32m[I 2021-04-23 12:47:23,392]\u001b[0m A new study created in memory with name: no-name-d1dd3723-09df-47dd-8a6c-16f7fcf97951\u001b[0m\n",
      "\u001b[32m[I 2021-04-23 12:47:26,346]\u001b[0m Trial 0 finished with value: 0.9472553590200649 and parameters: {'objective': 'Logloss', 'colsample_bylevel': 0.02453522197339954, 'depth': 8, 'boosting_type': 'Ordered', 'bootstrap_type': 'Bernoulli', 'subsample': 0.36858775247468556}. Best is trial 0 with value: 0.9472553590200649.\u001b[0m\n",
      "\u001b[32m[I 2021-04-23 12:47:27,032]\u001b[0m Trial 1 finished with value: 0.9321684094661529 and parameters: {'objective': 'Logloss', 'colsample_bylevel': 0.08379515329918522, 'depth': 3, 'boosting_type': 'Plain', 'bootstrap_type': 'Bernoulli', 'subsample': 0.42398749151662707}. Best is trial 0 with value: 0.9472553590200649.\u001b[0m\n",
      "\u001b[32m[I 2021-04-23 12:47:28,062]\u001b[0m Trial 2 finished with value: 0.9255907491201609 and parameters: {'objective': 'CrossEntropy', 'colsample_bylevel': 0.026336102779739745, 'depth': 4, 'boosting_type': 'Plain', 'bootstrap_type': 'Bernoulli', 'subsample': 0.486296307524417}. Best is trial 0 with value: 0.9472553590200649.\u001b[0m\n",
      "\u001b[32m[I 2021-04-23 12:47:47,994]\u001b[0m Trial 3 finished with value: 0.9407194113076466 and parameters: {'objective': 'Logloss', 'colsample_bylevel': 0.07001818785966814, 'depth': 9, 'boosting_type': 'Ordered', 'bootstrap_type': 'Bayesian', 'bagging_temperature': 9.544973681873598}. Best is trial 0 with value: 0.9472553590200649.\u001b[0m\n",
      "\u001b[32m[I 2021-04-23 12:47:49,643]\u001b[0m Trial 4 finished with value: 0.9689885278120574 and parameters: {'objective': 'Logloss', 'colsample_bylevel': 0.03688186991569472, 'depth': 8, 'boosting_type': 'Plain', 'bootstrap_type': 'Bayesian', 'bagging_temperature': 9.178115604982986}. Best is trial 4 with value: 0.9689885278120574.\u001b[0m\n",
      "\u001b[32m[I 2021-04-23 12:47:52,953]\u001b[0m Trial 5 finished with value: 0.9523287671232876 and parameters: {'objective': 'Logloss', 'colsample_bylevel': 0.020001364328183464, 'depth': 3, 'boosting_type': 'Ordered', 'bootstrap_type': 'Bayesian', 'bagging_temperature': 5.470612475650759}. Best is trial 4 with value: 0.9689885278120574.\u001b[0m\n",
      "\u001b[32m[I 2021-04-23 12:48:21,566]\u001b[0m Trial 6 finished with value: 0.9369817578772802 and parameters: {'objective': 'CrossEntropy', 'colsample_bylevel': 0.07702656602067254, 'depth': 11, 'boosting_type': 'Ordered', 'bootstrap_type': 'MVS'}. Best is trial 4 with value: 0.9689885278120574.\u001b[0m\n",
      "\u001b[32m[I 2021-04-23 12:48:23,681]\u001b[0m Trial 7 finished with value: 0.9034690799396683 and parameters: {'objective': 'Logloss', 'colsample_bylevel': 0.03264633712986264, 'depth': 8, 'boosting_type': 'Ordered', 'bootstrap_type': 'MVS'}. Best is trial 4 with value: 0.9689885278120574.\u001b[0m\n",
      "\u001b[32m[I 2021-04-23 12:48:24,563]\u001b[0m Trial 8 finished with value: 0.9502923976608187 and parameters: {'objective': 'Logloss', 'colsample_bylevel': 0.017751483224212203, 'depth': 7, 'boosting_type': 'Plain', 'bootstrap_type': 'MVS'}. Best is trial 4 with value: 0.9689885278120574.\u001b[0m\n",
      "\u001b[32m[I 2021-04-23 12:48:25,903]\u001b[0m Trial 9 finished with value: 0.9326768581003535 and parameters: {'objective': 'Logloss', 'colsample_bylevel': 0.09435910203013678, 'depth': 3, 'boosting_type': 'Plain', 'bootstrap_type': 'Bayesian', 'bagging_temperature': 8.19202670768621}. Best is trial 4 with value: 0.9689885278120574.\u001b[0m\n",
      "\u001b[32m[I 2021-04-23 12:48:28,144]\u001b[0m Trial 10 finished with value: 0.9494485294117647 and parameters: {'objective': 'CrossEntropy', 'colsample_bylevel': 0.04837188780515056, 'depth': 12, 'boosting_type': 'Plain', 'bootstrap_type': 'Bayesian', 'bagging_temperature': 0.22482901596212734}. Best is trial 4 with value: 0.9689885278120574.\u001b[0m\n",
      "\u001b[32m[I 2021-04-23 12:48:30,833]\u001b[0m Trial 11 finished with value: 0.9210526315789473 and parameters: {'objective': 'Logloss', 'colsample_bylevel': 0.0444807674299801, 'depth': 1, 'boosting_type': 'Ordered', 'bootstrap_type': 'Bayesian', 'bagging_temperature': 4.7611556476339825}. Best is trial 4 with value: 0.9689885278120574.\u001b[0m\n",
      "\u001b[32m[I 2021-04-23 12:48:31,698]\u001b[0m Trial 12 finished with value: 0.9184130027850066 and parameters: {'objective': 'Logloss', 'colsample_bylevel': 0.012510546358915818, 'depth': 5, 'boosting_type': 'Plain', 'bootstrap_type': 'Bayesian', 'bagging_temperature': 5.224571502715641}. Best is trial 4 with value: 0.9689885278120574.\u001b[0m\n",
      "\u001b[32m[I 2021-04-23 12:48:34,430]\u001b[0m Trial 13 finished with value: 0.9126147103136556 and parameters: {'objective': 'Logloss', 'colsample_bylevel': 0.060865852270425985, 'depth': 1, 'boosting_type': 'Ordered', 'bootstrap_type': 'Bayesian', 'bagging_temperature': 6.392944778123289}. Best is trial 4 with value: 0.9689885278120574.\u001b[0m\n",
      "\u001b[32m[I 2021-04-23 12:48:38,041]\u001b[0m Trial 14 finished with value: 0.9428160525955348 and parameters: {'objective': 'Logloss', 'colsample_bylevel': 0.03832164470294396, 'depth': 10, 'boosting_type': 'Ordered', 'bootstrap_type': 'Bayesian', 'bagging_temperature': 1.795257333289638}. Best is trial 4 with value: 0.9689885278120574.\u001b[0m\n",
      "\u001b[32m[I 2021-04-23 12:48:38,969]\u001b[0m Trial 15 finished with value: 0.9361502990457928 and parameters: {'objective': 'Logloss', 'colsample_bylevel': 0.013727853565338084, 'depth': 6, 'boosting_type': 'Plain', 'bootstrap_type': 'Bayesian', 'bagging_temperature': 3.055691511631279}. Best is trial 4 with value: 0.9689885278120574.\u001b[0m\n",
      "\u001b[32m[I 2021-04-23 12:48:44,468]\u001b[0m Trial 16 finished with value: 0.9353048641242293 and parameters: {'objective': 'Logloss', 'colsample_bylevel': 0.056917094040819585, 'depth': 6, 'boosting_type': 'Ordered', 'bootstrap_type': 'Bayesian', 'bagging_temperature': 9.97387066381988}. Best is trial 4 with value: 0.9689885278120574.\u001b[0m\n",
      "\u001b[32m[I 2021-04-23 12:48:45,410]\u001b[0m Trial 17 finished with value: 0.925 and parameters: {'objective': 'CrossEntropy', 'colsample_bylevel': 0.0301257951131915, 'depth': 2, 'boosting_type': 'Plain', 'bootstrap_type': 'Bayesian', 'bagging_temperature': 7.6320600735013}. Best is trial 4 with value: 0.9689885278120574.\u001b[0m\n",
      "\u001b[32m[I 2021-04-23 12:48:46,660]\u001b[0m Trial 18 finished with value: 0.9324324324324323 and parameters: {'objective': 'Logloss', 'colsample_bylevel': 0.04067550101128552, 'depth': 5, 'boosting_type': 'Plain', 'bootstrap_type': 'Bayesian', 'bagging_temperature': 8.446445715076027}. Best is trial 4 with value: 0.9689885278120574.\u001b[0m\n",
      "\u001b[32m[I 2021-04-23 12:48:49,401]\u001b[0m Trial 19 finished with value: 0.9512926103866391 and parameters: {'objective': 'Logloss', 'colsample_bylevel': 0.020141506442148845, 'depth': 9, 'boosting_type': 'Ordered', 'bootstrap_type': 'Bayesian', 'bagging_temperature': 3.867351243971348}. Best is trial 4 with value: 0.9689885278120574.\u001b[0m\n",
      "\u001b[32m[I 2021-04-23 12:48:50,216]\u001b[0m Trial 20 finished with value: 0.9370159923017001 and parameters: {'objective': 'CrossEntropy', 'colsample_bylevel': 0.010652763385149342, 'depth': 7, 'boosting_type': 'Plain', 'bootstrap_type': 'MVS'}. Best is trial 4 with value: 0.9689885278120574.\u001b[0m\n",
      "\u001b[32m[I 2021-04-23 12:48:53,000]\u001b[0m Trial 21 finished with value: 0.9170683560574759 and parameters: {'objective': 'Logloss', 'colsample_bylevel': 0.018815476206211438, 'depth': 9, 'boosting_type': 'Ordered', 'bootstrap_type': 'Bayesian', 'bagging_temperature': 3.261672222750374}. Best is trial 4 with value: 0.9689885278120574.\u001b[0m\n",
      "\u001b[32m[I 2021-04-23 12:48:57,632]\u001b[0m Trial 22 finished with value: 0.9382659593927201 and parameters: {'objective': 'Logloss', 'colsample_bylevel': 0.034713967721896485, 'depth': 10, 'boosting_type': 'Ordered', 'bootstrap_type': 'Bayesian', 'bagging_temperature': 4.693928637368926}. Best is trial 4 with value: 0.9689885278120574.\u001b[0m\n",
      "\u001b[32m[I 2021-04-23 12:49:00,488]\u001b[0m Trial 23 finished with value: 0.9395060037437795 and parameters: {'objective': 'Logloss', 'colsample_bylevel': 0.02311781921474572, 'depth': 8, 'boosting_type': 'Ordered', 'bootstrap_type': 'Bayesian', 'bagging_temperature': 2.985225536763025}. Best is trial 4 with value: 0.9689885278120574.\u001b[0m\n",
      "\u001b[32m[I 2021-04-23 12:49:22,683]\u001b[0m Trial 24 finished with value: 0.942516879219805 and parameters: {'objective': 'Logloss', 'colsample_bylevel': 0.0503045280737269, 'depth': 12, 'boosting_type': 'Ordered', 'bootstrap_type': 'Bayesian', 'bagging_temperature': 6.662770142214219}. Best is trial 4 with value: 0.9689885278120574.\u001b[0m\n"
     ]
    },
    {
     "name": "stderr",
     "output_type": "stream",
     "text": [
      "\u001b[32m[I 2021-04-23 12:49:25,503]\u001b[0m Trial 25 finished with value: 0.9354654613523262 and parameters: {'objective': 'Logloss', 'colsample_bylevel': 0.02204863980962963, 'depth': 10, 'boosting_type': 'Ordered', 'bootstrap_type': 'Bernoulli', 'subsample': 0.9965600963996988}. Best is trial 4 with value: 0.9689885278120574.\u001b[0m\n",
      "\u001b[32m[I 2021-04-23 12:49:28,730]\u001b[0m Trial 26 finished with value: 0.9391891891891891 and parameters: {'objective': 'Logloss', 'colsample_bylevel': 0.029647804581640992, 'depth': 7, 'boosting_type': 'Ordered', 'bootstrap_type': 'Bayesian', 'bagging_temperature': 1.495587133001445}. Best is trial 4 with value: 0.9689885278120574.\u001b[0m\n",
      "\u001b[32m[I 2021-04-23 12:49:32,455]\u001b[0m Trial 27 finished with value: 0.9437077007499544 and parameters: {'objective': 'Logloss', 'colsample_bylevel': 0.0415543929499642, 'depth': 5, 'boosting_type': 'Ordered', 'bootstrap_type': 'Bayesian', 'bagging_temperature': 5.700350602061064}. Best is trial 4 with value: 0.9689885278120574.\u001b[0m\n",
      "\u001b[32m[I 2021-04-23 12:49:35,123]\u001b[0m Trial 28 finished with value: 0.9296347031963471 and parameters: {'objective': 'Logloss', 'colsample_bylevel': 0.01600794170104866, 'depth': 9, 'boosting_type': 'Ordered', 'bootstrap_type': 'Bayesian', 'bagging_temperature': 4.106749686554153}. Best is trial 4 with value: 0.9689885278120574.\u001b[0m\n",
      "\u001b[32m[I 2021-04-23 12:49:37,971]\u001b[0m Trial 29 finished with value: 0.9396347031963471 and parameters: {'objective': 'Logloss', 'colsample_bylevel': 0.023804582247629942, 'depth': 8, 'boosting_type': 'Ordered', 'bootstrap_type': 'Bernoulli', 'subsample': 0.9097712575626965}. Best is trial 4 with value: 0.9689885278120574.\u001b[0m\n",
      "\u001b[32m[I 2021-04-23 12:49:38,774]\u001b[0m Trial 30 finished with value: 0.9182648401826484 and parameters: {'objective': 'Logloss', 'colsample_bylevel': 0.010544958695414228, 'depth': 11, 'boosting_type': 'Plain', 'bootstrap_type': 'Bayesian', 'bagging_temperature': 1.8650451763274623}. Best is trial 4 with value: 0.9689885278120574.\u001b[0m\n",
      "\u001b[32m[I 2021-04-23 12:49:39,656]\u001b[0m Trial 31 finished with value: 0.919844713404887 and parameters: {'objective': 'Logloss', 'colsample_bylevel': 0.01827395710424099, 'depth': 7, 'boosting_type': 'Plain', 'bootstrap_type': 'MVS'}. Best is trial 4 with value: 0.9689885278120574.\u001b[0m\n",
      "\u001b[32m[I 2021-04-23 12:49:40,443]\u001b[0m Trial 32 finished with value: 0.9437995209139488 and parameters: {'objective': 'Logloss', 'colsample_bylevel': 0.0349714595985329, 'depth': 6, 'boosting_type': 'Plain', 'bootstrap_type': 'MVS'}. Best is trial 4 with value: 0.9689885278120574.\u001b[0m\n",
      "\u001b[32m[I 2021-04-23 12:49:41,344]\u001b[0m Trial 33 finished with value: 0.9300073099415206 and parameters: {'objective': 'Logloss', 'colsample_bylevel': 0.026906721595606614, 'depth': 9, 'boosting_type': 'Plain', 'bootstrap_type': 'MVS'}. Best is trial 4 with value: 0.9689885278120574.\u001b[0m\n",
      "\u001b[32m[I 2021-04-23 12:49:42,280]\u001b[0m Trial 34 finished with value: 0.9324324324324325 and parameters: {'objective': 'Logloss', 'colsample_bylevel': 0.02108818330617627, 'depth': 4, 'boosting_type': 'Plain', 'bootstrap_type': 'MVS'}. Best is trial 4 with value: 0.9689885278120574.\u001b[0m\n",
      "\u001b[32m[I 2021-04-23 12:49:43,338]\u001b[0m Trial 35 finished with value: 0.9391544117647058 and parameters: {'objective': 'Logloss', 'colsample_bylevel': 0.026983645741802023, 'depth': 7, 'boosting_type': 'Plain', 'bootstrap_type': 'Bernoulli', 'subsample': 0.11149772929295682}. Best is trial 4 with value: 0.9689885278120574.\u001b[0m\n",
      "\u001b[32m[I 2021-04-23 12:49:44,173]\u001b[0m Trial 36 finished with value: 0.9106359649122807 and parameters: {'objective': 'CrossEntropy', 'colsample_bylevel': 0.010032261589513782, 'depth': 8, 'boosting_type': 'Plain', 'bootstrap_type': 'MVS'}. Best is trial 4 with value: 0.9689885278120574.\u001b[0m\n",
      "\u001b[32m[I 2021-04-23 12:49:45,177]\u001b[0m Trial 37 finished with value: 0.9470268293797705 and parameters: {'objective': 'Logloss', 'colsample_bylevel': 0.017344660120441883, 'depth': 8, 'boosting_type': 'Plain', 'bootstrap_type': 'MVS'}. Best is trial 4 with value: 0.9689885278120574.\u001b[0m\n",
      "\u001b[32m[I 2021-04-23 12:49:47,201]\u001b[0m Trial 38 finished with value: 0.935483870967742 and parameters: {'objective': 'Logloss', 'colsample_bylevel': 0.06548500738448516, 'depth': 4, 'boosting_type': 'Ordered', 'bootstrap_type': 'Bernoulli', 'subsample': 0.7376590886543405}. Best is trial 4 with value: 0.9689885278120574.\u001b[0m\n",
      "\u001b[32m[I 2021-04-23 12:49:48,423]\u001b[0m Trial 39 finished with value: 0.9468828499657457 and parameters: {'objective': 'Logloss', 'colsample_bylevel': 0.03518396355321332, 'depth': 9, 'boosting_type': 'Plain', 'bootstrap_type': 'MVS'}. Best is trial 4 with value: 0.9689885278120574.\u001b[0m\n",
      "\u001b[32m[I 2021-04-23 12:49:51,667]\u001b[0m Trial 40 finished with value: 0.9339052848318463 and parameters: {'objective': 'CrossEntropy', 'colsample_bylevel': 0.049086238663027595, 'depth': 3, 'boosting_type': 'Ordered', 'bootstrap_type': 'Bayesian', 'bagging_temperature': 3.881554417655175}. Best is trial 4 with value: 0.9689885278120574.\u001b[0m\n",
      "\u001b[32m[I 2021-04-23 12:49:53,891]\u001b[0m Trial 41 finished with value: 0.9325091575091575 and parameters: {'objective': 'CrossEntropy', 'colsample_bylevel': 0.04743837342146603, 'depth': 12, 'boosting_type': 'Plain', 'bootstrap_type': 'Bayesian', 'bagging_temperature': 0.4129922826507334}. Best is trial 4 with value: 0.9689885278120574.\u001b[0m\n",
      "\u001b[32m[I 2021-04-23 12:49:55,580]\u001b[0m Trial 42 finished with value: 0.9463087248322148 and parameters: {'objective': 'CrossEntropy', 'colsample_bylevel': 0.051705489824884966, 'depth': 11, 'boosting_type': 'Plain', 'bootstrap_type': 'Bayesian', 'bagging_temperature': 0.2004857378240983}. Best is trial 4 with value: 0.9689885278120574.\u001b[0m\n",
      "\u001b[32m[I 2021-04-23 12:49:56,788]\u001b[0m Trial 43 finished with value: 0.9165904518017194 and parameters: {'objective': 'CrossEntropy', 'colsample_bylevel': 0.03046338000340571, 'depth': 6, 'boosting_type': 'Plain', 'bootstrap_type': 'Bayesian', 'bagging_temperature': 8.945444337312038}. Best is trial 4 with value: 0.9689885278120574.\u001b[0m\n",
      "\u001b[32m[I 2021-04-23 12:49:59,878]\u001b[0m Trial 44 finished with value: 0.9580873941889728 and parameters: {'objective': 'CrossEntropy', 'colsample_bylevel': 0.054818688859478826, 'depth': 10, 'boosting_type': 'Plain', 'bootstrap_type': 'Bayesian', 'bagging_temperature': 7.0836999554517055}. Best is trial 4 with value: 0.9689885278120574.\u001b[0m\n",
      "\u001b[32m[I 2021-04-23 12:50:03,367]\u001b[0m Trial 45 finished with value: 0.9246080716668953 and parameters: {'objective': 'CrossEntropy', 'colsample_bylevel': 0.08271549262331256, 'depth': 10, 'boosting_type': 'Plain', 'bootstrap_type': 'Bayesian', 'bagging_temperature': 7.209348523186804}. Best is trial 4 with value: 0.9689885278120574.\u001b[0m\n",
      "\u001b[32m[I 2021-04-23 12:50:04,331]\u001b[0m Trial 46 finished with value: 0.9347906546379828 and parameters: {'objective': 'CrossEntropy', 'colsample_bylevel': 0.058590846695942035, 'depth': 8, 'boosting_type': 'Plain', 'bootstrap_type': 'Bayesian', 'bagging_temperature': 6.01836691357582}. Best is trial 4 with value: 0.9689885278120574.\u001b[0m\n",
      "\u001b[32m[I 2021-04-23 12:50:12,824]\u001b[0m Trial 47 finished with value: 0.9425223214285714 and parameters: {'objective': 'Logloss', 'colsample_bylevel': 0.09292156109417304, 'depth': 11, 'boosting_type': 'Plain', 'bootstrap_type': 'Bayesian', 'bagging_temperature': 7.135848181702623}. Best is trial 4 with value: 0.9689885278120574.\u001b[0m\n",
      "\u001b[32m[I 2021-04-23 12:50:37,345]\u001b[0m Trial 48 finished with value: 0.9530336257309943 and parameters: {'objective': 'Logloss', 'colsample_bylevel': 0.0658529341709593, 'depth': 10, 'boosting_type': 'Ordered', 'bootstrap_type': 'Bayesian', 'bagging_temperature': 9.61983665069744}. Best is trial 4 with value: 0.9689885278120574.\u001b[0m\n"
     ]
    },
    {
     "ename": "KeyboardInterrupt",
     "evalue": "",
     "output_type": "error",
     "traceback": [
      "\u001b[1;31m---------------------------------------------------------------------------\u001b[0m",
      "\u001b[1;31mKeyboardInterrupt\u001b[0m                         Traceback (most recent call last)",
      "\u001b[1;32m<ipython-input-139-1fb3b36f752a>\u001b[0m in \u001b[0;36m<module>\u001b[1;34m\u001b[0m\n\u001b[0;32m      1\u001b[0m \u001b[0mlgb_study\u001b[0m \u001b[1;33m=\u001b[0m \u001b[0moptuna\u001b[0m\u001b[1;33m.\u001b[0m\u001b[0mcreate_study\u001b[0m\u001b[1;33m(\u001b[0m\u001b[0mdirection\u001b[0m\u001b[1;33m=\u001b[0m\u001b[1;34m\"maximize\"\u001b[0m\u001b[1;33m)\u001b[0m\u001b[1;33m\u001b[0m\u001b[1;33m\u001b[0m\u001b[0m\n\u001b[1;32m----> 2\u001b[1;33m \u001b[0mlgb_study\u001b[0m\u001b[1;33m.\u001b[0m\u001b[0moptimize\u001b[0m\u001b[1;33m(\u001b[0m\u001b[0mobjective\u001b[0m\u001b[1;33m,\u001b[0m \u001b[0mn_trials\u001b[0m\u001b[1;33m=\u001b[0m\u001b[1;36m100\u001b[0m\u001b[1;33m,\u001b[0m \u001b[0mtimeout\u001b[0m\u001b[1;33m=\u001b[0m\u001b[1;36m600\u001b[0m\u001b[1;33m)\u001b[0m\u001b[1;33m\u001b[0m\u001b[1;33m\u001b[0m\u001b[0m\n\u001b[0m\u001b[0;32m      3\u001b[0m \u001b[1;33m\u001b[0m\u001b[0m\n\u001b[0;32m      4\u001b[0m \u001b[0mprint\u001b[0m\u001b[1;33m(\u001b[0m\u001b[1;34m\"Number of finished trials: {}\"\u001b[0m\u001b[1;33m.\u001b[0m\u001b[0mformat\u001b[0m\u001b[1;33m(\u001b[0m\u001b[0mlen\u001b[0m\u001b[1;33m(\u001b[0m\u001b[0mstudy\u001b[0m\u001b[1;33m.\u001b[0m\u001b[0mtrials\u001b[0m\u001b[1;33m)\u001b[0m\u001b[1;33m)\u001b[0m\u001b[1;33m)\u001b[0m\u001b[1;33m\u001b[0m\u001b[1;33m\u001b[0m\u001b[0m\n\u001b[0;32m      5\u001b[0m \u001b[1;33m\u001b[0m\u001b[0m\n",
      "\u001b[1;32m~\\anaconda3\\lib\\site-packages\\optuna\\study.py\u001b[0m in \u001b[0;36moptimize\u001b[1;34m(self, func, n_trials, timeout, n_jobs, catch, callbacks, gc_after_trial, show_progress_bar)\u001b[0m\n\u001b[0;32m    398\u001b[0m             )\n\u001b[0;32m    399\u001b[0m \u001b[1;33m\u001b[0m\u001b[0m\n\u001b[1;32m--> 400\u001b[1;33m         _optimize(\n\u001b[0m\u001b[0;32m    401\u001b[0m             \u001b[0mstudy\u001b[0m\u001b[1;33m=\u001b[0m\u001b[0mself\u001b[0m\u001b[1;33m,\u001b[0m\u001b[1;33m\u001b[0m\u001b[1;33m\u001b[0m\u001b[0m\n\u001b[0;32m    402\u001b[0m             \u001b[0mfunc\u001b[0m\u001b[1;33m=\u001b[0m\u001b[0mfunc\u001b[0m\u001b[1;33m,\u001b[0m\u001b[1;33m\u001b[0m\u001b[1;33m\u001b[0m\u001b[0m\n",
      "\u001b[1;32m~\\anaconda3\\lib\\site-packages\\optuna\\_optimize.py\u001b[0m in \u001b[0;36m_optimize\u001b[1;34m(study, func, n_trials, timeout, n_jobs, catch, callbacks, gc_after_trial, show_progress_bar)\u001b[0m\n\u001b[0;32m     64\u001b[0m     \u001b[1;32mtry\u001b[0m\u001b[1;33m:\u001b[0m\u001b[1;33m\u001b[0m\u001b[1;33m\u001b[0m\u001b[0m\n\u001b[0;32m     65\u001b[0m         \u001b[1;32mif\u001b[0m \u001b[0mn_jobs\u001b[0m \u001b[1;33m==\u001b[0m \u001b[1;36m1\u001b[0m\u001b[1;33m:\u001b[0m\u001b[1;33m\u001b[0m\u001b[1;33m\u001b[0m\u001b[0m\n\u001b[1;32m---> 66\u001b[1;33m             _optimize_sequential(\n\u001b[0m\u001b[0;32m     67\u001b[0m                 \u001b[0mstudy\u001b[0m\u001b[1;33m,\u001b[0m\u001b[1;33m\u001b[0m\u001b[1;33m\u001b[0m\u001b[0m\n\u001b[0;32m     68\u001b[0m                 \u001b[0mfunc\u001b[0m\u001b[1;33m,\u001b[0m\u001b[1;33m\u001b[0m\u001b[1;33m\u001b[0m\u001b[0m\n",
      "\u001b[1;32m~\\anaconda3\\lib\\site-packages\\optuna\\_optimize.py\u001b[0m in \u001b[0;36m_optimize_sequential\u001b[1;34m(study, func, n_trials, timeout, catch, callbacks, gc_after_trial, reseed_sampler_rng, time_start, progress_bar)\u001b[0m\n\u001b[0;32m    161\u001b[0m \u001b[1;33m\u001b[0m\u001b[0m\n\u001b[0;32m    162\u001b[0m         \u001b[1;32mtry\u001b[0m\u001b[1;33m:\u001b[0m\u001b[1;33m\u001b[0m\u001b[1;33m\u001b[0m\u001b[0m\n\u001b[1;32m--> 163\u001b[1;33m             \u001b[0mtrial\u001b[0m \u001b[1;33m=\u001b[0m \u001b[0m_run_trial\u001b[0m\u001b[1;33m(\u001b[0m\u001b[0mstudy\u001b[0m\u001b[1;33m,\u001b[0m \u001b[0mfunc\u001b[0m\u001b[1;33m,\u001b[0m \u001b[0mcatch\u001b[0m\u001b[1;33m)\u001b[0m\u001b[1;33m\u001b[0m\u001b[1;33m\u001b[0m\u001b[0m\n\u001b[0m\u001b[0;32m    164\u001b[0m         \u001b[1;32mexcept\u001b[0m \u001b[0mException\u001b[0m\u001b[1;33m:\u001b[0m\u001b[1;33m\u001b[0m\u001b[1;33m\u001b[0m\u001b[0m\n\u001b[0;32m    165\u001b[0m             \u001b[1;32mraise\u001b[0m\u001b[1;33m\u001b[0m\u001b[1;33m\u001b[0m\u001b[0m\n",
      "\u001b[1;32m~\\anaconda3\\lib\\site-packages\\optuna\\_optimize.py\u001b[0m in \u001b[0;36m_run_trial\u001b[1;34m(study, func, catch)\u001b[0m\n\u001b[0;32m    215\u001b[0m \u001b[1;33m\u001b[0m\u001b[0m\n\u001b[0;32m    216\u001b[0m     \u001b[1;32mtry\u001b[0m\u001b[1;33m:\u001b[0m\u001b[1;33m\u001b[0m\u001b[1;33m\u001b[0m\u001b[0m\n\u001b[1;32m--> 217\u001b[1;33m         \u001b[0mvalue_or_values\u001b[0m \u001b[1;33m=\u001b[0m \u001b[0mfunc\u001b[0m\u001b[1;33m(\u001b[0m\u001b[0mtrial\u001b[0m\u001b[1;33m)\u001b[0m\u001b[1;33m\u001b[0m\u001b[1;33m\u001b[0m\u001b[0m\n\u001b[0m\u001b[0;32m    218\u001b[0m     \u001b[1;32mexcept\u001b[0m \u001b[0mexceptions\u001b[0m\u001b[1;33m.\u001b[0m\u001b[0mTrialPruned\u001b[0m \u001b[1;32mas\u001b[0m \u001b[0me\u001b[0m\u001b[1;33m:\u001b[0m\u001b[1;33m\u001b[0m\u001b[1;33m\u001b[0m\u001b[0m\n\u001b[0;32m    219\u001b[0m         \u001b[1;31m# TODO(mamu): Handle multi-objective cases.\u001b[0m\u001b[1;33m\u001b[0m\u001b[1;33m\u001b[0m\u001b[1;33m\u001b[0m\u001b[0m\n",
      "\u001b[1;32m<ipython-input-138-ae3599fa49c4>\u001b[0m in \u001b[0;36mobjective\u001b[1;34m(trial)\u001b[0m\n\u001b[0;32m     21\u001b[0m     \u001b[0mgbm\u001b[0m \u001b[1;33m=\u001b[0m \u001b[0mcb\u001b[0m\u001b[1;33m.\u001b[0m\u001b[0mCatBoostClassifier\u001b[0m\u001b[1;33m(\u001b[0m\u001b[1;33m**\u001b[0m\u001b[0mparam\u001b[0m\u001b[1;33m)\u001b[0m\u001b[1;33m\u001b[0m\u001b[1;33m\u001b[0m\u001b[0m\n\u001b[0;32m     22\u001b[0m \u001b[1;33m\u001b[0m\u001b[0m\n\u001b[1;32m---> 23\u001b[1;33m     \u001b[0mgbm\u001b[0m\u001b[1;33m.\u001b[0m\u001b[0mfit\u001b[0m\u001b[1;33m(\u001b[0m\u001b[0mtrain_x\u001b[0m\u001b[1;33m,\u001b[0m \u001b[0mtrain_y\u001b[0m\u001b[1;33m,\u001b[0m \u001b[0meval_set\u001b[0m\u001b[1;33m=\u001b[0m\u001b[1;33m[\u001b[0m\u001b[1;33m(\u001b[0m\u001b[0mvalid_x\u001b[0m\u001b[1;33m,\u001b[0m \u001b[0mvalid_y\u001b[0m\u001b[1;33m)\u001b[0m\u001b[1;33m]\u001b[0m\u001b[1;33m,\u001b[0m \u001b[0mverbose\u001b[0m\u001b[1;33m=\u001b[0m\u001b[1;36m0\u001b[0m\u001b[1;33m,\u001b[0m \u001b[0mearly_stopping_rounds\u001b[0m\u001b[1;33m=\u001b[0m\u001b[1;36m100\u001b[0m\u001b[1;33m)\u001b[0m\u001b[1;33m\u001b[0m\u001b[1;33m\u001b[0m\u001b[0m\n\u001b[0m\u001b[0;32m     24\u001b[0m \u001b[1;33m\u001b[0m\u001b[0m\n\u001b[0;32m     25\u001b[0m     \u001b[0mpreds\u001b[0m \u001b[1;33m=\u001b[0m \u001b[0mgbm\u001b[0m\u001b[1;33m.\u001b[0m\u001b[0mpredict\u001b[0m\u001b[1;33m(\u001b[0m\u001b[0mvalid_x\u001b[0m\u001b[1;33m)\u001b[0m\u001b[1;33m\u001b[0m\u001b[1;33m\u001b[0m\u001b[0m\n",
      "\u001b[1;32m~\\anaconda3\\lib\\site-packages\\catboost\\core.py\u001b[0m in \u001b[0;36mfit\u001b[1;34m(self, X, y, cat_features, text_features, embedding_features, sample_weight, baseline, use_best_model, eval_set, verbose, logging_level, plot, column_description, verbose_eval, metric_period, silent, early_stopping_rounds, save_snapshot, snapshot_file, snapshot_interval, init_model)\u001b[0m\n\u001b[0;32m   4537\u001b[0m             \u001b[0mself\u001b[0m\u001b[1;33m.\u001b[0m\u001b[0m_check_is_classification_objective\u001b[0m\u001b[1;33m(\u001b[0m\u001b[0mparams\u001b[0m\u001b[1;33m[\u001b[0m\u001b[1;34m'loss_function'\u001b[0m\u001b[1;33m]\u001b[0m\u001b[1;33m)\u001b[0m\u001b[1;33m\u001b[0m\u001b[1;33m\u001b[0m\u001b[0m\n\u001b[0;32m   4538\u001b[0m \u001b[1;33m\u001b[0m\u001b[0m\n\u001b[1;32m-> 4539\u001b[1;33m         self._fit(X, y, cat_features, text_features, embedding_features, None, sample_weight, None, None, None, None, baseline, use_best_model,\n\u001b[0m\u001b[0;32m   4540\u001b[0m                   \u001b[0meval_set\u001b[0m\u001b[1;33m,\u001b[0m \u001b[0mverbose\u001b[0m\u001b[1;33m,\u001b[0m \u001b[0mlogging_level\u001b[0m\u001b[1;33m,\u001b[0m \u001b[0mplot\u001b[0m\u001b[1;33m,\u001b[0m \u001b[0mcolumn_description\u001b[0m\u001b[1;33m,\u001b[0m \u001b[0mverbose_eval\u001b[0m\u001b[1;33m,\u001b[0m \u001b[0mmetric_period\u001b[0m\u001b[1;33m,\u001b[0m\u001b[1;33m\u001b[0m\u001b[1;33m\u001b[0m\u001b[0m\n\u001b[0;32m   4541\u001b[0m                   silent, early_stopping_rounds, save_snapshot, snapshot_file, snapshot_interval, init_model)\n",
      "\u001b[1;32m~\\anaconda3\\lib\\site-packages\\catboost\\core.py\u001b[0m in \u001b[0;36m_fit\u001b[1;34m(self, X, y, cat_features, text_features, embedding_features, pairs, sample_weight, group_id, group_weight, subgroup_id, pairs_weight, baseline, use_best_model, eval_set, verbose, logging_level, plot, column_description, verbose_eval, metric_period, silent, early_stopping_rounds, save_snapshot, snapshot_file, snapshot_interval, init_model)\u001b[0m\n\u001b[0;32m   1916\u001b[0m \u001b[1;33m\u001b[0m\u001b[0m\n\u001b[0;32m   1917\u001b[0m         \u001b[1;32mwith\u001b[0m \u001b[0mlog_fixup\u001b[0m\u001b[1;33m(\u001b[0m\u001b[1;33m)\u001b[0m\u001b[1;33m,\u001b[0m \u001b[0mplot_wrapper\u001b[0m\u001b[1;33m(\u001b[0m\u001b[0mplot\u001b[0m\u001b[1;33m,\u001b[0m \u001b[1;33m[\u001b[0m\u001b[0m_get_train_dir\u001b[0m\u001b[1;33m(\u001b[0m\u001b[0mself\u001b[0m\u001b[1;33m.\u001b[0m\u001b[0mget_params\u001b[0m\u001b[1;33m(\u001b[0m\u001b[1;33m)\u001b[0m\u001b[1;33m)\u001b[0m\u001b[1;33m]\u001b[0m\u001b[1;33m)\u001b[0m\u001b[1;33m:\u001b[0m\u001b[1;33m\u001b[0m\u001b[1;33m\u001b[0m\u001b[0m\n\u001b[1;32m-> 1918\u001b[1;33m             self._train(\n\u001b[0m\u001b[0;32m   1919\u001b[0m                 \u001b[0mtrain_pool\u001b[0m\u001b[1;33m,\u001b[0m\u001b[1;33m\u001b[0m\u001b[1;33m\u001b[0m\u001b[0m\n\u001b[0;32m   1920\u001b[0m                 \u001b[0mtrain_params\u001b[0m\u001b[1;33m[\u001b[0m\u001b[1;34m\"eval_sets\"\u001b[0m\u001b[1;33m]\u001b[0m\u001b[1;33m,\u001b[0m\u001b[1;33m\u001b[0m\u001b[1;33m\u001b[0m\u001b[0m\n",
      "\u001b[1;32m~\\anaconda3\\lib\\site-packages\\catboost\\core.py\u001b[0m in \u001b[0;36m_train\u001b[1;34m(self, train_pool, test_pool, params, allow_clear_pool, init_model)\u001b[0m\n\u001b[0;32m   1364\u001b[0m \u001b[1;33m\u001b[0m\u001b[0m\n\u001b[0;32m   1365\u001b[0m     \u001b[1;32mdef\u001b[0m \u001b[0m_train\u001b[0m\u001b[1;33m(\u001b[0m\u001b[0mself\u001b[0m\u001b[1;33m,\u001b[0m \u001b[0mtrain_pool\u001b[0m\u001b[1;33m,\u001b[0m \u001b[0mtest_pool\u001b[0m\u001b[1;33m,\u001b[0m \u001b[0mparams\u001b[0m\u001b[1;33m,\u001b[0m \u001b[0mallow_clear_pool\u001b[0m\u001b[1;33m,\u001b[0m \u001b[0minit_model\u001b[0m\u001b[1;33m)\u001b[0m\u001b[1;33m:\u001b[0m\u001b[1;33m\u001b[0m\u001b[1;33m\u001b[0m\u001b[0m\n\u001b[1;32m-> 1366\u001b[1;33m         \u001b[0mself\u001b[0m\u001b[1;33m.\u001b[0m\u001b[0m_object\u001b[0m\u001b[1;33m.\u001b[0m\u001b[0m_train\u001b[0m\u001b[1;33m(\u001b[0m\u001b[0mtrain_pool\u001b[0m\u001b[1;33m,\u001b[0m \u001b[0mtest_pool\u001b[0m\u001b[1;33m,\u001b[0m \u001b[0mparams\u001b[0m\u001b[1;33m,\u001b[0m \u001b[0mallow_clear_pool\u001b[0m\u001b[1;33m,\u001b[0m \u001b[0minit_model\u001b[0m\u001b[1;33m.\u001b[0m\u001b[0m_object\u001b[0m \u001b[1;32mif\u001b[0m \u001b[0minit_model\u001b[0m \u001b[1;32melse\u001b[0m \u001b[1;32mNone\u001b[0m\u001b[1;33m)\u001b[0m\u001b[1;33m\u001b[0m\u001b[1;33m\u001b[0m\u001b[0m\n\u001b[0m\u001b[0;32m   1367\u001b[0m         \u001b[0mself\u001b[0m\u001b[1;33m.\u001b[0m\u001b[0m_set_trained_model_attributes\u001b[0m\u001b[1;33m(\u001b[0m\u001b[1;33m)\u001b[0m\u001b[1;33m\u001b[0m\u001b[1;33m\u001b[0m\u001b[0m\n\u001b[0;32m   1368\u001b[0m \u001b[1;33m\u001b[0m\u001b[0m\n",
      "\u001b[1;32m_catboost.pyx\u001b[0m in \u001b[0;36m_catboost._CatBoost._train\u001b[1;34m()\u001b[0m\n",
      "\u001b[1;32m_catboost.pyx\u001b[0m in \u001b[0;36m_catboost._CatBoost._train\u001b[1;34m()\u001b[0m\n",
      "\u001b[1;31mKeyboardInterrupt\u001b[0m: "
     ]
    }
   ],
   "source": [
    "cat_study = optuna.create_study(direction=\"maximize\")\n",
    "cat_study.optimize(objective, n_trials=100, timeout=600)\n",
    "\n",
    "print(\"Number of finished trials: {}\".format(len(study.trials)))\n",
    "\n",
    "print(\"Best trial:\")\n",
    "trial = cat_study.best_trial\n",
    "\n",
    "print(\"  Value: {}\".format(trial.value))\n",
    "\n",
    "print(\"  Params: \")\n",
    "for key, value in trial.params.items():\n",
    "    print(\"    {}: {}\".format(key, value))"
   ]
  },
  {
   "cell_type": "code",
   "execution_count": null,
   "metadata": {},
   "outputs": [],
   "source": []
  },
  {
   "cell_type": "code",
   "execution_count": null,
   "metadata": {},
   "outputs": [],
   "source": []
  },
  {
   "cell_type": "code",
   "execution_count": 144,
   "metadata": {},
   "outputs": [],
   "source": [
    "def objective(trial):\n",
    "#     data, target = sklearn.datasets.load_breast_cancer(return_X_y=True)\n",
    "    train_x, valid_x, train_y, valid_y = train_test_split(X_under, y_under, test_size=0.25)\n",
    "    dtrain = lgb.Dataset(train_x, label=train_y)\n",
    "\n",
    "    param = {\n",
    "        \"objective\": \"binary\",\n",
    "        \"metric\": \"binary_logloss\",\n",
    "        \"verbosity\": -1,\n",
    "        \"boosting_type\": \"gbdt\",\n",
    "        \"lambda_l1\": trial.suggest_float(\"lambda_l1\", 1e-8, 10.0, log=True),\n",
    "        \"lambda_l2\": trial.suggest_float(\"lambda_l2\", 1e-8, 10.0, log=True),\n",
    "        \"num_leaves\": trial.suggest_int(\"num_leaves\", 2, 256),\n",
    "        \"feature_fraction\": trial.suggest_float(\"feature_fraction\", 0.4, 1.0),\n",
    "        \"bagging_fraction\": trial.suggest_float(\"bagging_fraction\", 0.4, 1.0),\n",
    "        \"bagging_freq\": trial.suggest_int(\"bagging_freq\", 1, 7),\n",
    "        \"min_child_samples\": trial.suggest_int(\"min_child_samples\", 5, 100),\n",
    "    }\n",
    "\n",
    "    gbm = lgb.train(param, dtrain)\n",
    "    preds = gbm.predict(valid_x)\n",
    "    pred_labels = np.rint(preds)\n",
    "    accuracy = sklearn.metrics.f1_score(valid_y, pred_labels)\n",
    "    return accuracy"
   ]
  },
  {
   "cell_type": "code",
   "execution_count": 145,
   "metadata": {
    "scrolled": true
   },
   "outputs": [
    {
     "name": "stderr",
     "output_type": "stream",
     "text": [
      "\u001b[32m[I 2021-04-23 13:19:45,986]\u001b[0m A new study created in memory with name: no-name-a3bb4a58-4c3b-47c1-b2f9-4b00d9542cb0\u001b[0m\n",
      "\u001b[32m[I 2021-04-23 13:19:46,098]\u001b[0m Trial 0 finished with value: 0.9135802469135802 and parameters: {'lambda_l1': 0.5905610312807645, 'lambda_l2': 0.00012791182339462673, 'num_leaves': 61, 'feature_fraction': 0.5999811706961532, 'bagging_fraction': 0.8415778404770786, 'bagging_freq': 2, 'min_child_samples': 43}. Best is trial 0 with value: 0.9135802469135802.\u001b[0m\n",
      "\u001b[32m[I 2021-04-23 13:19:46,186]\u001b[0m Trial 1 finished with value: 0.9551020408163265 and parameters: {'lambda_l1': 0.1658113071780749, 'lambda_l2': 3.7005711913268944, 'num_leaves': 166, 'feature_fraction': 0.8027295703051431, 'bagging_fraction': 0.8143059659230387, 'bagging_freq': 2, 'min_child_samples': 82}. Best is trial 1 with value: 0.9551020408163265.\u001b[0m\n",
      "\u001b[32m[I 2021-04-23 13:19:46,269]\u001b[0m Trial 2 finished with value: 0.9249999999999999 and parameters: {'lambda_l1': 0.03635516986410113, 'lambda_l2': 0.006671235487481823, 'num_leaves': 225, 'feature_fraction': 0.7271839156931579, 'bagging_fraction': 0.6384818869736928, 'bagging_freq': 5, 'min_child_samples': 77}. Best is trial 1 with value: 0.9551020408163265.\u001b[0m\n",
      "\u001b[32m[I 2021-04-23 13:19:46,414]\u001b[0m Trial 3 finished with value: 0.9288702928870293 and parameters: {'lambda_l1': 3.149261779216208e-08, 'lambda_l2': 1.536588459129421e-08, 'num_leaves': 121, 'feature_fraction': 0.9765747296172127, 'bagging_fraction': 0.9332076461207346, 'bagging_freq': 1, 'min_child_samples': 48}. Best is trial 1 with value: 0.9551020408163265.\u001b[0m\n",
      "\u001b[32m[I 2021-04-23 13:19:46,486]\u001b[0m Trial 4 finished with value: 0.91324200913242 and parameters: {'lambda_l1': 7.504788143454064, 'lambda_l2': 1.1074353594875024e-07, 'num_leaves': 137, 'feature_fraction': 0.9380549627298251, 'bagging_fraction': 0.8069382906538514, 'bagging_freq': 5, 'min_child_samples': 48}. Best is trial 1 with value: 0.9551020408163265.\u001b[0m\n",
      "\u001b[32m[I 2021-04-23 13:19:46,634]\u001b[0m Trial 5 finished with value: 0.9264705882352942 and parameters: {'lambda_l1': 0.003650172394298407, 'lambda_l2': 0.021332497734212495, 'num_leaves': 230, 'feature_fraction': 0.7009006781434696, 'bagging_fraction': 0.8302815435295352, 'bagging_freq': 2, 'min_child_samples': 37}. Best is trial 1 with value: 0.9551020408163265.\u001b[0m\n",
      "\u001b[32m[I 2021-04-23 13:19:46,732]\u001b[0m Trial 6 finished with value: 0.9473684210526315 and parameters: {'lambda_l1': 0.14852591199501083, 'lambda_l2': 0.01715643255977894, 'num_leaves': 151, 'feature_fraction': 0.4305408440273552, 'bagging_fraction': 0.9635930171551954, 'bagging_freq': 4, 'min_child_samples': 66}. Best is trial 1 with value: 0.9551020408163265.\u001b[0m\n",
      "\u001b[32m[I 2021-04-23 13:19:46,828]\u001b[0m Trial 7 finished with value: 0.9196428571428572 and parameters: {'lambda_l1': 1.4245949797910294e-06, 'lambda_l2': 0.4916124362100156, 'num_leaves': 124, 'feature_fraction': 0.9767223607035269, 'bagging_fraction': 0.7416886604450108, 'bagging_freq': 4, 'min_child_samples': 77}. Best is trial 1 with value: 0.9551020408163265.\u001b[0m\n",
      "\u001b[32m[I 2021-04-23 13:19:46,886]\u001b[0m Trial 8 finished with value: 0.9421487603305786 and parameters: {'lambda_l1': 7.433578681167335e-08, 'lambda_l2': 0.20576660537774047, 'num_leaves': 20, 'feature_fraction': 0.9467162927702912, 'bagging_fraction': 0.5791464958097596, 'bagging_freq': 7, 'min_child_samples': 93}. Best is trial 1 with value: 0.9551020408163265.\u001b[0m\n",
      "\u001b[32m[I 2021-04-23 13:19:46,968]\u001b[0m Trial 9 finished with value: 0.9333333333333333 and parameters: {'lambda_l1': 9.21366304990752, 'lambda_l2': 0.27995274049939484, 'num_leaves': 242, 'feature_fraction': 0.423332971478656, 'bagging_fraction': 0.9914706053507175, 'bagging_freq': 1, 'min_child_samples': 25}. Best is trial 1 with value: 0.9551020408163265.\u001b[0m\n",
      "\u001b[32m[I 2021-04-23 13:19:47,083]\u001b[0m Trial 10 finished with value: 0.9205020920502092 and parameters: {'lambda_l1': 1.9055682476344274e-05, 'lambda_l2': 8.696833555977785, 'num_leaves': 186, 'feature_fraction': 0.8417492366714356, 'bagging_fraction': 0.46995617080751395, 'bagging_freq': 2, 'min_child_samples': 97}. Best is trial 1 with value: 0.9551020408163265.\u001b[0m\n",
      "\u001b[32m[I 2021-04-23 13:19:47,233]\u001b[0m Trial 11 finished with value: 0.9272727272727272 and parameters: {'lambda_l1': 0.07233147020540268, 'lambda_l2': 6.969789577889304e-05, 'num_leaves': 172, 'feature_fraction': 0.4446387393980807, 'bagging_fraction': 0.9965475794853429, 'bagging_freq': 4, 'min_child_samples': 72}. Best is trial 1 with value: 0.9551020408163265.\u001b[0m\n",
      "\u001b[32m[I 2021-04-23 13:19:47,377]\u001b[0m Trial 12 finished with value: 0.9128630705394191 and parameters: {'lambda_l1': 0.0011678446154304459, 'lambda_l2': 4.614400544493065, 'num_leaves': 83, 'feature_fraction': 0.5816872872598984, 'bagging_fraction': 0.90576347517982, 'bagging_freq': 3, 'min_child_samples': 62}. Best is trial 1 with value: 0.9551020408163265.\u001b[0m\n",
      "\u001b[32m[I 2021-04-23 13:19:47,508]\u001b[0m Trial 13 finished with value: 0.9523809523809523 and parameters: {'lambda_l1': 0.32129658749773066, 'lambda_l2': 0.0023007287056604066, 'num_leaves': 178, 'feature_fraction': 0.8082418296769024, 'bagging_fraction': 0.725526167821376, 'bagging_freq': 6, 'min_child_samples': 88}. Best is trial 1 with value: 0.9551020408163265.\u001b[0m\n",
      "\u001b[32m[I 2021-04-23 13:19:47,631]\u001b[0m Trial 14 finished with value: 0.9066666666666667 and parameters: {'lambda_l1': 2.573257829365007, 'lambda_l2': 4.7321878184077446e-06, 'num_leaves': 200, 'feature_fraction': 0.8189840149211458, 'bagging_fraction': 0.7015326231341148, 'bagging_freq': 7, 'min_child_samples': 90}. Best is trial 1 with value: 0.9551020408163265.\u001b[0m\n",
      "\u001b[32m[I 2021-04-23 13:19:47,732]\u001b[0m Trial 15 finished with value: 0.9256198347107438 and parameters: {'lambda_l1': 0.006995228225260652, 'lambda_l2': 3.93653577846754e-06, 'num_leaves': 92, 'feature_fraction': 0.8393515525979216, 'bagging_fraction': 0.569828445005118, 'bagging_freq': 6, 'min_child_samples': 87}. Best is trial 1 with value: 0.9551020408163265.\u001b[0m\n",
      "\u001b[32m[I 2021-04-23 13:19:47,865]\u001b[0m Trial 16 finished with value: 0.9142857142857143 and parameters: {'lambda_l1': 6.0176364624000556e-05, 'lambda_l2': 0.0015924100388994846, 'num_leaves': 203, 'feature_fraction': 0.7896327422636188, 'bagging_fraction': 0.7581673457528993, 'bagging_freq': 6, 'min_child_samples': 83}. Best is trial 1 with value: 0.9551020408163265.\u001b[0m\n",
      "\u001b[32m[I 2021-04-23 13:19:47,994]\u001b[0m Trial 17 finished with value: 0.9478260869565216 and parameters: {'lambda_l1': 1.2231713125213364, 'lambda_l2': 9.89086847513361e-06, 'num_leaves': 163, 'feature_fraction': 0.613049013164008, 'bagging_fraction': 0.6331945015644825, 'bagging_freq': 3, 'min_child_samples': 100}. Best is trial 1 with value: 0.9551020408163265.\u001b[0m\n",
      "\u001b[32m[I 2021-04-23 13:19:48,276]\u001b[0m Trial 18 finished with value: 0.946058091286307 and parameters: {'lambda_l1': 0.0003976435092399116, 'lambda_l2': 2.1977353392435615, 'num_leaves': 207, 'feature_fraction': 0.8943966833814457, 'bagging_fraction': 0.8938824919781216, 'bagging_freq': 6, 'min_child_samples': 5}. Best is trial 1 with value: 0.9551020408163265.\u001b[0m\n",
      "\u001b[32m[I 2021-04-23 13:19:48,413]\u001b[0m Trial 19 finished with value: 0.9411764705882353 and parameters: {'lambda_l1': 0.008216752166482683, 'lambda_l2': 0.0014789568241211682, 'num_leaves': 105, 'feature_fraction': 0.7510328392387784, 'bagging_fraction': 0.7617178490469907, 'bagging_freq': 3, 'min_child_samples': 62}. Best is trial 1 with value: 0.9551020408163265.\u001b[0m\n",
      "\u001b[32m[I 2021-04-23 13:19:48,501]\u001b[0m Trial 20 finished with value: 0.9159663865546218 and parameters: {'lambda_l1': 0.31620336521854603, 'lambda_l2': 3.488219195418907e-07, 'num_leaves': 171, 'feature_fraction': 0.6644795154059869, 'bagging_fraction': 0.4129529315243839, 'bagging_freq': 5, 'min_child_samples': 99}. Best is trial 1 with value: 0.9551020408163265.\u001b[0m\n",
      "\u001b[32m[I 2021-04-23 13:19:48,619]\u001b[0m Trial 21 finished with value: 0.9302325581395348 and parameters: {'lambda_l1': 1.0297121575804409, 'lambda_l2': 2.0658172525621472e-05, 'num_leaves': 157, 'feature_fraction': 0.628123726156212, 'bagging_fraction': 0.6548556470425763, 'bagging_freq': 3, 'min_child_samples': 99}. Best is trial 1 with value: 0.9551020408163265.\u001b[0m\n"
     ]
    },
    {
     "name": "stderr",
     "output_type": "stream",
     "text": [
      "\u001b[32m[I 2021-04-23 13:19:48,716]\u001b[0m Trial 22 finished with value: 0.923728813559322 and parameters: {'lambda_l1': 7.500822499200719, 'lambda_l2': 1.832545339697555e-06, 'num_leaves': 161, 'feature_fraction': 0.5125170826974733, 'bagging_fraction': 0.5869418313099922, 'bagging_freq': 2, 'min_child_samples': 84}. Best is trial 1 with value: 0.9551020408163265.\u001b[0m\n",
      "\u001b[32m[I 2021-04-23 13:19:48,855]\u001b[0m Trial 23 finished with value: 0.9372384937238494 and parameters: {'lambda_l1': 0.027452416145318972, 'lambda_l2': 0.0004125598477806575, 'num_leaves': 185, 'feature_fraction': 0.768838532853957, 'bagging_fraction': 0.6721364615687055, 'bagging_freq': 3, 'min_child_samples': 93}. Best is trial 1 with value: 0.9551020408163265.\u001b[0m\n",
      "\u001b[32m[I 2021-04-23 13:19:48,977]\u001b[0m Trial 24 finished with value: 0.925 and parameters: {'lambda_l1': 1.5243074319117396, 'lambda_l2': 1.4564722866987924e-05, 'num_leaves': 141, 'feature_fraction': 0.878329628821223, 'bagging_fraction': 0.5055643861040495, 'bagging_freq': 1, 'min_child_samples': 78}. Best is trial 1 with value: 0.9551020408163265.\u001b[0m\n",
      "\u001b[32m[I 2021-04-23 13:19:49,098]\u001b[0m Trial 25 finished with value: 0.9584905660377359 and parameters: {'lambda_l1': 0.18263192647699425, 'lambda_l2': 2.6528956848325676e-08, 'num_leaves': 184, 'feature_fraction': 0.5331188806652959, 'bagging_fraction': 0.7895501625007808, 'bagging_freq': 3, 'min_child_samples': 70}. Best is trial 25 with value: 0.9584905660377359.\u001b[0m\n",
      "\u001b[32m[I 2021-04-23 13:19:49,247]\u001b[0m Trial 26 finished with value: 0.9311740890688258 and parameters: {'lambda_l1': 0.14901300898406955, 'lambda_l2': 1.0123482000325357e-08, 'num_leaves': 218, 'feature_fraction': 0.5420920002789821, 'bagging_fraction': 0.8013519942920528, 'bagging_freq': 2, 'min_child_samples': 63}. Best is trial 25 with value: 0.9584905660377359.\u001b[0m\n",
      "\u001b[32m[I 2021-04-23 13:19:49,413]\u001b[0m Trial 27 finished with value: 0.9411764705882353 and parameters: {'lambda_l1': 0.008981047683784965, 'lambda_l2': 5.4510710434135154e-08, 'num_leaves': 245, 'feature_fraction': 0.8899238877194244, 'bagging_fraction': 0.860200391515027, 'bagging_freq': 4, 'min_child_samples': 56}. Best is trial 25 with value: 0.9584905660377359.\u001b[0m\n",
      "\u001b[32m[I 2021-04-23 13:19:49,548]\u001b[0m Trial 28 finished with value: 0.9218106995884775 and parameters: {'lambda_l1': 0.0008268045021394164, 'lambda_l2': 0.03083950247712947, 'num_leaves': 193, 'feature_fraction': 0.4923442142117683, 'bagging_fraction': 0.7173336775660916, 'bagging_freq': 5, 'min_child_samples': 71}. Best is trial 25 with value: 0.9584905660377359.\u001b[0m\n",
      "\u001b[32m[I 2021-04-23 13:19:49,681]\u001b[0m Trial 29 finished with value: 0.9244444444444444 and parameters: {'lambda_l1': 0.37615647651538603, 'lambda_l2': 0.00013089384337790553, 'num_leaves': 60, 'feature_fraction': 0.6757428700831785, 'bagging_fraction': 0.7948564833494526, 'bagging_freq': 2, 'min_child_samples': 70}. Best is trial 25 with value: 0.9584905660377359.\u001b[0m\n",
      "\u001b[32m[I 2021-04-23 13:19:49,813]\u001b[0m Trial 30 finished with value: 0.943089430894309 and parameters: {'lambda_l1': 0.03343858843611456, 'lambda_l2': 7.273626723255056e-07, 'num_leaves': 178, 'feature_fraction': 0.8059701092278068, 'bagging_fraction': 0.8544806429777485, 'bagging_freq': 3, 'min_child_samples': 82}. Best is trial 25 with value: 0.9584905660377359.\u001b[0m\n",
      "\u001b[32m[I 2021-04-23 13:19:49,917]\u001b[0m Trial 31 finished with value: 0.9523809523809523 and parameters: {'lambda_l1': 2.0652303857637704, 'lambda_l2': 6.599782670787627e-08, 'num_leaves': 151, 'feature_fraction': 0.579520748755801, 'bagging_fraction': 0.6181972729475644, 'bagging_freq': 3, 'min_child_samples': 91}. Best is trial 25 with value: 0.9584905660377359.\u001b[0m\n",
      "\u001b[32m[I 2021-04-23 13:19:50,033]\u001b[0m Trial 32 finished with value: 0.9367088607594937 and parameters: {'lambda_l1': 0.4332854655243161, 'lambda_l2': 7.046103241898595e-08, 'num_leaves': 146, 'feature_fraction': 0.550098269521873, 'bagging_fraction': 0.7260906879884215, 'bagging_freq': 3, 'min_child_samples': 77}. Best is trial 25 with value: 0.9584905660377359.\u001b[0m\n",
      "\u001b[32m[I 2021-04-23 13:19:50,153]\u001b[0m Trial 33 finished with value: 0.9300411522633745 and parameters: {'lambda_l1': 6.149471166981042, 'lambda_l2': 2.0887336896977075e-08, 'num_leaves': 121, 'feature_fraction': 0.737265876254313, 'bagging_fraction': 0.6843587959645513, 'bagging_freq': 1, 'min_child_samples': 89}. Best is trial 25 with value: 0.9584905660377359.\u001b[0m\n",
      "\u001b[32m[I 2021-04-23 13:19:50,318]\u001b[0m Trial 34 finished with value: 0.935064935064935 and parameters: {'lambda_l1': 0.08322280286430514, 'lambda_l2': 3.038425193822704e-07, 'num_leaves': 217, 'feature_fraction': 0.6456361311247456, 'bagging_fraction': 0.6145495787956761, 'bagging_freq': 2, 'min_child_samples': 81}. Best is trial 25 with value: 0.9584905660377359.\u001b[0m\n",
      "\u001b[32m[I 2021-04-23 13:19:50,480]\u001b[0m Trial 35 finished with value: 0.9137931034482758 and parameters: {'lambda_l1': 4.043245921706207, 'lambda_l2': 0.0023309153277430643, 'num_leaves': 112, 'feature_fraction': 0.7139362116015232, 'bagging_fraction': 0.778248293427103, 'bagging_freq': 4, 'min_child_samples': 56}. Best is trial 25 with value: 0.9584905660377359.\u001b[0m\n",
      "\u001b[32m[I 2021-04-23 13:19:50,614]\u001b[0m Trial 36 finished with value: 0.926605504587156 and parameters: {'lambda_l1': 0.026735136866138674, 'lambda_l2': 2.8016004815419972e-08, 'num_leaves': 141, 'feature_fraction': 0.5766683507463741, 'bagging_fraction': 0.8306371714843166, 'bagging_freq': 3, 'min_child_samples': 74}. Best is trial 25 with value: 0.9584905660377359.\u001b[0m\n",
      "\u001b[32m[I 2021-04-23 13:19:50,717]\u001b[0m Trial 37 finished with value: 0.9576271186440679 and parameters: {'lambda_l1': 0.5664262382528851, 'lambda_l2': 0.042215182423816555, 'num_leaves': 132, 'feature_fraction': 0.4686567417254428, 'bagging_fraction': 0.5213975483641493, 'bagging_freq': 2, 'min_child_samples': 94}. Best is trial 25 with value: 0.9584905660377359.\u001b[0m\n",
      "\u001b[32m[I 2021-04-23 13:19:50,835]\u001b[0m Trial 38 finished with value: 0.9356223175965666 and parameters: {'lambda_l1': 1.771739497325732, 'lambda_l2': 0.10832162906735976, 'num_leaves': 130, 'feature_fraction': 0.4666130629940682, 'bagging_fraction': 0.5326589233058097, 'bagging_freq': 1, 'min_child_samples': 92}. Best is trial 25 with value: 0.9584905660377359.\u001b[0m\n",
      "\u001b[32m[I 2021-04-23 13:19:50,933]\u001b[0m Trial 39 finished with value: 0.9150943396226415 and parameters: {'lambda_l1': 0.0029993991961679996, 'lambda_l2': 1.5808731840692922, 'num_leaves': 107, 'feature_fraction': 0.5187174922501023, 'bagging_fraction': 0.43920417763140146, 'bagging_freq': 2, 'min_child_samples': 68}. Best is trial 25 with value: 0.9584905660377359.\u001b[0m\n",
      "\u001b[32m[I 2021-04-23 13:19:51,064]\u001b[0m Trial 40 finished with value: 0.9285714285714285 and parameters: {'lambda_l1': 0.1252427442070209, 'lambda_l2': 0.0540843202789791, 'num_leaves': 70, 'feature_fraction': 0.4060886087584169, 'bagging_fraction': 0.5249835409958791, 'bagging_freq': 1, 'min_child_samples': 39}. Best is trial 25 with value: 0.9584905660377359.\u001b[0m\n",
      "\u001b[32m[I 2021-04-23 13:19:51,182]\u001b[0m Trial 41 finished with value: 0.926829268292683 and parameters: {'lambda_l1': 0.39168393726007944, 'lambda_l2': 0.005465830253200342, 'num_leaves': 155, 'feature_fraction': 0.48763122709365, 'bagging_fraction': 0.6040610941380191, 'bagging_freq': 2, 'min_child_samples': 86}. Best is trial 25 with value: 0.9584905660377359.\u001b[0m\n",
      "\u001b[32m[I 2021-04-23 13:19:51,298]\u001b[0m Trial 42 finished with value: 0.9326923076923077 and parameters: {'lambda_l1': 0.5989185525374797, 'lambda_l2': 0.0005135395224078882, 'num_leaves': 173, 'feature_fraction': 0.5579146777204664, 'bagging_fraction': 0.7413575712846234, 'bagging_freq': 3, 'min_child_samples': 96}. Best is trial 25 with value: 0.9584905660377359.\u001b[0m\n",
      "\u001b[32m[I 2021-04-23 13:19:51,446]\u001b[0m Trial 43 finished with value: 0.9244444444444444 and parameters: {'lambda_l1': 0.15858249856298426, 'lambda_l2': 0.41318629668891643, 'num_leaves': 132, 'feature_fraction': 0.4549799743487806, 'bagging_fraction': 0.8817811393188469, 'bagging_freq': 2, 'min_child_samples': 94}. Best is trial 25 with value: 0.9584905660377359.\u001b[0m\n",
      "\u001b[32m[I 2021-04-23 13:19:51,582]\u001b[0m Trial 44 finished with value: 0.9583333333333333 and parameters: {'lambda_l1': 3.1741533468948804, 'lambda_l2': 0.009820620098568442, 'num_leaves': 189, 'feature_fraction': 0.8602732717595836, 'bagging_fraction': 0.9391237847995879, 'bagging_freq': 5, 'min_child_samples': 79}. Best is trial 25 with value: 0.9584905660377359.\u001b[0m\n"
     ]
    },
    {
     "name": "stderr",
     "output_type": "stream",
     "text": [
      "\u001b[32m[I 2021-04-23 13:19:51,714]\u001b[0m Trial 45 finished with value: 0.928 and parameters: {'lambda_l1': 3.490941979838735, 'lambda_l2': 0.007293610450824964, 'num_leaves': 231, 'feature_fraction': 0.9534435091473522, 'bagging_fraction': 0.9239573056114929, 'bagging_freq': 4, 'min_child_samples': 79}. Best is trial 25 with value: 0.9584905660377359.\u001b[0m\n",
      "\u001b[32m[I 2021-04-23 13:19:51,832]\u001b[0m Trial 46 finished with value: 0.9519650655021833 and parameters: {'lambda_l1': 8.20523278362214, 'lambda_l2': 1.0687885572648033, 'num_leaves': 192, 'feature_fraction': 0.918214730116253, 'bagging_fraction': 0.9506888567922576, 'bagging_freq': 5, 'min_child_samples': 74}. Best is trial 25 with value: 0.9584905660377359.\u001b[0m\n",
      "\u001b[32m[I 2021-04-23 13:19:51,964]\u001b[0m Trial 47 finished with value: 0.8826291079812206 and parameters: {'lambda_l1': 0.051799133248448426, 'lambda_l2': 0.10270914734705991, 'num_leaves': 159, 'feature_fraction': 0.4074123354834585, 'bagging_fraction': 0.8184226232432675, 'bagging_freq': 5, 'min_child_samples': 84}. Best is trial 25 with value: 0.9584905660377359.\u001b[0m\n",
      "\u001b[32m[I 2021-04-23 13:19:52,081]\u001b[0m Trial 48 finished with value: 0.918918918918919 and parameters: {'lambda_l1': 1.863260427948035e-07, 'lambda_l2': 0.00960774563771855, 'num_leaves': 147, 'feature_fraction': 0.5963592299665784, 'bagging_fraction': 0.5572759131151436, 'bagging_freq': 4, 'min_child_samples': 65}. Best is trial 25 with value: 0.9584905660377359.\u001b[0m\n",
      "\u001b[32m[I 2021-04-23 13:19:52,214]\u001b[0m Trial 49 finished with value: 0.9465020576131686 and parameters: {'lambda_l1': 1.1010011298035705, 'lambda_l2': 4.918443694751604, 'num_leaves': 210, 'feature_fraction': 0.850501145949949, 'bagging_fraction': 0.49078713802630425, 'bagging_freq': 3, 'min_child_samples': 46}. Best is trial 25 with value: 0.9584905660377359.\u001b[0m\n",
      "\u001b[32m[I 2021-04-23 13:19:52,331]\u001b[0m Trial 50 finished with value: 0.8859649122807017 and parameters: {'lambda_l1': 6.309396134930539e-05, 'lambda_l2': 9.431991594316075, 'num_leaves': 122, 'feature_fraction': 0.5305626307154645, 'bagging_fraction': 0.9796941104627767, 'bagging_freq': 2, 'min_child_samples': 89}. Best is trial 25 with value: 0.9584905660377359.\u001b[0m\n",
      "\u001b[32m[I 2021-04-23 13:19:52,448]\u001b[0m Trial 51 finished with value: 0.9477911646586344 and parameters: {'lambda_l1': 0.22109570243686966, 'lambda_l2': 0.018469556861001327, 'num_leaves': 182, 'feature_fraction': 0.7788324618018077, 'bagging_fraction': 0.6368792843152038, 'bagging_freq': 6, 'min_child_samples': 88}. Best is trial 25 with value: 0.9584905660377359.\u001b[0m\n",
      "\u001b[32m[I 2021-04-23 13:19:52,565]\u001b[0m Trial 52 finished with value: 0.9486166007905138 and parameters: {'lambda_l1': 0.7424286622093378, 'lambda_l2': 0.002252146969310071, 'num_leaves': 167, 'feature_fraction': 0.82599991284129, 'bagging_fraction': 0.6929711288414379, 'bagging_freq': 7, 'min_child_samples': 96}. Best is trial 25 with value: 0.9584905660377359.\u001b[0m\n",
      "\u001b[32m[I 2021-04-23 13:19:52,697]\u001b[0m Trial 53 finished with value: 0.9411764705882353 and parameters: {'lambda_l1': 3.4847304788914717, 'lambda_l2': 0.0007948844370448753, 'num_leaves': 188, 'feature_fraction': 0.9975016421638552, 'bagging_fraction': 0.7515169911882542, 'bagging_freq': 6, 'min_child_samples': 76}. Best is trial 25 with value: 0.9584905660377359.\u001b[0m\n",
      "\u001b[32m[I 2021-04-23 13:19:52,821]\u001b[0m Trial 54 finished with value: 0.9396551724137931 and parameters: {'lambda_l1': 2.1228542850066665, 'lambda_l2': 0.0034743857451316924, 'num_leaves': 176, 'feature_fraction': 0.851107079810057, 'bagging_fraction': 0.6628482997149467, 'bagging_freq': 6, 'min_child_samples': 100}. Best is trial 25 with value: 0.9584905660377359.\u001b[0m\n",
      "\u001b[32m[I 2021-04-23 13:19:53,037]\u001b[0m Trial 55 finished with value: 0.9534883720930233 and parameters: {'lambda_l1': 0.016868257536543606, 'lambda_l2': 0.0001514402745913558, 'num_leaves': 201, 'feature_fraction': 0.7988531634110159, 'bagging_fraction': 0.7132397462953335, 'bagging_freq': 5, 'min_child_samples': 24}. Best is trial 25 with value: 0.9584905660377359.\u001b[0m\n",
      "\u001b[32m[I 2021-04-23 13:19:53,248]\u001b[0m Trial 56 finished with value: 0.9133858267716535 and parameters: {'lambda_l1': 0.020960315686564333, 'lambda_l2': 0.00012517889709027035, 'num_leaves': 255, 'feature_fraction': 0.7956964998973997, 'bagging_fraction': 0.7795605206309459, 'bagging_freq': 5, 'min_child_samples': 21}. Best is trial 25 with value: 0.9584905660377359.\u001b[0m\n",
      "\u001b[32m[I 2021-04-23 13:19:53,553]\u001b[0m Trial 57 finished with value: 0.9349593495934959 and parameters: {'lambda_l1': 0.059926479722638655, 'lambda_l2': 3.1714513385266395e-05, 'num_leaves': 202, 'feature_fraction': 0.6955532569677741, 'bagging_fraction': 0.7087160238974777, 'bagging_freq': 4, 'min_child_samples': 10}. Best is trial 25 with value: 0.9584905660377359.\u001b[0m\n",
      "\u001b[32m[I 2021-04-23 13:19:53,771]\u001b[0m Trial 58 finished with value: 0.9218106995884774 and parameters: {'lambda_l1': 0.015612957913189639, 'lambda_l2': 0.7383562586974732, 'num_leaves': 194, 'feature_fraction': 0.7525423797972078, 'bagging_fraction': 0.4579151412967723, 'bagging_freq': 5, 'min_child_samples': 23}. Best is trial 25 with value: 0.9584905660377359.\u001b[0m\n",
      "\u001b[32m[I 2021-04-23 13:19:53,930]\u001b[0m Trial 59 finished with value: 0.9543568464730291 and parameters: {'lambda_l1': 0.002708287511566618, 'lambda_l2': 1.358791835696566e-07, 'num_leaves': 226, 'feature_fraction': 0.4930782069609652, 'bagging_fraction': 0.8683606386894552, 'bagging_freq': 5, 'min_child_samples': 51}. Best is trial 25 with value: 0.9584905660377359.\u001b[0m\n",
      "\u001b[32m[I 2021-04-23 13:19:54,130]\u001b[0m Trial 60 finished with value: 0.9216589861751152 and parameters: {'lambda_l1': 0.0027869493828215188, 'lambda_l2': 0.15249023255616753, 'num_leaves': 234, 'feature_fraction': 0.8675708760249211, 'bagging_fraction': 0.8775132444686178, 'bagging_freq': 5, 'min_child_samples': 28}. Best is trial 25 with value: 0.9584905660377359.\u001b[0m\n",
      "\u001b[32m[I 2021-04-23 13:19:54,340]\u001b[0m Trial 61 finished with value: 0.9140271493212669 and parameters: {'lambda_l1': 0.0011720513094960797, 'lambda_l2': 1.9593141603254738e-07, 'num_leaves': 223, 'feature_fraction': 0.4859570368464901, 'bagging_fraction': 0.9269408290405678, 'bagging_freq': 5, 'min_child_samples': 31}. Best is trial 25 with value: 0.9584905660377359.\u001b[0m\n",
      "\u001b[32m[I 2021-04-23 13:19:54,499]\u001b[0m Trial 62 finished with value: 0.9292035398230087 and parameters: {'lambda_l1': 0.012735305147739902, 'lambda_l2': 1.0234000514810339e-08, 'num_leaves': 167, 'feature_fraction': 0.4719455069171839, 'bagging_fraction': 0.8450570128360829, 'bagging_freq': 4, 'min_child_samples': 52}. Best is trial 25 with value: 0.9584905660377359.\u001b[0m\n",
      "\u001b[32m[I 2021-04-23 13:19:54,641]\u001b[0m Trial 63 finished with value: 0.9382716049382717 and parameters: {'lambda_l1': 0.004162307735031409, 'lambda_l2': 0.035397683147436514, 'num_leaves': 209, 'feature_fraction': 0.42678463193700733, 'bagging_fraction': 0.7774330708001878, 'bagging_freq': 7, 'min_child_samples': 57}. Best is trial 25 with value: 0.9584905660377359.\u001b[0m\n",
      "\u001b[32m[I 2021-04-23 13:19:54,882]\u001b[0m Trial 64 finished with value: 0.9494163424124513 and parameters: {'lambda_l1': 0.07309243036329192, 'lambda_l2': 0.001083747012062178, 'num_leaves': 242, 'feature_fraction': 0.8117608638667246, 'bagging_fraction': 0.8083872823895163, 'bagging_freq': 6, 'min_child_samples': 16}. Best is trial 25 with value: 0.9584905660377359.\u001b[0m\n",
      "\u001b[32m[I 2021-04-23 13:19:55,092]\u001b[0m Trial 65 finished with value: 0.9152542372881356 and parameters: {'lambda_l1': 0.2330750918245673, 'lambda_l2': 8.729509739181197e-07, 'num_leaves': 199, 'feature_fraction': 0.43996807376085856, 'bagging_fraction': 0.9079601372540808, 'bagging_freq': 5, 'min_child_samples': 43}. Best is trial 25 with value: 0.9584905660377359.\u001b[0m\n",
      "\u001b[32m[I 2021-04-23 13:19:55,251]\u001b[0m Trial 66 finished with value: 0.9272727272727274 and parameters: {'lambda_l1': 0.0003719615226022519, 'lambda_l2': 3.889984385423548e-08, 'num_leaves': 152, 'feature_fraction': 0.5074578275824019, 'bagging_fraction': 0.9511397132441668, 'bagging_freq': 3, 'min_child_samples': 81}. Best is trial 25 with value: 0.9584905660377359.\u001b[0m\n",
      "\u001b[32m[I 2021-04-23 13:19:55,509]\u001b[0m Trial 67 finished with value: 0.944 and parameters: {'lambda_l1': 0.7098729113535238, 'lambda_l2': 1.0214925968065242e-07, 'num_leaves': 212, 'feature_fraction': 0.5648936033841903, 'bagging_fraction': 0.8198954596787956, 'bagging_freq': 4, 'min_child_samples': 91}. Best is trial 25 with value: 0.9584905660377359.\u001b[0m\n"
     ]
    },
    {
     "name": "stderr",
     "output_type": "stream",
     "text": [
      "\u001b[32m[I 2021-04-23 13:19:55,691]\u001b[0m Trial 68 finished with value: 0.9327354260089685 and parameters: {'lambda_l1': 0.005622451147735833, 'lambda_l2': 6.2055527725457845e-06, 'num_leaves': 256, 'feature_fraction': 0.9197488684413119, 'bagging_fraction': 0.9061997759672482, 'bagging_freq': 2, 'min_child_samples': 84}. Best is trial 25 with value: 0.9584905660377359.\u001b[0m\n",
      "\u001b[32m[I 2021-04-23 13:19:55,799]\u001b[0m Trial 69 finished with value: 0.9140624999999999 and parameters: {'lambda_l1': 0.0018903827256763017, 'lambda_l2': 2.2447342607895644e-06, 'num_leaves': 3, 'feature_fraction': 0.6202451617016544, 'bagging_fraction': 0.8808243181580793, 'bagging_freq': 5, 'min_child_samples': 59}. Best is trial 25 with value: 0.9584905660377359.\u001b[0m\n",
      "\u001b[32m[I 2021-04-23 13:19:55,993]\u001b[0m Trial 70 finished with value: 0.9230769230769231 and parameters: {'lambda_l1': 0.12615326264299906, 'lambda_l2': 1.4782429094370784e-07, 'num_leaves': 138, 'feature_fraction': 0.5387686191493097, 'bagging_fraction': 0.8589386640116794, 'bagging_freq': 3, 'min_child_samples': 36}. Best is trial 25 with value: 0.9584905660377359.\u001b[0m\n",
      "\u001b[32m[I 2021-04-23 13:19:56,115]\u001b[0m Trial 71 finished with value: 0.9237288135593221 and parameters: {'lambda_l1': 1.3939226395252642, 'lambda_l2': 0.01080418863706905, 'num_leaves': 182, 'feature_fraction': 0.7645308377737478, 'bagging_fraction': 0.7317501526031168, 'bagging_freq': 6, 'min_child_samples': 86}. Best is trial 25 with value: 0.9584905660377359.\u001b[0m\n",
      "\u001b[32m[I 2021-04-23 13:19:56,246]\u001b[0m Trial 72 finished with value: 0.9527896995708156 and parameters: {'lambda_l1': 0.33224723731679695, 'lambda_l2': 1.6700958198010176e-08, 'num_leaves': 163, 'feature_fraction': 0.827849057836521, 'bagging_fraction': 0.7637295492925118, 'bagging_freq': 6, 'min_child_samples': 94}. Best is trial 25 with value: 0.9584905660377359.\u001b[0m\n",
      "\u001b[32m[I 2021-04-23 13:19:56,382]\u001b[0m Trial 73 finished with value: 0.9076305220883534 and parameters: {'lambda_l1': 0.041563112382778065, 'lambda_l2': 0.00021452734440838807, 'num_leaves': 197, 'feature_fraction': 0.8363364524513475, 'bagging_fraction': 0.7697517750694165, 'bagging_freq': 6, 'min_child_samples': 94}. Best is trial 25 with value: 0.9584905660377359.\u001b[0m\n",
      "\u001b[32m[I 2021-04-23 13:19:56,513]\u001b[0m Trial 74 finished with value: 0.9581749049429659 and parameters: {'lambda_l1': 0.22001725680147924, 'lambda_l2': 1.558318384423556e-08, 'num_leaves': 164, 'feature_fraction': 0.7899775757810373, 'bagging_fraction': 0.7507028924425241, 'bagging_freq': 7, 'min_child_samples': 79}. Best is trial 25 with value: 0.9584905660377359.\u001b[0m\n",
      "\u001b[32m[I 2021-04-23 13:19:56,680]\u001b[0m Trial 75 finished with value: 0.9304347826086957 and parameters: {'lambda_l1': 0.26387828331489066, 'lambda_l2': 1.464425582341176e-08, 'num_leaves': 164, 'feature_fraction': 0.7830804263013593, 'bagging_fraction': 0.7558138668657407, 'bagging_freq': 7, 'min_child_samples': 68}. Best is trial 25 with value: 0.9584905660377359.\u001b[0m\n",
      "\u001b[32m[I 2021-04-23 13:19:56,812]\u001b[0m Trial 76 finished with value: 0.953125 and parameters: {'lambda_l1': 0.10021393226544986, 'lambda_l2': 2.5165721376641848e-08, 'num_leaves': 188, 'feature_fraction': 0.8690592664047825, 'bagging_fraction': 0.8286611575372431, 'bagging_freq': 7, 'min_child_samples': 79}. Best is trial 25 with value: 0.9584905660377359.\u001b[0m\n",
      "\u001b[32m[I 2021-04-23 13:19:56,963]\u001b[0m Trial 77 finished with value: 0.9565217391304348 and parameters: {'lambda_l1': 0.09244576741738068, 'lambda_l2': 2.8755412823789034e-08, 'num_leaves': 220, 'feature_fraction': 0.8736449028879869, 'bagging_fraction': 0.8342365766419014, 'bagging_freq': 7, 'min_child_samples': 73}. Best is trial 25 with value: 0.9584905660377359.\u001b[0m\n",
      "\u001b[32m[I 2021-04-23 13:19:57,160]\u001b[0m Trial 78 finished with value: 0.9420849420849421 and parameters: {'lambda_l1': 0.013900708827237825, 'lambda_l2': 5.433253407443877e-07, 'num_leaves': 217, 'feature_fraction': 0.9053394625429525, 'bagging_fraction': 0.7885464983182914, 'bagging_freq': 7, 'min_child_samples': 73}. Best is trial 25 with value: 0.9584905660377359.\u001b[0m\n",
      "\u001b[32m[I 2021-04-23 13:19:57,296]\u001b[0m Trial 79 finished with value: 0.9333333333333333 and parameters: {'lambda_l1': 0.03480018708735702, 'lambda_l2': 4.221307738433916e-08, 'num_leaves': 230, 'feature_fraction': 0.7359250062635027, 'bagging_fraction': 0.7957157643290665, 'bagging_freq': 1, 'min_child_samples': 70}. Best is trial 25 with value: 0.9584905660377359.\u001b[0m\n",
      "\u001b[32m[I 2021-04-23 13:19:57,447]\u001b[0m Trial 80 finished with value: 0.9256198347107438 and parameters: {'lambda_l1': 0.008898711000123342, 'lambda_l2': 4.798317934839049e-05, 'num_leaves': 223, 'feature_fraction': 0.8827342542925929, 'bagging_fraction': 0.8412200399992344, 'bagging_freq': 2, 'min_child_samples': 75}. Best is trial 25 with value: 0.9584905660377359.\u001b[0m\n",
      "\u001b[32m[I 2021-04-23 13:19:57,642]\u001b[0m Trial 81 finished with value: 0.9328063241106719 and parameters: {'lambda_l1': 0.15001755435015526, 'lambda_l2': 1.0296972112891931e-08, 'num_leaves': 188, 'feature_fraction': 0.8685208577773644, 'bagging_fraction': 0.8321629068184517, 'bagging_freq': 7, 'min_child_samples': 79}. Best is trial 25 with value: 0.9584905660377359.\u001b[0m\n",
      "\u001b[32m[I 2021-04-23 13:19:57,794]\u001b[0m Trial 82 finished with value: 0.9230769230769231 and parameters: {'lambda_l1': 0.5531981026277376, 'lambda_l2': 2.7916861164654963e-08, 'num_leaves': 205, 'feature_fraction': 0.8644251707379769, 'bagging_fraction': 0.8117013997972119, 'bagging_freq': 7, 'min_child_samples': 78}. Best is trial 25 with value: 0.9584905660377359.\u001b[0m\n",
      "\u001b[32m[I 2021-04-23 13:19:57,944]\u001b[0m Trial 83 finished with value: 0.9140271493212669 and parameters: {'lambda_l1': 0.08239154219327569, 'lambda_l2': 8.224416857915689e-08, 'num_leaves': 177, 'feature_fraction': 0.9411012926803454, 'bagging_fraction': 0.8738054669088139, 'bagging_freq': 7, 'min_child_samples': 66}. Best is trial 25 with value: 0.9584905660377359.\u001b[0m\n",
      "\u001b[32m[I 2021-04-23 13:19:58,143]\u001b[0m Trial 84 finished with value: 0.8983050847457628 and parameters: {'lambda_l1': 0.024074838028851273, 'lambda_l2': 2.3808363421439428e-07, 'num_leaves': 190, 'feature_fraction': 0.9011084490188453, 'bagging_fraction': 0.8513211957808443, 'bagging_freq': 7, 'min_child_samples': 72}. Best is trial 25 with value: 0.9584905660377359.\u001b[0m\n",
      "\u001b[32m[I 2021-04-23 13:19:58,315]\u001b[0m Trial 85 finished with value: 0.9067796610169491 and parameters: {'lambda_l1': 0.07040432797433875, 'lambda_l2': 3.1225089480017654, 'num_leaves': 172, 'feature_fraction': 0.8495140402165932, 'bagging_fraction': 0.7426381599691356, 'bagging_freq': 7, 'min_child_samples': 81}. Best is trial 25 with value: 0.9584905660377359.\u001b[0m\n",
      "\u001b[32m[I 2021-04-23 13:19:58,479]\u001b[0m Trial 86 finished with value: 0.9177489177489176 and parameters: {'lambda_l1': 0.863996321760817, 'lambda_l2': 2.1807727089481416e-08, 'num_leaves': 183, 'feature_fraction': 0.8069567587618812, 'bagging_fraction': 0.8337211061387902, 'bagging_freq': 5, 'min_child_samples': 52}. Best is trial 25 with value: 0.9584905660377359.\u001b[0m\n",
      "\u001b[32m[I 2021-04-23 13:19:58,631]\u001b[0m Trial 87 finished with value: 0.9482758620689654 and parameters: {'lambda_l1': 0.12912141163382473, 'lambda_l2': 0.3013485159646558, 'num_leaves': 200, 'feature_fraction': 0.7156256983539481, 'bagging_fraction': 0.8667261696816874, 'bagging_freq': 2, 'min_child_samples': 77}. Best is trial 25 with value: 0.9584905660377359.\u001b[0m\n",
      "\u001b[32m[I 2021-04-23 13:19:58,780]\u001b[0m Trial 88 finished with value: 0.9298245614035089 and parameters: {'lambda_l1': 0.20456910031047928, 'lambda_l2': 3.620462808540099e-08, 'num_leaves': 237, 'feature_fraction': 0.8185945404878154, 'bagging_fraction': 0.8914946569054955, 'bagging_freq': 6, 'min_child_samples': 69}. Best is trial 25 with value: 0.9584905660377359.\u001b[0m\n",
      "\u001b[32m[I 2021-04-23 13:19:58,930]\u001b[0m Trial 89 finished with value: 0.9516129032258065 and parameters: {'lambda_l1': 0.4535065113074743, 'lambda_l2': 1.4859020796269103e-07, 'num_leaves': 217, 'feature_fraction': 0.7917584422294864, 'bagging_fraction': 0.7881897892552998, 'bagging_freq': 4, 'min_child_samples': 60}. Best is trial 25 with value: 0.9584905660377359.\u001b[0m\n",
      "\u001b[32m[I 2021-04-23 13:19:59,062]\u001b[0m Trial 90 finished with value: 0.9292035398230089 and parameters: {'lambda_l1': 5.324433628748735, 'lambda_l2': 0.07534811366489376, 'num_leaves': 98, 'feature_fraction': 0.7664916024942858, 'bagging_fraction': 0.8179651759958452, 'bagging_freq': 1, 'min_child_samples': 65}. Best is trial 25 with value: 0.9584905660377359.\u001b[0m\n"
     ]
    },
    {
     "name": "stderr",
     "output_type": "stream",
     "text": [
      "\u001b[32m[I 2021-04-23 13:19:59,213]\u001b[0m Trial 91 finished with value: 0.9304347826086956 and parameters: {'lambda_l1': 0.3201506406616211, 'lambda_l2': 2.1931526887422997e-08, 'num_leaves': 145, 'feature_fraction': 0.9255064149296732, 'bagging_fraction': 0.7158945184505845, 'bagging_freq': 6, 'min_child_samples': 87}. Best is trial 25 with value: 0.9584905660377359.\u001b[0m\n",
      "\u001b[32m[I 2021-04-23 13:19:59,345]\u001b[0m Trial 92 finished with value: 0.9490196078431373 and parameters: {'lambda_l1': 0.09778515776102904, 'lambda_l2': 1.529254977821339e-08, 'num_leaves': 168, 'feature_fraction': 0.8323306599479192, 'bagging_fraction': 0.7388611209539407, 'bagging_freq': 6, 'min_child_samples': 83}. Best is trial 25 with value: 0.9584905660377359.\u001b[0m\n",
      "\u001b[32m[I 2021-04-23 13:19:59,463]\u001b[0m Trial 93 finished with value: 0.9382716049382717 and parameters: {'lambda_l1': 0.038964049567255125, 'lambda_l2': 5.509797962420552e-08, 'num_leaves': 159, 'feature_fraction': 0.8526817857769243, 'bagging_fraction': 0.7564695744294662, 'bagging_freq': 7, 'min_child_samples': 98}. Best is trial 25 with value: 0.9584905660377359.\u001b[0m\n",
      "\u001b[32m[I 2021-04-23 13:19:59,597]\u001b[0m Trial 94 finished with value: 0.9473684210526315 and parameters: {'lambda_l1': 0.4644484976521949, 'lambda_l2': 1.0184610920736468e-08, 'num_leaves': 178, 'feature_fraction': 0.876580717517571, 'bagging_fraction': 0.803726244791837, 'bagging_freq': 5, 'min_child_samples': 79}. Best is trial 25 with value: 0.9584905660377359.\u001b[0m\n",
      "\u001b[32m[I 2021-04-23 13:19:59,732]\u001b[0m Trial 95 finished with value: 0.9552238805970149 and parameters: {'lambda_l1': 1.0067847843503566, 'lambda_l2': 1.3405486166763174e-08, 'num_leaves': 195, 'feature_fraction': 0.9662245370792648, 'bagging_fraction': 0.6917655818671198, 'bagging_freq': 7, 'min_child_samples': 85}. Best is trial 25 with value: 0.9584905660377359.\u001b[0m\n",
      "\u001b[32m[I 2021-04-23 13:19:59,864]\u001b[0m Trial 96 finished with value: 0.9800796812749004 and parameters: {'lambda_l1': 1.1991809582150708, 'lambda_l2': 3.8896559121118423e-07, 'num_leaves': 247, 'feature_fraction': 0.5033063359948979, 'bagging_fraction': 0.825835677752724, 'bagging_freq': 7, 'min_child_samples': 76}. Best is trial 96 with value: 0.9800796812749004.\u001b[0m\n",
      "\u001b[32m[I 2021-04-23 13:19:59,997]\u001b[0m Trial 97 finished with value: 0.912280701754386 and parameters: {'lambda_l1': 2.81257838340584, 'lambda_l2': 4.399172334959073e-07, 'num_leaves': 246, 'feature_fraction': 0.9885462846500073, 'bagging_fraction': 0.650464773840494, 'bagging_freq': 7, 'min_child_samples': 85}. Best is trial 96 with value: 0.9800796812749004.\u001b[0m\n",
      "\u001b[32m[I 2021-04-23 13:20:00,131]\u001b[0m Trial 98 finished with value: 0.9426229508196722 and parameters: {'lambda_l1': 0.9548639107675816, 'lambda_l2': 1.002155579235462e-06, 'num_leaves': 225, 'feature_fraction': 0.9538839450445962, 'bagging_fraction': 0.6792336326491395, 'bagging_freq': 7, 'min_child_samples': 75}. Best is trial 96 with value: 0.9800796812749004.\u001b[0m\n",
      "\u001b[32m[I 2021-04-23 13:20:00,263]\u001b[0m Trial 99 finished with value: 0.9193548387096773 and parameters: {'lambda_l1': 9.479329930285024, 'lambda_l2': 1.127746522857546e-07, 'num_leaves': 247, 'feature_fraction': 0.4597688818652641, 'bagging_fraction': 0.6965268036167486, 'bagging_freq': 2, 'min_child_samples': 81}. Best is trial 96 with value: 0.9800796812749004.\u001b[0m\n"
     ]
    },
    {
     "name": "stdout",
     "output_type": "stream",
     "text": [
      "Number of finished trials:  100\n",
      "Best trial:\n",
      "  Value: 0.9800796812749004\n",
      "  Params: \n",
      "    lambda_l1: 1.1991809582150708\n",
      "    lambda_l2: 3.8896559121118423e-07\n",
      "    num_leaves: 247\n",
      "    feature_fraction: 0.5033063359948979\n",
      "    bagging_fraction: 0.825835677752724\n",
      "    bagging_freq: 7\n",
      "    min_child_samples: 76\n"
     ]
    }
   ],
   "source": [
    "lgb_study = optuna.create_study(direction=\"maximize\")\n",
    "lgb_study.optimize(objective, n_trials=100, timeout=600)\n",
    "\n",
    "print(\"Number of finished trials: \", len(study.trials))\n",
    "print(\"Best trial:\")\n",
    "trial = lgb_study.best_trial\n",
    "\n",
    "print(\"  Value: {}\".format(trial.value))\n",
    "print(\"  Params: \")\n",
    "for key, value in trial.params.items():\n",
    "    print(\"    {}: {}\".format(key, value))"
   ]
  },
  {
   "cell_type": "code",
   "execution_count": null,
   "metadata": {},
   "outputs": [],
   "source": []
  }
 ],
 "metadata": {
  "kernelspec": {
   "display_name": "Python 3",
   "language": "python",
   "name": "python3"
  },
  "language_info": {
   "codemirror_mode": {
    "name": "ipython",
    "version": 3
   },
   "file_extension": ".py",
   "mimetype": "text/x-python",
   "name": "python",
   "nbconvert_exporter": "python",
   "pygments_lexer": "ipython3",
   "version": "3.8.5"
  }
 },
 "nbformat": 4,
 "nbformat_minor": 4
}
