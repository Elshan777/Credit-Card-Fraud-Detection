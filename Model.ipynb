{
 "cells": [
  {
   "cell_type": "markdown",
   "metadata": {},
   "source": [
    "# In this notebook I will present my models which used for predictions"
   ]
  },
  {
   "cell_type": "code",
   "execution_count": 1,
   "metadata": {},
   "outputs": [],
   "source": [
    "import pandas as pd\n",
    "import numpy as np\n",
    "import seaborn as sns\n",
    "import matplotlib.pyplot as plt\n",
    "import statsmodels.api as sm\n",
    "from collections import Counter\n",
    "from imblearn.under_sampling import RandomUnderSampler"
   ]
  },
  {
   "cell_type": "code",
   "execution_count": 2,
   "metadata": {},
   "outputs": [],
   "source": [
    "df = pd.read_csv('../creditcard.csv')"
   ]
  },
  {
   "cell_type": "code",
   "execution_count": 3,
   "metadata": {},
   "outputs": [],
   "source": [
    "X = df.iloc[:, :-1]\n",
    "y = df['Class']"
   ]
  },
  {
   "cell_type": "code",
   "execution_count": 4,
   "metadata": {},
   "outputs": [],
   "source": [
    "und = RandomUnderSampler()\n",
    "X_und, y_und = und.fit_resample(X, y)"
   ]
  },
  {
   "cell_type": "code",
   "execution_count": 5,
   "metadata": {},
   "outputs": [
    {
     "data": {
      "text/plain": [
       "Counter({0: 492, 1: 492})"
      ]
     },
     "execution_count": 5,
     "metadata": {},
     "output_type": "execute_result"
    }
   ],
   "source": [
    "Counter(y_und)"
   ]
  },
  {
   "cell_type": "code",
   "execution_count": 6,
   "metadata": {},
   "outputs": [
    {
     "data": {
      "text/html": [
       "<div>\n",
       "<style scoped>\n",
       "    .dataframe tbody tr th:only-of-type {\n",
       "        vertical-align: middle;\n",
       "    }\n",
       "\n",
       "    .dataframe tbody tr th {\n",
       "        vertical-align: top;\n",
       "    }\n",
       "\n",
       "    .dataframe thead th {\n",
       "        text-align: right;\n",
       "    }\n",
       "</style>\n",
       "<table border=\"1\" class=\"dataframe\">\n",
       "  <thead>\n",
       "    <tr style=\"text-align: right;\">\n",
       "      <th></th>\n",
       "      <th>Time</th>\n",
       "      <th>V1</th>\n",
       "      <th>V2</th>\n",
       "      <th>V3</th>\n",
       "      <th>V4</th>\n",
       "      <th>V5</th>\n",
       "      <th>V6</th>\n",
       "      <th>V7</th>\n",
       "      <th>V8</th>\n",
       "      <th>V9</th>\n",
       "      <th>...</th>\n",
       "      <th>V21</th>\n",
       "      <th>V22</th>\n",
       "      <th>V23</th>\n",
       "      <th>V24</th>\n",
       "      <th>V25</th>\n",
       "      <th>V26</th>\n",
       "      <th>V27</th>\n",
       "      <th>V28</th>\n",
       "      <th>Amount</th>\n",
       "      <th>Class</th>\n",
       "    </tr>\n",
       "  </thead>\n",
       "  <tbody>\n",
       "    <tr>\n",
       "      <th>0</th>\n",
       "      <td>127652.0</td>\n",
       "      <td>2.006104</td>\n",
       "      <td>-0.127595</td>\n",
       "      <td>-1.015774</td>\n",
       "      <td>0.315159</td>\n",
       "      <td>-0.122936</td>\n",
       "      <td>-0.860338</td>\n",
       "      <td>0.046205</td>\n",
       "      <td>-0.149174</td>\n",
       "      <td>0.322701</td>\n",
       "      <td>...</td>\n",
       "      <td>-0.230339</td>\n",
       "      <td>-0.572987</td>\n",
       "      <td>0.349526</td>\n",
       "      <td>0.009194</td>\n",
       "      <td>-0.365216</td>\n",
       "      <td>0.179532</td>\n",
       "      <td>-0.073171</td>\n",
       "      <td>-0.070659</td>\n",
       "      <td>0.89</td>\n",
       "      <td>0</td>\n",
       "    </tr>\n",
       "    <tr>\n",
       "      <th>1</th>\n",
       "      <td>137537.0</td>\n",
       "      <td>1.936230</td>\n",
       "      <td>-0.294191</td>\n",
       "      <td>-0.570560</td>\n",
       "      <td>0.259339</td>\n",
       "      <td>-0.510745</td>\n",
       "      <td>-0.295500</td>\n",
       "      <td>-0.757714</td>\n",
       "      <td>0.049656</td>\n",
       "      <td>1.435306</td>\n",
       "      <td>...</td>\n",
       "      <td>0.002910</td>\n",
       "      <td>0.163598</td>\n",
       "      <td>0.267185</td>\n",
       "      <td>0.656542</td>\n",
       "      <td>-0.416091</td>\n",
       "      <td>-0.113799</td>\n",
       "      <td>0.042954</td>\n",
       "      <td>0.008152</td>\n",
       "      <td>29.99</td>\n",
       "      <td>0</td>\n",
       "    </tr>\n",
       "    <tr>\n",
       "      <th>2</th>\n",
       "      <td>135341.0</td>\n",
       "      <td>2.138432</td>\n",
       "      <td>-1.656127</td>\n",
       "      <td>-0.920124</td>\n",
       "      <td>-1.858596</td>\n",
       "      <td>-0.690444</td>\n",
       "      <td>1.205672</td>\n",
       "      <td>-1.601482</td>\n",
       "      <td>0.400276</td>\n",
       "      <td>-1.217118</td>\n",
       "      <td>...</td>\n",
       "      <td>-0.051860</td>\n",
       "      <td>0.431321</td>\n",
       "      <td>0.250905</td>\n",
       "      <td>-1.658277</td>\n",
       "      <td>-0.455512</td>\n",
       "      <td>-0.063947</td>\n",
       "      <td>0.068822</td>\n",
       "      <td>-0.071098</td>\n",
       "      <td>22.30</td>\n",
       "      <td>0</td>\n",
       "    </tr>\n",
       "    <tr>\n",
       "      <th>3</th>\n",
       "      <td>78158.0</td>\n",
       "      <td>1.049222</td>\n",
       "      <td>-0.401592</td>\n",
       "      <td>1.301356</td>\n",
       "      <td>0.997817</td>\n",
       "      <td>-1.398577</td>\n",
       "      <td>-0.501422</td>\n",
       "      <td>-0.609568</td>\n",
       "      <td>0.092222</td>\n",
       "      <td>1.051789</td>\n",
       "      <td>...</td>\n",
       "      <td>-0.047580</td>\n",
       "      <td>-0.119600</td>\n",
       "      <td>0.033856</td>\n",
       "      <td>0.723284</td>\n",
       "      <td>0.156430</td>\n",
       "      <td>0.294088</td>\n",
       "      <td>0.000344</td>\n",
       "      <td>0.038158</td>\n",
       "      <td>64.99</td>\n",
       "      <td>0</td>\n",
       "    </tr>\n",
       "    <tr>\n",
       "      <th>4</th>\n",
       "      <td>127734.0</td>\n",
       "      <td>2.057930</td>\n",
       "      <td>-0.327732</td>\n",
       "      <td>-2.726419</td>\n",
       "      <td>-0.775523</td>\n",
       "      <td>2.454901</td>\n",
       "      <td>3.198474</td>\n",
       "      <td>-0.451752</td>\n",
       "      <td>0.733267</td>\n",
       "      <td>0.487501</td>\n",
       "      <td>...</td>\n",
       "      <td>0.256416</td>\n",
       "      <td>0.789349</td>\n",
       "      <td>0.040269</td>\n",
       "      <td>0.738357</td>\n",
       "      <td>0.289607</td>\n",
       "      <td>-0.080795</td>\n",
       "      <td>0.002805</td>\n",
       "      <td>-0.064285</td>\n",
       "      <td>1.00</td>\n",
       "      <td>0</td>\n",
       "    </tr>\n",
       "  </tbody>\n",
       "</table>\n",
       "<p>5 rows × 31 columns</p>\n",
       "</div>"
      ],
      "text/plain": [
       "       Time        V1        V2        V3        V4        V5        V6  \\\n",
       "0  127652.0  2.006104 -0.127595 -1.015774  0.315159 -0.122936 -0.860338   \n",
       "1  137537.0  1.936230 -0.294191 -0.570560  0.259339 -0.510745 -0.295500   \n",
       "2  135341.0  2.138432 -1.656127 -0.920124 -1.858596 -0.690444  1.205672   \n",
       "3   78158.0  1.049222 -0.401592  1.301356  0.997817 -1.398577 -0.501422   \n",
       "4  127734.0  2.057930 -0.327732 -2.726419 -0.775523  2.454901  3.198474   \n",
       "\n",
       "         V7        V8        V9  ...       V21       V22       V23       V24  \\\n",
       "0  0.046205 -0.149174  0.322701  ... -0.230339 -0.572987  0.349526  0.009194   \n",
       "1 -0.757714  0.049656  1.435306  ...  0.002910  0.163598  0.267185  0.656542   \n",
       "2 -1.601482  0.400276 -1.217118  ... -0.051860  0.431321  0.250905 -1.658277   \n",
       "3 -0.609568  0.092222  1.051789  ... -0.047580 -0.119600  0.033856  0.723284   \n",
       "4 -0.451752  0.733267  0.487501  ...  0.256416  0.789349  0.040269  0.738357   \n",
       "\n",
       "        V25       V26       V27       V28  Amount  Class  \n",
       "0 -0.365216  0.179532 -0.073171 -0.070659    0.89      0  \n",
       "1 -0.416091 -0.113799  0.042954  0.008152   29.99      0  \n",
       "2 -0.455512 -0.063947  0.068822 -0.071098   22.30      0  \n",
       "3  0.156430  0.294088  0.000344  0.038158   64.99      0  \n",
       "4  0.289607 -0.080795  0.002805 -0.064285    1.00      0  \n",
       "\n",
       "[5 rows x 31 columns]"
      ]
     },
     "execution_count": 6,
     "metadata": {},
     "output_type": "execute_result"
    }
   ],
   "source": [
    "# Lets concat undersampled X and y\n",
    "df_und = pd.concat([X_und, y_und], axis=1)\n",
    "df_und.head()"
   ]
  },
  {
   "cell_type": "markdown",
   "metadata": {},
   "source": [
    "## Lets build our first Pipeline"
   ]
  },
  {
   "cell_type": "code",
   "execution_count": 7,
   "metadata": {},
   "outputs": [],
   "source": [
    "from sklearn.tree import DecisionTreeClassifier\n",
    "from sklearn.ensemble import GradientBoostingClassifier\n",
    "from catboost import CatBoostClassifier\n",
    "from sklearn.ensemble import GradientBoostingClassifier\n",
    "from sklearn.neighbors import KNeighborsClassifier\n",
    "from sklearn.ensemble import RandomForestClassifier\n",
    "from sklearn.linear_model import LogisticRegression\n",
    "from sklearn.svm import SVC\n",
    "from xgboost import XGBClassifier\n",
    "from sklearn.naive_bayes import GaussianNB\n",
    "from sklearn.neighbors import KNeighborsClassifier\n",
    "from sklearn.pipeline import Pipeline\n",
    "from sklearn.compose import ColumnTransformer\n",
    "from sklearn.metrics import roc_auc_score, f1_score, recall_score\n",
    "from sklearn.model_selection import train_test_split\n",
    "from sklearn.linear_model import LogisticRegression\n",
    "from lightgbm import LGBMClassifier"
   ]
  },
  {
   "cell_type": "code",
   "execution_count": 42,
   "metadata": {},
   "outputs": [],
   "source": [
    "algos = {\n",
    "    'DecisionTreeClassifier' : DecisionTreeClassifier(),\n",
    "    'KNeighborsClassifier': KNeighborsClassifier(),\n",
    "    'GaussianNB' : GaussianNB(),\n",
    "    'LogisticRegression' : LogisticRegression(max_iter=200),\n",
    "}"
   ]
  },
  {
   "cell_type": "code",
   "execution_count": 43,
   "metadata": {},
   "outputs": [],
   "source": [
    "X_train, X_test, y_train, y_test = train_test_split(X_und, y_und)"
   ]
  },
  {
   "cell_type": "code",
   "execution_count": 44,
   "metadata": {},
   "outputs": [
    {
     "name": "stdout",
     "output_type": "stream",
     "text": [
      "DecisionTreeClassifier ROC SCORE 0.8899391856160762\n",
      "KNeighborsClassifier ROC SCORE 0.7258064516129034\n",
      "GaussianNB ROC SCORE 0.9738894764674775\n",
      "LogisticRegression ROC SCORE 0.9830777366472765\n"
     ]
    }
   ],
   "source": [
    "for name, classifier in algos.items():\n",
    "    pipeline = Pipeline(steps=[\n",
    "        ('classifier', classifier)\n",
    "    ])\n",
    "    pipeline.fit(X_train, y_train)\n",
    "    y_predicted=pipeline.predict_proba(X_test)\n",
    "    print(name,'ROC SCORE', roc_auc_score(y_test, y_predicted[:, 1]))"
   ]
  },
  {
   "cell_type": "markdown",
   "metadata": {},
   "source": [
    "### As we can see Gaussian Naive Bayes along side with Logistic regression performed well on the data\n",
    "### Now I will try ensemble methods"
   ]
  },
  {
   "cell_type": "code",
   "execution_count": 11,
   "metadata": {},
   "outputs": [],
   "source": [
    "ensem = {\n",
    "    'RandomForestClassifier' : RandomForestClassifier(),\n",
    "    'GradientBoostingClassifier': GradientBoostingClassifier(),\n",
    "    'LGBMClassifier' : LGBMClassifier(),\n",
    "    'CatBoostClassifier' : CatBoostClassifier(verbose=False),\n",
    "}"
   ]
  },
  {
   "cell_type": "code",
   "execution_count": 12,
   "metadata": {
    "scrolled": true
   },
   "outputs": [
    {
     "name": "stdout",
     "output_type": "stream",
     "text": [
      "RandomForestClassifier ROC SCORE 0.9827472236911688\n",
      "GradientBoostingClassifier ROC SCORE 0.9862837123215231\n",
      "LGBMClassifier ROC SCORE 0.9866472765732417\n",
      "CatBoostClassifier ROC SCORE 0.9842675832892649\n"
     ]
    }
   ],
   "source": [
    "for name, classifier in ensem.items():\n",
    "    pipe_en = Pipeline(steps=[\n",
    "        ('classifier', classifier)\n",
    "    ])\n",
    "    pipe_en.fit(X_train, y_train)\n",
    "    y_predicted=pipe_en.predict_proba(X_test)\n",
    "    print(name,'ROC SCORE', roc_auc_score(y_test, y_predicted[:, 1]))"
   ]
  },
  {
   "cell_type": "markdown",
   "metadata": {},
   "source": [
    "## The accuracy might change depending on train test split so we will try cross validation "
   ]
  },
  {
   "cell_type": "code",
   "execution_count": 13,
   "metadata": {},
   "outputs": [],
   "source": [
    "from sklearn.model_selection import StratifiedKFold\n",
    "from sklearn.model_selection import KFold\n",
    "from sklearn.model_selection import cross_val_score"
   ]
  },
  {
   "cell_type": "code",
   "execution_count": 48,
   "metadata": {},
   "outputs": [],
   "source": [
    "models = {\n",
    "    'GaussianNB' : GaussianNB(),\n",
    "    'LogisticRegression' : LogisticRegression(max_iter=200 ),\n",
    "    'RandomForestClassifier' : RandomForestClassifier(),\n",
    "    'GradientBoostingClassifier': GradientBoostingClassifier(),\n",
    "    'LGBMClassifier' : LGBMClassifier(),\n",
    "    'CatBoostClassifier' : CatBoostClassifier(verbose=False),\n",
    "}"
   ]
  },
  {
   "cell_type": "code",
   "execution_count": 49,
   "metadata": {},
   "outputs": [
    {
     "name": "stdout",
     "output_type": "stream",
     "text": [
      "GaussianNB: 0.957394 (0.038090)\n"
     ]
    },
    {
     "name": "stderr",
     "output_type": "stream",
     "text": [
      "C:\\Users\\egadi\\anaconda3\\lib\\site-packages\\sklearn\\linear_model\\_logistic.py:763: ConvergenceWarning: lbfgs failed to converge (status=1):\n",
      "STOP: TOTAL NO. of ITERATIONS REACHED LIMIT.\n",
      "\n",
      "Increase the number of iterations (max_iter) or scale the data as shown in:\n",
      "    https://scikit-learn.org/stable/modules/preprocessing.html\n",
      "Please also refer to the documentation for alternative solver options:\n",
      "    https://scikit-learn.org/stable/modules/linear_model.html#logistic-regression\n",
      "  n_iter_i = _check_optimize_result(\n"
     ]
    },
    {
     "name": "stdout",
     "output_type": "stream",
     "text": [
      "LogisticRegression: 0.947014 (0.067708)\n",
      "RandomForestClassifier: 0.973531 (0.028196)\n",
      "GradientBoostingClassifier: 0.954201 (0.053151)\n",
      "LGBMClassifier: 0.976539 (0.016713)\n",
      "CatBoostClassifier: 0.978341 (0.017686)\n"
     ]
    }
   ],
   "source": [
    "results = []\n",
    "names = []\n",
    "\n",
    "for name, model in models.items():\n",
    "    skfold = StratifiedKFold(n_splits=10)\n",
    "    cv_results = cross_val_score(model, X_und, y_und, cv=skfold, scoring='roc_auc')\n",
    "    results.append(cv_results)\n",
    "    names.append(name)\n",
    "    msg = '%s: %f (%f)' % (name, cv_results.mean(), cv_results.std())\n",
    "    print(msg)"
   ]
  },
  {
   "cell_type": "code",
   "execution_count": null,
   "metadata": {},
   "outputs": [],
   "source": []
  },
  {
   "cell_type": "code",
   "execution_count": null,
   "metadata": {},
   "outputs": [],
   "source": []
  },
  {
   "cell_type": "code",
   "execution_count": null,
   "metadata": {},
   "outputs": [],
   "source": []
  },
  {
   "cell_type": "code",
   "execution_count": 16,
   "metadata": {},
   "outputs": [],
   "source": [
    "from sklearn.manifold import TSNE\n",
    "from sklearn.decomposition import PCA"
   ]
  },
  {
   "cell_type": "markdown",
   "metadata": {},
   "source": [
    "## In the EDA notebook we saw that dimensionality reduction techniques were useful. Let's try predicting on them"
   ]
  },
  {
   "cell_type": "code",
   "execution_count": 17,
   "metadata": {},
   "outputs": [],
   "source": [
    "X_new = df_und[['V12', 'V14', 'V10', 'V11', 'V17']]\n",
    "y_new = df_und.iloc[:, -1]"
   ]
  },
  {
   "cell_type": "code",
   "execution_count": 18,
   "metadata": {},
   "outputs": [
    {
     "name": "stdout",
     "output_type": "stream",
     "text": [
      "GaussianNB: 0.959539 (0.032323)\n"
     ]
    },
    {
     "name": "stderr",
     "output_type": "stream",
     "text": [
      "C:\\Users\\egadi\\anaconda3\\lib\\site-packages\\sklearn\\linear_model\\_logistic.py:763: ConvergenceWarning: lbfgs failed to converge (status=1):\n",
      "STOP: TOTAL NO. of ITERATIONS REACHED LIMIT.\n",
      "\n",
      "Increase the number of iterations (max_iter) or scale the data as shown in:\n",
      "    https://scikit-learn.org/stable/modules/preprocessing.html\n",
      "Please also refer to the documentation for alternative solver options:\n",
      "    https://scikit-learn.org/stable/modules/linear_model.html#logistic-regression\n",
      "  n_iter_i = _check_optimize_result(\n"
     ]
    },
    {
     "name": "stdout",
     "output_type": "stream",
     "text": [
      "LogisticRegression: 0.955950 (0.026540)\n",
      "RandomForestClassifier: 0.957468 (0.035475)\n",
      "GradientBoostingClassifier: 0.948928 (0.036886)\n",
      "LGBMClassifier: 0.952370 (0.031205)\n",
      "CatBoostClassifier: 0.955455 (0.028704)\n"
     ]
    }
   ],
   "source": [
    "results = []\n",
    "names = []\n",
    "\n",
    "for name, model in models.items():\n",
    "    skfold = StratifiedKFold(n_splits=10)\n",
    "    pipeline = Pipeline(steps=[\n",
    "        ('dim_red', PCA()),\n",
    "        ('classifier', model)\n",
    "    ])\n",
    "    pipeline.fit(X_train, y_train)\n",
    "    cv_results = cross_val_score(pipeline, X_new, y_new, cv=skfold, scoring='roc_auc')\n",
    "    results.append(cv_results)\n",
    "    names.append(name)\n",
    "    msg = '%s: %f (%f)' % (name, cv_results.mean(), cv_results.std())\n",
    "    print(msg)"
   ]
  },
  {
   "cell_type": "code",
   "execution_count": 19,
   "metadata": {},
   "outputs": [
    {
     "name": "stdout",
     "output_type": "stream",
     "text": [
      "GaussianNB: 0.959539 (0.032323)\n"
     ]
    },
    {
     "name": "stderr",
     "output_type": "stream",
     "text": [
      "C:\\Users\\egadi\\anaconda3\\lib\\site-packages\\sklearn\\linear_model\\_logistic.py:763: ConvergenceWarning: lbfgs failed to converge (status=1):\n",
      "STOP: TOTAL NO. of ITERATIONS REACHED LIMIT.\n",
      "\n",
      "Increase the number of iterations (max_iter) or scale the data as shown in:\n",
      "    https://scikit-learn.org/stable/modules/preprocessing.html\n",
      "Please also refer to the documentation for alternative solver options:\n",
      "    https://scikit-learn.org/stable/modules/linear_model.html#logistic-regression\n",
      "  n_iter_i = _check_optimize_result(\n"
     ]
    },
    {
     "name": "stdout",
     "output_type": "stream",
     "text": [
      "LogisticRegression: 0.955950 (0.026540)\n",
      "RandomForestClassifier: 0.958044 (0.034374)\n",
      "GradientBoostingClassifier: 0.949633 (0.037050)\n",
      "LGBMClassifier: 0.952370 (0.031205)\n",
      "CatBoostClassifier: 0.955455 (0.028704)\n"
     ]
    }
   ],
   "source": [
    "results = []\n",
    "names = []\n",
    "\n",
    "for name, model in models.items():\n",
    "    skfold = StratifiedKFold(n_splits=10)\n",
    "    pipeline = Pipeline(steps=[\n",
    "        ('dim_red', PCA()),\n",
    "        ('classifier', model)\n",
    "    ])\n",
    "    pipeline.fit(X_train, y_train)\n",
    "    cv_results = cross_val_score(pipeline, X_new, y_new, cv=skfold, scoring='roc_auc')\n",
    "    results.append(cv_results)\n",
    "    names.append(name)\n",
    "    msg = '%s: %f (%f)' % (name, cv_results.mean(), cv_results.std())\n",
    "    print(msg)"
   ]
  },
  {
   "cell_type": "code",
   "execution_count": null,
   "metadata": {},
   "outputs": [],
   "source": []
  },
  {
   "cell_type": "code",
   "execution_count": null,
   "metadata": {},
   "outputs": [],
   "source": []
  },
  {
   "cell_type": "markdown",
   "metadata": {},
   "source": [
    "### Let's use Neural Networks "
   ]
  },
  {
   "cell_type": "code",
   "execution_count": 21,
   "metadata": {},
   "outputs": [],
   "source": [
    "from sklearn.neural_network import MLPClassifier\n",
    "from sklearn.metrics import confusion_matrix"
   ]
  },
  {
   "cell_type": "code",
   "execution_count": 22,
   "metadata": {},
   "outputs": [
    {
     "name": "stdout",
     "output_type": "stream",
     "text": [
      "0.9266813827571845\n",
      "0.9344856309870886\n",
      "0.922018325697626\n",
      "0.9225968346522283\n",
      "0.9110691378592254\n",
      "0.9207705122865473\n",
      "0.9278184089962516\n",
      "0.9337392753019575\n",
      "0.9313377759266972\n",
      "0.9321424406497293\n"
     ]
    }
   ],
   "source": [
    "for _ in range(10): \n",
    "    X_train, X_test, y_train, y_test = train_test_split(X_und, y_und)\n",
    "    skfold = StratifiedKFold(n_splits=10)\n",
    "    model = MLPClassifier(solver='lbfgs', hidden_layer_sizes=(100,100, 100))\n",
    "    cv_results = cross_val_score(model, X_new, y_new, cv=skfold, scoring='roc_auc')\n",
    "    print(np.mean(cv_results))"
   ]
  },
  {
   "cell_type": "code",
   "execution_count": 23,
   "metadata": {
    "scrolled": false
   },
   "outputs": [
    {
     "name": "stderr",
     "output_type": "stream",
     "text": [
      "C:\\Users\\egadi\\anaconda3\\lib\\site-packages\\sklearn\\neural_network\\_multilayer_perceptron.py:500: ConvergenceWarning: lbfgs failed to converge (status=2):\n",
      "ABNORMAL_TERMINATION_IN_LNSRCH.\n",
      "\n",
      "Increase the number of iterations (max_iter) or scale the data as shown in:\n",
      "    https://scikit-learn.org/stable/modules/preprocessing.html\n",
      "  self.n_iter_ = _check_optimize_result(\"lbfgs\", opt_res, self.max_iter)\n"
     ]
    },
    {
     "data": {
      "text/plain": [
       "MLPClassifier(hidden_layer_sizes=(100, 100, 100), random_state=2,\n",
       "              solver='lbfgs')"
      ]
     },
     "execution_count": 23,
     "metadata": {},
     "output_type": "execute_result"
    }
   ],
   "source": [
    "mlp_classifier = MLPClassifier(solver='lbfgs', hidden_layer_sizes=(100,100, 100), random_state=2)\n",
    "mlp_classifier.fit(X_train, y_train)"
   ]
  },
  {
   "cell_type": "code",
   "execution_count": 29,
   "metadata": {},
   "outputs": [
    {
     "data": {
      "text/plain": [
       "(246, 30)"
      ]
     },
     "execution_count": 29,
     "metadata": {},
     "output_type": "execute_result"
    }
   ],
   "source": [
    "X_test.shape"
   ]
  },
  {
   "cell_type": "code",
   "execution_count": 52,
   "metadata": {},
   "outputs": [
    {
     "data": {
      "text/plain": [
       "(246, 2)"
      ]
     },
     "execution_count": 52,
     "metadata": {},
     "output_type": "execute_result"
    }
   ],
   "source": [
    "mlp_classifier.predict_proba(X_test).shape"
   ]
  },
  {
   "cell_type": "code",
   "execution_count": 53,
   "metadata": {},
   "outputs": [
    {
     "data": {
      "text/plain": [
       "0.5081967213114754"
      ]
     },
     "execution_count": 53,
     "metadata": {},
     "output_type": "execute_result"
    }
   ],
   "source": [
    "roc_auc_score(y_test, mlp_classifier.predict_proba(X_test)[:, 1])"
   ]
  },
  {
   "cell_type": "code",
   "execution_count": 24,
   "metadata": {},
   "outputs": [],
   "source": [
    "#predictions\n",
    "y_pred_mlp = mlp_classifier.predict(X_test)"
   ]
  },
  {
   "cell_type": "code",
   "execution_count": 25,
   "metadata": {},
   "outputs": [
    {
     "data": {
      "image/png": "[encoded data removed]",
      "text/plain": [
       "<Figure size 432x288 with 1 Axes>"
      ]
     },
     "metadata": {
      "needs_background": "light"
     },
     "output_type": "display_data"
    }
   ],
   "source": [
    "#CM matrix\n",
    "matrix_mlp = confusion_matrix(y_test, y_pred_mlp)\n",
    "cm_mlp = pd.DataFrame(matrix_mlp, index=['not_fraud', 'fraud'], columns=['not_fraud', 'fraud'])\n",
    "\n",
    "sns.heatmap(cm_mlp, annot=True, cbar=None, cmap=\"Blues\", fmt = 'g')\n",
    "plt.title(\"Confusion Matrix MLP\"), plt.tight_layout()\n",
    "plt.ylabel(\"True Class\"), plt.xlabel(\"Predicted Class\")\n",
    "plt.show()"
   ]
  },
  {
   "cell_type": "code",
   "execution_count": null,
   "metadata": {},
   "outputs": [],
   "source": []
  },
  {
   "cell_type": "code",
   "execution_count": null,
   "metadata": {},
   "outputs": [],
   "source": []
  },
  {
   "cell_type": "markdown",
   "metadata": {},
   "source": [
    "## Now try neural networks using tensorflow"
   ]
  },
  {
   "cell_type": "code",
   "execution_count": 77,
   "metadata": {},
   "outputs": [],
   "source": [
    "import tensorflow as tf\n",
    "from tensorflow import keras\n",
    "from tensorflow.keras import layers\n",
    "from tensorflow.keras.layers import Dropout\n",
    "from tensorflow.keras.models import Sequential\n",
    "from tensorflow.keras.layers import Dense\n",
    "from tensorflow.keras.layers import BatchNormalization\n",
    "from sklearn import metrics"
   ]
  },
  {
   "cell_type": "code",
   "execution_count": 60,
   "metadata": {},
   "outputs": [],
   "source": [
    "model = Sequential()\n",
    "model.add(Dense(32, input_shape=(29,), activation='relu')),\n",
    "model.add(Dropout(0.2)),\n",
    "model.add(Dense(16, activation='relu')),\n",
    "model.add(Dropout(0.2)),\n",
    "model.add(Dense(8, activation='relu')),\n",
    "model.add(Dropout(0.2)),\n",
    "model.add(Dense(4, activation='relu')),\n",
    "model.add(Dropout(0.2)),\n",
    "model.add(Dense(1, activation='sigmoid'))"
   ]
  },
  {
   "cell_type": "code",
   "execution_count": 61,
   "metadata": {},
   "outputs": [],
   "source": [
    "opt = tf.keras.optimizers.Adam(learning_rate=0.001) #optimizer\n",
    "\n",
    "model.compile(optimizer=opt, loss=tf.keras.losses.BinaryCrossentropy(), metrics=['accuracy']) #metrics\n"
   ]
  },
  {
   "cell_type": "code",
   "execution_count": 62,
   "metadata": {},
   "outputs": [],
   "source": [
    "earlystopper = tf.keras.callbacks.EarlyStopping(monitor='val_accuracy', min_delta=0, patience=15, verbose=1,mode='auto', \n",
    "                                                baseline=None, restore_best_weights=False)"
   ]
  },
  {
   "cell_type": "code",
   "execution_count": 63,
   "metadata": {},
   "outputs": [],
   "source": [
    "history = model.fit(X_train.values, y_train.values, epochs = 6, batch_size=5, validation_split = 0.15, verbose = 0,\n",
    "                    callbacks = [earlystopper])\n",
    "history_dict = history.history"
   ]
  },
  {
   "cell_type": "code",
   "execution_count": 64,
   "metadata": {},
   "outputs": [
    {
     "data": {
      "text/plain": [
       "Text(0.5, 0, 'Epochs')"
      ]
     },
     "execution_count": 64,
     "metadata": {},
     "output_type": "execute_result"
    },
    {
     "data": {
      "image/png": "[encoded data removed]",
      "text/plain": [
       "<Figure size 432x288 with 1 Axes>"
      ]
     },
     "metadata": {
      "needs_background": "light"
     },
     "output_type": "display_data"
    }
   ],
   "source": [
    "loss_values = history_dict['loss']\n",
    "val_loss_values=history_dict['val_loss']\n",
    "plt.plot(loss_values,'b',label='training loss')\n",
    "plt.plot(val_loss_values,'r',label='val training loss')\n",
    "plt.legend()\n",
    "plt.xlabel(\"Epochs\")"
   ]
  },
  {
   "cell_type": "code",
   "execution_count": 65,
   "metadata": {},
   "outputs": [
    {
     "data": {
      "text/plain": [
       "Text(0.5, 0, 'Epochs')"
      ]
     },
     "execution_count": 65,
     "metadata": {},
     "output_type": "execute_result"
    },
    {
     "data": {
      "image/png": "[encoded data removed]",
      "text/plain": [
       "<Figure size 432x288 with 1 Axes>"
      ]
     },
     "metadata": {
      "needs_background": "light"
     },
     "output_type": "display_data"
    }
   ],
   "source": [
    "accuracy_values = history_dict['accuracy']\n",
    "val_accuracy_values=history_dict['val_accuracy']\n",
    "plt.plot(val_accuracy_values,'-r',label='val_accuracy')\n",
    "plt.plot(accuracy_values,'-b',label='accuracy')\n",
    "plt.legend()\n",
    "plt.xlabel(\"Epochs\")"
   ]
  },
  {
   "cell_type": "code",
   "execution_count": 66,
   "metadata": {},
   "outputs": [
    {
     "name": "stderr",
     "output_type": "stream",
     "text": [
      "C:\\Users\\egadi\\anaconda3\\lib\\site-packages\\tensorflow\\python\\keras\\engine\\sequential.py:450: UserWarning: `model.predict_classes()` is deprecated and will be removed after 2021-01-01. Please use instead:* `np.argmax(model.predict(x), axis=-1)`,   if your model does multi-class classification   (e.g. if it uses a `softmax` last-layer activation).* `(model.predict(x) > 0.5).astype(\"int32\")`,   if your model does binary classification   (e.g. if it uses a `sigmoid` last-layer activation).\n",
      "  warnings.warn('`model.predict_classes()` is deprecated and '\n"
     ]
    }
   ],
   "source": [
    "y_pred_nn = model.predict_classes(X_test)\n"
   ]
  },
  {
   "cell_type": "code",
   "execution_count": 69,
   "metadata": {},
   "outputs": [
    {
     "name": "stdout",
     "output_type": "stream",
     "text": [
      "Accuracy Neural Net: 0.5121951219512195\n",
      "Precision Neural Net: 0.5121951219512195\n",
      "Recall Neural Net: 1.0\n",
      "F1 Score Neural Net: 0.6774193548387097\n"
     ]
    }
   ],
   "source": [
    "#scores\n",
    "print(\"Accuracy Neural Net:\",metrics.accuracy_score(y_test, y_pred_nn))\n",
    "print(\"Precision Neural Net:\",metrics.precision_score(y_test, y_pred_nn))\n",
    "print(\"Recall Neural Net:\",metrics.recall_score(y_test, y_pred_nn))\n",
    "print(\"F1 Score Neural Net:\",metrics.f1_score(y_test, y_pred_nn))"
   ]
  },
  {
   "cell_type": "code",
   "execution_count": 70,
   "metadata": {},
   "outputs": [
    {
     "data": {
      "image/png": "[encoded data removed]",
      "text/plain": [
       "<Figure size 432x288 with 1 Axes>"
      ]
     },
     "metadata": {
      "needs_background": "light"
     },
     "output_type": "display_data"
    }
   ],
   "source": [
    "#CM matrix\n",
    "matrix_nn = confusion_matrix(y_test, y_pred_nn)\n",
    "cm_nn = pd.DataFrame(matrix_nn, index=['not_fraud', 'fraud'], columns=['not_fraud', 'fraud'])\n",
    "\n",
    "sns.heatmap(cm_nn, annot=True, cbar=None, cmap=\"Blues\", fmt = 'g')\n",
    "plt.title(\"Confusion Matrix Neural Network\"), plt.tight_layout()\n",
    "plt.ylabel(\"True Class\"), plt.xlabel(\"Predicted Class\")\n",
    "plt.show()"
   ]
  },
  {
   "cell_type": "code",
   "execution_count": 73,
   "metadata": {},
   "outputs": [
    {
     "name": "stdout",
     "output_type": "stream",
     "text": [
      "AUC Neural Net:  0.5\n"
     ]
    },
    {
     "name": "stderr",
     "output_type": "stream",
     "text": [
      "C:\\Users\\egadi\\anaconda3\\lib\\site-packages\\tensorflow\\python\\keras\\engine\\sequential.py:425: UserWarning: `model.predict_proba()` is deprecated and will be removed after 2021-01-01. Please use `model.predict()` instead.\n",
      "  warnings.warn('`model.predict_proba()` is deprecated and '\n"
     ]
    }
   ],
   "source": [
    "#AUC\n",
    "y_pred_nn_proba = model.predict_proba(X_test)\n",
    "fpr_keras, tpr_keras, thresholds_keras = metrics.roc_curve(y_test,y_pred_nn_proba)\n",
    "auc_keras = metrics.auc(fpr_keras, tpr_keras)\n",
    "print('AUC Neural Net: ', auc_keras)"
   ]
  },
  {
   "cell_type": "code",
   "execution_count": null,
   "metadata": {},
   "outputs": [],
   "source": []
  },
  {
   "cell_type": "code",
   "execution_count": null,
   "metadata": {},
   "outputs": [],
   "source": []
  },
  {
   "cell_type": "code",
   "execution_count": 82,
   "metadata": {},
   "outputs": [],
   "source": [
    "from sklearn.preprocessing import StandardScaler\n",
    "from tensorflow.keras.callbacks import EarlyStopping\n"
   ]
  },
  {
   "cell_type": "markdown",
   "metadata": {},
   "source": [
    "## Before applying tensorflow lets scale the data"
   ]
  },
  {
   "cell_type": "code",
   "execution_count": 63,
   "metadata": {},
   "outputs": [],
   "source": [
    "X=df.drop(columns=[\"Class\"])\n",
    "y=df[\"Class\"]"
   ]
  },
  {
   "cell_type": "code",
   "execution_count": 71,
   "metadata": {},
   "outputs": [
    {
     "data": {
      "text/html": [
       "<div>\n",
       "<style scoped>\n",
       "    .dataframe tbody tr th:only-of-type {\n",
       "        vertical-align: middle;\n",
       "    }\n",
       "\n",
       "    .dataframe tbody tr th {\n",
       "        vertical-align: top;\n",
       "    }\n",
       "\n",
       "    .dataframe thead th {\n",
       "        text-align: right;\n",
       "    }\n",
       "</style>\n",
       "<table border=\"1\" class=\"dataframe\">\n",
       "  <thead>\n",
       "    <tr style=\"text-align: right;\">\n",
       "      <th></th>\n",
       "      <th>Time</th>\n",
       "      <th>V1</th>\n",
       "      <th>V2</th>\n",
       "      <th>V3</th>\n",
       "      <th>V4</th>\n",
       "      <th>V5</th>\n",
       "      <th>V6</th>\n",
       "      <th>V7</th>\n",
       "      <th>V8</th>\n",
       "      <th>V9</th>\n",
       "      <th>...</th>\n",
       "      <th>V20</th>\n",
       "      <th>V21</th>\n",
       "      <th>V22</th>\n",
       "      <th>V23</th>\n",
       "      <th>V24</th>\n",
       "      <th>V25</th>\n",
       "      <th>V26</th>\n",
       "      <th>V27</th>\n",
       "      <th>V28</th>\n",
       "      <th>Amount</th>\n",
       "    </tr>\n",
       "  </thead>\n",
       "  <tbody>\n",
       "    <tr>\n",
       "      <th>0</th>\n",
       "      <td>-1.996583</td>\n",
       "      <td>-0.694242</td>\n",
       "      <td>-0.044075</td>\n",
       "      <td>1.672773</td>\n",
       "      <td>0.973366</td>\n",
       "      <td>-0.245117</td>\n",
       "      <td>0.347068</td>\n",
       "      <td>0.193679</td>\n",
       "      <td>0.082637</td>\n",
       "      <td>0.331128</td>\n",
       "      <td>...</td>\n",
       "      <td>0.326118</td>\n",
       "      <td>-0.024923</td>\n",
       "      <td>0.382854</td>\n",
       "      <td>-0.176911</td>\n",
       "      <td>0.110507</td>\n",
       "      <td>0.246585</td>\n",
       "      <td>-0.392170</td>\n",
       "      <td>0.330892</td>\n",
       "      <td>-0.063781</td>\n",
       "      <td>0.244964</td>\n",
       "    </tr>\n",
       "    <tr>\n",
       "      <th>1</th>\n",
       "      <td>-1.996583</td>\n",
       "      <td>0.608496</td>\n",
       "      <td>0.161176</td>\n",
       "      <td>0.109797</td>\n",
       "      <td>0.316523</td>\n",
       "      <td>0.043483</td>\n",
       "      <td>-0.061820</td>\n",
       "      <td>-0.063700</td>\n",
       "      <td>0.071253</td>\n",
       "      <td>-0.232494</td>\n",
       "      <td>...</td>\n",
       "      <td>-0.089611</td>\n",
       "      <td>-0.307377</td>\n",
       "      <td>-0.880077</td>\n",
       "      <td>0.162201</td>\n",
       "      <td>-0.561131</td>\n",
       "      <td>0.320694</td>\n",
       "      <td>0.261069</td>\n",
       "      <td>-0.022256</td>\n",
       "      <td>0.044608</td>\n",
       "      <td>-0.342475</td>\n",
       "    </tr>\n",
       "    <tr>\n",
       "      <th>2</th>\n",
       "      <td>-1.996562</td>\n",
       "      <td>-0.693500</td>\n",
       "      <td>-0.811578</td>\n",
       "      <td>1.169468</td>\n",
       "      <td>0.268231</td>\n",
       "      <td>-0.364572</td>\n",
       "      <td>1.351454</td>\n",
       "      <td>0.639776</td>\n",
       "      <td>0.207373</td>\n",
       "      <td>-1.378675</td>\n",
       "      <td>...</td>\n",
       "      <td>0.680975</td>\n",
       "      <td>0.337632</td>\n",
       "      <td>1.063358</td>\n",
       "      <td>1.456320</td>\n",
       "      <td>-1.138092</td>\n",
       "      <td>-0.628537</td>\n",
       "      <td>-0.288447</td>\n",
       "      <td>-0.137137</td>\n",
       "      <td>-0.181021</td>\n",
       "      <td>1.160686</td>\n",
       "    </tr>\n",
       "    <tr>\n",
       "      <th>3</th>\n",
       "      <td>-1.996562</td>\n",
       "      <td>-0.493325</td>\n",
       "      <td>-0.112169</td>\n",
       "      <td>1.182516</td>\n",
       "      <td>-0.609727</td>\n",
       "      <td>-0.007469</td>\n",
       "      <td>0.936150</td>\n",
       "      <td>0.192071</td>\n",
       "      <td>0.316018</td>\n",
       "      <td>-1.262503</td>\n",
       "      <td>...</td>\n",
       "      <td>-0.269855</td>\n",
       "      <td>-0.147443</td>\n",
       "      <td>0.007267</td>\n",
       "      <td>-0.304777</td>\n",
       "      <td>-1.941027</td>\n",
       "      <td>1.241904</td>\n",
       "      <td>-0.460217</td>\n",
       "      <td>0.155396</td>\n",
       "      <td>0.186189</td>\n",
       "      <td>0.140534</td>\n",
       "    </tr>\n",
       "    <tr>\n",
       "      <th>4</th>\n",
       "      <td>-1.996541</td>\n",
       "      <td>-0.591330</td>\n",
       "      <td>0.531541</td>\n",
       "      <td>1.021412</td>\n",
       "      <td>0.284655</td>\n",
       "      <td>-0.295015</td>\n",
       "      <td>0.071999</td>\n",
       "      <td>0.479302</td>\n",
       "      <td>-0.226510</td>\n",
       "      <td>0.744326</td>\n",
       "      <td>...</td>\n",
       "      <td>0.529939</td>\n",
       "      <td>-0.012839</td>\n",
       "      <td>1.100011</td>\n",
       "      <td>-0.220123</td>\n",
       "      <td>0.233250</td>\n",
       "      <td>-0.395202</td>\n",
       "      <td>1.041611</td>\n",
       "      <td>0.543620</td>\n",
       "      <td>0.651816</td>\n",
       "      <td>-0.073403</td>\n",
       "    </tr>\n",
       "  </tbody>\n",
       "</table>\n",
       "<p>5 rows × 30 columns</p>\n",
       "</div>"
      ],
      "text/plain": [
       "       Time        V1        V2        V3        V4        V5        V6  \\\n",
       "0 -1.996583 -0.694242 -0.044075  1.672773  0.973366 -0.245117  0.347068   \n",
       "1 -1.996583  0.608496  0.161176  0.109797  0.316523  0.043483 -0.061820   \n",
       "2 -1.996562 -0.693500 -0.811578  1.169468  0.268231 -0.364572  1.351454   \n",
       "3 -1.996562 -0.493325 -0.112169  1.182516 -0.609727 -0.007469  0.936150   \n",
       "4 -1.996541 -0.591330  0.531541  1.021412  0.284655 -0.295015  0.071999   \n",
       "\n",
       "         V7        V8        V9  ...       V20       V21       V22       V23  \\\n",
       "0  0.193679  0.082637  0.331128  ...  0.326118 -0.024923  0.382854 -0.176911   \n",
       "1 -0.063700  0.071253 -0.232494  ... -0.089611 -0.307377 -0.880077  0.162201   \n",
       "2  0.639776  0.207373 -1.378675  ...  0.680975  0.337632  1.063358  1.456320   \n",
       "3  0.192071  0.316018 -1.262503  ... -0.269855 -0.147443  0.007267 -0.304777   \n",
       "4  0.479302 -0.226510  0.744326  ...  0.529939 -0.012839  1.100011 -0.220123   \n",
       "\n",
       "        V24       V25       V26       V27       V28    Amount  \n",
       "0  0.110507  0.246585 -0.392170  0.330892 -0.063781  0.244964  \n",
       "1 -0.561131  0.320694  0.261069 -0.022256  0.044608 -0.342475  \n",
       "2 -1.138092 -0.628537 -0.288447 -0.137137 -0.181021  1.160686  \n",
       "3 -1.941027  1.241904 -0.460217  0.155396  0.186189  0.140534  \n",
       "4  0.233250 -0.395202  1.041611  0.543620  0.651816 -0.073403  \n",
       "\n",
       "[5 rows x 30 columns]"
      ]
     },
     "execution_count": 71,
     "metadata": {},
     "output_type": "execute_result"
    }
   ],
   "source": [
    "names=X.columns\n",
    "scaled_df = preprocessing.scale(X)\n",
    "scaled_df = pd.DataFrame(scaled_df,columns=names)\n",
    "scaled_df.head(5)"
   ]
  },
  {
   "cell_type": "code",
   "execution_count": null,
   "metadata": {},
   "outputs": [],
   "source": []
  },
  {
   "cell_type": "code",
   "execution_count": null,
   "metadata": {},
   "outputs": [],
   "source": []
  },
  {
   "cell_type": "code",
   "execution_count": 72,
   "metadata": {},
   "outputs": [],
   "source": [
    "under = RandomUnderSampler(sampling_strategy=0.5)\n",
    "X_under, y_under = und.fit_resample(scaled_df, y)\n",
    "X_train, X_test, y_train, y_test = train_test_split(X_under, y_under)"
   ]
  },
  {
   "cell_type": "code",
   "execution_count": 73,
   "metadata": {},
   "outputs": [
    {
     "data": {
      "text/plain": [
       "(984, 30)"
      ]
     },
     "execution_count": 73,
     "metadata": {},
     "output_type": "execute_result"
    }
   ],
   "source": [
    "X_under.shape"
   ]
  },
  {
   "cell_type": "code",
   "execution_count": 104,
   "metadata": {},
   "outputs": [
    {
     "name": "stdout",
     "output_type": "stream",
     "text": [
      "0.9853261947253618\n"
     ]
    }
   ],
   "source": [
    "clf = LogisticRegression(solver = 'lbfgs')\n",
    "clf.fit(X_train, y_train)\n",
    "test_pred = clf.predict_proba(X_test)[:, 1]\n",
    "print(roc_auc_score(y_test, test_pred))"
   ]
  },
  {
   "cell_type": "code",
   "execution_count": null,
   "metadata": {},
   "outputs": [],
   "source": []
  },
  {
   "cell_type": "code",
   "execution_count": 92,
   "metadata": {},
   "outputs": [],
   "source": [
    "model = Sequential()\n",
    "model.add(Dense(X_train.shape[1], activation = 'relu', input_dim = X_train.shape[1]))\n",
    "model.add(BatchNormalization())\n",
    "\n",
    "model.add(Dense(64, activation = 'relu'))\n",
    "model.add(BatchNormalization())\n",
    "model.add(Dropout(0.5))\n",
    "\n",
    "model.add(Dense(64, activation = 'relu'))\n",
    "model.add(BatchNormalization())\n",
    "model.add(Dropout(0.5))\n",
    "\n",
    "model.add(Dense(64, activation = 'relu'))\n",
    "model.add(BatchNormalization())\n",
    "model.add(Dropout(0.5))\n",
    "\n",
    "model.add(Dense(1, activation = 'sigmoid'))"
   ]
  },
  {
   "cell_type": "code",
   "execution_count": 93,
   "metadata": {},
   "outputs": [],
   "source": [
    "optimizer = keras.optimizers.Adam(lr=0.0001)\n",
    "model.compile(optimizer = optimizer, loss = 'binary_crossentropy')"
   ]
  },
  {
   "cell_type": "code",
   "execution_count": 94,
   "metadata": {},
   "outputs": [],
   "source": [
    "early_stop = EarlyStopping(monitor='val_loss', mode='min', verbose=1, patience = 10)"
   ]
  },
  {
   "cell_type": "code",
   "execution_count": 99,
   "metadata": {
    "scrolled": true
   },
   "outputs": [
    {
     "name": "stdout",
     "output_type": "stream",
     "text": [
      "Epoch 1/200\n",
      "3/3 [==============================] - 0s 72ms/step - loss: 0.2638 - val_loss: 0.2461\n",
      "Epoch 2/200\n",
      "3/3 [==============================] - 0s 37ms/step - loss: 0.2616 - val_loss: 0.2459\n",
      "Epoch 3/200\n",
      "3/3 [==============================] - 0s 45ms/step - loss: 0.3001 - val_loss: 0.2456\n",
      "Epoch 4/200\n",
      "3/3 [==============================] - 0s 35ms/step - loss: 0.2835 - val_loss: 0.2455\n",
      "Epoch 5/200\n",
      "3/3 [==============================] - 0s 33ms/step - loss: 0.2955 - val_loss: 0.2452\n",
      "Epoch 6/200\n",
      "3/3 [==============================] - 0s 32ms/step - loss: 0.2517 - val_loss: 0.2447\n",
      "Epoch 7/200\n",
      "3/3 [==============================] - 0s 35ms/step - loss: 0.2618 - val_loss: 0.2445\n",
      "Epoch 8/200\n",
      "3/3 [==============================] - 0s 30ms/step - loss: 0.2866 - val_loss: 0.2442\n",
      "Epoch 9/200\n",
      "3/3 [==============================] - 0s 32ms/step - loss: 0.2449 - val_loss: 0.2439\n",
      "Epoch 10/200\n",
      "3/3 [==============================] - 0s 34ms/step - loss: 0.2563 - val_loss: 0.2437\n",
      "Epoch 11/200\n",
      "3/3 [==============================] - 0s 31ms/step - loss: 0.2616 - val_loss: 0.2435\n",
      "Epoch 12/200\n",
      "3/3 [==============================] - 0s 37ms/step - loss: 0.2627 - val_loss: 0.2431\n",
      "Epoch 13/200\n",
      "3/3 [==============================] - 0s 45ms/step - loss: 0.2610 - val_loss: 0.2430\n",
      "Epoch 14/200\n",
      "3/3 [==============================] - 0s 35ms/step - loss: 0.2702 - val_loss: 0.2427\n",
      "Epoch 15/200\n",
      "3/3 [==============================] - 0s 32ms/step - loss: 0.2654 - val_loss: 0.2426\n",
      "Epoch 16/200\n",
      "3/3 [==============================] - 0s 33ms/step - loss: 0.2396 - val_loss: 0.2425\n",
      "Epoch 17/200\n",
      "3/3 [==============================] - 0s 30ms/step - loss: 0.2431 - val_loss: 0.2423\n",
      "Epoch 18/200\n",
      "3/3 [==============================] - 0s 32ms/step - loss: 0.2696 - val_loss: 0.2421\n",
      "Epoch 19/200\n",
      "3/3 [==============================] - 0s 32ms/step - loss: 0.2868 - val_loss: 0.2419\n",
      "Epoch 20/200\n",
      "3/3 [==============================] - 0s 34ms/step - loss: 0.2434 - val_loss: 0.2417\n",
      "Epoch 21/200\n",
      "3/3 [==============================] - 0s 29ms/step - loss: 0.2359 - val_loss: 0.2416\n",
      "Epoch 22/200\n",
      "3/3 [==============================] - 0s 35ms/step - loss: 0.2288 - val_loss: 0.2414\n",
      "Epoch 23/200\n",
      "3/3 [==============================] - 0s 30ms/step - loss: 0.2785 - val_loss: 0.2413\n",
      "Epoch 24/200\n",
      "3/3 [==============================] - 0s 30ms/step - loss: 0.2509 - val_loss: 0.2412\n",
      "Epoch 25/200\n",
      "3/3 [==============================] - 0s 30ms/step - loss: 0.2473 - val_loss: 0.2408\n",
      "Epoch 26/200\n",
      "3/3 [==============================] - 0s 31ms/step - loss: 0.2587 - val_loss: 0.2406\n",
      "Epoch 27/200\n",
      "3/3 [==============================] - 0s 29ms/step - loss: 0.2500 - val_loss: 0.2404\n",
      "Epoch 28/200\n",
      "3/3 [==============================] - 0s 35ms/step - loss: 0.2302 - val_loss: 0.2400\n",
      "Epoch 29/200\n",
      "3/3 [==============================] - 0s 30ms/step - loss: 0.2550 - val_loss: 0.2398\n",
      "Epoch 30/200\n",
      "3/3 [==============================] - 0s 32ms/step - loss: 0.2548 - val_loss: 0.2396\n",
      "Epoch 31/200\n",
      "3/3 [==============================] - 0s 32ms/step - loss: 0.2638 - val_loss: 0.2392\n",
      "Epoch 32/200\n",
      "3/3 [==============================] - 0s 33ms/step - loss: 0.2461 - val_loss: 0.2390\n",
      "Epoch 33/200\n",
      "3/3 [==============================] - 0s 31ms/step - loss: 0.2490 - val_loss: 0.2389\n",
      "Epoch 34/200\n",
      "3/3 [==============================] - 0s 31ms/step - loss: 0.2683 - val_loss: 0.2388\n",
      "Epoch 35/200\n",
      "3/3 [==============================] - 0s 29ms/step - loss: 0.2373 - val_loss: 0.2385\n",
      "Epoch 36/200\n",
      "3/3 [==============================] - 0s 29ms/step - loss: 0.2463 - val_loss: 0.2382\n",
      "Epoch 37/200\n",
      "3/3 [==============================] - 0s 32ms/step - loss: 0.2368 - val_loss: 0.2382\n",
      "Epoch 38/200\n",
      "3/3 [==============================] - 0s 30ms/step - loss: 0.2643 - val_loss: 0.2381\n",
      "Epoch 39/200\n",
      "3/3 [==============================] - 0s 33ms/step - loss: 0.2619 - val_loss: 0.2379\n",
      "Epoch 40/200\n",
      "3/3 [==============================] - 0s 29ms/step - loss: 0.2468 - val_loss: 0.2380\n",
      "Epoch 41/200\n",
      "3/3 [==============================] - 0s 31ms/step - loss: 0.2329 - val_loss: 0.2378\n",
      "Epoch 42/200\n",
      "3/3 [==============================] - 0s 29ms/step - loss: 0.2740 - val_loss: 0.2377\n",
      "Epoch 43/200\n",
      "3/3 [==============================] - 0s 32ms/step - loss: 0.2579 - val_loss: 0.2374\n",
      "Epoch 44/200\n",
      "3/3 [==============================] - 0s 31ms/step - loss: 0.2372 - val_loss: 0.2371\n",
      "Epoch 45/200\n",
      "3/3 [==============================] - 0s 32ms/step - loss: 0.2702 - val_loss: 0.2370\n",
      "Epoch 46/200\n",
      "3/3 [==============================] - 0s 40ms/step - loss: 0.2420 - val_loss: 0.2371\n",
      "Epoch 47/200\n",
      "3/3 [==============================] - 0s 37ms/step - loss: 0.2389 - val_loss: 0.2368\n",
      "Epoch 48/200\n",
      "3/3 [==============================] - 0s 42ms/step - loss: 0.2477 - val_loss: 0.2367\n",
      "Epoch 49/200\n",
      "3/3 [==============================] - 0s 37ms/step - loss: 0.2518 - val_loss: 0.2364\n",
      "Epoch 50/200\n",
      "3/3 [==============================] - 0s 37ms/step - loss: 0.2409 - val_loss: 0.2361\n",
      "Epoch 51/200\n",
      "3/3 [==============================] - 0s 40ms/step - loss: 0.2279 - val_loss: 0.2358\n",
      "Epoch 52/200\n",
      "3/3 [==============================] - 0s 38ms/step - loss: 0.2367 - val_loss: 0.2354\n",
      "Epoch 53/200\n",
      "3/3 [==============================] - 0s 41ms/step - loss: 0.2295 - val_loss: 0.2350\n",
      "Epoch 54/200\n",
      "3/3 [==============================] - 0s 41ms/step - loss: 0.2407 - val_loss: 0.2347\n",
      "Epoch 55/200\n",
      "3/3 [==============================] - 0s 40ms/step - loss: 0.2420 - val_loss: 0.2343\n",
      "Epoch 56/200\n",
      "3/3 [==============================] - 0s 38ms/step - loss: 0.2247 - val_loss: 0.2341\n",
      "Epoch 57/200\n",
      "3/3 [==============================] - 0s 42ms/step - loss: 0.2352 - val_loss: 0.2342\n",
      "Epoch 58/200\n",
      "3/3 [==============================] - 0s 35ms/step - loss: 0.2231 - val_loss: 0.2340\n",
      "Epoch 59/200\n",
      "3/3 [==============================] - 0s 40ms/step - loss: 0.2566 - val_loss: 0.2339\n",
      "Epoch 60/200\n",
      "3/3 [==============================] - 0s 40ms/step - loss: 0.2630 - val_loss: 0.2336\n",
      "Epoch 61/200\n",
      "3/3 [==============================] - 0s 38ms/step - loss: 0.2425 - val_loss: 0.2334\n",
      "Epoch 62/200\n",
      "3/3 [==============================] - 0s 34ms/step - loss: 0.1976 - val_loss: 0.2330\n",
      "Epoch 63/200\n",
      "3/3 [==============================] - 0s 32ms/step - loss: 0.2496 - val_loss: 0.2326\n",
      "Epoch 64/200\n",
      "3/3 [==============================] - 0s 32ms/step - loss: 0.2360 - val_loss: 0.2321\n",
      "Epoch 65/200\n",
      "3/3 [==============================] - 0s 29ms/step - loss: 0.2355 - val_loss: 0.2317\n",
      "Epoch 66/200\n",
      "3/3 [==============================] - 0s 30ms/step - loss: 0.2500 - val_loss: 0.2315\n",
      "Epoch 67/200\n",
      "3/3 [==============================] - 0s 30ms/step - loss: 0.2483 - val_loss: 0.2312\n",
      "Epoch 68/200\n",
      "3/3 [==============================] - 0s 33ms/step - loss: 0.2548 - val_loss: 0.2310\n",
      "Epoch 69/200\n",
      "3/3 [==============================] - 0s 30ms/step - loss: 0.2325 - val_loss: 0.2308\n",
      "Epoch 70/200\n",
      "3/3 [==============================] - 0s 32ms/step - loss: 0.2336 - val_loss: 0.2306\n",
      "Epoch 71/200\n",
      "3/3 [==============================] - 0s 36ms/step - loss: 0.2295 - val_loss: 0.2304\n",
      "Epoch 72/200\n",
      "3/3 [==============================] - 0s 33ms/step - loss: 0.2378 - val_loss: 0.2302\n",
      "Epoch 73/200\n",
      "3/3 [==============================] - 0s 33ms/step - loss: 0.2284 - val_loss: 0.2301\n",
      "Epoch 74/200\n",
      "3/3 [==============================] - 0s 30ms/step - loss: 0.2203 - val_loss: 0.2300\n",
      "Epoch 75/200\n",
      "3/3 [==============================] - 0s 31ms/step - loss: 0.2405 - val_loss: 0.2298\n",
      "Epoch 76/200\n",
      "3/3 [==============================] - 0s 30ms/step - loss: 0.2170 - val_loss: 0.2298\n",
      "Epoch 77/200\n",
      "3/3 [==============================] - 0s 30ms/step - loss: 0.2228 - val_loss: 0.2299\n",
      "Epoch 78/200\n",
      "3/3 [==============================] - 0s 31ms/step - loss: 0.2428 - val_loss: 0.2297\n",
      "Epoch 79/200\n",
      "3/3 [==============================] - 0s 32ms/step - loss: 0.2354 - val_loss: 0.2295\n",
      "Epoch 80/200\n",
      "3/3 [==============================] - 0s 33ms/step - loss: 0.2520 - val_loss: 0.2292\n",
      "Epoch 81/200\n",
      "3/3 [==============================] - 0s 41ms/step - loss: 0.2353 - val_loss: 0.2292\n",
      "Epoch 82/200\n",
      "3/3 [==============================] - 0s 42ms/step - loss: 0.2134 - val_loss: 0.2290\n",
      "Epoch 83/200\n",
      "3/3 [==============================] - 0s 44ms/step - loss: 0.2153 - val_loss: 0.2286\n"
     ]
    },
    {
     "name": "stdout",
     "output_type": "stream",
     "text": [
      "Epoch 84/200\n",
      "3/3 [==============================] - 0s 38ms/step - loss: 0.2487 - val_loss: 0.2283\n",
      "Epoch 85/200\n",
      "3/3 [==============================] - 0s 36ms/step - loss: 0.2189 - val_loss: 0.2280\n",
      "Epoch 86/200\n",
      "3/3 [==============================] - 0s 40ms/step - loss: 0.2286 - val_loss: 0.2277\n",
      "Epoch 87/200\n",
      "3/3 [==============================] - 0s 40ms/step - loss: 0.2188 - val_loss: 0.2275\n",
      "Epoch 88/200\n",
      "3/3 [==============================] - 0s 37ms/step - loss: 0.2123 - val_loss: 0.2272\n",
      "Epoch 89/200\n",
      "3/3 [==============================] - 0s 36ms/step - loss: 0.2382 - val_loss: 0.2268\n",
      "Epoch 90/200\n",
      "3/3 [==============================] - 0s 38ms/step - loss: 0.2265 - val_loss: 0.2267\n",
      "Epoch 91/200\n",
      "3/3 [==============================] - 0s 40ms/step - loss: 0.2247 - val_loss: 0.2263\n",
      "Epoch 92/200\n",
      "3/3 [==============================] - 0s 39ms/step - loss: 0.2277 - val_loss: 0.2262\n",
      "Epoch 93/200\n",
      "3/3 [==============================] - 0s 39ms/step - loss: 0.2269 - val_loss: 0.2261\n",
      "Epoch 94/200\n",
      "3/3 [==============================] - 0s 41ms/step - loss: 0.2389 - val_loss: 0.2261\n",
      "Epoch 95/200\n",
      "3/3 [==============================] - 0s 43ms/step - loss: 0.2224 - val_loss: 0.2260\n",
      "Epoch 96/200\n",
      "3/3 [==============================] - 0s 38ms/step - loss: 0.2231 - val_loss: 0.2260\n",
      "Epoch 97/200\n",
      "3/3 [==============================] - 0s 34ms/step - loss: 0.2403 - val_loss: 0.2258\n",
      "Epoch 98/200\n",
      "3/3 [==============================] - 0s 32ms/step - loss: 0.2381 - val_loss: 0.2256\n",
      "Epoch 99/200\n",
      "3/3 [==============================] - 0s 31ms/step - loss: 0.2390 - val_loss: 0.2254\n",
      "Epoch 100/200\n",
      "3/3 [==============================] - 0s 33ms/step - loss: 0.2074 - val_loss: 0.2252\n",
      "Epoch 101/200\n",
      "3/3 [==============================] - 0s 38ms/step - loss: 0.2190 - val_loss: 0.2249\n",
      "Epoch 102/200\n",
      "3/3 [==============================] - 0s 37ms/step - loss: 0.2203 - val_loss: 0.2247\n",
      "Epoch 103/200\n",
      "3/3 [==============================] - 0s 37ms/step - loss: 0.2354 - val_loss: 0.2245\n",
      "Epoch 104/200\n",
      "3/3 [==============================] - 0s 34ms/step - loss: 0.2226 - val_loss: 0.2244\n",
      "Epoch 105/200\n",
      "3/3 [==============================] - 0s 32ms/step - loss: 0.2087 - val_loss: 0.2243\n",
      "Epoch 106/200\n",
      "3/3 [==============================] - 0s 30ms/step - loss: 0.2045 - val_loss: 0.2240\n",
      "Epoch 107/200\n",
      "3/3 [==============================] - 0s 32ms/step - loss: 0.2123 - val_loss: 0.2239\n",
      "Epoch 108/200\n",
      "3/3 [==============================] - 0s 32ms/step - loss: 0.1884 - val_loss: 0.2237\n",
      "Epoch 109/200\n",
      "3/3 [==============================] - 0s 31ms/step - loss: 0.2128 - val_loss: 0.2235\n",
      "Epoch 110/200\n",
      "3/3 [==============================] - 0s 36ms/step - loss: 0.2216 - val_loss: 0.2234\n",
      "Epoch 111/200\n",
      "3/3 [==============================] - 0s 37ms/step - loss: 0.2234 - val_loss: 0.2232\n",
      "Epoch 112/200\n",
      "3/3 [==============================] - 0s 36ms/step - loss: 0.2099 - val_loss: 0.2230\n",
      "Epoch 113/200\n",
      "3/3 [==============================] - 0s 30ms/step - loss: 0.2062 - val_loss: 0.2229\n",
      "Epoch 114/200\n",
      "3/3 [==============================] - 0s 30ms/step - loss: 0.2149 - val_loss: 0.2226\n",
      "Epoch 115/200\n",
      "3/3 [==============================] - 0s 36ms/step - loss: 0.2196 - val_loss: 0.2225\n",
      "Epoch 116/200\n",
      "3/3 [==============================] - 0s 39ms/step - loss: 0.2448 - val_loss: 0.2224\n",
      "Epoch 117/200\n",
      "3/3 [==============================] - 0s 52ms/step - loss: 0.2187 - val_loss: 0.2222\n",
      "Epoch 118/200\n",
      "3/3 [==============================] - 0s 35ms/step - loss: 0.2003 - val_loss: 0.2219\n",
      "Epoch 119/200\n",
      "3/3 [==============================] - 0s 31ms/step - loss: 0.2268 - val_loss: 0.2218\n",
      "Epoch 120/200\n",
      "3/3 [==============================] - 0s 30ms/step - loss: 0.2218 - val_loss: 0.2215\n",
      "Epoch 121/200\n",
      "3/3 [==============================] - 0s 31ms/step - loss: 0.2075 - val_loss: 0.2213\n",
      "Epoch 122/200\n",
      "3/3 [==============================] - 0s 33ms/step - loss: 0.2362 - val_loss: 0.2213\n",
      "Epoch 123/200\n",
      "3/3 [==============================] - 0s 32ms/step - loss: 0.2319 - val_loss: 0.2212\n",
      "Epoch 124/200\n",
      "3/3 [==============================] - 0s 31ms/step - loss: 0.2140 - val_loss: 0.2208\n",
      "Epoch 125/200\n",
      "3/3 [==============================] - 0s 33ms/step - loss: 0.2161 - val_loss: 0.2205\n",
      "Epoch 126/200\n",
      "3/3 [==============================] - 0s 30ms/step - loss: 0.2203 - val_loss: 0.2203\n",
      "Epoch 127/200\n",
      "3/3 [==============================] - 0s 30ms/step - loss: 0.2119 - val_loss: 0.2201\n",
      "Epoch 128/200\n",
      "3/3 [==============================] - 0s 30ms/step - loss: 0.2249 - val_loss: 0.2200\n",
      "Epoch 129/200\n",
      "3/3 [==============================] - 0s 30ms/step - loss: 0.1973 - val_loss: 0.2199\n",
      "Epoch 130/200\n",
      "3/3 [==============================] - 0s 30ms/step - loss: 0.1889 - val_loss: 0.2198\n",
      "Epoch 131/200\n",
      "3/3 [==============================] - 0s 33ms/step - loss: 0.2014 - val_loss: 0.2198\n",
      "Epoch 132/200\n",
      "3/3 [==============================] - 0s 31ms/step - loss: 0.1970 - val_loss: 0.2196\n",
      "Epoch 133/200\n",
      "3/3 [==============================] - 0s 32ms/step - loss: 0.1940 - val_loss: 0.2193\n",
      "Epoch 134/200\n",
      "3/3 [==============================] - 0s 33ms/step - loss: 0.2058 - val_loss: 0.2190\n",
      "Epoch 135/200\n",
      "3/3 [==============================] - 0s 30ms/step - loss: 0.1979 - val_loss: 0.2189\n",
      "Epoch 136/200\n",
      "3/3 [==============================] - 0s 32ms/step - loss: 0.2134 - val_loss: 0.2187\n",
      "Epoch 137/200\n",
      "3/3 [==============================] - 0s 31ms/step - loss: 0.2194 - val_loss: 0.2186\n",
      "Epoch 138/200\n",
      "3/3 [==============================] - 0s 32ms/step - loss: 0.1962 - val_loss: 0.2185\n",
      "Epoch 139/200\n",
      "3/3 [==============================] - 0s 31ms/step - loss: 0.2148 - val_loss: 0.2183\n",
      "Epoch 140/200\n",
      "3/3 [==============================] - 0s 30ms/step - loss: 0.2262 - val_loss: 0.2181\n",
      "Epoch 141/200\n",
      "3/3 [==============================] - 0s 30ms/step - loss: 0.2096 - val_loss: 0.2179\n",
      "Epoch 142/200\n",
      "3/3 [==============================] - 0s 30ms/step - loss: 0.2120 - val_loss: 0.2179\n",
      "Epoch 143/200\n",
      "3/3 [==============================] - 0s 33ms/step - loss: 0.1955 - val_loss: 0.2178\n",
      "Epoch 144/200\n",
      "3/3 [==============================] - 0s 41ms/step - loss: 0.1974 - val_loss: 0.2177\n",
      "Epoch 145/200\n",
      "3/3 [==============================] - 0s 36ms/step - loss: 0.1858 - val_loss: 0.2176\n",
      "Epoch 146/200\n",
      "3/3 [==============================] - 0s 41ms/step - loss: 0.2087 - val_loss: 0.2174\n",
      "Epoch 147/200\n",
      "3/3 [==============================] - 0s 40ms/step - loss: 0.2124 - val_loss: 0.2175\n",
      "Epoch 148/200\n",
      "3/3 [==============================] - 0s 39ms/step - loss: 0.2217 - val_loss: 0.2174\n",
      "Epoch 149/200\n",
      "3/3 [==============================] - 0s 39ms/step - loss: 0.1992 - val_loss: 0.2173\n",
      "Epoch 150/200\n",
      "3/3 [==============================] - 0s 38ms/step - loss: 0.1845 - val_loss: 0.2175\n",
      "Epoch 151/200\n",
      "3/3 [==============================] - 0s 40ms/step - loss: 0.2009 - val_loss: 0.2174\n",
      "Epoch 152/200\n",
      "3/3 [==============================] - 0s 41ms/step - loss: 0.2010 - val_loss: 0.2173\n",
      "Epoch 153/200\n",
      "3/3 [==============================] - 0s 42ms/step - loss: 0.2058 - val_loss: 0.2171\n",
      "Epoch 154/200\n",
      "3/3 [==============================] - 0s 41ms/step - loss: 0.2230 - val_loss: 0.2172\n",
      "Epoch 155/200\n",
      "3/3 [==============================] - 0s 41ms/step - loss: 0.1936 - val_loss: 0.2169\n",
      "Epoch 156/200\n",
      "3/3 [==============================] - 0s 39ms/step - loss: 0.1967 - val_loss: 0.2171\n",
      "Epoch 157/200\n",
      "3/3 [==============================] - 0s 51ms/step - loss: 0.1971 - val_loss: 0.2170\n",
      "Epoch 158/200\n",
      "3/3 [==============================] - 0s 49ms/step - loss: 0.2037 - val_loss: 0.2169\n",
      "Epoch 159/200\n",
      "3/3 [==============================] - 0s 42ms/step - loss: 0.1952 - val_loss: 0.2169\n",
      "Epoch 160/200\n",
      "3/3 [==============================] - 0s 39ms/step - loss: 0.1994 - val_loss: 0.2168\n",
      "Epoch 161/200\n",
      "3/3 [==============================] - 0s 32ms/step - loss: 0.2114 - val_loss: 0.2166\n",
      "Epoch 162/200\n",
      "3/3 [==============================] - 0s 34ms/step - loss: 0.1908 - val_loss: 0.2165\n",
      "Epoch 163/200\n",
      "3/3 [==============================] - 0s 29ms/step - loss: 0.2080 - val_loss: 0.2166\n",
      "Epoch 164/200\n",
      "3/3 [==============================] - 0s 29ms/step - loss: 0.1935 - val_loss: 0.2166\n",
      "Epoch 165/200\n",
      "3/3 [==============================] - 0s 32ms/step - loss: 0.1917 - val_loss: 0.2167\n",
      "Epoch 166/200\n"
     ]
    },
    {
     "name": "stdout",
     "output_type": "stream",
     "text": [
      "3/3 [==============================] - 0s 32ms/step - loss: 0.1930 - val_loss: 0.2166\n",
      "Epoch 167/200\n",
      "3/3 [==============================] - 0s 39ms/step - loss: 0.2072 - val_loss: 0.2164\n",
      "Epoch 168/200\n",
      "3/3 [==============================] - 0s 38ms/step - loss: 0.1958 - val_loss: 0.2165\n",
      "Epoch 169/200\n",
      "3/3 [==============================] - 0s 39ms/step - loss: 0.2158 - val_loss: 0.2164\n",
      "Epoch 170/200\n",
      "3/3 [==============================] - 0s 37ms/step - loss: 0.1892 - val_loss: 0.2163\n",
      "Epoch 171/200\n",
      "3/3 [==============================] - 0s 38ms/step - loss: 0.1996 - val_loss: 0.2161\n",
      "Epoch 172/200\n",
      "3/3 [==============================] - 0s 39ms/step - loss: 0.1800 - val_loss: 0.2158\n",
      "Epoch 173/200\n",
      "3/3 [==============================] - 0s 37ms/step - loss: 0.2105 - val_loss: 0.2155\n",
      "Epoch 174/200\n",
      "3/3 [==============================] - 0s 38ms/step - loss: 0.2007 - val_loss: 0.2153\n",
      "Epoch 175/200\n",
      "3/3 [==============================] - 0s 40ms/step - loss: 0.2002 - val_loss: 0.2151\n",
      "Epoch 176/200\n",
      "3/3 [==============================] - 0s 37ms/step - loss: 0.2031 - val_loss: 0.2148\n",
      "Epoch 177/200\n",
      "3/3 [==============================] - 0s 41ms/step - loss: 0.1920 - val_loss: 0.2143\n",
      "Epoch 178/200\n",
      "3/3 [==============================] - 0s 41ms/step - loss: 0.2104 - val_loss: 0.2141\n",
      "Epoch 179/200\n",
      "3/3 [==============================] - 0s 39ms/step - loss: 0.1910 - val_loss: 0.2139\n",
      "Epoch 180/200\n",
      "3/3 [==============================] - 0s 36ms/step - loss: 0.1784 - val_loss: 0.2140\n",
      "Epoch 181/200\n",
      "3/3 [==============================] - 0s 35ms/step - loss: 0.2210 - val_loss: 0.2139\n",
      "Epoch 182/200\n",
      "3/3 [==============================] - 0s 30ms/step - loss: 0.1919 - val_loss: 0.2138\n",
      "Epoch 183/200\n",
      "3/3 [==============================] - 0s 29ms/step - loss: 0.1913 - val_loss: 0.2138\n",
      "Epoch 184/200\n",
      "3/3 [==============================] - 0s 30ms/step - loss: 0.1766 - val_loss: 0.2137\n",
      "Epoch 185/200\n",
      "3/3 [==============================] - 0s 30ms/step - loss: 0.1923 - val_loss: 0.2137\n",
      "Epoch 186/200\n",
      "3/3 [==============================] - 0s 32ms/step - loss: 0.1964 - val_loss: 0.2136\n",
      "Epoch 187/200\n",
      "3/3 [==============================] - 0s 29ms/step - loss: 0.1751 - val_loss: 0.2135\n",
      "Epoch 188/200\n",
      "3/3 [==============================] - 0s 31ms/step - loss: 0.2049 - val_loss: 0.2133\n",
      "Epoch 189/200\n",
      "3/3 [==============================] - 0s 29ms/step - loss: 0.2050 - val_loss: 0.2131\n",
      "Epoch 190/200\n",
      "3/3 [==============================] - 0s 30ms/step - loss: 0.1844 - val_loss: 0.2129\n",
      "Epoch 191/200\n",
      "3/3 [==============================] - 0s 31ms/step - loss: 0.2104 - val_loss: 0.2130\n",
      "Epoch 192/200\n",
      "3/3 [==============================] - 0s 29ms/step - loss: 0.1783 - val_loss: 0.2131\n",
      "Epoch 193/200\n",
      "3/3 [==============================] - 0s 31ms/step - loss: 0.1830 - val_loss: 0.2130\n",
      "Epoch 194/200\n",
      "3/3 [==============================] - 0s 31ms/step - loss: 0.1921 - val_loss: 0.2130\n",
      "Epoch 195/200\n",
      "3/3 [==============================] - 0s 33ms/step - loss: 0.1829 - val_loss: 0.2128\n",
      "Epoch 196/200\n",
      "3/3 [==============================] - 0s 30ms/step - loss: 0.2020 - val_loss: 0.2128\n",
      "Epoch 197/200\n",
      "3/3 [==============================] - 0s 33ms/step - loss: 0.1930 - val_loss: 0.2128\n",
      "Epoch 198/200\n",
      "3/3 [==============================] - 0s 34ms/step - loss: 0.2166 - val_loss: 0.2129\n",
      "Epoch 199/200\n",
      "3/3 [==============================] - 0s 34ms/step - loss: 0.1822 - val_loss: 0.2128\n",
      "Epoch 200/200\n",
      "3/3 [==============================] - 0s 34ms/step - loss: 0.1964 - val_loss: 0.2128\n"
     ]
    }
   ],
   "source": [
    "history = model.fit(x=X_train, y=y_train, batch_size = 256, epochs=200,\n",
    "          validation_data=(X_test, y_test), verbose=1,\n",
    "          callbacks=[early_stop])"
   ]
  },
  {
   "cell_type": "code",
   "execution_count": 100,
   "metadata": {},
   "outputs": [
    {
     "data": {
      "text/plain": [
       "Text(0.5, 1.0, 'Loss for both Training and Validation')"
      ]
     },
     "execution_count": 100,
     "metadata": {},
     "output_type": "execute_result"
    },
    {
     "data": {
      "image/png": "[encoded data removed]",
      "text/plain": [
       "<Figure size 720x360 with 1 Axes>"
      ]
     },
     "metadata": {
      "needs_background": "light"
     },
     "output_type": "display_data"
    }
   ],
   "source": [
    "evaluation_metrics=pd.DataFrame(model.history.history)\n",
    "evaluation_metrics.plot(figsize=(10,5))\n",
    "plt.title(\"Loss for both Training and Validation\", size = 20)"
   ]
  },
  {
   "cell_type": "code",
   "execution_count": 102,
   "metadata": {},
   "outputs": [
    {
     "data": {
      "text/plain": [
       "Text(0.5, 1.0, 'Loss for both Training and Validation')"
      ]
     },
     "execution_count": 102,
     "metadata": {},
     "output_type": "execute_result"
    },
    {
     "data": {
      "image/png": "[encoded data removed]",
      "text/plain": [
       "<Figure size 720x360 with 1 Axes>"
      ]
     },
     "metadata": {
      "needs_background": "light"
     },
     "output_type": "display_data"
    }
   ],
   "source": [
    "evaluation_metrics=pd.DataFrame(model.history.history)\n",
    "evaluation_metrics.plot(figsize=(10,5))\n",
    "plt.title(\"Loss for both Training and Validation\", size = 20)"
   ]
  },
  {
   "cell_type": "code",
   "execution_count": 89,
   "metadata": {},
   "outputs": [
    {
     "name": "stdout",
     "output_type": "stream",
     "text": [
      "0.9622579152620795\n"
     ]
    }
   ],
   "source": [
    "test_pred = model.predict(X_test)\n",
    "print(roc_auc_score(y_test, test_pred))"
   ]
  },
  {
   "cell_type": "code",
   "execution_count": 96,
   "metadata": {},
   "outputs": [
    {
     "name": "stdout",
     "output_type": "stream",
     "text": [
      "0.9723048449996695\n"
     ]
    }
   ],
   "source": [
    "test_pred = model.predict(X_test)\n",
    "print(roc_auc_score(y_test, test_pred))"
   ]
  },
  {
   "cell_type": "code",
   "execution_count": 103,
   "metadata": {},
   "outputs": [
    {
     "name": "stdout",
     "output_type": "stream",
     "text": [
      "0.9808976138541874\n"
     ]
    }
   ],
   "source": [
    "test_pred = model.predict(X_test)\n",
    "print(roc_auc_score(y_test, test_pred))"
   ]
  },
  {
   "cell_type": "code",
   "execution_count": 108,
   "metadata": {},
   "outputs": [
    {
     "name": "stdout",
     "output_type": "stream",
     "text": [
      "0.4999548837178048\n"
     ]
    }
   ],
   "source": [
    "test_pred = model.predict(X)\n",
    "print(roc_auc_score(y, test_pred))"
   ]
  },
  {
   "cell_type": "code",
   "execution_count": 109,
   "metadata": {},
   "outputs": [
    {
     "name": "stderr",
     "output_type": "stream",
     "text": [
      "C:\\Users\\egadi\\anaconda3\\lib\\site-packages\\tensorflow\\python\\keras\\engine\\sequential.py:450: UserWarning: `model.predict_classes()` is deprecated and will be removed after 2021-01-01. Please use instead:* `np.argmax(model.predict(x), axis=-1)`,   if your model does multi-class classification   (e.g. if it uses a `softmax` last-layer activation).* `(model.predict(x) > 0.5).astype(\"int32\")`,   if your model does binary classification   (e.g. if it uses a `sigmoid` last-layer activation).\n",
      "  warnings.warn('`model.predict_classes()` is deprecated and '\n"
     ]
    }
   ],
   "source": [
    "y_pred = model.predict_classes(X_test)"
   ]
  },
  {
   "cell_type": "code",
   "execution_count": 110,
   "metadata": {},
   "outputs": [
    {
     "data": {
      "text/plain": [
       "array([[121,   2],\n",
       "       [ 17, 106]], dtype=int64)"
      ]
     },
     "execution_count": 110,
     "metadata": {},
     "output_type": "execute_result"
    }
   ],
   "source": [
    "cm_nn=confusion_matrix(y_test, y_pred)\n",
    "cm_nn"
   ]
  },
  {
   "cell_type": "code",
   "execution_count": 111,
   "metadata": {},
   "outputs": [
    {
     "data": {
      "text/plain": [
       "Text(0.5, 1.0, 'Confusion Matrix Plotting for Neural Network model')"
      ]
     },
     "execution_count": 111,
     "metadata": {},
     "output_type": "execute_result"
    },
    {
     "data": {
      "image/png": "[encoded data removed]",
      "text/plain": [
       "<Figure size 576x432 with 1 Axes>"
      ]
     },
     "metadata": {
      "needs_background": "light"
     },
     "output_type": "display_data"
    }
   ],
   "source": [
    "plt.figure(figsize=(8,6))\n",
    "sns.set(font_scale=1.2)\n",
    "sns.heatmap(cm_nn, annot=True, fmt = 'g', cmap=\"winter\", cbar = False)\n",
    "plt.xlabel(\"Predicted Label\", size = 18)\n",
    "plt.ylabel(\"True Label\", size = 18)\n",
    "plt.title(\"Confusion Matrix Plotting for Neural Network model\", size = 20)"
   ]
  },
  {
   "cell_type": "code",
   "execution_count": null,
   "metadata": {},
   "outputs": [],
   "source": []
  },
  {
   "cell_type": "code",
   "execution_count": null,
   "metadata": {},
   "outputs": [],
   "source": []
  },
  {
   "cell_type": "code",
   "execution_count": null,
   "metadata": {},
   "outputs": [],
   "source": []
  },
  {
   "cell_type": "code",
   "execution_count": null,
   "metadata": {},
   "outputs": [],
   "source": []
  },
  {
   "cell_type": "code",
   "execution_count": 81,
   "metadata": {},
   "outputs": [],
   "source": [
    "model = Sequential()\n",
    "model.add(Dense(32, input_shape=(30,), activation='relu')),\n",
    "model.add(Dropout(0.2)),\n",
    "model.add(Dense(16, activation='relu')),\n",
    "model.add(Dropout(0.2)),\n",
    "model.add(Dense(8, activation='relu')),\n",
    "model.add(Dropout(0.2)),\n",
    "model.add(Dense(4, activation='relu')),\n",
    "model.add(Dropout(0.2)),\n",
    "model.add(Dense(1, activation='sigmoid'))"
   ]
  },
  {
   "cell_type": "code",
   "execution_count": 82,
   "metadata": {},
   "outputs": [],
   "source": [
    "opt = tf.keras.optimizers.Adam(learning_rate=0.001) #optimizer\n",
    "\n",
    "model.compile(optimizer=opt, loss=tf.keras.losses.BinaryCrossentropy(), metrics=['accuracy']) #metrics\n"
   ]
  },
  {
   "cell_type": "code",
   "execution_count": 83,
   "metadata": {},
   "outputs": [],
   "source": [
    "earlystopper = tf.keras.callbacks.EarlyStopping(monitor='val_accuracy', min_delta=0, patience=15, verbose=1,mode='auto', \n",
    "                                                baseline=None, restore_best_weights=False)"
   ]
  },
  {
   "cell_type": "code",
   "execution_count": 84,
   "metadata": {},
   "outputs": [],
   "source": [
    "history = model.fit(X_train.values, y_train.values, epochs = 6, batch_size=5, validation_split = 0.15, verbose = 0,\n",
    "                    callbacks = [earlystopper])\n",
    "history_dict = history.history"
   ]
  },
  {
   "cell_type": "code",
   "execution_count": 85,
   "metadata": {},
   "outputs": [
    {
     "data": {
      "text/plain": [
       "Text(0.5, 0, 'Epochs')"
      ]
     },
     "execution_count": 85,
     "metadata": {},
     "output_type": "execute_result"
    },
    {
     "data": {
      "image/png": "[encoded data removed]",
      "text/plain": [
       "<Figure size 432x288 with 1 Axes>"
      ]
     },
     "metadata": {
      "needs_background": "light"
     },
     "output_type": "display_data"
    }
   ],
   "source": [
    "loss_values = history_dict['loss']\n",
    "val_loss_values=history_dict['val_loss']\n",
    "plt.plot(loss_values,'b',label='training loss')\n",
    "plt.plot(val_loss_values,'r',label='val training loss')\n",
    "plt.legend()\n",
    "plt.xlabel(\"Epochs\")"
   ]
  },
  {
   "cell_type": "code",
   "execution_count": 86,
   "metadata": {},
   "outputs": [
    {
     "name": "stderr",
     "output_type": "stream",
     "text": [
      "C:\\Users\\egadi\\anaconda3\\lib\\site-packages\\tensorflow\\python\\keras\\engine\\sequential.py:450: UserWarning: `model.predict_classes()` is deprecated and will be removed after 2021-01-01. Please use instead:* `np.argmax(model.predict(x), axis=-1)`,   if your model does multi-class classification   (e.g. if it uses a `softmax` last-layer activation).* `(model.predict(x) > 0.5).astype(\"int32\")`,   if your model does binary classification   (e.g. if it uses a `sigmoid` last-layer activation).\n",
      "  warnings.warn('`model.predict_classes()` is deprecated and '\n"
     ]
    }
   ],
   "source": [
    "y_pred_nn = model.predict_classes(X_test)\n"
   ]
  },
  {
   "cell_type": "code",
   "execution_count": 88,
   "metadata": {},
   "outputs": [
    {
     "name": "stdout",
     "output_type": "stream",
     "text": [
      "AUC Neural Net:  0.5003644073411515\n"
     ]
    },
    {
     "name": "stderr",
     "output_type": "stream",
     "text": [
      "C:\\Users\\egadi\\anaconda3\\lib\\site-packages\\tensorflow\\python\\keras\\engine\\sequential.py:425: UserWarning: `model.predict_proba()` is deprecated and will be removed after 2021-01-01. Please use `model.predict()` instead.\n",
      "  warnings.warn('`model.predict_proba()` is deprecated and '\n"
     ]
    }
   ],
   "source": [
    "#AUC\n",
    "y_pred_nn_proba = model.predict_proba(X_test)\n",
    "fpr_keras, tpr_keras, thresholds_keras = metrics.roc_curve(y_test, y_pred_nn_proba)\n",
    "auc_keras = metrics.auc(fpr_keras, tpr_keras)\n",
    "print('AUC Neural Net: ', auc_keras)"
   ]
  },
  {
   "cell_type": "code",
   "execution_count": null,
   "metadata": {},
   "outputs": [],
   "source": []
  }
 ],
 "metadata": {
  "kernelspec": {
   "display_name": "Python 3",
   "language": "python",
   "name": "python3"
  },
  "language_info": {
   "codemirror_mode": {
    "name": "ipython",
    "version": 3
   },
   "file_extension": ".py",
   "mimetype": "text/x-python",
   "name": "python",
   "nbconvert_exporter": "python",
   "pygments_lexer": "ipython3",
   "version": "3.8.5"
  }
 },
 "nbformat": 4,
 "nbformat_minor": 4
}
