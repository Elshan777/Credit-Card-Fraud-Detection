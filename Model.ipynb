{
 "cells": [
  {
   "cell_type": "markdown",
   "metadata": {},
   "source": [
    "# In this notebook I will present my models which used for predictions"
   ]
  },
  {
   "cell_type": "code",
   "execution_count": 1,
   "metadata": {},
   "outputs": [],
   "source": [
    "import pandas as pd\n",
    "import numpy as np\n",
    "import seaborn as sns\n",
    "import matplotlib.pyplot as plt\n",
    "import statsmodels.api as sm\n",
    "from collections import Counter\n",
    "from imblearn.under_sampling import RandomUnderSampler"
   ]
  },
  {
   "cell_type": "code",
   "execution_count": 2,
   "metadata": {},
   "outputs": [],
   "source": [
    "df = pd.read_csv('../creditcard.csv')"
   ]
  },
  {
   "cell_type": "code",
   "execution_count": 3,
   "metadata": {},
   "outputs": [],
   "source": [
    "X = df.iloc[:, :-1]\n",
    "y = df['Class']"
   ]
  },
  {
   "cell_type": "code",
   "execution_count": 4,
   "metadata": {},
   "outputs": [],
   "source": [
    "und = RandomUnderSampler()\n",
    "X_und, y_und = und.fit_resample(X, y)"
   ]
  },
  {
   "cell_type": "code",
   "execution_count": 5,
   "metadata": {},
   "outputs": [
    {
     "data": {
      "text/plain": [
       "Counter({0: 492, 1: 492})"
      ]
     },
     "execution_count": 5,
     "metadata": {},
     "output_type": "execute_result"
    }
   ],
   "source": [
    "Counter(y_und)"
   ]
  },
  {
   "cell_type": "code",
   "execution_count": 6,
   "metadata": {},
   "outputs": [
    {
     "data": {
      "text/html": [
       "<div>\n",
       "<style scoped>\n",
       "    .dataframe tbody tr th:only-of-type {\n",
       "        vertical-align: middle;\n",
       "    }\n",
       "\n",
       "    .dataframe tbody tr th {\n",
       "        vertical-align: top;\n",
       "    }\n",
       "\n",
       "    .dataframe thead th {\n",
       "        text-align: right;\n",
       "    }\n",
       "</style>\n",
       "<table border=\"1\" class=\"dataframe\">\n",
       "  <thead>\n",
       "    <tr style=\"text-align: right;\">\n",
       "      <th></th>\n",
       "      <th>Time</th>\n",
       "      <th>V1</th>\n",
       "      <th>V2</th>\n",
       "      <th>V3</th>\n",
       "      <th>V4</th>\n",
       "      <th>V5</th>\n",
       "      <th>V6</th>\n",
       "      <th>V7</th>\n",
       "      <th>V8</th>\n",
       "      <th>V9</th>\n",
       "      <th>...</th>\n",
       "      <th>V21</th>\n",
       "      <th>V22</th>\n",
       "      <th>V23</th>\n",
       "      <th>V24</th>\n",
       "      <th>V25</th>\n",
       "      <th>V26</th>\n",
       "      <th>V27</th>\n",
       "      <th>V28</th>\n",
       "      <th>Amount</th>\n",
       "      <th>Class</th>\n",
       "    </tr>\n",
       "  </thead>\n",
       "  <tbody>\n",
       "    <tr>\n",
       "      <th>0</th>\n",
       "      <td>43472.0</td>\n",
       "      <td>-2.703379</td>\n",
       "      <td>-2.765187</td>\n",
       "      <td>1.634296</td>\n",
       "      <td>-0.921596</td>\n",
       "      <td>2.548505</td>\n",
       "      <td>-3.138880</td>\n",
       "      <td>-1.394357</td>\n",
       "      <td>0.030538</td>\n",
       "      <td>-1.443436</td>\n",
       "      <td>...</td>\n",
       "      <td>-0.143472</td>\n",
       "      <td>-0.962849</td>\n",
       "      <td>0.347564</td>\n",
       "      <td>0.374059</td>\n",
       "      <td>0.456712</td>\n",
       "      <td>0.924996</td>\n",
       "      <td>-0.174454</td>\n",
       "      <td>0.102622</td>\n",
       "      <td>13.94</td>\n",
       "      <td>0</td>\n",
       "    </tr>\n",
       "    <tr>\n",
       "      <th>1</th>\n",
       "      <td>133456.0</td>\n",
       "      <td>2.128006</td>\n",
       "      <td>-1.815790</td>\n",
       "      <td>-0.232000</td>\n",
       "      <td>-1.739638</td>\n",
       "      <td>-1.561162</td>\n",
       "      <td>0.581367</td>\n",
       "      <td>-1.903957</td>\n",
       "      <td>0.244592</td>\n",
       "      <td>-0.915388</td>\n",
       "      <td>...</td>\n",
       "      <td>-0.043637</td>\n",
       "      <td>0.246593</td>\n",
       "      <td>0.268189</td>\n",
       "      <td>0.200817</td>\n",
       "      <td>-0.532771</td>\n",
       "      <td>-0.256869</td>\n",
       "      <td>0.052548</td>\n",
       "      <td>-0.027736</td>\n",
       "      <td>64.30</td>\n",
       "      <td>0</td>\n",
       "    </tr>\n",
       "    <tr>\n",
       "      <th>2</th>\n",
       "      <td>61869.0</td>\n",
       "      <td>-0.805320</td>\n",
       "      <td>-0.979016</td>\n",
       "      <td>2.281645</td>\n",
       "      <td>-1.474275</td>\n",
       "      <td>-0.873525</td>\n",
       "      <td>0.729081</td>\n",
       "      <td>-0.033706</td>\n",
       "      <td>0.185215</td>\n",
       "      <td>0.171499</td>\n",
       "      <td>...</td>\n",
       "      <td>0.287699</td>\n",
       "      <td>0.896826</td>\n",
       "      <td>-0.069809</td>\n",
       "      <td>-0.419164</td>\n",
       "      <td>0.306186</td>\n",
       "      <td>-0.117887</td>\n",
       "      <td>-0.093309</td>\n",
       "      <td>-0.124221</td>\n",
       "      <td>145.59</td>\n",
       "      <td>0</td>\n",
       "    </tr>\n",
       "    <tr>\n",
       "      <th>3</th>\n",
       "      <td>12443.0</td>\n",
       "      <td>1.105762</td>\n",
       "      <td>-0.616627</td>\n",
       "      <td>0.816607</td>\n",
       "      <td>0.339242</td>\n",
       "      <td>-0.900344</td>\n",
       "      <td>0.138514</td>\n",
       "      <td>-0.719458</td>\n",
       "      <td>0.063580</td>\n",
       "      <td>2.698915</td>\n",
       "      <td>...</td>\n",
       "      <td>-0.399295</td>\n",
       "      <td>-0.884769</td>\n",
       "      <td>-0.075285</td>\n",
       "      <td>-0.466664</td>\n",
       "      <td>0.157056</td>\n",
       "      <td>0.950496</td>\n",
       "      <td>-0.084727</td>\n",
       "      <td>0.012128</td>\n",
       "      <td>94.85</td>\n",
       "      <td>0</td>\n",
       "    </tr>\n",
       "    <tr>\n",
       "      <th>4</th>\n",
       "      <td>49506.0</td>\n",
       "      <td>-1.305315</td>\n",
       "      <td>-0.801638</td>\n",
       "      <td>2.517726</td>\n",
       "      <td>-0.561589</td>\n",
       "      <td>-1.311136</td>\n",
       "      <td>0.589640</td>\n",
       "      <td>0.660796</td>\n",
       "      <td>-0.744293</td>\n",
       "      <td>0.225922</td>\n",
       "      <td>...</td>\n",
       "      <td>-0.110095</td>\n",
       "      <td>0.694828</td>\n",
       "      <td>0.140696</td>\n",
       "      <td>0.437557</td>\n",
       "      <td>-0.223559</td>\n",
       "      <td>-0.281383</td>\n",
       "      <td>-0.974422</td>\n",
       "      <td>-0.238621</td>\n",
       "      <td>160.00</td>\n",
       "      <td>0</td>\n",
       "    </tr>\n",
       "  </tbody>\n",
       "</table>\n",
       "<p>5 rows × 31 columns</p>\n",
       "</div>"
      ],
      "text/plain": [
       "       Time        V1        V2        V3        V4        V5        V6  \\\n",
       "0   43472.0 -2.703379 -2.765187  1.634296 -0.921596  2.548505 -3.138880   \n",
       "1  133456.0  2.128006 -1.815790 -0.232000 -1.739638 -1.561162  0.581367   \n",
       "2   61869.0 -0.805320 -0.979016  2.281645 -1.474275 -0.873525  0.729081   \n",
       "3   12443.0  1.105762 -0.616627  0.816607  0.339242 -0.900344  0.138514   \n",
       "4   49506.0 -1.305315 -0.801638  2.517726 -0.561589 -1.311136  0.589640   \n",
       "\n",
       "         V7        V8        V9  ...       V21       V22       V23       V24  \\\n",
       "0 -1.394357  0.030538 -1.443436  ... -0.143472 -0.962849  0.347564  0.374059   \n",
       "1 -1.903957  0.244592 -0.915388  ... -0.043637  0.246593  0.268189  0.200817   \n",
       "2 -0.033706  0.185215  0.171499  ...  0.287699  0.896826 -0.069809 -0.419164   \n",
       "3 -0.719458  0.063580  2.698915  ... -0.399295 -0.884769 -0.075285 -0.466664   \n",
       "4  0.660796 -0.744293  0.225922  ... -0.110095  0.694828  0.140696  0.437557   \n",
       "\n",
       "        V25       V26       V27       V28  Amount  Class  \n",
       "0  0.456712  0.924996 -0.174454  0.102622   13.94      0  \n",
       "1 -0.532771 -0.256869  0.052548 -0.027736   64.30      0  \n",
       "2  0.306186 -0.117887 -0.093309 -0.124221  145.59      0  \n",
       "3  0.157056  0.950496 -0.084727  0.012128   94.85      0  \n",
       "4 -0.223559 -0.281383 -0.974422 -0.238621  160.00      0  \n",
       "\n",
       "[5 rows x 31 columns]"
      ]
     },
     "execution_count": 6,
     "metadata": {},
     "output_type": "execute_result"
    }
   ],
   "source": [
    "# Lets concat undersampled X and y\n",
    "df_und = pd.concat([X_und, y_und], axis=1)\n",
    "df_und.head()"
   ]
  },
  {
   "cell_type": "markdown",
   "metadata": {},
   "source": [
    "## Lets build our first Pipeline"
   ]
  },
  {
   "cell_type": "code",
   "execution_count": 8,
   "metadata": {},
   "outputs": [],
   "source": [
    "from sklearn.tree import DecisionTreeClassifier\n",
    "from sklearn.ensemble import GradientBoostingClassifier\n",
    "from catboost import CatBoostClassifier\n",
    "from sklearn.ensemble import GradientBoostingClassifier\n",
    "from sklearn.neighbors import KNeighborsClassifier\n",
    "from sklearn.ensemble import RandomForestClassifier\n",
    "from sklearn.linear_model import LogisticRegression\n",
    "from sklearn.svm import SVC\n",
    "from xgboost import XGBClassifier\n",
    "from sklearn.naive_bayes import GaussianNB\n",
    "from sklearn.neighbors import KNeighborsClassifier\n",
    "from sklearn.pipeline import Pipeline\n",
    "from sklearn.compose import ColumnTransformer\n",
    "from sklearn.metrics import roc_auc_score, f1_score, recall_score\n",
    "from sklearn.model_selection import train_test_split\n",
    "from sklearn.linear_model import LogisticRegression\n",
    "from lightgbm import LGBMClassifier\n",
    "from sklearn.ensemble import BaggingClassifier"
   ]
  },
  {
   "cell_type": "code",
   "execution_count": 15,
   "metadata": {},
   "outputs": [],
   "source": [
    "algos = {\n",
    "    'DecisionTreeClassifier' : DecisionTreeClassifier(),\n",
    "    'KNeighborsClassifier': KNeighborsClassifier(),\n",
    "    'GaussianNB' : GaussianNB(),\n",
    "    'LogisticRegression' : LogisticRegression(max_iter=200),\n",
    "#     'BaggingClassifier' : BaggingClassifier(base_estimator=DecisionTreeClassifier(), n_estimators=50)\n",
    "}"
   ]
  },
  {
   "cell_type": "code",
   "execution_count": 16,
   "metadata": {},
   "outputs": [],
   "source": [
    "X_train, X_test, y_train, y_test = train_test_split(X_und, y_und)"
   ]
  },
  {
   "cell_type": "code",
   "execution_count": 17,
   "metadata": {},
   "outputs": [
    {
     "name": "stdout",
     "output_type": "stream",
     "text": [
      "DecisionTreeClassifier ROC SCORE 0.8937520661157025\n",
      "KNeighborsClassifier ROC SCORE 0.668198347107438\n",
      "GaussianNB ROC SCORE 0.9586776859504131\n",
      "LogisticRegression ROC SCORE 0.969785123966942\n"
     ]
    }
   ],
   "source": [
    "for name, classifier in algos.items():\n",
    "    pipeline = Pipeline(steps=[\n",
    "        ('classifier', classifier)\n",
    "    ])\n",
    "    pipeline.fit(X_train, y_train)\n",
    "    y_predicted=pipeline.predict_proba(X_test)\n",
    "    print(name,'ROC SCORE', roc_auc_score(y_test, y_predicted[:, 1]))"
   ]
  },
  {
   "cell_type": "markdown",
   "metadata": {},
   "source": [
    "### As we can see Gaussian Naive Bayes along side with Logistic regression performed well on the data\n",
    "### Now I will try ensemble methods"
   ]
  },
  {
   "cell_type": "code",
   "execution_count": 18,
   "metadata": {},
   "outputs": [],
   "source": [
    "ensem = {\n",
    "    'RandomForestClassifier' : RandomForestClassifier(),\n",
    "    'GradientBoostingClassifier': GradientBoostingClassifier(),\n",
    "    'LGBMClassifier' : LGBMClassifier(),\n",
    "    'CatBoostClassifier' : CatBoostClassifier(verbose=False),\n",
    "}"
   ]
  },
  {
   "cell_type": "code",
   "execution_count": 19,
   "metadata": {
    "scrolled": true
   },
   "outputs": [
    {
     "name": "stdout",
     "output_type": "stream",
     "text": [
      "RandomForestClassifier ROC SCORE 0.9723305785123966\n",
      "GradientBoostingClassifier ROC SCORE 0.9738181818181818\n",
      "LGBMClassifier ROC SCORE 0.979702479338843\n",
      "CatBoostClassifier ROC SCORE 0.9795702479338844\n"
     ]
    }
   ],
   "source": [
    "for name, classifier in ensem.items():\n",
    "    pipe_en = Pipeline(steps=[\n",
    "        ('classifier', classifier)\n",
    "    ])\n",
    "    pipe_en.fit(X_train, y_train)\n",
    "    y_predicted=pipe_en.predict_proba(X_test)\n",
    "    print(name,'ROC SCORE', roc_auc_score(y_test, y_predicted[:, 1]))"
   ]
  },
  {
   "cell_type": "markdown",
   "metadata": {},
   "source": [
    "## The accuracy might change depending on train test split so we will try cross validation "
   ]
  },
  {
   "cell_type": "code",
   "execution_count": 20,
   "metadata": {},
   "outputs": [],
   "source": [
    "from sklearn.model_selection import StratifiedKFold\n",
    "from sklearn.model_selection import KFold\n",
    "from sklearn.model_selection import cross_val_score"
   ]
  },
  {
   "cell_type": "code",
   "execution_count": 22,
   "metadata": {},
   "outputs": [],
   "source": [
    "models = {\n",
    "    'LogisticRegression' : LogisticRegression(max_iter=200 ),\n",
    "    'RandomForestClassifier' : RandomForestClassifier(),\n",
    "    'GradientBoostingClassifier': GradientBoostingClassifier(),\n",
    "    'LGBMClassifier' : LGBMClassifier(),\n",
    "    'CatBoostClassifier' : CatBoostClassifier(verbose=False),\n",
    "    'BaggingClassifier': BaggingClassifier(base_estimator=DecisionTreeClassifier(), n_estimators=50)\n",
    "}"
   ]
  },
  {
   "cell_type": "code",
   "execution_count": 23,
   "metadata": {},
   "outputs": [
    {
     "name": "stdout",
     "output_type": "stream",
     "text": [
      "LogisticRegression: 0.960918 (0.040008)\n",
      "RandomForestClassifier: 0.970503 (0.029596)\n",
      "GradientBoostingClassifier: 0.962829 (0.031238)\n",
      "LGBMClassifier: 0.968870 (0.029562)\n",
      "CatBoostClassifier: 0.973272 (0.027171)\n",
      "BaggingClassifier: 0.968474 (0.031461)\n"
     ]
    }
   ],
   "source": [
    "results = []\n",
    "names = []\n",
    "\n",
    "for name, model in models.items():\n",
    "    skfold = StratifiedKFold(n_splits=10)\n",
    "    cv_results = cross_val_score(model, X_und, y_und, cv=skfold, scoring='roc_auc')\n",
    "    results.append(cv_results)\n",
    "    names.append(name)\n",
    "    msg = '%s: %f (%f)' % (name, cv_results.mean(), cv_results.std())\n",
    "    print(msg)"
   ]
  },
  {
   "cell_type": "code",
   "execution_count": null,
   "metadata": {},
   "outputs": [],
   "source": []
  },
  {
   "cell_type": "code",
   "execution_count": null,
   "metadata": {},
   "outputs": [],
   "source": []
  },
  {
   "cell_type": "code",
   "execution_count": 25,
   "metadata": {},
   "outputs": [],
   "source": [
    "from sklearn.manifold import TSNE\n",
    "from sklearn.decomposition import PCA"
   ]
  },
  {
   "cell_type": "markdown",
   "metadata": {},
   "source": [
    "## In the EDA notebook we saw that dimensionality reduction techniques were useful. Let's try predicting on them"
   ]
  },
  {
   "cell_type": "code",
   "execution_count": 17,
   "metadata": {},
   "outputs": [],
   "source": [
    "X_new = df_und[['V12', 'V14', 'V10', 'V11', 'V17']]\n",
    "y_new = df_und.iloc[:, -1]"
   ]
  },
  {
   "cell_type": "code",
   "execution_count": 18,
   "metadata": {},
   "outputs": [
    {
     "name": "stdout",
     "output_type": "stream",
     "text": [
      "GaussianNB: 0.959539 (0.032323)\n"
     ]
    },
    {
     "name": "stderr",
     "output_type": "stream",
     "text": [
      "C:\\Users\\egadi\\anaconda3\\lib\\site-packages\\sklearn\\linear_model\\_logistic.py:763: ConvergenceWarning: lbfgs failed to converge (status=1):\n",
      "STOP: TOTAL NO. of ITERATIONS REACHED LIMIT.\n",
      "\n",
      "Increase the number of iterations (max_iter) or scale the data as shown in:\n",
      "    https://scikit-learn.org/stable/modules/preprocessing.html\n",
      "Please also refer to the documentation for alternative solver options:\n",
      "    https://scikit-learn.org/stable/modules/linear_model.html#logistic-regression\n",
      "  n_iter_i = _check_optimize_result(\n"
     ]
    },
    {
     "name": "stdout",
     "output_type": "stream",
     "text": [
      "LogisticRegression: 0.955950 (0.026540)\n",
      "RandomForestClassifier: 0.957468 (0.035475)\n",
      "GradientBoostingClassifier: 0.948928 (0.036886)\n",
      "LGBMClassifier: 0.952370 (0.031205)\n",
      "CatBoostClassifier: 0.955455 (0.028704)\n"
     ]
    }
   ],
   "source": [
    "results = []\n",
    "names = []\n",
    "\n",
    "for name, model in models.items():\n",
    "    skfold = StratifiedKFold(n_splits=10)\n",
    "    pipeline = Pipeline(steps=[\n",
    "        ('dim_red', PCA()),\n",
    "        ('classifier', model)\n",
    "    ])\n",
    "    pipeline.fit(X_train, y_train)\n",
    "    cv_results = cross_val_score(pipeline, X_new, y_new, cv=skfold, scoring='roc_auc')\n",
    "    results.append(cv_results)\n",
    "    names.append(name)\n",
    "    msg = '%s: %f (%f)' % (name, cv_results.mean(), cv_results.std())\n",
    "    print(msg)"
   ]
  },
  {
   "cell_type": "code",
   "execution_count": 19,
   "metadata": {},
   "outputs": [
    {
     "name": "stdout",
     "output_type": "stream",
     "text": [
      "GaussianNB: 0.959539 (0.032323)\n"
     ]
    },
    {
     "name": "stderr",
     "output_type": "stream",
     "text": [
      "C:\\Users\\egadi\\anaconda3\\lib\\site-packages\\sklearn\\linear_model\\_logistic.py:763: ConvergenceWarning: lbfgs failed to converge (status=1):\n",
      "STOP: TOTAL NO. of ITERATIONS REACHED LIMIT.\n",
      "\n",
      "Increase the number of iterations (max_iter) or scale the data as shown in:\n",
      "    https://scikit-learn.org/stable/modules/preprocessing.html\n",
      "Please also refer to the documentation for alternative solver options:\n",
      "    https://scikit-learn.org/stable/modules/linear_model.html#logistic-regression\n",
      "  n_iter_i = _check_optimize_result(\n"
     ]
    },
    {
     "name": "stdout",
     "output_type": "stream",
     "text": [
      "LogisticRegression: 0.955950 (0.026540)\n",
      "RandomForestClassifier: 0.958044 (0.034374)\n",
      "GradientBoostingClassifier: 0.949633 (0.037050)\n",
      "LGBMClassifier: 0.952370 (0.031205)\n",
      "CatBoostClassifier: 0.955455 (0.028704)\n"
     ]
    }
   ],
   "source": [
    "results = []\n",
    "names = []\n",
    "\n",
    "for name, model in models.items():\n",
    "    skfold = StratifiedKFold(n_splits=10)\n",
    "    pipeline = Pipeline(steps=[\n",
    "        ('dim_red', PCA()),\n",
    "        ('classifier', model)\n",
    "    ])\n",
    "    pipeline.fit(X_train, y_train)\n",
    "    cv_results = cross_val_score(pipeline, X_new, y_new, cv=skfold, scoring='roc_auc')\n",
    "    results.append(cv_results)\n",
    "    names.append(name)\n",
    "    msg = '%s: %f (%f)' % (name, cv_results.mean(), cv_results.std())\n",
    "    print(msg)"
   ]
  },
  {
   "cell_type": "code",
   "execution_count": null,
   "metadata": {},
   "outputs": [],
   "source": []
  },
  {
   "cell_type": "code",
   "execution_count": null,
   "metadata": {},
   "outputs": [],
   "source": []
  },
  {
   "cell_type": "code",
   "execution_count": 44,
   "metadata": {},
   "outputs": [],
   "source": [
    "import optuna\n",
    "import sklearn.datasets\n",
    "import sklearn.ensemble\n",
    "import sklearn.model_selection\n",
    "import sklearn.svm\n",
    "import lightgbm as lgb"
   ]
  },
  {
   "cell_type": "code",
   "execution_count": 40,
   "metadata": {},
   "outputs": [],
   "source": [
    "# FYI: Objective functions can take additional arguments\n",
    "# (https://optuna.readthedocs.io/en/stable/faq.html#objective-func-additional-args).\n",
    "def objective(trial):\n",
    "#     iris = sklearn.datasets.load_iris()\n",
    "#     x, y = iris.data, iris.target\n",
    "\n",
    "    classifier_name = trial.suggest_categorical(\"classifier\", [\"SVC\", \"RandomForest\"])\n",
    "    if classifier_name == \"SVC\":\n",
    "        svc_c = trial.suggest_float(\"svc_c\", 1e-10, 1e10, log=True)\n",
    "        classifier_obj = sklearn.svm.SVC(C=svc_c, gamma=\"auto\")\n",
    "    else:\n",
    "        rf_max_depth = trial.suggest_int(\"rf_max_depth\", 2, 32, log=True)\n",
    "        classifier_obj = sklearn.ensemble.RandomForestClassifier(\n",
    "            max_depth=rf_max_depth, n_estimators=10\n",
    "        )\n",
    "\n",
    "    score = sklearn.model_selection.cross_val_score(classifier_obj, X_und, y_und, n_jobs=-1, cv=3, scoring='roc_auc')\n",
    "    accuracy = score.mean()\n",
    "    return accuracy\n"
   ]
  },
  {
   "cell_type": "code",
   "execution_count": 41,
   "metadata": {
    "scrolled": true
   },
   "outputs": [
    {
     "name": "stderr",
     "output_type": "stream",
     "text": [
      "\u001b[32m[I 2021-04-23 10:08:43,666]\u001b[0m A new study created in memory with name: no-name-0d0e27a1-0220-41a2-bffe-f45f2d306f30\u001b[0m\n",
      "\u001b[32m[I 2021-04-23 10:08:43,758]\u001b[0m Trial 0 finished with value: 0.9564867142573865 and parameters: {'classifier': 'RandomForest', 'rf_max_depth': 3}. Best is trial 0 with value: 0.9564867142573865.\u001b[0m\n",
      "\u001b[32m[I 2021-04-23 10:08:43,945]\u001b[0m Trial 1 finished with value: 0.4949248958953005 and parameters: {'classifier': 'SVC', 'svc_c': 95136932.98816553}. Best is trial 0 with value: 0.9564867142573865.\u001b[0m\n",
      "\u001b[32m[I 2021-04-23 10:08:44,016]\u001b[0m Trial 2 finished with value: 0.9557555026769781 and parameters: {'classifier': 'RandomForest', 'rf_max_depth': 10}. Best is trial 0 with value: 0.9564867142573865.\u001b[0m\n",
      "\u001b[32m[I 2021-04-23 10:08:44,100]\u001b[0m Trial 3 finished with value: 0.9486230914138409 and parameters: {'classifier': 'RandomForest', 'rf_max_depth': 29}. Best is trial 0 with value: 0.9564867142573865.\u001b[0m\n",
      "\u001b[32m[I 2021-04-23 10:08:44,176]\u001b[0m Trial 4 finished with value: 0.9526075748562363 and parameters: {'classifier': 'RandomForest', 'rf_max_depth': 2}. Best is trial 0 with value: 0.9564867142573865.\u001b[0m\n",
      "\u001b[32m[I 2021-04-23 10:08:44,362]\u001b[0m Trial 5 finished with value: 0.4937723081499108 and parameters: {'classifier': 'SVC', 'svc_c': 3.7712705820506733e-06}. Best is trial 0 with value: 0.9564867142573865.\u001b[0m\n",
      "\u001b[32m[I 2021-04-23 10:08:44,431]\u001b[0m Trial 6 finished with value: 0.9465348007138609 and parameters: {'classifier': 'RandomForest', 'rf_max_depth': 4}. Best is trial 0 with value: 0.9564867142573865.\u001b[0m\n",
      "\u001b[32m[I 2021-04-23 10:08:44,507]\u001b[0m Trial 7 finished with value: 0.9511823319452707 and parameters: {'classifier': 'RandomForest', 'rf_max_depth': 16}. Best is trial 0 with value: 0.9564867142573865.\u001b[0m\n",
      "\u001b[32m[I 2021-04-23 10:08:44,694]\u001b[0m Trial 8 finished with value: 0.4928056216537775 and parameters: {'classifier': 'SVC', 'svc_c': 0.00018503954949981643}. Best is trial 0 with value: 0.9564867142573865.\u001b[0m\n",
      "\u001b[32m[I 2021-04-23 10:08:44,792]\u001b[0m Trial 9 finished with value: 0.951628494943486 and parameters: {'classifier': 'RandomForest', 'rf_max_depth': 19}. Best is trial 0 with value: 0.9564867142573865.\u001b[0m\n",
      "\u001b[32m[I 2021-04-23 10:08:44,904]\u001b[0m Trial 10 finished with value: 0.9474519135435258 and parameters: {'classifier': 'RandomForest', 'rf_max_depth': 2}. Best is trial 0 with value: 0.9564867142573865.\u001b[0m\n",
      "\u001b[32m[I 2021-04-23 10:08:45,038]\u001b[0m Trial 11 finished with value: 0.9523287229823517 and parameters: {'classifier': 'RandomForest', 'rf_max_depth': 7}. Best is trial 0 with value: 0.9564867142573865.\u001b[0m\n",
      "\u001b[32m[I 2021-04-23 10:08:45,115]\u001b[0m Trial 12 finished with value: 0.9596842157445965 and parameters: {'classifier': 'RandomForest', 'rf_max_depth': 7}. Best is trial 12 with value: 0.9596842157445965.\u001b[0m\n",
      "\u001b[32m[I 2021-04-23 10:08:45,182]\u001b[0m Trial 13 finished with value: 0.9554332738449336 and parameters: {'classifier': 'RandomForest', 'rf_max_depth': 4}. Best is trial 12 with value: 0.9596842157445965.\u001b[0m\n",
      "\u001b[32m[I 2021-04-23 10:08:45,250]\u001b[0m Trial 14 finished with value: 0.952365903232203 and parameters: {'classifier': 'RandomForest', 'rf_max_depth': 4}. Best is trial 12 with value: 0.9596842157445965.\u001b[0m\n",
      "\u001b[32m[I 2021-04-23 10:08:45,356]\u001b[0m Trial 15 finished with value: 0.9635385683125124 and parameters: {'classifier': 'RandomForest', 'rf_max_depth': 6}. Best is trial 15 with value: 0.9635385683125124.\u001b[0m\n",
      "\u001b[32m[I 2021-04-23 10:08:45,442]\u001b[0m Trial 16 finished with value: 0.9411746480269682 and parameters: {'classifier': 'RandomForest', 'rf_max_depth': 8}. Best is trial 15 with value: 0.9635385683125124.\u001b[0m\n",
      "\u001b[32m[I 2021-04-23 10:08:45,646]\u001b[0m Trial 17 finished with value: 0.4949248958953005 and parameters: {'classifier': 'SVC', 'svc_c': 6846329794.305369}. Best is trial 15 with value: 0.9635385683125124.\u001b[0m\n",
      "\u001b[32m[I 2021-04-23 10:08:45,722]\u001b[0m Trial 18 finished with value: 0.9419306464406109 and parameters: {'classifier': 'RandomForest', 'rf_max_depth': 10}. Best is trial 15 with value: 0.9635385683125124.\u001b[0m\n",
      "\u001b[32m[I 2021-04-23 10:08:45,801]\u001b[0m Trial 19 finished with value: 0.957763236168947 and parameters: {'classifier': 'RandomForest', 'rf_max_depth': 5}. Best is trial 15 with value: 0.9635385683125124.\u001b[0m\n",
      "\u001b[32m[I 2021-04-23 10:08:45,881]\u001b[0m Trial 20 finished with value: 0.9355356434661908 and parameters: {'classifier': 'RandomForest', 'rf_max_depth': 15}. Best is trial 15 with value: 0.9635385683125124.\u001b[0m\n",
      "\u001b[32m[I 2021-04-23 10:08:45,970]\u001b[0m Trial 21 finished with value: 0.95421252230815 and parameters: {'classifier': 'RandomForest', 'rf_max_depth': 5}. Best is trial 15 with value: 0.9635385683125124.\u001b[0m\n",
      "\u001b[32m[I 2021-04-23 10:08:46,059]\u001b[0m Trial 22 finished with value: 0.9576269085861592 and parameters: {'classifier': 'RandomForest', 'rf_max_depth': 6}. Best is trial 15 with value: 0.9635385683125124.\u001b[0m\n",
      "\u001b[32m[I 2021-04-23 10:08:46,142]\u001b[0m Trial 23 finished with value: 0.9506556117390442 and parameters: {'classifier': 'RandomForest', 'rf_max_depth': 3}. Best is trial 15 with value: 0.9635385683125124.\u001b[0m\n",
      "\u001b[32m[I 2021-04-23 10:08:46,222]\u001b[0m Trial 24 finished with value: 0.9472412254610352 and parameters: {'classifier': 'RandomForest', 'rf_max_depth': 10}. Best is trial 15 with value: 0.9635385683125124.\u001b[0m\n",
      "\u001b[32m[I 2021-04-23 10:08:46,294]\u001b[0m Trial 25 finished with value: 0.9545967182232798 and parameters: {'classifier': 'RandomForest', 'rf_max_depth': 5}. Best is trial 15 with value: 0.9635385683125124.\u001b[0m\n",
      "\u001b[32m[I 2021-04-23 10:08:46,369]\u001b[0m Trial 26 finished with value: 0.9508910866547691 and parameters: {'classifier': 'RandomForest', 'rf_max_depth': 8}. Best is trial 15 with value: 0.9635385683125124.\u001b[0m\n",
      "\u001b[32m[I 2021-04-23 10:08:46,558]\u001b[0m Trial 27 finished with value: 0.4949248958953005 and parameters: {'classifier': 'SVC', 'svc_c': 15525.84835735673}. Best is trial 15 with value: 0.9635385683125124.\u001b[0m\n",
      "\u001b[32m[I 2021-04-23 10:08:46,640]\u001b[0m Trial 28 finished with value: 0.959609855244894 and parameters: {'classifier': 'RandomForest', 'rf_max_depth': 6}. Best is trial 15 with value: 0.9635385683125124.\u001b[0m\n",
      "\u001b[32m[I 2021-04-23 10:08:46,711]\u001b[0m Trial 29 finished with value: 0.957490581003371 and parameters: {'classifier': 'RandomForest', 'rf_max_depth': 3}. Best is trial 15 with value: 0.9635385683125124.\u001b[0m\n",
      "\u001b[32m[I 2021-04-23 10:08:46,794]\u001b[0m Trial 30 finished with value: 0.9537415724767003 and parameters: {'classifier': 'RandomForest', 'rf_max_depth': 14}. Best is trial 15 with value: 0.9635385683125124.\u001b[0m\n",
      "\u001b[32m[I 2021-04-23 10:08:46,871]\u001b[0m Trial 31 finished with value: 0.9549685207217925 and parameters: {'classifier': 'RandomForest', 'rf_max_depth': 5}. Best is trial 15 with value: 0.9635385683125124.\u001b[0m\n",
      "\u001b[32m[I 2021-04-23 10:08:46,950]\u001b[0m Trial 32 finished with value: 0.9572736962125719 and parameters: {'classifier': 'RandomForest', 'rf_max_depth': 6}. Best is trial 15 with value: 0.9635385683125124.\u001b[0m\n",
      "\u001b[32m[I 2021-04-23 10:08:47,016]\u001b[0m Trial 33 finished with value: 0.9559104203846917 and parameters: {'classifier': 'RandomForest', 'rf_max_depth': 6}. Best is trial 15 with value: 0.9635385683125124.\u001b[0m\n",
      "\u001b[32m[I 2021-04-23 10:08:47,099]\u001b[0m Trial 34 finished with value: 0.9485425342058299 and parameters: {'classifier': 'RandomForest', 'rf_max_depth': 8}. Best is trial 15 with value: 0.9635385683125124.\u001b[0m\n",
      "\u001b[32m[I 2021-04-23 10:08:47,185]\u001b[0m Trial 35 finished with value: 0.9590521514971247 and parameters: {'classifier': 'RandomForest', 'rf_max_depth': 4}. Best is trial 15 with value: 0.9635385683125124.\u001b[0m\n",
      "\u001b[32m[I 2021-04-23 10:08:47,363]\u001b[0m Trial 36 finished with value: 0.4937723081499108 and parameters: {'classifier': 'SVC', 'svc_c': 1.2675719504972635e-10}. Best is trial 15 with value: 0.9635385683125124.\u001b[0m\n",
      "\u001b[32m[I 2021-04-23 10:08:47,443]\u001b[0m Trial 37 finished with value: 0.9564309438826095 and parameters: {'classifier': 'RandomForest', 'rf_max_depth': 2}. Best is trial 15 with value: 0.9635385683125124.\u001b[0m\n",
      "\u001b[32m[I 2021-04-23 10:08:47,523]\u001b[0m Trial 38 finished with value: 0.9561273051754907 and parameters: {'classifier': 'RandomForest', 'rf_max_depth': 3}. Best is trial 15 with value: 0.9635385683125124.\u001b[0m\n",
      "\u001b[32m[I 2021-04-23 10:08:47,625]\u001b[0m Trial 39 finished with value: 0.9563317965496726 and parameters: {'classifier': 'RandomForest', 'rf_max_depth': 9}. Best is trial 15 with value: 0.9635385683125124.\u001b[0m\n"
     ]
    },
    {
     "name": "stderr",
     "output_type": "stream",
     "text": [
      "\u001b[32m[I 2021-04-23 10:08:47,724]\u001b[0m Trial 40 finished with value: 0.955142028554432 and parameters: {'classifier': 'RandomForest', 'rf_max_depth': 12}. Best is trial 15 with value: 0.9635385683125124.\u001b[0m\n",
      "\u001b[32m[I 2021-04-23 10:08:47,811]\u001b[0m Trial 41 finished with value: 0.9460514574657942 and parameters: {'classifier': 'RandomForest', 'rf_max_depth': 4}. Best is trial 15 with value: 0.9635385683125124.\u001b[0m\n",
      "\u001b[32m[I 2021-04-23 10:08:47,900]\u001b[0m Trial 42 finished with value: 0.9496641384096769 and parameters: {'classifier': 'RandomForest', 'rf_max_depth': 5}. Best is trial 15 with value: 0.9635385683125124.\u001b[0m\n",
      "\u001b[32m[I 2021-04-23 10:08:47,992]\u001b[0m Trial 43 finished with value: 0.9597337894110648 and parameters: {'classifier': 'RandomForest', 'rf_max_depth': 3}. Best is trial 15 with value: 0.9635385683125124.\u001b[0m\n",
      "\u001b[32m[I 2021-04-23 10:08:48,079]\u001b[0m Trial 44 finished with value: 0.9490258774538964 and parameters: {'classifier': 'RandomForest', 'rf_max_depth': 2}. Best is trial 15 with value: 0.9635385683125124.\u001b[0m\n",
      "\u001b[32m[I 2021-04-23 10:08:48,167]\u001b[0m Trial 45 finished with value: 0.9484681737061273 and parameters: {'classifier': 'RandomForest', 'rf_max_depth': 2}. Best is trial 15 with value: 0.9635385683125124.\u001b[0m\n",
      "\u001b[32m[I 2021-04-23 10:08:48,384]\u001b[0m Trial 46 finished with value: 0.4949248958953005 and parameters: {'classifier': 'SVC', 'svc_c': 10.54869634465723}. Best is trial 15 with value: 0.9635385683125124.\u001b[0m\n",
      "\u001b[32m[I 2021-04-23 10:08:48,460]\u001b[0m Trial 47 finished with value: 0.9532396391037081 and parameters: {'classifier': 'RandomForest', 'rf_max_depth': 4}. Best is trial 15 with value: 0.9635385683125124.\u001b[0m\n",
      "\u001b[32m[I 2021-04-23 10:08:48,530]\u001b[0m Trial 48 finished with value: 0.9424387765219114 and parameters: {'classifier': 'RandomForest', 'rf_max_depth': 3}. Best is trial 15 with value: 0.9635385683125124.\u001b[0m\n",
      "\u001b[32m[I 2021-04-23 10:08:48,597]\u001b[0m Trial 49 finished with value: 0.9527377057307159 and parameters: {'classifier': 'RandomForest', 'rf_max_depth': 3}. Best is trial 15 with value: 0.9635385683125124.\u001b[0m\n",
      "\u001b[32m[I 2021-04-23 10:08:48,664]\u001b[0m Trial 50 finished with value: 0.9506308249058101 and parameters: {'classifier': 'RandomForest', 'rf_max_depth': 2}. Best is trial 15 with value: 0.9635385683125124.\u001b[0m\n",
      "\u001b[32m[I 2021-04-23 10:08:48,729]\u001b[0m Trial 51 finished with value: 0.953419343644656 and parameters: {'classifier': 'RandomForest', 'rf_max_depth': 2}. Best is trial 15 with value: 0.9635385683125124.\u001b[0m\n",
      "\u001b[32m[I 2021-04-23 10:08:48,798]\u001b[0m Trial 52 finished with value: 0.9536734086853064 and parameters: {'classifier': 'RandomForest', 'rf_max_depth': 4}. Best is trial 15 with value: 0.9635385683125124.\u001b[0m\n",
      "\u001b[32m[I 2021-04-23 10:08:48,867]\u001b[0m Trial 53 finished with value: 0.9490940412452905 and parameters: {'classifier': 'RandomForest', 'rf_max_depth': 3}. Best is trial 15 with value: 0.9635385683125124.\u001b[0m\n",
      "\u001b[32m[I 2021-04-23 10:08:48,934]\u001b[0m Trial 54 finished with value: 0.9547392425143763 and parameters: {'classifier': 'RandomForest', 'rf_max_depth': 7}. Best is trial 15 with value: 0.9635385683125124.\u001b[0m\n",
      "\u001b[32m[I 2021-04-23 10:08:49,020]\u001b[0m Trial 55 finished with value: 0.94709250446163 and parameters: {'classifier': 'RandomForest', 'rf_max_depth': 3}. Best is trial 15 with value: 0.9635385683125124.\u001b[0m\n",
      "\u001b[32m[I 2021-04-23 10:08:49,114]\u001b[0m Trial 56 finished with value: 0.9523473131072775 and parameters: {'classifier': 'RandomForest', 'rf_max_depth': 3}. Best is trial 15 with value: 0.9635385683125124.\u001b[0m\n",
      "\u001b[32m[I 2021-04-23 10:08:49,245]\u001b[0m Trial 57 finished with value: 0.9612271961134247 and parameters: {'classifier': 'RandomForest', 'rf_max_depth': 5}. Best is trial 15 with value: 0.9635385683125124.\u001b[0m\n",
      "\u001b[32m[I 2021-04-23 10:08:49,330]\u001b[0m Trial 58 finished with value: 0.9473527662105888 and parameters: {'classifier': 'RandomForest', 'rf_max_depth': 2}. Best is trial 15 with value: 0.9635385683125124.\u001b[0m\n",
      "\u001b[32m[I 2021-04-23 10:08:49,639]\u001b[0m Trial 59 finished with value: 0.4928056216537775 and parameters: {'classifier': 'SVC', 'svc_c': 1.9011409964362644e-10}. Best is trial 15 with value: 0.9635385683125124.\u001b[0m\n",
      "\u001b[32m[I 2021-04-23 10:08:49,729]\u001b[0m Trial 60 finished with value: 0.9455557208011105 and parameters: {'classifier': 'RandomForest', 'rf_max_depth': 2}. Best is trial 15 with value: 0.9635385683125124.\u001b[0m\n",
      "\u001b[32m[I 2021-04-23 10:08:49,810]\u001b[0m Trial 61 finished with value: 0.9550552746381124 and parameters: {'classifier': 'RandomForest', 'rf_max_depth': 3}. Best is trial 15 with value: 0.9635385683125124.\u001b[0m\n",
      "\u001b[32m[I 2021-04-23 10:08:49,888]\u001b[0m Trial 62 finished with value: 0.9409577632361689 and parameters: {'classifier': 'RandomForest', 'rf_max_depth': 3}. Best is trial 15 with value: 0.9635385683125124.\u001b[0m\n",
      "\u001b[32m[I 2021-04-23 10:08:49,962]\u001b[0m Trial 63 finished with value: 0.9579925143763632 and parameters: {'classifier': 'RandomForest', 'rf_max_depth': 4}. Best is trial 15 with value: 0.9635385683125124.\u001b[0m\n",
      "\u001b[32m[I 2021-04-23 10:08:50,035]\u001b[0m Trial 64 finished with value: 0.9537663593099346 and parameters: {'classifier': 'RandomForest', 'rf_max_depth': 2}. Best is trial 15 with value: 0.9635385683125124.\u001b[0m\n",
      "\u001b[32m[I 2021-04-23 10:08:50,106]\u001b[0m Trial 65 finished with value: 0.9505502676977988 and parameters: {'classifier': 'RandomForest', 'rf_max_depth': 2}. Best is trial 15 with value: 0.9635385683125124.\u001b[0m\n",
      "\u001b[32m[I 2021-04-23 10:08:50,184]\u001b[0m Trial 66 finished with value: 0.9538593099345628 and parameters: {'classifier': 'RandomForest', 'rf_max_depth': 4}. Best is trial 15 with value: 0.9635385683125124.\u001b[0m\n",
      "\u001b[32m[I 2021-04-23 10:08:50,257]\u001b[0m Trial 67 finished with value: 0.9543488498909379 and parameters: {'classifier': 'RandomForest', 'rf_max_depth': 4}. Best is trial 15 with value: 0.9635385683125124.\u001b[0m\n",
      "\u001b[32m[I 2021-04-23 10:08:50,334]\u001b[0m Trial 68 finished with value: 0.9546586853063652 and parameters: {'classifier': 'RandomForest', 'rf_max_depth': 4}. Best is trial 15 with value: 0.9635385683125124.\u001b[0m\n",
      "\u001b[32m[I 2021-04-23 10:08:50,405]\u001b[0m Trial 69 finished with value: 0.9510893813206426 and parameters: {'classifier': 'RandomForest', 'rf_max_depth': 2}. Best is trial 15 with value: 0.9635385683125124.\u001b[0m\n",
      "\u001b[32m[I 2021-04-23 10:08:50,475]\u001b[0m Trial 70 finished with value: 0.9552845528455284 and parameters: {'classifier': 'RandomForest', 'rf_max_depth': 3}. Best is trial 15 with value: 0.9635385683125124.\u001b[0m\n",
      "\u001b[32m[I 2021-04-23 10:08:50,549]\u001b[0m Trial 71 finished with value: 0.9561892722585762 and parameters: {'classifier': 'RandomForest', 'rf_max_depth': 3}. Best is trial 15 with value: 0.9635385683125124.\u001b[0m\n",
      "\u001b[32m[I 2021-04-23 10:08:50,643]\u001b[0m Trial 72 finished with value: 0.9392908487011699 and parameters: {'classifier': 'RandomForest', 'rf_max_depth': 4}. Best is trial 15 with value: 0.9635385683125124.\u001b[0m\n",
      "\u001b[32m[I 2021-04-23 10:08:50,749]\u001b[0m Trial 73 finished with value: 0.9475882411263136 and parameters: {'classifier': 'RandomForest', 'rf_max_depth': 6}. Best is trial 15 with value: 0.9635385683125124.\u001b[0m\n",
      "\u001b[32m[I 2021-04-23 10:08:50,815]\u001b[0m Trial 74 finished with value: 0.9572489093793376 and parameters: {'classifier': 'RandomForest', 'rf_max_depth': 3}. Best is trial 15 with value: 0.9635385683125124.\u001b[0m\n",
      "\u001b[32m[I 2021-04-23 10:08:50,897]\u001b[0m Trial 75 finished with value: 0.9515169541939322 and parameters: {'classifier': 'RandomForest', 'rf_max_depth': 5}. Best is trial 15 with value: 0.9635385683125124.\u001b[0m\n",
      "\u001b[32m[I 2021-04-23 10:08:50,966]\u001b[0m Trial 76 finished with value: 0.9591451021217529 and parameters: {'classifier': 'RandomForest', 'rf_max_depth': 3}. Best is trial 15 with value: 0.9635385683125124.\u001b[0m\n",
      "\u001b[32m[I 2021-04-23 10:08:51,032]\u001b[0m Trial 77 finished with value: 0.9599196906603211 and parameters: {'classifier': 'RandomForest', 'rf_max_depth': 2}. Best is trial 15 with value: 0.9635385683125124.\u001b[0m\n",
      "\u001b[32m[I 2021-04-23 10:08:51,243]\u001b[0m Trial 78 finished with value: 0.4949248958953005 and parameters: {'classifier': 'SVC', 'svc_c': 197219.07450232736}. Best is trial 15 with value: 0.9635385683125124.\u001b[0m\n",
      "\u001b[32m[I 2021-04-23 10:08:51,319]\u001b[0m Trial 79 finished with value: 0.9488585663295659 and parameters: {'classifier': 'RandomForest', 'rf_max_depth': 2}. Best is trial 15 with value: 0.9635385683125124.\u001b[0m\n"
     ]
    },
    {
     "name": "stderr",
     "output_type": "stream",
     "text": [
      "\u001b[32m[I 2021-04-23 10:08:51,402]\u001b[0m Trial 80 finished with value: 0.9437400852667063 and parameters: {'classifier': 'RandomForest', 'rf_max_depth': 2}. Best is trial 15 with value: 0.9635385683125124.\u001b[0m\n",
      "\u001b[32m[I 2021-04-23 10:08:51,476]\u001b[0m Trial 81 finished with value: 0.9548941602220901 and parameters: {'classifier': 'RandomForest', 'rf_max_depth': 3}. Best is trial 15 with value: 0.9635385683125124.\u001b[0m\n",
      "\u001b[32m[I 2021-04-23 10:08:51,560]\u001b[0m Trial 82 finished with value: 0.9613697204045213 and parameters: {'classifier': 'RandomForest', 'rf_max_depth': 3}. Best is trial 15 with value: 0.9635385683125124.\u001b[0m\n",
      "\u001b[32m[I 2021-04-23 10:08:51,641]\u001b[0m Trial 83 finished with value: 0.9564061570493753 and parameters: {'classifier': 'RandomForest', 'rf_max_depth': 4}. Best is trial 15 with value: 0.9635385683125124.\u001b[0m\n",
      "\u001b[32m[I 2021-04-23 10:08:51,700]\u001b[0m Trial 84 finished with value: 0.9607314594487409 and parameters: {'classifier': 'RandomForest', 'rf_max_depth': 2}. Best is trial 15 with value: 0.9635385683125124.\u001b[0m\n",
      "\u001b[32m[I 2021-04-23 10:08:51,765]\u001b[0m Trial 85 finished with value: 0.9523473131072775 and parameters: {'classifier': 'RandomForest', 'rf_max_depth': 2}. Best is trial 15 with value: 0.9635385683125124.\u001b[0m\n",
      "\u001b[32m[I 2021-04-23 10:08:51,815]\u001b[0m Trial 86 finished with value: 0.9447439520126908 and parameters: {'classifier': 'RandomForest', 'rf_max_depth': 2}. Best is trial 15 with value: 0.9635385683125124.\u001b[0m\n",
      "\u001b[32m[I 2021-04-23 10:08:51,898]\u001b[0m Trial 87 finished with value: 0.9542435058496928 and parameters: {'classifier': 'RandomForest', 'rf_max_depth': 2}. Best is trial 15 with value: 0.9635385683125124.\u001b[0m\n",
      "\u001b[32m[I 2021-04-23 10:08:51,969]\u001b[0m Trial 88 finished with value: 0.962627652191156 and parameters: {'classifier': 'RandomForest', 'rf_max_depth': 2}. Best is trial 15 with value: 0.9635385683125124.\u001b[0m\n",
      "\u001b[32m[I 2021-04-23 10:08:52,038]\u001b[0m Trial 89 finished with value: 0.9488585663295659 and parameters: {'classifier': 'RandomForest', 'rf_max_depth': 2}. Best is trial 15 with value: 0.9635385683125124.\u001b[0m\n",
      "\u001b[32m[I 2021-04-23 10:08:52,099]\u001b[0m Trial 90 finished with value: 0.9417323517747374 and parameters: {'classifier': 'RandomForest', 'rf_max_depth': 2}. Best is trial 15 with value: 0.9635385683125124.\u001b[0m\n",
      "\u001b[32m[I 2021-04-23 10:08:52,166]\u001b[0m Trial 91 finished with value: 0.9500359409081894 and parameters: {'classifier': 'RandomForest', 'rf_max_depth': 2}. Best is trial 15 with value: 0.9635385683125124.\u001b[0m\n",
      "\u001b[32m[I 2021-04-23 10:08:52,234]\u001b[0m Trial 92 finished with value: 0.9514859706523895 and parameters: {'classifier': 'RandomForest', 'rf_max_depth': 2}. Best is trial 15 with value: 0.9635385683125124.\u001b[0m\n",
      "\u001b[32m[I 2021-04-23 10:08:52,308]\u001b[0m Trial 93 finished with value: 0.9536981955185405 and parameters: {'classifier': 'RandomForest', 'rf_max_depth': 3}. Best is trial 15 with value: 0.9635385683125124.\u001b[0m\n",
      "\u001b[32m[I 2021-04-23 10:08:52,367]\u001b[0m Trial 94 finished with value: 0.9528244596470353 and parameters: {'classifier': 'RandomForest', 'rf_max_depth': 2}. Best is trial 15 with value: 0.9635385683125124.\u001b[0m\n",
      "\u001b[32m[I 2021-04-23 10:08:52,433]\u001b[0m Trial 95 finished with value: 0.9543674400158636 and parameters: {'classifier': 'RandomForest', 'rf_max_depth': 2}. Best is trial 15 with value: 0.9635385683125124.\u001b[0m\n",
      "\u001b[32m[I 2021-04-23 10:08:52,510]\u001b[0m Trial 96 finished with value: 0.9542311124330757 and parameters: {'classifier': 'RandomForest', 'rf_max_depth': 2}. Best is trial 15 with value: 0.9635385683125124.\u001b[0m\n",
      "\u001b[32m[I 2021-04-23 10:08:52,578]\u001b[0m Trial 97 finished with value: 0.949156008328376 and parameters: {'classifier': 'RandomForest', 'rf_max_depth': 2}. Best is trial 15 with value: 0.9635385683125124.\u001b[0m\n",
      "\u001b[32m[I 2021-04-23 10:08:52,643]\u001b[0m Trial 98 finished with value: 0.9469747670037677 and parameters: {'classifier': 'RandomForest', 'rf_max_depth': 2}. Best is trial 15 with value: 0.9635385683125124.\u001b[0m\n",
      "\u001b[32m[I 2021-04-23 10:08:52,709]\u001b[0m Trial 99 finished with value: 0.9485921078722983 and parameters: {'classifier': 'RandomForest', 'rf_max_depth': 2}. Best is trial 15 with value: 0.9635385683125124.\u001b[0m\n"
     ]
    },
    {
     "name": "stdout",
     "output_type": "stream",
     "text": [
      "FrozenTrial(number=15, values=[0.9635385683125124], datetime_start=datetime.datetime(2021, 4, 23, 10, 8, 45, 250842), datetime_complete=datetime.datetime(2021, 4, 23, 10, 8, 45, 356441), params={'classifier': 'RandomForest', 'rf_max_depth': 6}, distributions={'classifier': CategoricalDistribution(choices=('SVC', 'RandomForest')), 'rf_max_depth': IntLogUniformDistribution(high=32, low=2, step=1)}, user_attrs={}, system_attrs={}, intermediate_values={}, trial_id=15, state=TrialState.COMPLETE, value=None)\n"
     ]
    }
   ],
   "source": [
    "study = optuna.create_study(direction=\"maximize\")\n",
    "study.optimize(objective, n_trials=100)\n",
    "print(study.best_trial)"
   ]
  },
  {
   "cell_type": "code",
   "execution_count": null,
   "metadata": {},
   "outputs": [],
   "source": []
  },
  {
   "cell_type": "code",
   "execution_count": null,
   "metadata": {},
   "outputs": [],
   "source": []
  },
  {
   "cell_type": "code",
   "execution_count": 42,
   "metadata": {},
   "outputs": [],
   "source": [
    "def objective(trial):\n",
    "    data, target = sklearn.datasets.load_breast_cancer(return_X_y=True)\n",
    "    train_x, valid_x, train_y, valid_y = train_test_split(data, target, test_size=0.25)\n",
    "    dtrain = lgb.Dataset(train_x, label=train_y)\n",
    "\n",
    "    param = {\n",
    "        \"objective\": \"binary\",\n",
    "        \"metric\": \"binary_logloss\",\n",
    "        \"verbosity\": -1,\n",
    "        \"boosting_type\": \"gbdt\",\n",
    "        \"lambda_l1\": trial.suggest_float(\"lambda_l1\", 1e-8, 10.0, log=True),\n",
    "        \"lambda_l2\": trial.suggest_float(\"lambda_l2\", 1e-8, 10.0, log=True),\n",
    "        \"num_leaves\": trial.suggest_int(\"num_leaves\", 2, 256),\n",
    "        \"feature_fraction\": trial.suggest_float(\"feature_fraction\", 0.4, 1.0),\n",
    "        \"bagging_fraction\": trial.suggest_float(\"bagging_fraction\", 0.4, 1.0),\n",
    "        \"bagging_freq\": trial.suggest_int(\"bagging_freq\", 1, 7),\n",
    "        \"min_child_samples\": trial.suggest_int(\"min_child_samples\", 5, 100),\n",
    "    }\n",
    "\n",
    "    gbm = lgb.train(param, dtrain)\n",
    "    preds = gbm.predict(valid_x)\n",
    "    pred_labels = np.rint(preds)\n",
    "    accuracy = sklearn.metrics.roc_auc_score(valid_y, pred_labels)\n",
    "    return accuracy"
   ]
  },
  {
   "cell_type": "code",
   "execution_count": 45,
   "metadata": {
    "scrolled": true
   },
   "outputs": [
    {
     "name": "stderr",
     "output_type": "stream",
     "text": [
      "\u001b[32m[I 2021-04-23 10:10:00,768]\u001b[0m A new study created in memory with name: no-name-4e9edc0e-399f-41de-b49c-4ffe18cc6d25\u001b[0m\n",
      "\u001b[32m[I 2021-04-23 10:10:00,844]\u001b[0m Trial 0 finished with value: 0.9735105957616952 and parameters: {'lambda_l1': 1.7116940813146702e-07, 'lambda_l2': 3.6166856136736264e-07, 'num_leaves': 158, 'feature_fraction': 0.7281119227011377, 'bagging_fraction': 0.598008723364909, 'bagging_freq': 6, 'min_child_samples': 95}. Best is trial 0 with value: 0.9735105957616952.\u001b[0m\n",
      "\u001b[32m[I 2021-04-23 10:10:00,983]\u001b[0m Trial 1 finished with value: 0.9505494505494506 and parameters: {'lambda_l1': 0.00017781395291338654, 'lambda_l2': 3.8300030923728006, 'num_leaves': 210, 'feature_fraction': 0.8343161842873656, 'bagging_fraction': 0.7541852861689529, 'bagging_freq': 2, 'min_child_samples': 7}. Best is trial 0 with value: 0.9735105957616952.\u001b[0m\n",
      "\u001b[32m[I 2021-04-23 10:10:01,057]\u001b[0m Trial 2 finished with value: 0.967467159277504 and parameters: {'lambda_l1': 0.005019713703390371, 'lambda_l2': 1.573843213705107e-07, 'num_leaves': 57, 'feature_fraction': 0.7893772802283612, 'bagging_fraction': 0.9743571918580541, 'bagging_freq': 2, 'min_child_samples': 71}. Best is trial 0 with value: 0.9735105957616952.\u001b[0m\n",
      "\u001b[32m[I 2021-04-23 10:10:01,158]\u001b[0m Trial 3 finished with value: 0.9787234042553192 and parameters: {'lambda_l1': 0.16860068772375802, 'lambda_l2': 1.4258595345202695e-08, 'num_leaves': 235, 'feature_fraction': 0.6296883846379318, 'bagging_fraction': 0.45232625134068644, 'bagging_freq': 2, 'min_child_samples': 10}. Best is trial 3 with value: 0.9787234042553192.\u001b[0m\n",
      "\u001b[32m[I 2021-04-23 10:10:01,235]\u001b[0m Trial 4 finished with value: 0.934626149540184 and parameters: {'lambda_l1': 1.589499568121954e-07, 'lambda_l2': 0.05905760322392945, 'num_leaves': 226, 'feature_fraction': 0.7026186305636766, 'bagging_fraction': 0.549855855833295, 'bagging_freq': 7, 'min_child_samples': 89}. Best is trial 3 with value: 0.9787234042553192.\u001b[0m\n",
      "\u001b[32m[I 2021-04-23 10:10:01,307]\u001b[0m Trial 5 finished with value: 0.957890070921986 and parameters: {'lambda_l1': 0.0006340196613851938, 'lambda_l2': 0.024546361376811213, 'num_leaves': 4, 'feature_fraction': 0.510278469175214, 'bagging_fraction': 0.7567200666006155, 'bagging_freq': 3, 'min_child_samples': 45}. Best is trial 3 with value: 0.9787234042553192.\u001b[0m\n",
      "\u001b[32m[I 2021-04-23 10:10:01,392]\u001b[0m Trial 6 finished with value: 0.9738636363636363 and parameters: {'lambda_l1': 2.150943012787869e-07, 'lambda_l2': 0.04814168650314148, 'num_leaves': 220, 'feature_fraction': 0.8929688944787555, 'bagging_fraction': 0.5963609823769395, 'bagging_freq': 2, 'min_child_samples': 64}. Best is trial 3 with value: 0.9787234042553192.\u001b[0m\n",
      "\u001b[32m[I 2021-04-23 10:10:01,465]\u001b[0m Trial 7 finished with value: 0.957890070921986 and parameters: {'lambda_l1': 4.692215484722589e-07, 'lambda_l2': 5.451823858596994, 'num_leaves': 192, 'feature_fraction': 0.7053063309785346, 'bagging_fraction': 0.4926648676375945, 'bagging_freq': 2, 'min_child_samples': 68}. Best is trial 3 with value: 0.9787234042553192.\u001b[0m\n",
      "\u001b[32m[I 2021-04-23 10:10:01,537]\u001b[0m Trial 8 finished with value: 0.946590909090909 and parameters: {'lambda_l1': 3.4988303874249205e-06, 'lambda_l2': 0.0007299068603173957, 'num_leaves': 6, 'feature_fraction': 0.648296081649835, 'bagging_fraction': 0.804119419018066, 'bagging_freq': 1, 'min_child_samples': 78}. Best is trial 3 with value: 0.9787234042553192.\u001b[0m\n",
      "\u001b[32m[I 2021-04-23 10:10:01,612]\u001b[0m Trial 9 finished with value: 0.9736842105263158 and parameters: {'lambda_l1': 0.00037777694133784824, 'lambda_l2': 1.1036069327020447e-05, 'num_leaves': 133, 'feature_fraction': 0.9342806475808677, 'bagging_fraction': 0.515073158775188, 'bagging_freq': 4, 'min_child_samples': 82}. Best is trial 3 with value: 0.9787234042553192.\u001b[0m\n",
      "\u001b[32m[I 2021-04-23 10:10:01,737]\u001b[0m Trial 10 finished with value: 0.9611155537784887 and parameters: {'lambda_l1': 6.9327854773213025, 'lambda_l2': 1.4199958350561929e-08, 'num_leaves': 81, 'feature_fraction': 0.40135852801102334, 'bagging_fraction': 0.89659570013133, 'bagging_freq': 5, 'min_child_samples': 18}. Best is trial 3 with value: 0.9787234042553192.\u001b[0m\n",
      "\u001b[32m[I 2021-04-23 10:10:01,877]\u001b[0m Trial 11 finished with value: 0.9749573742540495 and parameters: {'lambda_l1': 1.5643831915695308, 'lambda_l2': 0.034298600423410625, 'num_leaves': 253, 'feature_fraction': 0.5667373562483798, 'bagging_fraction': 0.4270079423744529, 'bagging_freq': 1, 'min_child_samples': 40}. Best is trial 3 with value: 0.9787234042553192.\u001b[0m\n",
      "\u001b[32m[I 2021-04-23 10:10:02,024]\u001b[0m Trial 12 finished with value: 0.9644654088050315 and parameters: {'lambda_l1': 2.316122109854909, 'lambda_l2': 0.0004876185666879501, 'num_leaves': 254, 'feature_fraction': 0.5543996630737704, 'bagging_fraction': 0.41594474806802345, 'bagging_freq': 1, 'min_child_samples': 33}. Best is trial 3 with value: 0.9787234042553192.\u001b[0m\n",
      "\u001b[32m[I 2021-04-23 10:10:02,175]\u001b[0m Trial 13 finished with value: 0.9708282333741329 and parameters: {'lambda_l1': 0.19224588559247138, 'lambda_l2': 1.0861457405192036e-05, 'num_leaves': 248, 'feature_fraction': 0.6024937099040307, 'bagging_fraction': 0.4111237722361852, 'bagging_freq': 1, 'min_child_samples': 26}. Best is trial 3 with value: 0.9787234042553192.\u001b[0m\n",
      "\u001b[32m[I 2021-04-23 10:10:02,314]\u001b[0m Trial 14 finished with value: 0.9640878090366581 and parameters: {'lambda_l1': 0.12205345731714991, 'lambda_l2': 0.7792118285569583, 'num_leaves': 184, 'feature_fraction': 0.4442052940847791, 'bagging_fraction': 0.4189666907970157, 'bagging_freq': 3, 'min_child_samples': 47}. Best is trial 3 with value: 0.9787234042553192.\u001b[0m\n",
      "\u001b[32m[I 2021-04-23 10:10:02,475]\u001b[0m Trial 15 finished with value: 0.9601493139628733 and parameters: {'lambda_l1': 0.21063944664706574, 'lambda_l2': 0.003912022085138472, 'num_leaves': 256, 'feature_fraction': 0.4948841228984342, 'bagging_fraction': 0.6519748604977325, 'bagging_freq': 3, 'min_child_samples': 6}. Best is trial 3 with value: 0.9787234042553192.\u001b[0m\n",
      "\u001b[32m[I 2021-04-23 10:10:02,607]\u001b[0m Trial 16 finished with value: 0.9634868421052631 and parameters: {'lambda_l1': 0.008710832770036214, 'lambda_l2': 5.166209834717806e-05, 'num_leaves': 97, 'feature_fraction': 0.613832418053123, 'bagging_fraction': 0.46828831944002575, 'bagging_freq': 1, 'min_child_samples': 35}. Best is trial 3 with value: 0.9787234042553192.\u001b[0m\n",
      "\u001b[32m[I 2021-04-23 10:10:02,735]\u001b[0m Trial 17 finished with value: 0.9628767730496455 and parameters: {'lambda_l1': 2.2739898762634563, 'lambda_l2': 0.5783985044108747, 'num_leaves': 166, 'feature_fraction': 0.5758112641253934, 'bagging_fraction': 0.40921771357976305, 'bagging_freq': 4, 'min_child_samples': 16}. Best is trial 3 with value: 0.9787234042553192.\u001b[0m\n",
      "\u001b[32m[I 2021-04-23 10:10:02,864]\u001b[0m Trial 18 finished with value: 0.9693122750899639 and parameters: {'lambda_l1': 0.05232215212199398, 'lambda_l2': 1.19969774726111e-08, 'num_leaves': 238, 'feature_fraction': 0.4981720026838655, 'bagging_fraction': 0.665046095091323, 'bagging_freq': 3, 'min_child_samples': 57}. Best is trial 3 with value: 0.9787234042553192.\u001b[0m\n",
      "\u001b[32m[I 2021-04-23 10:10:03,001]\u001b[0m Trial 19 finished with value: 0.9511530398322852 and parameters: {'lambda_l1': 1.6080925632901566, 'lambda_l2': 0.0029241651108864075, 'num_leaves': 196, 'feature_fraction': 0.6505100420121629, 'bagging_fraction': 0.46846530711413376, 'bagging_freq': 1, 'min_child_samples': 17}. Best is trial 3 with value: 0.9787234042553192.\u001b[0m\n",
      "\u001b[32m[I 2021-04-23 10:10:03,126]\u001b[0m Trial 20 finished with value: 0.9164473684210526 and parameters: {'lambda_l1': 9.713458828296142, 'lambda_l2': 7.633651034785745e-05, 'num_leaves': 134, 'feature_fraction': 0.7873604283359579, 'bagging_fraction': 0.5567953204825428, 'bagging_freq': 2, 'min_child_samples': 39}. Best is trial 3 with value: 0.9787234042553192.\u001b[0m\n",
      "\u001b[32m[I 2021-04-23 10:10:03,258]\u001b[0m Trial 21 finished with value: 0.9474704202366381 and parameters: {'lambda_l1': 1.645048885629164e-05, 'lambda_l2': 0.039397455880083275, 'num_leaves': 215, 'feature_fraction': 0.9693494447629694, 'bagging_fraction': 0.5763140503260686, 'bagging_freq': 2, 'min_child_samples': 58}. Best is trial 3 with value: 0.9787234042553192.\u001b[0m\n"
     ]
    },
    {
     "name": "stderr",
     "output_type": "stream",
     "text": [
      "\u001b[32m[I 2021-04-23 10:10:03,397]\u001b[0m Trial 22 finished with value: 0.9711460855528652 and parameters: {'lambda_l1': 1.3091750382830323e-08, 'lambda_l2': 0.19140963951942008, 'num_leaves': 227, 'feature_fraction': 0.8761735983635903, 'bagging_fraction': 0.6230312823981393, 'bagging_freq': 2, 'min_child_samples': 54}. Best is trial 3 with value: 0.9787234042553192.\u001b[0m\n",
      "\u001b[32m[I 2021-04-23 10:10:03,521]\u001b[0m Trial 23 finished with value: 0.9738868081564711 and parameters: {'lambda_l1': 0.004912732867094552, 'lambda_l2': 0.005530802269483108, 'num_leaves': 250, 'feature_fraction': 0.6503445538144471, 'bagging_fraction': 0.5168089948693002, 'bagging_freq': 1, 'min_child_samples': 67}. Best is trial 3 with value: 0.9787234042553192.\u001b[0m\n",
      "\u001b[32m[I 2021-04-23 10:10:03,674]\u001b[0m Trial 24 finished with value: 0.9426535087719299 and parameters: {'lambda_l1': 0.010811787946789254, 'lambda_l2': 0.004812265017124495, 'num_leaves': 256, 'feature_fraction': 0.6554346901426585, 'bagging_fraction': 0.4607785136611256, 'bagging_freq': 1, 'min_child_samples': 27}. Best is trial 3 with value: 0.9787234042553192.\u001b[0m\n",
      "\u001b[32m[I 2021-04-23 10:10:03,808]\u001b[0m Trial 25 finished with value: 0.9423655913978495 and parameters: {'lambda_l1': 0.7362960343175469, 'lambda_l2': 0.009685705925442828, 'num_leaves': 256, 'feature_fraction': 0.5402496814957961, 'bagging_fraction': 0.5152215066481834, 'bagging_freq': 1, 'min_child_samples': 46}. Best is trial 3 with value: 0.9787234042553192.\u001b[0m\n",
      "\u001b[32m[I 2021-04-23 10:10:03,922]\u001b[0m Trial 26 finished with value: 0.965376984126984 and parameters: {'lambda_l1': 0.019777329909686992, 'lambda_l2': 0.0007927418297230965, 'num_leaves': 241, 'feature_fraction': 0.7421271160923993, 'bagging_fraction': 0.44346191254476963, 'bagging_freq': 3, 'min_child_samples': 76}. Best is trial 3 with value: 0.9787234042553192.\u001b[0m\n",
      "\u001b[32m[I 2021-04-23 10:10:04,053]\u001b[0m Trial 27 finished with value: 0.9546703296703296 and parameters: {'lambda_l1': 0.002221187396082469, 'lambda_l2': 0.00013406971886816452, 'num_leaves': 172, 'feature_fraction': 0.6195153763490112, 'bagging_fraction': 0.503782598147487, 'bagging_freq': 1, 'min_child_samples': 62}. Best is trial 3 with value: 0.9787234042553192.\u001b[0m\n",
      "\u001b[32m[I 2021-04-23 10:10:04,187]\u001b[0m Trial 28 finished with value: 0.9647727272727272 and parameters: {'lambda_l1': 0.03543315840843414, 'lambda_l2': 0.35890851741462243, 'num_leaves': 209, 'feature_fraction': 0.6636476004100468, 'bagging_fraction': 0.5428411425777473, 'bagging_freq': 5, 'min_child_samples': 89}. Best is trial 3 with value: 0.9787234042553192.\u001b[0m\n",
      "\u001b[32m[I 2021-04-23 10:10:04,352]\u001b[0m Trial 29 finished with value: 0.9368351063829787 and parameters: {'lambda_l1': 0.5569867541059341, 'lambda_l2': 1.1391857758975377e-06, 'num_leaves': 146, 'feature_fraction': 0.7657136739233664, 'bagging_fraction': 0.4456879526417159, 'bagging_freq': 7, 'min_child_samples': 97}. Best is trial 3 with value: 0.9787234042553192.\u001b[0m\n",
      "\u001b[32m[I 2021-04-23 10:10:04,553]\u001b[0m Trial 30 finished with value: 0.979247311827957 and parameters: {'lambda_l1': 5.7643519956484746e-05, 'lambda_l2': 1.0317735334788574e-07, 'num_leaves': 236, 'feature_fraction': 0.4442908691805864, 'bagging_fraction': 0.4018445803342843, 'bagging_freq': 2, 'min_child_samples': 11}. Best is trial 30 with value: 0.979247311827957.\u001b[0m\n",
      "\u001b[32m[I 2021-04-23 10:10:04,758]\u001b[0m Trial 31 finished with value: 0.9649122807017544 and parameters: {'lambda_l1': 0.00010250385267172108, 'lambda_l2': 7.473608100684979e-08, 'num_leaves': 234, 'feature_fraction': 0.44318434682019714, 'bagging_fraction': 0.4186785404319661, 'bagging_freq': 2, 'min_child_samples': 9}. Best is trial 30 with value: 0.979247311827957.\u001b[0m\n",
      "\u001b[32m[I 2021-04-23 10:10:04,916]\u001b[0m Trial 32 finished with value: 0.9424677486475239 and parameters: {'lambda_l1': 1.860673935338566e-05, 'lambda_l2': 7.040320238743092e-07, 'num_leaves': 203, 'feature_fraction': 0.44156262287079673, 'bagging_fraction': 0.4004760816882769, 'bagging_freq': 2, 'min_child_samples': 24}. Best is trial 30 with value: 0.979247311827957.\u001b[0m\n",
      "\u001b[32m[I 2021-04-23 10:10:05,115]\u001b[0m Trial 33 finished with value: 0.9666666666666667 and parameters: {'lambda_l1': 0.001119976445150154, 'lambda_l2': 3.398838664114404e-08, 'num_leaves': 242, 'feature_fraction': 0.5696638020782614, 'bagging_fraction': 0.4832246301181803, 'bagging_freq': 1, 'min_child_samples': 7}. Best is trial 30 with value: 0.979247311827957.\u001b[0m\n",
      "\u001b[32m[I 2021-04-23 10:10:05,300]\u001b[0m Trial 34 finished with value: 0.9746236559139785 and parameters: {'lambda_l1': 0.003147795361339102, 'lambda_l2': 2.5716496817151245e-07, 'num_leaves': 179, 'feature_fraction': 0.5279151051325388, 'bagging_fraction': 0.5283661260005547, 'bagging_freq': 2, 'min_child_samples': 12}. Best is trial 30 with value: 0.979247311827957.\u001b[0m\n",
      "\u001b[32m[I 2021-04-23 10:10:05,503]\u001b[0m Trial 35 finished with value: 0.9488636363636364 and parameters: {'lambda_l1': 0.00013411674366271546, 'lambda_l2': 3.7805524291665015e-07, 'num_leaves': 178, 'feature_fraction': 0.5225287194015111, 'bagging_fraction': 0.7216409223935585, 'bagging_freq': 3, 'min_child_samples': 13}. Best is trial 30 with value: 0.979247311827957.\u001b[0m\n",
      "\u001b[32m[I 2021-04-23 10:10:05,640]\u001b[0m Trial 36 finished with value: 0.9558080808080808 and parameters: {'lambda_l1': 2.9635180369017753e-05, 'lambda_l2': 3.4879233184905093e-06, 'num_leaves': 113, 'feature_fraction': 0.4751336611702471, 'bagging_fraction': 0.43997746624410494, 'bagging_freq': 2, 'min_child_samples': 22}. Best is trial 30 with value: 0.979247311827957.\u001b[0m\n",
      "\u001b[32m[I 2021-04-23 10:10:05,849]\u001b[0m Trial 37 finished with value: 0.9419878296146045 and parameters: {'lambda_l1': 4.121722515575325e-06, 'lambda_l2': 1.3678609564553047e-07, 'num_leaves': 151, 'feature_fraction': 0.4025118191955123, 'bagging_fraction': 0.5427802831274174, 'bagging_freq': 2, 'min_child_samples': 11}. Best is trial 30 with value: 0.979247311827957.\u001b[0m\n",
      "\u001b[32m[I 2021-04-23 10:10:05,996]\u001b[0m Trial 38 finished with value: 0.9835164835164836 and parameters: {'lambda_l1': 0.002872591682821266, 'lambda_l2': 2.587716449379768e-08, 'num_leaves': 222, 'feature_fraction': 0.587438002355751, 'bagging_fraction': 0.6068200308732099, 'bagging_freq': 4, 'min_child_samples': 33}. Best is trial 38 with value: 0.9835164835164836.\u001b[0m\n",
      "\u001b[32m[I 2021-04-23 10:10:06,151]\u001b[0m Trial 39 finished with value: 0.9384883720930233 and parameters: {'lambda_l1': 0.09069414029607684, 'lambda_l2': 2.6641202195045938e-08, 'num_leaves': 224, 'feature_fraction': 0.6836495545574003, 'bagging_fraction': 0.8150369394225436, 'bagging_freq': 5, 'min_child_samples': 31}. Best is trial 38 with value: 0.9835164835164836.\u001b[0m\n",
      "\u001b[32m[I 2021-04-23 10:10:06,294]\u001b[0m Trial 40 finished with value: 0.9537037037037037 and parameters: {'lambda_l1': 0.0006177701377494195, 'lambda_l2': 5.877699662190626e-08, 'num_leaves': 213, 'feature_fraction': 0.5917301478191, 'bagging_fraction': 0.5940962497827188, 'bagging_freq': 4, 'min_child_samples': 40}. Best is trial 38 with value: 0.9835164835164836.\u001b[0m\n",
      "\u001b[32m[I 2021-04-23 10:10:06,492]\u001b[0m Trial 41 finished with value: 0.9454400637196336 and parameters: {'lambda_l1': 7.080848344354048e-05, 'lambda_l2': 1.0051249940241245e-08, 'num_leaves': 196, 'feature_fraction': 0.5512549751199833, 'bagging_fraction': 0.6333505857839458, 'bagging_freq': 6, 'min_child_samples': 5}. Best is trial 38 with value: 0.9835164835164836.\u001b[0m\n",
      "\u001b[32m[I 2021-04-23 10:10:06,645]\u001b[0m Trial 42 finished with value: 0.958909853249476 and parameters: {'lambda_l1': 0.002531036687270563, 'lambda_l2': 1.6616290196445836e-07, 'num_leaves': 228, 'feature_fraction': 0.5349468568482206, 'bagging_fraction': 0.5652379133139459, 'bagging_freq': 3, 'min_child_samples': 22}. Best is trial 38 with value: 0.9835164835164836.\u001b[0m\n",
      "\u001b[32m[I 2021-04-23 10:10:06,771]\u001b[0m Trial 43 finished with value: 0.9647727272727272 and parameters: {'lambda_l1': 0.0005322043396610061, 'lambda_l2': 1.456763961542547e-06, 'num_leaves': 188, 'feature_fraction': 0.4705223375895511, 'bagging_fraction': 0.4910806460963835, 'bagging_freq': 4, 'min_child_samples': 40}. Best is trial 38 with value: 0.9835164835164836.\u001b[0m\n",
      "\u001b[32m[I 2021-04-23 10:10:06,912]\u001b[0m Trial 44 finished with value: 0.9567085953878407 and parameters: {'lambda_l1': 0.46341372614556886, 'lambda_l2': 2.3898016961258494e-07, 'num_leaves': 219, 'feature_fraction': 0.5828264058136209, 'bagging_fraction': 0.5280313860027585, 'bagging_freq': 5, 'min_child_samples': 29}. Best is trial 38 with value: 0.9835164835164836.\u001b[0m\n"
     ]
    },
    {
     "name": "stderr",
     "output_type": "stream",
     "text": [
      "\u001b[32m[I 2021-04-23 10:10:07,116]\u001b[0m Trial 45 finished with value: 0.9474304573314475 and parameters: {'lambda_l1': 3.798656629363934e-06, 'lambda_l2': 2.818378420433351e-08, 'num_leaves': 208, 'feature_fraction': 0.722337228612683, 'bagging_fraction': 0.6876596830104683, 'bagging_freq': 3, 'min_child_samples': 14}. Best is trial 38 with value: 0.9835164835164836.\u001b[0m\n",
      "\u001b[32m[I 2021-04-23 10:10:07,285]\u001b[0m Trial 46 finished with value: 0.9651937046004843 and parameters: {'lambda_l1': 0.0015245545656115199, 'lambda_l2': 9.773663466677798e-06, 'num_leaves': 54, 'feature_fraction': 0.628758647314315, 'bagging_fraction': 0.6123705960325917, 'bagging_freq': 4, 'min_child_samples': 35}. Best is trial 38 with value: 0.9835164835164836.\u001b[0m\n",
      "\u001b[32m[I 2021-04-23 10:10:07,443]\u001b[0m Trial 47 finished with value: 0.9522727272727273 and parameters: {'lambda_l1': 4.567012257160708, 'lambda_l2': 7.22830478467166e-08, 'num_leaves': 201, 'feature_fraction': 0.41853521702019236, 'bagging_fraction': 0.5822276576139348, 'bagging_freq': 2, 'min_child_samples': 21}. Best is trial 38 with value: 0.9835164835164836.\u001b[0m\n",
      "\u001b[32m[I 2021-04-23 10:10:07,587]\u001b[0m Trial 48 finished with value: 0.9632147141143542 and parameters: {'lambda_l1': 0.0002502951959304979, 'lambda_l2': 1.5410946829921264, 'num_leaves': 163, 'feature_fraction': 0.5016887949151316, 'bagging_fraction': 0.4404541845309577, 'bagging_freq': 3, 'min_child_samples': 19}. Best is trial 38 with value: 0.9835164835164836.\u001b[0m\n",
      "\u001b[32m[I 2021-04-23 10:10:07,719]\u001b[0m Trial 49 finished with value: 0.9412972085385879 and parameters: {'lambda_l1': 0.00496665487521159, 'lambda_l2': 3.918271955052763e-06, 'num_leaves': 238, 'feature_fraction': 0.5566636178050015, 'bagging_fraction': 0.4842520575007802, 'bagging_freq': 2, 'min_child_samples': 48}. Best is trial 38 with value: 0.9835164835164836.\u001b[0m\n",
      "\u001b[32m[I 2021-04-23 10:10:07,900]\u001b[0m Trial 50 finished with value: 0.9695225916453538 and parameters: {'lambda_l1': 0.02085150069208732, 'lambda_l2': 1.075565409364439e-08, 'num_leaves': 185, 'feature_fraction': 0.6852387342460394, 'bagging_fraction': 0.4004689704838217, 'bagging_freq': 3, 'min_child_samples': 5}. Best is trial 38 with value: 0.9835164835164836.\u001b[0m\n",
      "\u001b[32m[I 2021-04-23 10:10:08,020]\u001b[0m Trial 51 finished with value: 0.9644654088050315 and parameters: {'lambda_l1': 0.006708012165204994, 'lambda_l2': 0.10000848169641048, 'num_leaves': 249, 'feature_fraction': 0.6241609705815616, 'bagging_fraction': 0.5202082592491187, 'bagging_freq': 1, 'min_child_samples': 72}. Best is trial 38 with value: 0.9835164835164836.\u001b[0m\n",
      "\u001b[32m[I 2021-04-23 10:10:08,169]\u001b[0m Trial 52 finished with value: 0.9651937046004843 and parameters: {'lambda_l1': 0.003863115568274293, 'lambda_l2': 0.022698230217063194, 'num_leaves': 248, 'feature_fraction': 0.5908033980437644, 'bagging_fraction': 0.4595305412173068, 'bagging_freq': 1, 'min_child_samples': 51}. Best is trial 38 with value: 0.9835164835164836.\u001b[0m\n",
      "\u001b[32m[I 2021-04-23 10:10:08,286]\u001b[0m Trial 53 finished with value: 0.9372477804681195 and parameters: {'lambda_l1': 0.20102116407994575, 'lambda_l2': 0.0019121637247704135, 'num_leaves': 233, 'feature_fraction': 0.4757239374762362, 'bagging_fraction': 0.5376626221175261, 'bagging_freq': 2, 'min_child_samples': 63}. Best is trial 38 with value: 0.9835164835164836.\u001b[0m\n",
      "\u001b[32m[I 2021-04-23 10:10:08,428]\u001b[0m Trial 54 finished with value: 0.9639042721518987 and parameters: {'lambda_l1': 0.0012437217477863788, 'lambda_l2': 0.017505583362825733, 'num_leaves': 222, 'feature_fraction': 0.5219852480734077, 'bagging_fraction': 0.4979469930111883, 'bagging_freq': 1, 'min_child_samples': 70}. Best is trial 38 with value: 0.9835164835164836.\u001b[0m\n",
      "\u001b[32m[I 2021-04-23 10:10:08,567]\u001b[0m Trial 55 finished with value: 0.9527914614121511 and parameters: {'lambda_l1': 5.3254098088495295e-05, 'lambda_l2': 0.0678692546460262, 'num_leaves': 256, 'feature_fraction': 0.6000231647687913, 'bagging_fraction': 0.9698194884744195, 'bagging_freq': 2, 'min_child_samples': 84}. Best is trial 38 with value: 0.9835164835164836.\u001b[0m\n",
      "\u001b[32m[I 2021-04-23 10:10:08,708]\u001b[0m Trial 56 finished with value: 0.9742726877985237 and parameters: {'lambda_l1': 0.05741201000879166, 'lambda_l2': 0.009748627672406742, 'num_leaves': 245, 'feature_fraction': 0.6398616046891169, 'bagging_fraction': 0.5669651369070374, 'bagging_freq': 1, 'min_child_samples': 37}. Best is trial 38 with value: 0.9835164835164836.\u001b[0m\n",
      "\u001b[32m[I 2021-04-23 10:10:08,848]\u001b[0m Trial 57 finished with value: 0.9818181818181818 and parameters: {'lambda_l1': 1.2901131386446945, 'lambda_l2': 4.1579735051728723e-07, 'num_leaves': 230, 'feature_fraction': 0.6818878153831777, 'bagging_fraction': 0.6610189667129341, 'bagging_freq': 1, 'min_child_samples': 42}. Best is trial 38 with value: 0.9835164835164836.\u001b[0m\n",
      "\u001b[32m[I 2021-04-23 10:10:08,990]\u001b[0m Trial 58 finished with value: 0.9553495311167945 and parameters: {'lambda_l1': 1.3485764239287579, 'lambda_l2': 5.022226530804063e-07, 'num_leaves': 231, 'feature_fraction': 0.6784352412108947, 'bagging_fraction': 0.654754249816167, 'bagging_freq': 4, 'min_child_samples': 43}. Best is trial 38 with value: 0.9835164835164836.\u001b[0m\n",
      "\u001b[32m[I 2021-04-23 10:10:09,137]\u001b[0m Trial 59 finished with value: 0.9827586206896552 and parameters: {'lambda_l1': 4.567350487331118, 'lambda_l2': 2.8251135915819517e-05, 'num_leaves': 214, 'feature_fraction': 0.5709756537690825, 'bagging_fraction': 0.747522822174674, 'bagging_freq': 2, 'min_child_samples': 32}. Best is trial 38 with value: 0.9835164835164836.\u001b[0m\n",
      "\u001b[32m[I 2021-04-23 10:10:09,269]\u001b[0m Trial 60 finished with value: 0.9194373401534527 and parameters: {'lambda_l1': 6.760332114492957, 'lambda_l2': 2.06834956095162e-05, 'num_leaves': 217, 'feature_fraction': 0.6661349611111055, 'bagging_fraction': 0.7773333863840646, 'bagging_freq': 3, 'min_child_samples': 43}. Best is trial 38 with value: 0.9835164835164836.\u001b[0m\n",
      "\u001b[32m[I 2021-04-23 10:10:09,434]\u001b[0m Trial 61 finished with value: 0.957668439716312 and parameters: {'lambda_l1': 3.38507231184496, 'lambda_l2': 2.1515860203528997e-06, 'num_leaves': 205, 'feature_fraction': 0.5715837107716221, 'bagging_fraction': 0.8283560859923282, 'bagging_freq': 2, 'min_child_samples': 31}. Best is trial 38 with value: 0.9835164835164836.\u001b[0m\n",
      "\u001b[32m[I 2021-04-23 10:10:09,637]\u001b[0m Trial 62 finished with value: 0.9600000000000001 and parameters: {'lambda_l1': 1.1526455318589648, 'lambda_l2': 2.0858079055672844e-08, 'num_leaves': 236, 'feature_fraction': 0.7178698064389795, 'bagging_fraction': 0.7385208332075014, 'bagging_freq': 2, 'min_child_samples': 26}. Best is trial 38 with value: 0.9835164835164836.\u001b[0m\n",
      "\u001b[32m[I 2021-04-23 10:10:09,811]\u001b[0m Trial 63 finished with value: 0.9474704202366381 and parameters: {'lambda_l1': 0.30942888768993704, 'lambda_l2': 1.0094787719069785e-07, 'num_leaves': 194, 'feature_fraction': 0.6116704288489411, 'bagging_fraction': 0.6785183747216613, 'bagging_freq': 1, 'min_child_samples': 34}. Best is trial 38 with value: 0.9835164835164836.\u001b[0m\n",
      "\u001b[32m[I 2021-04-23 10:10:09,938]\u001b[0m Trial 64 finished with value: 0.941656466748266 and parameters: {'lambda_l1': 7.706509272755218, 'lambda_l2': 0.00017805147601160996, 'num_leaves': 222, 'feature_fraction': 0.5451070891996058, 'bagging_fraction': 0.7181807817193457, 'bagging_freq': 2, 'min_child_samples': 50}. Best is trial 38 with value: 0.9835164835164836.\u001b[0m\n",
      "\u001b[32m[I 2021-04-23 10:10:10,075]\u001b[0m Trial 65 finished with value: 0.9292550977944236 and parameters: {'lambda_l1': 3.4512847299220293, 'lambda_l2': 4.175097490974633e-08, 'num_leaves': 214, 'feature_fraction': 0.5659794027220801, 'bagging_fraction': 0.7648935395083705, 'bagging_freq': 1, 'min_child_samples': 10}. Best is trial 38 with value: 0.9835164835164836.\u001b[0m\n",
      "\u001b[32m[I 2021-04-23 10:10:10,210]\u001b[0m Trial 66 finished with value: 0.9739010989010989 and parameters: {'lambda_l1': 0.8557559541907374, 'lambda_l2': 1.9271702099193975e-07, 'num_leaves': 242, 'feature_fraction': 0.489712538628025, 'bagging_fraction': 0.6442603473037191, 'bagging_freq': 2, 'min_child_samples': 54}. Best is trial 38 with value: 0.9835164835164836.\u001b[0m\n",
      "\u001b[32m[I 2021-04-23 10:10:10,351]\u001b[0m Trial 67 finished with value: 0.9795634920634921 and parameters: {'lambda_l1': 0.11249202810182707, 'lambda_l2': 3.302888584367546e-05, 'num_leaves': 178, 'feature_fraction': 0.5150497905097136, 'bagging_fraction': 0.7112475401604706, 'bagging_freq': 1, 'min_child_samples': 44}. Best is trial 38 with value: 0.9835164835164836.\u001b[0m\n"
     ]
    },
    {
     "name": "stderr",
     "output_type": "stream",
     "text": [
      "\u001b[32m[I 2021-04-23 10:10:10,510]\u001b[0m Trial 68 finished with value: 0.9745762711864407 and parameters: {'lambda_l1': 0.07714424700977006, 'lambda_l2': 3.330031762352414e-05, 'num_leaves': 255, 'feature_fraction': 0.7044556031089261, 'bagging_fraction': 0.703672535239444, 'bagging_freq': 1, 'min_child_samples': 42}. Best is trial 38 with value: 0.9835164835164836.\u001b[0m\n",
      "\u001b[32m[I 2021-04-23 10:10:10,651]\u001b[0m Trial 69 finished with value: 0.9763957307060755 and parameters: {'lambda_l1': 0.3189218931380555, 'lambda_l2': 9.383823207823226e-05, 'num_leaves': 230, 'feature_fraction': 0.4587553317467747, 'bagging_fraction': 0.8524523571153537, 'bagging_freq': 1, 'min_child_samples': 45}. Best is trial 38 with value: 0.9835164835164836.\u001b[0m\n",
      "\u001b[32m[I 2021-04-23 10:10:10,787]\u001b[0m Trial 70 finished with value: 0.9640686061658706 and parameters: {'lambda_l1': 0.034143453667296854, 'lambda_l2': 0.0003173417974789226, 'num_leaves': 229, 'feature_fraction': 0.45721888314520487, 'bagging_fraction': 0.8746595457176976, 'bagging_freq': 1, 'min_child_samples': 57}. Best is trial 38 with value: 0.9835164835164836.\u001b[0m\n",
      "\u001b[32m[I 2021-04-23 10:10:10,943]\u001b[0m Trial 71 finished with value: 0.9795771756978654 and parameters: {'lambda_l1': 0.15800217081189807, 'lambda_l2': 8.128766747199358e-05, 'num_leaves': 227, 'feature_fraction': 0.41530737066661505, 'bagging_fraction': 0.9155413069201219, 'bagging_freq': 1, 'min_child_samples': 38}. Best is trial 38 with value: 0.9835164835164836.\u001b[0m\n",
      "\u001b[32m[I 2021-04-23 10:10:11,094]\u001b[0m Trial 72 finished with value: 0.9642857142857144 and parameters: {'lambda_l1': 0.16239146350041458, 'lambda_l2': 7.923985861588231e-05, 'num_leaves': 201, 'feature_fraction': 0.45486287392057445, 'bagging_fraction': 0.9225337338480716, 'bagging_freq': 1, 'min_child_samples': 37}. Best is trial 38 with value: 0.9835164835164836.\u001b[0m\n",
      "\u001b[32m[I 2021-04-23 10:10:11,235]\u001b[0m Trial 73 finished with value: 0.9401108269394713 and parameters: {'lambda_l1': 0.4302247909398767, 'lambda_l2': 2.29278885597402e-05, 'num_leaves': 210, 'feature_fraction': 0.4229737726882782, 'bagging_fraction': 0.9466586818337621, 'bagging_freq': 1, 'min_child_samples': 44}. Best is trial 38 with value: 0.9835164835164836.\u001b[0m\n",
      "\u001b[32m[I 2021-04-23 10:10:11,372]\u001b[0m Trial 74 finished with value: 0.9310344827586207 and parameters: {'lambda_l1': 0.2850690187151182, 'lambda_l2': 6.147234085821036e-06, 'num_leaves': 223, 'feature_fraction': 0.41997175392402014, 'bagging_fraction': 0.8464614568900155, 'bagging_freq': 1, 'min_child_samples': 47}. Best is trial 38 with value: 0.9835164835164836.\u001b[0m\n",
      "\u001b[32m[I 2021-04-23 10:10:11,519]\u001b[0m Trial 75 finished with value: 0.9746236559139785 and parameters: {'lambda_l1': 0.01452547431048925, 'lambda_l2': 0.0007588577135984864, 'num_leaves': 236, 'feature_fraction': 0.4878455503251183, 'bagging_fraction': 0.8871125803076068, 'bagging_freq': 1, 'min_child_samples': 29}. Best is trial 38 with value: 0.9835164835164836.\u001b[0m\n",
      "\u001b[32m[I 2021-04-23 10:10:11,668]\u001b[0m Trial 76 finished with value: 0.9945054945054945 and parameters: {'lambda_l1': 0.1267835490884181, 'lambda_l2': 0.0001503296134650899, 'num_leaves': 227, 'feature_fraction': 0.40077411008938724, 'bagging_fraction': 0.7449106646390713, 'bagging_freq': 4, 'min_child_samples': 38}. Best is trial 76 with value: 0.9945054945054945.\u001b[0m\n",
      "\u001b[32m[I 2021-04-23 10:10:11,801]\u001b[0m Trial 77 finished with value: 0.9505494505494506 and parameters: {'lambda_l1': 0.11369972816615931, 'lambda_l2': 2.5645437612032687e-05, 'num_leaves': 213, 'feature_fraction': 0.4045999387475496, 'bagging_fraction': 0.7774036942882717, 'bagging_freq': 4, 'min_child_samples': 32}. Best is trial 76 with value: 0.9945054945054945.\u001b[0m\n",
      "\u001b[32m[I 2021-04-23 10:10:11,937]\u001b[0m Trial 78 finished with value: 0.9646236559139785 and parameters: {'lambda_l1': 0.04651118386104155, 'lambda_l2': 0.0002002673416593628, 'num_leaves': 173, 'feature_fraction': 0.5091569773589595, 'bagging_fraction': 0.7393825486059954, 'bagging_freq': 4, 'min_child_samples': 37}. Best is trial 76 with value: 0.9945054945054945.\u001b[0m\n",
      "\u001b[32m[I 2021-04-23 10:10:12,070]\u001b[0m Trial 79 finished with value: 0.9504283965728274 and parameters: {'lambda_l1': 2.158380616678537, 'lambda_l2': 0.0015665572920423533, 'num_leaves': 244, 'feature_fraction': 0.4313883798906374, 'bagging_fraction': 0.6686080280213285, 'bagging_freq': 5, 'min_child_samples': 40}. Best is trial 76 with value: 0.9945054945054945.\u001b[0m\n",
      "\u001b[32m[I 2021-04-23 10:10:12,267]\u001b[0m Trial 80 finished with value: 0.951360544217687 and parameters: {'lambda_l1': 0.025408293009847926, 'lambda_l2': 0.0004173983025532995, 'num_leaves': 193, 'feature_fraction': 0.6334761974406635, 'bagging_fraction': 0.7942961406750262, 'bagging_freq': 4, 'min_child_samples': 16}. Best is trial 76 with value: 0.9945054945054945.\u001b[0m\n",
      "\u001b[32m[I 2021-04-23 10:10:12,427]\u001b[0m Trial 81 finished with value: 0.9545454545454545 and parameters: {'lambda_l1': 0.6983427925163858, 'lambda_l2': 5.043583707367274e-05, 'num_leaves': 232, 'feature_fraction': 0.40443233459774103, 'bagging_fraction': 0.7021744202517433, 'bagging_freq': 4, 'min_child_samples': 49}. Best is trial 76 with value: 0.9945054945054945.\u001b[0m\n",
      "\u001b[32m[I 2021-04-23 10:10:12,567]\u001b[0m Trial 82 finished with value: 0.9742726877985237 and parameters: {'lambda_l1': 1.019736053501675, 'lambda_l2': 0.00012300798708619843, 'num_leaves': 226, 'feature_fraction': 0.4577123393803517, 'bagging_fraction': 0.866012816081639, 'bagging_freq': 5, 'min_child_samples': 46}. Best is trial 76 with value: 0.9945054945054945.\u001b[0m\n",
      "\u001b[32m[I 2021-04-23 10:10:12,701]\u001b[0m Trial 83 finished with value: 0.9441323345817727 and parameters: {'lambda_l1': 0.3534333942208108, 'lambda_l2': 6.745780530356564e-05, 'num_leaves': 219, 'feature_fraction': 0.748937706151452, 'bagging_fraction': 0.9034607855809824, 'bagging_freq': 3, 'min_child_samples': 38}. Best is trial 76 with value: 0.9945054945054945.\u001b[0m\n",
      "\u001b[32m[I 2021-04-23 10:10:12,854]\u001b[0m Trial 84 finished with value: 0.9651937046004843 and parameters: {'lambda_l1': 8.107306958427432e-06, 'lambda_l2': 1.8203308721012073e-08, 'num_leaves': 241, 'feature_fraction': 0.44123334284884297, 'bagging_fraction': 0.9925284206560608, 'bagging_freq': 2, 'min_child_samples': 42}. Best is trial 76 with value: 0.9945054945054945.\u001b[0m\n",
      "\u001b[32m[I 2021-04-23 10:10:13,020]\u001b[0m Trial 85 finished with value: 0.9766421868625051 and parameters: {'lambda_l1': 1.2744910671372443e-06, 'lambda_l2': 8.515886816976143e-06, 'num_leaves': 205, 'feature_fraction': 0.6067985378943029, 'bagging_fraction': 0.7167852469022286, 'bagging_freq': 1, 'min_child_samples': 33}. Best is trial 76 with value: 0.9945054945054945.\u001b[0m\n",
      "\u001b[32m[I 2021-04-23 10:10:13,218]\u001b[0m Trial 86 finished with value: 0.9761904761904762 and parameters: {'lambda_l1': 4.147813446193494e-08, 'lambda_l2': 1.3292981245474525e-05, 'num_leaves': 202, 'feature_fraction': 0.6139897945418383, 'bagging_fraction': 0.7417865339626167, 'bagging_freq': 4, 'min_child_samples': 29}. Best is trial 76 with value: 0.9945054945054945.\u001b[0m\n",
      "\u001b[32m[I 2021-04-23 10:10:13,398]\u001b[0m Trial 87 finished with value: 0.9334883720930233 and parameters: {'lambda_l1': 5.04180119139689e-07, 'lambda_l2': 7.227331454994006e-07, 'num_leaves': 206, 'feature_fraction': 0.6032833061277681, 'bagging_fraction': 0.7217035430953153, 'bagging_freq': 1, 'min_child_samples': 35}. Best is trial 76 with value: 0.9945054945054945.\u001b[0m\n",
      "\u001b[32m[I 2021-04-23 10:10:13,602]\u001b[0m Trial 88 finished with value: 0.9600000000000001 and parameters: {'lambda_l1': 1.1630274897145127e-06, 'lambda_l2': 4.278976032777596e-05, 'num_leaves': 215, 'feature_fraction': 0.6415551252377838, 'bagging_fraction': 0.6855433681135547, 'bagging_freq': 3, 'min_child_samples': 33}. Best is trial 76 with value: 0.9945054945054945.\u001b[0m\n",
      "\u001b[32m[I 2021-04-23 10:10:13,802]\u001b[0m Trial 89 finished with value: 0.9695225916453538 and parameters: {'lambda_l1': 1.3518218544966889e-06, 'lambda_l2': 4.239115144454609e-06, 'num_leaves': 189, 'feature_fraction': 0.581069970468113, 'bagging_fraction': 0.6103695330935311, 'bagging_freq': 2, 'min_child_samples': 25}. Best is trial 76 with value: 0.9945054945054945.\u001b[0m\n",
      "\u001b[32m[I 2021-04-23 10:10:13,968]\u001b[0m Trial 90 finished with value: 0.9546703296703296 and parameters: {'lambda_l1': 8.809243171977683e-08, 'lambda_l2': 1.2757929834266897e-05, 'num_leaves': 197, 'feature_fraction': 0.6633332484649456, 'bagging_fraction': 0.7537844924735433, 'bagging_freq': 4, 'min_child_samples': 28}. Best is trial 76 with value: 0.9945054945054945.\u001b[0m\n"
     ]
    },
    {
     "name": "stderr",
     "output_type": "stream",
     "text": [
      "\u001b[32m[I 2021-04-23 10:10:14,108]\u001b[0m Trial 91 finished with value: 0.9647727272727272 and parameters: {'lambda_l1': 0.12944162894349273, 'lambda_l2': 9.691695213224116e-05, 'num_leaves': 226, 'feature_fraction': 0.5195798338218693, 'bagging_fraction': 0.7142795393016189, 'bagging_freq': 1, 'min_child_samples': 41}. Best is trial 76 with value: 0.9945054945054945.\u001b[0m\n",
      "\u001b[32m[I 2021-04-23 10:10:14,254]\u001b[0m Trial 92 finished with value: 0.9455974842767296 and parameters: {'lambda_l1': 0.23739108397365452, 'lambda_l2': 7.265447762495767e-06, 'num_leaves': 251, 'feature_fraction': 0.5561315987613894, 'bagging_fraction': 0.8036124419782575, 'bagging_freq': 1, 'min_child_samples': 39}. Best is trial 76 with value: 0.9945054945054945.\u001b[0m\n",
      "\u001b[32m[I 2021-04-23 10:10:14,421]\u001b[0m Trial 93 finished with value: 0.9455456095481671 and parameters: {'lambda_l1': 0.008496263264191494, 'lambda_l2': 0.0001407420860673578, 'num_leaves': 237, 'feature_fraction': 0.4712181546798422, 'bagging_fraction': 0.9298082170258634, 'bagging_freq': 1, 'min_child_samples': 45}. Best is trial 76 with value: 0.9945054945054945.\u001b[0m\n",
      "\u001b[32m[I 2021-04-23 10:10:14,561]\u001b[0m Trial 94 finished with value: 0.9666042446941323 and parameters: {'lambda_l1': 1.9108943713397735, 'lambda_l2': 5.191663298624601e-08, 'num_leaves': 227, 'feature_fraction': 0.5927699526791892, 'bagging_fraction': 0.6721356972080265, 'bagging_freq': 1, 'min_child_samples': 52}. Best is trial 76 with value: 0.9945054945054945.\u001b[0m\n",
      "\u001b[32m[I 2021-04-23 10:10:14,701]\u001b[0m Trial 95 finished with value: 0.9609862671660424 and parameters: {'lambda_l1': 0.5620201551500379, 'lambda_l2': 0.00021033611559206547, 'num_leaves': 220, 'feature_fraction': 0.4116168967302754, 'bagging_fraction': 0.7277392090941441, 'bagging_freq': 1, 'min_child_samples': 36}. Best is trial 76 with value: 0.9945054945054945.\u001b[0m\n",
      "\u001b[32m[I 2021-04-23 10:10:14,883]\u001b[0m Trial 96 finished with value: 0.9722222222222222 and parameters: {'lambda_l1': 0.0002609889334591108, 'lambda_l2': 1.8082963390741955e-05, 'num_leaves': 211, 'feature_fraction': 0.5373646444758976, 'bagging_fraction': 0.6947235073492151, 'bagging_freq': 2, 'min_child_samples': 8}. Best is trial 76 with value: 0.9945054945054945.\u001b[0m\n",
      "\u001b[32m[I 2021-04-23 10:10:15,036]\u001b[0m Trial 97 finished with value: 0.9634868421052631 and parameters: {'lambda_l1': 0.08427707137265197, 'lambda_l2': 2.1744058455397068e-06, 'num_leaves': 231, 'feature_fraction': 0.5075427737313691, 'bagging_fraction': 0.655160705754102, 'bagging_freq': 1, 'min_child_samples': 34}. Best is trial 76 with value: 0.9945054945054945.\u001b[0m\n",
      "\u001b[32m[I 2021-04-23 10:10:15,167]\u001b[0m Trial 98 finished with value: 0.9592292089249493 and parameters: {'lambda_l1': 4.216159224595305, 'lambda_l2': 1.122710264221725e-07, 'num_leaves': 116, 'feature_fraction': 0.4367904970314219, 'bagging_fraction': 0.8289700381363311, 'bagging_freq': 2, 'min_child_samples': 45}. Best is trial 76 with value: 0.9945054945054945.\u001b[0m\n",
      "\u001b[32m[I 2021-04-23 10:10:15,301]\u001b[0m Trial 99 finished with value: 0.9681818181818181 and parameters: {'lambda_l1': 0.1449707053144035, 'lambda_l2': 4.040679301408034e-05, 'num_leaves': 246, 'feature_fraction': 0.6221204809879931, 'bagging_fraction': 0.6342436282991804, 'bagging_freq': 1, 'min_child_samples': 20}. Best is trial 76 with value: 0.9945054945054945.\u001b[0m\n"
     ]
    },
    {
     "name": "stdout",
     "output_type": "stream",
     "text": [
      "Number of finished trials: 100\n",
      "Best trial:\n",
      "  Value: 0.9945054945054945\n",
      "  Params: \n",
      "    lambda_l1: 0.1267835490884181\n",
      "    lambda_l2: 0.0001503296134650899\n",
      "    num_leaves: 227\n",
      "    feature_fraction: 0.40077411008938724\n",
      "    bagging_fraction: 0.7449106646390713\n",
      "    bagging_freq: 4\n",
      "    min_child_samples: 38\n"
     ]
    }
   ],
   "source": [
    "study = optuna.create_study(direction=\"maximize\")\n",
    "study.optimize(objective, n_trials=100)\n",
    "\n",
    "print(\"Number of finished trials: {}\".format(len(study.trials)))\n",
    "\n",
    "print(\"Best trial:\")\n",
    "trial = study.best_trial\n",
    "\n",
    "print(\"  Value: {}\".format(trial.value))\n",
    "\n",
    "print(\"  Params: \")\n",
    "for key, value in trial.params.items():\n",
    "    print(\"    {}: {}\".format(key, value))"
   ]
  },
  {
   "cell_type": "markdown",
   "metadata": {},
   "source": [
    "## This the best result so far"
   ]
  },
  {
   "cell_type": "code",
   "execution_count": null,
   "metadata": {},
   "outputs": [],
   "source": []
  },
  {
   "cell_type": "code",
   "execution_count": null,
   "metadata": {},
   "outputs": [],
   "source": []
  },
  {
   "cell_type": "code",
   "execution_count": 46,
   "metadata": {},
   "outputs": [],
   "source": [
    "import xgboost as xgb\n",
    "\n",
    "import optuna\n",
    "\n",
    "\n",
    "def objective(trial):\n",
    "    (data, target) = sklearn.datasets.load_breast_cancer(return_X_y=True)\n",
    "    train_x, valid_x, train_y, valid_y = train_test_split(data, target, test_size=0.25)\n",
    "    dtrain = xgb.DMatrix(train_x, label=train_y)\n",
    "    dvalid = xgb.DMatrix(valid_x, label=valid_y)\n",
    "\n",
    "    param = {\n",
    "        \"verbosity\": 0,\n",
    "        \"objective\": \"binary:logistic\",\n",
    "        # use exact for small dataset.\n",
    "        \"tree_method\": \"exact\",\n",
    "        # defines booster, gblinear for linear functions.\n",
    "        \"booster\": trial.suggest_categorical(\"booster\", [\"gbtree\", \"gblinear\", \"dart\"]),\n",
    "        # L2 regularization weight.\n",
    "        \"lambda\": trial.suggest_float(\"lambda\", 1e-8, 1.0, log=True),\n",
    "        # L1 regularization weight.\n",
    "        \"alpha\": trial.suggest_float(\"alpha\", 1e-8, 1.0, log=True),\n",
    "        # sampling ratio for training data.\n",
    "        \"subsample\": trial.suggest_float(\"subsample\", 0.2, 1.0),\n",
    "        # sampling according to each tree.\n",
    "        \"colsample_bytree\": trial.suggest_float(\"colsample_bytree\", 0.2, 1.0),\n",
    "    }\n",
    "\n",
    "    if param[\"booster\"] in [\"gbtree\", \"dart\"]:\n",
    "        # maximum depth of the tree, signifies complexity of the tree.\n",
    "        param[\"max_depth\"] = trial.suggest_int(\"max_depth\", 3, 9, step=2)\n",
    "        # minimum child weight, larger the term more conservative the tree.\n",
    "        param[\"min_child_weight\"] = trial.suggest_int(\"min_child_weight\", 2, 10)\n",
    "        param[\"eta\"] = trial.suggest_float(\"eta\", 1e-8, 1.0, log=True)\n",
    "        # defines how selective algorithm is.\n",
    "        param[\"gamma\"] = trial.suggest_float(\"gamma\", 1e-8, 1.0, log=True)\n",
    "        param[\"grow_policy\"] = trial.suggest_categorical(\"grow_policy\", [\"depthwise\", \"lossguide\"])\n",
    "\n",
    "    if param[\"booster\"] == \"dart\":\n",
    "        param[\"sample_type\"] = trial.suggest_categorical(\"sample_type\", [\"uniform\", \"weighted\"])\n",
    "        param[\"normalize_type\"] = trial.suggest_categorical(\"normalize_type\", [\"tree\", \"forest\"])\n",
    "        param[\"rate_drop\"] = trial.suggest_float(\"rate_drop\", 1e-8, 1.0, log=True)\n",
    "        param[\"skip_drop\"] = trial.suggest_float(\"skip_drop\", 1e-8, 1.0, log=True)\n",
    "\n",
    "    bst = xgb.train(param, dtrain)\n",
    "    preds = bst.predict(dvalid)\n",
    "    pred_labels = np.rint(preds)\n",
    "    accuracy = sklearn.metrics.accuracy_score(valid_y, pred_labels)\n",
    "    return accuracy"
   ]
  },
  {
   "cell_type": "code",
   "execution_count": 47,
   "metadata": {
    "scrolled": true
   },
   "outputs": [
    {
     "name": "stderr",
     "output_type": "stream",
     "text": [
      "\u001b[32m[I 2021-04-23 10:11:55,034]\u001b[0m A new study created in memory with name: no-name-96fb65c0-acc5-4045-93d2-f0e7c98e62a7\u001b[0m\n",
      "\u001b[32m[I 2021-04-23 10:11:55,078]\u001b[0m Trial 0 finished with value: 0.8741258741258742 and parameters: {'booster': 'gblinear', 'lambda': 0.007567705356017098, 'alpha': 6.769157956501422e-06, 'subsample': 0.5395309145238563, 'colsample_bytree': 0.9398771259753687}. Best is trial 0 with value: 0.8741258741258742.\u001b[0m\n",
      "\u001b[32m[I 2021-04-23 10:11:55,134]\u001b[0m Trial 1 finished with value: 0.9370629370629371 and parameters: {'booster': 'dart', 'lambda': 0.6501735203262589, 'alpha': 3.504815266796234e-06, 'subsample': 0.542746201784825, 'colsample_bytree': 0.7252168501697736, 'max_depth': 9, 'min_child_weight': 8, 'eta': 9.06011891067165e-06, 'gamma': 0.021723417897566696, 'grow_policy': 'depthwise', 'sample_type': 'uniform', 'normalize_type': 'forest', 'rate_drop': 0.009407983314419702, 'skip_drop': 1.0362135573457234e-05}. Best is trial 1 with value: 0.9370629370629371.\u001b[0m\n",
      "\u001b[32m[I 2021-04-23 10:11:55,193]\u001b[0m Trial 2 finished with value: 0.9440559440559441 and parameters: {'booster': 'dart', 'lambda': 0.1371407962377842, 'alpha': 1.0029522358801774e-06, 'subsample': 0.22304002728049294, 'colsample_bytree': 0.6820821429781005, 'max_depth': 5, 'min_child_weight': 2, 'eta': 1.5914966099418256e-05, 'gamma': 0.001281069922739098, 'grow_policy': 'lossguide', 'sample_type': 'weighted', 'normalize_type': 'forest', 'rate_drop': 0.0003365741624397237, 'skip_drop': 0.00022472292844873216}. Best is trial 2 with value: 0.9440559440559441.\u001b[0m\n",
      "\u001b[32m[I 2021-04-23 10:11:55,232]\u001b[0m Trial 3 finished with value: 0.9090909090909091 and parameters: {'booster': 'gblinear', 'lambda': 1.4431129748166012e-06, 'alpha': 0.03942914104989029, 'subsample': 0.4118970318811978, 'colsample_bytree': 0.7310084323117374}. Best is trial 2 with value: 0.9440559440559441.\u001b[0m\n",
      "\u001b[32m[I 2021-04-23 10:11:55,293]\u001b[0m Trial 4 finished with value: 0.9090909090909091 and parameters: {'booster': 'dart', 'lambda': 5.789570843602383e-05, 'alpha': 5.7522471153191464e-06, 'subsample': 0.45672268943973005, 'colsample_bytree': 0.5108481506125351, 'max_depth': 9, 'min_child_weight': 7, 'eta': 7.043045645818111e-07, 'gamma': 1.0305721346288041e-07, 'grow_policy': 'depthwise', 'sample_type': 'weighted', 'normalize_type': 'forest', 'rate_drop': 0.11829581544481653, 'skip_drop': 5.104096930871548e-06}. Best is trial 2 with value: 0.9440559440559441.\u001b[0m\n",
      "\u001b[32m[I 2021-04-23 10:11:55,334]\u001b[0m Trial 5 finished with value: 0.8811188811188811 and parameters: {'booster': 'gblinear', 'lambda': 0.08894359785715941, 'alpha': 0.11037115763693352, 'subsample': 0.4311200681610947, 'colsample_bytree': 0.8369187766218131}. Best is trial 2 with value: 0.9440559440559441.\u001b[0m\n",
      "\u001b[32m[I 2021-04-23 10:11:55,374]\u001b[0m Trial 6 finished with value: 0.9020979020979021 and parameters: {'booster': 'gblinear', 'lambda': 0.001387077464099736, 'alpha': 0.06406751292967329, 'subsample': 0.43732297713753454, 'colsample_bytree': 0.6950271649230093}. Best is trial 2 with value: 0.9440559440559441.\u001b[0m\n",
      "\u001b[32m[I 2021-04-23 10:11:55,434]\u001b[0m Trial 7 finished with value: 0.9440559440559441 and parameters: {'booster': 'gbtree', 'lambda': 1.4545565293714326e-07, 'alpha': 0.0016440548778370455, 'subsample': 0.5357940317095673, 'colsample_bytree': 0.793029700880691, 'max_depth': 7, 'min_child_weight': 6, 'eta': 0.03035368355756769, 'gamma': 4.196138580838205e-05, 'grow_policy': 'lossguide'}. Best is trial 2 with value: 0.9440559440559441.\u001b[0m\n",
      "\u001b[32m[I 2021-04-23 10:11:55,483]\u001b[0m Trial 8 finished with value: 0.9370629370629371 and parameters: {'booster': 'gbtree', 'lambda': 5.867690603319591e-06, 'alpha': 0.00735165233010257, 'subsample': 0.2231192707743147, 'colsample_bytree': 0.21103097803453644, 'max_depth': 7, 'min_child_weight': 2, 'eta': 0.00036583123625000914, 'gamma': 8.921926625370974e-06, 'grow_policy': 'depthwise'}. Best is trial 2 with value: 0.9440559440559441.\u001b[0m\n",
      "\u001b[32m[I 2021-04-23 10:11:55,522]\u001b[0m Trial 9 finished with value: 0.8951048951048951 and parameters: {'booster': 'gblinear', 'lambda': 0.0022395998235076237, 'alpha': 0.023958121766486724, 'subsample': 0.5885761419014821, 'colsample_bytree': 0.5218045460124157}. Best is trial 2 with value: 0.9440559440559441.\u001b[0m\n",
      "\u001b[32m[I 2021-04-23 10:11:55,660]\u001b[0m Trial 10 finished with value: 0.9090909090909091 and parameters: {'booster': 'dart', 'lambda': 0.8128569826773536, 'alpha': 1.0088693692132507e-08, 'subsample': 0.942218154937728, 'colsample_bytree': 0.32818497918242706, 'max_depth': 3, 'min_child_weight': 2, 'eta': 1.0245642510560747e-08, 'gamma': 0.9876865978185514, 'grow_policy': 'lossguide', 'sample_type': 'weighted', 'normalize_type': 'tree', 'rate_drop': 1.2963683057399365e-07, 'skip_drop': 0.20366184984262026}. Best is trial 2 with value: 0.9440559440559441.\u001b[0m\n",
      "\u001b[32m[I 2021-04-23 10:11:55,788]\u001b[0m Trial 11 finished with value: 0.965034965034965 and parameters: {'booster': 'gbtree', 'lambda': 5.381444456450589e-08, 'alpha': 0.0002981829288649595, 'subsample': 0.796910366456151, 'colsample_bytree': 0.9650529087858042, 'max_depth': 5, 'min_child_weight': 5, 'eta': 0.896457299890547, 'gamma': 0.0006002540033369163, 'grow_policy': 'lossguide'}. Best is trial 11 with value: 0.965034965034965.\u001b[0m\n",
      "\u001b[32m[I 2021-04-23 10:11:55,903]\u001b[0m Trial 12 finished with value: 0.951048951048951 and parameters: {'booster': 'gbtree', 'lambda': 1.16107693308424e-08, 'alpha': 6.149754126533093e-08, 'subsample': 0.8425234092626722, 'colsample_bytree': 0.9995930838498719, 'max_depth': 3, 'min_child_weight': 4, 'eta': 0.4939672134468659, 'gamma': 0.005132850170197665, 'grow_policy': 'lossguide'}. Best is trial 11 with value: 0.965034965034965.\u001b[0m\n",
      "\u001b[32m[I 2021-04-23 10:11:56,016]\u001b[0m Trial 13 finished with value: 0.951048951048951 and parameters: {'booster': 'gbtree', 'lambda': 1.2143424879179377e-08, 'alpha': 0.0002708709247883794, 'subsample': 0.8708500672264405, 'colsample_bytree': 0.9982358089303729, 'max_depth': 3, 'min_child_weight': 4, 'eta': 0.2681536509601971, 'gamma': 0.014053049126141321, 'grow_policy': 'lossguide'}. Best is trial 11 with value: 0.965034965034965.\u001b[0m\n",
      "\u001b[32m[I 2021-04-23 10:11:56,139]\u001b[0m Trial 14 finished with value: 0.9440559440559441 and parameters: {'booster': 'gbtree', 'lambda': 1.4272849345355128e-08, 'alpha': 1.1529422817355642e-08, 'subsample': 0.7620893086591454, 'colsample_bytree': 0.9180097832249705, 'max_depth': 5, 'min_child_weight': 4, 'eta': 0.9774136838317242, 'gamma': 0.000797948095166356, 'grow_policy': 'lossguide'}. Best is trial 11 with value: 0.965034965034965.\u001b[0m\n",
      "\u001b[32m[I 2021-04-23 10:11:56,334]\u001b[0m Trial 15 finished with value: 0.9440559440559441 and parameters: {'booster': 'gbtree', 'lambda': 1.3693388022566839e-07, 'alpha': 1.3294757079230412e-07, 'subsample': 0.7440775546062965, 'colsample_bytree': 0.9662477505315411, 'max_depth': 3, 'min_child_weight': 10, 'eta': 0.007051084409510462, 'gamma': 0.5930897413889491, 'grow_policy': 'lossguide'}. Best is trial 11 with value: 0.965034965034965.\u001b[0m\n",
      "\u001b[32m[I 2021-04-23 10:11:56,454]\u001b[0m Trial 16 finished with value: 0.972027972027972 and parameters: {'booster': 'gbtree', 'lambda': 9.974597054257584e-08, 'alpha': 0.903784308746021, 'subsample': 0.7267583930001094, 'colsample_bytree': 0.8840963104952015, 'max_depth': 5, 'min_child_weight': 4, 'eta': 0.7546709455302008, 'gamma': 2.6511996153620106e-06, 'grow_policy': 'lossguide'}. Best is trial 16 with value: 0.972027972027972.\u001b[0m\n",
      "\u001b[32m[I 2021-04-23 10:11:56,568]\u001b[0m Trial 17 finished with value: 0.916083916083916 and parameters: {'booster': 'gbtree', 'lambda': 2.863870244600405e-07, 'alpha': 0.8391933838434018, 'subsample': 0.6990604237055751, 'colsample_bytree': 0.8697007346446208, 'max_depth': 5, 'min_child_weight': 5, 'eta': 0.007065442975194076, 'gamma': 7.931494897981253e-07, 'grow_policy': 'lossguide'}. Best is trial 16 with value: 0.972027972027972.\u001b[0m\n",
      "\u001b[32m[I 2021-04-23 10:11:56,690]\u001b[0m Trial 18 finished with value: 0.916083916083916 and parameters: {'booster': 'gbtree', 'lambda': 1.4792346289052646e-05, 'alpha': 9.17732803962358e-05, 'subsample': 0.9700055630030076, 'colsample_bytree': 0.5885664003705748, 'max_depth': 5, 'min_child_weight': 5, 'eta': 0.06102595818247106, 'gamma': 2.4248945190863613e-06, 'grow_policy': 'lossguide'}. Best is trial 16 with value: 0.972027972027972.\u001b[0m\n"
     ]
    },
    {
     "name": "stderr",
     "output_type": "stream",
     "text": [
      "\u001b[32m[I 2021-04-23 10:11:56,801]\u001b[0m Trial 19 finished with value: 0.9230769230769231 and parameters: {'booster': 'gbtree', 'lambda': 9.599780230208407e-07, 'alpha': 9.387896339845384e-05, 'subsample': 0.8442302675293591, 'colsample_bytree': 0.38647387026728136, 'max_depth': 7, 'min_child_weight': 3, 'eta': 0.0010955699949461526, 'gamma': 2.5292494642852146e-08, 'grow_policy': 'lossguide'}. Best is trial 16 with value: 0.972027972027972.\u001b[0m\n",
      "\u001b[32m[I 2021-04-23 10:11:56,913]\u001b[0m Trial 20 finished with value: 0.9230769230769231 and parameters: {'booster': 'gbtree', 'lambda': 3.100941437946913e-08, 'alpha': 0.8903863854483682, 'subsample': 0.639794326905953, 'colsample_bytree': 0.7998623272045722, 'max_depth': 5, 'min_child_weight': 8, 'eta': 0.6837871538338344, 'gamma': 0.00015631547609066407, 'grow_policy': 'lossguide'}. Best is trial 16 with value: 0.972027972027972.\u001b[0m\n",
      "\u001b[32m[I 2021-04-23 10:11:57,024]\u001b[0m Trial 21 finished with value: 0.958041958041958 and parameters: {'booster': 'gbtree', 'lambda': 1.0083487718342217e-08, 'alpha': 1.6811673807812044e-07, 'subsample': 0.7998075439620634, 'colsample_bytree': 0.9799819170320188, 'max_depth': 3, 'min_child_weight': 4, 'eta': 0.935946745612982, 'gamma': 0.010862901490480654, 'grow_policy': 'lossguide'}. Best is trial 16 with value: 0.972027972027972.\u001b[0m\n",
      "\u001b[32m[I 2021-04-23 10:11:57,149]\u001b[0m Trial 22 finished with value: 0.9230769230769231 and parameters: {'booster': 'gbtree', 'lambda': 4.786992314214336e-08, 'alpha': 3.7302430318811e-07, 'subsample': 0.7799845422607895, 'colsample_bytree': 0.8768280706698806, 'max_depth': 5, 'min_child_weight': 5, 'eta': 0.11268897225005872, 'gamma': 0.0707746809144919, 'grow_policy': 'lossguide'}. Best is trial 16 with value: 0.972027972027972.\u001b[0m\n",
      "\u001b[32m[I 2021-04-23 10:11:57,266]\u001b[0m Trial 23 finished with value: 0.9090909090909091 and parameters: {'booster': 'gbtree', 'lambda': 6.559775946565013e-07, 'alpha': 0.0007747759773083811, 'subsample': 0.6799673150172952, 'colsample_bytree': 0.9900570679984853, 'max_depth': 3, 'min_child_weight': 6, 'eta': 0.8700151071695208, 'gamma': 0.00011029803190448008, 'grow_policy': 'lossguide'}. Best is trial 16 with value: 0.972027972027972.\u001b[0m\n",
      "\u001b[32m[I 2021-04-23 10:11:57,393]\u001b[0m Trial 24 finished with value: 0.9370629370629371 and parameters: {'booster': 'gbtree', 'lambda': 7.368294013120006e-08, 'alpha': 4.643367061564907e-05, 'subsample': 0.9008500416059175, 'colsample_bytree': 0.9271376548516297, 'max_depth': 7, 'min_child_weight': 3, 'eta': 0.024388213434651314, 'gamma': 0.0008947573336582176, 'grow_policy': 'lossguide'}. Best is trial 16 with value: 0.972027972027972.\u001b[0m\n",
      "\u001b[32m[I 2021-04-23 10:11:57,509]\u001b[0m Trial 25 finished with value: 0.972027972027972 and parameters: {'booster': 'gbtree', 'lambda': 5.350911796290378e-06, 'alpha': 2.1320868907203796e-05, 'subsample': 0.8020721346493977, 'colsample_bytree': 0.8903527936731797, 'max_depth': 5, 'min_child_weight': 3, 'eta': 0.15093829503386363, 'gamma': 0.11475380089312047, 'grow_policy': 'lossguide'}. Best is trial 16 with value: 0.972027972027972.\u001b[0m\n",
      "\u001b[32m[I 2021-04-23 10:11:57,625]\u001b[0m Trial 26 finished with value: 0.9370629370629371 and parameters: {'booster': 'gbtree', 'lambda': 5.795800495283369e-06, 'alpha': 3.582610924295581e-05, 'subsample': 0.7142598540058812, 'colsample_bytree': 0.7791441596870972, 'max_depth': 5, 'min_child_weight': 3, 'eta': 0.004876387371710841, 'gamma': 2.922335128760858e-07, 'grow_policy': 'lossguide'}. Best is trial 16 with value: 0.972027972027972.\u001b[0m\n",
      "\u001b[32m[I 2021-04-23 10:11:57,758]\u001b[0m Trial 27 finished with value: 0.9300699300699301 and parameters: {'booster': 'gbtree', 'lambda': 0.00018440829156208922, 'alpha': 0.0046322429330835834, 'subsample': 0.9136371788981767, 'colsample_bytree': 0.8749258371520447, 'max_depth': 5, 'min_child_weight': 3, 'eta': 0.11858433771784133, 'gamma': 1.0125508731628393e-05, 'grow_policy': 'depthwise'}. Best is trial 16 with value: 0.972027972027972.\u001b[0m\n",
      "\u001b[32m[I 2021-04-23 10:11:57,877]\u001b[0m Trial 28 finished with value: 0.958041958041958 and parameters: {'booster': 'gbtree', 'lambda': 3.6110994267069763e-06, 'alpha': 1.5078567423236498e-05, 'subsample': 0.6477084200350871, 'colsample_bytree': 0.6121288223702336, 'max_depth': 7, 'min_child_weight': 7, 'eta': 4.044547669234076e-08, 'gamma': 0.20459419781839994, 'grow_policy': 'lossguide'}. Best is trial 16 with value: 0.972027972027972.\u001b[0m\n",
      "\u001b[32m[I 2021-04-23 10:11:58,015]\u001b[0m Trial 29 finished with value: 0.951048951048951 and parameters: {'booster': 'gbtree', 'lambda': 5.556883235355171e-05, 'alpha': 0.26792527039114994, 'subsample': 0.9964085275151684, 'colsample_bytree': 0.9158018283701623, 'max_depth': 5, 'min_child_weight': 5, 'eta': 0.16434529109971324, 'gamma': 1.2534451841334809e-05, 'grow_policy': 'lossguide'}. Best is trial 16 with value: 0.972027972027972.\u001b[0m\n",
      "\u001b[32m[I 2021-04-23 10:11:58,156]\u001b[0m Trial 30 finished with value: 0.9370629370629371 and parameters: {'booster': 'gbtree', 'lambda': 2.9474472821833233e-07, 'alpha': 1.84231228244879e-06, 'subsample': 0.821056934034653, 'colsample_bytree': 0.837323524488909, 'max_depth': 5, 'min_child_weight': 4, 'eta': 0.002115632989249728, 'gamma': 1.212526901435637e-06, 'grow_policy': 'lossguide'}. Best is trial 16 with value: 0.972027972027972.\u001b[0m\n",
      "\u001b[32m[I 2021-04-23 10:11:58,279]\u001b[0m Trial 31 finished with value: 0.9440559440559441 and parameters: {'booster': 'gbtree', 'lambda': 3.2433948804510304e-06, 'alpha': 1.6142249971126273e-05, 'subsample': 0.640637876224607, 'colsample_bytree': 0.5998157088034598, 'max_depth': 7, 'min_child_weight': 7, 'eta': 1.2403120436489133e-08, 'gamma': 0.3397914425796552, 'grow_policy': 'lossguide'}. Best is trial 16 with value: 0.972027972027972.\u001b[0m\n",
      "\u001b[32m[I 2021-04-23 10:11:58,409]\u001b[0m Trial 32 finished with value: 0.951048951048951 and parameters: {'booster': 'gbtree', 'lambda': 0.0003043356599518011, 'alpha': 1.1274475874235607e-05, 'subsample': 0.6531637646990583, 'colsample_bytree': 0.3631377626128184, 'max_depth': 7, 'min_child_weight': 7, 'eta': 1.290162105815095e-06, 'gamma': 0.15438219744772347, 'grow_policy': 'lossguide'}. Best is trial 16 with value: 0.972027972027972.\u001b[0m\n",
      "\u001b[32m[I 2021-04-23 10:11:58,544]\u001b[0m Trial 33 finished with value: 0.916083916083916 and parameters: {'booster': 'dart', 'lambda': 1.925216552397275e-05, 'alpha': 9.37103599644845e-07, 'subsample': 0.5842710957626845, 'colsample_bytree': 0.6572834125553229, 'max_depth': 7, 'min_child_weight': 6, 'eta': 4.4170564213079834e-05, 'gamma': 0.1342564108386569, 'grow_policy': 'lossguide', 'sample_type': 'uniform', 'normalize_type': 'tree', 'rate_drop': 1.3297336675361955e-08, 'skip_drop': 1.0222561568727179e-08}. Best is trial 16 with value: 0.972027972027972.\u001b[0m\n",
      "\u001b[32m[I 2021-04-23 10:11:58,671]\u001b[0m Trial 34 finished with value: 0.9370629370629371 and parameters: {'booster': 'gbtree', 'lambda': 2.7108437871154316e-06, 'alpha': 0.000447363556968221, 'subsample': 0.7353963494717277, 'colsample_bytree': 0.7558662901796708, 'max_depth': 5, 'min_child_weight': 8, 'eta': 5.676949805610774e-08, 'gamma': 0.0633161559315588, 'grow_policy': 'lossguide'}. Best is trial 16 with value: 0.972027972027972.\u001b[0m\n",
      "\u001b[32m[I 2021-04-23 10:11:58,779]\u001b[0m Trial 35 finished with value: 0.951048951048951 and parameters: {'booster': 'gbtree', 'lambda': 2.999623489901593e-08, 'alpha': 5.0855260351511425e-08, 'subsample': 0.79270570530659, 'colsample_bytree': 0.960525408062024, 'max_depth': 3, 'min_child_weight': 4, 'eta': 0.9416321187928753, 'gamma': 0.008487534864991684, 'grow_policy': 'depthwise'}. Best is trial 16 with value: 0.972027972027972.\u001b[0m\n",
      "\u001b[32m[I 2021-04-23 10:11:58,912]\u001b[0m Trial 36 finished with value: 0.9370629370629371 and parameters: {'booster': 'dart', 'lambda': 4.885542727427995e-07, 'alpha': 2.3743540733848607e-06, 'subsample': 0.799375558666903, 'colsample_bytree': 0.9409024267951536, 'max_depth': 3, 'min_child_weight': 3, 'eta': 0.0287509800874958, 'gamma': 0.003018795608906481, 'grow_policy': 'lossguide', 'sample_type': 'uniform', 'normalize_type': 'tree', 'rate_drop': 8.986660647255528e-07, 'skip_drop': 0.3303221681443091}. Best is trial 16 with value: 0.972027972027972.\u001b[0m\n",
      "\u001b[32m[I 2021-04-23 10:11:58,977]\u001b[0m Trial 37 finished with value: 0.9020979020979021 and parameters: {'booster': 'gblinear', 'lambda': 1.1357946174313606e-07, 'alpha': 5.373237516314393e-07, 'subsample': 0.9050973087637981, 'colsample_bytree': 0.8792765189112264}. Best is trial 16 with value: 0.972027972027972.\u001b[0m\n"
     ]
    },
    {
     "name": "stderr",
     "output_type": "stream",
     "text": [
      "\u001b[32m[I 2021-04-23 10:11:59,091]\u001b[0m Trial 38 finished with value: 0.9370629370629371 and parameters: {'booster': 'gbtree', 'lambda': 1.6638607986621608e-05, 'alpha': 4.067091209442716e-06, 'subsample': 0.5584909169208668, 'colsample_bytree': 0.6481211081836007, 'max_depth': 9, 'min_child_weight': 8, 'eta': 2.3581742925139013e-06, 'gamma': 0.03851033813681557, 'grow_policy': 'lossguide'}. Best is trial 16 with value: 0.972027972027972.\u001b[0m\n",
      "\u001b[32m[I 2021-04-23 10:11:59,179]\u001b[0m Trial 39 finished with value: 0.8811188811188811 and parameters: {'booster': 'gblinear', 'lambda': 2.5726780758915003e-08, 'alpha': 0.008085040751495229, 'subsample': 0.8712832564211267, 'colsample_bytree': 0.8304824598818531}. Best is trial 16 with value: 0.972027972027972.\u001b[0m\n",
      "\u001b[32m[I 2021-04-23 10:11:59,301]\u001b[0m Trial 40 finished with value: 0.951048951048951 and parameters: {'booster': 'gbtree', 'lambda': 1.5878200413753212e-06, 'alpha': 1.623962619313308e-05, 'subsample': 0.5158733776844772, 'colsample_bytree': 0.7172426764484627, 'max_depth': 7, 'min_child_weight': 9, 'eta': 5.21123175509345e-08, 'gamma': 1.004158754466585e-08, 'grow_policy': 'depthwise'}. Best is trial 16 with value: 0.972027972027972.\u001b[0m\n",
      "\u001b[32m[I 2021-04-23 10:11:59,420]\u001b[0m Trial 41 finished with value: 0.958041958041958 and parameters: {'booster': 'gbtree', 'lambda': 1.9839016822145612e-07, 'alpha': 2.078158471278767e-07, 'subsample': 0.6701968079826023, 'colsample_bytree': 0.5070186432312911, 'max_depth': 9, 'min_child_weight': 5, 'eta': 0.26955024905113256, 'gamma': 0.00043909756995647644, 'grow_policy': 'lossguide'}. Best is trial 16 with value: 0.972027972027972.\u001b[0m\n",
      "\u001b[32m[I 2021-04-23 10:11:59,540]\u001b[0m Trial 42 finished with value: 0.958041958041958 and parameters: {'booster': 'gbtree', 'lambda': 7.104628763381592e-05, 'alpha': 0.0002558619496534023, 'subsample': 0.7210163911259643, 'colsample_bytree': 0.998677066595822, 'max_depth': 5, 'min_child_weight': 4, 'eta': 0.898962487786393, 'gamma': 0.018468514336770377, 'grow_policy': 'lossguide'}. Best is trial 16 with value: 0.972027972027972.\u001b[0m\n",
      "\u001b[32m[I 2021-04-23 10:11:59,656]\u001b[0m Trial 43 finished with value: 0.951048951048951 and parameters: {'booster': 'gbtree', 'lambda': 6.491796216556618e-08, 'alpha': 0.0019065354628656917, 'subsample': 0.6189164158998726, 'colsample_bytree': 0.46479659199470713, 'max_depth': 7, 'min_child_weight': 2, 'eta': 1.6418412925060516e-05, 'gamma': 0.0030437729076405596, 'grow_policy': 'lossguide'}. Best is trial 16 with value: 0.972027972027972.\u001b[0m\n",
      "\u001b[32m[I 2021-04-23 10:11:59,782]\u001b[0m Trial 44 finished with value: 0.9300699300699301 and parameters: {'booster': 'gbtree', 'lambda': 2.3817337488563073e-07, 'alpha': 2.081245840372933e-08, 'subsample': 0.7576154077061082, 'colsample_bytree': 0.523472493362658, 'max_depth': 9, 'min_child_weight': 5, 'eta': 0.3916067272434572, 'gamma': 0.000311297439363202, 'grow_policy': 'lossguide'}. Best is trial 16 with value: 0.972027972027972.\u001b[0m\n",
      "\u001b[32m[I 2021-04-23 10:11:59,928]\u001b[0m Trial 45 finished with value: 0.9370629370629371 and parameters: {'booster': 'dart', 'lambda': 0.0013031592179352685, 'alpha': 0.00012745121118823755, 'subsample': 0.4775436370400216, 'colsample_bytree': 0.9065101289344542, 'max_depth': 5, 'min_child_weight': 7, 'eta': 0.06660256474876566, 'gamma': 0.2998856505619978, 'grow_policy': 'lossguide', 'sample_type': 'weighted', 'normalize_type': 'forest', 'rate_drop': 2.178373667594789e-05, 'skip_drop': 5.8953213129384716e-08}. Best is trial 16 with value: 0.972027972027972.\u001b[0m\n",
      "\u001b[32m[I 2021-04-23 10:12:00,042]\u001b[0m Trial 46 finished with value: 0.9370629370629371 and parameters: {'booster': 'gbtree', 'lambda': 0.01564964662864947, 'alpha': 0.015462894046830808, 'subsample': 0.7266696256624314, 'colsample_bytree': 0.998285389144724, 'max_depth': 5, 'min_child_weight': 4, 'eta': 0.3989980009343659, 'gamma': 0.0209639767616957, 'grow_policy': 'lossguide'}. Best is trial 16 with value: 0.972027972027972.\u001b[0m\n",
      "\u001b[32m[I 2021-04-23 10:12:00,164]\u001b[0m Trial 47 finished with value: 0.9300699300699301 and parameters: {'booster': 'gbtree', 'lambda': 3.7823354488308255e-05, 'alpha': 0.0015252565461482106, 'subsample': 0.6772112446573878, 'colsample_bytree': 0.4686413533590028, 'max_depth': 5, 'min_child_weight': 5, 'eta': 0.18938893797050244, 'gamma': 0.00037307273573359916, 'grow_policy': 'lossguide'}. Best is trial 16 with value: 0.972027972027972.\u001b[0m\n",
      "\u001b[32m[I 2021-04-23 10:12:00,254]\u001b[0m Trial 48 finished with value: 0.951048951048951 and parameters: {'booster': 'gblinear', 'lambda': 1.6288272397358863e-06, 'alpha': 7.85626405920908e-06, 'subsample': 0.26232430554827235, 'colsample_bytree': 0.21417897922271478}. Best is trial 16 with value: 0.972027972027972.\u001b[0m\n",
      "\u001b[32m[I 2021-04-23 10:12:00,412]\u001b[0m Trial 49 finished with value: 0.8881118881118881 and parameters: {'booster': 'gbtree', 'lambda': 0.00015855643270469065, 'alpha': 0.12412365306473355, 'subsample': 0.812582708865343, 'colsample_bytree': 0.96976451322137, 'max_depth': 3, 'min_child_weight': 4, 'eta': 0.014332143323938066, 'gamma': 4.9030976142733555e-05, 'grow_policy': 'lossguide'}. Best is trial 16 with value: 0.972027972027972.\u001b[0m\n",
      "\u001b[32m[I 2021-04-23 10:12:00,543]\u001b[0m Trial 50 finished with value: 0.9370629370629371 and parameters: {'booster': 'gbtree', 'lambda': 0.00044721603779918767, 'alpha': 3.482356946779021e-05, 'subsample': 0.6061354877407708, 'colsample_bytree': 0.8127180205521971, 'max_depth': 5, 'min_child_weight': 6, 'eta': 1.5900037196780452e-07, 'gamma': 0.0021266770653890162, 'grow_policy': 'depthwise'}. Best is trial 16 with value: 0.972027972027972.\u001b[0m\n",
      "\u001b[32m[I 2021-04-23 10:12:00,661]\u001b[0m Trial 51 finished with value: 0.9300699300699301 and parameters: {'booster': 'gbtree', 'lambda': 1.520068154270253e-08, 'alpha': 1.622028311513762e-07, 'subsample': 0.7008770851981458, 'colsample_bytree': 0.5589935783963573, 'max_depth': 5, 'min_child_weight': 4, 'eta': 0.9618691850095256, 'gamma': 0.01345257247644237, 'grow_policy': 'lossguide'}. Best is trial 16 with value: 0.972027972027972.\u001b[0m\n",
      "\u001b[32m[I 2021-04-23 10:12:00,784]\u001b[0m Trial 52 finished with value: 0.9790209790209791 and parameters: {'booster': 'gbtree', 'lambda': 7.4412258369618475e-06, 'alpha': 0.00021492358345441754, 'subsample': 0.8673334753108327, 'colsample_bytree': 0.947200955945832, 'max_depth': 7, 'min_child_weight': 2, 'eta': 0.8803151089131349, 'gamma': 0.8758371570948423, 'grow_policy': 'lossguide'}. Best is trial 52 with value: 0.9790209790209791.\u001b[0m\n",
      "\u001b[32m[I 2021-04-23 10:12:00,911]\u001b[0m Trial 53 finished with value: 0.951048951048951 and parameters: {'booster': 'gbtree', 'lambda': 4.789771041469885e-07, 'alpha': 1.966195572031551e-07, 'subsample': 0.8548122781851116, 'colsample_bytree': 0.9543436630895409, 'max_depth': 9, 'min_child_weight': 2, 'eta': 0.2776888369634848, 'gamma': 0.9415909237588469, 'grow_policy': 'lossguide'}. Best is trial 52 with value: 0.9790209790209791.\u001b[0m\n",
      "\u001b[32m[I 2021-04-23 10:12:01,044]\u001b[0m Trial 54 finished with value: 0.9300699300699301 and parameters: {'booster': 'gbtree', 'lambda': 7.664372608532145e-06, 'alpha': 0.0001889208405025235, 'subsample': 0.7760431062202398, 'colsample_bytree': 0.8482383095582344, 'max_depth': 7, 'min_child_weight': 2, 'eta': 0.05474227541341989, 'gamma': 0.4604975047509228, 'grow_policy': 'lossguide'}. Best is trial 52 with value: 0.9790209790209791.\u001b[0m\n",
      "\u001b[32m[I 2021-04-23 10:12:01,167]\u001b[0m Trial 55 finished with value: 0.951048951048951 and parameters: {'booster': 'gbtree', 'lambda': 3.2289993742975817e-06, 'alpha': 0.0005977500605010892, 'subsample': 0.6680158531228964, 'colsample_bytree': 0.4573826116001657, 'max_depth': 9, 'min_child_weight': 6, 'eta': 0.3060737851886526, 'gamma': 0.00033263238439989166, 'grow_policy': 'lossguide'}. Best is trial 52 with value: 0.9790209790209791.\u001b[0m\n",
      "\u001b[32m[I 2021-04-23 10:12:01,288]\u001b[0m Trial 56 finished with value: 0.9370629370629371 and parameters: {'booster': 'gbtree', 'lambda': 9.392443687710378e-06, 'alpha': 0.00026484173952013283, 'subsample': 0.9411187336213885, 'colsample_bytree': 0.9031267463847901, 'max_depth': 5, 'min_child_weight': 3, 'eta': 0.969305394646662, 'gamma': 0.9898521504458847, 'grow_policy': 'lossguide'}. Best is trial 52 with value: 0.9790209790209791.\u001b[0m\n"
     ]
    },
    {
     "name": "stderr",
     "output_type": "stream",
     "text": [
      "\u001b[32m[I 2021-04-23 10:12:01,415]\u001b[0m Trial 57 finished with value: 0.9370629370629371 and parameters: {'booster': 'gbtree', 'lambda': 9.102103286667672e-07, 'alpha': 6.935670465073088e-05, 'subsample': 0.8273770046474362, 'colsample_bytree': 0.7761039480709379, 'max_depth': 7, 'min_child_weight': 3, 'eta': 0.0007624458955711877, 'gamma': 0.1433114311733307, 'grow_policy': 'lossguide'}. Best is trial 52 with value: 0.9790209790209791.\u001b[0m\n",
      "\u001b[32m[I 2021-04-23 10:12:01,543]\u001b[0m Trial 58 finished with value: 0.965034965034965 and parameters: {'booster': 'gbtree', 'lambda': 2.7428307688429218e-05, 'alpha': 3.366374491880591e-05, 'subsample': 0.7624354582291348, 'colsample_bytree': 0.9688501635983748, 'max_depth': 7, 'min_child_weight': 2, 'eta': 0.00016550553438462627, 'gamma': 0.04741652276799454, 'grow_policy': 'lossguide'}. Best is trial 52 with value: 0.9790209790209791.\u001b[0m\n",
      "\u001b[32m[I 2021-04-23 10:12:01,674]\u001b[0m Trial 59 finished with value: 0.965034965034965 and parameters: {'booster': 'gbtree', 'lambda': 3.132767583757101e-05, 'alpha': 3.349753860129546e-05, 'subsample': 0.7486493662589206, 'colsample_bytree': 0.9390353318828123, 'max_depth': 5, 'min_child_weight': 2, 'eta': 0.06796792246433792, 'gamma': 0.05920847751612985, 'grow_policy': 'lossguide'}. Best is trial 52 with value: 0.9790209790209791.\u001b[0m\n",
      "\u001b[32m[I 2021-04-23 10:12:01,823]\u001b[0m Trial 60 finished with value: 0.958041958041958 and parameters: {'booster': 'dart', 'lambda': 3.428548057540893e-05, 'alpha': 4.556052386418867e-05, 'subsample': 0.8778029610447885, 'colsample_bytree': 0.9372935846947613, 'max_depth': 5, 'min_child_weight': 2, 'eta': 0.012236061107991683, 'gamma': 0.04388070190758456, 'grow_policy': 'lossguide', 'sample_type': 'uniform', 'normalize_type': 'tree', 'rate_drop': 0.6633713292038078, 'skip_drop': 0.0026678645485459173}. Best is trial 52 with value: 0.9790209790209791.\u001b[0m\n",
      "\u001b[32m[I 2021-04-23 10:12:01,957]\u001b[0m Trial 61 finished with value: 0.9440559440559441 and parameters: {'booster': 'gbtree', 'lambda': 3.412870681058777e-05, 'alpha': 2.3863708294156e-05, 'subsample': 0.7665983482182225, 'colsample_bytree': 0.8942924201295391, 'max_depth': 7, 'min_child_weight': 2, 'eta': 0.0001728676664778855, 'gamma': 1.0739445981208572e-07, 'grow_policy': 'lossguide'}. Best is trial 52 with value: 0.9790209790209791.\u001b[0m\n",
      "\u001b[32m[I 2021-04-23 10:12:02,093]\u001b[0m Trial 62 finished with value: 0.9300699300699301 and parameters: {'booster': 'dart', 'lambda': 0.00015059649705813428, 'alpha': 5.601041233173197e-05, 'subsample': 0.87824256354428, 'colsample_bytree': 0.9358496558998199, 'max_depth': 5, 'min_child_weight': 2, 'eta': 0.07228966607919891, 'gamma': 0.05353515274185265, 'grow_policy': 'lossguide', 'sample_type': 'uniform', 'normalize_type': 'tree', 'rate_drop': 0.8875069283330597, 'skip_drop': 0.003347883216743493}. Best is trial 52 with value: 0.9790209790209791.\u001b[0m\n",
      "\u001b[32m[I 2021-04-23 10:12:02,223]\u001b[0m Trial 63 finished with value: 0.972027972027972 and parameters: {'booster': 'gbtree', 'lambda': 5.761777142164033e-05, 'alpha': 0.00012308216735830243, 'subsample': 0.7406495622037035, 'colsample_bytree': 0.999764159236511, 'max_depth': 5, 'min_child_weight': 3, 'eta': 0.587522994330763, 'gamma': 0.02566200342770494, 'grow_policy': 'lossguide'}. Best is trial 52 with value: 0.9790209790209791.\u001b[0m\n",
      "\u001b[32m[I 2021-04-23 10:12:02,356]\u001b[0m Trial 64 finished with value: 0.972027972027972 and parameters: {'booster': 'gbtree', 'lambda': 0.0003957139198935715, 'alpha': 0.00012984617035510793, 'subsample': 0.7397018809769389, 'colsample_bytree': 0.8536726987934103, 'max_depth': 5, 'min_child_weight': 3, 'eta': 0.157000728586443, 'gamma': 0.006558590626277277, 'grow_policy': 'lossguide'}. Best is trial 52 with value: 0.9790209790209791.\u001b[0m\n",
      "\u001b[32m[I 2021-04-23 10:12:02,489]\u001b[0m Trial 65 finished with value: 0.951048951048951 and parameters: {'booster': 'gbtree', 'lambda': 0.00037786733948366117, 'alpha': 6.7648791442517805e-06, 'subsample': 0.7569518539683754, 'colsample_bytree': 0.8531130696553914, 'max_depth': 5, 'min_child_weight': 3, 'eta': 0.118430753284324, 'gamma': 0.07813315248057363, 'grow_policy': 'lossguide'}. Best is trial 52 with value: 0.9790209790209791.\u001b[0m\n",
      "\u001b[32m[I 2021-04-23 10:12:02,618]\u001b[0m Trial 66 finished with value: 0.972027972027972 and parameters: {'booster': 'gbtree', 'lambda': 0.0011501365360741594, 'alpha': 0.0001352257310252183, 'subsample': 0.8419613265855571, 'colsample_bytree': 0.9826881593660147, 'max_depth': 5, 'min_child_weight': 3, 'eta': 0.04821720689610962, 'gamma': 0.008010216418591572, 'grow_policy': 'lossguide'}. Best is trial 52 with value: 0.9790209790209791.\u001b[0m\n",
      "\u001b[32m[I 2021-04-23 10:12:02,744]\u001b[0m Trial 67 finished with value: 0.916083916083916 and parameters: {'booster': 'gbtree', 'lambda': 0.004155724290162021, 'alpha': 0.00013216963455756078, 'subsample': 0.8219283795944364, 'colsample_bytree': 0.8937865032139679, 'max_depth': 5, 'min_child_weight': 3, 'eta': 0.043751654201747155, 'gamma': 0.006741751288512182, 'grow_policy': 'lossguide'}. Best is trial 52 with value: 0.9790209790209791.\u001b[0m\n",
      "\u001b[32m[I 2021-04-23 10:12:02,871]\u001b[0m Trial 68 finished with value: 0.9370629370629371 and parameters: {'booster': 'gbtree', 'lambda': 0.0009815007288306841, 'alpha': 0.0010699652936256336, 'subsample': 0.9501894210298935, 'colsample_bytree': 0.9870048846088946, 'max_depth': 5, 'min_child_weight': 3, 'eta': 0.5543250650091678, 'gamma': 0.004623031999406792, 'grow_policy': 'lossguide'}. Best is trial 52 with value: 0.9790209790209791.\u001b[0m\n",
      "\u001b[32m[I 2021-04-23 10:12:03,004]\u001b[0m Trial 69 finished with value: 0.958041958041958 and parameters: {'booster': 'gbtree', 'lambda': 0.009518637322790418, 'alpha': 0.0004121398010809751, 'subsample': 0.8362783327394351, 'colsample_bytree': 0.8627369832746485, 'max_depth': 5, 'min_child_weight': 3, 'eta': 0.016835116752141867, 'gamma': 3.861975730751095e-06, 'grow_policy': 'lossguide'}. Best is trial 52 with value: 0.9790209790209791.\u001b[0m\n",
      "\u001b[32m[I 2021-04-23 10:12:03,132]\u001b[0m Trial 70 finished with value: 0.9370629370629371 and parameters: {'booster': 'gbtree', 'lambda': 9.381576836830313e-05, 'alpha': 0.003358421867568425, 'subsample': 0.7408117047642987, 'colsample_bytree': 0.8166689964719362, 'max_depth': 5, 'min_child_weight': 3, 'eta': 0.12887661814345633, 'gamma': 0.00140287243331238, 'grow_policy': 'lossguide'}. Best is trial 52 with value: 0.9790209790209791.\u001b[0m\n",
      "\u001b[32m[I 2021-04-23 10:12:03,269]\u001b[0m Trial 71 finished with value: 0.958041958041958 and parameters: {'booster': 'gbtree', 'lambda': 2.3083550262461338e-05, 'alpha': 2.9594387295234323e-05, 'subsample': 0.6959579259149555, 'colsample_bytree': 0.9537443472114137, 'max_depth': 5, 'min_child_weight': 2, 'eta': 0.003208472438015431, 'gamma': 0.026110899985895, 'grow_policy': 'lossguide'}. Best is trial 52 with value: 0.9790209790209791.\u001b[0m\n",
      "\u001b[32m[I 2021-04-23 10:12:03,393]\u001b[0m Trial 72 finished with value: 0.951048951048951 and parameters: {'booster': 'gbtree', 'lambda': 0.0005412899296932613, 'alpha': 8.933203005906074e-05, 'subsample': 0.78964488204605, 'colsample_bytree': 0.9822125928616052, 'max_depth': 7, 'min_child_weight': 4, 'eta': 0.4986529312850725, 'gamma': 0.009976977219141007, 'grow_policy': 'lossguide'}. Best is trial 52 with value: 0.9790209790209791.\u001b[0m\n",
      "\u001b[32m[I 2021-04-23 10:12:03,528]\u001b[0m Trial 73 finished with value: 0.972027972027972 and parameters: {'booster': 'gbtree', 'lambda': 0.0007722314362850713, 'alpha': 0.00016673586318792556, 'subsample': 0.8528306975911398, 'colsample_bytree': 0.917555555735068, 'max_depth': 5, 'min_child_weight': 3, 'eta': 0.20478785804491287, 'gamma': 2.3360317778948775e-05, 'grow_policy': 'lossguide'}. Best is trial 52 with value: 0.9790209790209791.\u001b[0m\n",
      "\u001b[32m[I 2021-04-23 10:12:03,658]\u001b[0m Trial 74 finished with value: 0.951048951048951 and parameters: {'booster': 'gbtree', 'lambda': 0.0037677378827242662, 'alpha': 0.00016994175497482404, 'subsample': 0.9006340523896009, 'colsample_bytree': 0.9205348098679111, 'max_depth': 5, 'min_child_weight': 3, 'eta': 0.1858903817223936, 'gamma': 2.056081788097369e-05, 'grow_policy': 'lossguide'}. Best is trial 52 with value: 0.9790209790209791.\u001b[0m\n",
      "\u001b[32m[I 2021-04-23 10:12:03,785]\u001b[0m Trial 75 finished with value: 0.958041958041958 and parameters: {'booster': 'gbtree', 'lambda': 0.000615418855980897, 'alpha': 7.08695949045753e-05, 'subsample': 0.8372601261936018, 'colsample_bytree': 0.8869165119186035, 'max_depth': 5, 'min_child_weight': 2, 'eta': 0.0345043923748229, 'gamma': 4.574890448505227e-06, 'grow_policy': 'lossguide'}. Best is trial 52 with value: 0.9790209790209791.\u001b[0m\n"
     ]
    },
    {
     "name": "stderr",
     "output_type": "stream",
     "text": [
      "\u001b[32m[I 2021-04-23 10:12:03,860]\u001b[0m Trial 76 finished with value: 0.8811188811188811 and parameters: {'booster': 'gblinear', 'lambda': 0.0022988076036106423, 'alpha': 0.0003479573832290379, 'subsample': 0.8540987824841837, 'colsample_bytree': 0.9982669804626523}. Best is trial 52 with value: 0.9790209790209791.\u001b[0m\n",
      "\u001b[32m[I 2021-04-23 10:12:03,992]\u001b[0m Trial 77 finished with value: 0.958041958041958 and parameters: {'booster': 'gbtree', 'lambda': 0.00024264727357644394, 'alpha': 1.9196506137941716e-05, 'subsample': 0.9989153955445945, 'colsample_bytree': 0.9107862147717655, 'max_depth': 7, 'min_child_weight': 3, 'eta': 0.5050917023517499, 'gamma': 3.593845784482803e-05, 'grow_policy': 'lossguide'}. Best is trial 52 with value: 0.9790209790209791.\u001b[0m\n",
      "\u001b[32m[I 2021-04-23 10:12:04,136]\u001b[0m Trial 78 finished with value: 0.986013986013986 and parameters: {'booster': 'gbtree', 'lambda': 7.728889304135115e-05, 'alpha': 9.417129368178318e-06, 'subsample': 0.9246969760564339, 'colsample_bytree': 0.9679985766551882, 'max_depth': 7, 'min_child_weight': 3, 'eta': 0.18549677739631035, 'gamma': 1.3217357387019043e-06, 'grow_policy': 'depthwise'}. Best is trial 78 with value: 0.986013986013986.\u001b[0m\n",
      "\u001b[32m[I 2021-04-23 10:12:04,280]\u001b[0m Trial 79 finished with value: 0.972027972027972 and parameters: {'booster': 'gbtree', 'lambda': 0.0007591884711582279, 'alpha': 1.110307791356636e-05, 'subsample': 0.9346357387336205, 'colsample_bytree': 0.867776181474534, 'max_depth': 5, 'min_child_weight': 3, 'eta': 0.0914445732951861, 'gamma': 6.574514801852228e-07, 'grow_policy': 'depthwise'}. Best is trial 78 with value: 0.986013986013986.\u001b[0m\n",
      "\u001b[32m[I 2021-04-23 10:12:04,416]\u001b[0m Trial 80 finished with value: 0.9440559440559441 and parameters: {'booster': 'gbtree', 'lambda': 0.0008268230569746324, 'alpha': 0.0009432121478403785, 'subsample': 0.9650469914403299, 'colsample_bytree': 0.7476967422061903, 'max_depth': 5, 'min_child_weight': 3, 'eta': 0.007567227753026408, 'gamma': 5.896047639290732e-07, 'grow_policy': 'depthwise'}. Best is trial 78 with value: 0.986013986013986.\u001b[0m\n",
      "\u001b[32m[I 2021-04-23 10:12:04,552]\u001b[0m Trial 81 finished with value: 0.958041958041958 and parameters: {'booster': 'gbtree', 'lambda': 0.001824822695256949, 'alpha': 2.5505711438329436e-06, 'subsample': 0.9271743011691549, 'colsample_bytree': 0.8650859972472686, 'max_depth': 5, 'min_child_weight': 3, 'eta': 0.19816501973032755, 'gamma': 1.2505643576003576e-06, 'grow_policy': 'depthwise'}. Best is trial 78 with value: 0.986013986013986.\u001b[0m\n",
      "\u001b[32m[I 2021-04-23 10:12:04,691]\u001b[0m Trial 82 finished with value: 0.9300699300699301 and parameters: {'booster': 'gbtree', 'lambda': 0.00010122280974560033, 'alpha': 4.342996903769096e-06, 'subsample': 0.9752444079861862, 'colsample_bytree': 0.8354198740865512, 'max_depth': 5, 'min_child_weight': 3, 'eta': 0.09515203465143031, 'gamma': 2.7218862699506455e-07, 'grow_policy': 'depthwise'}. Best is trial 78 with value: 0.986013986013986.\u001b[0m\n",
      "\u001b[32m[I 2021-04-23 10:12:04,829]\u001b[0m Trial 83 finished with value: 0.9440559440559441 and parameters: {'booster': 'gbtree', 'lambda': 0.00022180834536881838, 'alpha': 1.1078665428693194e-05, 'subsample': 0.89207871951745, 'colsample_bytree': 0.9208047414594394, 'max_depth': 5, 'min_child_weight': 4, 'eta': 0.205301587105032, 'gamma': 1.5670758158556554e-06, 'grow_policy': 'depthwise'}. Best is trial 78 with value: 0.986013986013986.\u001b[0m\n",
      "\u001b[32m[I 2021-04-23 10:12:04,962]\u001b[0m Trial 84 finished with value: 0.972027972027972 and parameters: {'booster': 'gbtree', 'lambda': 0.02207373123688544, 'alpha': 1.22131049442157e-05, 'subsample': 0.9298918414255963, 'colsample_bytree': 0.7932496170623486, 'max_depth': 5, 'min_child_weight': 4, 'eta': 0.0290371304554727, 'gamma': 5.013650647171651e-07, 'grow_policy': 'depthwise'}. Best is trial 78 with value: 0.986013986013986.\u001b[0m\n",
      "\u001b[32m[I 2021-04-23 10:12:05,102]\u001b[0m Trial 85 finished with value: 0.9300699300699301 and parameters: {'booster': 'gbtree', 'lambda': 0.1720966534363961, 'alpha': 1.1293909968602089e-05, 'subsample': 0.9292964511846805, 'colsample_bytree': 0.8106319976122663, 'max_depth': 5, 'min_child_weight': 4, 'eta': 0.032713428386115725, 'gamma': 4.0845287898236525e-07, 'grow_policy': 'depthwise'}. Best is trial 78 with value: 0.986013986013986.\u001b[0m\n",
      "\u001b[32m[I 2021-04-23 10:12:05,239]\u001b[0m Trial 86 finished with value: 0.958041958041958 and parameters: {'booster': 'gbtree', 'lambda': 0.015262634155206335, 'alpha': 6.937669934347648e-06, 'subsample': 0.8576528214417353, 'colsample_bytree': 0.8786326750103931, 'max_depth': 5, 'min_child_weight': 4, 'eta': 0.02057588823448473, 'gamma': 5.668649856159458e-06, 'grow_policy': 'depthwise'}. Best is trial 78 with value: 0.986013986013986.\u001b[0m\n",
      "\u001b[32m[I 2021-04-23 10:12:05,380]\u001b[0m Trial 87 finished with value: 0.9440559440559441 and parameters: {'booster': 'gbtree', 'lambda': 0.028265275006105574, 'alpha': 1.212322857696785e-06, 'subsample': 0.9216145897421824, 'colsample_bytree': 0.7892361693194473, 'max_depth': 7, 'min_child_weight': 3, 'eta': 0.09285428923388914, 'gamma': 1.4890069352744275e-07, 'grow_policy': 'depthwise'}. Best is trial 78 with value: 0.986013986013986.\u001b[0m\n",
      "\u001b[32m[I 2021-04-23 10:12:05,526]\u001b[0m Trial 88 finished with value: 0.951048951048951 and parameters: {'booster': 'gbtree', 'lambda': 1.2794019226026312e-05, 'alpha': 0.00012235116170725087, 'subsample': 0.8879313324253626, 'colsample_bytree': 0.9493663706171499, 'max_depth': 5, 'min_child_weight': 3, 'eta': 0.046798339409089264, 'gamma': 1.8703181504649154e-07, 'grow_policy': 'depthwise'}. Best is trial 78 with value: 0.986013986013986.\u001b[0m\n",
      "\u001b[32m[I 2021-04-23 10:12:05,655]\u001b[0m Trial 89 finished with value: 0.965034965034965 and parameters: {'booster': 'gbtree', 'lambda': 5.052252572755873e-05, 'alpha': 0.00017511243845928212, 'subsample': 0.8106687280237727, 'colsample_bytree': 0.9757176162062761, 'max_depth': 5, 'min_child_weight': 3, 'eta': 0.6433841221023122, 'gamma': 3.087006088625499e-08, 'grow_policy': 'depthwise'}. Best is trial 78 with value: 0.986013986013986.\u001b[0m\n",
      "\u001b[32m[I 2021-04-23 10:12:05,796]\u001b[0m Trial 90 finished with value: 0.951048951048951 and parameters: {'booster': 'gbtree', 'lambda': 0.052105820470812324, 'alpha': 6.580887344847924e-05, 'subsample': 0.9744337583651063, 'colsample_bytree': 0.849643205167102, 'max_depth': 5, 'min_child_weight': 2, 'eta': 0.30833759682844764, 'gamma': 7.087160742826586e-08, 'grow_policy': 'depthwise'}. Best is trial 78 with value: 0.986013986013986.\u001b[0m\n",
      "\u001b[32m[I 2021-04-23 10:12:05,931]\u001b[0m Trial 91 finished with value: 0.916083916083916 and parameters: {'booster': 'gbtree', 'lambda': 0.4632508097424125, 'alpha': 2.010814380331351e-05, 'subsample': 0.865171793754609, 'colsample_bytree': 0.9257737849382766, 'max_depth': 5, 'min_child_weight': 4, 'eta': 0.1291950421585196, 'gamma': 6.026665505147468e-07, 'grow_policy': 'depthwise'}. Best is trial 78 with value: 0.986013986013986.\u001b[0m\n",
      "\u001b[32m[I 2021-04-23 10:12:06,055]\u001b[0m Trial 92 finished with value: 0.951048951048951 and parameters: {'booster': 'gbtree', 'lambda': 0.0035884720724887673, 'alpha': 3.415805737438081e-06, 'subsample': 0.9117543517432951, 'colsample_bytree': 0.8280338013967459, 'max_depth': 5, 'min_child_weight': 4, 'eta': 0.3529700839213038, 'gamma': 2.8156967560110157e-06, 'grow_policy': 'depthwise'}. Best is trial 78 with value: 0.986013986013986.\u001b[0m\n",
      "\u001b[32m[I 2021-04-23 10:12:06,198]\u001b[0m Trial 93 finished with value: 0.9020979020979021 and parameters: {'booster': 'gbtree', 'lambda': 0.0007724661406464848, 'alpha': 1.113945112458161e-05, 'subsample': 0.8138030448309059, 'colsample_bytree': 0.8957446100217042, 'max_depth': 5, 'min_child_weight': 3, 'eta': 0.16905212550556106, 'gamma': 8.682867748129524e-07, 'grow_policy': 'depthwise'}. Best is trial 78 with value: 0.986013986013986.\u001b[0m\n",
      "\u001b[32m[I 2021-04-23 10:12:06,326]\u001b[0m Trial 94 finished with value: 0.9790209790209791 and parameters: {'booster': 'gbtree', 'lambda': 0.00032677422547219186, 'alpha': 0.0005890264647573132, 'subsample': 0.9481759611394239, 'colsample_bytree': 0.8707448134142209, 'max_depth': 5, 'min_child_weight': 3, 'eta': 0.07830012759939657, 'gamma': 1.643518294374665e-05, 'grow_policy': 'depthwise'}. Best is trial 78 with value: 0.986013986013986.\u001b[0m\n"
     ]
    },
    {
     "name": "stderr",
     "output_type": "stream",
     "text": [
      "\u001b[32m[I 2021-04-23 10:12:06,457]\u001b[0m Trial 95 finished with value: 0.951048951048951 and parameters: {'booster': 'gbtree', 'lambda': 0.00011544765385123755, 'alpha': 0.0006636809893970788, 'subsample': 0.9577449167843904, 'colsample_bytree': 0.9582722849637391, 'max_depth': 7, 'min_child_weight': 4, 'eta': 0.6650217174684401, 'gamma': 1.6784957248674184e-05, 'grow_policy': 'depthwise'}. Best is trial 78 with value: 0.986013986013986.\u001b[0m\n",
      "\u001b[32m[I 2021-04-23 10:12:06,543]\u001b[0m Trial 96 finished with value: 0.9230769230769231 and parameters: {'booster': 'gblinear', 'lambda': 0.00030673004368861426, 'alpha': 0.00023462439071598163, 'subsample': 0.9838724625006919, 'colsample_bytree': 0.875881864328918}. Best is trial 78 with value: 0.986013986013986.\u001b[0m\n",
      "\u001b[32m[I 2021-04-23 10:12:06,673]\u001b[0m Trial 97 finished with value: 0.916083916083916 and parameters: {'booster': 'gbtree', 'lambda': 6.066216421775936e-05, 'alpha': 1.2579214929439925e-06, 'subsample': 0.9406950909162816, 'colsample_bytree': 0.800410325145926, 'max_depth': 5, 'min_child_weight': 2, 'eta': 0.07969078367792655, 'gamma': 6.815446978757188e-06, 'grow_policy': 'depthwise'}. Best is trial 78 with value: 0.986013986013986.\u001b[0m\n",
      "\u001b[32m[I 2021-04-23 10:12:06,810]\u001b[0m Trial 98 finished with value: 0.9300699300699301 and parameters: {'booster': 'gbtree', 'lambda': 5.32726279916394e-06, 'alpha': 0.5090664062137068, 'subsample': 0.3727270595220763, 'colsample_bytree': 0.761859974862074, 'max_depth': 5, 'min_child_weight': 3, 'eta': 0.024742449758914084, 'gamma': 2.0391611826081086e-06, 'grow_policy': 'depthwise'}. Best is trial 78 with value: 0.986013986013986.\u001b[0m\n",
      "\u001b[32m[I 2021-04-23 10:12:06,944]\u001b[0m Trial 99 finished with value: 0.9230769230769231 and parameters: {'booster': 'gbtree', 'lambda': 0.0014184475351943688, 'alpha': 0.04842782165345323, 'subsample': 0.711909668542456, 'colsample_bytree': 0.8580497002790564, 'max_depth': 3, 'min_child_weight': 3, 'eta': 0.010182324792033551, 'gamma': 8.837702851257759e-05, 'grow_policy': 'depthwise'}. Best is trial 78 with value: 0.986013986013986.\u001b[0m\n"
     ]
    },
    {
     "name": "stdout",
     "output_type": "stream",
     "text": [
      "Number of finished trials:  100\n",
      "Best trial:\n",
      "  Value: 0.986013986013986\n",
      "  Params: \n",
      "    booster: gbtree\n",
      "    lambda: 7.728889304135115e-05\n",
      "    alpha: 9.417129368178318e-06\n",
      "    subsample: 0.9246969760564339\n",
      "    colsample_bytree: 0.9679985766551882\n",
      "    max_depth: 7\n",
      "    min_child_weight: 3\n",
      "    eta: 0.18549677739631035\n",
      "    gamma: 1.3217357387019043e-06\n",
      "    grow_policy: depthwise\n"
     ]
    }
   ],
   "source": [
    "study = optuna.create_study(direction=\"maximize\")\n",
    "study.optimize(objective, n_trials=100, timeout=600)\n",
    "\n",
    "print(\"Number of finished trials: \", len(study.trials))\n",
    "print(\"Best trial:\")\n",
    "trial = study.best_trial\n",
    "\n",
    "print(\"  Value: {}\".format(trial.value))\n",
    "print(\"  Params: \")\n",
    "for key, value in trial.params.items():\n",
    "    print(\"    {}: {}\".format(key, value))"
   ]
  },
  {
   "cell_type": "markdown",
   "metadata": {},
   "source": [
    "### Still Light Boost Classifier with hyperparamet optimization in optuna performs better than XGBoost"
   ]
  },
  {
   "cell_type": "code",
   "execution_count": null,
   "metadata": {},
   "outputs": [],
   "source": []
  },
  {
   "cell_type": "code",
   "execution_count": null,
   "metadata": {},
   "outputs": [],
   "source": []
  },
  {
   "cell_type": "code",
   "execution_count": null,
   "metadata": {},
   "outputs": [],
   "source": []
  },
  {
   "cell_type": "markdown",
   "metadata": {},
   "source": [
    "## Now try neural networks using tensorflow"
   ]
  },
  {
   "cell_type": "code",
   "execution_count": 87,
   "metadata": {},
   "outputs": [],
   "source": [
    "import tensorflow as tf\n",
    "from tensorflow import keras\n",
    "from tensorflow.keras import layers\n",
    "from tensorflow.keras.layers import Dropout\n",
    "from tensorflow.keras.models import Sequential\n",
    "from tensorflow.keras.layers import Dense\n",
    "from tensorflow.keras.layers import BatchNormalization\n",
    "from sklearn import metrics\n",
    "from sklearn.preprocessing import StandardScaler\n",
    "from tensorflow.keras.callbacks import EarlyStopping\n",
    "from sklearn import preprocessing\n",
    "from sklearn.metrics import confusion_matrix"
   ]
  },
  {
   "cell_type": "code",
   "execution_count": null,
   "metadata": {},
   "outputs": [],
   "source": []
  },
  {
   "cell_type": "markdown",
   "metadata": {},
   "source": [
    "## Before applying tensorflow lets scale the data"
   ]
  },
  {
   "cell_type": "code",
   "execution_count": 54,
   "metadata": {},
   "outputs": [],
   "source": [
    "X=df.drop(columns=[\"Class\"])\n",
    "y=df[\"Class\"]"
   ]
  },
  {
   "cell_type": "code",
   "execution_count": 55,
   "metadata": {},
   "outputs": [
    {
     "data": {
      "text/html": [
       "<div>\n",
       "<style scoped>\n",
       "    .dataframe tbody tr th:only-of-type {\n",
       "        vertical-align: middle;\n",
       "    }\n",
       "\n",
       "    .dataframe tbody tr th {\n",
       "        vertical-align: top;\n",
       "    }\n",
       "\n",
       "    .dataframe thead th {\n",
       "        text-align: right;\n",
       "    }\n",
       "</style>\n",
       "<table border=\"1\" class=\"dataframe\">\n",
       "  <thead>\n",
       "    <tr style=\"text-align: right;\">\n",
       "      <th></th>\n",
       "      <th>Time</th>\n",
       "      <th>V1</th>\n",
       "      <th>V2</th>\n",
       "      <th>V3</th>\n",
       "      <th>V4</th>\n",
       "      <th>V5</th>\n",
       "      <th>V6</th>\n",
       "      <th>V7</th>\n",
       "      <th>V8</th>\n",
       "      <th>V9</th>\n",
       "      <th>...</th>\n",
       "      <th>V20</th>\n",
       "      <th>V21</th>\n",
       "      <th>V22</th>\n",
       "      <th>V23</th>\n",
       "      <th>V24</th>\n",
       "      <th>V25</th>\n",
       "      <th>V26</th>\n",
       "      <th>V27</th>\n",
       "      <th>V28</th>\n",
       "      <th>Amount</th>\n",
       "    </tr>\n",
       "  </thead>\n",
       "  <tbody>\n",
       "    <tr>\n",
       "      <th>0</th>\n",
       "      <td>-1.996583</td>\n",
       "      <td>-0.694242</td>\n",
       "      <td>-0.044075</td>\n",
       "      <td>1.672773</td>\n",
       "      <td>0.973366</td>\n",
       "      <td>-0.245117</td>\n",
       "      <td>0.347068</td>\n",
       "      <td>0.193679</td>\n",
       "      <td>0.082637</td>\n",
       "      <td>0.331128</td>\n",
       "      <td>...</td>\n",
       "      <td>0.326118</td>\n",
       "      <td>-0.024923</td>\n",
       "      <td>0.382854</td>\n",
       "      <td>-0.176911</td>\n",
       "      <td>0.110507</td>\n",
       "      <td>0.246585</td>\n",
       "      <td>-0.392170</td>\n",
       "      <td>0.330892</td>\n",
       "      <td>-0.063781</td>\n",
       "      <td>0.244964</td>\n",
       "    </tr>\n",
       "    <tr>\n",
       "      <th>1</th>\n",
       "      <td>-1.996583</td>\n",
       "      <td>0.608496</td>\n",
       "      <td>0.161176</td>\n",
       "      <td>0.109797</td>\n",
       "      <td>0.316523</td>\n",
       "      <td>0.043483</td>\n",
       "      <td>-0.061820</td>\n",
       "      <td>-0.063700</td>\n",
       "      <td>0.071253</td>\n",
       "      <td>-0.232494</td>\n",
       "      <td>...</td>\n",
       "      <td>-0.089611</td>\n",
       "      <td>-0.307377</td>\n",
       "      <td>-0.880077</td>\n",
       "      <td>0.162201</td>\n",
       "      <td>-0.561131</td>\n",
       "      <td>0.320694</td>\n",
       "      <td>0.261069</td>\n",
       "      <td>-0.022256</td>\n",
       "      <td>0.044608</td>\n",
       "      <td>-0.342475</td>\n",
       "    </tr>\n",
       "    <tr>\n",
       "      <th>2</th>\n",
       "      <td>-1.996562</td>\n",
       "      <td>-0.693500</td>\n",
       "      <td>-0.811578</td>\n",
       "      <td>1.169468</td>\n",
       "      <td>0.268231</td>\n",
       "      <td>-0.364572</td>\n",
       "      <td>1.351454</td>\n",
       "      <td>0.639776</td>\n",
       "      <td>0.207373</td>\n",
       "      <td>-1.378675</td>\n",
       "      <td>...</td>\n",
       "      <td>0.680975</td>\n",
       "      <td>0.337632</td>\n",
       "      <td>1.063358</td>\n",
       "      <td>1.456320</td>\n",
       "      <td>-1.138092</td>\n",
       "      <td>-0.628537</td>\n",
       "      <td>-0.288447</td>\n",
       "      <td>-0.137137</td>\n",
       "      <td>-0.181021</td>\n",
       "      <td>1.160686</td>\n",
       "    </tr>\n",
       "    <tr>\n",
       "      <th>3</th>\n",
       "      <td>-1.996562</td>\n",
       "      <td>-0.493325</td>\n",
       "      <td>-0.112169</td>\n",
       "      <td>1.182516</td>\n",
       "      <td>-0.609727</td>\n",
       "      <td>-0.007469</td>\n",
       "      <td>0.936150</td>\n",
       "      <td>0.192071</td>\n",
       "      <td>0.316018</td>\n",
       "      <td>-1.262503</td>\n",
       "      <td>...</td>\n",
       "      <td>-0.269855</td>\n",
       "      <td>-0.147443</td>\n",
       "      <td>0.007267</td>\n",
       "      <td>-0.304777</td>\n",
       "      <td>-1.941027</td>\n",
       "      <td>1.241904</td>\n",
       "      <td>-0.460217</td>\n",
       "      <td>0.155396</td>\n",
       "      <td>0.186189</td>\n",
       "      <td>0.140534</td>\n",
       "    </tr>\n",
       "    <tr>\n",
       "      <th>4</th>\n",
       "      <td>-1.996541</td>\n",
       "      <td>-0.591330</td>\n",
       "      <td>0.531541</td>\n",
       "      <td>1.021412</td>\n",
       "      <td>0.284655</td>\n",
       "      <td>-0.295015</td>\n",
       "      <td>0.071999</td>\n",
       "      <td>0.479302</td>\n",
       "      <td>-0.226510</td>\n",
       "      <td>0.744326</td>\n",
       "      <td>...</td>\n",
       "      <td>0.529939</td>\n",
       "      <td>-0.012839</td>\n",
       "      <td>1.100011</td>\n",
       "      <td>-0.220123</td>\n",
       "      <td>0.233250</td>\n",
       "      <td>-0.395202</td>\n",
       "      <td>1.041611</td>\n",
       "      <td>0.543620</td>\n",
       "      <td>0.651816</td>\n",
       "      <td>-0.073403</td>\n",
       "    </tr>\n",
       "  </tbody>\n",
       "</table>\n",
       "<p>5 rows × 30 columns</p>\n",
       "</div>"
      ],
      "text/plain": [
       "       Time        V1        V2        V3        V4        V5        V6  \\\n",
       "0 -1.996583 -0.694242 -0.044075  1.672773  0.973366 -0.245117  0.347068   \n",
       "1 -1.996583  0.608496  0.161176  0.109797  0.316523  0.043483 -0.061820   \n",
       "2 -1.996562 -0.693500 -0.811578  1.169468  0.268231 -0.364572  1.351454   \n",
       "3 -1.996562 -0.493325 -0.112169  1.182516 -0.609727 -0.007469  0.936150   \n",
       "4 -1.996541 -0.591330  0.531541  1.021412  0.284655 -0.295015  0.071999   \n",
       "\n",
       "         V7        V8        V9  ...       V20       V21       V22       V23  \\\n",
       "0  0.193679  0.082637  0.331128  ...  0.326118 -0.024923  0.382854 -0.176911   \n",
       "1 -0.063700  0.071253 -0.232494  ... -0.089611 -0.307377 -0.880077  0.162201   \n",
       "2  0.639776  0.207373 -1.378675  ...  0.680975  0.337632  1.063358  1.456320   \n",
       "3  0.192071  0.316018 -1.262503  ... -0.269855 -0.147443  0.007267 -0.304777   \n",
       "4  0.479302 -0.226510  0.744326  ...  0.529939 -0.012839  1.100011 -0.220123   \n",
       "\n",
       "        V24       V25       V26       V27       V28    Amount  \n",
       "0  0.110507  0.246585 -0.392170  0.330892 -0.063781  0.244964  \n",
       "1 -0.561131  0.320694  0.261069 -0.022256  0.044608 -0.342475  \n",
       "2 -1.138092 -0.628537 -0.288447 -0.137137 -0.181021  1.160686  \n",
       "3 -1.941027  1.241904 -0.460217  0.155396  0.186189  0.140534  \n",
       "4  0.233250 -0.395202  1.041611  0.543620  0.651816 -0.073403  \n",
       "\n",
       "[5 rows x 30 columns]"
      ]
     },
     "execution_count": 55,
     "metadata": {},
     "output_type": "execute_result"
    }
   ],
   "source": [
    "names=X.columns\n",
    "scaled_df = preprocessing.scale(X)\n",
    "scaled_df = pd.DataFrame(scaled_df,columns=names)\n",
    "scaled_df.head(5)"
   ]
  },
  {
   "cell_type": "code",
   "execution_count": null,
   "metadata": {},
   "outputs": [],
   "source": []
  },
  {
   "cell_type": "code",
   "execution_count": 73,
   "metadata": {},
   "outputs": [
    {
     "data": {
      "text/plain": [
       "(284807, 30)"
      ]
     },
     "execution_count": 73,
     "metadata": {},
     "output_type": "execute_result"
    }
   ],
   "source": [
    "scaled_df.shape"
   ]
  },
  {
   "cell_type": "code",
   "execution_count": 74,
   "metadata": {},
   "outputs": [],
   "source": [
    "under = RandomUnderSampler(sampling_strategy=0.5)\n",
    "X_under, y_under = under.fit_resample(scaled_df, y)\n",
    "X_train, X_test, y_train, y_test = train_test_split(X_under, y_under)"
   ]
  },
  {
   "cell_type": "code",
   "execution_count": 75,
   "metadata": {},
   "outputs": [
    {
     "data": {
      "text/plain": [
       "Counter({0: 984, 1: 492})"
      ]
     },
     "execution_count": 75,
     "metadata": {},
     "output_type": "execute_result"
    }
   ],
   "source": [
    "Counter(y_under)"
   ]
  },
  {
   "cell_type": "code",
   "execution_count": 76,
   "metadata": {},
   "outputs": [
    {
     "data": {
      "text/plain": [
       "(1476, 30)"
      ]
     },
     "execution_count": 76,
     "metadata": {},
     "output_type": "execute_result"
    }
   ],
   "source": [
    "X_under.shape"
   ]
  },
  {
   "cell_type": "code",
   "execution_count": 77,
   "metadata": {},
   "outputs": [
    {
     "name": "stdout",
     "output_type": "stream",
     "text": [
      "0.9756679077666732\n"
     ]
    }
   ],
   "source": [
    "clf = LogisticRegression(solver = 'lbfgs')\n",
    "clf.fit(X_train, y_train)\n",
    "test_pred = clf.predict_proba(X_test)[:, 1]\n",
    "print(roc_auc_score(y_test, test_pred))"
   ]
  },
  {
   "cell_type": "code",
   "execution_count": null,
   "metadata": {},
   "outputs": [],
   "source": []
  },
  {
   "cell_type": "code",
   "execution_count": 78,
   "metadata": {},
   "outputs": [],
   "source": [
    "model = Sequential()\n",
    "model.add(Dense(X_train.shape[1], activation = 'relu', input_dim = X_train.shape[1]))\n",
    "model.add(BatchNormalization())\n",
    "\n",
    "model.add(Dense(64, activation = 'relu'))\n",
    "model.add(BatchNormalization())\n",
    "model.add(Dropout(0.5))\n",
    "\n",
    "model.add(Dense(64, activation = 'relu'))\n",
    "model.add(BatchNormalization())\n",
    "model.add(Dropout(0.5))\n",
    "\n",
    "model.add(Dense(64, activation = 'relu'))\n",
    "model.add(BatchNormalization())\n",
    "model.add(Dropout(0.5))\n",
    "\n",
    "model.add(Dense(1, activation = 'sigmoid'))"
   ]
  },
  {
   "cell_type": "code",
   "execution_count": 79,
   "metadata": {},
   "outputs": [],
   "source": [
    "optimizer = keras.optimizers.Adam(lr=0.0001)\n",
    "model.compile(optimizer = optimizer, loss = 'binary_crossentropy')"
   ]
  },
  {
   "cell_type": "code",
   "execution_count": 80,
   "metadata": {},
   "outputs": [],
   "source": [
    "early_stop = EarlyStopping(monitor='val_loss', mode='min', verbose=1, patience = 10)"
   ]
  },
  {
   "cell_type": "code",
   "execution_count": 81,
   "metadata": {
    "scrolled": true
   },
   "outputs": [
    {
     "name": "stdout",
     "output_type": "stream",
     "text": [
      "Epoch 1/200\n",
      "5/5 [==============================] - 2s 82ms/step - loss: 1.0621 - val_loss: 1.0231\n",
      "Epoch 2/200\n",
      "5/5 [==============================] - 0s 17ms/step - loss: 0.9871 - val_loss: 0.9470\n",
      "Epoch 3/200\n",
      "5/5 [==============================] - 0s 17ms/step - loss: 0.9411 - val_loss: 0.8886\n",
      "Epoch 4/200\n",
      "5/5 [==============================] - 0s 20ms/step - loss: 0.9846 - val_loss: 0.8449\n",
      "Epoch 5/200\n",
      "5/5 [==============================] - 0s 20ms/step - loss: 0.9701 - val_loss: 0.8089\n",
      "Epoch 6/200\n",
      "5/5 [==============================] - 0s 19ms/step - loss: 0.9275 - val_loss: 0.7781\n",
      "Epoch 7/200\n",
      "5/5 [==============================] - 0s 19ms/step - loss: 0.9082 - val_loss: 0.7509\n",
      "Epoch 8/200\n",
      "5/5 [==============================] - 0s 18ms/step - loss: 0.8619 - val_loss: 0.7251\n",
      "Epoch 9/200\n",
      "5/5 [==============================] - 0s 17ms/step - loss: 0.8809 - val_loss: 0.7022\n",
      "Epoch 10/200\n",
      "5/5 [==============================] - 0s 20ms/step - loss: 0.8441 - val_loss: 0.6810\n",
      "Epoch 11/200\n",
      "5/5 [==============================] - 0s 19ms/step - loss: 0.8401 - val_loss: 0.6606\n",
      "Epoch 12/200\n",
      "5/5 [==============================] - 0s 14ms/step - loss: 0.8592 - val_loss: 0.6425\n",
      "Epoch 13/200\n",
      "5/5 [==============================] - 0s 16ms/step - loss: 0.7983 - val_loss: 0.6232\n",
      "Epoch 14/200\n",
      "5/5 [==============================] - 0s 17ms/step - loss: 0.7318 - val_loss: 0.6067\n",
      "Epoch 15/200\n",
      "5/5 [==============================] - 0s 18ms/step - loss: 0.7704 - val_loss: 0.5899\n",
      "Epoch 16/200\n",
      "5/5 [==============================] - 0s 14ms/step - loss: 0.6992 - val_loss: 0.5724\n",
      "Epoch 17/200\n",
      "5/5 [==============================] - 0s 16ms/step - loss: 0.7289 - val_loss: 0.5562\n",
      "Epoch 18/200\n",
      "5/5 [==============================] - 0s 17ms/step - loss: 0.6996 - val_loss: 0.5399\n",
      "Epoch 19/200\n",
      "5/5 [==============================] - 0s 18ms/step - loss: 0.7261 - val_loss: 0.5248\n",
      "Epoch 20/200\n",
      "5/5 [==============================] - 0s 18ms/step - loss: 0.7677 - val_loss: 0.5097\n",
      "Epoch 21/200\n",
      "5/5 [==============================] - 0s 17ms/step - loss: 0.6502 - val_loss: 0.4954\n",
      "Epoch 22/200\n",
      "5/5 [==============================] - 0s 15ms/step - loss: 0.6842 - val_loss: 0.4813\n",
      "Epoch 23/200\n",
      "5/5 [==============================] - 0s 15ms/step - loss: 0.6906 - val_loss: 0.4683\n",
      "Epoch 24/200\n",
      "5/5 [==============================] - 0s 16ms/step - loss: 0.6519 - val_loss: 0.4562\n",
      "Epoch 25/200\n",
      "5/5 [==============================] - 0s 15ms/step - loss: 0.6168 - val_loss: 0.4440\n",
      "Epoch 26/200\n",
      "5/5 [==============================] - 0s 19ms/step - loss: 0.6509 - val_loss: 0.4331\n",
      "Epoch 27/200\n",
      "5/5 [==============================] - 0s 20ms/step - loss: 0.5967 - val_loss: 0.4223\n",
      "Epoch 28/200\n",
      "5/5 [==============================] - 0s 19ms/step - loss: 0.6016 - val_loss: 0.4122\n",
      "Epoch 29/200\n",
      "5/5 [==============================] - 0s 18ms/step - loss: 0.6145 - val_loss: 0.4015\n",
      "Epoch 30/200\n",
      "5/5 [==============================] - 0s 19ms/step - loss: 0.6002 - val_loss: 0.3915\n",
      "Epoch 31/200\n",
      "5/5 [==============================] - 0s 19ms/step - loss: 0.5736 - val_loss: 0.3816\n",
      "Epoch 32/200\n",
      "5/5 [==============================] - 0s 19ms/step - loss: 0.5652 - val_loss: 0.3727\n",
      "Epoch 33/200\n",
      "5/5 [==============================] - 0s 18ms/step - loss: 0.5910 - val_loss: 0.3641\n",
      "Epoch 34/200\n",
      "5/5 [==============================] - 0s 19ms/step - loss: 0.5832 - val_loss: 0.3552\n",
      "Epoch 35/200\n",
      "5/5 [==============================] - 0s 19ms/step - loss: 0.5523 - val_loss: 0.3468\n",
      "Epoch 36/200\n",
      "5/5 [==============================] - 0s 19ms/step - loss: 0.5289 - val_loss: 0.3391\n",
      "Epoch 37/200\n",
      "5/5 [==============================] - 0s 19ms/step - loss: 0.5328 - val_loss: 0.3313\n",
      "Epoch 38/200\n",
      "5/5 [==============================] - 0s 18ms/step - loss: 0.5138 - val_loss: 0.3246\n",
      "Epoch 39/200\n",
      "5/5 [==============================] - 0s 21ms/step - loss: 0.5155 - val_loss: 0.3178\n",
      "Epoch 40/200\n",
      "5/5 [==============================] - 0s 20ms/step - loss: 0.5317 - val_loss: 0.3114\n",
      "Epoch 41/200\n",
      "5/5 [==============================] - 0s 21ms/step - loss: 0.5144 - val_loss: 0.3057\n",
      "Epoch 42/200\n",
      "5/5 [==============================] - 0s 18ms/step - loss: 0.5078 - val_loss: 0.3002\n",
      "Epoch 43/200\n",
      "5/5 [==============================] - 0s 19ms/step - loss: 0.5041 - val_loss: 0.2946\n",
      "Epoch 44/200\n",
      "5/5 [==============================] - 0s 17ms/step - loss: 0.4896 - val_loss: 0.2896\n",
      "Epoch 45/200\n",
      "5/5 [==============================] - 0s 17ms/step - loss: 0.5014 - val_loss: 0.2850\n",
      "Epoch 46/200\n",
      "5/5 [==============================] - 0s 22ms/step - loss: 0.4475 - val_loss: 0.2808\n",
      "Epoch 47/200\n",
      "5/5 [==============================] - 0s 24ms/step - loss: 0.4854 - val_loss: 0.2765\n",
      "Epoch 48/200\n",
      "5/5 [==============================] - 0s 24ms/step - loss: 0.4921 - val_loss: 0.2722\n",
      "Epoch 49/200\n",
      "5/5 [==============================] - 0s 20ms/step - loss: 0.4532 - val_loss: 0.2682\n",
      "Epoch 50/200\n",
      "5/5 [==============================] - 0s 21ms/step - loss: 0.4744 - val_loss: 0.2641\n",
      "Epoch 51/200\n",
      "5/5 [==============================] - 0s 23ms/step - loss: 0.4643 - val_loss: 0.2603\n",
      "Epoch 52/200\n",
      "5/5 [==============================] - 0s 23ms/step - loss: 0.4613 - val_loss: 0.2565\n",
      "Epoch 53/200\n",
      "5/5 [==============================] - 0s 25ms/step - loss: 0.4166 - val_loss: 0.2532\n",
      "Epoch 54/200\n",
      "5/5 [==============================] - 0s 22ms/step - loss: 0.4557 - val_loss: 0.2503\n",
      "Epoch 55/200\n",
      "5/5 [==============================] - 0s 23ms/step - loss: 0.4277 - val_loss: 0.2473\n",
      "Epoch 56/200\n",
      "5/5 [==============================] - 0s 22ms/step - loss: 0.4812 - val_loss: 0.2445\n",
      "Epoch 57/200\n",
      "5/5 [==============================] - 0s 24ms/step - loss: 0.4904 - val_loss: 0.2418\n",
      "Epoch 58/200\n",
      "5/5 [==============================] - 0s 21ms/step - loss: 0.3994 - val_loss: 0.2389\n",
      "Epoch 59/200\n",
      "5/5 [==============================] - 0s 21ms/step - loss: 0.4254 - val_loss: 0.2363\n",
      "Epoch 60/200\n",
      "5/5 [==============================] - 0s 22ms/step - loss: 0.4135 - val_loss: 0.2334\n",
      "Epoch 61/200\n",
      "5/5 [==============================] - 0s 21ms/step - loss: 0.4264 - val_loss: 0.2312\n",
      "Epoch 62/200\n",
      "5/5 [==============================] - 0s 17ms/step - loss: 0.3909 - val_loss: 0.2290\n",
      "Epoch 63/200\n",
      "5/5 [==============================] - 0s 17ms/step - loss: 0.3857 - val_loss: 0.2267\n",
      "Epoch 64/200\n",
      "5/5 [==============================] - 0s 17ms/step - loss: 0.3856 - val_loss: 0.2245\n",
      "Epoch 65/200\n",
      "5/5 [==============================] - 0s 17ms/step - loss: 0.3885 - val_loss: 0.2224\n",
      "Epoch 66/200\n",
      "5/5 [==============================] - 0s 14ms/step - loss: 0.4084 - val_loss: 0.2203\n",
      "Epoch 67/200\n",
      "5/5 [==============================] - 0s 16ms/step - loss: 0.3710 - val_loss: 0.2185\n",
      "Epoch 68/200\n",
      "5/5 [==============================] - 0s 18ms/step - loss: 0.3552 - val_loss: 0.2167\n",
      "Epoch 69/200\n",
      "5/5 [==============================] - 0s 18ms/step - loss: 0.3647 - val_loss: 0.2149\n",
      "Epoch 70/200\n",
      "5/5 [==============================] - 0s 17ms/step - loss: 0.3681 - val_loss: 0.2133\n",
      "Epoch 71/200\n",
      "5/5 [==============================] - 0s 18ms/step - loss: 0.3523 - val_loss: 0.2115\n",
      "Epoch 72/200\n",
      "5/5 [==============================] - 0s 17ms/step - loss: 0.3800 - val_loss: 0.2100\n",
      "Epoch 73/200\n",
      "5/5 [==============================] - 0s 18ms/step - loss: 0.3442 - val_loss: 0.2085\n",
      "Epoch 74/200\n",
      "5/5 [==============================] - 0s 17ms/step - loss: 0.3611 - val_loss: 0.2069\n",
      "Epoch 75/200\n",
      "5/5 [==============================] - 0s 18ms/step - loss: 0.3691 - val_loss: 0.2056\n",
      "Epoch 76/200\n",
      "5/5 [==============================] - 0s 18ms/step - loss: 0.3502 - val_loss: 0.2043\n",
      "Epoch 77/200\n",
      "5/5 [==============================] - 0s 19ms/step - loss: 0.3715 - val_loss: 0.2032\n",
      "Epoch 78/200\n",
      "5/5 [==============================] - 0s 27ms/step - loss: 0.3440 - val_loss: 0.2019\n",
      "Epoch 79/200\n",
      "5/5 [==============================] - 0s 20ms/step - loss: 0.3787 - val_loss: 0.2006\n",
      "Epoch 80/200\n",
      "5/5 [==============================] - 0s 17ms/step - loss: 0.3576 - val_loss: 0.1994\n",
      "Epoch 81/200\n",
      "5/5 [==============================] - 0s 18ms/step - loss: 0.3641 - val_loss: 0.1983\n",
      "Epoch 82/200\n",
      "5/5 [==============================] - 0s 22ms/step - loss: 0.3395 - val_loss: 0.1973\n",
      "Epoch 83/200\n",
      "5/5 [==============================] - 0s 23ms/step - loss: 0.3251 - val_loss: 0.1963\n"
     ]
    },
    {
     "name": "stdout",
     "output_type": "stream",
     "text": [
      "Epoch 84/200\n",
      "5/5 [==============================] - 0s 23ms/step - loss: 0.3313 - val_loss: 0.1952\n",
      "Epoch 85/200\n",
      "5/5 [==============================] - 0s 22ms/step - loss: 0.3158 - val_loss: 0.1943\n",
      "Epoch 86/200\n",
      "5/5 [==============================] - 0s 23ms/step - loss: 0.3038 - val_loss: 0.1933\n",
      "Epoch 87/200\n",
      "5/5 [==============================] - 0s 23ms/step - loss: 0.3510 - val_loss: 0.1925\n",
      "Epoch 88/200\n",
      "5/5 [==============================] - 0s 28ms/step - loss: 0.2942 - val_loss: 0.1916\n",
      "Epoch 89/200\n",
      "5/5 [==============================] - 0s 22ms/step - loss: 0.2850 - val_loss: 0.1907\n",
      "Epoch 90/200\n",
      "5/5 [==============================] - 0s 22ms/step - loss: 0.3413 - val_loss: 0.1897\n",
      "Epoch 91/200\n",
      "5/5 [==============================] - 0s 21ms/step - loss: 0.3230 - val_loss: 0.1887\n",
      "Epoch 92/200\n",
      "5/5 [==============================] - 0s 21ms/step - loss: 0.3076 - val_loss: 0.1879\n",
      "Epoch 93/200\n",
      "5/5 [==============================] - 0s 22ms/step - loss: 0.3036 - val_loss: 0.1872\n",
      "Epoch 94/200\n",
      "5/5 [==============================] - 0s 21ms/step - loss: 0.3061 - val_loss: 0.1864\n",
      "Epoch 95/200\n",
      "5/5 [==============================] - 0s 21ms/step - loss: 0.3218 - val_loss: 0.1856\n",
      "Epoch 96/200\n",
      "5/5 [==============================] - 0s 19ms/step - loss: 0.3159 - val_loss: 0.1848\n",
      "Epoch 97/200\n",
      "5/5 [==============================] - 0s 18ms/step - loss: 0.3220 - val_loss: 0.1841\n",
      "Epoch 98/200\n",
      "5/5 [==============================] - 0s 15ms/step - loss: 0.3192 - val_loss: 0.1833\n",
      "Epoch 99/200\n",
      "5/5 [==============================] - 0s 15ms/step - loss: 0.2951 - val_loss: 0.1826\n",
      "Epoch 100/200\n",
      "5/5 [==============================] - 0s 16ms/step - loss: 0.2947 - val_loss: 0.1821\n",
      "Epoch 101/200\n",
      "5/5 [==============================] - 0s 17ms/step - loss: 0.3041 - val_loss: 0.1815\n",
      "Epoch 102/200\n",
      "5/5 [==============================] - 0s 14ms/step - loss: 0.3031 - val_loss: 0.1809\n",
      "Epoch 103/200\n",
      "5/5 [==============================] - 0s 15ms/step - loss: 0.2668 - val_loss: 0.1803\n",
      "Epoch 104/200\n",
      "5/5 [==============================] - 0s 16ms/step - loss: 0.2955 - val_loss: 0.1797\n",
      "Epoch 105/200\n",
      "5/5 [==============================] - 0s 17ms/step - loss: 0.2794 - val_loss: 0.1790\n",
      "Epoch 106/200\n",
      "5/5 [==============================] - 0s 18ms/step - loss: 0.2931 - val_loss: 0.1783\n",
      "Epoch 107/200\n",
      "5/5 [==============================] - 0s 14ms/step - loss: 0.2667 - val_loss: 0.1776\n",
      "Epoch 108/200\n",
      "5/5 [==============================] - 0s 16ms/step - loss: 0.3121 - val_loss: 0.1770\n",
      "Epoch 109/200\n",
      "5/5 [==============================] - 0s 20ms/step - loss: 0.2815 - val_loss: 0.1763\n",
      "Epoch 110/200\n",
      "5/5 [==============================] - 0s 19ms/step - loss: 0.2891 - val_loss: 0.1758\n",
      "Epoch 111/200\n",
      "5/5 [==============================] - 0s 15ms/step - loss: 0.2668 - val_loss: 0.1752\n",
      "Epoch 112/200\n",
      "5/5 [==============================] - 0s 17ms/step - loss: 0.2900 - val_loss: 0.1746\n",
      "Epoch 113/200\n",
      "5/5 [==============================] - 0s 17ms/step - loss: 0.2665 - val_loss: 0.1741\n",
      "Epoch 114/200\n",
      "5/5 [==============================] - 0s 14ms/step - loss: 0.2794 - val_loss: 0.1736\n",
      "Epoch 115/200\n",
      "5/5 [==============================] - 0s 22ms/step - loss: 0.2684 - val_loss: 0.1732\n",
      "Epoch 116/200\n",
      "5/5 [==============================] - 0s 22ms/step - loss: 0.3002 - val_loss: 0.1727\n",
      "Epoch 117/200\n",
      "5/5 [==============================] - 0s 35ms/step - loss: 0.2509 - val_loss: 0.1722\n",
      "Epoch 118/200\n",
      "5/5 [==============================] - 0s 34ms/step - loss: 0.2599 - val_loss: 0.1718\n",
      "Epoch 119/200\n",
      "5/5 [==============================] - 0s 28ms/step - loss: 0.2447 - val_loss: 0.1713\n",
      "Epoch 120/200\n",
      "5/5 [==============================] - 0s 22ms/step - loss: 0.2826 - val_loss: 0.1708\n",
      "Epoch 121/200\n",
      "5/5 [==============================] - 0s 23ms/step - loss: 0.2594 - val_loss: 0.1702\n",
      "Epoch 122/200\n",
      "5/5 [==============================] - 0s 24ms/step - loss: 0.2794 - val_loss: 0.1698\n",
      "Epoch 123/200\n",
      "5/5 [==============================] - 0s 23ms/step - loss: 0.2561 - val_loss: 0.1694\n",
      "Epoch 124/200\n",
      "5/5 [==============================] - 0s 24ms/step - loss: 0.2457 - val_loss: 0.1691\n",
      "Epoch 125/200\n",
      "5/5 [==============================] - 0s 23ms/step - loss: 0.2875 - val_loss: 0.1686\n",
      "Epoch 126/200\n",
      "5/5 [==============================] - 0s 23ms/step - loss: 0.2747 - val_loss: 0.1682\n",
      "Epoch 127/200\n",
      "5/5 [==============================] - 0s 23ms/step - loss: 0.2515 - val_loss: 0.1678\n",
      "Epoch 128/200\n",
      "5/5 [==============================] - 0s 24ms/step - loss: 0.2752 - val_loss: 0.1672\n",
      "Epoch 129/200\n",
      "5/5 [==============================] - 0s 23ms/step - loss: 0.2599 - val_loss: 0.1669\n",
      "Epoch 130/200\n",
      "5/5 [==============================] - 0s 22ms/step - loss: 0.2438 - val_loss: 0.1665\n",
      "Epoch 131/200\n",
      "5/5 [==============================] - 0s 22ms/step - loss: 0.2530 - val_loss: 0.1662\n",
      "Epoch 132/200\n",
      "5/5 [==============================] - 0s 22ms/step - loss: 0.2455 - val_loss: 0.1659\n",
      "Epoch 133/200\n",
      "5/5 [==============================] - 0s 22ms/step - loss: 0.2692 - val_loss: 0.1655\n",
      "Epoch 134/200\n",
      "5/5 [==============================] - 0s 22ms/step - loss: 0.2472 - val_loss: 0.1650\n",
      "Epoch 135/200\n",
      "5/5 [==============================] - 0s 21ms/step - loss: 0.2476 - val_loss: 0.1648\n",
      "Epoch 136/200\n",
      "5/5 [==============================] - 0s 18ms/step - loss: 0.2594 - val_loss: 0.1646\n",
      "Epoch 137/200\n",
      "5/5 [==============================] - 0s 18ms/step - loss: 0.2350 - val_loss: 0.1643\n",
      "Epoch 138/200\n",
      "5/5 [==============================] - 0s 15ms/step - loss: 0.2480 - val_loss: 0.1640\n",
      "Epoch 139/200\n",
      "5/5 [==============================] - 0s 19ms/step - loss: 0.2559 - val_loss: 0.1638\n",
      "Epoch 140/200\n",
      "5/5 [==============================] - 0s 16ms/step - loss: 0.2216 - val_loss: 0.1635\n",
      "Epoch 141/200\n",
      "5/5 [==============================] - 0s 16ms/step - loss: 0.2443 - val_loss: 0.1633\n",
      "Epoch 142/200\n",
      "5/5 [==============================] - 0s 18ms/step - loss: 0.2646 - val_loss: 0.1632\n",
      "Epoch 143/200\n",
      "5/5 [==============================] - 0s 19ms/step - loss: 0.2478 - val_loss: 0.1629\n",
      "Epoch 144/200\n",
      "5/5 [==============================] - 0s 18ms/step - loss: 0.2478 - val_loss: 0.1626\n",
      "Epoch 145/200\n",
      "5/5 [==============================] - 0s 17ms/step - loss: 0.2297 - val_loss: 0.1622\n",
      "Epoch 146/200\n",
      "5/5 [==============================] - 0s 17ms/step - loss: 0.2513 - val_loss: 0.1619\n",
      "Epoch 147/200\n",
      "5/5 [==============================] - 0s 19ms/step - loss: 0.2193 - val_loss: 0.1617\n",
      "Epoch 148/200\n",
      "5/5 [==============================] - 0s 18ms/step - loss: 0.2383 - val_loss: 0.1615\n",
      "Epoch 149/200\n",
      "5/5 [==============================] - 0s 18ms/step - loss: 0.2544 - val_loss: 0.1611\n",
      "Epoch 150/200\n",
      "5/5 [==============================] - 0s 19ms/step - loss: 0.2272 - val_loss: 0.1609\n",
      "Epoch 151/200\n",
      "5/5 [==============================] - 0s 23ms/step - loss: 0.2595 - val_loss: 0.1607\n",
      "Epoch 152/200\n",
      "5/5 [==============================] - 0s 26ms/step - loss: 0.2463 - val_loss: 0.1605\n",
      "Epoch 153/200\n",
      "5/5 [==============================] - 0s 19ms/step - loss: 0.2347 - val_loss: 0.1603\n",
      "Epoch 154/200\n",
      "5/5 [==============================] - 0s 16ms/step - loss: 0.2318 - val_loss: 0.1601\n",
      "Epoch 155/200\n",
      "5/5 [==============================] - 0s 16ms/step - loss: 0.2457 - val_loss: 0.1599\n",
      "Epoch 156/200\n",
      "5/5 [==============================] - 0s 16ms/step - loss: 0.2214 - val_loss: 0.1598\n",
      "Epoch 157/200\n",
      "5/5 [==============================] - 0s 17ms/step - loss: 0.2064 - val_loss: 0.1598\n",
      "Epoch 158/200\n",
      "5/5 [==============================] - 0s 17ms/step - loss: 0.2222 - val_loss: 0.1597\n",
      "Epoch 159/200\n",
      "5/5 [==============================] - 0s 21ms/step - loss: 0.2298 - val_loss: 0.1596\n",
      "Epoch 160/200\n",
      "5/5 [==============================] - 0s 19ms/step - loss: 0.2371 - val_loss: 0.1595\n",
      "Epoch 161/200\n",
      "5/5 [==============================] - 0s 24ms/step - loss: 0.2182 - val_loss: 0.1592\n",
      "Epoch 162/200\n",
      "5/5 [==============================] - 0s 22ms/step - loss: 0.2577 - val_loss: 0.1591\n",
      "Epoch 163/200\n",
      "5/5 [==============================] - 0s 19ms/step - loss: 0.2607 - val_loss: 0.1588\n",
      "Epoch 164/200\n",
      "5/5 [==============================] - 0s 18ms/step - loss: 0.2186 - val_loss: 0.1587\n",
      "Epoch 165/200\n",
      "5/5 [==============================] - 0s 16ms/step - loss: 0.1921 - val_loss: 0.1584\n",
      "Epoch 166/200\n"
     ]
    },
    {
     "name": "stdout",
     "output_type": "stream",
     "text": [
      "5/5 [==============================] - 0s 16ms/step - loss: 0.2257 - val_loss: 0.1583\n",
      "Epoch 167/200\n",
      "5/5 [==============================] - 0s 20ms/step - loss: 0.2103 - val_loss: 0.1582\n",
      "Epoch 168/200\n",
      "5/5 [==============================] - 0s 21ms/step - loss: 0.2113 - val_loss: 0.1581\n",
      "Epoch 169/200\n",
      "5/5 [==============================] - 0s 19ms/step - loss: 0.2260 - val_loss: 0.1580\n",
      "Epoch 170/200\n",
      "5/5 [==============================] - 0s 15ms/step - loss: 0.2260 - val_loss: 0.1578\n",
      "Epoch 171/200\n",
      "5/5 [==============================] - 0s 23ms/step - loss: 0.2034 - val_loss: 0.1576\n",
      "Epoch 172/200\n",
      "5/5 [==============================] - 0s 20ms/step - loss: 0.1972 - val_loss: 0.1574\n",
      "Epoch 173/200\n",
      "5/5 [==============================] - 0s 17ms/step - loss: 0.1902 - val_loss: 0.1573\n",
      "Epoch 174/200\n",
      "5/5 [==============================] - 0s 18ms/step - loss: 0.2217 - val_loss: 0.1574\n",
      "Epoch 175/200\n",
      "5/5 [==============================] - 0s 14ms/step - loss: 0.2297 - val_loss: 0.1572\n",
      "Epoch 176/200\n",
      "5/5 [==============================] - 0s 16ms/step - loss: 0.2133 - val_loss: 0.1570\n",
      "Epoch 177/200\n",
      "5/5 [==============================] - 0s 16ms/step - loss: 0.2289 - val_loss: 0.1570\n",
      "Epoch 178/200\n",
      "5/5 [==============================] - 0s 17ms/step - loss: 0.1993 - val_loss: 0.1569\n",
      "Epoch 179/200\n",
      "5/5 [==============================] - 0s 17ms/step - loss: 0.2264 - val_loss: 0.1568\n",
      "Epoch 180/200\n",
      "5/5 [==============================] - 0s 17ms/step - loss: 0.1987 - val_loss: 0.1566\n",
      "Epoch 181/200\n",
      "5/5 [==============================] - 0s 16ms/step - loss: 0.2096 - val_loss: 0.1567\n",
      "Epoch 182/200\n",
      "5/5 [==============================] - 0s 17ms/step - loss: 0.2198 - val_loss: 0.1567\n",
      "Epoch 183/200\n",
      "5/5 [==============================] - 0s 20ms/step - loss: 0.2062 - val_loss: 0.1567\n",
      "Epoch 184/200\n",
      "5/5 [==============================] - 0s 17ms/step - loss: 0.2127 - val_loss: 0.1565\n",
      "Epoch 185/200\n",
      "5/5 [==============================] - 0s 17ms/step - loss: 0.2229 - val_loss: 0.1566\n",
      "Epoch 186/200\n",
      "5/5 [==============================] - 0s 17ms/step - loss: 0.2382 - val_loss: 0.1566\n",
      "Epoch 187/200\n",
      "5/5 [==============================] - 0s 17ms/step - loss: 0.1923 - val_loss: 0.1565\n",
      "Epoch 188/200\n",
      "5/5 [==============================] - 0s 18ms/step - loss: 0.2167 - val_loss: 0.1563\n",
      "Epoch 189/200\n",
      "5/5 [==============================] - 0s 20ms/step - loss: 0.2238 - val_loss: 0.1563\n",
      "Epoch 190/200\n",
      "5/5 [==============================] - 0s 22ms/step - loss: 0.1970 - val_loss: 0.1563\n",
      "Epoch 191/200\n",
      "5/5 [==============================] - 0s 23ms/step - loss: 0.2105 - val_loss: 0.1563\n",
      "Epoch 192/200\n",
      "5/5 [==============================] - 0s 23ms/step - loss: 0.2202 - val_loss: 0.1563\n",
      "Epoch 193/200\n",
      "5/5 [==============================] - 0s 22ms/step - loss: 0.1965 - val_loss: 0.1563\n",
      "Epoch 194/200\n",
      "5/5 [==============================] - 0s 22ms/step - loss: 0.2265 - val_loss: 0.1561\n",
      "Epoch 195/200\n",
      "5/5 [==============================] - 0s 22ms/step - loss: 0.2034 - val_loss: 0.1561\n",
      "Epoch 196/200\n",
      "5/5 [==============================] - 0s 24ms/step - loss: 0.2062 - val_loss: 0.1561\n",
      "Epoch 197/200\n",
      "5/5 [==============================] - 0s 23ms/step - loss: 0.2060 - val_loss: 0.1562\n",
      "Epoch 198/200\n",
      "5/5 [==============================] - 0s 28ms/step - loss: 0.1964 - val_loss: 0.1561\n",
      "Epoch 199/200\n",
      "5/5 [==============================] - 0s 28ms/step - loss: 0.1967 - val_loss: 0.1561\n",
      "Epoch 200/200\n",
      "5/5 [==============================] - 0s 23ms/step - loss: 0.2012 - val_loss: 0.1560\n"
     ]
    }
   ],
   "source": [
    "history = model.fit(x=X_train, y=y_train, batch_size = 256, epochs=200,\n",
    "          validation_data=(X_test, y_test), verbose=1,\n",
    "          callbacks=[early_stop])"
   ]
  },
  {
   "cell_type": "code",
   "execution_count": 82,
   "metadata": {},
   "outputs": [
    {
     "data": {
      "text/plain": [
       "Text(0.5, 1.0, 'Loss for both Training and Validation')"
      ]
     },
     "execution_count": 82,
     "metadata": {},
     "output_type": "execute_result"
    },
    {
     "data": {
      "image/png": "[encoded data removed]",
      "text/plain": [
       "<Figure size 720x360 with 1 Axes>"
      ]
     },
     "metadata": {
      "needs_background": "light"
     },
     "output_type": "display_data"
    }
   ],
   "source": [
    "evaluation_metrics=pd.DataFrame(model.history.history)\n",
    "evaluation_metrics.plot(figsize=(10,5))\n",
    "plt.title(\"Loss for both Training and Validation\", size = 20)"
   ]
  },
  {
   "cell_type": "code",
   "execution_count": 83,
   "metadata": {},
   "outputs": [
    {
     "name": "stdout",
     "output_type": "stream",
     "text": [
      "0.9772682735645699\n"
     ]
    }
   ],
   "source": [
    "test_pred = model.predict(X_test)\n",
    "print(roc_auc_score(y_test, test_pred))"
   ]
  },
  {
   "cell_type": "code",
   "execution_count": 67,
   "metadata": {},
   "outputs": [
    {
     "data": {
      "text/plain": [
       "Text(0.5, 1.0, 'Loss for both Training and Validation')"
      ]
     },
     "execution_count": 67,
     "metadata": {},
     "output_type": "execute_result"
    },
    {
     "data": {
      "image/png": "[encoded data removed]",
      "text/plain": [
       "<Figure size 720x360 with 1 Axes>"
      ]
     },
     "metadata": {
      "needs_background": "light"
     },
     "output_type": "display_data"
    }
   ],
   "source": [
    "evaluation_metrics=pd.DataFrame(model.history.history)\n",
    "evaluation_metrics.plot(figsize=(10,5))\n",
    "plt.title(\"Loss for both Training and Validation\", size = 20)"
   ]
  },
  {
   "cell_type": "code",
   "execution_count": 69,
   "metadata": {},
   "outputs": [
    {
     "name": "stdout",
     "output_type": "stream",
     "text": [
      "0.9772245762711864\n"
     ]
    }
   ],
   "source": [
    "test_pred = model.predict(X_test)\n",
    "print(roc_auc_score(y_test, test_pred))"
   ]
  },
  {
   "cell_type": "code",
   "execution_count": 70,
   "metadata": {},
   "outputs": [
    {
     "name": "stdout",
     "output_type": "stream",
     "text": [
      "0.9772245762711864\n"
     ]
    }
   ],
   "source": [
    "test_pred = model.predict(X_test)\n",
    "print(roc_auc_score(y_test, test_pred))"
   ]
  },
  {
   "cell_type": "code",
   "execution_count": 89,
   "metadata": {},
   "outputs": [
    {
     "name": "stderr",
     "output_type": "stream",
     "text": [
      "C:\\Users\\egadi\\anaconda3\\lib\\site-packages\\tensorflow\\python\\keras\\engine\\sequential.py:450: UserWarning: `model.predict_classes()` is deprecated and will be removed after 2021-01-01. Please use instead:* `np.argmax(model.predict(x), axis=-1)`,   if your model does multi-class classification   (e.g. if it uses a `softmax` last-layer activation).* `(model.predict(x) > 0.5).astype(\"int32\")`,   if your model does binary classification   (e.g. if it uses a `sigmoid` last-layer activation).\n",
      "  warnings.warn('`model.predict_classes()` is deprecated and '\n"
     ]
    }
   ],
   "source": [
    "y_pred = model.predict_classes(X_test)"
   ]
  },
  {
   "cell_type": "code",
   "execution_count": 90,
   "metadata": {},
   "outputs": [
    {
     "data": {
      "text/plain": [
       "array([[240,   3],\n",
       "       [ 18, 108]], dtype=int64)"
      ]
     },
     "execution_count": 90,
     "metadata": {},
     "output_type": "execute_result"
    }
   ],
   "source": [
    "cm_nn=confusion_matrix(y_test, y_pred)\n",
    "cm_nn"
   ]
  },
  {
   "cell_type": "code",
   "execution_count": 91,
   "metadata": {},
   "outputs": [
    {
     "data": {
      "text/plain": [
       "Text(0.5, 1.0, 'Confusion Matrix Plotting for Neural Network model')"
      ]
     },
     "execution_count": 91,
     "metadata": {},
     "output_type": "execute_result"
    },
    {
     "data": {
      "image/png": "[encoded data removed]",
      "text/plain": [
       "<Figure size 576x432 with 1 Axes>"
      ]
     },
     "metadata": {
      "needs_background": "light"
     },
     "output_type": "display_data"
    }
   ],
   "source": [
    "plt.figure(figsize=(8,6))\n",
    "sns.set(font_scale=1.2)\n",
    "sns.heatmap(cm_nn, annot=True, fmt = 'g', cmap=\"winter\", cbar = False)\n",
    "plt.xlabel(\"Predicted Label\", size = 18)\n",
    "plt.ylabel(\"True Label\", size = 18)\n",
    "plt.title(\"Confusion Matrix Plotting for Neural Network model\", size = 20)"
   ]
  },
  {
   "cell_type": "code",
   "execution_count": null,
   "metadata": {},
   "outputs": [],
   "source": []
  },
  {
   "cell_type": "code",
   "execution_count": null,
   "metadata": {},
   "outputs": [],
   "source": []
  },
  {
   "cell_type": "code",
   "execution_count": null,
   "metadata": {},
   "outputs": [],
   "source": []
  },
  {
   "cell_type": "code",
   "execution_count": null,
   "metadata": {},
   "outputs": [],
   "source": []
  },
  {
   "cell_type": "code",
   "execution_count": null,
   "metadata": {},
   "outputs": [],
   "source": []
  }
 ],
 "metadata": {
  "kernelspec": {
   "display_name": "Python 3",
   "language": "python",
   "name": "python3"
  },
  "language_info": {
   "codemirror_mode": {
    "name": "ipython",
    "version": 3
   },
   "file_extension": ".py",
   "mimetype": "text/x-python",
   "name": "python",
   "nbconvert_exporter": "python",
   "pygments_lexer": "ipython3",
   "version": "3.8.5"
  }
 },
 "nbformat": 4,
 "nbformat_minor": 4
}
