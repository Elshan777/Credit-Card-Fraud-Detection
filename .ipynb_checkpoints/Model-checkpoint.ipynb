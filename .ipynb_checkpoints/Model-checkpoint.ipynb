{
 "cells": [
  {
   "cell_type": "markdown",
   "metadata": {},
   "source": [
    "# In this notebook I will present my models which used for predictions"
   ]
  },
  {
   "cell_type": "code",
   "execution_count": 1,
   "metadata": {},
   "outputs": [],
   "source": [
    "import pandas as pd\n",
    "import numpy as np\n",
    "import seaborn as sns\n",
    "import matplotlib.pyplot as plt\n",
    "import statsmodels.api as sm\n",
    "from collections import Counter\n",
    "from imblearn.under_sampling import RandomUnderSampler"
   ]
  },
  {
   "cell_type": "code",
   "execution_count": 2,
   "metadata": {},
   "outputs": [],
   "source": [
    "df = pd.read_csv('../creditcard.csv')"
   ]
  },
  {
   "cell_type": "code",
   "execution_count": 3,
   "metadata": {},
   "outputs": [],
   "source": [
    "X = df.iloc[:, :-1]\n",
    "y = df['Class']"
   ]
  },
  {
   "cell_type": "code",
   "execution_count": 4,
   "metadata": {},
   "outputs": [],
   "source": [
    "und = RandomUnderSampler()\n",
    "X_und, y_und = und.fit_resample(X, y)"
   ]
  },
  {
   "cell_type": "code",
   "execution_count": 5,
   "metadata": {},
   "outputs": [
    {
     "data": {
      "text/plain": [
       "Counter({0: 492, 1: 492})"
      ]
     },
     "execution_count": 5,
     "metadata": {},
     "output_type": "execute_result"
    }
   ],
   "source": [
    "Counter(y_und)"
   ]
  },
  {
   "cell_type": "code",
   "execution_count": 6,
   "metadata": {},
   "outputs": [
    {
     "data": {
      "text/html": [
       "<div>\n",
       "<style scoped>\n",
       "    .dataframe tbody tr th:only-of-type {\n",
       "        vertical-align: middle;\n",
       "    }\n",
       "\n",
       "    .dataframe tbody tr th {\n",
       "        vertical-align: top;\n",
       "    }\n",
       "\n",
       "    .dataframe thead th {\n",
       "        text-align: right;\n",
       "    }\n",
       "</style>\n",
       "<table border=\"1\" class=\"dataframe\">\n",
       "  <thead>\n",
       "    <tr style=\"text-align: right;\">\n",
       "      <th></th>\n",
       "      <th>Time</th>\n",
       "      <th>V1</th>\n",
       "      <th>V2</th>\n",
       "      <th>V3</th>\n",
       "      <th>V4</th>\n",
       "      <th>V5</th>\n",
       "      <th>V6</th>\n",
       "      <th>V7</th>\n",
       "      <th>V8</th>\n",
       "      <th>V9</th>\n",
       "      <th>...</th>\n",
       "      <th>V21</th>\n",
       "      <th>V22</th>\n",
       "      <th>V23</th>\n",
       "      <th>V24</th>\n",
       "      <th>V25</th>\n",
       "      <th>V26</th>\n",
       "      <th>V27</th>\n",
       "      <th>V28</th>\n",
       "      <th>Amount</th>\n",
       "      <th>Class</th>\n",
       "    </tr>\n",
       "  </thead>\n",
       "  <tbody>\n",
       "    <tr>\n",
       "      <th>0</th>\n",
       "      <td>43472.0</td>\n",
       "      <td>-2.703379</td>\n",
       "      <td>-2.765187</td>\n",
       "      <td>1.634296</td>\n",
       "      <td>-0.921596</td>\n",
       "      <td>2.548505</td>\n",
       "      <td>-3.138880</td>\n",
       "      <td>-1.394357</td>\n",
       "      <td>0.030538</td>\n",
       "      <td>-1.443436</td>\n",
       "      <td>...</td>\n",
       "      <td>-0.143472</td>\n",
       "      <td>-0.962849</td>\n",
       "      <td>0.347564</td>\n",
       "      <td>0.374059</td>\n",
       "      <td>0.456712</td>\n",
       "      <td>0.924996</td>\n",
       "      <td>-0.174454</td>\n",
       "      <td>0.102622</td>\n",
       "      <td>13.94</td>\n",
       "      <td>0</td>\n",
       "    </tr>\n",
       "    <tr>\n",
       "      <th>1</th>\n",
       "      <td>133456.0</td>\n",
       "      <td>2.128006</td>\n",
       "      <td>-1.815790</td>\n",
       "      <td>-0.232000</td>\n",
       "      <td>-1.739638</td>\n",
       "      <td>-1.561162</td>\n",
       "      <td>0.581367</td>\n",
       "      <td>-1.903957</td>\n",
       "      <td>0.244592</td>\n",
       "      <td>-0.915388</td>\n",
       "      <td>...</td>\n",
       "      <td>-0.043637</td>\n",
       "      <td>0.246593</td>\n",
       "      <td>0.268189</td>\n",
       "      <td>0.200817</td>\n",
       "      <td>-0.532771</td>\n",
       "      <td>-0.256869</td>\n",
       "      <td>0.052548</td>\n",
       "      <td>-0.027736</td>\n",
       "      <td>64.30</td>\n",
       "      <td>0</td>\n",
       "    </tr>\n",
       "    <tr>\n",
       "      <th>2</th>\n",
       "      <td>61869.0</td>\n",
       "      <td>-0.805320</td>\n",
       "      <td>-0.979016</td>\n",
       "      <td>2.281645</td>\n",
       "      <td>-1.474275</td>\n",
       "      <td>-0.873525</td>\n",
       "      <td>0.729081</td>\n",
       "      <td>-0.033706</td>\n",
       "      <td>0.185215</td>\n",
       "      <td>0.171499</td>\n",
       "      <td>...</td>\n",
       "      <td>0.287699</td>\n",
       "      <td>0.896826</td>\n",
       "      <td>-0.069809</td>\n",
       "      <td>-0.419164</td>\n",
       "      <td>0.306186</td>\n",
       "      <td>-0.117887</td>\n",
       "      <td>-0.093309</td>\n",
       "      <td>-0.124221</td>\n",
       "      <td>145.59</td>\n",
       "      <td>0</td>\n",
       "    </tr>\n",
       "    <tr>\n",
       "      <th>3</th>\n",
       "      <td>12443.0</td>\n",
       "      <td>1.105762</td>\n",
       "      <td>-0.616627</td>\n",
       "      <td>0.816607</td>\n",
       "      <td>0.339242</td>\n",
       "      <td>-0.900344</td>\n",
       "      <td>0.138514</td>\n",
       "      <td>-0.719458</td>\n",
       "      <td>0.063580</td>\n",
       "      <td>2.698915</td>\n",
       "      <td>...</td>\n",
       "      <td>-0.399295</td>\n",
       "      <td>-0.884769</td>\n",
       "      <td>-0.075285</td>\n",
       "      <td>-0.466664</td>\n",
       "      <td>0.157056</td>\n",
       "      <td>0.950496</td>\n",
       "      <td>-0.084727</td>\n",
       "      <td>0.012128</td>\n",
       "      <td>94.85</td>\n",
       "      <td>0</td>\n",
       "    </tr>\n",
       "    <tr>\n",
       "      <th>4</th>\n",
       "      <td>49506.0</td>\n",
       "      <td>-1.305315</td>\n",
       "      <td>-0.801638</td>\n",
       "      <td>2.517726</td>\n",
       "      <td>-0.561589</td>\n",
       "      <td>-1.311136</td>\n",
       "      <td>0.589640</td>\n",
       "      <td>0.660796</td>\n",
       "      <td>-0.744293</td>\n",
       "      <td>0.225922</td>\n",
       "      <td>...</td>\n",
       "      <td>-0.110095</td>\n",
       "      <td>0.694828</td>\n",
       "      <td>0.140696</td>\n",
       "      <td>0.437557</td>\n",
       "      <td>-0.223559</td>\n",
       "      <td>-0.281383</td>\n",
       "      <td>-0.974422</td>\n",
       "      <td>-0.238621</td>\n",
       "      <td>160.00</td>\n",
       "      <td>0</td>\n",
       "    </tr>\n",
       "  </tbody>\n",
       "</table>\n",
       "<p>5 rows × 31 columns</p>\n",
       "</div>"
      ],
      "text/plain": [
       "       Time        V1        V2        V3        V4        V5        V6  \\\n",
       "0   43472.0 -2.703379 -2.765187  1.634296 -0.921596  2.548505 -3.138880   \n",
       "1  133456.0  2.128006 -1.815790 -0.232000 -1.739638 -1.561162  0.581367   \n",
       "2   61869.0 -0.805320 -0.979016  2.281645 -1.474275 -0.873525  0.729081   \n",
       "3   12443.0  1.105762 -0.616627  0.816607  0.339242 -0.900344  0.138514   \n",
       "4   49506.0 -1.305315 -0.801638  2.517726 -0.561589 -1.311136  0.589640   \n",
       "\n",
       "         V7        V8        V9  ...       V21       V22       V23       V24  \\\n",
       "0 -1.394357  0.030538 -1.443436  ... -0.143472 -0.962849  0.347564  0.374059   \n",
       "1 -1.903957  0.244592 -0.915388  ... -0.043637  0.246593  0.268189  0.200817   \n",
       "2 -0.033706  0.185215  0.171499  ...  0.287699  0.896826 -0.069809 -0.419164   \n",
       "3 -0.719458  0.063580  2.698915  ... -0.399295 -0.884769 -0.075285 -0.466664   \n",
       "4  0.660796 -0.744293  0.225922  ... -0.110095  0.694828  0.140696  0.437557   \n",
       "\n",
       "        V25       V26       V27       V28  Amount  Class  \n",
       "0  0.456712  0.924996 -0.174454  0.102622   13.94      0  \n",
       "1 -0.532771 -0.256869  0.052548 -0.027736   64.30      0  \n",
       "2  0.306186 -0.117887 -0.093309 -0.124221  145.59      0  \n",
       "3  0.157056  0.950496 -0.084727  0.012128   94.85      0  \n",
       "4 -0.223559 -0.281383 -0.974422 -0.238621  160.00      0  \n",
       "\n",
       "[5 rows x 31 columns]"
      ]
     },
     "execution_count": 6,
     "metadata": {},
     "output_type": "execute_result"
    }
   ],
   "source": [
    "# Lets concat undersampled X and y\n",
    "df_und = pd.concat([X_und, y_und], axis=1)\n",
    "df_und.head()"
   ]
  },
  {
   "cell_type": "markdown",
   "metadata": {},
   "source": [
    "## Lets build our first Pipeline"
   ]
  },
  {
   "cell_type": "code",
   "execution_count": 8,
   "metadata": {},
   "outputs": [],
   "source": [
    "from sklearn.tree import DecisionTreeClassifier\n",
    "from sklearn.ensemble import GradientBoostingClassifier\n",
    "from catboost import CatBoostClassifier\n",
    "from sklearn.ensemble import GradientBoostingClassifier\n",
    "from sklearn.neighbors import KNeighborsClassifier\n",
    "from sklearn.ensemble import RandomForestClassifier\n",
    "from sklearn.linear_model import LogisticRegression\n",
    "from sklearn.svm import SVC\n",
    "from xgboost import XGBClassifier\n",
    "from sklearn.naive_bayes import GaussianNB\n",
    "from sklearn.neighbors import KNeighborsClassifier\n",
    "from sklearn.pipeline import Pipeline\n",
    "from sklearn.compose import ColumnTransformer\n",
    "from sklearn.metrics import roc_auc_score, f1_score, recall_score\n",
    "from sklearn.model_selection import train_test_split\n",
    "from sklearn.linear_model import LogisticRegression\n",
    "from lightgbm import LGBMClassifier\n",
    "from sklearn.ensemble import BaggingClassifier"
   ]
  },
  {
   "cell_type": "code",
   "execution_count": 15,
   "metadata": {},
   "outputs": [],
   "source": [
    "algos = {\n",
    "    'DecisionTreeClassifier' : DecisionTreeClassifier(),\n",
    "    'KNeighborsClassifier': KNeighborsClassifier(),\n",
    "    'GaussianNB' : GaussianNB(),\n",
    "    'LogisticRegression' : LogisticRegression(max_iter=200),\n",
    "#     'BaggingClassifier' : BaggingClassifier(base_estimator=DecisionTreeClassifier(), n_estimators=50)\n",
    "}"
   ]
  },
  {
   "cell_type": "code",
   "execution_count": 16,
   "metadata": {},
   "outputs": [],
   "source": [
    "X_train, X_test, y_train, y_test = train_test_split(X_und, y_und)"
   ]
  },
  {
   "cell_type": "code",
   "execution_count": 17,
   "metadata": {},
   "outputs": [
    {
     "name": "stdout",
     "output_type": "stream",
     "text": [
      "DecisionTreeClassifier ROC SCORE 0.8937520661157025\n",
      "KNeighborsClassifier ROC SCORE 0.668198347107438\n",
      "GaussianNB ROC SCORE 0.9586776859504131\n",
      "LogisticRegression ROC SCORE 0.969785123966942\n"
     ]
    }
   ],
   "source": [
    "for name, classifier in algos.items():\n",
    "    pipeline = Pipeline(steps=[\n",
    "        ('classifier', classifier)\n",
    "    ])\n",
    "    pipeline.fit(X_train, y_train)\n",
    "    y_predicted=pipeline.predict_proba(X_test)\n",
    "    print(name,'ROC SCORE', roc_auc_score(y_test, y_predicted[:, 1]))"
   ]
  },
  {
   "cell_type": "markdown",
   "metadata": {},
   "source": [
    "### As we can see Gaussian Naive Bayes along side with Logistic regression performed well on the data\n",
    "### Now I will try ensemble methods"
   ]
  },
  {
   "cell_type": "code",
   "execution_count": 18,
   "metadata": {},
   "outputs": [],
   "source": [
    "ensem = {\n",
    "    'RandomForestClassifier' : RandomForestClassifier(),\n",
    "    'GradientBoostingClassifier': GradientBoostingClassifier(),\n",
    "    'LGBMClassifier' : LGBMClassifier(),\n",
    "    'CatBoostClassifier' : CatBoostClassifier(verbose=False),\n",
    "}"
   ]
  },
  {
   "cell_type": "code",
   "execution_count": 19,
   "metadata": {
    "scrolled": true
   },
   "outputs": [
    {
     "name": "stdout",
     "output_type": "stream",
     "text": [
      "RandomForestClassifier ROC SCORE 0.9723305785123966\n",
      "GradientBoostingClassifier ROC SCORE 0.9738181818181818\n",
      "LGBMClassifier ROC SCORE 0.979702479338843\n",
      "CatBoostClassifier ROC SCORE 0.9795702479338844\n"
     ]
    }
   ],
   "source": [
    "for name, classifier in ensem.items():\n",
    "    pipe_en = Pipeline(steps=[\n",
    "        ('classifier', classifier)\n",
    "    ])\n",
    "    pipe_en.fit(X_train, y_train)\n",
    "    y_predicted=pipe_en.predict_proba(X_test)\n",
    "    print(name,'ROC SCORE', roc_auc_score(y_test, y_predicted[:, 1]))"
   ]
  },
  {
   "cell_type": "markdown",
   "metadata": {},
   "source": [
    "## The accuracy might change depending on train test split so we will try cross validation "
   ]
  },
  {
   "cell_type": "code",
   "execution_count": 20,
   "metadata": {},
   "outputs": [],
   "source": [
    "from sklearn.model_selection import StratifiedKFold\n",
    "from sklearn.model_selection import KFold\n",
    "from sklearn.model_selection import cross_val_score"
   ]
  },
  {
   "cell_type": "code",
   "execution_count": 22,
   "metadata": {},
   "outputs": [],
   "source": [
    "models = {\n",
    "    'LogisticRegression' : LogisticRegression(max_iter=200 ),\n",
    "    'RandomForestClassifier' : RandomForestClassifier(),\n",
    "    'GradientBoostingClassifier': GradientBoostingClassifier(),\n",
    "    'LGBMClassifier' : LGBMClassifier(),\n",
    "    'CatBoostClassifier' : CatBoostClassifier(verbose=False),\n",
    "    'BaggingClassifier': BaggingClassifier(base_estimator=DecisionTreeClassifier(), n_estimators=50)\n",
    "}"
   ]
  },
  {
   "cell_type": "code",
   "execution_count": 23,
   "metadata": {},
   "outputs": [
    {
     "name": "stdout",
     "output_type": "stream",
     "text": [
      "LogisticRegression: 0.960918 (0.040008)\n",
      "RandomForestClassifier: 0.970503 (0.029596)\n",
      "GradientBoostingClassifier: 0.962829 (0.031238)\n",
      "LGBMClassifier: 0.968870 (0.029562)\n",
      "CatBoostClassifier: 0.973272 (0.027171)\n",
      "BaggingClassifier: 0.968474 (0.031461)\n"
     ]
    }
   ],
   "source": [
    "results = []\n",
    "names = []\n",
    "\n",
    "for name, model in models.items():\n",
    "    skfold = StratifiedKFold(n_splits=10)\n",
    "    cv_results = cross_val_score(model, X_und, y_und, cv=skfold, scoring='roc_auc')\n",
    "    results.append(cv_results)\n",
    "    names.append(name)\n",
    "    msg = '%s: %f (%f)' % (name, cv_results.mean(), cv_results.std())\n",
    "    print(msg)"
   ]
  },
  {
   "cell_type": "code",
   "execution_count": null,
   "metadata": {},
   "outputs": [],
   "source": []
  },
  {
   "cell_type": "code",
   "execution_count": null,
   "metadata": {},
   "outputs": [],
   "source": []
  },
  {
   "cell_type": "code",
   "execution_count": 25,
   "metadata": {},
   "outputs": [],
   "source": [
    "from sklearn.manifold import TSNE\n",
    "from sklearn.decomposition import PCA"
   ]
  },
  {
   "cell_type": "markdown",
   "metadata": {},
   "source": [
    "## In the EDA notebook we saw that dimensionality reduction techniques were useful. Let's try predicting on them"
   ]
  },
  {
   "cell_type": "code",
   "execution_count": 17,
   "metadata": {},
   "outputs": [],
   "source": [
    "X_new = df_und[['V12', 'V14', 'V10', 'V11', 'V17']]\n",
    "y_new = df_und.iloc[:, -1]"
   ]
  },
  {
   "cell_type": "code",
   "execution_count": 18,
   "metadata": {},
   "outputs": [
    {
     "name": "stdout",
     "output_type": "stream",
     "text": [
      "GaussianNB: 0.959539 (0.032323)\n"
     ]
    },
    {
     "name": "stderr",
     "output_type": "stream",
     "text": [
      "C:\\Users\\egadi\\anaconda3\\lib\\site-packages\\sklearn\\linear_model\\_logistic.py:763: ConvergenceWarning: lbfgs failed to converge (status=1):\n",
      "STOP: TOTAL NO. of ITERATIONS REACHED LIMIT.\n",
      "\n",
      "Increase the number of iterations (max_iter) or scale the data as shown in:\n",
      "    https://scikit-learn.org/stable/modules/preprocessing.html\n",
      "Please also refer to the documentation for alternative solver options:\n",
      "    https://scikit-learn.org/stable/modules/linear_model.html#logistic-regression\n",
      "  n_iter_i = _check_optimize_result(\n"
     ]
    },
    {
     "name": "stdout",
     "output_type": "stream",
     "text": [
      "LogisticRegression: 0.955950 (0.026540)\n",
      "RandomForestClassifier: 0.957468 (0.035475)\n",
      "GradientBoostingClassifier: 0.948928 (0.036886)\n",
      "LGBMClassifier: 0.952370 (0.031205)\n",
      "CatBoostClassifier: 0.955455 (0.028704)\n"
     ]
    }
   ],
   "source": [
    "results = []\n",
    "names = []\n",
    "\n",
    "for name, model in models.items():\n",
    "    skfold = StratifiedKFold(n_splits=10)\n",
    "    pipeline = Pipeline(steps=[\n",
    "        ('dim_red', PCA()),\n",
    "        ('classifier', model)\n",
    "    ])\n",
    "    pipeline.fit(X_train, y_train)\n",
    "    cv_results = cross_val_score(pipeline, X_new, y_new, cv=skfold, scoring='roc_auc')\n",
    "    results.append(cv_results)\n",
    "    names.append(name)\n",
    "    msg = '%s: %f (%f)' % (name, cv_results.mean(), cv_results.std())\n",
    "    print(msg)"
   ]
  },
  {
   "cell_type": "code",
   "execution_count": 19,
   "metadata": {},
   "outputs": [
    {
     "name": "stdout",
     "output_type": "stream",
     "text": [
      "GaussianNB: 0.959539 (0.032323)\n"
     ]
    },
    {
     "name": "stderr",
     "output_type": "stream",
     "text": [
      "C:\\Users\\egadi\\anaconda3\\lib\\site-packages\\sklearn\\linear_model\\_logistic.py:763: ConvergenceWarning: lbfgs failed to converge (status=1):\n",
      "STOP: TOTAL NO. of ITERATIONS REACHED LIMIT.\n",
      "\n",
      "Increase the number of iterations (max_iter) or scale the data as shown in:\n",
      "    https://scikit-learn.org/stable/modules/preprocessing.html\n",
      "Please also refer to the documentation for alternative solver options:\n",
      "    https://scikit-learn.org/stable/modules/linear_model.html#logistic-regression\n",
      "  n_iter_i = _check_optimize_result(\n"
     ]
    },
    {
     "name": "stdout",
     "output_type": "stream",
     "text": [
      "LogisticRegression: 0.955950 (0.026540)\n",
      "RandomForestClassifier: 0.958044 (0.034374)\n",
      "GradientBoostingClassifier: 0.949633 (0.037050)\n",
      "LGBMClassifier: 0.952370 (0.031205)\n",
      "CatBoostClassifier: 0.955455 (0.028704)\n"
     ]
    }
   ],
   "source": [
    "results = []\n",
    "names = []\n",
    "\n",
    "for name, model in models.items():\n",
    "    skfold = StratifiedKFold(n_splits=10)\n",
    "    pipeline = Pipeline(steps=[\n",
    "        ('dim_red', PCA()),\n",
    "        ('classifier', model)\n",
    "    ])\n",
    "    pipeline.fit(X_train, y_train)\n",
    "    cv_results = cross_val_score(pipeline, X_new, y_new, cv=skfold, scoring='roc_auc')\n",
    "    results.append(cv_results)\n",
    "    names.append(name)\n",
    "    msg = '%s: %f (%f)' % (name, cv_results.mean(), cv_results.std())\n",
    "    print(msg)"
   ]
  },
  {
   "cell_type": "code",
   "execution_count": null,
   "metadata": {},
   "outputs": [],
   "source": []
  },
  {
   "cell_type": "markdown",
   "metadata": {},
   "source": [
    "## Now try neural networks using tensorflow"
   ]
  },
  {
   "cell_type": "code",
   "execution_count": 87,
   "metadata": {},
   "outputs": [],
   "source": [
    "import tensorflow as tf\n",
    "from tensorflow import keras\n",
    "from tensorflow.keras import layers\n",
    "from tensorflow.keras.layers import Dropout\n",
    "from tensorflow.keras.models import Sequential\n",
    "from tensorflow.keras.layers import Dense\n",
    "from tensorflow.keras.layers import BatchNormalization\n",
    "from sklearn import metrics\n",
    "from sklearn.preprocessing import StandardScaler\n",
    "from tensorflow.keras.callbacks import EarlyStopping\n",
    "from sklearn import preprocessing\n",
    "from sklearn.metrics import confusion_matrix"
   ]
  },
  {
   "cell_type": "code",
   "execution_count": null,
   "metadata": {},
   "outputs": [],
   "source": []
  },
  {
   "cell_type": "markdown",
   "metadata": {},
   "source": [
    "## Before applying tensorflow lets scale the data"
   ]
  },
  {
   "cell_type": "code",
   "execution_count": 54,
   "metadata": {},
   "outputs": [],
   "source": [
    "X=df.drop(columns=[\"Class\"])\n",
    "y=df[\"Class\"]"
   ]
  },
  {
   "cell_type": "code",
   "execution_count": 55,
   "metadata": {},
   "outputs": [
    {
     "data": {
      "text/html": [
       "<div>\n",
       "<style scoped>\n",
       "    .dataframe tbody tr th:only-of-type {\n",
       "        vertical-align: middle;\n",
       "    }\n",
       "\n",
       "    .dataframe tbody tr th {\n",
       "        vertical-align: top;\n",
       "    }\n",
       "\n",
       "    .dataframe thead th {\n",
       "        text-align: right;\n",
       "    }\n",
       "</style>\n",
       "<table border=\"1\" class=\"dataframe\">\n",
       "  <thead>\n",
       "    <tr style=\"text-align: right;\">\n",
       "      <th></th>\n",
       "      <th>Time</th>\n",
       "      <th>V1</th>\n",
       "      <th>V2</th>\n",
       "      <th>V3</th>\n",
       "      <th>V4</th>\n",
       "      <th>V5</th>\n",
       "      <th>V6</th>\n",
       "      <th>V7</th>\n",
       "      <th>V8</th>\n",
       "      <th>V9</th>\n",
       "      <th>...</th>\n",
       "      <th>V20</th>\n",
       "      <th>V21</th>\n",
       "      <th>V22</th>\n",
       "      <th>V23</th>\n",
       "      <th>V24</th>\n",
       "      <th>V25</th>\n",
       "      <th>V26</th>\n",
       "      <th>V27</th>\n",
       "      <th>V28</th>\n",
       "      <th>Amount</th>\n",
       "    </tr>\n",
       "  </thead>\n",
       "  <tbody>\n",
       "    <tr>\n",
       "      <th>0</th>\n",
       "      <td>-1.996583</td>\n",
       "      <td>-0.694242</td>\n",
       "      <td>-0.044075</td>\n",
       "      <td>1.672773</td>\n",
       "      <td>0.973366</td>\n",
       "      <td>-0.245117</td>\n",
       "      <td>0.347068</td>\n",
       "      <td>0.193679</td>\n",
       "      <td>0.082637</td>\n",
       "      <td>0.331128</td>\n",
       "      <td>...</td>\n",
       "      <td>0.326118</td>\n",
       "      <td>-0.024923</td>\n",
       "      <td>0.382854</td>\n",
       "      <td>-0.176911</td>\n",
       "      <td>0.110507</td>\n",
       "      <td>0.246585</td>\n",
       "      <td>-0.392170</td>\n",
       "      <td>0.330892</td>\n",
       "      <td>-0.063781</td>\n",
       "      <td>0.244964</td>\n",
       "    </tr>\n",
       "    <tr>\n",
       "      <th>1</th>\n",
       "      <td>-1.996583</td>\n",
       "      <td>0.608496</td>\n",
       "      <td>0.161176</td>\n",
       "      <td>0.109797</td>\n",
       "      <td>0.316523</td>\n",
       "      <td>0.043483</td>\n",
       "      <td>-0.061820</td>\n",
       "      <td>-0.063700</td>\n",
       "      <td>0.071253</td>\n",
       "      <td>-0.232494</td>\n",
       "      <td>...</td>\n",
       "      <td>-0.089611</td>\n",
       "      <td>-0.307377</td>\n",
       "      <td>-0.880077</td>\n",
       "      <td>0.162201</td>\n",
       "      <td>-0.561131</td>\n",
       "      <td>0.320694</td>\n",
       "      <td>0.261069</td>\n",
       "      <td>-0.022256</td>\n",
       "      <td>0.044608</td>\n",
       "      <td>-0.342475</td>\n",
       "    </tr>\n",
       "    <tr>\n",
       "      <th>2</th>\n",
       "      <td>-1.996562</td>\n",
       "      <td>-0.693500</td>\n",
       "      <td>-0.811578</td>\n",
       "      <td>1.169468</td>\n",
       "      <td>0.268231</td>\n",
       "      <td>-0.364572</td>\n",
       "      <td>1.351454</td>\n",
       "      <td>0.639776</td>\n",
       "      <td>0.207373</td>\n",
       "      <td>-1.378675</td>\n",
       "      <td>...</td>\n",
       "      <td>0.680975</td>\n",
       "      <td>0.337632</td>\n",
       "      <td>1.063358</td>\n",
       "      <td>1.456320</td>\n",
       "      <td>-1.138092</td>\n",
       "      <td>-0.628537</td>\n",
       "      <td>-0.288447</td>\n",
       "      <td>-0.137137</td>\n",
       "      <td>-0.181021</td>\n",
       "      <td>1.160686</td>\n",
       "    </tr>\n",
       "    <tr>\n",
       "      <th>3</th>\n",
       "      <td>-1.996562</td>\n",
       "      <td>-0.493325</td>\n",
       "      <td>-0.112169</td>\n",
       "      <td>1.182516</td>\n",
       "      <td>-0.609727</td>\n",
       "      <td>-0.007469</td>\n",
       "      <td>0.936150</td>\n",
       "      <td>0.192071</td>\n",
       "      <td>0.316018</td>\n",
       "      <td>-1.262503</td>\n",
       "      <td>...</td>\n",
       "      <td>-0.269855</td>\n",
       "      <td>-0.147443</td>\n",
       "      <td>0.007267</td>\n",
       "      <td>-0.304777</td>\n",
       "      <td>-1.941027</td>\n",
       "      <td>1.241904</td>\n",
       "      <td>-0.460217</td>\n",
       "      <td>0.155396</td>\n",
       "      <td>0.186189</td>\n",
       "      <td>0.140534</td>\n",
       "    </tr>\n",
       "    <tr>\n",
       "      <th>4</th>\n",
       "      <td>-1.996541</td>\n",
       "      <td>-0.591330</td>\n",
       "      <td>0.531541</td>\n",
       "      <td>1.021412</td>\n",
       "      <td>0.284655</td>\n",
       "      <td>-0.295015</td>\n",
       "      <td>0.071999</td>\n",
       "      <td>0.479302</td>\n",
       "      <td>-0.226510</td>\n",
       "      <td>0.744326</td>\n",
       "      <td>...</td>\n",
       "      <td>0.529939</td>\n",
       "      <td>-0.012839</td>\n",
       "      <td>1.100011</td>\n",
       "      <td>-0.220123</td>\n",
       "      <td>0.233250</td>\n",
       "      <td>-0.395202</td>\n",
       "      <td>1.041611</td>\n",
       "      <td>0.543620</td>\n",
       "      <td>0.651816</td>\n",
       "      <td>-0.073403</td>\n",
       "    </tr>\n",
       "  </tbody>\n",
       "</table>\n",
       "<p>5 rows × 30 columns</p>\n",
       "</div>"
      ],
      "text/plain": [
       "       Time        V1        V2        V3        V4        V5        V6  \\\n",
       "0 -1.996583 -0.694242 -0.044075  1.672773  0.973366 -0.245117  0.347068   \n",
       "1 -1.996583  0.608496  0.161176  0.109797  0.316523  0.043483 -0.061820   \n",
       "2 -1.996562 -0.693500 -0.811578  1.169468  0.268231 -0.364572  1.351454   \n",
       "3 -1.996562 -0.493325 -0.112169  1.182516 -0.609727 -0.007469  0.936150   \n",
       "4 -1.996541 -0.591330  0.531541  1.021412  0.284655 -0.295015  0.071999   \n",
       "\n",
       "         V7        V8        V9  ...       V20       V21       V22       V23  \\\n",
       "0  0.193679  0.082637  0.331128  ...  0.326118 -0.024923  0.382854 -0.176911   \n",
       "1 -0.063700  0.071253 -0.232494  ... -0.089611 -0.307377 -0.880077  0.162201   \n",
       "2  0.639776  0.207373 -1.378675  ...  0.680975  0.337632  1.063358  1.456320   \n",
       "3  0.192071  0.316018 -1.262503  ... -0.269855 -0.147443  0.007267 -0.304777   \n",
       "4  0.479302 -0.226510  0.744326  ...  0.529939 -0.012839  1.100011 -0.220123   \n",
       "\n",
       "        V24       V25       V26       V27       V28    Amount  \n",
       "0  0.110507  0.246585 -0.392170  0.330892 -0.063781  0.244964  \n",
       "1 -0.561131  0.320694  0.261069 -0.022256  0.044608 -0.342475  \n",
       "2 -1.138092 -0.628537 -0.288447 -0.137137 -0.181021  1.160686  \n",
       "3 -1.941027  1.241904 -0.460217  0.155396  0.186189  0.140534  \n",
       "4  0.233250 -0.395202  1.041611  0.543620  0.651816 -0.073403  \n",
       "\n",
       "[5 rows x 30 columns]"
      ]
     },
     "execution_count": 55,
     "metadata": {},
     "output_type": "execute_result"
    }
   ],
   "source": [
    "names=X.columns\n",
    "scaled_df = preprocessing.scale(X)\n",
    "scaled_df = pd.DataFrame(scaled_df,columns=names)\n",
    "scaled_df.head(5)"
   ]
  },
  {
   "cell_type": "code",
   "execution_count": null,
   "metadata": {},
   "outputs": [],
   "source": []
  },
  {
   "cell_type": "code",
   "execution_count": 73,
   "metadata": {},
   "outputs": [
    {
     "data": {
      "text/plain": [
       "(284807, 30)"
      ]
     },
     "execution_count": 73,
     "metadata": {},
     "output_type": "execute_result"
    }
   ],
   "source": [
    "scaled_df.shape"
   ]
  },
  {
   "cell_type": "code",
   "execution_count": 104,
   "metadata": {},
   "outputs": [],
   "source": [
    "under = RandomUnderSampler()\n",
    "X_under, y_under = under.fit_resample(scaled_df, y)\n",
    "X_train, X_test, y_train, y_test = train_test_split(X_under, y_under)"
   ]
  },
  {
   "cell_type": "code",
   "execution_count": 105,
   "metadata": {},
   "outputs": [
    {
     "data": {
      "text/plain": [
       "Counter({0: 492, 1: 492})"
      ]
     },
     "execution_count": 105,
     "metadata": {},
     "output_type": "execute_result"
    }
   ],
   "source": [
    "Counter(y_under)"
   ]
  },
  {
   "cell_type": "code",
   "execution_count": 106,
   "metadata": {},
   "outputs": [
    {
     "data": {
      "text/plain": [
       "(984, 30)"
      ]
     },
     "execution_count": 106,
     "metadata": {},
     "output_type": "execute_result"
    }
   ],
   "source": [
    "X_under.shape"
   ]
  },
  {
   "cell_type": "code",
   "execution_count": 77,
   "metadata": {},
   "outputs": [
    {
     "name": "stdout",
     "output_type": "stream",
     "text": [
      "0.9756679077666732\n"
     ]
    }
   ],
   "source": [
    "clf = LogisticRegression(solver = 'lbfgs')\n",
    "clf.fit(X_train, y_train)\n",
    "test_pred = clf.predict_proba(X_test)[:, 1]\n",
    "print(roc_auc_score(y_test, test_pred))"
   ]
  },
  {
   "cell_type": "code",
   "execution_count": null,
   "metadata": {},
   "outputs": [],
   "source": []
  },
  {
   "cell_type": "code",
   "execution_count": 78,
   "metadata": {},
   "outputs": [],
   "source": [
    "model = Sequential()\n",
    "model.add(Dense(X_train.shape[1], activation = 'relu', input_dim = X_train.shape[1]))\n",
    "model.add(BatchNormalization())\n",
    "\n",
    "model.add(Dense(64, activation = 'relu'))\n",
    "model.add(BatchNormalization())\n",
    "model.add(Dropout(0.5))\n",
    "\n",
    "model.add(Dense(64, activation = 'relu'))\n",
    "model.add(BatchNormalization())\n",
    "model.add(Dropout(0.5))\n",
    "\n",
    "model.add(Dense(64, activation = 'relu'))\n",
    "model.add(BatchNormalization())\n",
    "model.add(Dropout(0.5))\n",
    "\n",
    "model.add(Dense(1, activation = 'sigmoid'))"
   ]
  },
  {
   "cell_type": "code",
   "execution_count": 79,
   "metadata": {},
   "outputs": [],
   "source": [
    "optimizer = keras.optimizers.Adam(lr=0.0001)\n",
    "model.compile(optimizer = optimizer, loss = 'binary_crossentropy')"
   ]
  },
  {
   "cell_type": "code",
   "execution_count": 80,
   "metadata": {},
   "outputs": [],
   "source": [
    "early_stop = EarlyStopping(monitor='val_loss', mode='min', verbose=1, patience = 10)"
   ]
  },
  {
   "cell_type": "code",
   "execution_count": 81,
   "metadata": {
    "scrolled": true
   },
   "outputs": [
    {
     "name": "stdout",
     "output_type": "stream",
     "text": [
      "Epoch 1/200\n",
      "5/5 [==============================] - 2s 82ms/step - loss: 1.0621 - val_loss: 1.0231\n",
      "Epoch 2/200\n",
      "5/5 [==============================] - 0s 17ms/step - loss: 0.9871 - val_loss: 0.9470\n",
      "Epoch 3/200\n",
      "5/5 [==============================] - 0s 17ms/step - loss: 0.9411 - val_loss: 0.8886\n",
      "Epoch 4/200\n",
      "5/5 [==============================] - 0s 20ms/step - loss: 0.9846 - val_loss: 0.8449\n",
      "Epoch 5/200\n",
      "5/5 [==============================] - 0s 20ms/step - loss: 0.9701 - val_loss: 0.8089\n",
      "Epoch 6/200\n",
      "5/5 [==============================] - 0s 19ms/step - loss: 0.9275 - val_loss: 0.7781\n",
      "Epoch 7/200\n",
      "5/5 [==============================] - 0s 19ms/step - loss: 0.9082 - val_loss: 0.7509\n",
      "Epoch 8/200\n",
      "5/5 [==============================] - 0s 18ms/step - loss: 0.8619 - val_loss: 0.7251\n",
      "Epoch 9/200\n",
      "5/5 [==============================] - 0s 17ms/step - loss: 0.8809 - val_loss: 0.7022\n",
      "Epoch 10/200\n",
      "5/5 [==============================] - 0s 20ms/step - loss: 0.8441 - val_loss: 0.6810\n",
      "Epoch 11/200\n",
      "5/5 [==============================] - 0s 19ms/step - loss: 0.8401 - val_loss: 0.6606\n",
      "Epoch 12/200\n",
      "5/5 [==============================] - 0s 14ms/step - loss: 0.8592 - val_loss: 0.6425\n",
      "Epoch 13/200\n",
      "5/5 [==============================] - 0s 16ms/step - loss: 0.7983 - val_loss: 0.6232\n",
      "Epoch 14/200\n",
      "5/5 [==============================] - 0s 17ms/step - loss: 0.7318 - val_loss: 0.6067\n",
      "Epoch 15/200\n",
      "5/5 [==============================] - 0s 18ms/step - loss: 0.7704 - val_loss: 0.5899\n",
      "Epoch 16/200\n",
      "5/5 [==============================] - 0s 14ms/step - loss: 0.6992 - val_loss: 0.5724\n",
      "Epoch 17/200\n",
      "5/5 [==============================] - 0s 16ms/step - loss: 0.7289 - val_loss: 0.5562\n",
      "Epoch 18/200\n",
      "5/5 [==============================] - 0s 17ms/step - loss: 0.6996 - val_loss: 0.5399\n",
      "Epoch 19/200\n",
      "5/5 [==============================] - 0s 18ms/step - loss: 0.7261 - val_loss: 0.5248\n",
      "Epoch 20/200\n",
      "5/5 [==============================] - 0s 18ms/step - loss: 0.7677 - val_loss: 0.5097\n",
      "Epoch 21/200\n",
      "5/5 [==============================] - 0s 17ms/step - loss: 0.6502 - val_loss: 0.4954\n",
      "Epoch 22/200\n",
      "5/5 [==============================] - 0s 15ms/step - loss: 0.6842 - val_loss: 0.4813\n",
      "Epoch 23/200\n",
      "5/5 [==============================] - 0s 15ms/step - loss: 0.6906 - val_loss: 0.4683\n",
      "Epoch 24/200\n",
      "5/5 [==============================] - 0s 16ms/step - loss: 0.6519 - val_loss: 0.4562\n",
      "Epoch 25/200\n",
      "5/5 [==============================] - 0s 15ms/step - loss: 0.6168 - val_loss: 0.4440\n",
      "Epoch 26/200\n",
      "5/5 [==============================] - 0s 19ms/step - loss: 0.6509 - val_loss: 0.4331\n",
      "Epoch 27/200\n",
      "5/5 [==============================] - 0s 20ms/step - loss: 0.5967 - val_loss: 0.4223\n",
      "Epoch 28/200\n",
      "5/5 [==============================] - 0s 19ms/step - loss: 0.6016 - val_loss: 0.4122\n",
      "Epoch 29/200\n",
      "5/5 [==============================] - 0s 18ms/step - loss: 0.6145 - val_loss: 0.4015\n",
      "Epoch 30/200\n",
      "5/5 [==============================] - 0s 19ms/step - loss: 0.6002 - val_loss: 0.3915\n",
      "Epoch 31/200\n",
      "5/5 [==============================] - 0s 19ms/step - loss: 0.5736 - val_loss: 0.3816\n",
      "Epoch 32/200\n",
      "5/5 [==============================] - 0s 19ms/step - loss: 0.5652 - val_loss: 0.3727\n",
      "Epoch 33/200\n",
      "5/5 [==============================] - 0s 18ms/step - loss: 0.5910 - val_loss: 0.3641\n",
      "Epoch 34/200\n",
      "5/5 [==============================] - 0s 19ms/step - loss: 0.5832 - val_loss: 0.3552\n",
      "Epoch 35/200\n",
      "5/5 [==============================] - 0s 19ms/step - loss: 0.5523 - val_loss: 0.3468\n",
      "Epoch 36/200\n",
      "5/5 [==============================] - 0s 19ms/step - loss: 0.5289 - val_loss: 0.3391\n",
      "Epoch 37/200\n",
      "5/5 [==============================] - 0s 19ms/step - loss: 0.5328 - val_loss: 0.3313\n",
      "Epoch 38/200\n",
      "5/5 [==============================] - 0s 18ms/step - loss: 0.5138 - val_loss: 0.3246\n",
      "Epoch 39/200\n",
      "5/5 [==============================] - 0s 21ms/step - loss: 0.5155 - val_loss: 0.3178\n",
      "Epoch 40/200\n",
      "5/5 [==============================] - 0s 20ms/step - loss: 0.5317 - val_loss: 0.3114\n",
      "Epoch 41/200\n",
      "5/5 [==============================] - 0s 21ms/step - loss: 0.5144 - val_loss: 0.3057\n",
      "Epoch 42/200\n",
      "5/5 [==============================] - 0s 18ms/step - loss: 0.5078 - val_loss: 0.3002\n",
      "Epoch 43/200\n",
      "5/5 [==============================] - 0s 19ms/step - loss: 0.5041 - val_loss: 0.2946\n",
      "Epoch 44/200\n",
      "5/5 [==============================] - 0s 17ms/step - loss: 0.4896 - val_loss: 0.2896\n",
      "Epoch 45/200\n",
      "5/5 [==============================] - 0s 17ms/step - loss: 0.5014 - val_loss: 0.2850\n",
      "Epoch 46/200\n",
      "5/5 [==============================] - 0s 22ms/step - loss: 0.4475 - val_loss: 0.2808\n",
      "Epoch 47/200\n",
      "5/5 [==============================] - 0s 24ms/step - loss: 0.4854 - val_loss: 0.2765\n",
      "Epoch 48/200\n",
      "5/5 [==============================] - 0s 24ms/step - loss: 0.4921 - val_loss: 0.2722\n",
      "Epoch 49/200\n",
      "5/5 [==============================] - 0s 20ms/step - loss: 0.4532 - val_loss: 0.2682\n",
      "Epoch 50/200\n",
      "5/5 [==============================] - 0s 21ms/step - loss: 0.4744 - val_loss: 0.2641\n",
      "Epoch 51/200\n",
      "5/5 [==============================] - 0s 23ms/step - loss: 0.4643 - val_loss: 0.2603\n",
      "Epoch 52/200\n",
      "5/5 [==============================] - 0s 23ms/step - loss: 0.4613 - val_loss: 0.2565\n",
      "Epoch 53/200\n",
      "5/5 [==============================] - 0s 25ms/step - loss: 0.4166 - val_loss: 0.2532\n",
      "Epoch 54/200\n",
      "5/5 [==============================] - 0s 22ms/step - loss: 0.4557 - val_loss: 0.2503\n",
      "Epoch 55/200\n",
      "5/5 [==============================] - 0s 23ms/step - loss: 0.4277 - val_loss: 0.2473\n",
      "Epoch 56/200\n",
      "5/5 [==============================] - 0s 22ms/step - loss: 0.4812 - val_loss: 0.2445\n",
      "Epoch 57/200\n",
      "5/5 [==============================] - 0s 24ms/step - loss: 0.4904 - val_loss: 0.2418\n",
      "Epoch 58/200\n",
      "5/5 [==============================] - 0s 21ms/step - loss: 0.3994 - val_loss: 0.2389\n",
      "Epoch 59/200\n",
      "5/5 [==============================] - 0s 21ms/step - loss: 0.4254 - val_loss: 0.2363\n",
      "Epoch 60/200\n",
      "5/5 [==============================] - 0s 22ms/step - loss: 0.4135 - val_loss: 0.2334\n",
      "Epoch 61/200\n",
      "5/5 [==============================] - 0s 21ms/step - loss: 0.4264 - val_loss: 0.2312\n",
      "Epoch 62/200\n",
      "5/5 [==============================] - 0s 17ms/step - loss: 0.3909 - val_loss: 0.2290\n",
      "Epoch 63/200\n",
      "5/5 [==============================] - 0s 17ms/step - loss: 0.3857 - val_loss: 0.2267\n",
      "Epoch 64/200\n",
      "5/5 [==============================] - 0s 17ms/step - loss: 0.3856 - val_loss: 0.2245\n",
      "Epoch 65/200\n",
      "5/5 [==============================] - 0s 17ms/step - loss: 0.3885 - val_loss: 0.2224\n",
      "Epoch 66/200\n",
      "5/5 [==============================] - 0s 14ms/step - loss: 0.4084 - val_loss: 0.2203\n",
      "Epoch 67/200\n",
      "5/5 [==============================] - 0s 16ms/step - loss: 0.3710 - val_loss: 0.2185\n",
      "Epoch 68/200\n",
      "5/5 [==============================] - 0s 18ms/step - loss: 0.3552 - val_loss: 0.2167\n",
      "Epoch 69/200\n",
      "5/5 [==============================] - 0s 18ms/step - loss: 0.3647 - val_loss: 0.2149\n",
      "Epoch 70/200\n",
      "5/5 [==============================] - 0s 17ms/step - loss: 0.3681 - val_loss: 0.2133\n",
      "Epoch 71/200\n",
      "5/5 [==============================] - 0s 18ms/step - loss: 0.3523 - val_loss: 0.2115\n",
      "Epoch 72/200\n",
      "5/5 [==============================] - 0s 17ms/step - loss: 0.3800 - val_loss: 0.2100\n",
      "Epoch 73/200\n",
      "5/5 [==============================] - 0s 18ms/step - loss: 0.3442 - val_loss: 0.2085\n",
      "Epoch 74/200\n",
      "5/5 [==============================] - 0s 17ms/step - loss: 0.3611 - val_loss: 0.2069\n",
      "Epoch 75/200\n",
      "5/5 [==============================] - 0s 18ms/step - loss: 0.3691 - val_loss: 0.2056\n",
      "Epoch 76/200\n",
      "5/5 [==============================] - 0s 18ms/step - loss: 0.3502 - val_loss: 0.2043\n",
      "Epoch 77/200\n",
      "5/5 [==============================] - 0s 19ms/step - loss: 0.3715 - val_loss: 0.2032\n",
      "Epoch 78/200\n",
      "5/5 [==============================] - 0s 27ms/step - loss: 0.3440 - val_loss: 0.2019\n",
      "Epoch 79/200\n",
      "5/5 [==============================] - 0s 20ms/step - loss: 0.3787 - val_loss: 0.2006\n",
      "Epoch 80/200\n",
      "5/5 [==============================] - 0s 17ms/step - loss: 0.3576 - val_loss: 0.1994\n",
      "Epoch 81/200\n",
      "5/5 [==============================] - 0s 18ms/step - loss: 0.3641 - val_loss: 0.1983\n",
      "Epoch 82/200\n",
      "5/5 [==============================] - 0s 22ms/step - loss: 0.3395 - val_loss: 0.1973\n",
      "Epoch 83/200\n",
      "5/5 [==============================] - 0s 23ms/step - loss: 0.3251 - val_loss: 0.1963\n"
     ]
    },
    {
     "name": "stdout",
     "output_type": "stream",
     "text": [
      "Epoch 84/200\n",
      "5/5 [==============================] - 0s 23ms/step - loss: 0.3313 - val_loss: 0.1952\n",
      "Epoch 85/200\n",
      "5/5 [==============================] - 0s 22ms/step - loss: 0.3158 - val_loss: 0.1943\n",
      "Epoch 86/200\n",
      "5/5 [==============================] - 0s 23ms/step - loss: 0.3038 - val_loss: 0.1933\n",
      "Epoch 87/200\n",
      "5/5 [==============================] - 0s 23ms/step - loss: 0.3510 - val_loss: 0.1925\n",
      "Epoch 88/200\n",
      "5/5 [==============================] - 0s 28ms/step - loss: 0.2942 - val_loss: 0.1916\n",
      "Epoch 89/200\n",
      "5/5 [==============================] - 0s 22ms/step - loss: 0.2850 - val_loss: 0.1907\n",
      "Epoch 90/200\n",
      "5/5 [==============================] - 0s 22ms/step - loss: 0.3413 - val_loss: 0.1897\n",
      "Epoch 91/200\n",
      "5/5 [==============================] - 0s 21ms/step - loss: 0.3230 - val_loss: 0.1887\n",
      "Epoch 92/200\n",
      "5/5 [==============================] - 0s 21ms/step - loss: 0.3076 - val_loss: 0.1879\n",
      "Epoch 93/200\n",
      "5/5 [==============================] - 0s 22ms/step - loss: 0.3036 - val_loss: 0.1872\n",
      "Epoch 94/200\n",
      "5/5 [==============================] - 0s 21ms/step - loss: 0.3061 - val_loss: 0.1864\n",
      "Epoch 95/200\n",
      "5/5 [==============================] - 0s 21ms/step - loss: 0.3218 - val_loss: 0.1856\n",
      "Epoch 96/200\n",
      "5/5 [==============================] - 0s 19ms/step - loss: 0.3159 - val_loss: 0.1848\n",
      "Epoch 97/200\n",
      "5/5 [==============================] - 0s 18ms/step - loss: 0.3220 - val_loss: 0.1841\n",
      "Epoch 98/200\n",
      "5/5 [==============================] - 0s 15ms/step - loss: 0.3192 - val_loss: 0.1833\n",
      "Epoch 99/200\n",
      "5/5 [==============================] - 0s 15ms/step - loss: 0.2951 - val_loss: 0.1826\n",
      "Epoch 100/200\n",
      "5/5 [==============================] - 0s 16ms/step - loss: 0.2947 - val_loss: 0.1821\n",
      "Epoch 101/200\n",
      "5/5 [==============================] - 0s 17ms/step - loss: 0.3041 - val_loss: 0.1815\n",
      "Epoch 102/200\n",
      "5/5 [==============================] - 0s 14ms/step - loss: 0.3031 - val_loss: 0.1809\n",
      "Epoch 103/200\n",
      "5/5 [==============================] - 0s 15ms/step - loss: 0.2668 - val_loss: 0.1803\n",
      "Epoch 104/200\n",
      "5/5 [==============================] - 0s 16ms/step - loss: 0.2955 - val_loss: 0.1797\n",
      "Epoch 105/200\n",
      "5/5 [==============================] - 0s 17ms/step - loss: 0.2794 - val_loss: 0.1790\n",
      "Epoch 106/200\n",
      "5/5 [==============================] - 0s 18ms/step - loss: 0.2931 - val_loss: 0.1783\n",
      "Epoch 107/200\n",
      "5/5 [==============================] - 0s 14ms/step - loss: 0.2667 - val_loss: 0.1776\n",
      "Epoch 108/200\n",
      "5/5 [==============================] - 0s 16ms/step - loss: 0.3121 - val_loss: 0.1770\n",
      "Epoch 109/200\n",
      "5/5 [==============================] - 0s 20ms/step - loss: 0.2815 - val_loss: 0.1763\n",
      "Epoch 110/200\n",
      "5/5 [==============================] - 0s 19ms/step - loss: 0.2891 - val_loss: 0.1758\n",
      "Epoch 111/200\n",
      "5/5 [==============================] - 0s 15ms/step - loss: 0.2668 - val_loss: 0.1752\n",
      "Epoch 112/200\n",
      "5/5 [==============================] - 0s 17ms/step - loss: 0.2900 - val_loss: 0.1746\n",
      "Epoch 113/200\n",
      "5/5 [==============================] - 0s 17ms/step - loss: 0.2665 - val_loss: 0.1741\n",
      "Epoch 114/200\n",
      "5/5 [==============================] - 0s 14ms/step - loss: 0.2794 - val_loss: 0.1736\n",
      "Epoch 115/200\n",
      "5/5 [==============================] - 0s 22ms/step - loss: 0.2684 - val_loss: 0.1732\n",
      "Epoch 116/200\n",
      "5/5 [==============================] - 0s 22ms/step - loss: 0.3002 - val_loss: 0.1727\n",
      "Epoch 117/200\n",
      "5/5 [==============================] - 0s 35ms/step - loss: 0.2509 - val_loss: 0.1722\n",
      "Epoch 118/200\n",
      "5/5 [==============================] - 0s 34ms/step - loss: 0.2599 - val_loss: 0.1718\n",
      "Epoch 119/200\n",
      "5/5 [==============================] - 0s 28ms/step - loss: 0.2447 - val_loss: 0.1713\n",
      "Epoch 120/200\n",
      "5/5 [==============================] - 0s 22ms/step - loss: 0.2826 - val_loss: 0.1708\n",
      "Epoch 121/200\n",
      "5/5 [==============================] - 0s 23ms/step - loss: 0.2594 - val_loss: 0.1702\n",
      "Epoch 122/200\n",
      "5/5 [==============================] - 0s 24ms/step - loss: 0.2794 - val_loss: 0.1698\n",
      "Epoch 123/200\n",
      "5/5 [==============================] - 0s 23ms/step - loss: 0.2561 - val_loss: 0.1694\n",
      "Epoch 124/200\n",
      "5/5 [==============================] - 0s 24ms/step - loss: 0.2457 - val_loss: 0.1691\n",
      "Epoch 125/200\n",
      "5/5 [==============================] - 0s 23ms/step - loss: 0.2875 - val_loss: 0.1686\n",
      "Epoch 126/200\n",
      "5/5 [==============================] - 0s 23ms/step - loss: 0.2747 - val_loss: 0.1682\n",
      "Epoch 127/200\n",
      "5/5 [==============================] - 0s 23ms/step - loss: 0.2515 - val_loss: 0.1678\n",
      "Epoch 128/200\n",
      "5/5 [==============================] - 0s 24ms/step - loss: 0.2752 - val_loss: 0.1672\n",
      "Epoch 129/200\n",
      "5/5 [==============================] - 0s 23ms/step - loss: 0.2599 - val_loss: 0.1669\n",
      "Epoch 130/200\n",
      "5/5 [==============================] - 0s 22ms/step - loss: 0.2438 - val_loss: 0.1665\n",
      "Epoch 131/200\n",
      "5/5 [==============================] - 0s 22ms/step - loss: 0.2530 - val_loss: 0.1662\n",
      "Epoch 132/200\n",
      "5/5 [==============================] - 0s 22ms/step - loss: 0.2455 - val_loss: 0.1659\n",
      "Epoch 133/200\n",
      "5/5 [==============================] - 0s 22ms/step - loss: 0.2692 - val_loss: 0.1655\n",
      "Epoch 134/200\n",
      "5/5 [==============================] - 0s 22ms/step - loss: 0.2472 - val_loss: 0.1650\n",
      "Epoch 135/200\n",
      "5/5 [==============================] - 0s 21ms/step - loss: 0.2476 - val_loss: 0.1648\n",
      "Epoch 136/200\n",
      "5/5 [==============================] - 0s 18ms/step - loss: 0.2594 - val_loss: 0.1646\n",
      "Epoch 137/200\n",
      "5/5 [==============================] - 0s 18ms/step - loss: 0.2350 - val_loss: 0.1643\n",
      "Epoch 138/200\n",
      "5/5 [==============================] - 0s 15ms/step - loss: 0.2480 - val_loss: 0.1640\n",
      "Epoch 139/200\n",
      "5/5 [==============================] - 0s 19ms/step - loss: 0.2559 - val_loss: 0.1638\n",
      "Epoch 140/200\n",
      "5/5 [==============================] - 0s 16ms/step - loss: 0.2216 - val_loss: 0.1635\n",
      "Epoch 141/200\n",
      "5/5 [==============================] - 0s 16ms/step - loss: 0.2443 - val_loss: 0.1633\n",
      "Epoch 142/200\n",
      "5/5 [==============================] - 0s 18ms/step - loss: 0.2646 - val_loss: 0.1632\n",
      "Epoch 143/200\n",
      "5/5 [==============================] - 0s 19ms/step - loss: 0.2478 - val_loss: 0.1629\n",
      "Epoch 144/200\n",
      "5/5 [==============================] - 0s 18ms/step - loss: 0.2478 - val_loss: 0.1626\n",
      "Epoch 145/200\n",
      "5/5 [==============================] - 0s 17ms/step - loss: 0.2297 - val_loss: 0.1622\n",
      "Epoch 146/200\n",
      "5/5 [==============================] - 0s 17ms/step - loss: 0.2513 - val_loss: 0.1619\n",
      "Epoch 147/200\n",
      "5/5 [==============================] - 0s 19ms/step - loss: 0.2193 - val_loss: 0.1617\n",
      "Epoch 148/200\n",
      "5/5 [==============================] - 0s 18ms/step - loss: 0.2383 - val_loss: 0.1615\n",
      "Epoch 149/200\n",
      "5/5 [==============================] - 0s 18ms/step - loss: 0.2544 - val_loss: 0.1611\n",
      "Epoch 150/200\n",
      "5/5 [==============================] - 0s 19ms/step - loss: 0.2272 - val_loss: 0.1609\n",
      "Epoch 151/200\n",
      "5/5 [==============================] - 0s 23ms/step - loss: 0.2595 - val_loss: 0.1607\n",
      "Epoch 152/200\n",
      "5/5 [==============================] - 0s 26ms/step - loss: 0.2463 - val_loss: 0.1605\n",
      "Epoch 153/200\n",
      "5/5 [==============================] - 0s 19ms/step - loss: 0.2347 - val_loss: 0.1603\n",
      "Epoch 154/200\n",
      "5/5 [==============================] - 0s 16ms/step - loss: 0.2318 - val_loss: 0.1601\n",
      "Epoch 155/200\n",
      "5/5 [==============================] - 0s 16ms/step - loss: 0.2457 - val_loss: 0.1599\n",
      "Epoch 156/200\n",
      "5/5 [==============================] - 0s 16ms/step - loss: 0.2214 - val_loss: 0.1598\n",
      "Epoch 157/200\n",
      "5/5 [==============================] - 0s 17ms/step - loss: 0.2064 - val_loss: 0.1598\n",
      "Epoch 158/200\n",
      "5/5 [==============================] - 0s 17ms/step - loss: 0.2222 - val_loss: 0.1597\n",
      "Epoch 159/200\n",
      "5/5 [==============================] - 0s 21ms/step - loss: 0.2298 - val_loss: 0.1596\n",
      "Epoch 160/200\n",
      "5/5 [==============================] - 0s 19ms/step - loss: 0.2371 - val_loss: 0.1595\n",
      "Epoch 161/200\n",
      "5/5 [==============================] - 0s 24ms/step - loss: 0.2182 - val_loss: 0.1592\n",
      "Epoch 162/200\n",
      "5/5 [==============================] - 0s 22ms/step - loss: 0.2577 - val_loss: 0.1591\n",
      "Epoch 163/200\n",
      "5/5 [==============================] - 0s 19ms/step - loss: 0.2607 - val_loss: 0.1588\n",
      "Epoch 164/200\n",
      "5/5 [==============================] - 0s 18ms/step - loss: 0.2186 - val_loss: 0.1587\n",
      "Epoch 165/200\n",
      "5/5 [==============================] - 0s 16ms/step - loss: 0.1921 - val_loss: 0.1584\n",
      "Epoch 166/200\n"
     ]
    },
    {
     "name": "stdout",
     "output_type": "stream",
     "text": [
      "5/5 [==============================] - 0s 16ms/step - loss: 0.2257 - val_loss: 0.1583\n",
      "Epoch 167/200\n",
      "5/5 [==============================] - 0s 20ms/step - loss: 0.2103 - val_loss: 0.1582\n",
      "Epoch 168/200\n",
      "5/5 [==============================] - 0s 21ms/step - loss: 0.2113 - val_loss: 0.1581\n",
      "Epoch 169/200\n",
      "5/5 [==============================] - 0s 19ms/step - loss: 0.2260 - val_loss: 0.1580\n",
      "Epoch 170/200\n",
      "5/5 [==============================] - 0s 15ms/step - loss: 0.2260 - val_loss: 0.1578\n",
      "Epoch 171/200\n",
      "5/5 [==============================] - 0s 23ms/step - loss: 0.2034 - val_loss: 0.1576\n",
      "Epoch 172/200\n",
      "5/5 [==============================] - 0s 20ms/step - loss: 0.1972 - val_loss: 0.1574\n",
      "Epoch 173/200\n",
      "5/5 [==============================] - 0s 17ms/step - loss: 0.1902 - val_loss: 0.1573\n",
      "Epoch 174/200\n",
      "5/5 [==============================] - 0s 18ms/step - loss: 0.2217 - val_loss: 0.1574\n",
      "Epoch 175/200\n",
      "5/5 [==============================] - 0s 14ms/step - loss: 0.2297 - val_loss: 0.1572\n",
      "Epoch 176/200\n",
      "5/5 [==============================] - 0s 16ms/step - loss: 0.2133 - val_loss: 0.1570\n",
      "Epoch 177/200\n",
      "5/5 [==============================] - 0s 16ms/step - loss: 0.2289 - val_loss: 0.1570\n",
      "Epoch 178/200\n",
      "5/5 [==============================] - 0s 17ms/step - loss: 0.1993 - val_loss: 0.1569\n",
      "Epoch 179/200\n",
      "5/5 [==============================] - 0s 17ms/step - loss: 0.2264 - val_loss: 0.1568\n",
      "Epoch 180/200\n",
      "5/5 [==============================] - 0s 17ms/step - loss: 0.1987 - val_loss: 0.1566\n",
      "Epoch 181/200\n",
      "5/5 [==============================] - 0s 16ms/step - loss: 0.2096 - val_loss: 0.1567\n",
      "Epoch 182/200\n",
      "5/5 [==============================] - 0s 17ms/step - loss: 0.2198 - val_loss: 0.1567\n",
      "Epoch 183/200\n",
      "5/5 [==============================] - 0s 20ms/step - loss: 0.2062 - val_loss: 0.1567\n",
      "Epoch 184/200\n",
      "5/5 [==============================] - 0s 17ms/step - loss: 0.2127 - val_loss: 0.1565\n",
      "Epoch 185/200\n",
      "5/5 [==============================] - 0s 17ms/step - loss: 0.2229 - val_loss: 0.1566\n",
      "Epoch 186/200\n",
      "5/5 [==============================] - 0s 17ms/step - loss: 0.2382 - val_loss: 0.1566\n",
      "Epoch 187/200\n",
      "5/5 [==============================] - 0s 17ms/step - loss: 0.1923 - val_loss: 0.1565\n",
      "Epoch 188/200\n",
      "5/5 [==============================] - 0s 18ms/step - loss: 0.2167 - val_loss: 0.1563\n",
      "Epoch 189/200\n",
      "5/5 [==============================] - 0s 20ms/step - loss: 0.2238 - val_loss: 0.1563\n",
      "Epoch 190/200\n",
      "5/5 [==============================] - 0s 22ms/step - loss: 0.1970 - val_loss: 0.1563\n",
      "Epoch 191/200\n",
      "5/5 [==============================] - 0s 23ms/step - loss: 0.2105 - val_loss: 0.1563\n",
      "Epoch 192/200\n",
      "5/5 [==============================] - 0s 23ms/step - loss: 0.2202 - val_loss: 0.1563\n",
      "Epoch 193/200\n",
      "5/5 [==============================] - 0s 22ms/step - loss: 0.1965 - val_loss: 0.1563\n",
      "Epoch 194/200\n",
      "5/5 [==============================] - 0s 22ms/step - loss: 0.2265 - val_loss: 0.1561\n",
      "Epoch 195/200\n",
      "5/5 [==============================] - 0s 22ms/step - loss: 0.2034 - val_loss: 0.1561\n",
      "Epoch 196/200\n",
      "5/5 [==============================] - 0s 24ms/step - loss: 0.2062 - val_loss: 0.1561\n",
      "Epoch 197/200\n",
      "5/5 [==============================] - 0s 23ms/step - loss: 0.2060 - val_loss: 0.1562\n",
      "Epoch 198/200\n",
      "5/5 [==============================] - 0s 28ms/step - loss: 0.1964 - val_loss: 0.1561\n",
      "Epoch 199/200\n",
      "5/5 [==============================] - 0s 28ms/step - loss: 0.1967 - val_loss: 0.1561\n",
      "Epoch 200/200\n",
      "5/5 [==============================] - 0s 23ms/step - loss: 0.2012 - val_loss: 0.1560\n"
     ]
    }
   ],
   "source": [
    "history = model.fit(x=X_train, y=y_train, batch_size = 256, epochs=200,\n",
    "          validation_data=(X_test, y_test), verbose=1,\n",
    "          callbacks=[early_stop])"
   ]
  },
  {
   "cell_type": "code",
   "execution_count": 82,
   "metadata": {},
   "outputs": [
    {
     "data": {
      "text/plain": [
       "Text(0.5, 1.0, 'Loss for both Training and Validation')"
      ]
     },
     "execution_count": 82,
     "metadata": {},
     "output_type": "execute_result"
    },
    {
     "data": {
      "image/png": "[encoded data removed]",
      "text/plain": [
       "<Figure size 720x360 with 1 Axes>"
      ]
     },
     "metadata": {
      "needs_background": "light"
     },
     "output_type": "display_data"
    }
   ],
   "source": [
    "evaluation_metrics=pd.DataFrame(model.history.history)\n",
    "evaluation_metrics.plot(figsize=(10,5))\n",
    "plt.title(\"Loss for both Training and Validation\", size = 20)"
   ]
  },
  {
   "cell_type": "code",
   "execution_count": 83,
   "metadata": {},
   "outputs": [
    {
     "name": "stdout",
     "output_type": "stream",
     "text": [
      "0.9772682735645699\n"
     ]
    }
   ],
   "source": [
    "test_pred = model.predict(X_test)\n",
    "print(roc_auc_score(y_test, test_pred))"
   ]
  },
  {
   "cell_type": "code",
   "execution_count": 67,
   "metadata": {},
   "outputs": [
    {
     "data": {
      "text/plain": [
       "Text(0.5, 1.0, 'Loss for both Training and Validation')"
      ]
     },
     "execution_count": 67,
     "metadata": {},
     "output_type": "execute_result"
    },
    {
     "data": {
      "image/png": "[encoded data removed]",
      "text/plain": [
       "<Figure size 720x360 with 1 Axes>"
      ]
     },
     "metadata": {
      "needs_background": "light"
     },
     "output_type": "display_data"
    }
   ],
   "source": [
    "evaluation_metrics=pd.DataFrame(model.history.history)\n",
    "evaluation_metrics.plot(figsize=(10,5))\n",
    "plt.title(\"Loss for both Training and Validation\", size = 20)"
   ]
  },
  {
   "cell_type": "code",
   "execution_count": 69,
   "metadata": {},
   "outputs": [
    {
     "name": "stdout",
     "output_type": "stream",
     "text": [
      "0.9772245762711864\n"
     ]
    }
   ],
   "source": [
    "test_pred = model.predict(X_test)\n",
    "print(roc_auc_score(y_test, test_pred))"
   ]
  },
  {
   "cell_type": "code",
   "execution_count": 70,
   "metadata": {},
   "outputs": [
    {
     "name": "stdout",
     "output_type": "stream",
     "text": [
      "0.9772245762711864\n"
     ]
    }
   ],
   "source": [
    "test_pred = model.predict(X_test)\n",
    "print(roc_auc_score(y_test, test_pred))"
   ]
  },
  {
   "cell_type": "code",
   "execution_count": 89,
   "metadata": {},
   "outputs": [
    {
     "name": "stderr",
     "output_type": "stream",
     "text": [
      "C:\\Users\\egadi\\anaconda3\\lib\\site-packages\\tensorflow\\python\\keras\\engine\\sequential.py:450: UserWarning: `model.predict_classes()` is deprecated and will be removed after 2021-01-01. Please use instead:* `np.argmax(model.predict(x), axis=-1)`,   if your model does multi-class classification   (e.g. if it uses a `softmax` last-layer activation).* `(model.predict(x) > 0.5).astype(\"int32\")`,   if your model does binary classification   (e.g. if it uses a `sigmoid` last-layer activation).\n",
      "  warnings.warn('`model.predict_classes()` is deprecated and '\n"
     ]
    }
   ],
   "source": [
    "y_pred = model.predict_classes(X_test)"
   ]
  },
  {
   "cell_type": "code",
   "execution_count": 90,
   "metadata": {},
   "outputs": [
    {
     "data": {
      "text/plain": [
       "array([[240,   3],\n",
       "       [ 18, 108]], dtype=int64)"
      ]
     },
     "execution_count": 90,
     "metadata": {},
     "output_type": "execute_result"
    }
   ],
   "source": [
    "cm_nn=confusion_matrix(y_test, y_pred)\n",
    "cm_nn"
   ]
  },
  {
   "cell_type": "code",
   "execution_count": 91,
   "metadata": {},
   "outputs": [
    {
     "data": {
      "text/plain": [
       "Text(0.5, 1.0, 'Confusion Matrix Plotting for Neural Network model')"
      ]
     },
     "execution_count": 91,
     "metadata": {},
     "output_type": "execute_result"
    },
    {
     "data": {
      "image/png": "[encoded data removed]",
      "text/plain": [
       "<Figure size 576x432 with 1 Axes>"
      ]
     },
     "metadata": {
      "needs_background": "light"
     },
     "output_type": "display_data"
    }
   ],
   "source": [
    "plt.figure(figsize=(8,6))\n",
    "sns.set(font_scale=1.2)\n",
    "sns.heatmap(cm_nn, annot=True, fmt = 'g', cmap=\"winter\", cbar = False)\n",
    "plt.xlabel(\"Predicted Label\", size = 18)\n",
    "plt.ylabel(\"True Label\", size = 18)\n",
    "plt.title(\"Confusion Matrix Plotting for Neural Network model\", size = 20)"
   ]
  },
  {
   "cell_type": "code",
   "execution_count": null,
   "metadata": {},
   "outputs": [],
   "source": []
  },
  {
   "cell_type": "code",
   "execution_count": null,
   "metadata": {},
   "outputs": [],
   "source": []
  },
  {
   "cell_type": "code",
   "execution_count": null,
   "metadata": {},
   "outputs": [],
   "source": []
  },
  {
   "cell_type": "markdown",
   "metadata": {},
   "source": [
    "# Hyperparameter optimization with Optuna library "
   ]
  },
  {
   "cell_type": "code",
   "execution_count": 120,
   "metadata": {},
   "outputs": [],
   "source": [
    "import optuna\n",
    "import sklearn.datasets\n",
    "import sklearn.ensemble\n",
    "import sklearn.model_selection\n",
    "import sklearn.svm\n",
    "import lightgbm as lgb\n",
    "import catboost as cb"
   ]
  },
  {
   "cell_type": "code",
   "execution_count": 114,
   "metadata": {},
   "outputs": [],
   "source": [
    "# FYI: Objective functions can take additional arguments\n",
    "# (https://optuna.readthedocs.io/en/stable/faq.html#objective-func-additional-args).\n",
    "def objective(trial):\n",
    "#     iris = sklearn.datasets.load_iris()\n",
    "#     x, y = iris.data, iris.target\n",
    "\n",
    "    classifier_name = trial.suggest_categorical(\"classifier\", [\"SVC\", \"RandomForest\"])\n",
    "    if classifier_name == \"SVC\":\n",
    "        svc_c = trial.suggest_float(\"svc_c\", 1e-10, 1e10, log=True)\n",
    "        classifier_obj = sklearn.svm.SVC(C=svc_c, gamma=\"auto\")\n",
    "    else:\n",
    "        rf_max_depth = trial.suggest_int(\"rf_max_depth\", 2, 32, log=True)\n",
    "        classifier_obj = sklearn.ensemble.RandomForestClassifier(\n",
    "            max_depth=rf_max_depth, n_estimators=10\n",
    "        )\n",
    "\n",
    "    score = sklearn.model_selection.cross_val_score(classifier_obj, X_under, y_under, n_jobs=-1, cv=3, scoring='roc_auc')\n",
    "    accuracy = score.mean()\n",
    "    return accuracy\n"
   ]
  },
  {
   "cell_type": "code",
   "execution_count": 115,
   "metadata": {
    "scrolled": true
   },
   "outputs": [
    {
     "name": "stderr",
     "output_type": "stream",
     "text": [
      "\u001b[32m[I 2021-04-23 10:55:23,432]\u001b[0m A new study created in memory with name: no-name-6216e590-8a33-4bbf-8f7f-ed1f29566523\u001b[0m\n",
      "\u001b[32m[I 2021-04-23 10:55:23,551]\u001b[0m Trial 0 finished with value: 0.956028157842554 and parameters: {'classifier': 'RandomForest', 'rf_max_depth': 5}. Best is trial 0 with value: 0.956028157842554.\u001b[0m\n",
      "\u001b[32m[I 2021-04-23 10:55:23,669]\u001b[0m Trial 1 finished with value: 0.9557059290105095 and parameters: {'classifier': 'RandomForest', 'rf_max_depth': 19}. Best is trial 0 with value: 0.956028157842554.\u001b[0m\n",
      "\u001b[32m[I 2021-04-23 10:55:23,793]\u001b[0m Trial 2 finished with value: 0.9528926234384295 and parameters: {'classifier': 'SVC', 'svc_c': 31.569817286180786}. Best is trial 0 with value: 0.956028157842554.\u001b[0m\n",
      "\u001b[32m[I 2021-04-23 10:55:23,917]\u001b[0m Trial 3 finished with value: 0.9609049672813802 and parameters: {'classifier': 'RandomForest', 'rf_max_depth': 7}. Best is trial 3 with value: 0.9609049672813802.\u001b[0m\n",
      "\u001b[32m[I 2021-04-23 10:55:24,019]\u001b[0m Trial 4 finished with value: 0.9603038865754511 and parameters: {'classifier': 'RandomForest', 'rf_max_depth': 6}. Best is trial 3 with value: 0.9609049672813802.\u001b[0m\n",
      "\u001b[32m[I 2021-04-23 10:55:24,094]\u001b[0m Trial 5 finished with value: 0.965360400555225 and parameters: {'classifier': 'RandomForest', 'rf_max_depth': 8}. Best is trial 5 with value: 0.965360400555225.\u001b[0m\n",
      "\u001b[32m[I 2021-04-23 10:55:24,227]\u001b[0m Trial 6 finished with value: 0.9578004164187983 and parameters: {'classifier': 'SVC', 'svc_c': 0.001109529500421868}. Best is trial 5 with value: 0.965360400555225.\u001b[0m\n",
      "\u001b[32m[I 2021-04-23 10:55:24,314]\u001b[0m Trial 7 finished with value: 0.9606818857822724 and parameters: {'classifier': 'RandomForest', 'rf_max_depth': 8}. Best is trial 5 with value: 0.965360400555225.\u001b[0m\n",
      "\u001b[32m[I 2021-04-23 10:55:24,390]\u001b[0m Trial 8 finished with value: 0.9656826293872696 and parameters: {'classifier': 'RandomForest', 'rf_max_depth': 6}. Best is trial 8 with value: 0.9656826293872696.\u001b[0m\n",
      "\u001b[32m[I 2021-04-23 10:55:24,489]\u001b[0m Trial 9 finished with value: 0.9522481657743406 and parameters: {'classifier': 'SVC', 'svc_c': 7211.441017077912}. Best is trial 8 with value: 0.9656826293872696.\u001b[0m\n",
      "\u001b[32m[I 2021-04-23 10:55:24,568]\u001b[0m Trial 10 finished with value: 0.9520498711084672 and parameters: {'classifier': 'RandomForest', 'rf_max_depth': 2}. Best is trial 8 with value: 0.9656826293872696.\u001b[0m\n",
      "\u001b[32m[I 2021-04-23 10:55:24,644]\u001b[0m Trial 11 finished with value: 0.9582527761253222 and parameters: {'classifier': 'RandomForest', 'rf_max_depth': 16}. Best is trial 8 with value: 0.9656826293872696.\u001b[0m\n",
      "\u001b[32m[I 2021-04-23 10:55:24,712]\u001b[0m Trial 12 finished with value: 0.9584014971247273 and parameters: {'classifier': 'RandomForest', 'rf_max_depth': 3}. Best is trial 8 with value: 0.9656826293872696.\u001b[0m\n",
      "\u001b[32m[I 2021-04-23 10:55:24,803]\u001b[0m Trial 13 finished with value: 0.9627887666071783 and parameters: {'classifier': 'RandomForest', 'rf_max_depth': 11}. Best is trial 8 with value: 0.9656826293872696.\u001b[0m\n",
      "\u001b[32m[I 2021-04-23 10:55:24,875]\u001b[0m Trial 14 finished with value: 0.962683422565933 and parameters: {'classifier': 'RandomForest', 'rf_max_depth': 3}. Best is trial 8 with value: 0.9656826293872696.\u001b[0m\n",
      "\u001b[32m[I 2021-04-23 10:55:24,970]\u001b[0m Trial 15 finished with value: 0.9544541939321833 and parameters: {'classifier': 'RandomForest', 'rf_max_depth': 4}. Best is trial 8 with value: 0.9656826293872696.\u001b[0m\n",
      "\u001b[32m[I 2021-04-23 10:55:25,088]\u001b[0m Trial 16 finished with value: 0.9522233789411064 and parameters: {'classifier': 'RandomForest', 'rf_max_depth': 31}. Best is trial 8 with value: 0.9656826293872696.\u001b[0m\n",
      "\u001b[32m[I 2021-04-23 10:55:25,264]\u001b[0m Trial 17 finished with value: 0.9578004164187983 and parameters: {'classifier': 'SVC', 'svc_c': 3.1507444629332437e-10}. Best is trial 8 with value: 0.9656826293872696.\u001b[0m\n",
      "\u001b[32m[I 2021-04-23 10:55:25,387]\u001b[0m Trial 18 finished with value: 0.9564061570493753 and parameters: {'classifier': 'RandomForest', 'rf_max_depth': 11}. Best is trial 8 with value: 0.9656826293872696.\u001b[0m\n",
      "\u001b[32m[I 2021-04-23 10:55:25,477]\u001b[0m Trial 19 finished with value: 0.9576331052944677 and parameters: {'classifier': 'RandomForest', 'rf_max_depth': 2}. Best is trial 8 with value: 0.9656826293872696.\u001b[0m\n",
      "\u001b[32m[I 2021-04-23 10:55:25,577]\u001b[0m Trial 20 finished with value: 0.9522481657743406 and parameters: {'classifier': 'SVC', 'svc_c': 3328978536.2048206}. Best is trial 8 with value: 0.9656826293872696.\u001b[0m\n",
      "\u001b[32m[I 2021-04-23 10:55:25,662]\u001b[0m Trial 21 finished with value: 0.9622992266508031 and parameters: {'classifier': 'RandomForest', 'rf_max_depth': 11}. Best is trial 8 with value: 0.9656826293872696.\u001b[0m\n",
      "\u001b[32m[I 2021-04-23 10:55:25,728]\u001b[0m Trial 22 finished with value: 0.9600374281181837 and parameters: {'classifier': 'RandomForest', 'rf_max_depth': 10}. Best is trial 8 with value: 0.9656826293872696.\u001b[0m\n",
      "\u001b[32m[I 2021-04-23 10:55:25,811]\u001b[0m Trial 23 finished with value: 0.9575029744199881 and parameters: {'classifier': 'RandomForest', 'rf_max_depth': 16}. Best is trial 8 with value: 0.9656826293872696.\u001b[0m\n",
      "\u001b[32m[I 2021-04-23 10:55:25,895]\u001b[0m Trial 24 finished with value: 0.9506184314891929 and parameters: {'classifier': 'RandomForest', 'rf_max_depth': 9}. Best is trial 8 with value: 0.9656826293872696.\u001b[0m\n",
      "\u001b[32m[I 2021-04-23 10:55:25,960]\u001b[0m Trial 25 finished with value: 0.9573790402538171 and parameters: {'classifier': 'RandomForest', 'rf_max_depth': 5}. Best is trial 8 with value: 0.9656826293872696.\u001b[0m\n",
      "\u001b[32m[I 2021-04-23 10:55:26,043]\u001b[0m Trial 26 finished with value: 0.9609297541146143 and parameters: {'classifier': 'RandomForest', 'rf_max_depth': 13}. Best is trial 8 with value: 0.9656826293872696.\u001b[0m\n",
      "\u001b[32m[I 2021-04-23 10:55:26,126]\u001b[0m Trial 27 finished with value: 0.9648646638905415 and parameters: {'classifier': 'RandomForest', 'rf_max_depth': 6}. Best is trial 8 with value: 0.9656826293872696.\u001b[0m\n",
      "\u001b[32m[I 2021-04-23 10:55:26,195]\u001b[0m Trial 28 finished with value: 0.9631605691056911 and parameters: {'classifier': 'RandomForest', 'rf_max_depth': 4}. Best is trial 8 with value: 0.9656826293872696.\u001b[0m\n",
      "\u001b[32m[I 2021-04-23 10:55:26,258]\u001b[0m Trial 29 finished with value: 0.9650071881816379 and parameters: {'classifier': 'RandomForest', 'rf_max_depth': 6}. Best is trial 8 with value: 0.9656826293872696.\u001b[0m\n",
      "\u001b[32m[I 2021-04-23 10:55:26,348]\u001b[0m Trial 30 finished with value: 0.9579987110846719 and parameters: {'classifier': 'RandomForest', 'rf_max_depth': 3}. Best is trial 8 with value: 0.9656826293872696.\u001b[0m\n",
      "\u001b[32m[I 2021-04-23 10:55:26,454]\u001b[0m Trial 31 finished with value: 0.9565053043823122 and parameters: {'classifier': 'RandomForest', 'rf_max_depth': 6}. Best is trial 8 with value: 0.9656826293872696.\u001b[0m\n",
      "\u001b[32m[I 2021-04-23 10:55:26,554]\u001b[0m Trial 32 finished with value: 0.9552287824707516 and parameters: {'classifier': 'RandomForest', 'rf_max_depth': 7}. Best is trial 8 with value: 0.9656826293872696.\u001b[0m\n",
      "\u001b[32m[I 2021-04-23 10:55:26,644]\u001b[0m Trial 33 finished with value: 0.9606880824905809 and parameters: {'classifier': 'RandomForest', 'rf_max_depth': 5}. Best is trial 8 with value: 0.9656826293872696.\u001b[0m\n",
      "\u001b[32m[I 2021-04-23 10:55:26,713]\u001b[0m Trial 34 finished with value: 0.9669839381320641 and parameters: {'classifier': 'RandomForest', 'rf_max_depth': 4}. Best is trial 34 with value: 0.9669839381320641.\u001b[0m\n",
      "\u001b[32m[I 2021-04-23 10:55:26,777]\u001b[0m Trial 35 finished with value: 0.9563132064247472 and parameters: {'classifier': 'RandomForest', 'rf_max_depth': 4}. Best is trial 34 with value: 0.9669839381320641.\u001b[0m\n",
      "\u001b[32m[I 2021-04-23 10:55:26,845]\u001b[0m Trial 36 finished with value: 0.9662527265516557 and parameters: {'classifier': 'RandomForest', 'rf_max_depth': 5}. Best is trial 34 with value: 0.9669839381320641.\u001b[0m\n",
      "\u001b[32m[I 2021-04-23 10:55:26,993]\u001b[0m Trial 37 finished with value: 0.9578004164187983 and parameters: {'classifier': 'SVC', 'svc_c': 1.0721871959988908e-10}. Best is trial 34 with value: 0.9669839381320641.\u001b[0m\n",
      "\u001b[32m[I 2021-04-23 10:55:27,062]\u001b[0m Trial 38 finished with value: 0.9607934265318264 and parameters: {'classifier': 'RandomForest', 'rf_max_depth': 3}. Best is trial 34 with value: 0.9669839381320641.\u001b[0m\n",
      "\u001b[32m[I 2021-04-23 10:55:27,127]\u001b[0m Trial 39 finished with value: 0.9684587547094984 and parameters: {'classifier': 'RandomForest', 'rf_max_depth': 5}. Best is trial 39 with value: 0.9684587547094984.\u001b[0m\n"
     ]
    },
    {
     "name": "stderr",
     "output_type": "stream",
     "text": [
      "\u001b[32m[I 2021-04-23 10:55:27,209]\u001b[0m Trial 40 finished with value: 0.9661225956771763 and parameters: {'classifier': 'RandomForest', 'rf_max_depth': 4}. Best is trial 39 with value: 0.9684587547094984.\u001b[0m\n",
      "\u001b[32m[I 2021-04-23 10:55:27,280]\u001b[0m Trial 41 finished with value: 0.9565424846321634 and parameters: {'classifier': 'RandomForest', 'rf_max_depth': 4}. Best is trial 39 with value: 0.9684587547094984.\u001b[0m\n",
      "\u001b[32m[I 2021-04-23 10:55:27,371]\u001b[0m Trial 42 finished with value: 0.9515417410271664 and parameters: {'classifier': 'RandomForest', 'rf_max_depth': 2}. Best is trial 39 with value: 0.9684587547094984.\u001b[0m\n",
      "\u001b[32m[I 2021-04-23 10:55:27,488]\u001b[0m Trial 43 finished with value: 0.9574224172119769 and parameters: {'classifier': 'RandomForest', 'rf_max_depth': 5}. Best is trial 39 with value: 0.9684587547094984.\u001b[0m\n",
      "\u001b[32m[I 2021-04-23 10:55:27,560]\u001b[0m Trial 44 finished with value: 0.9525394110648424 and parameters: {'classifier': 'RandomForest', 'rf_max_depth': 3}. Best is trial 39 with value: 0.9684587547094984.\u001b[0m\n",
      "\u001b[32m[I 2021-04-23 10:55:27,628]\u001b[0m Trial 45 finished with value: 0.9449174598453302 and parameters: {'classifier': 'RandomForest', 'rf_max_depth': 2}. Best is trial 39 with value: 0.9684587547094984.\u001b[0m\n",
      "\u001b[32m[I 2021-04-23 10:55:27,694]\u001b[0m Trial 46 finished with value: 0.9695679654967281 and parameters: {'classifier': 'RandomForest', 'rf_max_depth': 4}. Best is trial 46 with value: 0.9695679654967281.\u001b[0m\n",
      "\u001b[32m[I 2021-04-23 10:55:27,758]\u001b[0m Trial 47 finished with value: 0.9586989391235375 and parameters: {'classifier': 'RandomForest', 'rf_max_depth': 2}. Best is trial 46 with value: 0.9695679654967281.\u001b[0m\n",
      "\u001b[32m[I 2021-04-23 10:55:27,891]\u001b[0m Trial 48 finished with value: 0.9578004164187983 and parameters: {'classifier': 'SVC', 'svc_c': 7.696102679867397e-05}. Best is trial 46 with value: 0.9695679654967281.\u001b[0m\n",
      "\u001b[32m[I 2021-04-23 10:55:27,944]\u001b[0m Trial 49 finished with value: 0.9581722189173112 and parameters: {'classifier': 'RandomForest', 'rf_max_depth': 2}. Best is trial 46 with value: 0.9695679654967281.\u001b[0m\n",
      "\u001b[32m[I 2021-04-23 10:55:28,028]\u001b[0m Trial 50 finished with value: 0.9528864267301209 and parameters: {'classifier': 'RandomForest', 'rf_max_depth': 3}. Best is trial 46 with value: 0.9695679654967281.\u001b[0m\n",
      "\u001b[32m[I 2021-04-23 10:55:28,106]\u001b[0m Trial 51 finished with value: 0.9580111045012888 and parameters: {'classifier': 'RandomForest', 'rf_max_depth': 4}. Best is trial 46 with value: 0.9695679654967281.\u001b[0m\n",
      "\u001b[32m[I 2021-04-23 10:55:28,181]\u001b[0m Trial 52 finished with value: 0.960210935950823 and parameters: {'classifier': 'RandomForest', 'rf_max_depth': 5}. Best is trial 46 with value: 0.9695679654967281.\u001b[0m\n",
      "\u001b[32m[I 2021-04-23 10:55:28,244]\u001b[0m Trial 53 finished with value: 0.9609669343644655 and parameters: {'classifier': 'RandomForest', 'rf_max_depth': 4}. Best is trial 46 with value: 0.9695679654967281.\u001b[0m\n",
      "\u001b[32m[I 2021-04-23 10:55:28,311]\u001b[0m Trial 54 finished with value: 0.9545223577235772 and parameters: {'classifier': 'RandomForest', 'rf_max_depth': 2}. Best is trial 46 with value: 0.9695679654967281.\u001b[0m\n",
      "\u001b[32m[I 2021-04-23 10:55:28,384]\u001b[0m Trial 55 finished with value: 0.9401150109062066 and parameters: {'classifier': 'RandomForest', 'rf_max_depth': 2}. Best is trial 46 with value: 0.9695679654967281.\u001b[0m\n",
      "\u001b[32m[I 2021-04-23 10:55:28,472]\u001b[0m Trial 56 finished with value: 0.9640528951021216 and parameters: {'classifier': 'RandomForest', 'rf_max_depth': 3}. Best is trial 46 with value: 0.9695679654967281.\u001b[0m\n",
      "\u001b[32m[I 2021-04-23 10:55:28,560]\u001b[0m Trial 57 finished with value: 0.9584386773745787 and parameters: {'classifier': 'RandomForest', 'rf_max_depth': 2}. Best is trial 46 with value: 0.9695679654967281.\u001b[0m\n",
      "\u001b[32m[I 2021-04-23 10:55:28,675]\u001b[0m Trial 58 finished with value: 0.9522481657743406 and parameters: {'classifier': 'SVC', 'svc_c': 220292339.93377998}. Best is trial 46 with value: 0.9695679654967281.\u001b[0m\n",
      "\u001b[32m[I 2021-04-23 10:55:28,769]\u001b[0m Trial 59 finished with value: 0.9609421475312314 and parameters: {'classifier': 'RandomForest', 'rf_max_depth': 3}. Best is trial 46 with value: 0.9695679654967281.\u001b[0m\n",
      "\u001b[32m[I 2021-04-23 10:55:28,856]\u001b[0m Trial 60 finished with value: 0.966810430299425 and parameters: {'classifier': 'RandomForest', 'rf_max_depth': 3}. Best is trial 46 with value: 0.9695679654967281.\u001b[0m\n",
      "\u001b[32m[I 2021-04-23 10:55:28,942]\u001b[0m Trial 61 finished with value: 0.9575029744199881 and parameters: {'classifier': 'RandomForest', 'rf_max_depth': 2}. Best is trial 46 with value: 0.9695679654967281.\u001b[0m\n",
      "\u001b[32m[I 2021-04-23 10:55:29,035]\u001b[0m Trial 62 finished with value: 0.9615680150703945 and parameters: {'classifier': 'RandomForest', 'rf_max_depth': 3}. Best is trial 46 with value: 0.9695679654967281.\u001b[0m\n",
      "\u001b[32m[I 2021-04-23 10:55:29,121]\u001b[0m Trial 63 finished with value: 0.9618592603608963 and parameters: {'classifier': 'RandomForest', 'rf_max_depth': 3}. Best is trial 46 with value: 0.9695679654967281.\u001b[0m\n",
      "\u001b[32m[I 2021-04-23 10:55:29,207]\u001b[0m Trial 64 finished with value: 0.9664882014673806 and parameters: {'classifier': 'RandomForest', 'rf_max_depth': 2}. Best is trial 46 with value: 0.9695679654967281.\u001b[0m\n",
      "\u001b[32m[I 2021-04-23 10:55:29,305]\u001b[0m Trial 65 finished with value: 0.9594921177870314 and parameters: {'classifier': 'RandomForest', 'rf_max_depth': 3}. Best is trial 46 with value: 0.9695679654967281.\u001b[0m\n",
      "\u001b[32m[I 2021-04-23 10:55:29,392]\u001b[0m Trial 66 finished with value: 0.9499367935752527 and parameters: {'classifier': 'RandomForest', 'rf_max_depth': 2}. Best is trial 46 with value: 0.9695679654967281.\u001b[0m\n",
      "\u001b[32m[I 2021-04-23 10:55:29,468]\u001b[0m Trial 67 finished with value: 0.9486974519135435 and parameters: {'classifier': 'RandomForest', 'rf_max_depth': 2}. Best is trial 46 with value: 0.9695679654967281.\u001b[0m\n",
      "\u001b[32m[I 2021-04-23 10:55:29,538]\u001b[0m Trial 68 finished with value: 0.9577818262938727 and parameters: {'classifier': 'RandomForest', 'rf_max_depth': 3}. Best is trial 46 with value: 0.9695679654967281.\u001b[0m\n",
      "\u001b[32m[I 2021-04-23 10:55:29,606]\u001b[0m Trial 69 finished with value: 0.9610041146143168 and parameters: {'classifier': 'RandomForest', 'rf_max_depth': 3}. Best is trial 46 with value: 0.9695679654967281.\u001b[0m\n",
      "\u001b[32m[I 2021-04-23 10:55:29,674]\u001b[0m Trial 70 finished with value: 0.9499801705334127 and parameters: {'classifier': 'RandomForest', 'rf_max_depth': 3}. Best is trial 46 with value: 0.9695679654967281.\u001b[0m\n",
      "\u001b[32m[I 2021-04-23 10:55:29,747]\u001b[0m Trial 71 finished with value: 0.9675912155463018 and parameters: {'classifier': 'RandomForest', 'rf_max_depth': 4}. Best is trial 46 with value: 0.9695679654967281.\u001b[0m\n",
      "\u001b[32m[I 2021-04-23 10:55:29,817]\u001b[0m Trial 72 finished with value: 0.9617167360697997 and parameters: {'classifier': 'RandomForest', 'rf_max_depth': 2}. Best is trial 46 with value: 0.9695679654967281.\u001b[0m\n",
      "\u001b[32m[I 2021-04-23 10:55:29,887]\u001b[0m Trial 73 finished with value: 0.9493481062859409 and parameters: {'classifier': 'RandomForest', 'rf_max_depth': 2}. Best is trial 46 with value: 0.9695679654967281.\u001b[0m\n",
      "\u001b[32m[I 2021-04-23 10:55:29,955]\u001b[0m Trial 74 finished with value: 0.9563937636327582 and parameters: {'classifier': 'RandomForest', 'rf_max_depth': 2}. Best is trial 46 with value: 0.9695679654967281.\u001b[0m\n",
      "\u001b[32m[I 2021-04-23 10:55:30,030]\u001b[0m Trial 75 finished with value: 0.9647097461828279 and parameters: {'classifier': 'RandomForest', 'rf_max_depth': 4}. Best is trial 46 with value: 0.9695679654967281.\u001b[0m\n",
      "\u001b[32m[I 2021-04-23 10:55:30,113]\u001b[0m Trial 76 finished with value: 0.9644370910172517 and parameters: {'classifier': 'RandomForest', 'rf_max_depth': 3}. Best is trial 46 with value: 0.9695679654967281.\u001b[0m\n",
      "\u001b[32m[I 2021-04-23 10:55:30,181]\u001b[0m Trial 77 finished with value: 0.9555014376363276 and parameters: {'classifier': 'RandomForest', 'rf_max_depth': 2}. Best is trial 46 with value: 0.9695679654967281.\u001b[0m\n",
      "\u001b[32m[I 2021-04-23 10:55:30,248]\u001b[0m Trial 78 finished with value: 0.9631109954392229 and parameters: {'classifier': 'RandomForest', 'rf_max_depth': 2}. Best is trial 46 with value: 0.9695679654967281.\u001b[0m\n",
      "\u001b[32m[I 2021-04-23 10:55:30,342]\u001b[0m Trial 79 finished with value: 0.9522481657743406 and parameters: {'classifier': 'SVC', 'svc_c': 792506.5214156588}. Best is trial 46 with value: 0.9695679654967281.\u001b[0m\n"
     ]
    },
    {
     "name": "stderr",
     "output_type": "stream",
     "text": [
      "\u001b[32m[I 2021-04-23 10:55:30,409]\u001b[0m Trial 80 finished with value: 0.9370724271267102 and parameters: {'classifier': 'RandomForest', 'rf_max_depth': 2}. Best is trial 46 with value: 0.9695679654967281.\u001b[0m\n",
      "\u001b[32m[I 2021-04-23 10:55:30,480]\u001b[0m Trial 81 finished with value: 0.9697414733293673 and parameters: {'classifier': 'RandomForest', 'rf_max_depth': 3}. Best is trial 81 with value: 0.9697414733293673.\u001b[0m\n",
      "\u001b[32m[I 2021-04-23 10:55:30,544]\u001b[0m Trial 82 finished with value: 0.9577322526274044 and parameters: {'classifier': 'RandomForest', 'rf_max_depth': 3}. Best is trial 81 with value: 0.9697414733293673.\u001b[0m\n",
      "\u001b[32m[I 2021-04-23 10:55:30,593]\u001b[0m Trial 83 finished with value: 0.9488399762046401 and parameters: {'classifier': 'RandomForest', 'rf_max_depth': 2}. Best is trial 81 with value: 0.9697414733293673.\u001b[0m\n",
      "\u001b[32m[I 2021-04-23 10:55:30,660]\u001b[0m Trial 84 finished with value: 0.9655958754709499 and parameters: {'classifier': 'RandomForest', 'rf_max_depth': 2}. Best is trial 81 with value: 0.9697414733293673.\u001b[0m\n",
      "\u001b[32m[I 2021-04-23 10:55:30,727]\u001b[0m Trial 85 finished with value: 0.9619274241522903 and parameters: {'classifier': 'RandomForest', 'rf_max_depth': 4}. Best is trial 81 with value: 0.9697414733293673.\u001b[0m\n",
      "\u001b[32m[I 2021-04-23 10:55:30,808]\u001b[0m Trial 86 finished with value: 0.9626028653579218 and parameters: {'classifier': 'RandomForest', 'rf_max_depth': 3}. Best is trial 81 with value: 0.9697414733293673.\u001b[0m\n",
      "\u001b[32m[I 2021-04-23 10:55:30,884]\u001b[0m Trial 87 finished with value: 0.9574595974618282 and parameters: {'classifier': 'RandomForest', 'rf_max_depth': 4}. Best is trial 81 with value: 0.9697414733293673.\u001b[0m\n",
      "\u001b[32m[I 2021-04-23 10:55:30,944]\u001b[0m Trial 88 finished with value: 0.9587299226650803 and parameters: {'classifier': 'RandomForest', 'rf_max_depth': 3}. Best is trial 81 with value: 0.9697414733293673.\u001b[0m\n",
      "\u001b[32m[I 2021-04-23 10:55:31,011]\u001b[0m Trial 89 finished with value: 0.9589034304977195 and parameters: {'classifier': 'RandomForest', 'rf_max_depth': 4}. Best is trial 81 with value: 0.9697414733293673.\u001b[0m\n",
      "\u001b[32m[I 2021-04-23 10:55:31,077]\u001b[0m Trial 90 finished with value: 0.9627577830656356 and parameters: {'classifier': 'RandomForest', 'rf_max_depth': 3}. Best is trial 81 with value: 0.9697414733293673.\u001b[0m\n",
      "\u001b[32m[I 2021-04-23 10:55:31,144]\u001b[0m Trial 91 finished with value: 0.952694328772556 and parameters: {'classifier': 'RandomForest', 'rf_max_depth': 4}. Best is trial 81 with value: 0.9697414733293673.\u001b[0m\n",
      "\u001b[32m[I 2021-04-23 10:55:31,211]\u001b[0m Trial 92 finished with value: 0.9617848998611938 and parameters: {'classifier': 'RandomForest', 'rf_max_depth': 4}. Best is trial 81 with value: 0.9697414733293673.\u001b[0m\n",
      "\u001b[32m[I 2021-04-23 10:55:31,325]\u001b[0m Trial 93 finished with value: 0.952434067023597 and parameters: {'classifier': 'RandomForest', 'rf_max_depth': 3}. Best is trial 81 with value: 0.9697414733293673.\u001b[0m\n",
      "\u001b[32m[I 2021-04-23 10:55:31,393]\u001b[0m Trial 94 finished with value: 0.9575029744199881 and parameters: {'classifier': 'RandomForest', 'rf_max_depth': 3}. Best is trial 81 with value: 0.9697414733293673.\u001b[0m\n",
      "\u001b[32m[I 2021-04-23 10:55:31,461]\u001b[0m Trial 95 finished with value: 0.949279942494547 and parameters: {'classifier': 'RandomForest', 'rf_max_depth': 3}. Best is trial 81 with value: 0.9697414733293673.\u001b[0m\n",
      "\u001b[32m[I 2021-04-23 10:55:31,526]\u001b[0m Trial 96 finished with value: 0.9589096272060281 and parameters: {'classifier': 'RandomForest', 'rf_max_depth': 4}. Best is trial 81 with value: 0.9697414733293673.\u001b[0m\n",
      "\u001b[32m[I 2021-04-23 10:55:31,611]\u001b[0m Trial 97 finished with value: 0.9634456176878842 and parameters: {'classifier': 'RandomForest', 'rf_max_depth': 4}. Best is trial 81 with value: 0.9697414733293673.\u001b[0m\n",
      "\u001b[32m[I 2021-04-23 10:55:31,692]\u001b[0m Trial 98 finished with value: 0.9476749950426333 and parameters: {'classifier': 'RandomForest', 'rf_max_depth': 4}. Best is trial 81 with value: 0.9697414733293673.\u001b[0m\n",
      "\u001b[32m[I 2021-04-23 10:55:31,846]\u001b[0m Trial 99 finished with value: 0.9578004164187983 and parameters: {'classifier': 'SVC', 'svc_c': 7.88037162572165e-07}. Best is trial 81 with value: 0.9697414733293673.\u001b[0m\n"
     ]
    },
    {
     "name": "stdout",
     "output_type": "stream",
     "text": [
      "FrozenTrial(number=81, values=[0.9697414733293673], datetime_start=datetime.datetime(2021, 4, 23, 10, 55, 30, 410471), datetime_complete=datetime.datetime(2021, 4, 23, 10, 55, 30, 480150), params={'classifier': 'RandomForest', 'rf_max_depth': 3}, distributions={'classifier': CategoricalDistribution(choices=('SVC', 'RandomForest')), 'rf_max_depth': IntLogUniformDistribution(high=32, low=2, step=1)}, user_attrs={}, system_attrs={}, intermediate_values={}, trial_id=81, state=TrialState.COMPLETE, value=None)\n"
     ]
    }
   ],
   "source": [
    "study = optuna.create_study(direction=\"maximize\")\n",
    "study.optimize(objective, n_trials=100)\n",
    "print(study.best_trial)"
   ]
  },
  {
   "cell_type": "code",
   "execution_count": null,
   "metadata": {},
   "outputs": [],
   "source": []
  },
  {
   "cell_type": "code",
   "execution_count": null,
   "metadata": {},
   "outputs": [],
   "source": []
  },
  {
   "cell_type": "code",
   "execution_count": 112,
   "metadata": {},
   "outputs": [],
   "source": [
    "def objective(trial):\n",
    "#     data, target = sklearn.datasets.load_breast_cancer(return_X_y=True)\n",
    "    train_x, valid_x, train_y, valid_y = train_test_split(X_under, y_under, test_size=0.25)\n",
    "    dtrain = lgb.Dataset(train_x, label=train_y)\n",
    "\n",
    "    param = {\n",
    "        \"objective\": \"binary\",\n",
    "        \"metric\": \"binary_logloss\",\n",
    "        \"verbosity\": -1,\n",
    "        \"boosting_type\": \"gbdt\",\n",
    "        \"lambda_l1\": trial.suggest_float(\"lambda_l1\", 1e-8, 10.0, log=True),\n",
    "        \"lambda_l2\": trial.suggest_float(\"lambda_l2\", 1e-8, 10.0, log=True),\n",
    "        \"num_leaves\": trial.suggest_int(\"num_leaves\", 2, 256),\n",
    "        \"feature_fraction\": trial.suggest_float(\"feature_fraction\", 0.4, 1.0),\n",
    "        \"bagging_fraction\": trial.suggest_float(\"bagging_fraction\", 0.4, 1.0),\n",
    "        \"bagging_freq\": trial.suggest_int(\"bagging_freq\", 1, 7),\n",
    "        \"min_child_samples\": trial.suggest_int(\"min_child_samples\", 5, 100),\n",
    "    }\n",
    "\n",
    "    gbm = lgb.train(param, dtrain)\n",
    "    preds = gbm.predict(valid_x)\n",
    "    pred_labels = np.rint(preds)\n",
    "    accuracy = sklearn.metrics.roc_auc_score(valid_y, pred_labels)\n",
    "    return accuracy"
   ]
  },
  {
   "cell_type": "code",
   "execution_count": 113,
   "metadata": {
    "scrolled": true
   },
   "outputs": [
    {
     "name": "stderr",
     "output_type": "stream",
     "text": [
      "\u001b[32m[I 2021-04-23 10:55:04,321]\u001b[0m A new study created in memory with name: no-name-d81cec3d-3e25-4c38-a46a-384a477548f8\u001b[0m\n",
      "\u001b[32m[I 2021-04-23 10:55:04,459]\u001b[0m Trial 0 finished with value: 0.9473162347964039 and parameters: {'lambda_l1': 2.5465877373876843e-05, 'lambda_l2': 5.742957237112198e-06, 'num_leaves': 18, 'feature_fraction': 0.4483095415869452, 'bagging_fraction': 0.8921931291642664, 'bagging_freq': 6, 'min_child_samples': 41}. Best is trial 0 with value: 0.9473162347964039.\u001b[0m\n",
      "\u001b[32m[I 2021-04-23 10:55:04,530]\u001b[0m Trial 1 finished with value: 0.9130880698736188 and parameters: {'lambda_l1': 0.06178762384353401, 'lambda_l2': 7.726522412129233, 'num_leaves': 210, 'feature_fraction': 0.6567211724073977, 'bagging_fraction': 0.42967073039394565, 'bagging_freq': 6, 'min_child_samples': 84}. Best is trial 0 with value: 0.9473162347964039.\u001b[0m\n",
      "\u001b[32m[I 2021-04-23 10:55:04,646]\u001b[0m Trial 2 finished with value: 0.9432539682539682 and parameters: {'lambda_l1': 1.6797050879539614e-08, 'lambda_l2': 0.4630844497497064, 'num_leaves': 56, 'feature_fraction': 0.6662431896290828, 'bagging_fraction': 0.628002966012794, 'bagging_freq': 4, 'min_child_samples': 23}. Best is trial 0 with value: 0.9473162347964039.\u001b[0m\n",
      "\u001b[32m[I 2021-04-23 10:55:04,791]\u001b[0m Trial 3 finished with value: 0.9346776859504131 and parameters: {'lambda_l1': 0.3159516671990648, 'lambda_l2': 0.08580496920990725, 'num_leaves': 60, 'feature_fraction': 0.7732102900360508, 'bagging_fraction': 0.6988299037703007, 'bagging_freq': 6, 'min_child_samples': 9}. Best is trial 0 with value: 0.9473162347964039.\u001b[0m\n",
      "\u001b[32m[I 2021-04-23 10:55:04,915]\u001b[0m Trial 4 finished with value: 0.9080699662095011 and parameters: {'lambda_l1': 5.183383358702004e-05, 'lambda_l2': 0.0016540591325255225, 'num_leaves': 138, 'feature_fraction': 0.5930183030841372, 'bagging_fraction': 0.7862899483012172, 'bagging_freq': 7, 'min_child_samples': 55}. Best is trial 0 with value: 0.9473162347964039.\u001b[0m\n",
      "\u001b[32m[I 2021-04-23 10:55:04,992]\u001b[0m Trial 5 finished with value: 0.9257936507936508 and parameters: {'lambda_l1': 0.014087825119297017, 'lambda_l2': 1.4853379744908482e-08, 'num_leaves': 187, 'feature_fraction': 0.7862342432560934, 'bagging_fraction': 0.5830685117007095, 'bagging_freq': 1, 'min_child_samples': 95}. Best is trial 0 with value: 0.9473162347964039.\u001b[0m\n",
      "\u001b[32m[I 2021-04-23 10:55:05,143]\u001b[0m Trial 6 finished with value: 0.955579058699101 and parameters: {'lambda_l1': 3.4690410574153455e-07, 'lambda_l2': 7.455513133580727e-07, 'num_leaves': 13, 'feature_fraction': 0.8604334112275684, 'bagging_fraction': 0.7167617269795721, 'bagging_freq': 2, 'min_child_samples': 29}. Best is trial 6 with value: 0.955579058699101.\u001b[0m\n",
      "\u001b[32m[I 2021-04-23 10:55:05,260]\u001b[0m Trial 7 finished with value: 0.9390243902439025 and parameters: {'lambda_l1': 1.0637154068631705e-06, 'lambda_l2': 0.0022113089626015076, 'num_leaves': 216, 'feature_fraction': 0.49028768180307564, 'bagging_fraction': 0.9163478565010498, 'bagging_freq': 2, 'min_child_samples': 65}. Best is trial 6 with value: 0.955579058699101.\u001b[0m\n",
      "\u001b[32m[I 2021-04-23 10:55:05,349]\u001b[0m Trial 8 finished with value: 0.9308943089430894 and parameters: {'lambda_l1': 0.007515266764764848, 'lambda_l2': 1.928304905133964e-05, 'num_leaves': 15, 'feature_fraction': 0.9736777646240489, 'bagging_fraction': 0.6673808206519165, 'bagging_freq': 7, 'min_child_samples': 85}. Best is trial 6 with value: 0.955579058699101.\u001b[0m\n",
      "\u001b[32m[I 2021-04-23 10:55:05,750]\u001b[0m Trial 9 finished with value: 0.9586202330508475 and parameters: {'lambda_l1': 1.6346128871861952e-05, 'lambda_l2': 1.2883920927463749e-05, 'num_leaves': 82, 'feature_fraction': 0.7559843335308214, 'bagging_fraction': 0.781220198435697, 'bagging_freq': 1, 'min_child_samples': 9}. Best is trial 9 with value: 0.9586202330508475.\u001b[0m\n",
      "\u001b[32m[I 2021-04-23 10:55:05,893]\u001b[0m Trial 10 finished with value: 0.918958223162348 and parameters: {'lambda_l1': 5.898673503853065, 'lambda_l2': 1.2433271402072933e-08, 'num_leaves': 117, 'feature_fraction': 0.9693083281917786, 'bagging_fraction': 0.9862738992790032, 'bagging_freq': 4, 'min_child_samples': 5}. Best is trial 9 with value: 0.9586202330508475.\u001b[0m\n",
      "\u001b[32m[I 2021-04-23 10:55:06,273]\u001b[0m Trial 11 finished with value: 0.9183632998413538 and parameters: {'lambda_l1': 1.47838679984546e-07, 'lambda_l2': 9.753331300519264e-07, 'num_leaves': 80, 'feature_fraction': 0.8618100549220513, 'bagging_fraction': 0.7996323785459755, 'bagging_freq': 2, 'min_child_samples': 27}. Best is trial 9 with value: 0.9586202330508475.\u001b[0m\n",
      "\u001b[32m[I 2021-04-23 10:55:06,562]\u001b[0m Trial 12 finished with value: 0.9401924991702623 and parameters: {'lambda_l1': 1.7650411214412025e-06, 'lambda_l2': 2.969534464821602e-07, 'num_leaves': 106, 'feature_fraction': 0.8650560473778792, 'bagging_fraction': 0.5408670549060702, 'bagging_freq': 1, 'min_child_samples': 22}. Best is trial 9 with value: 0.9586202330508475.\u001b[0m\n",
      "\u001b[32m[I 2021-04-23 10:55:06,807]\u001b[0m Trial 13 finished with value: 0.9526053767009626 and parameters: {'lambda_l1': 1.3233419518770513e-08, 'lambda_l2': 0.00010205077256407608, 'num_leaves': 13, 'feature_fraction': 0.8719153708044055, 'bagging_fraction': 0.7818464498594968, 'bagging_freq': 2, 'min_child_samples': 36}. Best is trial 9 with value: 0.9586202330508475.\u001b[0m\n",
      "\u001b[32m[I 2021-04-23 10:55:07,252]\u001b[0m Trial 14 finished with value: 0.9179253443342872 and parameters: {'lambda_l1': 0.0006799579024035482, 'lambda_l2': 2.9077799404140873e-07, 'num_leaves': 153, 'feature_fraction': 0.7537950757351342, 'bagging_fraction': 0.8506525641671, 'bagging_freq': 3, 'min_child_samples': 5}. Best is trial 9 with value: 0.9586202330508475.\u001b[0m\n",
      "\u001b[32m[I 2021-04-23 10:55:07,573]\u001b[0m Trial 15 finished with value: 0.9246021220159151 and parameters: {'lambda_l1': 3.977433161895794e-06, 'lambda_l2': 0.0001038037705692142, 'num_leaves': 45, 'feature_fraction': 0.9125413850916482, 'bagging_fraction': 0.7250044268787865, 'bagging_freq': 1, 'min_child_samples': 16}. Best is trial 9 with value: 0.9586202330508475.\u001b[0m\n",
      "\u001b[32m[I 2021-04-23 10:55:07,761]\u001b[0m Trial 16 finished with value: 0.9429436422915697 and parameters: {'lambda_l1': 9.569628700569564e-08, 'lambda_l2': 4.7806492419716865e-08, 'num_leaves': 89, 'feature_fraction': 0.567488393029522, 'bagging_fraction': 0.5249694517329533, 'bagging_freq': 3, 'min_child_samples': 40}. Best is trial 9 with value: 0.9586202330508475.\u001b[0m\n",
      "\u001b[32m[I 2021-04-23 10:55:07,888]\u001b[0m Trial 17 finished with value: 0.9248257550614006 and parameters: {'lambda_l1': 0.00035316043093312646, 'lambda_l2': 8.182621721712789e-06, 'num_leaves': 2, 'feature_fraction': 0.7186270095714573, 'bagging_fraction': 0.986702108176291, 'bagging_freq': 3, 'min_child_samples': 52}. Best is trial 9 with value: 0.9586202330508475.\u001b[0m\n",
      "\u001b[32m[I 2021-04-23 10:55:08,259]\u001b[0m Trial 18 finished with value: 0.9372326203208557 and parameters: {'lambda_l1': 4.054215908073763e-05, 'lambda_l2': 1.2806409486321985e-06, 'num_leaves': 254, 'feature_fraction': 0.8050654030518454, 'bagging_fraction': 0.7383876020137017, 'bagging_freq': 1, 'min_child_samples': 14}. Best is trial 9 with value: 0.9586202330508475.\u001b[0m\n",
      "\u001b[32m[I 2021-04-23 10:55:08,504]\u001b[0m Trial 19 finished with value: 0.9264939185616077 and parameters: {'lambda_l1': 2.4555305678569e-07, 'lambda_l2': 0.0013799666899032019, 'num_leaves': 37, 'feature_fraction': 0.9110385076404859, 'bagging_fraction': 0.6588367986507343, 'bagging_freq': 2, 'min_child_samples': 31}. Best is trial 9 with value: 0.9586202330508475.\u001b[0m\n",
      "\u001b[32m[I 2021-04-23 10:55:08,710]\u001b[0m Trial 20 finished with value: 0.9497970590192295 and parameters: {'lambda_l1': 6.958430664822433e-06, 'lambda_l2': 0.019513932065595457, 'num_leaves': 81, 'feature_fraction': 0.8200897850651336, 'bagging_fraction': 0.8502466042632741, 'bagging_freq': 5, 'min_child_samples': 49}. Best is trial 9 with value: 0.9586202330508475.\u001b[0m\n",
      "\u001b[32m[I 2021-04-23 10:55:08,890]\u001b[0m Trial 21 finished with value: 0.9355158730158729 and parameters: {'lambda_l1': 1.2513142339674674e-08, 'lambda_l2': 9.29496818396543e-05, 'num_leaves': 22, 'feature_fraction': 0.9055203823772398, 'bagging_fraction': 0.775952943583505, 'bagging_freq': 2, 'min_child_samples': 36}. Best is trial 9 with value: 0.9586202330508475.\u001b[0m\n"
     ]
    },
    {
     "name": "stderr",
     "output_type": "stream",
     "text": [
      "\u001b[32m[I 2021-04-23 10:55:09,012]\u001b[0m Trial 22 finished with value: 0.9244570974576272 and parameters: {'lambda_l1': 1.0837318058419702e-08, 'lambda_l2': 3.84544168467629e-05, 'num_leaves': 4, 'feature_fraction': 0.85578629917114, 'bagging_fraction': 0.8330608476598809, 'bagging_freq': 2, 'min_child_samples': 18}. Best is trial 9 with value: 0.9586202330508475.\u001b[0m\n",
      "\u001b[32m[I 2021-04-23 10:55:09,268]\u001b[0m Trial 23 finished with value: 0.9431517715494447 and parameters: {'lambda_l1': 2.8127459040575e-07, 'lambda_l2': 0.000334102791166042, 'num_leaves': 37, 'feature_fraction': 0.7399099669686995, 'bagging_fraction': 0.7515500714666219, 'bagging_freq': 3, 'min_child_samples': 35}. Best is trial 9 with value: 0.9586202330508475.\u001b[0m\n",
      "\u001b[32m[I 2021-04-23 10:55:09,428]\u001b[0m Trial 24 finished with value: 0.9339285714285713 and parameters: {'lambda_l1': 6.233675781745595e-08, 'lambda_l2': 2.7344145414972593e-06, 'num_leaves': 66, 'feature_fraction': 0.9519973746312201, 'bagging_fraction': 0.9025983463703291, 'bagging_freq': 1, 'min_child_samples': 62}. Best is trial 9 with value: 0.9586202330508475.\u001b[0m\n",
      "\u001b[32m[I 2021-04-23 10:55:09,560]\u001b[0m Trial 25 finished with value: 0.9577483531838447 and parameters: {'lambda_l1': 1.326897209033559e-06, 'lambda_l2': 1.7272097308167506e-07, 'num_leaves': 5, 'feature_fraction': 0.8304769861835584, 'bagging_fraction': 0.7015800866802989, 'bagging_freq': 2, 'min_child_samples': 44}. Best is trial 9 with value: 0.9586202330508475.\u001b[0m\n",
      "\u001b[32m[I 2021-04-23 10:55:09,694]\u001b[0m Trial 26 finished with value: 0.9440476190476189 and parameters: {'lambda_l1': 8.64829621642774e-06, 'lambda_l2': 7.152308851470555e-08, 'num_leaves': 154, 'feature_fraction': 0.688631542044509, 'bagging_fraction': 0.6119338485178787, 'bagging_freq': 3, 'min_child_samples': 49}. Best is trial 9 with value: 0.9586202330508475.\u001b[0m\n",
      "\u001b[32m[I 2021-04-23 10:55:09,827]\u001b[0m Trial 27 finished with value: 0.9153846153846155 and parameters: {'lambda_l1': 1.088354957118442e-06, 'lambda_l2': 2.2213344615887074e-07, 'num_leaves': 28, 'feature_fraction': 0.8162910229945938, 'bagging_fraction': 0.6976579603276575, 'bagging_freq': 1, 'min_child_samples': 68}. Best is trial 9 with value: 0.9586202330508475.\u001b[0m\n",
      "\u001b[32m[I 2021-04-23 10:55:10,022]\u001b[0m Trial 28 finished with value: 0.9495798319327731 and parameters: {'lambda_l1': 0.00010472070079416558, 'lambda_l2': 5.921627493360227e-08, 'num_leaves': 105, 'feature_fraction': 0.7135784018256596, 'bagging_fraction': 0.6852636101894357, 'bagging_freq': 2, 'min_child_samples': 27}. Best is trial 9 with value: 0.9586202330508475.\u001b[0m\n",
      "\u001b[32m[I 2021-04-23 10:55:10,176]\u001b[0m Trial 29 finished with value: 0.9342809917355372 and parameters: {'lambda_l1': 1.9091519152450962e-05, 'lambda_l2': 4.968790470180337e-06, 'num_leaves': 5, 'feature_fraction': 0.6317770283681665, 'bagging_fraction': 0.9314980459553435, 'bagging_freq': 4, 'min_child_samples': 43}. Best is trial 9 with value: 0.9586202330508475.\u001b[0m\n",
      "\u001b[32m[I 2021-04-23 10:55:10,405]\u001b[0m Trial 30 finished with value: 0.9362138556209885 and parameters: {'lambda_l1': 6.660419004927179e-07, 'lambda_l2': 8.482772068457464e-07, 'num_leaves': 56, 'feature_fraction': 0.8291482237042369, 'bagging_fraction': 0.6319589505750266, 'bagging_freq': 1, 'min_child_samples': 44}. Best is trial 9 with value: 0.9586202330508475.\u001b[0m\n",
      "\u001b[32m[I 2021-04-23 10:55:10,590]\u001b[0m Trial 31 finished with value: 0.937885112303717 and parameters: {'lambda_l1': 4.12271432684061e-08, 'lambda_l2': 1.4544797095188396e-05, 'num_leaves': 13, 'feature_fraction': 0.8829668465285986, 'bagging_fraction': 0.8211608631652159, 'bagging_freq': 2, 'min_child_samples': 35}. Best is trial 9 with value: 0.9586202330508475.\u001b[0m\n",
      "\u001b[32m[I 2021-04-23 10:55:10,679]\u001b[0m Trial 32 finished with value: 0.943089430894309 and parameters: {'lambda_l1': 5.1811420102921865e-06, 'lambda_l2': 0.0003687032097173288, 'num_leaves': 2, 'feature_fraction': 0.932976026311022, 'bagging_fraction': 0.7661887828262663, 'bagging_freq': 2, 'min_child_samples': 56}. Best is trial 9 with value: 0.9586202330508475.\u001b[0m\n",
      "\u001b[32m[I 2021-04-23 10:55:10,902]\u001b[0m Trial 33 finished with value: 0.9152970922882427 and parameters: {'lambda_l1': 3.624026146782681e-08, 'lambda_l2': 6.486745235585606e-05, 'num_leaves': 23, 'feature_fraction': 0.7847946365563608, 'bagging_fraction': 0.7344587760737848, 'bagging_freq': 3, 'min_child_samples': 29}. Best is trial 9 with value: 0.9586202330508475.\u001b[0m\n",
      "\u001b[32m[I 2021-04-23 10:55:11,151]\u001b[0m Trial 34 finished with value: 0.9627142195460862 and parameters: {'lambda_l1': 4.890423608233627e-07, 'lambda_l2': 2.787315089531009e-06, 'num_leaves': 46, 'feature_fraction': 0.8503105694227951, 'bagging_fraction': 0.8657372655094373, 'bagging_freq': 5, 'min_child_samples': 23}. Best is trial 34 with value: 0.9627142195460862.\u001b[0m\n",
      "\u001b[32m[I 2021-04-23 10:55:11,511]\u001b[0m Trial 35 finished with value: 0.9535145888594165 and parameters: {'lambda_l1': 4.2881041710648566e-07, 'lambda_l2': 3.0384219411510512e-06, 'num_leaves': 68, 'feature_fraction': 0.7517810956556162, 'bagging_fraction': 0.8559179007368436, 'bagging_freq': 5, 'min_child_samples': 10}. Best is trial 34 with value: 0.9627142195460862.\u001b[0m\n",
      "\u001b[32m[I 2021-04-23 10:55:11,705]\u001b[0m Trial 36 finished with value: 0.9345584346906399 and parameters: {'lambda_l1': 1.945448893908486e-06, 'lambda_l2': 2.0440879115820916e-07, 'num_leaves': 46, 'feature_fraction': 0.8341506331134981, 'bagging_fraction': 0.42536268215376194, 'bagging_freq': 5, 'min_child_samples': 20}. Best is trial 34 with value: 0.9627142195460862.\u001b[0m\n",
      "\u001b[32m[I 2021-04-23 10:55:11,997]\u001b[0m Trial 37 finished with value: 0.941976127320955 and parameters: {'lambda_l1': 0.00012244737755329335, 'lambda_l2': 1.0993426605684366e-06, 'num_leaves': 91, 'feature_fraction': 0.6681790760396883, 'bagging_fraction': 0.9541552818966809, 'bagging_freq': 6, 'min_child_samples': 10}. Best is trial 34 with value: 0.9627142195460862.\u001b[0m\n",
      "\u001b[32m[I 2021-04-23 10:55:12,157]\u001b[0m Trial 38 finished with value: 0.9430856689582232 and parameters: {'lambda_l1': 1.601271922411204e-05, 'lambda_l2': 7.4114197818541445, 'num_leaves': 36, 'feature_fraction': 0.7809576665658473, 'bagging_fraction': 0.8119811447580327, 'bagging_freq': 5, 'min_child_samples': 23}. Best is trial 34 with value: 0.9627142195460862.\u001b[0m\n",
      "\u001b[32m[I 2021-04-23 10:55:12,416]\u001b[0m Trial 39 finished with value: 0.9305922792173453 and parameters: {'lambda_l1': 0.003066946468494825, 'lambda_l2': 1.875386592901829e-08, 'num_leaves': 47, 'feature_fraction': 0.9903221910964888, 'bagging_fraction': 0.8770062869443853, 'bagging_freq': 6, 'min_child_samples': 14}. Best is trial 34 with value: 0.9627142195460862.\u001b[0m\n",
      "\u001b[32m[I 2021-04-23 10:55:12,590]\u001b[0m Trial 40 finished with value: 0.9443193855932203 and parameters: {'lambda_l1': 3.2636391966801195e-06, 'lambda_l2': 1.8346169504286292e-05, 'num_leaves': 130, 'feature_fraction': 0.4237828753258782, 'bagging_fraction': 0.7088343343167629, 'bagging_freq': 4, 'min_child_samples': 24}. Best is trial 34 with value: 0.9627142195460862.\u001b[0m\n",
      "\u001b[32m[I 2021-04-23 10:55:12,959]\u001b[0m Trial 41 finished with value: 0.9517355371900826 and parameters: {'lambda_l1': 4.155856063595642e-07, 'lambda_l2': 2.60447893856535e-06, 'num_leaves': 71, 'feature_fraction': 0.7519600387028971, 'bagging_fraction': 0.876219736524413, 'bagging_freq': 5, 'min_child_samples': 9}. Best is trial 34 with value: 0.9627142195460862.\u001b[0m\n",
      "\u001b[32m[I 2021-04-23 10:55:13,310]\u001b[0m Trial 42 finished with value: 0.9573365231259968 and parameters: {'lambda_l1': 6.315583679729839e-07, 'lambda_l2': 4.8107669271365635e-06, 'num_leaves': 65, 'feature_fraction': 0.7626839225912809, 'bagging_fraction': 0.8587451592603123, 'bagging_freq': 5, 'min_child_samples': 10}. Best is trial 34 with value: 0.9627142195460862.\u001b[0m\n",
      "\u001b[32m[I 2021-04-23 10:55:13,676]\u001b[0m Trial 43 finished with value: 0.9146341463414633 and parameters: {'lambda_l1': 1.1596881483137934e-06, 'lambda_l2': 5.453674168721998e-07, 'num_leaves': 59, 'feature_fraction': 0.842837148701773, 'bagging_fraction': 0.9455592517464497, 'bagging_freq': 4, 'min_child_samples': 7}. Best is trial 34 with value: 0.9627142195460862.\u001b[0m\n",
      "\u001b[32m[I 2021-04-23 10:55:13,873]\u001b[0m Trial 44 finished with value: 0.9354177683765204 and parameters: {'lambda_l1': 9.48709406994873e-06, 'lambda_l2': 9.93825667173164e-06, 'num_leaves': 100, 'feature_fraction': 0.7966804251963558, 'bagging_fraction': 0.8075316910031396, 'bagging_freq': 5, 'min_child_samples': 32}. Best is trial 34 with value: 0.9627142195460862.\u001b[0m\n"
     ]
    },
    {
     "name": "stderr",
     "output_type": "stream",
     "text": [
      "\u001b[32m[I 2021-04-23 10:55:14,181]\u001b[0m Trial 45 finished with value: 0.9190904283447912 and parameters: {'lambda_l1': 1.2900401677414448e-07, 'lambda_l2': 2.0269841435321205e-06, 'num_leaves': 115, 'feature_fraction': 0.8819573035191441, 'bagging_fraction': 0.6537890933719718, 'bagging_freq': 6, 'min_child_samples': 14}. Best is trial 34 with value: 0.9627142195460862.\u001b[0m\n",
      "\u001b[32m[I 2021-04-23 10:55:14,403]\u001b[0m Trial 46 finished with value: 0.926829268292683 and parameters: {'lambda_l1': 2.320124266644594e-06, 'lambda_l2': 1.19047702908117e-07, 'num_leaves': 31, 'feature_fraction': 0.7274568817318257, 'bagging_fraction': 0.5915529790637152, 'bagging_freq': 6, 'min_child_samples': 19}. Best is trial 34 with value: 0.9627142195460862.\u001b[0m\n",
      "\u001b[32m[I 2021-04-23 10:55:14,618]\u001b[0m Trial 47 finished with value: 0.934690639873083 and parameters: {'lambda_l1': 3.7994099390207763e-05, 'lambda_l2': 2.4611224611642914e-08, 'num_leaves': 78, 'feature_fraction': 0.7689248205302663, 'bagging_fraction': 0.758918637144562, 'bagging_freq': 7, 'min_child_samples': 24}. Best is trial 34 with value: 0.9627142195460862.\u001b[0m\n",
      "\u001b[32m[I 2021-04-23 10:55:14,789]\u001b[0m Trial 48 finished with value: 0.928211085297046 and parameters: {'lambda_l1': 1.7817236534381437e-07, 'lambda_l2': 3.169049462208019e-05, 'num_leaves': 49, 'feature_fraction': 0.6800705398147001, 'bagging_fraction': 0.8850984881897865, 'bagging_freq': 5, 'min_child_samples': 41}. Best is trial 34 with value: 0.9627142195460862.\u001b[0m\n",
      "\u001b[32m[I 2021-04-23 10:55:15,035]\u001b[0m Trial 49 finished with value: 0.9474484399788471 and parameters: {'lambda_l1': 3.10068695867531e-08, 'lambda_l2': 3.9499179895072204e-07, 'num_leaves': 18, 'feature_fraction': 0.6129477540824257, 'bagging_fraction': 0.7884222683881076, 'bagging_freq': 4, 'min_child_samples': 5}. Best is trial 34 with value: 0.9627142195460862.\u001b[0m\n",
      "\u001b[32m[I 2021-04-23 10:55:15,315]\u001b[0m Trial 50 finished with value: 0.9473823373876256 and parameters: {'lambda_l1': 6.883317324582816e-07, 'lambda_l2': 7.697291413855262e-06, 'num_leaves': 55, 'feature_fraction': 0.7040385139706564, 'bagging_fraction': 0.7085847096550092, 'bagging_freq': 1, 'min_child_samples': 12}. Best is trial 34 with value: 0.9627142195460862.\u001b[0m\n",
      "\u001b[32m[I 2021-04-23 10:55:15,582]\u001b[0m Trial 51 finished with value: 0.9109598096245373 and parameters: {'lambda_l1': 4.1843798451137896e-07, 'lambda_l2': 3.338520204555027e-06, 'num_leaves': 67, 'feature_fraction': 0.7634186226746638, 'bagging_fraction': 0.8450579843044722, 'bagging_freq': 5, 'min_child_samples': 17}. Best is trial 34 with value: 0.9627142195460862.\u001b[0m\n",
      "\u001b[32m[I 2021-04-23 10:55:15,942]\u001b[0m Trial 52 finished with value: 0.9377688083107258 and parameters: {'lambda_l1': 1.1926390072708592e-07, 'lambda_l2': 5.936209915986228e-07, 'num_leaves': 94, 'feature_fraction': 0.8028964541053625, 'bagging_fraction': 0.8527695549111222, 'bagging_freq': 5, 'min_child_samples': 10}. Best is trial 34 with value: 0.9627142195460862.\u001b[0m\n",
      "\u001b[32m[I 2021-04-23 10:55:16,377]\u001b[0m Trial 53 finished with value: 0.9404155362932574 and parameters: {'lambda_l1': 5.735239163667772e-07, 'lambda_l2': 5.850560324361007e-06, 'num_leaves': 77, 'feature_fraction': 0.8531455438044593, 'bagging_fraction': 0.9186400771901557, 'bagging_freq': 4, 'min_child_samples': 5}. Best is trial 34 with value: 0.9627142195460862.\u001b[0m\n",
      "\u001b[32m[I 2021-04-23 10:55:16,522]\u001b[0m Trial 54 finished with value: 0.9303542673107892 and parameters: {'lambda_l1': 1.6676633263712333, 'lambda_l2': 1.428560426899831e-06, 'num_leaves': 85, 'feature_fraction': 0.7472082015570394, 'bagging_fraction': 0.8633342190893929, 'bagging_freq': 5, 'min_child_samples': 27}. Best is trial 34 with value: 0.9627142195460862.\u001b[0m\n",
      "\u001b[32m[I 2021-04-23 10:55:16,944]\u001b[0m Trial 55 finished with value: 0.9349593495934958 and parameters: {'lambda_l1': 1.7994726644014795e-06, 'lambda_l2': 1.4031900812887458e-07, 'num_leaves': 41, 'feature_fraction': 0.9002720362405918, 'bagging_fraction': 0.7914210275929892, 'bagging_freq': 6, 'min_child_samples': 16}. Best is trial 34 with value: 0.9627142195460862.\u001b[0m\n",
      "\u001b[32m[I 2021-04-23 10:55:17,206]\u001b[0m Trial 56 finished with value: 0.9146341463414634 and parameters: {'lambda_l1': 2.5848549011308163e-07, 'lambda_l2': 3.4278839779555634e-05, 'num_leaves': 66, 'feature_fraction': 0.8042391918463879, 'bagging_fraction': 0.8983159190598682, 'bagging_freq': 6, 'min_child_samples': 20}. Best is trial 34 with value: 0.9627142195460862.\u001b[0m\n",
      "\u001b[32m[I 2021-04-23 10:55:17,381]\u001b[0m Trial 57 finished with value: 0.9228582760444209 and parameters: {'lambda_l1': 3.861801710697006e-06, 'lambda_l2': 0.0001513861045120255, 'num_leaves': 116, 'feature_fraction': 0.939808883151041, 'bagging_fraction': 0.8285206405331936, 'bagging_freq': 4, 'min_child_samples': 76}. Best is trial 34 with value: 0.9627142195460862.\u001b[0m\n",
      "\u001b[32m[I 2021-04-23 10:55:17,493]\u001b[0m Trial 58 finished with value: 0.9527511961722488 and parameters: {'lambda_l1': 6.66770739642558e-08, 'lambda_l2': 0.0008429867328853596, 'num_leaves': 28, 'feature_fraction': 0.730887556280428, 'bagging_fraction': 0.6732621285474818, 'bagging_freq': 3, 'min_child_samples': 98}. Best is trial 34 with value: 0.9627142195460862.\u001b[0m\n",
      "\u001b[32m[I 2021-04-23 10:55:17,672]\u001b[0m Trial 59 finished with value: 0.9347567424643046 and parameters: {'lambda_l1': 1.281180957258246e-05, 'lambda_l2': 0.009037559372268448, 'num_leaves': 12, 'feature_fraction': 0.826399749959177, 'bagging_fraction': 0.967653944373791, 'bagging_freq': 5, 'min_child_samples': 33}. Best is trial 34 with value: 0.9627142195460862.\u001b[0m\n",
      "\u001b[32m[I 2021-04-23 10:55:17,839]\u001b[0m Trial 60 finished with value: 0.9230155033601704 and parameters: {'lambda_l1': 8.63268014123266e-05, 'lambda_l2': 1.7989822250002135e-06, 'num_leaves': 143, 'feature_fraction': 0.6455759150826885, 'bagging_fraction': 0.74293597104311, 'bagging_freq': 7, 'min_child_samples': 38}. Best is trial 34 with value: 0.9627142195460862.\u001b[0m\n",
      "\u001b[32m[I 2021-04-23 10:55:17,962]\u001b[0m Trial 61 finished with value: 0.9473162347964039 and parameters: {'lambda_l1': 8.554537065629207e-08, 'lambda_l2': 0.0013543237624006005, 'num_leaves': 29, 'feature_fraction': 0.731700214539807, 'bagging_fraction': 0.6820189179491863, 'bagging_freq': 3, 'min_child_samples': 92}. Best is trial 34 with value: 0.9627142195460862.\u001b[0m\n",
      "\u001b[32m[I 2021-04-23 10:55:18,113]\u001b[0m Trial 62 finished with value: 0.9554468535166578 and parameters: {'lambda_l1': 5.922980224015524e-08, 'lambda_l2': 0.0007278088693694909, 'num_leaves': 50, 'feature_fraction': 0.7725459427136713, 'bagging_fraction': 0.641766846153188, 'bagging_freq': 2, 'min_child_samples': 48}. Best is trial 34 with value: 0.9627142195460862.\u001b[0m\n",
      "\u001b[32m[I 2021-04-23 10:55:18,243]\u001b[0m Trial 63 finished with value: 0.9180988894764676 and parameters: {'lambda_l1': 1.0206194188024506e-06, 'lambda_l2': 0.005331959535649107, 'num_leaves': 54, 'feature_fraction': 0.7729419132551065, 'bagging_fraction': 0.5316938071848677, 'bagging_freq': 2, 'min_child_samples': 50}. Best is trial 34 with value: 0.9627142195460862.\u001b[0m\n",
      "\u001b[32m[I 2021-04-23 10:55:18,391]\u001b[0m Trial 64 finished with value: 0.9422809917355373 and parameters: {'lambda_l1': 1.7158770381340084e-08, 'lambda_l2': 0.00018826020004427007, 'num_leaves': 62, 'feature_fraction': 0.8461040437232185, 'bagging_fraction': 0.643801047402071, 'bagging_freq': 2, 'min_child_samples': 46}. Best is trial 34 with value: 0.9627142195460862.\u001b[0m\n",
      "\u001b[32m[I 2021-04-23 10:55:18,524]\u001b[0m Trial 65 finished with value: 0.9503738503275326 and parameters: {'lambda_l1': 2.818668650665995e-07, 'lambda_l2': 5.1193198934001006e-06, 'num_leaves': 72, 'feature_fraction': 0.8747052943871058, 'bagging_fraction': 0.5594707023711913, 'bagging_freq': 1, 'min_child_samples': 58}. Best is trial 34 with value: 0.9627142195460862.\u001b[0m\n",
      "\u001b[32m[I 2021-04-23 10:55:18,681]\u001b[0m Trial 66 finished with value: 0.9488987956617209 and parameters: {'lambda_l1': 2.3159883412970883e-08, 'lambda_l2': 0.05793107438018725, 'num_leaves': 172, 'feature_fraction': 0.7909556601237123, 'bagging_fraction': 0.7224792889269265, 'bagging_freq': 2, 'min_child_samples': 46}. Best is trial 34 with value: 0.9627142195460862.\u001b[0m\n",
      "\u001b[32m[I 2021-04-23 10:55:18,807]\u001b[0m Trial 67 finished with value: 0.9553146483342146 and parameters: {'lambda_l1': 1.349659999752401e-06, 'lambda_l2': 1.2917160779833496e-05, 'num_leaves': 39, 'feature_fraction': 0.6968197635694509, 'bagging_fraction': 0.6216699523453811, 'bagging_freq': 1, 'min_child_samples': 58}. Best is trial 34 with value: 0.9627142195460862.\u001b[0m\n"
     ]
    },
    {
     "name": "stderr",
     "output_type": "stream",
     "text": [
      "\u001b[32m[I 2021-04-23 10:55:18,926]\u001b[0m Trial 68 finished with value: 0.9634146341463417 and parameters: {'lambda_l1': 5.739258906689734e-06, 'lambda_l2': 1.266488971587882e-05, 'num_leaves': 11, 'feature_fraction': 0.6985910297159353, 'bagging_fraction': 0.50236305624781, 'bagging_freq': 1, 'min_child_samples': 62}. Best is trial 68 with value: 0.9634146341463417.\u001b[0m\n",
      "\u001b[32m[I 2021-04-23 10:55:19,045]\u001b[0m Trial 69 finished with value: 0.9471544715447154 and parameters: {'lambda_l1': 7.052275450294143e-06, 'lambda_l2': 5.713218137763786e-05, 'num_leaves': 12, 'feature_fraction': 0.580787223358135, 'bagging_fraction': 0.593430249437928, 'bagging_freq': 1, 'min_child_samples': 71}. Best is trial 68 with value: 0.9634146341463417.\u001b[0m\n",
      "\u001b[32m[I 2021-04-23 10:55:19,169]\u001b[0m Trial 70 finished with value: 0.9246411483253589 and parameters: {'lambda_l1': 3.542876844612373e-05, 'lambda_l2': 3.49014903848342e-08, 'num_leaves': 6, 'feature_fraction': 0.5126953113161011, 'bagging_fraction': 0.5096002831682639, 'bagging_freq': 1, 'min_child_samples': 61}. Best is trial 68 with value: 0.9634146341463417.\u001b[0m\n",
      "\u001b[32m[I 2021-04-23 10:55:19,277]\u001b[0m Trial 71 finished with value: 0.9791666666666667 and parameters: {'lambda_l1': 1.04810668964607e-06, 'lambda_l2': 1.4411405545636064e-05, 'num_leaves': 21, 'feature_fraction': 0.695262536856741, 'bagging_fraction': 0.44244030459382727, 'bagging_freq': 1, 'min_child_samples': 54}. Best is trial 71 with value: 0.9791666666666667.\u001b[0m\n",
      "\u001b[32m[I 2021-04-23 10:55:19,413]\u001b[0m Trial 72 finished with value: 0.9466776859504132 and parameters: {'lambda_l1': 3.3079950448346423e-06, 'lambda_l2': 9.61808444856984e-07, 'num_leaves': 24, 'feature_fraction': 0.7125731841983457, 'bagging_fraction': 0.47798885391872575, 'bagging_freq': 2, 'min_child_samples': 54}. Best is trial 71 with value: 0.9791666666666667.\u001b[0m\n",
      "\u001b[32m[I 2021-04-23 10:55:19,527]\u001b[0m Trial 73 finished with value: 0.9556342221928141 and parameters: {'lambda_l1': 9.775085538182825e-07, 'lambda_l2': 1.0187523907329186e-08, 'num_leaves': 18, 'feature_fraction': 0.6663039470985705, 'bagging_fraction': 0.40478580080446436, 'bagging_freq': 1, 'min_child_samples': 63}. Best is trial 71 with value: 0.9791666666666667.\u001b[0m\n",
      "\u001b[32m[I 2021-04-23 10:55:19,625]\u001b[0m Trial 74 finished with value: 0.9332137161084529 and parameters: {'lambda_l1': 8.225702484127415e-07, 'lambda_l2': 2.2866208286505015e-05, 'num_leaves': 16, 'feature_fraction': 0.6670349800189488, 'bagging_fraction': 0.4090563592267507, 'bagging_freq': 1, 'min_child_samples': 64}. Best is trial 71 with value: 0.9791666666666667.\u001b[0m\n",
      "\u001b[32m[I 2021-04-23 10:55:19,750]\u001b[0m Trial 75 finished with value: 0.9401508634950042 and parameters: {'lambda_l1': 0.0002765578265945883, 'lambda_l2': 9.283752420635523e-08, 'num_leaves': 3, 'feature_fraction': 0.6425557095495822, 'bagging_fraction': 0.46355755638381324, 'bagging_freq': 1, 'min_child_samples': 71}. Best is trial 71 with value: 0.9791666666666667.\u001b[0m\n",
      "\u001b[32m[I 2021-04-23 10:55:19,860]\u001b[0m Trial 76 finished with value: 0.9236088136041818 and parameters: {'lambda_l1': 2.105333254309427e-05, 'lambda_l2': 3.950129027539288e-07, 'num_leaves': 35, 'feature_fraction': 0.6301272595199144, 'bagging_fraction': 0.4663525903024909, 'bagging_freq': 1, 'min_child_samples': 69}. Best is trial 71 with value: 0.9791666666666667.\u001b[0m\n",
      "\u001b[32m[I 2021-04-23 10:55:19,978]\u001b[0m Trial 77 finished with value: 0.952491232713558 and parameters: {'lambda_l1': 1.7874309393810957e-06, 'lambda_l2': 3.995498462248863e-06, 'num_leaves': 20, 'feature_fraction': 0.6809404991513106, 'bagging_fraction': 0.4287770166682699, 'bagging_freq': 1, 'min_child_samples': 78}. Best is trial 71 with value: 0.9791666666666667.\u001b[0m\n",
      "\u001b[32m[I 2021-04-23 10:55:20,093]\u001b[0m Trial 78 finished with value: 0.9310549973558963 and parameters: {'lambda_l1': 5.804316348982248e-06, 'lambda_l2': 1.7573114556744363e-05, 'num_leaves': 9, 'feature_fraction': 0.8950821290091288, 'bagging_fraction': 0.4466012442943487, 'bagging_freq': 1, 'min_child_samples': 62}. Best is trial 71 with value: 0.9791666666666667.\u001b[0m\n",
      "\u001b[32m[I 2021-04-23 10:55:20,209]\u001b[0m Trial 79 finished with value: 0.938921205711264 and parameters: {'lambda_l1': 2.058470669180029e-07, 'lambda_l2': 7.58748468749096e-06, 'num_leaves': 25, 'feature_fraction': 0.6115665364544225, 'bagging_fraction': 0.4021261225188074, 'bagging_freq': 1, 'min_child_samples': 52}. Best is trial 71 with value: 0.9791666666666667.\u001b[0m\n",
      "\u001b[32m[I 2021-04-23 10:55:20,328]\u001b[0m Trial 80 finished with value: 0.9346346346346348 and parameters: {'lambda_l1': 3.267113234469979e-06, 'lambda_l2': 5.740236365190736e-05, 'num_leaves': 41, 'feature_fraction': 0.8126440909421029, 'bagging_fraction': 0.49247629611014765, 'bagging_freq': 2, 'min_child_samples': 59}. Best is trial 71 with value: 0.9791666666666667.\u001b[0m\n",
      "\u001b[32m[I 2021-04-23 10:55:20,473]\u001b[0m Trial 81 finished with value: 0.9269056503198295 and parameters: {'lambda_l1': 3.873237682905952e-07, 'lambda_l2': 1.0516223101514169e-08, 'num_leaves': 51, 'feature_fraction': 0.7145082534592448, 'bagging_fraction': 0.7668547734175097, 'bagging_freq': 2, 'min_child_samples': 56}. Best is trial 71 with value: 0.9791666666666667.\u001b[0m\n",
      "\u001b[32m[I 2021-04-23 10:55:20,593]\u001b[0m Trial 82 finished with value: 0.9342809917355372 and parameters: {'lambda_l1': 7.088739864329536e-07, 'lambda_l2': 1.7427671330774973e-06, 'num_leaves': 34, 'feature_fraction': 0.7619219041810587, 'bagging_fraction': 0.4451368477405017, 'bagging_freq': 2, 'min_child_samples': 67}. Best is trial 71 with value: 0.9791666666666667.\u001b[0m\n",
      "\u001b[32m[I 2021-04-23 10:55:20,693]\u001b[0m Trial 83 finished with value: 0.915185676392573 and parameters: {'lambda_l1': 4.5228068906131596e-08, 'lambda_l2': 6.167823059447162e-07, 'num_leaves': 2, 'feature_fraction': 0.7824873964827013, 'bagging_fraction': 0.5671924565017304, 'bagging_freq': 2, 'min_child_samples': 49}. Best is trial 71 with value: 0.9791666666666667.\u001b[0m\n",
      "\u001b[32m[I 2021-04-23 10:55:20,876]\u001b[0m Trial 84 finished with value: 0.9102987837123215 and parameters: {'lambda_l1': 1.354678906684508e-07, 'lambda_l2': 0.00011776217770287154, 'num_leaves': 242, 'feature_fraction': 0.8601824317648169, 'bagging_fraction': 0.6974971576167608, 'bagging_freq': 1, 'min_child_samples': 44}. Best is trial 71 with value: 0.9791666666666667.\u001b[0m\n",
      "\u001b[32m[I 2021-04-23 10:55:20,995]\u001b[0m Trial 85 finished with value: 0.9519841269841269 and parameters: {'lambda_l1': 1.0284464484290421e-05, 'lambda_l2': 0.0002893250699746784, 'num_leaves': 46, 'feature_fraction': 0.6954008129722206, 'bagging_fraction': 0.4168202602503271, 'bagging_freq': 2, 'min_child_samples': 39}. Best is trial 71 with value: 0.9791666666666667.\u001b[0m\n",
      "\u001b[32m[I 2021-04-23 10:55:21,142]\u001b[0m Trial 86 finished with value: 0.9238830667402097 and parameters: {'lambda_l1': 1.234480391675202e-06, 'lambda_l2': 0.0007629209855023923, 'num_leaves': 19, 'feature_fraction': 0.7394266038509378, 'bagging_fraction': 0.7140566459594022, 'bagging_freq': 3, 'min_child_samples': 51}. Best is trial 71 with value: 0.9791666666666667.\u001b[0m\n",
      "\u001b[32m[I 2021-04-23 10:55:21,322]\u001b[0m Trial 87 finished with value: 0.9362732095490717 and parameters: {'lambda_l1': 2.291742161454197e-06, 'lambda_l2': 3.11274640389988e-07, 'num_leaves': 62, 'feature_fraction': 0.8357513835607648, 'bagging_fraction': 0.8329200267343813, 'bagging_freq': 1, 'min_child_samples': 47}. Best is trial 71 with value: 0.9791666666666667.\u001b[0m\n",
      "\u001b[32m[I 2021-04-23 10:55:21,488]\u001b[0m Trial 88 finished with value: 0.9470238095238095 and parameters: {'lambda_l1': 3.968326664291158e-07, 'lambda_l2': 1.0965507013478637e-05, 'num_leaves': 31, 'feature_fraction': 0.656096793412712, 'bagging_fraction': 0.8020647878956455, 'bagging_freq': 2, 'min_child_samples': 42}. Best is trial 71 with value: 0.9791666666666667.\u001b[0m\n",
      "\u001b[32m[I 2021-04-23 10:55:21,641]\u001b[0m Trial 89 finished with value: 0.935844809322034 and parameters: {'lambda_l1': 4.959649547663106e-06, 'lambda_l2': 2.7818412880075988e-06, 'num_leaves': 9, 'feature_fraction': 0.8183777719100207, 'bagging_fraction': 0.912986207056952, 'bagging_freq': 1, 'min_child_samples': 54}. Best is trial 71 with value: 0.9791666666666667.\u001b[0m\n",
      "\u001b[32m[I 2021-04-23 10:55:21,795]\u001b[0m Trial 90 finished with value: 0.9473823373876256 and parameters: {'lambda_l1': 2.210799553145815e-07, 'lambda_l2': 2.7046785222772686e-05, 'num_leaves': 17, 'feature_fraction': 0.6786117665274193, 'bagging_fraction': 0.7470595829945671, 'bagging_freq': 1, 'min_child_samples': 63}. Best is trial 71 with value: 0.9791666666666667.\u001b[0m\n"
     ]
    },
    {
     "name": "stderr",
     "output_type": "stream",
     "text": [
      "\u001b[32m[I 2021-04-23 10:55:21,942]\u001b[0m Trial 91 finished with value: 0.9300239234449761 and parameters: {'lambda_l1': 1.2927827857494518e-06, 'lambda_l2': 1.1966232604605025e-05, 'num_leaves': 43, 'feature_fraction': 0.6966249685566004, 'bagging_fraction': 0.633900923869775, 'bagging_freq': 1, 'min_child_samples': 59}. Best is trial 71 with value: 0.9791666666666667.\u001b[0m\n",
      "\u001b[32m[I 2021-04-23 10:55:22,075]\u001b[0m Trial 92 finished with value: 0.9255730277185501 and parameters: {'lambda_l1': 5.895601698702159e-07, 'lambda_l2': 4.7955316639052805e-05, 'num_leaves': 38, 'feature_fraction': 0.7103048438333033, 'bagging_fraction': 0.6151857179228062, 'bagging_freq': 1, 'min_child_samples': 66}. Best is trial 71 with value: 0.9791666666666667.\u001b[0m\n",
      "\u001b[32m[I 2021-04-23 10:55:22,231]\u001b[0m Trial 93 finished with value: 0.9390743801652892 and parameters: {'lambda_l1': 2.5306617353044965e-06, 'lambda_l2': 5.234758115369286e-06, 'num_leaves': 52, 'feature_fraction': 0.7270688906663989, 'bagging_fraction': 0.6585842519507898, 'bagging_freq': 1, 'min_child_samples': 58}. Best is trial 71 with value: 0.9791666666666667.\u001b[0m\n",
      "\u001b[32m[I 2021-04-23 10:55:22,406]\u001b[0m Trial 94 finished with value: 0.9345584346906399 and parameters: {'lambda_l1': 1.4070552591302877e-06, 'lambda_l2': 1.6559280114619263e-05, 'num_leaves': 25, 'feature_fraction': 0.7573303687409983, 'bagging_fraction': 0.690577047230891, 'bagging_freq': 1, 'min_child_samples': 29}. Best is trial 71 with value: 0.9791666666666667.\u001b[0m\n",
      "\u001b[32m[I 2021-04-23 10:55:22,541]\u001b[0m Trial 95 finished with value: 0.9338585805084746 and parameters: {'lambda_l1': 6.378666407275567e-08, 'lambda_l2': 1.932375990135333e-07, 'num_leaves': 59, 'feature_fraction': 0.6977412493708041, 'bagging_fraction': 0.6148764267160425, 'bagging_freq': 3, 'min_child_samples': 55}. Best is trial 71 with value: 0.9791666666666667.\u001b[0m\n",
      "\u001b[32m[I 2021-04-23 10:55:22,691]\u001b[0m Trial 96 finished with value: 0.9397926634768741 and parameters: {'lambda_l1': 8.081879435248066e-07, 'lambda_l2': 9.319790570386216e-07, 'num_leaves': 74, 'feature_fraction': 0.7408500374943965, 'bagging_fraction': 0.7319233531165041, 'bagging_freq': 2, 'min_child_samples': 60}. Best is trial 71 with value: 0.9791666666666667.\u001b[0m\n",
      "\u001b[32m[I 2021-04-23 10:55:22,949]\u001b[0m Trial 97 finished with value: 0.9448960554371003 and parameters: {'lambda_l1': 1.1735558502497027e-07, 'lambda_l2': 0.003132953441983713, 'num_leaves': 41, 'feature_fraction': 0.6872622043542509, 'bagging_fraction': 0.44246685291484683, 'bagging_freq': 1, 'min_child_samples': 8}. Best is trial 71 with value: 0.9791666666666667.\u001b[0m\n",
      "\u001b[32m[I 2021-04-23 10:55:23,169]\u001b[0m Trial 98 finished with value: 0.894169751454257 and parameters: {'lambda_l1': 3.5421197801649885e-07, 'lambda_l2': 9.417131717402713e-06, 'num_leaves': 33, 'feature_fraction': 0.658945302210059, 'bagging_fraction': 0.7782939750511542, 'bagging_freq': 5, 'min_child_samples': 22}. Best is trial 71 with value: 0.9791666666666667.\u001b[0m\n",
      "\u001b[32m[I 2021-04-23 10:55:23,332]\u001b[0m Trial 99 finished with value: 0.936175847457627 and parameters: {'lambda_l1': 1.885218133253467e-07, 'lambda_l2': 0.00047755496753902285, 'num_leaves': 49, 'feature_fraction': 0.7917497701503989, 'bagging_fraction': 0.671775652174427, 'bagging_freq': 2, 'min_child_samples': 56}. Best is trial 71 with value: 0.9791666666666667.\u001b[0m\n"
     ]
    },
    {
     "name": "stdout",
     "output_type": "stream",
     "text": [
      "Number of finished trials: 100\n",
      "Best trial:\n",
      "  Value: 0.9791666666666667\n",
      "  Params: \n",
      "    lambda_l1: 1.04810668964607e-06\n",
      "    lambda_l2: 1.4411405545636064e-05\n",
      "    num_leaves: 21\n",
      "    feature_fraction: 0.695262536856741\n",
      "    bagging_fraction: 0.44244030459382727\n",
      "    bagging_freq: 1\n",
      "    min_child_samples: 54\n"
     ]
    }
   ],
   "source": [
    "study = optuna.create_study(direction=\"maximize\")\n",
    "study.optimize(objective, n_trials=100)\n",
    "\n",
    "print(\"Number of finished trials: {}\".format(len(study.trials)))\n",
    "\n",
    "print(\"Best trial:\")\n",
    "trial = study.best_trial\n",
    "\n",
    "print(\"  Value: {}\".format(trial.value))\n",
    "\n",
    "print(\"  Params: \")\n",
    "for key, value in trial.params.items():\n",
    "    print(\"    {}: {}\".format(key, value))"
   ]
  },
  {
   "cell_type": "code",
   "execution_count": null,
   "metadata": {},
   "outputs": [],
   "source": []
  },
  {
   "cell_type": "code",
   "execution_count": null,
   "metadata": {},
   "outputs": [],
   "source": []
  },
  {
   "cell_type": "code",
   "execution_count": 127,
   "metadata": {},
   "outputs": [],
   "source": [
    "import xgboost as xgb\n",
    "\n",
    "def objective(trial):\n",
    "    (data, target) = sklearn.datasets.load_breast_cancer(return_X_y=True)\n",
    "    train_x, valid_x, train_y, valid_y = train_test_split(X_under, y_under, test_size=0.25)\n",
    "    dtrain = xgb.DMatrix(train_x, label=train_y)\n",
    "    dvalid = xgb.DMatrix(valid_x, label=valid_y)\n",
    "\n",
    "    param = {\n",
    "        \"verbosity\": 0,\n",
    "        \"objective\": \"binary:logistic\",\n",
    "        # use exact for small dataset.\n",
    "        \"tree_method\": \"exact\",\n",
    "        # defines booster, gblinear for linear functions.\n",
    "        \"booster\": trial.suggest_categorical(\"booster\", [\"gbtree\", \"gblinear\", \"dart\"]),\n",
    "        # L2 regularization weight.\n",
    "        \"lambda\": trial.suggest_float(\"lambda\", 1e-8, 1.0, log=True),\n",
    "        # L1 regularization weight.\n",
    "        \"alpha\": trial.suggest_float(\"alpha\", 1e-8, 1.0, log=True),\n",
    "        # sampling ratio for training data.\n",
    "        \"subsample\": trial.suggest_float(\"subsample\", 0.2, 1.0),\n",
    "        # sampling according to each tree.\n",
    "        \"colsample_bytree\": trial.suggest_float(\"colsample_bytree\", 0.2, 1.0),\n",
    "    }\n",
    "\n",
    "    if param[\"booster\"] in [\"gbtree\", \"dart\"]:\n",
    "        # maximum depth of the tree, signifies complexity of the tree.\n",
    "        param[\"max_depth\"] = trial.suggest_int(\"max_depth\", 3, 9, step=2)\n",
    "        # minimum child weight, larger the term more conservative the tree.\n",
    "        param[\"min_child_weight\"] = trial.suggest_int(\"min_child_weight\", 2, 10)\n",
    "        param[\"eta\"] = trial.suggest_float(\"eta\", 1e-8, 1.0, log=True)\n",
    "        # defines how selective algorithm is.\n",
    "        param[\"gamma\"] = trial.suggest_float(\"gamma\", 1e-8, 1.0, log=True)\n",
    "        param[\"grow_policy\"] = trial.suggest_categorical(\"grow_policy\", [\"depthwise\", \"lossguide\"])\n",
    "\n",
    "    if param[\"booster\"] == \"dart\":\n",
    "        param[\"sample_type\"] = trial.suggest_categorical(\"sample_type\", [\"uniform\", \"weighted\"])\n",
    "        param[\"normalize_type\"] = trial.suggest_categorical(\"normalize_type\", [\"tree\", \"forest\"])\n",
    "        param[\"rate_drop\"] = trial.suggest_float(\"rate_drop\", 1e-8, 1.0, log=True)\n",
    "        param[\"skip_drop\"] = trial.suggest_float(\"skip_drop\", 1e-8, 1.0, log=True)\n",
    "\n",
    "    bst = xgb.train(param, dtrain)\n",
    "    preds = bst.predict(dvalid)\n",
    "    pred_labels = np.rint(preds)\n",
    "    accuracy = sklearn.metrics.roc_auc_score(valid_y, pred_labels)\n",
    "    return accuracy"
   ]
  },
  {
   "cell_type": "code",
   "execution_count": 128,
   "metadata": {
    "scrolled": true
   },
   "outputs": [
    {
     "name": "stderr",
     "output_type": "stream",
     "text": [
      "\u001b[32m[I 2021-04-23 11:00:18,716]\u001b[0m A new study created in memory with name: no-name-ec265cde-6f6e-48f5-b42a-beecd90831bf\u001b[0m\n",
      "\u001b[32m[I 2021-04-23 11:00:18,795]\u001b[0m Trial 0 finished with value: 0.9117063492063492 and parameters: {'booster': 'dart', 'lambda': 2.3709259846232328e-07, 'alpha': 3.1145974037009606e-05, 'subsample': 0.3658391801252903, 'colsample_bytree': 0.555489026858583, 'max_depth': 5, 'min_child_weight': 2, 'eta': 0.0001240436305104276, 'gamma': 1.0284297699247941e-08, 'grow_policy': 'lossguide', 'sample_type': 'uniform', 'normalize_type': 'tree', 'rate_drop': 0.00011701566876027561, 'skip_drop': 8.208643444850179e-05}. Best is trial 0 with value: 0.9117063492063492.\u001b[0m\n",
      "\u001b[32m[I 2021-04-23 11:00:18,879]\u001b[0m Trial 1 finished with value: 0.9428099173553719 and parameters: {'booster': 'dart', 'lambda': 0.31040740444705706, 'alpha': 0.573927643320323, 'subsample': 0.9363614381308156, 'colsample_bytree': 0.6298229223970615, 'max_depth': 5, 'min_child_weight': 6, 'eta': 9.530676313098814e-05, 'gamma': 0.07556957606269579, 'grow_policy': 'depthwise', 'sample_type': 'uniform', 'normalize_type': 'tree', 'rate_drop': 8.53502900430626e-06, 'skip_drop': 0.0001636395651081684}. Best is trial 1 with value: 0.9428099173553719.\u001b[0m\n",
      "\u001b[32m[I 2021-04-23 11:00:18,933]\u001b[0m Trial 2 finished with value: 0.9233576642335766 and parameters: {'booster': 'gblinear', 'lambda': 0.4481824670869012, 'alpha': 1.0957424607247007e-05, 'subsample': 0.3273703737780303, 'colsample_bytree': 0.7539335843050072}. Best is trial 1 with value: 0.9428099173553719.\u001b[0m\n",
      "\u001b[32m[I 2021-04-23 11:00:19,002]\u001b[0m Trial 3 finished with value: 0.922801194822436 and parameters: {'booster': 'dart', 'lambda': 3.9183664473078773e-07, 'alpha': 0.020159302439832303, 'subsample': 0.31385440163024053, 'colsample_bytree': 0.4143671633362123, 'max_depth': 7, 'min_child_weight': 7, 'eta': 0.00034194076187699405, 'gamma': 6.907941580290162e-08, 'grow_policy': 'depthwise', 'sample_type': 'weighted', 'normalize_type': 'tree', 'rate_drop': 0.0010961686382632515, 'skip_drop': 0.00020105863708516072}. Best is trial 1 with value: 0.9428099173553719.\u001b[0m\n",
      "\u001b[32m[I 2021-04-23 11:00:19,072]\u001b[0m Trial 4 finished with value: 0.9301487603305785 and parameters: {'booster': 'gbtree', 'lambda': 2.691954992731579e-06, 'alpha': 1.8077985185421983e-07, 'subsample': 0.5361116026952423, 'colsample_bytree': 0.4221307088900097, 'max_depth': 9, 'min_child_weight': 7, 'eta': 0.00011584654041641351, 'gamma': 0.05190106894796589, 'grow_policy': 'lossguide'}. Best is trial 1 with value: 0.9428099173553719.\u001b[0m\n",
      "\u001b[32m[I 2021-04-23 11:00:19,122]\u001b[0m Trial 5 finished with value: 0.9449814618644068 and parameters: {'booster': 'gblinear', 'lambda': 0.11491368299177417, 'alpha': 1.981781407678168e-07, 'subsample': 0.9393121367107522, 'colsample_bytree': 0.6019416604870025}. Best is trial 5 with value: 0.9449814618644068.\u001b[0m\n",
      "\u001b[32m[I 2021-04-23 11:00:19,178]\u001b[0m Trial 6 finished with value: 0.9259590538660306 and parameters: {'booster': 'gblinear', 'lambda': 0.080060875364811, 'alpha': 0.05659239071563843, 'subsample': 0.7337180658327884, 'colsample_bytree': 0.4652641553151135}. Best is trial 5 with value: 0.9449814618644068.\u001b[0m\n",
      "\u001b[32m[I 2021-04-23 11:00:19,247]\u001b[0m Trial 7 finished with value: 0.9164957321511282 and parameters: {'booster': 'gbtree', 'lambda': 0.0013340441771303344, 'alpha': 0.5644415014395773, 'subsample': 0.6747287909134028, 'colsample_bytree': 0.5182354402150215, 'max_depth': 3, 'min_child_weight': 9, 'eta': 6.40561085709171e-07, 'gamma': 2.45028055831252e-05, 'grow_policy': 'lossguide'}. Best is trial 5 with value: 0.9449814618644068.\u001b[0m\n",
      "\u001b[32m[I 2021-04-23 11:00:19,323]\u001b[0m Trial 8 finished with value: 0.9325589113840026 and parameters: {'booster': 'gbtree', 'lambda': 6.072027069202974e-07, 'alpha': 0.0001344194186176309, 'subsample': 0.5852854062825521, 'colsample_bytree': 0.8830478953706655, 'max_depth': 3, 'min_child_weight': 8, 'eta': 3.2836585279026216e-06, 'gamma': 0.0034495955408526584, 'grow_policy': 'lossguide'}. Best is trial 5 with value: 0.9449814618644068.\u001b[0m\n",
      "\u001b[32m[I 2021-04-23 11:00:19,420]\u001b[0m Trial 9 finished with value: 0.9257936507936508 and parameters: {'booster': 'dart', 'lambda': 3.2972383527742126e-05, 'alpha': 1.97993372041697e-05, 'subsample': 0.943191647701414, 'colsample_bytree': 0.7574015205237121, 'max_depth': 5, 'min_child_weight': 7, 'eta': 0.014610671991565701, 'gamma': 0.0098903279391873, 'grow_policy': 'depthwise', 'sample_type': 'weighted', 'normalize_type': 'forest', 'rate_drop': 7.683580687069924e-06, 'skip_drop': 0.005950315674971317}. Best is trial 5 with value: 0.9449814618644068.\u001b[0m\n",
      "\u001b[32m[I 2021-04-23 11:00:19,506]\u001b[0m Trial 10 finished with value: 0.9421850079744818 and parameters: {'booster': 'gblinear', 'lambda': 0.008512274971880871, 'alpha': 9.590460524121401e-08, 'subsample': 0.8148703847311863, 'colsample_bytree': 0.20692174893935644}. Best is trial 5 with value: 0.9449814618644068.\u001b[0m\n",
      "\u001b[32m[I 2021-04-23 11:00:19,668]\u001b[0m Trial 11 finished with value: 0.9222633527234267 and parameters: {'booster': 'dart', 'lambda': 0.2331825651284622, 'alpha': 1.6122984233300634e-08, 'subsample': 0.9936075941607653, 'colsample_bytree': 0.6686601059600271, 'max_depth': 7, 'min_child_weight': 4, 'eta': 1.476726497987038e-08, 'gamma': 0.35119472675481955, 'grow_policy': 'depthwise', 'sample_type': 'uniform', 'normalize_type': 'tree', 'rate_drop': 4.9956634954961215e-08, 'skip_drop': 1.0363079199478526e-08}. Best is trial 5 with value: 0.9449814618644068.\u001b[0m\n",
      "\u001b[32m[I 2021-04-23 11:00:19,755]\u001b[0m Trial 12 finished with value: 0.9497421817451281 and parameters: {'booster': 'gblinear', 'lambda': 0.004631187209489442, 'alpha': 0.0015978056581240788, 'subsample': 0.8763272967057121, 'colsample_bytree': 0.98962756401674}. Best is trial 12 with value: 0.9497421817451281.\u001b[0m\n",
      "\u001b[32m[I 2021-04-23 11:00:19,837]\u001b[0m Trial 13 finished with value: 0.9275458214781975 and parameters: {'booster': 'gblinear', 'lambda': 0.0016200797759718148, 'alpha': 0.001158344589482903, 'subsample': 0.8386074836924627, 'colsample_bytree': 0.9762362803116598}. Best is trial 12 with value: 0.9497421817451281.\u001b[0m\n",
      "\u001b[32m[I 2021-04-23 11:00:19,918]\u001b[0m Trial 14 finished with value: 0.9284273515766827 and parameters: {'booster': 'gblinear', 'lambda': 0.013731293584625817, 'alpha': 1.2238263487842215e-06, 'subsample': 0.8412299647297085, 'colsample_bytree': 0.24580617035795266}. Best is trial 12 with value: 0.9497421817451281.\u001b[0m\n",
      "\u001b[32m[I 2021-04-23 11:00:20,005]\u001b[0m Trial 15 finished with value: 0.9652173913043478 and parameters: {'booster': 'gblinear', 'lambda': 0.00010372627735425487, 'alpha': 0.0016813016153602249, 'subsample': 0.9967648222539716, 'colsample_bytree': 0.9904859450960378}. Best is trial 15 with value: 0.9652173913043478.\u001b[0m\n",
      "\u001b[32m[I 2021-04-23 11:00:20,092]\u001b[0m Trial 16 finished with value: 0.9274274274274275 and parameters: {'booster': 'gblinear', 'lambda': 3.939658955073283e-05, 'alpha': 0.0013010375467626322, 'subsample': 0.4554925689610537, 'colsample_bytree': 0.9696980184844414}. Best is trial 15 with value: 0.9652173913043478.\u001b[0m\n",
      "\u001b[32m[I 2021-04-23 11:00:20,160]\u001b[0m Trial 17 finished with value: 0.9390243902439025 and parameters: {'booster': 'gblinear', 'lambda': 1.3106698168467092e-08, 'alpha': 0.003306824197566022, 'subsample': 0.7495623383815886, 'colsample_bytree': 0.8731750899786903}. Best is trial 15 with value: 0.9652173913043478.\u001b[0m\n",
      "\u001b[32m[I 2021-04-23 11:00:20,244]\u001b[0m Trial 18 finished with value: 0.9363943549990061 and parameters: {'booster': 'gblinear', 'lambda': 0.00033964848214306973, 'alpha': 0.00017786027405737405, 'subsample': 0.2041321589973863, 'colsample_bytree': 0.8856885149905791}. Best is trial 15 with value: 0.9652173913043478.\u001b[0m\n",
      "\u001b[32m[I 2021-04-23 11:00:20,328]\u001b[0m Trial 19 finished with value: 0.9240079365079364 and parameters: {'booster': 'gblinear', 'lambda': 1.0785115429315765e-05, 'alpha': 0.010654229606882035, 'subsample': 0.9789016965645804, 'colsample_bytree': 0.996488342940486}. Best is trial 15 with value: 0.9652173913043478.\u001b[0m\n",
      "\u001b[32m[I 2021-04-23 11:00:20,411]\u001b[0m Trial 20 finished with value: 0.9172932330827068 and parameters: {'booster': 'gblinear', 'lambda': 0.00033249972474082333, 'alpha': 0.14415269885265375, 'subsample': 0.8762661230747126, 'colsample_bytree': 0.8092296877377878}. Best is trial 15 with value: 0.9652173913043478.\u001b[0m\n"
     ]
    },
    {
     "name": "stderr",
     "output_type": "stream",
     "text": [
      "\u001b[32m[I 2021-04-23 11:00:20,508]\u001b[0m Trial 21 finished with value: 0.9109598096245373 and parameters: {'booster': 'gblinear', 'lambda': 0.0215844178905318, 'alpha': 0.0007147524360075949, 'subsample': 0.9288710613376121, 'colsample_bytree': 0.3220948501852088}. Best is trial 15 with value: 0.9652173913043478.\u001b[0m\n",
      "\u001b[32m[I 2021-04-23 11:00:20,595]\u001b[0m Trial 22 finished with value: 0.9186991869918699 and parameters: {'booster': 'gblinear', 'lambda': 0.002897422261174073, 'alpha': 2.623719650757124e-06, 'subsample': 0.9977542723705072, 'colsample_bytree': 0.929655610740553}. Best is trial 15 with value: 0.9652173913043478.\u001b[0m\n",
      "\u001b[32m[I 2021-04-23 11:00:20,680]\u001b[0m Trial 23 finished with value: 0.9440092930633921 and parameters: {'booster': 'gblinear', 'lambda': 0.07307164065117826, 'alpha': 0.0073694662649057665, 'subsample': 0.7587644045667452, 'colsample_bytree': 0.803655298839223}. Best is trial 15 with value: 0.9652173913043478.\u001b[0m\n",
      "\u001b[32m[I 2021-04-23 11:00:20,764]\u001b[0m Trial 24 finished with value: 0.9236088136041818 and parameters: {'booster': 'gblinear', 'lambda': 0.0002919821041671166, 'alpha': 0.00024776930555789594, 'subsample': 0.8948070886730435, 'colsample_bytree': 0.6900007547982031}. Best is trial 15 with value: 0.9652173913043478.\u001b[0m\n",
      "\u001b[32m[I 2021-04-23 11:00:20,847]\u001b[0m Trial 25 finished with value: 0.9126984126984127 and parameters: {'booster': 'gblinear', 'lambda': 0.9563507074058677, 'alpha': 1.4030617606335921e-08, 'subsample': 0.9972860928478654, 'colsample_bytree': 0.9427817271306018}. Best is trial 15 with value: 0.9652173913043478.\u001b[0m\n",
      "\u001b[32m[I 2021-04-23 11:00:20,984]\u001b[0m Trial 26 finished with value: 0.9270164758816913 and parameters: {'booster': 'gbtree', 'lambda': 0.04367116193132707, 'alpha': 0.04828458079734807, 'subsample': 0.7993539921236442, 'colsample_bytree': 0.2991037712887069, 'max_depth': 9, 'min_child_weight': 2, 'eta': 0.821927964417873, 'gamma': 1.3244718119522849e-05, 'grow_policy': 'depthwise'}. Best is trial 15 with value: 0.9652173913043478.\u001b[0m\n",
      "\u001b[32m[I 2021-04-23 11:00:21,067]\u001b[0m Trial 27 finished with value: 0.9299040511727079 and parameters: {'booster': 'gblinear', 'lambda': 0.0039709266364145865, 'alpha': 0.002555715137663992, 'subsample': 0.6647089026562322, 'colsample_bytree': 0.8319132572388589}. Best is trial 15 with value: 0.9652173913043478.\u001b[0m\n",
      "\u001b[32m[I 2021-04-23 11:00:21,153]\u001b[0m Trial 28 finished with value: 0.9232548915917503 and parameters: {'booster': 'gblinear', 'lambda': 0.00021467140022182635, 'alpha': 0.00043811387686310617, 'subsample': 0.8815942619493871, 'colsample_bytree': 0.7303141275042841}. Best is trial 15 with value: 0.9652173913043478.\u001b[0m\n",
      "\u001b[32m[I 2021-04-23 11:00:21,246]\u001b[0m Trial 29 finished with value: 0.9075340192499171 and parameters: {'booster': 'gblinear', 'lambda': 5.341567936025599e-06, 'alpha': 5.430264122492166e-05, 'subsample': 0.9406261967337115, 'colsample_bytree': 0.5894404839626706}. Best is trial 15 with value: 0.9652173913043478.\u001b[0m\n",
      "\u001b[32m[I 2021-04-23 11:00:21,341]\u001b[0m Trial 30 finished with value: 0.93598071385522 and parameters: {'booster': 'gblinear', 'lambda': 2.458946550959302e-08, 'alpha': 5.746359909010569e-06, 'subsample': 0.6790279877167822, 'colsample_bytree': 0.5220521845825985}. Best is trial 15 with value: 0.9652173913043478.\u001b[0m\n",
      "\u001b[32m[I 2021-04-23 11:00:21,436]\u001b[0m Trial 31 finished with value: 0.9354177683765204 and parameters: {'booster': 'gblinear', 'lambda': 0.13293494864646166, 'alpha': 0.006504584792567309, 'subsample': 0.7679517762972743, 'colsample_bytree': 0.9926767966897659}. Best is trial 15 with value: 0.9652173913043478.\u001b[0m\n",
      "\u001b[32m[I 2021-04-23 11:00:21,530]\u001b[0m Trial 32 finished with value: 0.9364785284192416 and parameters: {'booster': 'gblinear', 'lambda': 0.03949053583588851, 'alpha': 0.01892943332448325, 'subsample': 0.8920385617530887, 'colsample_bytree': 0.8050186830567758}. Best is trial 15 with value: 0.9652173913043478.\u001b[0m\n",
      "\u001b[32m[I 2021-04-23 11:00:21,629]\u001b[0m Trial 33 finished with value: 0.921487603305785 and parameters: {'booster': 'gblinear', 'lambda': 0.46189353937327843, 'alpha': 0.002891274763533785, 'subsample': 0.7174971930309154, 'colsample_bytree': 0.5899309679988363}. Best is trial 15 with value: 0.9652173913043478.\u001b[0m\n",
      "\u001b[32m[I 2021-04-23 11:00:21,806]\u001b[0m Trial 34 finished with value: 0.9322361407249468 and parameters: {'booster': 'dart', 'lambda': 0.9199309082241227, 'alpha': 0.1522509522462017, 'subsample': 0.9442366825056928, 'colsample_bytree': 0.9169348569376022, 'max_depth': 9, 'min_child_weight': 4, 'eta': 0.8921127947430213, 'gamma': 3.0762404995882687e-07, 'grow_policy': 'lossguide', 'sample_type': 'weighted', 'normalize_type': 'forest', 'rate_drop': 0.7954132983729881, 'skip_drop': 0.9482001108813647}. Best is trial 15 with value: 0.9652173913043478.\u001b[0m\n",
      "\u001b[32m[I 2021-04-23 11:00:21,904]\u001b[0m Trial 35 finished with value: 0.94295346377578 and parameters: {'booster': 'gblinear', 'lambda': 0.0007331304451252962, 'alpha': 5.92761907290489e-05, 'subsample': 0.7864246206514943, 'colsample_bytree': 0.6340418743925351}. Best is trial 15 with value: 0.9652173913043478.\u001b[0m\n",
      "\u001b[32m[I 2021-04-23 11:00:22,009]\u001b[0m Trial 36 finished with value: 0.9459074968570105 and parameters: {'booster': 'gblinear', 'lambda': 0.006391099617368807, 'alpha': 0.0388040021205024, 'subsample': 0.8366044910904589, 'colsample_bytree': 0.7562855954084096}. Best is trial 15 with value: 0.9652173913043478.\u001b[0m\n",
      "\u001b[32m[I 2021-04-23 11:00:22,162]\u001b[0m Trial 37 finished with value: 0.9265873015873015 and parameters: {'booster': 'gbtree', 'lambda': 0.005517152878553099, 'alpha': 0.07773188047184443, 'subsample': 0.8534522369265718, 'colsample_bytree': 0.7165245663427455, 'max_depth': 3, 'min_child_weight': 10, 'eta': 0.024442374773787072, 'gamma': 0.0005851116116131033, 'grow_policy': 'depthwise'}. Best is trial 15 with value: 0.9652173913043478.\u001b[0m\n",
      "\u001b[32m[I 2021-04-23 11:00:22,338]\u001b[0m Trial 38 finished with value: 0.9134768740031898 and parameters: {'booster': 'dart', 'lambda': 0.017203241508274854, 'alpha': 0.24515950601223377, 'subsample': 0.9208006711728027, 'colsample_bytree': 0.45957209250681746, 'max_depth': 7, 'min_child_weight': 4, 'eta': 5.239131421190895e-08, 'gamma': 1.690207283119719e-06, 'grow_policy': 'lossguide', 'sample_type': 'weighted', 'normalize_type': 'forest', 'rate_drop': 0.6522855182589672, 'skip_drop': 1.6011198594706465e-08}. Best is trial 15 with value: 0.9652173913043478.\u001b[0m\n",
      "\u001b[32m[I 2021-04-23 11:00:22,438]\u001b[0m Trial 39 finished with value: 0.8914728682170543 and parameters: {'booster': 'gblinear', 'lambda': 0.0015975990844309521, 'alpha': 0.7956120112404853, 'subsample': 0.96264518310027, 'colsample_bytree': 0.6447226717183292}. Best is trial 15 with value: 0.9652173913043478.\u001b[0m\n",
      "\u001b[32m[I 2021-04-23 11:00:22,547]\u001b[0m Trial 40 finished with value: 0.9362362362362362 and parameters: {'booster': 'gblinear', 'lambda': 0.00012536651750043784, 'alpha': 0.028898815985165905, 'subsample': 0.5482542365594163, 'colsample_bytree': 0.5535184714400363}. Best is trial 15 with value: 0.9652173913043478.\u001b[0m\n",
      "\u001b[32m[I 2021-04-23 11:00:22,645]\u001b[0m Trial 41 finished with value: 0.909487603305785 and parameters: {'booster': 'gblinear', 'lambda': 0.12996807107399078, 'alpha': 0.007037336458673491, 'subsample': 0.8239207001413622, 'colsample_bytree': 0.7827053211553245}. Best is trial 15 with value: 0.9652173913043478.\u001b[0m\n",
      "\u001b[32m[I 2021-04-23 11:00:22,734]\u001b[0m Trial 42 finished with value: 0.9367918902802624 and parameters: {'booster': 'gblinear', 'lambda': 0.07111151025519817, 'alpha': 0.015240553879816427, 'subsample': 0.9039575234524165, 'colsample_bytree': 0.84561567304839}. Best is trial 15 with value: 0.9652173913043478.\u001b[0m\n",
      "\u001b[32m[I 2021-04-23 11:00:22,824]\u001b[0m Trial 43 finished with value: 0.9256198347107438 and parameters: {'booster': 'gblinear', 'lambda': 0.36973214167347684, 'alpha': 0.0005684171444687109, 'subsample': 0.6448147738853166, 'colsample_bytree': 0.7624722634946506}. Best is trial 15 with value: 0.9652173913043478.\u001b[0m\n",
      "\u001b[32m[I 2021-04-23 11:00:22,925]\u001b[0m Trial 44 finished with value: 0.9474484399788471 and parameters: {'booster': 'gblinear', 'lambda': 0.007420253627370054, 'alpha': 2.2174337339012877e-07, 'subsample': 0.8635312755667222, 'colsample_bytree': 0.6996624821101761}. Best is trial 15 with value: 0.9652173913043478.\u001b[0m\n"
     ]
    },
    {
     "name": "stderr",
     "output_type": "stream",
     "text": [
      "\u001b[32m[I 2021-04-23 11:00:23,099]\u001b[0m Trial 45 finished with value: 0.9416710805084746 and parameters: {'booster': 'gbtree', 'lambda': 0.0074042729680604035, 'alpha': 2.615566964393433e-07, 'subsample': 0.8636271517893956, 'colsample_bytree': 0.6702179943073923, 'max_depth': 5, 'min_child_weight': 10, 'eta': 0.010948828128581563, 'gamma': 1.2678188675296193e-08, 'grow_policy': 'lossguide'}. Best is trial 15 with value: 0.9652173913043478.\u001b[0m\n",
      "\u001b[32m[I 2021-04-23 11:00:23,194]\u001b[0m Trial 46 finished with value: 0.9421586165772213 and parameters: {'booster': 'gblinear', 'lambda': 0.001164053553835764, 'alpha': 4.689676387066886e-08, 'subsample': 0.9663411731054679, 'colsample_bytree': 0.61836443200199}. Best is trial 15 with value: 0.9652173913043478.\u001b[0m\n",
      "\u001b[32m[I 2021-04-23 11:00:23,371]\u001b[0m Trial 47 finished with value: 0.943657309322034 and parameters: {'booster': 'dart', 'lambda': 4.544688428228165e-05, 'alpha': 4.684080252522098e-07, 'subsample': 0.8118270509899198, 'colsample_bytree': 0.7005380342029031, 'max_depth': 7, 'min_child_weight': 3, 'eta': 2.534135032774712e-06, 'gamma': 0.00023111106729522697, 'grow_policy': 'depthwise', 'sample_type': 'uniform', 'normalize_type': 'forest', 'rate_drop': 1.058673503756428e-08, 'skip_drop': 5.49445113304357e-07}. Best is trial 15 with value: 0.9652173913043478.\u001b[0m\n",
      "\u001b[32m[I 2021-04-23 11:00:23,458]\u001b[0m Trial 48 finished with value: 0.9191565309360126 and parameters: {'booster': 'gblinear', 'lambda': 1.2781734479506363e-06, 'alpha': 3.528683809943155e-08, 'subsample': 0.8526535562028869, 'colsample_bytree': 0.565025464567914}. Best is trial 15 with value: 0.9652173913043478.\u001b[0m\n",
      "\u001b[32m[I 2021-04-23 11:00:23,541]\u001b[0m Trial 49 finished with value: 0.9396390374331551 and parameters: {'booster': 'gblinear', 'lambda': 0.0007015176915833842, 'alpha': 1.811682018569753e-05, 'subsample': 0.7244367450589468, 'colsample_bytree': 0.5133668138641696}. Best is trial 15 with value: 0.9652173913043478.\u001b[0m\n",
      "\u001b[32m[I 2021-04-23 11:00:23,619]\u001b[0m Trial 50 finished with value: 0.9232548915917503 and parameters: {'booster': 'gblinear', 'lambda': 0.011196147139038128, 'alpha': 7.345584327508069e-07, 'subsample': 0.9097492175673529, 'colsample_bytree': 0.7450885491115977}. Best is trial 15 with value: 0.9652173913043478.\u001b[0m\n",
      "\u001b[32m[I 2021-04-23 11:00:23,695]\u001b[0m Trial 51 finished with value: 0.9340524394291405 and parameters: {'booster': 'gblinear', 'lambda': 0.04347606914490343, 'alpha': 0.0013895794309170745, 'subsample': 0.7675057015787725, 'colsample_bytree': 0.7756697567153308}. Best is trial 15 with value: 0.9652173913043478.\u001b[0m\n",
      "\u001b[32m[I 2021-04-23 11:00:23,774]\u001b[0m Trial 52 finished with value: 0.9333024548402038 and parameters: {'booster': 'gblinear', 'lambda': 0.028849521552656358, 'alpha': 0.005496367111264571, 'subsample': 0.8365733923547203, 'colsample_bytree': 0.6711169138211379}. Best is trial 15 with value: 0.9652173913043478.\u001b[0m\n",
      "\u001b[32m[I 2021-04-23 11:00:23,857]\u001b[0m Trial 53 finished with value: 0.9358446730833057 and parameters: {'booster': 'gblinear', 'lambda': 0.207795206637933, 'alpha': 1.4321967430932223e-07, 'subsample': 0.7888839947016203, 'colsample_bytree': 0.9563181604503191}. Best is trial 15 with value: 0.9652173913043478.\u001b[0m\n",
      "\u001b[32m[I 2021-04-23 11:00:23,938]\u001b[0m Trial 54 finished with value: 0.9190243257535695 and parameters: {'booster': 'gblinear', 'lambda': 0.0034738698038348117, 'alpha': 0.0017842391392630995, 'subsample': 0.9665799856821862, 'colsample_bytree': 0.9069174126351311}. Best is trial 15 with value: 0.9652173913043478.\u001b[0m\n",
      "\u001b[32m[I 2021-04-23 11:00:24,029]\u001b[0m Trial 55 finished with value: 0.9367717161016949 and parameters: {'booster': 'gblinear', 'lambda': 0.0742987232176577, 'alpha': 0.038793571397347515, 'subsample': 0.4558355292214742, 'colsample_bytree': 0.8584240317498086}. Best is trial 15 with value: 0.9652173913043478.\u001b[0m\n",
      "\u001b[32m[I 2021-04-23 11:00:24,128]\u001b[0m Trial 56 finished with value: 0.9542218377802915 and parameters: {'booster': 'gblinear', 'lambda': 0.012128355160621159, 'alpha': 0.0002996532600375764, 'subsample': 0.8702734031081368, 'colsample_bytree': 0.8123254005024487}. Best is trial 15 with value: 0.9652173913043478.\u001b[0m\n",
      "\u001b[32m[I 2021-04-23 11:00:24,239]\u001b[0m Trial 57 finished with value: 0.9402173913043477 and parameters: {'booster': 'gblinear', 'lambda': 0.007923369892814282, 'alpha': 0.0002709142677757706, 'subsample': 0.9979125300221163, 'colsample_bytree': 0.8950993670860532}. Best is trial 15 with value: 0.9652173913043478.\u001b[0m\n",
      "\u001b[32m[I 2021-04-23 11:00:24,421]\u001b[0m Trial 58 finished with value: 0.9216198347107438 and parameters: {'booster': 'gbtree', 'lambda': 1.1731141130364548e-07, 'alpha': 0.00011772325865998485, 'subsample': 0.8746629308322895, 'colsample_bytree': 0.713564943257206, 'max_depth': 3, 'min_child_weight': 5, 'eta': 1.4128956648033915e-07, 'gamma': 0.6917562306170746, 'grow_policy': 'depthwise'}. Best is trial 15 with value: 0.9652173913043478.\u001b[0m\n",
      "\u001b[32m[I 2021-04-23 11:00:24,524]\u001b[0m Trial 59 finished with value: 0.9294374875770225 and parameters: {'booster': 'gblinear', 'lambda': 0.0025689553219029825, 'alpha': 6.34078764677395e-06, 'subsample': 0.9248952113654074, 'colsample_bytree': 0.6558972715161098}. Best is trial 15 with value: 0.9652173913043478.\u001b[0m\n",
      "\u001b[32m[I 2021-04-23 11:00:24,625]\u001b[0m Trial 60 finished with value: 0.9345454545454546 and parameters: {'booster': 'gblinear', 'lambda': 1.56848001946095e-05, 'alpha': 1.6942211368104183e-06, 'subsample': 0.9448761707711069, 'colsample_bytree': 0.8200320925383541}. Best is trial 15 with value: 0.9652173913043478.\u001b[0m\n",
      "\u001b[32m[I 2021-04-23 11:00:24,716]\u001b[0m Trial 61 finished with value: 0.9497970590192295 and parameters: {'booster': 'gblinear', 'lambda': 0.018864136186914394, 'alpha': 0.0041065767258815665, 'subsample': 0.8257166143877437, 'colsample_bytree': 0.7984214951788257}. Best is trial 15 with value: 0.9652173913043478.\u001b[0m\n",
      "\u001b[32m[I 2021-04-23 11:00:24,803]\u001b[0m Trial 62 finished with value: 0.9555129561078793 and parameters: {'booster': 'gblinear', 'lambda': 0.021725229464959125, 'alpha': 0.0007604530853241277, 'subsample': 0.82821547358765, 'colsample_bytree': 0.8662651816437531}. Best is trial 15 with value: 0.9652173913043478.\u001b[0m\n",
      "\u001b[32m[I 2021-04-23 11:00:24,904]\u001b[0m Trial 63 finished with value: 0.9383383383383385 and parameters: {'booster': 'gblinear', 'lambda': 0.01644261547365697, 'alpha': 0.0007601734588798143, 'subsample': 0.8279806485913945, 'colsample_bytree': 0.8496882470154691}. Best is trial 15 with value: 0.9652173913043478.\u001b[0m\n",
      "\u001b[32m[I 2021-04-23 11:00:24,991]\u001b[0m Trial 64 finished with value: 0.9676587301587302 and parameters: {'booster': 'gblinear', 'lambda': 0.0008375338696627377, 'alpha': 0.0004483703611751274, 'subsample': 0.6970073863264397, 'colsample_bytree': 0.7926213775082267}. Best is trial 64 with value: 0.9676587301587302.\u001b[0m\n",
      "\u001b[32m[I 2021-04-23 11:00:25,078]\u001b[0m Trial 65 finished with value: 0.9194071329319129 and parameters: {'booster': 'gblinear', 'lambda': 0.0007520140350986131, 'alpha': 0.00045653624410519554, 'subsample': 0.7018598705764999, 'colsample_bytree': 0.9988285889114392}. Best is trial 64 with value: 0.9676587301587302.\u001b[0m\n",
      "\u001b[32m[I 2021-04-23 11:00:25,163]\u001b[0m Trial 66 finished with value: 0.9522256969858274 and parameters: {'booster': 'gblinear', 'lambda': 0.0025243052521260233, 'alpha': 5.542916302073754e-05, 'subsample': 0.7438288859184161, 'colsample_bytree': 0.8651762984345034}. Best is trial 64 with value: 0.9676587301587302.\u001b[0m\n",
      "\u001b[32m[I 2021-04-23 11:00:25,255]\u001b[0m Trial 67 finished with value: 0.9285047974413646 and parameters: {'booster': 'gblinear', 'lambda': 7.851577189287086e-05, 'alpha': 5.715709558996462e-05, 'subsample': 0.6307050810769359, 'colsample_bytree': 0.9370151381494572}. Best is trial 64 with value: 0.9676587301587302.\u001b[0m\n",
      "\u001b[32m[I 2021-04-23 11:00:25,364]\u001b[0m Trial 68 finished with value: 0.9371689618644068 and parameters: {'booster': 'gblinear', 'lambda': 0.0023578357268692436, 'alpha': 0.00023249993969890278, 'subsample': 0.7434247895587249, 'colsample_bytree': 0.8830161942762991}. Best is trial 64 with value: 0.9676587301587302.\u001b[0m\n",
      "\u001b[32m[I 2021-04-23 11:00:25,470]\u001b[0m Trial 69 finished with value: 0.946133421838699 and parameters: {'booster': 'gblinear', 'lambda': 0.00020128577572737672, 'alpha': 2.742134191115982e-05, 'subsample': 0.7071524496815247, 'colsample_bytree': 0.8728866823466955}. Best is trial 64 with value: 0.9676587301587302.\u001b[0m\n"
     ]
    },
    {
     "name": "stderr",
     "output_type": "stream",
     "text": [
      "\u001b[32m[I 2021-04-23 11:00:25,680]\u001b[0m Trial 70 finished with value: 0.9443193855932203 and parameters: {'booster': 'dart', 'lambda': 0.0004106033201815183, 'alpha': 0.003577357843103679, 'subsample': 0.7689879177034761, 'colsample_bytree': 0.9737264414749403, 'max_depth': 9, 'min_child_weight': 8, 'eta': 0.1530149192817861, 'gamma': 2.112414635464783e-06, 'grow_policy': 'lossguide', 'sample_type': 'weighted', 'normalize_type': 'forest', 'rate_drop': 0.014870771402929629, 'skip_drop': 0.7753542747669977}. Best is trial 64 with value: 0.9676587301587302.\u001b[0m\n",
      "\u001b[32m[I 2021-04-23 11:00:25,785]\u001b[0m Trial 71 finished with value: 0.9350872554204125 and parameters: {'booster': 'gblinear', 'lambda': 0.004516071718521449, 'alpha': 0.0010626115695618868, 'subsample': 0.8167738563728137, 'colsample_bytree': 0.7850830594117352}. Best is trial 64 with value: 0.9676587301587302.\u001b[0m\n",
      "\u001b[32m[I 2021-04-23 11:00:25,875]\u001b[0m Trial 72 finished with value: 0.9368071689346166 and parameters: {'booster': 'gblinear', 'lambda': 0.024470290196286198, 'alpha': 0.0002991941533730056, 'subsample': 0.7928453887959503, 'colsample_bytree': 0.8269674221816494}. Best is trial 64 with value: 0.9676587301587302.\u001b[0m\n",
      "\u001b[32m[I 2021-04-23 11:00:25,964]\u001b[0m Trial 73 finished with value: 0.9503080898429735 and parameters: {'booster': 'gblinear', 'lambda': 0.009828536151299024, 'alpha': 0.002044097549526155, 'subsample': 0.5933739499970274, 'colsample_bytree': 0.7980605727174123}. Best is trial 64 with value: 0.9676587301587302.\u001b[0m\n",
      "\u001b[32m[I 2021-04-23 11:00:26,052]\u001b[0m Trial 74 finished with value: 0.9178571428571428 and parameters: {'booster': 'gblinear', 'lambda': 0.0013605157189177288, 'alpha': 0.00011615328694285415, 'subsample': 0.5836286805825975, 'colsample_bytree': 0.906945233312761}. Best is trial 64 with value: 0.9676587301587302.\u001b[0m\n",
      "\u001b[32m[I 2021-04-23 11:00:26,143]\u001b[0m Trial 75 finished with value: 0.9393839238498148 and parameters: {'booster': 'gblinear', 'lambda': 0.012048477454751226, 'alpha': 0.0021460045533537343, 'subsample': 0.6123638265976167, 'colsample_bytree': 0.7999236296754385}. Best is trial 64 with value: 0.9676587301587302.\u001b[0m\n",
      "\u001b[32m[I 2021-04-23 11:00:26,232]\u001b[0m Trial 76 finished with value: 0.9366337953091683 and parameters: {'booster': 'gblinear', 'lambda': 0.002173534864004239, 'alpha': 0.0009977143720165374, 'subsample': 0.5476700292359094, 'colsample_bytree': 0.8383900133703921}. Best is trial 64 with value: 0.9676587301587302.\u001b[0m\n",
      "\u001b[32m[I 2021-04-23 11:00:26,322]\u001b[0m Trial 77 finished with value: 0.9198677685950413 and parameters: {'booster': 'gblinear', 'lambda': 0.025592086506669273, 'alpha': 0.01030142253799586, 'subsample': 0.4816364899678468, 'colsample_bytree': 0.925787096290036}. Best is trial 64 with value: 0.9676587301587302.\u001b[0m\n",
      "\u001b[32m[I 2021-04-23 11:00:26,412]\u001b[0m Trial 78 finished with value: 0.9563691737288136 and parameters: {'booster': 'gblinear', 'lambda': 0.0041079995631459094, 'alpha': 0.000421753517780834, 'subsample': 0.680937580575678, 'colsample_bytree': 0.8626062880814955}. Best is trial 64 with value: 0.9676587301587302.\u001b[0m\n",
      "\u001b[32m[I 2021-04-23 11:00:26,502]\u001b[0m Trial 79 finished with value: 0.9555129561078793 and parameters: {'booster': 'gblinear', 'lambda': 0.0004435899795780926, 'alpha': 7.159836011635158e-05, 'subsample': 0.6832026329816574, 'colsample_bytree': 0.8643642045993863}. Best is trial 64 with value: 0.9676587301587302.\u001b[0m\n",
      "\u001b[32m[I 2021-04-23 11:00:26,590]\u001b[0m Trial 80 finished with value: 0.9425837320574163 and parameters: {'booster': 'gblinear', 'lambda': 0.00045654109733310325, 'alpha': 8.761795505980595e-05, 'subsample': 0.6660820994186619, 'colsample_bytree': 0.8616089143006557}. Best is trial 64 with value: 0.9676587301587302.\u001b[0m\n",
      "\u001b[32m[I 2021-04-23 11:00:26,678]\u001b[0m Trial 81 finished with value: 0.9383971291866029 and parameters: {'booster': 'gblinear', 'lambda': 0.00014059838475486647, 'alpha': 0.00018778025144415347, 'subsample': 0.6880980578365388, 'colsample_bytree': 0.7379659951980866}. Best is trial 64 with value: 0.9676587301587302.\u001b[0m\n",
      "\u001b[32m[I 2021-04-23 11:00:26,768]\u001b[0m Trial 82 finished with value: 0.9380958686440679 and parameters: {'booster': 'gblinear', 'lambda': 0.0012039911968898262, 'alpha': 0.00042557519603869724, 'subsample': 0.6515993889765894, 'colsample_bytree': 0.8029143691171284}. Best is trial 64 with value: 0.9676587301587302.\u001b[0m\n",
      "\u001b[32m[I 2021-04-23 11:00:26,857]\u001b[0m Trial 83 finished with value: 0.946239406779661 and parameters: {'booster': 'gblinear', 'lambda': 6.119582925190483e-05, 'alpha': 3.765740963566455e-05, 'subsample': 0.5753667264871856, 'colsample_bytree': 0.831510054112701}. Best is trial 64 with value: 0.9676587301587302.\u001b[0m\n",
      "\u001b[32m[I 2021-04-23 11:00:26,947]\u001b[0m Trial 84 finished with value: 0.9410752118644069 and parameters: {'booster': 'gblinear', 'lambda': 0.0005795595726606689, 'alpha': 0.004217347811507709, 'subsample': 0.611413190273014, 'colsample_bytree': 0.7634935961588151}. Best is trial 64 with value: 0.9676587301587302.\u001b[0m\n",
      "\u001b[32m[I 2021-04-23 11:00:27,056]\u001b[0m Trial 85 finished with value: 0.9299603174603174 and parameters: {'booster': 'gblinear', 'lambda': 2.0249931151845115e-05, 'alpha': 0.0007714781118110324, 'subsample': 0.7442616556134902, 'colsample_bytree': 0.8747226145815488}. Best is trial 64 with value: 0.9676587301587302.\u001b[0m\n",
      "\u001b[32m[I 2021-04-23 11:00:27,251]\u001b[0m Trial 86 finished with value: 0.921917625923215 and parameters: {'booster': 'gbtree', 'lambda': 0.012935434331840143, 'alpha': 1.3593030722353713e-05, 'subsample': 0.7283011786195401, 'colsample_bytree': 0.8162210339368484, 'max_depth': 5, 'min_child_weight': 9, 'eta': 0.0013395617498352013, 'gamma': 0.0013618672857074134, 'grow_policy': 'depthwise'}. Best is trial 64 with value: 0.9676587301587302.\u001b[0m\n",
      "\u001b[32m[I 2021-04-23 11:00:27,365]\u001b[0m Trial 87 finished with value: 0.9643022563356052 and parameters: {'booster': 'gblinear', 'lambda': 0.00023613158199136696, 'alpha': 0.0001555054340100365, 'subsample': 0.6961776248140107, 'colsample_bytree': 0.7894061845663146}. Best is trial 64 with value: 0.9676587301587302.\u001b[0m\n",
      "\u001b[32m[I 2021-04-23 11:00:27,458]\u001b[0m Trial 88 finished with value: 0.91951871657754 and parameters: {'booster': 'gblinear', 'lambda': 0.00021798693935058458, 'alpha': 8.352074528278853e-05, 'subsample': 0.6885741197261834, 'colsample_bytree': 0.9512255118581545}. Best is trial 64 with value: 0.9676587301587302.\u001b[0m\n",
      "\u001b[32m[I 2021-04-23 11:00:27,545]\u001b[0m Trial 89 finished with value: 0.9373667377398721 and parameters: {'booster': 'gblinear', 'lambda': 0.0009525914304762074, 'alpha': 0.0003723282430925493, 'subsample': 0.6295483894900341, 'colsample_bytree': 0.8900827953394947}. Best is trial 64 with value: 0.9676587301587302.\u001b[0m\n",
      "\u001b[32m[I 2021-04-23 11:00:27,716]\u001b[0m Trial 90 finished with value: 0.9135005655732251 and parameters: {'booster': 'dart', 'lambda': 0.00010833572446835182, 'alpha': 0.00016905165326868928, 'subsample': 0.7095452419114041, 'colsample_bytree': 0.7788182936938709, 'max_depth': 7, 'min_child_weight': 5, 'eta': 1.1177360965699634e-05, 'gamma': 2.5478934622458727e-05, 'grow_policy': 'lossguide', 'sample_type': 'uniform', 'normalize_type': 'tree', 'rate_drop': 2.4026631942280365e-07, 'skip_drop': 5.019111619698095e-07}. Best is trial 64 with value: 0.9676587301587302.\u001b[0m\n",
      "\u001b[32m[I 2021-04-23 11:00:27,822]\u001b[0m Trial 91 finished with value: 0.9212267584199035 and parameters: {'booster': 'gblinear', 'lambda': 0.003854527687036668, 'alpha': 0.0017567830651624543, 'subsample': 0.652693445247687, 'colsample_bytree': 0.8440400024239534}. Best is trial 64 with value: 0.9676587301587302.\u001b[0m\n",
      "\u001b[32m[I 2021-04-23 11:00:27,935]\u001b[0m Trial 92 finished with value: 0.9284482758620689 and parameters: {'booster': 'gblinear', 'lambda': 0.00179107377264956, 'alpha': 0.0007619446165559741, 'subsample': 0.6851625882556377, 'colsample_bytree': 0.7913495843969373}. Best is trial 64 with value: 0.9676587301587302.\u001b[0m\n",
      "\u001b[32m[I 2021-04-23 11:00:28,025]\u001b[0m Trial 93 finished with value: 0.9169098143236074 and parameters: {'booster': 'gblinear', 'lambda': 0.00031881929593535865, 'alpha': 0.00016345100578127965, 'subsample': 0.7606378673385102, 'colsample_bytree': 0.8607731243252581}. Best is trial 64 with value: 0.9676587301587302.\u001b[0m\n"
     ]
    },
    {
     "name": "stderr",
     "output_type": "stream",
     "text": [
      "\u001b[32m[I 2021-04-23 11:00:28,113]\u001b[0m Trial 94 finished with value: 0.9342809917355372 and parameters: {'booster': 'gblinear', 'lambda': 0.005601883939140118, 'alpha': 3.694901912774897e-05, 'subsample': 0.5237609910505121, 'colsample_bytree': 0.8189863700020553}. Best is trial 64 with value: 0.9676587301587302.\u001b[0m\n",
      "\u001b[32m[I 2021-04-23 11:00:28,202]\u001b[0m Trial 95 finished with value: 0.9328165374677002 and parameters: {'booster': 'gblinear', 'lambda': 0.036868245543777656, 'alpha': 0.0025709763502914916, 'subsample': 0.7781552619679776, 'colsample_bytree': 0.9021976465942199}. Best is trial 64 with value: 0.9676587301587302.\u001b[0m\n",
      "\u001b[32m[I 2021-04-23 11:00:28,292]\u001b[0m Trial 96 finished with value: 0.9304600740349022 and parameters: {'booster': 'gblinear', 'lambda': 0.05641013947757112, 'alpha': 0.0005179787313895337, 'subsample': 0.8052259868416923, 'colsample_bytree': 0.7644270461768711}. Best is trial 64 with value: 0.9676587301587302.\u001b[0m\n",
      "\u001b[32m[I 2021-04-23 11:00:28,386]\u001b[0m Trial 97 finished with value: 0.9058413541320943 and parameters: {'booster': 'gblinear', 'lambda': 0.009558966775782806, 'alpha': 0.0012789080357538795, 'subsample': 0.6330330277718162, 'colsample_bytree': 0.7317763680347964}. Best is trial 64 with value: 0.9676587301587302.\u001b[0m\n",
      "\u001b[32m[I 2021-04-23 11:00:28,476]\u001b[0m Trial 98 finished with value: 0.9465454545454546 and parameters: {'booster': 'gblinear', 'lambda': 0.01802002259453552, 'alpha': 6.391171685666343e-05, 'subsample': 0.7380016445894997, 'colsample_bytree': 0.9184389883803601}. Best is trial 64 with value: 0.9676587301587302.\u001b[0m\n",
      "\u001b[32m[I 2021-04-23 11:00:28,567]\u001b[0m Trial 99 finished with value: 0.904684708529081 and parameters: {'booster': 'gblinear', 'lambda': 2.8157134000440072e-05, 'alpha': 0.0002684367445434053, 'subsample': 0.7218945908815819, 'colsample_bytree': 0.8608265773810672}. Best is trial 64 with value: 0.9676587301587302.\u001b[0m\n"
     ]
    },
    {
     "name": "stdout",
     "output_type": "stream",
     "text": [
      "Number of finished trials:  100\n",
      "Best trial:\n",
      "  Value: 0.9676587301587302\n",
      "  Params: \n",
      "    booster: gblinear\n",
      "    lambda: 0.0008375338696627377\n",
      "    alpha: 0.0004483703611751274\n",
      "    subsample: 0.6970073863264397\n",
      "    colsample_bytree: 0.7926213775082267\n"
     ]
    }
   ],
   "source": [
    "study = optuna.create_study(direction=\"maximize\")\n",
    "study.optimize(objective, n_trials=100, timeout=600)\n",
    "\n",
    "print(\"Number of finished trials: \", len(study.trials))\n",
    "print(\"Best trial:\")\n",
    "trial = study.best_trial\n",
    "\n",
    "print(\"  Value: {}\".format(trial.value))\n",
    "print(\"  Params: \")\n",
    "for key, value in trial.params.items():\n",
    "    print(\"    {}: {}\".format(key, value))"
   ]
  },
  {
   "cell_type": "markdown",
   "metadata": {},
   "source": [
    "### Still Light Boost Classifier with hyperparamet optimization in optuna performs better than XGBoost"
   ]
  },
  {
   "cell_type": "markdown",
   "metadata": {},
   "source": [
    "## Now use Cat Boost"
   ]
  },
  {
   "cell_type": "code",
   "execution_count": 129,
   "metadata": {},
   "outputs": [],
   "source": [
    "def objective(trial):\n",
    "#     data, target = load_breast_cancer(return_X_y=True)\n",
    "    train_x, valid_x, train_y, valid_y = train_test_split(X_under, y_under, test_size=0.3)\n",
    "\n",
    "    param = {\n",
    "        \"objective\": trial.suggest_categorical(\"objective\", [\"Logloss\", \"CrossEntropy\"]),\n",
    "        \"colsample_bylevel\": trial.suggest_float(\"colsample_bylevel\", 0.01, 0.1),\n",
    "        \"depth\": trial.suggest_int(\"depth\", 1, 12),\n",
    "        \"boosting_type\": trial.suggest_categorical(\"boosting_type\", [\"Ordered\", \"Plain\"]),\n",
    "        \"bootstrap_type\": trial.suggest_categorical(\n",
    "            \"bootstrap_type\", [\"Bayesian\", \"Bernoulli\", \"MVS\"]\n",
    "        ),\n",
    "        \"used_ram_limit\": \"3gb\",\n",
    "    }\n",
    "\n",
    "    if param[\"bootstrap_type\"] == \"Bayesian\":\n",
    "        param[\"bagging_temperature\"] = trial.suggest_float(\"bagging_temperature\", 0, 10)\n",
    "    elif param[\"bootstrap_type\"] == \"Bernoulli\":\n",
    "        param[\"subsample\"] = trial.suggest_float(\"subsample\", 0.1, 1)\n",
    "\n",
    "    gbm = cb.CatBoostClassifier(**param)\n",
    "\n",
    "    gbm.fit(train_x, train_y, eval_set=[(valid_x, valid_y)], verbose=0, early_stopping_rounds=100)\n",
    "\n",
    "    preds = gbm.predict(valid_x)\n",
    "    pred_labels = np.rint(preds)\n",
    "    accuracy = sklearn.metrics.roc_auc_score(valid_y, pred_labels)\n",
    "    return accuracy\n"
   ]
  },
  {
   "cell_type": "code",
   "execution_count": 130,
   "metadata": {
    "scrolled": true
   },
   "outputs": [
    {
     "name": "stderr",
     "output_type": "stream",
     "text": [
      "\u001b[32m[I 2021-04-23 11:00:51,210]\u001b[0m A new study created in memory with name: no-name-e3b42d44-56cf-4908-bfd8-346c8272455e\u001b[0m\n",
      "\u001b[32m[I 2021-04-23 11:00:51,856]\u001b[0m Trial 0 finished with value: 0.9581863171882876 and parameters: {'objective': 'Logloss', 'colsample_bylevel': 0.04788114711627546, 'depth': 3, 'boosting_type': 'Plain', 'bootstrap_type': 'MVS'}. Best is trial 0 with value: 0.9581863171882876.\u001b[0m\n",
      "\u001b[32m[I 2021-04-23 11:00:54,682]\u001b[0m Trial 1 finished with value: 0.9263926940639269 and parameters: {'objective': 'CrossEntropy', 'colsample_bylevel': 0.01829709860015609, 'depth': 12, 'boosting_type': 'Ordered', 'bootstrap_type': 'MVS'}. Best is trial 0 with value: 0.9581863171882876.\u001b[0m\n",
      "\u001b[32m[I 2021-04-23 11:01:04,393]\u001b[0m Trial 2 finished with value: 0.9083458886910469 and parameters: {'objective': 'CrossEntropy', 'colsample_bylevel': 0.04482942240919251, 'depth': 12, 'boosting_type': 'Ordered', 'bootstrap_type': 'Bernoulli', 'subsample': 0.7550164714235761}. Best is trial 0 with value: 0.9581863171882876.\u001b[0m\n",
      "\u001b[32m[I 2021-04-23 11:01:35,043]\u001b[0m Trial 3 finished with value: 0.9219858156028369 and parameters: {'objective': 'Logloss', 'colsample_bylevel': 0.08597241403343092, 'depth': 11, 'boosting_type': 'Ordered', 'bootstrap_type': 'Bayesian', 'bagging_temperature': 1.1026805310891352}. Best is trial 0 with value: 0.9581863171882876.\u001b[0m\n",
      "\u001b[32m[I 2021-04-23 11:01:38,561]\u001b[0m Trial 4 finished with value: 0.9425675675675674 and parameters: {'objective': 'CrossEntropy', 'colsample_bylevel': 0.06793347320688214, 'depth': 7, 'boosting_type': 'Ordered', 'bootstrap_type': 'MVS'}. Best is trial 0 with value: 0.9581863171882876.\u001b[0m\n",
      "\u001b[32m[I 2021-04-23 11:01:41,308]\u001b[0m Trial 5 finished with value: 0.8993919292426756 and parameters: {'objective': 'Logloss', 'colsample_bylevel': 0.01658348675847106, 'depth': 8, 'boosting_type': 'Ordered', 'bootstrap_type': 'MVS'}. Best is trial 0 with value: 0.9581863171882876.\u001b[0m\n",
      "\u001b[32m[I 2021-04-23 11:01:53,122]\u001b[0m Trial 6 finished with value: 0.9342923976608186 and parameters: {'objective': 'Logloss', 'colsample_bylevel': 0.06297112659526213, 'depth': 10, 'boosting_type': 'Ordered', 'bootstrap_type': 'Bernoulli', 'subsample': 0.35843712612744505}. Best is trial 0 with value: 0.9581863171882876.\u001b[0m\n",
      "\u001b[32m[I 2021-04-23 11:01:54,518]\u001b[0m Trial 7 finished with value: 0.9309950612767514 and parameters: {'objective': 'Logloss', 'colsample_bylevel': 0.08148938797785434, 'depth': 8, 'boosting_type': 'Plain', 'bootstrap_type': 'Bernoulli', 'subsample': 0.7307762834997494}. Best is trial 0 with value: 0.9581863171882876.\u001b[0m\n",
      "\u001b[32m[I 2021-04-23 11:01:56,076]\u001b[0m Trial 8 finished with value: 0.9421768707482994 and parameters: {'objective': 'CrossEntropy', 'colsample_bylevel': 0.07635224827789593, 'depth': 8, 'boosting_type': 'Plain', 'bootstrap_type': 'MVS'}. Best is trial 0 with value: 0.9581863171882876.\u001b[0m\n",
      "\u001b[32m[I 2021-04-23 11:01:57,426]\u001b[0m Trial 9 finished with value: 0.9131158917418458 and parameters: {'objective': 'Logloss', 'colsample_bylevel': 0.06304053208283181, 'depth': 2, 'boosting_type': 'Plain', 'bootstrap_type': 'MVS'}. Best is trial 0 with value: 0.9581863171882876.\u001b[0m\n",
      "\u001b[32m[I 2021-04-23 11:01:58,587]\u001b[0m Trial 10 finished with value: 0.9304395959223212 and parameters: {'objective': 'Logloss', 'colsample_bylevel': 0.040265376415153493, 'depth': 2, 'boosting_type': 'Plain', 'bootstrap_type': 'Bayesian', 'bagging_temperature': 8.877413071726332}. Best is trial 0 with value: 0.9581863171882876.\u001b[0m\n",
      "\u001b[32m[I 2021-04-23 11:01:59,905]\u001b[0m Trial 11 finished with value: 0.9574239304506978 and parameters: {'objective': 'CrossEntropy', 'colsample_bylevel': 0.03587869715320758, 'depth': 5, 'boosting_type': 'Plain', 'bootstrap_type': 'MVS'}. Best is trial 0 with value: 0.9581863171882876.\u001b[0m\n",
      "\u001b[32m[I 2021-04-23 11:02:01,097]\u001b[0m Trial 12 finished with value: 0.9334978746743452 and parameters: {'objective': 'CrossEntropy', 'colsample_bylevel': 0.0333174691547686, 'depth': 4, 'boosting_type': 'Plain', 'bootstrap_type': 'MVS'}. Best is trial 0 with value: 0.9581863171882876.\u001b[0m\n",
      "\u001b[32m[I 2021-04-23 11:02:01,959]\u001b[0m Trial 13 finished with value: 0.9317097780223812 and parameters: {'objective': 'CrossEntropy', 'colsample_bylevel': 0.028850370835088627, 'depth': 4, 'boosting_type': 'Plain', 'bootstrap_type': 'MVS'}. Best is trial 0 with value: 0.9581863171882876.\u001b[0m\n",
      "\u001b[32m[I 2021-04-23 11:02:02,920]\u001b[0m Trial 14 finished with value: 0.9504755807572709 and parameters: {'objective': 'Logloss', 'colsample_bylevel': 0.0495207836574951, 'depth': 4, 'boosting_type': 'Plain', 'bootstrap_type': 'MVS'}. Best is trial 0 with value: 0.9581863171882876.\u001b[0m\n",
      "\u001b[32m[I 2021-04-23 11:02:04,037]\u001b[0m Trial 15 finished with value: 0.9525114155251142 and parameters: {'objective': 'CrossEntropy', 'colsample_bylevel': 0.02723075665402313, 'depth': 5, 'boosting_type': 'Plain', 'bootstrap_type': 'Bayesian', 'bagging_temperature': 9.32199470062782}. Best is trial 0 with value: 0.9581863171882876.\u001b[0m\n",
      "\u001b[32m[I 2021-04-23 11:02:04,663]\u001b[0m Trial 16 finished with value: 0.9397122630737611 and parameters: {'objective': 'Logloss', 'colsample_bylevel': 0.09843233158592293, 'depth': 1, 'boosting_type': 'Plain', 'bootstrap_type': 'MVS'}. Best is trial 0 with value: 0.9581863171882876.\u001b[0m\n",
      "\u001b[32m[I 2021-04-23 11:02:05,768]\u001b[0m Trial 17 finished with value: 0.9067366978762273 and parameters: {'objective': 'CrossEntropy', 'colsample_bylevel': 0.054133467238630106, 'depth': 6, 'boosting_type': 'Plain', 'bootstrap_type': 'MVS'}. Best is trial 0 with value: 0.9581863171882876.\u001b[0m\n",
      "\u001b[32m[I 2021-04-23 11:02:06,628]\u001b[0m Trial 18 finished with value: 0.886392694063927 and parameters: {'objective': 'CrossEntropy', 'colsample_bylevel': 0.01030371398212004, 'depth': 2, 'boosting_type': 'Plain', 'bootstrap_type': 'MVS'}. Best is trial 0 with value: 0.9581863171882876.\u001b[0m\n",
      "\u001b[32m[I 2021-04-23 11:02:07,863]\u001b[0m Trial 19 finished with value: 0.95619321554125 and parameters: {'objective': 'Logloss', 'colsample_bylevel': 0.03953014755832429, 'depth': 3, 'boosting_type': 'Plain', 'bootstrap_type': 'MVS'}. Best is trial 0 with value: 0.9581863171882876.\u001b[0m\n",
      "\u001b[32m[I 2021-04-23 11:02:08,696]\u001b[0m Trial 20 finished with value: 0.9350685057049902 and parameters: {'objective': 'Logloss', 'colsample_bylevel': 0.056971783546170746, 'depth': 6, 'boosting_type': 'Plain', 'bootstrap_type': 'Bayesian', 'bagging_temperature': 0.05588655590894831}. Best is trial 0 with value: 0.9581863171882876.\u001b[0m\n",
      "\u001b[32m[I 2021-04-23 11:02:09,699]\u001b[0m Trial 21 finished with value: 0.9457236842105263 and parameters: {'objective': 'Logloss', 'colsample_bylevel': 0.039055971260331224, 'depth': 3, 'boosting_type': 'Plain', 'bootstrap_type': 'MVS'}. Best is trial 0 with value: 0.9581863171882876.\u001b[0m\n",
      "\u001b[32m[I 2021-04-23 11:02:10,559]\u001b[0m Trial 22 finished with value: 0.9256756756756757 and parameters: {'objective': 'Logloss', 'colsample_bylevel': 0.03617589636941822, 'depth': 3, 'boosting_type': 'Plain', 'bootstrap_type': 'MVS'}. Best is trial 0 with value: 0.9581863171882876.\u001b[0m\n",
      "\u001b[32m[I 2021-04-23 11:02:11,315]\u001b[0m Trial 23 finished with value: 0.9258392955421024 and parameters: {'objective': 'Logloss', 'colsample_bylevel': 0.046632188186078595, 'depth': 1, 'boosting_type': 'Plain', 'bootstrap_type': 'MVS'}. Best is trial 0 with value: 0.9581863171882876.\u001b[0m\n",
      "\u001b[32m[I 2021-04-23 11:02:12,328]\u001b[0m Trial 24 finished with value: 0.9483516483516483 and parameters: {'objective': 'Logloss', 'colsample_bylevel': 0.025128034133747406, 'depth': 5, 'boosting_type': 'Plain', 'bootstrap_type': 'MVS'}. Best is trial 0 with value: 0.9581863171882876.\u001b[0m\n",
      "\u001b[32m[I 2021-04-23 11:02:13,496]\u001b[0m Trial 25 finished with value: 0.9287540519563531 and parameters: {'objective': 'Logloss', 'colsample_bylevel': 0.050903179508315625, 'depth': 3, 'boosting_type': 'Plain', 'bootstrap_type': 'Bernoulli', 'subsample': 0.13170036738343066}. Best is trial 0 with value: 0.9581863171882876.\u001b[0m\n",
      "\u001b[32m[I 2021-04-23 11:02:14,297]\u001b[0m Trial 26 finished with value: 0.9417032163742691 and parameters: {'objective': 'Logloss', 'colsample_bylevel': 0.04334118408635443, 'depth': 5, 'boosting_type': 'Plain', 'bootstrap_type': 'MVS'}. Best is trial 0 with value: 0.9581863171882876.\u001b[0m\n"
     ]
    },
    {
     "name": "stderr",
     "output_type": "stream",
     "text": [
      "\u001b[32m[I 2021-04-23 11:02:15,222]\u001b[0m Trial 27 finished with value: 0.933647338576916 and parameters: {'objective': 'CrossEntropy', 'colsample_bylevel': 0.03267992159867177, 'depth': 4, 'boosting_type': 'Plain', 'bootstrap_type': 'MVS'}. Best is trial 0 with value: 0.9581863171882876.\u001b[0m\n",
      "\u001b[32m[I 2021-04-23 11:02:16,060]\u001b[0m Trial 28 finished with value: 0.9190978404784734 and parameters: {'objective': 'Logloss', 'colsample_bylevel': 0.01950203475195217, 'depth': 1, 'boosting_type': 'Plain', 'bootstrap_type': 'MVS'}. Best is trial 0 with value: 0.9581863171882876.\u001b[0m\n",
      "\u001b[32m[I 2021-04-23 11:02:17,199]\u001b[0m Trial 29 finished with value: 0.9465201465201466 and parameters: {'objective': 'CrossEntropy', 'colsample_bylevel': 0.05816625366860691, 'depth': 3, 'boosting_type': 'Plain', 'bootstrap_type': 'MVS'}. Best is trial 0 with value: 0.9581863171882876.\u001b[0m\n",
      "\u001b[32m[I 2021-04-23 11:02:18,075]\u001b[0m Trial 30 finished with value: 0.9219513308679177 and parameters: {'objective': 'CrossEntropy', 'colsample_bylevel': 0.01920929397937202, 'depth': 7, 'boosting_type': 'Plain', 'bootstrap_type': 'MVS'}. Best is trial 0 with value: 0.9581863171882876.\u001b[0m\n",
      "\u001b[32m[I 2021-04-23 11:02:19,144]\u001b[0m Trial 31 finished with value: 0.932876712328767 and parameters: {'objective': 'CrossEntropy', 'colsample_bylevel': 0.02745909917631102, 'depth': 5, 'boosting_type': 'Plain', 'bootstrap_type': 'Bayesian', 'bagging_temperature': 9.97168605781796}. Best is trial 0 with value: 0.9581863171882876.\u001b[0m\n",
      "\u001b[32m[I 2021-04-23 11:02:20,039]\u001b[0m Trial 32 finished with value: 0.9298518383025426 and parameters: {'objective': 'CrossEntropy', 'colsample_bylevel': 0.010479840290162065, 'depth': 5, 'boosting_type': 'Plain', 'bootstrap_type': 'Bayesian', 'bagging_temperature': 6.2783432428911095}. Best is trial 0 with value: 0.9581863171882876.\u001b[0m\n",
      "\u001b[32m[I 2021-04-23 11:02:21,422]\u001b[0m Trial 33 finished with value: 0.9491622152216592 and parameters: {'objective': 'CrossEntropy', 'colsample_bylevel': 0.04402636291731372, 'depth': 6, 'boosting_type': 'Plain', 'bootstrap_type': 'Bayesian', 'bagging_temperature': 5.431017708456979}. Best is trial 0 with value: 0.9581863171882876.\u001b[0m\n",
      "\u001b[32m[I 2021-04-23 11:02:24,581]\u001b[0m Trial 34 finished with value: 0.935810810810811 and parameters: {'objective': 'CrossEntropy', 'colsample_bylevel': 0.03187032175631167, 'depth': 4, 'boosting_type': 'Ordered', 'bootstrap_type': 'Bayesian', 'bagging_temperature': 7.96028172134797}. Best is trial 0 with value: 0.9581863171882876.\u001b[0m\n",
      "\u001b[32m[I 2021-04-23 11:02:25,487]\u001b[0m Trial 35 finished with value: 0.9300388927018988 and parameters: {'objective': 'CrossEntropy', 'colsample_bylevel': 0.023743437673994595, 'depth': 2, 'boosting_type': 'Plain', 'bootstrap_type': 'Bayesian', 'bagging_temperature': 2.6784012337951593}. Best is trial 0 with value: 0.9581863171882876.\u001b[0m\n",
      "\u001b[32m[I 2021-04-23 11:02:27,343]\u001b[0m Trial 36 finished with value: 0.9316174788377946 and parameters: {'objective': 'CrossEntropy', 'colsample_bylevel': 0.03733260176308106, 'depth': 3, 'boosting_type': 'Ordered', 'bootstrap_type': 'Bernoulli', 'subsample': 0.9994330445126354}. Best is trial 0 with value: 0.9581863171882876.\u001b[0m\n",
      "\u001b[32m[I 2021-04-23 11:02:28,425]\u001b[0m Trial 37 finished with value: 0.9283882783882783 and parameters: {'objective': 'Logloss', 'colsample_bylevel': 0.04116083981720514, 'depth': 5, 'boosting_type': 'Plain', 'bootstrap_type': 'Bayesian', 'bagging_temperature': 7.254454507502791}. Best is trial 0 with value: 0.9581863171882876.\u001b[0m\n",
      "\u001b[32m[I 2021-04-23 11:02:31,149]\u001b[0m Trial 38 finished with value: 0.9423862645182023 and parameters: {'objective': 'CrossEntropy', 'colsample_bylevel': 0.048221512503522246, 'depth': 7, 'boosting_type': 'Ordered', 'bootstrap_type': 'Bernoulli', 'subsample': 0.11331272158864941}. Best is trial 0 with value: 0.9581863171882876.\u001b[0m\n",
      "\u001b[32m[I 2021-04-23 11:02:35,525]\u001b[0m Trial 39 finished with value: 0.9598538479104817 and parameters: {'objective': 'Logloss', 'colsample_bylevel': 0.06865261839072263, 'depth': 9, 'boosting_type': 'Plain', 'bootstrap_type': 'Bayesian', 'bagging_temperature': 3.402156932780583}. Best is trial 39 with value: 0.9598538479104817.\u001b[0m\n",
      "\u001b[32m[I 2021-04-23 11:02:39,404]\u001b[0m Trial 40 finished with value: 0.941117216117216 and parameters: {'objective': 'Logloss', 'colsample_bylevel': 0.07058984294787578, 'depth': 10, 'boosting_type': 'Plain', 'bootstrap_type': 'MVS'}. Best is trial 39 with value: 0.9598538479104817.\u001b[0m\n",
      "\u001b[32m[I 2021-04-23 11:02:42,944]\u001b[0m Trial 41 finished with value: 0.9280640250934084 and parameters: {'objective': 'Logloss', 'colsample_bylevel': 0.06261172181364902, 'depth': 12, 'boosting_type': 'Plain', 'bootstrap_type': 'Bayesian', 'bagging_temperature': 2.9779388530944506}. Best is trial 39 with value: 0.9598538479104817.\u001b[0m\n",
      "\u001b[32m[I 2021-04-23 11:02:45,555]\u001b[0m Trial 42 finished with value: 0.9299086757990868 and parameters: {'objective': 'Logloss', 'colsample_bylevel': 0.0879411105419731, 'depth': 9, 'boosting_type': 'Plain', 'bootstrap_type': 'Bayesian', 'bagging_temperature': 3.748065433112085}. Best is trial 39 with value: 0.9598538479104817.\u001b[0m\n",
      "\u001b[32m[I 2021-04-23 11:02:54,181]\u001b[0m Trial 43 finished with value: 0.9418721461187214 and parameters: {'objective': 'Logloss', 'colsample_bylevel': 0.07095833896583462, 'depth': 11, 'boosting_type': 'Plain', 'bootstrap_type': 'Bayesian', 'bagging_temperature': 4.691390452874829}. Best is trial 39 with value: 0.9598538479104817.\u001b[0m\n",
      "\u001b[32m[I 2021-04-23 11:02:55,991]\u001b[0m Trial 44 finished with value: 0.9218143633292243 and parameters: {'objective': 'Logloss', 'colsample_bylevel': 0.07646430467694627, 'depth': 9, 'boosting_type': 'Plain', 'bootstrap_type': 'Bayesian', 'bagging_temperature': 1.197168836610718}. Best is trial 39 with value: 0.9598538479104817.\u001b[0m\n",
      "\u001b[32m[I 2021-04-23 11:02:57,244]\u001b[0m Trial 45 finished with value: 0.9507326007326007 and parameters: {'objective': 'Logloss', 'colsample_bylevel': 0.03458344425858599, 'depth': 7, 'boosting_type': 'Plain', 'bootstrap_type': 'Bayesian', 'bagging_temperature': 9.935654209880285}. Best is trial 39 with value: 0.9598538479104817.\u001b[0m\n",
      "\u001b[32m[I 2021-04-23 11:02:58,134]\u001b[0m Trial 46 finished with value: 0.9282648401826485 and parameters: {'objective': 'Logloss', 'colsample_bylevel': 0.015562081820892033, 'depth': 6, 'boosting_type': 'Plain', 'bootstrap_type': 'MVS'}. Best is trial 39 with value: 0.9598538479104817.\u001b[0m\n",
      "\u001b[32m[I 2021-04-23 11:03:00,691]\u001b[0m Trial 47 finished with value: 0.9162190699169077 and parameters: {'objective': 'CrossEntropy', 'colsample_bylevel': 0.05314303012972761, 'depth': 4, 'boosting_type': 'Ordered', 'bootstrap_type': 'MVS'}. Best is trial 39 with value: 0.9598538479104817.\u001b[0m\n",
      "\u001b[32m[I 2021-04-23 11:03:01,646]\u001b[0m Trial 48 finished with value: 0.9248168498168498 and parameters: {'objective': 'Logloss', 'colsample_bylevel': 0.029827602681862485, 'depth': 2, 'boosting_type': 'Plain', 'bootstrap_type': 'Bayesian', 'bagging_temperature': 4.518684400071347}. Best is trial 39 with value: 0.9598538479104817.\u001b[0m\n",
      "\u001b[32m[I 2021-04-23 11:03:03,161]\u001b[0m Trial 49 finished with value: 0.9651440102733443 and parameters: {'objective': 'CrossEntropy', 'colsample_bylevel': 0.05875450572380794, 'depth': 8, 'boosting_type': 'Plain', 'bootstrap_type': 'MVS'}. Best is trial 49 with value: 0.9651440102733443.\u001b[0m\n",
      "\u001b[32m[I 2021-04-23 11:03:04,723]\u001b[0m Trial 50 finished with value: 0.9404609475032011 and parameters: {'objective': 'Logloss', 'colsample_bylevel': 0.0605977710465662, 'depth': 8, 'boosting_type': 'Plain', 'bootstrap_type': 'MVS'}. Best is trial 49 with value: 0.9651440102733443.\u001b[0m\n",
      "\u001b[32m[I 2021-04-23 11:03:06,242]\u001b[0m Trial 51 finished with value: 0.9326786937656999 and parameters: {'objective': 'CrossEntropy', 'colsample_bylevel': 0.0658594293396154, 'depth': 9, 'boosting_type': 'Plain', 'bootstrap_type': 'MVS'}. Best is trial 49 with value: 0.9651440102733443.\u001b[0m\n",
      "\u001b[32m[I 2021-04-23 11:03:07,352]\u001b[0m Trial 52 finished with value: 0.9472049689440993 and parameters: {'objective': 'CrossEntropy', 'colsample_bylevel': 0.05126200434699568, 'depth': 8, 'boosting_type': 'Plain', 'bootstrap_type': 'MVS'}. Best is trial 49 with value: 0.9651440102733443.\u001b[0m\n"
     ]
    },
    {
     "name": "stderr",
     "output_type": "stream",
     "text": [
      "\u001b[32m[I 2021-04-23 11:03:08,673]\u001b[0m Trial 53 finished with value: 0.9139254385964913 and parameters: {'objective': 'CrossEntropy', 'colsample_bylevel': 0.05574549475934827, 'depth': 10, 'boosting_type': 'Plain', 'bootstrap_type': 'MVS'}. Best is trial 49 with value: 0.9651440102733443.\u001b[0m\n",
      "\u001b[32m[I 2021-04-23 11:03:10,097]\u001b[0m Trial 54 finished with value: 0.9435897435897436 and parameters: {'objective': 'CrossEntropy', 'colsample_bylevel': 0.046221833380244846, 'depth': 9, 'boosting_type': 'Plain', 'bootstrap_type': 'MVS'}. Best is trial 49 with value: 0.9651440102733443.\u001b[0m\n",
      "\u001b[32m[I 2021-04-23 11:03:11,203]\u001b[0m Trial 55 finished with value: 0.9443223443223442 and parameters: {'objective': 'CrossEntropy', 'colsample_bylevel': 0.04040848114131165, 'depth': 7, 'boosting_type': 'Plain', 'bootstrap_type': 'MVS'}. Best is trial 49 with value: 0.9651440102733443.\u001b[0m\n",
      "\u001b[32m[I 2021-04-23 11:03:12,996]\u001b[0m Trial 56 finished with value: 0.9404152185842328 and parameters: {'objective': 'CrossEntropy', 'colsample_bylevel': 0.06484775084860504, 'depth': 8, 'boosting_type': 'Plain', 'bootstrap_type': 'Bernoulli', 'subsample': 0.4415233634384911}. Best is trial 49 with value: 0.9651440102733443.\u001b[0m\n",
      "\u001b[32m[I 2021-04-23 11:03:14,054]\u001b[0m Trial 57 finished with value: 0.9354654613523262 and parameters: {'objective': 'Logloss', 'colsample_bylevel': 0.0771010339616912, 'depth': 6, 'boosting_type': 'Plain', 'bootstrap_type': 'MVS'}. Best is trial 49 with value: 0.9651440102733443.\u001b[0m\n",
      "\u001b[32m[I 2021-04-23 11:03:16,074]\u001b[0m Trial 58 finished with value: 0.9172149122807017 and parameters: {'objective': 'CrossEntropy', 'colsample_bylevel': 0.05861906157815697, 'depth': 11, 'boosting_type': 'Plain', 'bootstrap_type': 'MVS'}. Best is trial 49 with value: 0.9651440102733443.\u001b[0m\n",
      "\u001b[32m[I 2021-04-23 11:03:17,099]\u001b[0m Trial 59 finished with value: 0.9557748538011696 and parameters: {'objective': 'Logloss', 'colsample_bylevel': 0.02477245802551772, 'depth': 3, 'boosting_type': 'Plain', 'bootstrap_type': 'MVS'}. Best is trial 49 with value: 0.9651440102733443.\u001b[0m\n",
      "\u001b[32m[I 2021-04-23 11:03:17,966]\u001b[0m Trial 60 finished with value: 0.9412198267919661 and parameters: {'objective': 'Logloss', 'colsample_bylevel': 0.06959205878628137, 'depth': 3, 'boosting_type': 'Plain', 'bootstrap_type': 'MVS'}. Best is trial 49 with value: 0.9651440102733443.\u001b[0m\n",
      "\u001b[32m[I 2021-04-23 11:03:18,724]\u001b[0m Trial 61 finished with value: 0.9342026996110729 and parameters: {'objective': 'Logloss', 'colsample_bylevel': 0.023161599127071483, 'depth': 2, 'boosting_type': 'Plain', 'bootstrap_type': 'MVS'}. Best is trial 49 with value: 0.9651440102733443.\u001b[0m\n",
      "\u001b[32m[I 2021-04-23 11:03:19,787]\u001b[0m Trial 62 finished with value: 0.9433479532163743 and parameters: {'objective': 'Logloss', 'colsample_bylevel': 0.027876879243982813, 'depth': 4, 'boosting_type': 'Plain', 'bootstrap_type': 'MVS'}. Best is trial 49 with value: 0.9651440102733443.\u001b[0m\n",
      "\u001b[32m[I 2021-04-23 11:03:20,493]\u001b[0m Trial 63 finished with value: 0.9338450292397661 and parameters: {'objective': 'Logloss', 'colsample_bylevel': 0.03702797178035305, 'depth': 3, 'boosting_type': 'Plain', 'bootstrap_type': 'MVS'}. Best is trial 49 with value: 0.9651440102733443.\u001b[0m\n",
      "\u001b[32m[I 2021-04-23 11:03:21,257]\u001b[0m Trial 64 finished with value: 0.9212757182788801 and parameters: {'objective': 'Logloss', 'colsample_bylevel': 0.0429610042717168, 'depth': 5, 'boosting_type': 'Plain', 'bootstrap_type': 'MVS'}. Best is trial 49 with value: 0.9651440102733443.\u001b[0m\n",
      "\u001b[32m[I 2021-04-23 11:03:22,085]\u001b[0m Trial 65 finished with value: 0.9161172161172161 and parameters: {'objective': 'Logloss', 'colsample_bylevel': 0.01620742533727984, 'depth': 1, 'boosting_type': 'Plain', 'bootstrap_type': 'MVS'}. Best is trial 49 with value: 0.9651440102733443.\u001b[0m\n",
      "\u001b[32m[I 2021-04-23 11:03:23,122]\u001b[0m Trial 66 finished with value: 0.9289121262153732 and parameters: {'objective': 'CrossEntropy', 'colsample_bylevel': 0.03167795913466313, 'depth': 4, 'boosting_type': 'Plain', 'bootstrap_type': 'Bayesian', 'bagging_temperature': 1.65626589277894}. Best is trial 49 with value: 0.9651440102733443.\u001b[0m\n",
      "\u001b[32m[I 2021-04-23 11:03:24,094]\u001b[0m Trial 67 finished with value: 0.9482805926467898 and parameters: {'objective': 'Logloss', 'colsample_bylevel': 0.021401749966425465, 'depth': 10, 'boosting_type': 'Plain', 'bootstrap_type': 'MVS'}. Best is trial 49 with value: 0.9651440102733443.\u001b[0m\n",
      "\u001b[32m[I 2021-04-23 11:03:25,106]\u001b[0m Trial 68 finished with value: 0.941662080352229 and parameters: {'objective': 'CrossEntropy', 'colsample_bylevel': 0.025857133583772243, 'depth': 2, 'boosting_type': 'Plain', 'bootstrap_type': 'MVS'}. Best is trial 49 with value: 0.9651440102733443.\u001b[0m\n",
      "\u001b[32m[I 2021-04-23 11:03:25,950]\u001b[0m Trial 69 finished with value: 0.9176470588235295 and parameters: {'objective': 'Logloss', 'colsample_bylevel': 0.013590644472315146, 'depth': 3, 'boosting_type': 'Plain', 'bootstrap_type': 'Bayesian', 'bagging_temperature': 5.538638589931212}. Best is trial 49 with value: 0.9651440102733443.\u001b[0m\n",
      "\u001b[32m[I 2021-04-23 11:03:27,471]\u001b[0m Trial 70 finished with value: 0.934656096778628 and parameters: {'objective': 'CrossEntropy', 'colsample_bylevel': 0.048635401179715654, 'depth': 4, 'boosting_type': 'Ordered', 'bootstrap_type': 'MVS'}. Best is trial 49 with value: 0.9651440102733443.\u001b[0m\n",
      "\u001b[32m[I 2021-04-23 11:03:28,801]\u001b[0m Trial 71 finished with value: 0.9330897465174699 and parameters: {'objective': 'Logloss', 'colsample_bylevel': 0.03492186051743931, 'depth': 7, 'boosting_type': 'Plain', 'bootstrap_type': 'Bayesian', 'bagging_temperature': 9.969558726085431}. Best is trial 49 with value: 0.9651440102733443.\u001b[0m\n",
      "\u001b[32m[I 2021-04-23 11:03:30,024]\u001b[0m Trial 72 finished with value: 0.930312629114447 and parameters: {'objective': 'Logloss', 'colsample_bylevel': 0.03474095054742137, 'depth': 8, 'boosting_type': 'Plain', 'bootstrap_type': 'Bayesian', 'bagging_temperature': 8.891373879696811}. Best is trial 49 with value: 0.9651440102733443.\u001b[0m\n",
      "\u001b[32m[I 2021-04-23 11:03:31,445]\u001b[0m Trial 73 finished with value: 0.9344119932355226 and parameters: {'objective': 'Logloss', 'colsample_bylevel': 0.03925191940604059, 'depth': 7, 'boosting_type': 'Plain', 'bootstrap_type': 'Bayesian', 'bagging_temperature': 8.969054328994}. Best is trial 49 with value: 0.9651440102733443.\u001b[0m\n",
      "\u001b[32m[I 2021-04-23 11:03:32,611]\u001b[0m Trial 74 finished with value: 0.9121621621621622 and parameters: {'objective': 'Logloss', 'colsample_bylevel': 0.03153161506324625, 'depth': 5, 'boosting_type': 'Plain', 'bootstrap_type': 'Bayesian', 'bagging_temperature': 6.91262755519827}. Best is trial 49 with value: 0.9651440102733443.\u001b[0m\n",
      "\u001b[32m[I 2021-04-23 11:03:33,872]\u001b[0m Trial 75 finished with value: 0.936392694063927 and parameters: {'objective': 'Logloss', 'colsample_bylevel': 0.04182370128879846, 'depth': 6, 'boosting_type': 'Plain', 'bootstrap_type': 'Bayesian', 'bagging_temperature': 3.460606592014401}. Best is trial 49 with value: 0.9651440102733443.\u001b[0m\n",
      "\u001b[32m[I 2021-04-23 11:03:35,935]\u001b[0m Trial 76 finished with value: 0.9560810810810809 and parameters: {'objective': 'Logloss', 'colsample_bylevel': 0.04634736465834914, 'depth': 9, 'boosting_type': 'Plain', 'bootstrap_type': 'Bayesian', 'bagging_temperature': 9.789338166819778}. Best is trial 49 with value: 0.9651440102733443.\u001b[0m\n",
      "\u001b[32m[I 2021-04-23 11:03:37,236]\u001b[0m Trial 77 finished with value: 0.9365753424657534 and parameters: {'objective': 'Logloss', 'colsample_bylevel': 0.05315098554950044, 'depth': 9, 'boosting_type': 'Plain', 'bootstrap_type': 'Bernoulli', 'subsample': 0.997375265633162}. Best is trial 49 with value: 0.9651440102733443.\u001b[0m\n",
      "\u001b[32m[I 2021-04-23 11:03:38,535]\u001b[0m Trial 78 finished with value: 0.944078947368421 and parameters: {'objective': 'Logloss', 'colsample_bylevel': 0.046056356811572545, 'depth': 9, 'boosting_type': 'Plain', 'bootstrap_type': 'Bayesian', 'bagging_temperature': 8.070493067595418}. Best is trial 49 with value: 0.9651440102733443.\u001b[0m\n",
      "\u001b[32m[I 2021-04-23 11:03:39,945]\u001b[0m Trial 79 finished with value: 0.94294624839479 and parameters: {'objective': 'CrossEntropy', 'colsample_bylevel': 0.04991377491276294, 'depth': 10, 'boosting_type': 'Plain', 'bootstrap_type': 'MVS'}. Best is trial 49 with value: 0.9651440102733443.\u001b[0m\n"
     ]
    },
    {
     "name": "stderr",
     "output_type": "stream",
     "text": [
      "\u001b[32m[I 2021-04-23 11:03:40,632]\u001b[0m Trial 80 finished with value: 0.9290540540540541 and parameters: {'objective': 'Logloss', 'colsample_bylevel': 0.074073152062071, 'depth': 3, 'boosting_type': 'Plain', 'bootstrap_type': 'Bayesian', 'bagging_temperature': 2.108009528438484}. Best is trial 49 with value: 0.9651440102733443.\u001b[0m\n",
      "\u001b[32m[I 2021-04-23 11:03:41,842]\u001b[0m Trial 81 finished with value: 0.9471856725146198 and parameters: {'objective': 'Logloss', 'colsample_bylevel': 0.029046286242061826, 'depth': 7, 'boosting_type': 'Plain', 'bootstrap_type': 'Bayesian', 'bagging_temperature': 9.914884615810237}. Best is trial 49 with value: 0.9651440102733443.\u001b[0m\n",
      "\u001b[32m[I 2021-04-23 11:03:42,822]\u001b[0m Trial 82 finished with value: 0.930921052631579 and parameters: {'objective': 'Logloss', 'colsample_bylevel': 0.04475824017925983, 'depth': 8, 'boosting_type': 'Plain', 'bootstrap_type': 'Bayesian', 'bagging_temperature': 9.600039992273624}. Best is trial 49 with value: 0.9651440102733443.\u001b[0m\n",
      "\u001b[32m[I 2021-04-23 11:03:44,212]\u001b[0m Trial 83 finished with value: 0.9358108108108109 and parameters: {'objective': 'Logloss', 'colsample_bylevel': 0.0361019034231797, 'depth': 8, 'boosting_type': 'Plain', 'bootstrap_type': 'Bayesian', 'bagging_temperature': 9.276340838350661}. Best is trial 49 with value: 0.9651440102733443.\u001b[0m\n",
      "\u001b[32m[I 2021-04-23 11:03:45,657]\u001b[0m Trial 84 finished with value: 0.9412840680446314 and parameters: {'objective': 'Logloss', 'colsample_bylevel': 0.03390003051813894, 'depth': 9, 'boosting_type': 'Plain', 'bootstrap_type': 'Bayesian', 'bagging_temperature': 8.062225352984953}. Best is trial 49 with value: 0.9651440102733443.\u001b[0m\n",
      "\u001b[32m[I 2021-04-23 11:03:46,672]\u001b[0m Trial 85 finished with value: 0.9301262118163527 and parameters: {'objective': 'Logloss', 'colsample_bylevel': 0.021760584292914012, 'depth': 7, 'boosting_type': 'Plain', 'bootstrap_type': 'Bayesian', 'bagging_temperature': 4.143022459877774}. Best is trial 49 with value: 0.9651440102733443.\u001b[0m\n",
      "\u001b[32m[I 2021-04-23 11:03:47,975]\u001b[0m Trial 86 finished with value: 0.9587279798673073 and parameters: {'objective': 'CrossEntropy', 'colsample_bylevel': 0.060652727033817654, 'depth': 6, 'boosting_type': 'Plain', 'bootstrap_type': 'MVS'}. Best is trial 49 with value: 0.9651440102733443.\u001b[0m\n",
      "\u001b[32m[I 2021-04-23 11:03:48,817]\u001b[0m Trial 87 finished with value: 0.9144869215291751 and parameters: {'objective': 'CrossEntropy', 'colsample_bylevel': 0.05410545307998106, 'depth': 5, 'boosting_type': 'Plain', 'bootstrap_type': 'MVS'}. Best is trial 49 with value: 0.9651440102733443.\u001b[0m\n",
      "\u001b[32m[I 2021-04-23 11:03:49,430]\u001b[0m Trial 88 finished with value: 0.9236327053228461 and parameters: {'objective': 'CrossEntropy', 'colsample_bylevel': 0.06019483902178408, 'depth': 4, 'boosting_type': 'Plain', 'bootstrap_type': 'MVS'}. Best is trial 49 with value: 0.9651440102733443.\u001b[0m\n",
      "\u001b[32m[I 2021-04-23 11:03:54,640]\u001b[0m Trial 89 finished with value: 0.9296347031963471 and parameters: {'objective': 'CrossEntropy', 'colsample_bylevel': 0.06787028938308476, 'depth': 6, 'boosting_type': 'Ordered', 'bootstrap_type': 'MVS'}. Best is trial 49 with value: 0.9651440102733443.\u001b[0m\n",
      "\u001b[32m[I 2021-04-23 11:03:55,543]\u001b[0m Trial 90 finished with value: 0.937762941284068 and parameters: {'objective': 'CrossEntropy', 'colsample_bylevel': 0.061309824224727236, 'depth': 6, 'boosting_type': 'Plain', 'bootstrap_type': 'MVS'}. Best is trial 49 with value: 0.9651440102733443.\u001b[0m\n",
      "\u001b[32m[I 2021-04-23 11:03:56,255]\u001b[0m Trial 91 finished with value: 0.910453216374269 and parameters: {'objective': 'CrossEntropy', 'colsample_bylevel': 0.03818612555507979, 'depth': 5, 'boosting_type': 'Plain', 'bootstrap_type': 'MVS'}. Best is trial 49 with value: 0.9651440102733443.\u001b[0m\n",
      "\u001b[32m[I 2021-04-23 11:03:57,440]\u001b[0m Trial 92 finished with value: 0.9321097566543396 and parameters: {'objective': 'CrossEntropy', 'colsample_bylevel': 0.05687428333793547, 'depth': 8, 'boosting_type': 'Plain', 'bootstrap_type': 'MVS'}. Best is trial 49 with value: 0.9651440102733443.\u001b[0m\n",
      "\u001b[32m[I 2021-04-23 11:03:58,515]\u001b[0m Trial 93 finished with value: 0.9246430702841666 and parameters: {'objective': 'Logloss', 'colsample_bylevel': 0.026714930806512095, 'depth': 6, 'boosting_type': 'Plain', 'bootstrap_type': 'MVS'}. Best is trial 49 with value: 0.9651440102733443.\u001b[0m\n",
      "\u001b[32m[I 2021-04-23 11:03:59,550]\u001b[0m Trial 94 finished with value: 0.9413793103448276 and parameters: {'objective': 'CrossEntropy', 'colsample_bylevel': 0.06449858626219623, 'depth': 2, 'boosting_type': 'Plain', 'bootstrap_type': 'Bayesian', 'bagging_temperature': 8.47665774334487}. Best is trial 49 with value: 0.9651440102733443.\u001b[0m\n",
      "\u001b[32m[I 2021-04-23 11:04:00,209]\u001b[0m Trial 95 finished with value: 0.9054054054054055 and parameters: {'objective': 'Logloss', 'colsample_bylevel': 0.051643688436924656, 'depth': 3, 'boosting_type': 'Plain', 'bootstrap_type': 'MVS'}. Best is trial 49 with value: 0.9651440102733443.\u001b[0m\n",
      "\u001b[32m[I 2021-04-23 11:04:01,220]\u001b[0m Trial 96 finished with value: 0.9361959548920239 and parameters: {'objective': 'CrossEntropy', 'colsample_bylevel': 0.030328818298243118, 'depth': 4, 'boosting_type': 'Plain', 'bootstrap_type': 'Bernoulli', 'subsample': 0.6942827419988522}. Best is trial 49 with value: 0.9651440102733443.\u001b[0m\n",
      "\u001b[32m[I 2021-04-23 11:04:02,203]\u001b[0m Trial 97 finished with value: 0.9220426425603799 and parameters: {'objective': 'Logloss', 'colsample_bylevel': 0.0409650385279749, 'depth': 9, 'boosting_type': 'Plain', 'bootstrap_type': 'MVS'}. Best is trial 49 with value: 0.9651440102733443.\u001b[0m\n",
      "\u001b[32m[I 2021-04-23 11:04:03,407]\u001b[0m Trial 98 finished with value: 0.9339052848318463 and parameters: {'objective': 'Logloss', 'colsample_bylevel': 0.04634446371446494, 'depth': 8, 'boosting_type': 'Plain', 'bootstrap_type': 'Bayesian', 'bagging_temperature': 0.3532069903288422}. Best is trial 49 with value: 0.9651440102733443.\u001b[0m\n",
      "\u001b[32m[I 2021-04-23 11:04:04,512]\u001b[0m Trial 99 finished with value: 0.9290540540540541 and parameters: {'objective': 'CrossEntropy', 'colsample_bylevel': 0.02414187072427513, 'depth': 7, 'boosting_type': 'Plain', 'bootstrap_type': 'MVS'}. Best is trial 49 with value: 0.9651440102733443.\u001b[0m\n"
     ]
    },
    {
     "name": "stdout",
     "output_type": "stream",
     "text": [
      "Number of finished trials: 100\n",
      "Best trial:\n",
      "  Value: 0.9651440102733443\n",
      "  Params: \n",
      "    objective: CrossEntropy\n",
      "    colsample_bylevel: 0.05875450572380794\n",
      "    depth: 8\n",
      "    boosting_type: Plain\n",
      "    bootstrap_type: MVS\n"
     ]
    }
   ],
   "source": [
    "study = optuna.create_study(direction=\"maximize\")\n",
    "study.optimize(objective, n_trials=100, timeout=600)\n",
    "\n",
    "print(\"Number of finished trials: {}\".format(len(study.trials)))\n",
    "\n",
    "print(\"Best trial:\")\n",
    "trial = study.best_trial\n",
    "\n",
    "print(\"  Value: {}\".format(trial.value))\n",
    "\n",
    "print(\"  Params: \")\n",
    "for key, value in trial.params.items():\n",
    "    print(\"    {}: {}\".format(key, value))"
   ]
  },
  {
   "cell_type": "code",
   "execution_count": null,
   "metadata": {},
   "outputs": [],
   "source": []
  },
  {
   "cell_type": "code",
   "execution_count": null,
   "metadata": {},
   "outputs": [],
   "source": []
  },
  {
   "cell_type": "code",
   "execution_count": null,
   "metadata": {},
   "outputs": [],
   "source": []
  }
 ],
 "metadata": {
  "kernelspec": {
   "display_name": "Python 3",
   "language": "python",
   "name": "python3"
  },
  "language_info": {
   "codemirror_mode": {
    "name": "ipython",
    "version": 3
   },
   "file_extension": ".py",
   "mimetype": "text/x-python",
   "name": "python",
   "nbconvert_exporter": "python",
   "pygments_lexer": "ipython3",
   "version": "3.8.5"
  }
 },
 "nbformat": 4,
 "nbformat_minor": 4
}
